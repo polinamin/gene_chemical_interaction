{
 "cells": [
  {
   "cell_type": "markdown",
   "metadata": {
    "id": "4tC_GM1gVNL2"
   },
   "source": [
    "\n",
    "#**Exploring relationships betweeen Genes and Chemicals**\n",
    "Run this section before exploring further. (Please note that some modules make take time to load)\n",
    "---\n",
    "\n",
    "\n",
    "\n",
    "---\n",
    "\n",
    "\n",
    "\n",
    "\n",
    "\n"
   ]
  },
  {
   "cell_type": "markdown",
   "metadata": {
    "id": "xiFaL7_P5ie4"
   },
   "source": [
    "## Set up the notebook"
   ]
  },
  {
   "cell_type": "code",
   "execution_count": 1,
   "metadata": {
    "id": "ii6W3kbQcOlU",
    "tags": []
   },
   "outputs": [],
   "source": [
    "#!pip install ipysigma\n",
    "#!pip install networkx\n",
    "#!pip install \"ipywidgets>=7,<8\"\n",
    "#!pip install ipysigma\n",
    "#!pip install ipydatagrid"
   ]
  },
  {
   "cell_type": "code",
   "execution_count": 2,
   "metadata": {
    "id": "LMHlgkOYcQ5W",
    "tags": []
   },
   "outputs": [
    {
     "name": "stderr",
     "output_type": "stream",
     "text": [
      "/Users/polinaminkovski/anaconda3/lib/python3.11/site-packages/pandas/core/arrays/masked.py:60: UserWarning: Pandas requires version '1.3.6' or newer of 'bottleneck' (version '1.3.5' currently installed).\n",
      "  from pandas.core import (\n"
     ]
    }
   ],
   "source": [
    "import pandas as pd\n",
    "import numpy as np\n",
    "import re\n",
    "from matplotlib import pyplot as plt\n",
    "import networkx as nx\n",
    "from ipysigma import Sigma\n",
    "import plotly.graph_objects as go\n",
    "from ipywidgets import widgets\n",
    "from IPython.display import display, clear_output\n",
    "from ipywidgets import Layout, Button, Box, VBox, HBox, GridspecLayout, Button, Layout"
   ]
  },
  {
   "cell_type": "markdown",
   "metadata": {
    "id": "DUVOB4wV2u2Z"
   },
   "source": [
    "## Read in our full datafile"
   ]
  },
  {
   "cell_type": "code",
   "execution_count": 3,
   "metadata": {
    "id": "9ODKponPw9bK",
    "tags": []
   },
   "outputs": [],
   "source": [
    "url = \"https://raw.githubusercontent.com/polinamin/gene_chemical_interaction/main/complete_dataset.csv\"\n",
    "df = pd.read_csv(url, low_memory=False)\n",
    "df.drop(columns=[\"Unnamed: 0\"], inplace=True)"
   ]
  },
  {
   "cell_type": "code",
   "execution_count": 4,
   "metadata": {
    "id": "ibr2eO7GEM7Z",
    "tags": []
   },
   "outputs": [],
   "source": [
    "url = \"https://raw.githubusercontent.com/polinamin/gene_chemical_interaction/main/Diseases.csv\"\n",
    "diseases = pd.read_csv(url, low_memory=False)"
   ]
  },
  {
   "cell_type": "code",
   "execution_count": 5,
   "metadata": {
    "id": "XCeQ1-jQBLpM",
    "tags": []
   },
   "outputs": [],
   "source": [
    "df[\"edges\"] = list(df[['Gene_Name', 'chemical_name', 'Degree']].itertuples(index=False, name=None))"
   ]
  },
  {
   "cell_type": "code",
   "execution_count": 6,
   "metadata": {
    "id": "wQyE9ow-Vkw0",
    "tags": []
   },
   "outputs": [],
   "source": [
    "pd.set_option('display.max_columns', None)\n",
    "pd.set_option('display.max_rows', None)"
   ]
  },
  {
   "cell_type": "code",
   "execution_count": 7,
   "metadata": {
    "tags": []
   },
   "outputs": [
    {
     "data": {
      "text/html": [
       "<style>\n",
       "    .output {\n",
       "        overflow: hidden;\n",
       "    }\n",
       "</style>\n"
      ],
      "text/plain": [
       "<IPython.core.display.HTML object>"
      ]
     },
     "metadata": {},
     "output_type": "display_data"
    }
   ],
   "source": [
    "%%html\n",
    "<style>\n",
    "    .output {\n",
    "        overflow: hidden;\n",
    "    }\n",
    "</style>\n"
   ]
  },
  {
   "cell_type": "code",
   "execution_count": 8,
   "metadata": {
    "id": "_4pAmWfVUAmE",
    "tags": []
   },
   "outputs": [],
   "source": [
    "%%capture\n",
    "df[df[\"InteractionActions\"] == \"decreases^reaction|increases^expression\"].sort_values(\"GeneID\")"
   ]
  },
  {
   "cell_type": "code",
   "execution_count": 9,
   "metadata": {
    "id": "G2BzMK1C0hn2",
    "tags": []
   },
   "outputs": [],
   "source": [
    "filter_RPL_test = df[df[\"Disease\"].astype(str).str.lower().str.contains(\"recurrent\") & df[\"Disease\"].astype(str).str.lower().str.contains(\"pregnancy\") & df[\"Disease\"].astype(str).str.lower().str.contains(\"loss\")]\n",
    "rpl_genes = filter_RPL_test[\"Gene_Name\"].unique()"
   ]
  },
  {
   "cell_type": "code",
   "execution_count": 10,
   "metadata": {
    "id": "t7p2uR8Hz8sn",
    "tags": []
   },
   "outputs": [],
   "source": [
    "rpl_df = df[df[\"Gene_Name\"].isin(rpl_genes)]"
   ]
  },
  {
   "cell_type": "code",
   "execution_count": 11,
   "metadata": {
    "id": "s-B7ysMpEnQr",
    "tags": []
   },
   "outputs": [],
   "source": [
    "filter_RPL_diseases = []\n",
    "filter_RPL_disease = []\n",
    "for i,r in diseases.iterrows():\n",
    "  for j,k in rpl_df.iterrows():\n",
    "    if r[\"Diseases\"] in (k[\"Disease\"]):\n",
    "      filter_RPL_diseases.append(r[\"Diseases\"])\n",
    "      filter_RPL_disease.append(k[\"Disease\"])\n",
    "rpl_diseases = pd.DataFrame({\"Diseases_Abr\": filter_RPL_diseases,\"Disease\": filter_RPL_disease})\n",
    "rpl_diseases_grouped = rpl_diseases.groupby(\"Disease\").agg(set)"
   ]
  },
  {
   "cell_type": "code",
   "execution_count": 12,
   "metadata": {
    "id": "ICFUxifRNkUp",
    "tags": []
   },
   "outputs": [],
   "source": [
    "merge = pd.merge(left=rpl_df, right = rpl_diseases_grouped, left_on = \"Disease\", right_on = \"Disease\", how=\"left\")"
   ]
  },
  {
   "cell_type": "markdown",
   "metadata": {
    "id": "x2HdxrRI5sX5"
   },
   "source": [
    "#**Gene-Chemical Interaction**"
   ]
  },
  {
   "cell_type": "code",
   "execution_count": 14,
   "metadata": {
    "cellView": "form",
    "colab": {
     "base_uri": "https://localhost:8080/",
     "height": 1784,
     "referenced_widgets": [
      "ed001c8eef1e42cd94207bdfed122562",
      "eb0aa90e817248ea9f267518eb987c88",
      "de73ae82e4574a2097fb0f1b3f38f6e1",
      "0d54257bd92944cfb79080a7db3eb473",
      "150accd4332e456e82b704ee389710c9",
      "9057c89e5a2243e8b919c8110de063d8",
      "b11ac7d153cf4072b90f4fd7b78245a2",
      "5cfc2a783e8049be9c4ac318a9805f9e",
      "f05026b8a20f4102b267fe3e49e07895",
      "8bc77b5a4d324c6b8dff605c3b0cce77",
      "d89f26e6fc594319b00bb67ab6516d8d",
      "93df28123f814efba18cdb714aaf55d6",
      "106d355ee3f748efbfc8e438abfe3791",
      "c3e6ac9c59714eb1b4e70f25ff9fd79e",
      "0a391aee4f784b6090317c65666e238e",
      "5074401a6ea149ca8aa3b51c79d53234",
      "9c021cd754f9474386c817fdc5efcb0a",
      "2bb1d004e3aa47b18f1dc7f988a191b4",
      "f1f88283ef4446a899779ef062ccb496"
     ]
    },
    "id": "prC7UGODRzSy",
    "jupyter": {
     "source_hidden": true
    },
    "outputId": "6c491e5c-fd55-4c7d-d536-2aa498fc5e85",
    "tags": []
   },
   "outputs": [
    {
     "data": {
      "application/vnd.jupyter.widget-view+json": {
       "model_id": "a0d1c23b403c4bf19c7bc3688d205312",
       "version_major": 2,
       "version_minor": 0
      },
      "text/plain": [
       "Sigma(nx.MultiGraph with 194 nodes and 726 edges)"
      ]
     },
     "metadata": {},
     "output_type": "display_data"
    },
    {
     "data": {
      "application/vnd.jupyter.widget-view+json": {
       "model_id": "4356cc23528b4ff8bb9cd68a47fe3e75",
       "version_major": 2,
       "version_minor": 0
      },
      "text/plain": [
       "Output()"
      ]
     },
     "metadata": {},
     "output_type": "display_data"
    },
    {
     "data": {
      "application/vnd.jupyter.widget-view+json": {
       "model_id": "76b91a5131cd48299215697fbc3082a5",
       "version_major": 2,
       "version_minor": 0
      },
      "text/plain": [
       "VBox(children=(Box(children=(SelectMultiple(description='Select Gene:', options=('AURKB', 'F2', 'F5', 'FOXD1',…"
      ]
     },
     "metadata": {},
     "output_type": "display_data"
    },
    {
     "data": {
      "image/png": "[encoded data removed]",
      "text/plain": [
       "<Figure size 1500x1200 with 5 Axes>"
      ]
     },
     "metadata": {},
     "output_type": "display_data"
    },
    {
     "data": {
      "text/plain": [
       "None"
      ]
     },
     "metadata": {},
     "output_type": "display_data"
    },
    {
     "data": {
      "text/html": [
       "<div>\n",
       "<style scoped>\n",
       "    .dataframe tbody tr th:only-of-type {\n",
       "        vertical-align: middle;\n",
       "    }\n",
       "\n",
       "    .dataframe tbody tr th {\n",
       "        vertical-align: top;\n",
       "    }\n",
       "\n",
       "    .dataframe thead th {\n",
       "        text-align: right;\n",
       "    }\n",
       "</style>\n",
       "<table border=\"1\" class=\"dataframe\">\n",
       "  <thead>\n",
       "    <tr style=\"text-align: right;\">\n",
       "      <th></th>\n",
       "      <th>Gene Name</th>\n",
       "      <th>Chemical Name</th>\n",
       "      <th>Interaction</th>\n",
       "      <th>Gene Effect</th>\n",
       "      <th>Variant(s)</th>\n",
       "      <th>Disease</th>\n",
       "      <th>Phenotype</th>\n",
       "      <th>Organism</th>\n",
       "      <th>Gene Form</th>\n",
       "    </tr>\n",
       "  </thead>\n",
       "  <tbody>\n",
       "    <tr>\n",
       "      <th>11415</th>\n",
       "      <td>AURKB</td>\n",
       "      <td>1,4-bis(2-(3,5-dichloropyridyloxy))benzene</td>\n",
       "      <td>increases^expression</td>\n",
       "      <td>Maternal</td>\n",
       "      <td>SNV</td>\n",
       "      <td>Pregnancy loss, recurrent</td>\n",
       "      <td>NaN</td>\n",
       "      <td>Mus musculus</td>\n",
       "      <td>mRNA</td>\n",
       "    </tr>\n",
       "    <tr>\n",
       "      <th>11416</th>\n",
       "      <td>AURKB</td>\n",
       "      <td>16-hydroxycleroda-3,13(14)-dien-15,16-olide</td>\n",
       "      <td>decreases^expression</td>\n",
       "      <td>Maternal</td>\n",
       "      <td>SNV</td>\n",
       "      <td>Pregnancy loss, recurrent</td>\n",
       "      <td>NaN</td>\n",
       "      <td>Homo sapiens</td>\n",
       "      <td>mRNA</td>\n",
       "    </tr>\n",
       "    <tr>\n",
       "      <th>11417</th>\n",
       "      <td>AURKB</td>\n",
       "      <td>16-hydroxycleroda-3,13(14)-dien-15,16-olide</td>\n",
       "      <td>decreases^expression</td>\n",
       "      <td>Maternal</td>\n",
       "      <td>SNV</td>\n",
       "      <td>Pregnancy loss, recurrent</td>\n",
       "      <td>NaN</td>\n",
       "      <td>Homo sapiens</td>\n",
       "      <td>protein</td>\n",
       "    </tr>\n",
       "    <tr>\n",
       "      <th>11418</th>\n",
       "      <td>AURKB</td>\n",
       "      <td>1-cyclopropyl-3-(3-(5-morpholin-4-ylmethyl-1H-...</td>\n",
       "      <td>decreases^phosphorylation</td>\n",
       "      <td>Maternal</td>\n",
       "      <td>SNV</td>\n",
       "      <td>Pregnancy loss, recurrent</td>\n",
       "      <td>NaN</td>\n",
       "      <td>Homo sapiens</td>\n",
       "      <td>protein</td>\n",
       "    </tr>\n",
       "    <tr>\n",
       "      <th>11419</th>\n",
       "      <td>AURKB</td>\n",
       "      <td>1-cyclopropyl-3-(3-(5-morpholin-4-ylmethyl-1H-...</td>\n",
       "      <td>decreases^phosphorylation</td>\n",
       "      <td>Maternal</td>\n",
       "      <td>SNV</td>\n",
       "      <td>Pregnancy loss, recurrent</td>\n",
       "      <td>NaN</td>\n",
       "      <td>Mus musculus</td>\n",
       "      <td>protein</td>\n",
       "    </tr>\n",
       "    <tr>\n",
       "      <th>11420</th>\n",
       "      <td>AURKB</td>\n",
       "      <td>1-Methyl-4-phenylpyridinium</td>\n",
       "      <td>decreases^expression</td>\n",
       "      <td>Maternal</td>\n",
       "      <td>SNV</td>\n",
       "      <td>Pregnancy loss, recurrent</td>\n",
       "      <td>NaN</td>\n",
       "      <td>Homo sapiens</td>\n",
       "      <td>mRNA</td>\n",
       "    </tr>\n",
       "    <tr>\n",
       "      <th>11421</th>\n",
       "      <td>AURKB</td>\n",
       "      <td>1-Methyl-4-phenylpyridinium</td>\n",
       "      <td>increases^expression</td>\n",
       "      <td>Maternal</td>\n",
       "      <td>SNV</td>\n",
       "      <td>Pregnancy loss, recurrent</td>\n",
       "      <td>NaN</td>\n",
       "      <td>Mus musculus</td>\n",
       "      <td>protein</td>\n",
       "    </tr>\n",
       "    <tr>\n",
       "      <th>11422</th>\n",
       "      <td>AURKB</td>\n",
       "      <td>1-Naphthylisothiocyanate</td>\n",
       "      <td>increases^expression</td>\n",
       "      <td>Maternal</td>\n",
       "      <td>SNV</td>\n",
       "      <td>Pregnancy loss, recurrent</td>\n",
       "      <td>NaN</td>\n",
       "      <td>Rattus norvegicus</td>\n",
       "      <td>mRNA</td>\n",
       "    </tr>\n",
       "    <tr>\n",
       "      <th>11423</th>\n",
       "      <td>AURKB</td>\n",
       "      <td>1-Naphthylisothiocyanate</td>\n",
       "      <td>increases^expression</td>\n",
       "      <td>Maternal</td>\n",
       "      <td>SNV</td>\n",
       "      <td>Pregnancy loss, recurrent</td>\n",
       "      <td>NaN</td>\n",
       "      <td>Rattus norvegicus</td>\n",
       "      <td>protein</td>\n",
       "    </tr>\n",
       "    <tr>\n",
       "      <th>11424</th>\n",
       "      <td>AURKB</td>\n",
       "      <td>2,2',3',4,4',5-hexachlorobiphenyl</td>\n",
       "      <td>affects^cotreatment</td>\n",
       "      <td>Maternal</td>\n",
       "      <td>SNV</td>\n",
       "      <td>Pregnancy loss, recurrent</td>\n",
       "      <td>NaN</td>\n",
       "      <td>Mus musculus</td>\n",
       "      <td>mRNA</td>\n",
       "    </tr>\n",
       "    <tr>\n",
       "      <th>11425</th>\n",
       "      <td>AURKB</td>\n",
       "      <td>2,2',3',4,4',5-hexachlorobiphenyl</td>\n",
       "      <td>increases^expression</td>\n",
       "      <td>Maternal</td>\n",
       "      <td>SNV</td>\n",
       "      <td>Pregnancy loss, recurrent</td>\n",
       "      <td>NaN</td>\n",
       "      <td>Mus musculus</td>\n",
       "      <td>mRNA</td>\n",
       "    </tr>\n",
       "    <tr>\n",
       "      <th>11426</th>\n",
       "      <td>AURKB</td>\n",
       "      <td>2,2',4,4'-tetrabromodiphenyl ether</td>\n",
       "      <td>decreases^expression</td>\n",
       "      <td>Maternal</td>\n",
       "      <td>SNV</td>\n",
       "      <td>Pregnancy loss, recurrent</td>\n",
       "      <td>NaN</td>\n",
       "      <td>Rattus norvegicus</td>\n",
       "      <td>mRNA</td>\n",
       "    </tr>\n",
       "    <tr>\n",
       "      <th>11427</th>\n",
       "      <td>AURKB</td>\n",
       "      <td>2-(2-amino-3-methoxyphenyl)-4H-1-benzopyran-4-one</td>\n",
       "      <td>decreases^reaction</td>\n",
       "      <td>Maternal</td>\n",
       "      <td>SNV</td>\n",
       "      <td>Pregnancy loss, recurrent</td>\n",
       "      <td>NaN</td>\n",
       "      <td>Homo sapiens</td>\n",
       "      <td>protein</td>\n",
       "    </tr>\n",
       "    <tr>\n",
       "      <th>11428</th>\n",
       "      <td>AURKB</td>\n",
       "      <td>2-(2-amino-3-methoxyphenyl)-4H-1-benzopyran-4-one</td>\n",
       "      <td>increases^abundance</td>\n",
       "      <td>Maternal</td>\n",
       "      <td>SNV</td>\n",
       "      <td>Pregnancy loss, recurrent</td>\n",
       "      <td>NaN</td>\n",
       "      <td>Homo sapiens</td>\n",
       "      <td>protein</td>\n",
       "    </tr>\n",
       "    <tr>\n",
       "      <th>11429</th>\n",
       "      <td>AURKB</td>\n",
       "      <td>2-(2-amino-3-methoxyphenyl)-4H-1-benzopyran-4-one</td>\n",
       "      <td>increases^phosphorylation</td>\n",
       "      <td>Maternal</td>\n",
       "      <td>SNV</td>\n",
       "      <td>Pregnancy loss, recurrent</td>\n",
       "      <td>NaN</td>\n",
       "      <td>Homo sapiens</td>\n",
       "      <td>protein</td>\n",
       "    </tr>\n",
       "    <tr>\n",
       "      <th>11430</th>\n",
       "      <td>AURKB</td>\n",
       "      <td>2,2-bis(4-hydroxyphenyl)-1,1,1-trichloroethane</td>\n",
       "      <td>increases^expression</td>\n",
       "      <td>Maternal</td>\n",
       "      <td>SNV</td>\n",
       "      <td>Pregnancy loss, recurrent</td>\n",
       "      <td>NaN</td>\n",
       "      <td>Mus musculus</td>\n",
       "      <td>mRNA</td>\n",
       "    </tr>\n",
       "    <tr>\n",
       "      <th>11431</th>\n",
       "      <td>AURKB</td>\n",
       "      <td>2',3,3',4',5-pentachloro-4-hydroxybiphenyl</td>\n",
       "      <td>decreases^expression</td>\n",
       "      <td>Maternal</td>\n",
       "      <td>SNV</td>\n",
       "      <td>Pregnancy loss, recurrent</td>\n",
       "      <td>NaN</td>\n",
       "      <td>Rattus norvegicus</td>\n",
       "      <td>mRNA</td>\n",
       "    </tr>\n",
       "    <tr>\n",
       "      <th>11432</th>\n",
       "      <td>AURKB</td>\n",
       "      <td>2-((3-((4-((5-(2-((3-fluorophenyl)amino)-2-oxo...</td>\n",
       "      <td>decreases^reaction</td>\n",
       "      <td>Maternal</td>\n",
       "      <td>SNV</td>\n",
       "      <td>Pregnancy loss, recurrent</td>\n",
       "      <td>NaN</td>\n",
       "      <td>Homo sapiens</td>\n",
       "      <td>protein</td>\n",
       "    </tr>\n",
       "    <tr>\n",
       "      <th>11433</th>\n",
       "      <td>AURKB</td>\n",
       "      <td>2-((3-((4-((5-(2-((3-fluorophenyl)amino)-2-oxo...</td>\n",
       "      <td>increases^phosphorylation</td>\n",
       "      <td>Maternal</td>\n",
       "      <td>SNV</td>\n",
       "      <td>Pregnancy loss, recurrent</td>\n",
       "      <td>NaN</td>\n",
       "      <td>Homo sapiens</td>\n",
       "      <td>protein</td>\n",
       "    </tr>\n",
       "    <tr>\n",
       "      <th>11434</th>\n",
       "      <td>AURKB</td>\n",
       "      <td>2-((3-((4-((5-(2-((3-fluorophenyl)amino)-2-oxo...</td>\n",
       "      <td>decreases^phosphorylation</td>\n",
       "      <td>Maternal</td>\n",
       "      <td>SNV</td>\n",
       "      <td>Pregnancy loss, recurrent</td>\n",
       "      <td>NaN</td>\n",
       "      <td>Homo sapiens</td>\n",
       "      <td>protein</td>\n",
       "    </tr>\n",
       "    <tr>\n",
       "      <th>11435</th>\n",
       "      <td>AURKB</td>\n",
       "      <td>2-((3-((4-((5-(2-((3-fluorophenyl)amino)-2-oxo...</td>\n",
       "      <td>decreases^phosphorylation</td>\n",
       "      <td>Maternal</td>\n",
       "      <td>SNV</td>\n",
       "      <td>Pregnancy loss, recurrent</td>\n",
       "      <td>NaN</td>\n",
       "      <td>Mus musculus</td>\n",
       "      <td>protein</td>\n",
       "    </tr>\n",
       "    <tr>\n",
       "      <th>11436</th>\n",
       "      <td>AURKB</td>\n",
       "      <td>2-((3-((4-((5-(2-((3-fluorophenyl)amino)-2-oxo...</td>\n",
       "      <td>decreases^activity</td>\n",
       "      <td>Maternal</td>\n",
       "      <td>SNV</td>\n",
       "      <td>Pregnancy loss, recurrent</td>\n",
       "      <td>NaN</td>\n",
       "      <td>NaN</td>\n",
       "      <td>protein</td>\n",
       "    </tr>\n",
       "    <tr>\n",
       "      <th>11437</th>\n",
       "      <td>AURKB</td>\n",
       "      <td>2,3-bis(3'-hydroxybenzyl)butyrolactone</td>\n",
       "      <td>affects^cotreatment</td>\n",
       "      <td>Maternal</td>\n",
       "      <td>SNV</td>\n",
       "      <td>Pregnancy loss, recurrent</td>\n",
       "      <td>NaN</td>\n",
       "      <td>Homo sapiens</td>\n",
       "      <td>mRNA</td>\n",
       "    </tr>\n",
       "    <tr>\n",
       "      <th>11438</th>\n",
       "      <td>AURKB</td>\n",
       "      <td>2,3-bis(3'-hydroxybenzyl)butyrolactone</td>\n",
       "      <td>increases^expression</td>\n",
       "      <td>Maternal</td>\n",
       "      <td>SNV</td>\n",
       "      <td>Pregnancy loss, recurrent</td>\n",
       "      <td>NaN</td>\n",
       "      <td>Homo sapiens</td>\n",
       "      <td>mRNA</td>\n",
       "    </tr>\n",
       "    <tr>\n",
       "      <th>11439</th>\n",
       "      <td>AURKB</td>\n",
       "      <td>2,4,4'-trichlorobiphenyl</td>\n",
       "      <td>affects^cotreatment</td>\n",
       "      <td>Maternal</td>\n",
       "      <td>SNV</td>\n",
       "      <td>Pregnancy loss, recurrent</td>\n",
       "      <td>NaN</td>\n",
       "      <td>Mus musculus</td>\n",
       "      <td>mRNA</td>\n",
       "    </tr>\n",
       "    <tr>\n",
       "      <th>11440</th>\n",
       "      <td>AURKB</td>\n",
       "      <td>2,4,4'-trichlorobiphenyl</td>\n",
       "      <td>increases^expression</td>\n",
       "      <td>Maternal</td>\n",
       "      <td>SNV</td>\n",
       "      <td>Pregnancy loss, recurrent</td>\n",
       "      <td>NaN</td>\n",
       "      <td>Mus musculus</td>\n",
       "      <td>mRNA</td>\n",
       "    </tr>\n",
       "    <tr>\n",
       "      <th>11441</th>\n",
       "      <td>AURKB</td>\n",
       "      <td>2,4,5,2',4',5'-hexachlorobiphenyl</td>\n",
       "      <td>affects^cotreatment</td>\n",
       "      <td>Maternal</td>\n",
       "      <td>SNV</td>\n",
       "      <td>Pregnancy loss, recurrent</td>\n",
       "      <td>NaN</td>\n",
       "      <td>Mus musculus</td>\n",
       "      <td>mRNA</td>\n",
       "    </tr>\n",
       "    <tr>\n",
       "      <th>11442</th>\n",
       "      <td>AURKB</td>\n",
       "      <td>2,4,5,2',4',5'-hexachlorobiphenyl</td>\n",
       "      <td>increases^expression</td>\n",
       "      <td>Maternal</td>\n",
       "      <td>SNV</td>\n",
       "      <td>Pregnancy loss, recurrent</td>\n",
       "      <td>NaN</td>\n",
       "      <td>Mus musculus</td>\n",
       "      <td>mRNA</td>\n",
       "    </tr>\n",
       "    <tr>\n",
       "      <th>11443</th>\n",
       "      <td>AURKB</td>\n",
       "      <td>2,4,5,2',5'-pentachlorobiphenyl</td>\n",
       "      <td>affects^cotreatment</td>\n",
       "      <td>Maternal</td>\n",
       "      <td>SNV</td>\n",
       "      <td>Pregnancy loss, recurrent</td>\n",
       "      <td>NaN</td>\n",
       "      <td>Mus musculus</td>\n",
       "      <td>mRNA</td>\n",
       "    </tr>\n",
       "    <tr>\n",
       "      <th>11444</th>\n",
       "      <td>AURKB</td>\n",
       "      <td>2,4,5,2',5'-pentachlorobiphenyl</td>\n",
       "      <td>increases^expression</td>\n",
       "      <td>Maternal</td>\n",
       "      <td>SNV</td>\n",
       "      <td>Pregnancy loss, recurrent</td>\n",
       "      <td>NaN</td>\n",
       "      <td>Mus musculus</td>\n",
       "      <td>mRNA</td>\n",
       "    </tr>\n",
       "    <tr>\n",
       "      <th>11445</th>\n",
       "      <td>AURKB</td>\n",
       "      <td>2-(4-morpholinyl)-8-phenyl-4H-1-benzopyran-4-one</td>\n",
       "      <td>decreases^expression</td>\n",
       "      <td>Maternal</td>\n",
       "      <td>SNV</td>\n",
       "      <td>Pregnancy loss, recurrent</td>\n",
       "      <td>NaN</td>\n",
       "      <td>Homo sapiens</td>\n",
       "      <td>protein</td>\n",
       "    </tr>\n",
       "    <tr>\n",
       "      <th>11446</th>\n",
       "      <td>AURKB</td>\n",
       "      <td>2,5,2',5'-tetrachlorobiphenyl</td>\n",
       "      <td>affects^cotreatment</td>\n",
       "      <td>Maternal</td>\n",
       "      <td>SNV</td>\n",
       "      <td>Pregnancy loss, recurrent</td>\n",
       "      <td>NaN</td>\n",
       "      <td>Mus musculus</td>\n",
       "      <td>mRNA</td>\n",
       "    </tr>\n",
       "    <tr>\n",
       "      <th>11447</th>\n",
       "      <td>AURKB</td>\n",
       "      <td>2,5,2',5'-tetrachlorobiphenyl</td>\n",
       "      <td>increases^expression</td>\n",
       "      <td>Maternal</td>\n",
       "      <td>SNV</td>\n",
       "      <td>Pregnancy loss, recurrent</td>\n",
       "      <td>NaN</td>\n",
       "      <td>Mus musculus</td>\n",
       "      <td>mRNA</td>\n",
       "    </tr>\n",
       "    <tr>\n",
       "      <th>11448</th>\n",
       "      <td>AURKB</td>\n",
       "      <td>2-methyl-2H-pyrazole-3-carboxylic acid (2-meth...</td>\n",
       "      <td>decreases^expression</td>\n",
       "      <td>Maternal</td>\n",
       "      <td>SNV</td>\n",
       "      <td>Pregnancy loss, recurrent</td>\n",
       "      <td>NaN</td>\n",
       "      <td>Homo sapiens</td>\n",
       "      <td>mRNA</td>\n",
       "    </tr>\n",
       "    <tr>\n",
       "      <th>11449</th>\n",
       "      <td>AURKB</td>\n",
       "      <td>2-methyl-2H-pyrazole-3-carboxylic acid (2-meth...</td>\n",
       "      <td>decreases^reaction</td>\n",
       "      <td>Maternal</td>\n",
       "      <td>SNV</td>\n",
       "      <td>Pregnancy loss, recurrent</td>\n",
       "      <td>NaN</td>\n",
       "      <td>Homo sapiens</td>\n",
       "      <td>mRNA</td>\n",
       "    </tr>\n",
       "    <tr>\n",
       "      <th>11450</th>\n",
       "      <td>AURKB</td>\n",
       "      <td>2-methyl-2H-pyrazole-3-carboxylic acid (2-meth...</td>\n",
       "      <td>decreases^expression</td>\n",
       "      <td>Maternal</td>\n",
       "      <td>SNV</td>\n",
       "      <td>Pregnancy loss, recurrent</td>\n",
       "      <td>NaN</td>\n",
       "      <td>Homo sapiens</td>\n",
       "      <td>mRNA</td>\n",
       "    </tr>\n",
       "    <tr>\n",
       "      <th>11451</th>\n",
       "      <td>AURKB</td>\n",
       "      <td>2-methyl-2H-pyrazole-3-carboxylic acid (2-meth...</td>\n",
       "      <td>decreases^reaction</td>\n",
       "      <td>Maternal</td>\n",
       "      <td>SNV</td>\n",
       "      <td>Pregnancy loss, recurrent</td>\n",
       "      <td>NaN</td>\n",
       "      <td>Homo sapiens</td>\n",
       "      <td>mRNA</td>\n",
       "    </tr>\n",
       "    <tr>\n",
       "      <th>11452</th>\n",
       "      <td>AURKB</td>\n",
       "      <td>2-palmitoylglycerol</td>\n",
       "      <td>increases^expression</td>\n",
       "      <td>Maternal</td>\n",
       "      <td>SNV</td>\n",
       "      <td>Pregnancy loss, recurrent</td>\n",
       "      <td>NaN</td>\n",
       "      <td>Homo sapiens</td>\n",
       "      <td>mRNA</td>\n",
       "    </tr>\n",
       "    <tr>\n",
       "      <th>11453</th>\n",
       "      <td>AURKB</td>\n",
       "      <td>3-(1H-indazol-5-yl)-N-propylimidazo(1,2-b)pyri...</td>\n",
       "      <td>affects^localization</td>\n",
       "      <td>Maternal</td>\n",
       "      <td>SNV</td>\n",
       "      <td>Pregnancy loss, recurrent</td>\n",
       "      <td>NaN</td>\n",
       "      <td>Homo sapiens</td>\n",
       "      <td>protein</td>\n",
       "    </tr>\n",
       "    <tr>\n",
       "      <th>11454</th>\n",
       "      <td>AURKB</td>\n",
       "      <td>3,4,5,3',4'-pentachlorobiphenyl</td>\n",
       "      <td>increases^expression</td>\n",
       "      <td>Maternal</td>\n",
       "      <td>SNV</td>\n",
       "      <td>Pregnancy loss, recurrent</td>\n",
       "      <td>NaN</td>\n",
       "      <td>Rattus norvegicus</td>\n",
       "      <td>mRNA</td>\n",
       "    </tr>\n",
       "    <tr>\n",
       "      <th>11455</th>\n",
       "      <td>AURKB</td>\n",
       "      <td>4-(2-thiazolylazo)resorcinol</td>\n",
       "      <td>affects^binding</td>\n",
       "      <td>Maternal</td>\n",
       "      <td>SNV</td>\n",
       "      <td>Pregnancy loss, recurrent</td>\n",
       "      <td>NaN</td>\n",
       "      <td>Homo sapiens</td>\n",
       "      <td>protein</td>\n",
       "    </tr>\n",
       "    <tr>\n",
       "      <th>11456</th>\n",
       "      <td>AURKB</td>\n",
       "      <td>4-(2-thiazolylazo)resorcinol</td>\n",
       "      <td>decreases^activity</td>\n",
       "      <td>Maternal</td>\n",
       "      <td>SNV</td>\n",
       "      <td>Pregnancy loss, recurrent</td>\n",
       "      <td>NaN</td>\n",
       "      <td>Homo sapiens</td>\n",
       "      <td>protein</td>\n",
       "    </tr>\n",
       "    <tr>\n",
       "      <th>11457</th>\n",
       "      <td>AURKB</td>\n",
       "      <td>4-(4-(N-benzoylamino)anilino)-6-methoxy-7-(3-(...</td>\n",
       "      <td>affects^localization</td>\n",
       "      <td>Maternal</td>\n",
       "      <td>SNV</td>\n",
       "      <td>Pregnancy loss, recurrent</td>\n",
       "      <td>NaN</td>\n",
       "      <td>Homo sapiens</td>\n",
       "      <td>protein</td>\n",
       "    </tr>\n",
       "    <tr>\n",
       "      <th>11458</th>\n",
       "      <td>AURKB</td>\n",
       "      <td>4-(4-(N-benzoylamino)anilino)-6-methoxy-7-(3-(...</td>\n",
       "      <td>affects^cotreatment</td>\n",
       "      <td>Maternal</td>\n",
       "      <td>SNV</td>\n",
       "      <td>Pregnancy loss, recurrent</td>\n",
       "      <td>NaN</td>\n",
       "      <td>Homo sapiens</td>\n",
       "      <td>protein</td>\n",
       "    </tr>\n",
       "    <tr>\n",
       "      <th>11459</th>\n",
       "      <td>AURKB</td>\n",
       "      <td>4-(4-(N-benzoylamino)anilino)-6-methoxy-7-(3-(...</td>\n",
       "      <td>decreases^reaction</td>\n",
       "      <td>Maternal</td>\n",
       "      <td>SNV</td>\n",
       "      <td>Pregnancy loss, recurrent</td>\n",
       "      <td>NaN</td>\n",
       "      <td>Homo sapiens</td>\n",
       "      <td>protein</td>\n",
       "    </tr>\n",
       "    <tr>\n",
       "      <th>11460</th>\n",
       "      <td>AURKB</td>\n",
       "      <td>4-(4-(N-benzoylamino)anilino)-6-methoxy-7-(3-(...</td>\n",
       "      <td>increases^phosphorylation</td>\n",
       "      <td>Maternal</td>\n",
       "      <td>SNV</td>\n",
       "      <td>Pregnancy loss, recurrent</td>\n",
       "      <td>NaN</td>\n",
       "      <td>Homo sapiens</td>\n",
       "      <td>protein</td>\n",
       "    </tr>\n",
       "    <tr>\n",
       "      <th>11461</th>\n",
       "      <td>AURKB</td>\n",
       "      <td>4-(4-(N-benzoylamino)anilino)-6-methoxy-7-(3-(...</td>\n",
       "      <td>decreases^activity</td>\n",
       "      <td>Maternal</td>\n",
       "      <td>SNV</td>\n",
       "      <td>Pregnancy loss, recurrent</td>\n",
       "      <td>NaN</td>\n",
       "      <td>NaN</td>\n",
       "      <td>protein</td>\n",
       "    </tr>\n",
       "    <tr>\n",
       "      <th>11462</th>\n",
       "      <td>AURKB</td>\n",
       "      <td>4-chloro-N-((4-(1,1-dimethylethyl)phenyl)methy...</td>\n",
       "      <td>increases^expression</td>\n",
       "      <td>Maternal</td>\n",
       "      <td>SNV</td>\n",
       "      <td>Pregnancy loss, recurrent</td>\n",
       "      <td>NaN</td>\n",
       "      <td>Homo sapiens</td>\n",
       "      <td>mRNA</td>\n",
       "    </tr>\n",
       "    <tr>\n",
       "      <th>11463</th>\n",
       "      <td>AURKB</td>\n",
       "      <td>7,8-Dihydro-7,8-dihydroxybenzo(a)pyrene 9,10-o...</td>\n",
       "      <td>decreases^expression</td>\n",
       "      <td>Maternal</td>\n",
       "      <td>SNV</td>\n",
       "      <td>Pregnancy loss, recurrent</td>\n",
       "      <td>NaN</td>\n",
       "      <td>Homo sapiens</td>\n",
       "      <td>mRNA</td>\n",
       "    </tr>\n",
       "    <tr>\n",
       "      <th>11464</th>\n",
       "      <td>AURKB</td>\n",
       "      <td>acetamide</td>\n",
       "      <td>increases^expression</td>\n",
       "      <td>Maternal</td>\n",
       "      <td>SNV</td>\n",
       "      <td>Pregnancy loss, recurrent</td>\n",
       "      <td>NaN</td>\n",
       "      <td>Rattus norvegicus</td>\n",
       "      <td>mRNA</td>\n",
       "    </tr>\n",
       "    <tr>\n",
       "      <th>11465</th>\n",
       "      <td>AURKB</td>\n",
       "      <td>Acetaminophen</td>\n",
       "      <td>decreases^expression</td>\n",
       "      <td>Maternal</td>\n",
       "      <td>SNV</td>\n",
       "      <td>Pregnancy loss, recurrent</td>\n",
       "      <td>NaN</td>\n",
       "      <td>Homo sapiens</td>\n",
       "      <td>mRNA</td>\n",
       "    </tr>\n",
       "    <tr>\n",
       "      <th>11466</th>\n",
       "      <td>AURKB</td>\n",
       "      <td>Acetaminophen</td>\n",
       "      <td>increases^expression</td>\n",
       "      <td>Maternal</td>\n",
       "      <td>SNV</td>\n",
       "      <td>Pregnancy loss, recurrent</td>\n",
       "      <td>NaN</td>\n",
       "      <td>Rattus norvegicus</td>\n",
       "      <td>mRNA</td>\n",
       "    </tr>\n",
       "    <tr>\n",
       "      <th>11467</th>\n",
       "      <td>AURKB</td>\n",
       "      <td>Acetaminophen</td>\n",
       "      <td>increases^expression</td>\n",
       "      <td>Maternal</td>\n",
       "      <td>SNV</td>\n",
       "      <td>Pregnancy loss, recurrent</td>\n",
       "      <td>NaN</td>\n",
       "      <td>Rattus norvegicus</td>\n",
       "      <td>protein</td>\n",
       "    </tr>\n",
       "    <tr>\n",
       "      <th>11468</th>\n",
       "      <td>AURKB</td>\n",
       "      <td>Acetylcysteine</td>\n",
       "      <td>affects^localization</td>\n",
       "      <td>Maternal</td>\n",
       "      <td>SNV</td>\n",
       "      <td>Pregnancy loss, recurrent</td>\n",
       "      <td>NaN</td>\n",
       "      <td>Homo sapiens</td>\n",
       "      <td>protein</td>\n",
       "    </tr>\n",
       "    <tr>\n",
       "      <th>11469</th>\n",
       "      <td>AURKB</td>\n",
       "      <td>Acetylcysteine</td>\n",
       "      <td>decreases^reaction</td>\n",
       "      <td>Maternal</td>\n",
       "      <td>SNV</td>\n",
       "      <td>Pregnancy loss, recurrent</td>\n",
       "      <td>NaN</td>\n",
       "      <td>Homo sapiens</td>\n",
       "      <td>protein</td>\n",
       "    </tr>\n",
       "    <tr>\n",
       "      <th>11470</th>\n",
       "      <td>AURKB</td>\n",
       "      <td>Acrylamide</td>\n",
       "      <td>decreases^expression</td>\n",
       "      <td>Maternal</td>\n",
       "      <td>SNV</td>\n",
       "      <td>Pregnancy loss, recurrent</td>\n",
       "      <td>NaN</td>\n",
       "      <td>Homo sapiens</td>\n",
       "      <td>mRNA</td>\n",
       "    </tr>\n",
       "    <tr>\n",
       "      <th>11471</th>\n",
       "      <td>AURKB</td>\n",
       "      <td>Acrylamide</td>\n",
       "      <td>increases^expression</td>\n",
       "      <td>Maternal</td>\n",
       "      <td>SNV</td>\n",
       "      <td>Pregnancy loss, recurrent</td>\n",
       "      <td>NaN</td>\n",
       "      <td>Rattus norvegicus</td>\n",
       "      <td>mRNA</td>\n",
       "    </tr>\n",
       "    <tr>\n",
       "      <th>11472</th>\n",
       "      <td>AURKB</td>\n",
       "      <td>adefovir dipivoxil</td>\n",
       "      <td>increases^expression</td>\n",
       "      <td>Maternal</td>\n",
       "      <td>SNV</td>\n",
       "      <td>Pregnancy loss, recurrent</td>\n",
       "      <td>NaN</td>\n",
       "      <td>Homo sapiens</td>\n",
       "      <td>mRNA</td>\n",
       "    </tr>\n",
       "    <tr>\n",
       "      <th>11473</th>\n",
       "      <td>AURKB</td>\n",
       "      <td>Aflatoxin B1</td>\n",
       "      <td>affects^expression</td>\n",
       "      <td>Maternal</td>\n",
       "      <td>SNV</td>\n",
       "      <td>Pregnancy loss, recurrent</td>\n",
       "      <td>NaN</td>\n",
       "      <td>Homo sapiens</td>\n",
       "      <td>protein</td>\n",
       "    </tr>\n",
       "    <tr>\n",
       "      <th>11474</th>\n",
       "      <td>AURKB</td>\n",
       "      <td>Aflatoxin B1</td>\n",
       "      <td>increases^expression</td>\n",
       "      <td>Maternal</td>\n",
       "      <td>SNV</td>\n",
       "      <td>Pregnancy loss, recurrent</td>\n",
       "      <td>NaN</td>\n",
       "      <td>Rattus norvegicus</td>\n",
       "      <td>mRNA</td>\n",
       "    </tr>\n",
       "    <tr>\n",
       "      <th>11475</th>\n",
       "      <td>AURKB</td>\n",
       "      <td>Air Pollutants</td>\n",
       "      <td>affects^cotreatment</td>\n",
       "      <td>Maternal</td>\n",
       "      <td>SNV</td>\n",
       "      <td>Pregnancy loss, recurrent</td>\n",
       "      <td>NaN</td>\n",
       "      <td>Mus musculus</td>\n",
       "      <td>mRNA</td>\n",
       "    </tr>\n",
       "    <tr>\n",
       "      <th>11476</th>\n",
       "      <td>AURKB</td>\n",
       "      <td>Air Pollutants</td>\n",
       "      <td>increases^abundance</td>\n",
       "      <td>Maternal</td>\n",
       "      <td>SNV</td>\n",
       "      <td>Pregnancy loss, recurrent</td>\n",
       "      <td>NaN</td>\n",
       "      <td>Mus musculus</td>\n",
       "      <td>mRNA</td>\n",
       "    </tr>\n",
       "    <tr>\n",
       "      <th>11477</th>\n",
       "      <td>AURKB</td>\n",
       "      <td>Air Pollutants</td>\n",
       "      <td>increases^expression</td>\n",
       "      <td>Maternal</td>\n",
       "      <td>SNV</td>\n",
       "      <td>Pregnancy loss, recurrent</td>\n",
       "      <td>NaN</td>\n",
       "      <td>Mus musculus</td>\n",
       "      <td>mRNA</td>\n",
       "    </tr>\n",
       "    <tr>\n",
       "      <th>11478</th>\n",
       "      <td>AURKB</td>\n",
       "      <td>Air Pollutants</td>\n",
       "      <td>increases^abundance</td>\n",
       "      <td>Maternal</td>\n",
       "      <td>SNV</td>\n",
       "      <td>Pregnancy loss, recurrent</td>\n",
       "      <td>NaN</td>\n",
       "      <td>Mus musculus</td>\n",
       "      <td>mRNA</td>\n",
       "    </tr>\n",
       "    <tr>\n",
       "      <th>11479</th>\n",
       "      <td>AURKB</td>\n",
       "      <td>Air Pollutants</td>\n",
       "      <td>increases^expression</td>\n",
       "      <td>Maternal</td>\n",
       "      <td>SNV</td>\n",
       "      <td>Pregnancy loss, recurrent</td>\n",
       "      <td>NaN</td>\n",
       "      <td>Mus musculus</td>\n",
       "      <td>mRNA</td>\n",
       "    </tr>\n",
       "    <tr>\n",
       "      <th>11480</th>\n",
       "      <td>AURKB</td>\n",
       "      <td>Air Pollutants</td>\n",
       "      <td>increases^abundance</td>\n",
       "      <td>Maternal</td>\n",
       "      <td>SNV</td>\n",
       "      <td>Pregnancy loss, recurrent</td>\n",
       "      <td>NaN</td>\n",
       "      <td>Rattus norvegicus</td>\n",
       "      <td>mRNA</td>\n",
       "    </tr>\n",
       "    <tr>\n",
       "      <th>11481</th>\n",
       "      <td>AURKB</td>\n",
       "      <td>Air Pollutants</td>\n",
       "      <td>increases^expression</td>\n",
       "      <td>Maternal</td>\n",
       "      <td>SNV</td>\n",
       "      <td>Pregnancy loss, recurrent</td>\n",
       "      <td>NaN</td>\n",
       "      <td>Rattus norvegicus</td>\n",
       "      <td>mRNA</td>\n",
       "    </tr>\n",
       "    <tr>\n",
       "      <th>11482</th>\n",
       "      <td>AURKB</td>\n",
       "      <td>Ammonium Chloride</td>\n",
       "      <td>affects^expression</td>\n",
       "      <td>Maternal</td>\n",
       "      <td>SNV</td>\n",
       "      <td>Pregnancy loss, recurrent</td>\n",
       "      <td>NaN</td>\n",
       "      <td>Rattus norvegicus</td>\n",
       "      <td>mRNA</td>\n",
       "    </tr>\n",
       "    <tr>\n",
       "      <th>11483</th>\n",
       "      <td>AURKB</td>\n",
       "      <td>amphotericin B, deoxycholate drug combination</td>\n",
       "      <td>increases^expression</td>\n",
       "      <td>Maternal</td>\n",
       "      <td>SNV</td>\n",
       "      <td>Pregnancy loss, recurrent</td>\n",
       "      <td>NaN</td>\n",
       "      <td>Mus musculus</td>\n",
       "      <td>mRNA</td>\n",
       "    </tr>\n",
       "    <tr>\n",
       "      <th>11484</th>\n",
       "      <td>AURKB</td>\n",
       "      <td>Andrographis paniculata extract</td>\n",
       "      <td>affects^cotreatment</td>\n",
       "      <td>Maternal</td>\n",
       "      <td>SNV</td>\n",
       "      <td>Pregnancy loss, recurrent</td>\n",
       "      <td>NaN</td>\n",
       "      <td>Rattus norvegicus</td>\n",
       "      <td>mRNA</td>\n",
       "    </tr>\n",
       "    <tr>\n",
       "      <th>11485</th>\n",
       "      <td>AURKB</td>\n",
       "      <td>Andrographis paniculata extract</td>\n",
       "      <td>decreases^expression</td>\n",
       "      <td>Maternal</td>\n",
       "      <td>SNV</td>\n",
       "      <td>Pregnancy loss, recurrent</td>\n",
       "      <td>NaN</td>\n",
       "      <td>Rattus norvegicus</td>\n",
       "      <td>mRNA</td>\n",
       "    </tr>\n",
       "    <tr>\n",
       "      <th>11486</th>\n",
       "      <td>AURKB</td>\n",
       "      <td>Andrographis paniculata extract</td>\n",
       "      <td>decreases^reaction</td>\n",
       "      <td>Maternal</td>\n",
       "      <td>SNV</td>\n",
       "      <td>Pregnancy loss, recurrent</td>\n",
       "      <td>NaN</td>\n",
       "      <td>Rattus norvegicus</td>\n",
       "      <td>mRNA</td>\n",
       "    </tr>\n",
       "    <tr>\n",
       "      <th>11487</th>\n",
       "      <td>AURKB</td>\n",
       "      <td>Anthraquinones</td>\n",
       "      <td>decreases^activity</td>\n",
       "      <td>Maternal</td>\n",
       "      <td>SNV</td>\n",
       "      <td>Pregnancy loss, recurrent</td>\n",
       "      <td>NaN</td>\n",
       "      <td>NaN</td>\n",
       "      <td>protein</td>\n",
       "    </tr>\n",
       "    <tr>\n",
       "      <th>11488</th>\n",
       "      <td>AURKB</td>\n",
       "      <td>Antimycin A</td>\n",
       "      <td>increases^expression</td>\n",
       "      <td>Maternal</td>\n",
       "      <td>SNV</td>\n",
       "      <td>Pregnancy loss, recurrent</td>\n",
       "      <td>NaN</td>\n",
       "      <td>Homo sapiens</td>\n",
       "      <td>mRNA</td>\n",
       "    </tr>\n",
       "    <tr>\n",
       "      <th>11489</th>\n",
       "      <td>AURKB</td>\n",
       "      <td>Aristolochic Acids</td>\n",
       "      <td>increases^expression</td>\n",
       "      <td>Maternal</td>\n",
       "      <td>SNV</td>\n",
       "      <td>Pregnancy loss, recurrent</td>\n",
       "      <td>NaN</td>\n",
       "      <td>Rattus norvegicus</td>\n",
       "      <td>mRNA</td>\n",
       "    </tr>\n",
       "    <tr>\n",
       "      <th>11490</th>\n",
       "      <td>AURKB</td>\n",
       "      <td>arsenite</td>\n",
       "      <td>affects^binding</td>\n",
       "      <td>Maternal</td>\n",
       "      <td>SNV</td>\n",
       "      <td>Pregnancy loss, recurrent</td>\n",
       "      <td>NaN</td>\n",
       "      <td>Homo sapiens</td>\n",
       "      <td>mRNA</td>\n",
       "    </tr>\n",
       "    <tr>\n",
       "      <th>11491</th>\n",
       "      <td>AURKB</td>\n",
       "      <td>arsenite</td>\n",
       "      <td>increases^reaction</td>\n",
       "      <td>Maternal</td>\n",
       "      <td>SNV</td>\n",
       "      <td>Pregnancy loss, recurrent</td>\n",
       "      <td>NaN</td>\n",
       "      <td>Homo sapiens</td>\n",
       "      <td>mRNA</td>\n",
       "    </tr>\n",
       "    <tr>\n",
       "      <th>11492</th>\n",
       "      <td>AURKB</td>\n",
       "      <td>arsenite</td>\n",
       "      <td>increases^expression</td>\n",
       "      <td>Maternal</td>\n",
       "      <td>SNV</td>\n",
       "      <td>Pregnancy loss, recurrent</td>\n",
       "      <td>NaN</td>\n",
       "      <td>Homo sapiens</td>\n",
       "      <td>mRNA</td>\n",
       "    </tr>\n",
       "    <tr>\n",
       "      <th>11493</th>\n",
       "      <td>AURKB</td>\n",
       "      <td>arsenite</td>\n",
       "      <td>decreases^reaction</td>\n",
       "      <td>Maternal</td>\n",
       "      <td>SNV</td>\n",
       "      <td>Pregnancy loss, recurrent</td>\n",
       "      <td>NaN</td>\n",
       "      <td>Homo sapiens</td>\n",
       "      <td>mRNA</td>\n",
       "    </tr>\n",
       "    <tr>\n",
       "      <th>11494</th>\n",
       "      <td>AURKB</td>\n",
       "      <td>arsenite</td>\n",
       "      <td>increases^expression</td>\n",
       "      <td>Maternal</td>\n",
       "      <td>SNV</td>\n",
       "      <td>Pregnancy loss, recurrent</td>\n",
       "      <td>NaN</td>\n",
       "      <td>Homo sapiens</td>\n",
       "      <td>mRNA</td>\n",
       "    </tr>\n",
       "    <tr>\n",
       "      <th>11495</th>\n",
       "      <td>AURKB</td>\n",
       "      <td>arsenite</td>\n",
       "      <td>decreases^expression</td>\n",
       "      <td>Maternal</td>\n",
       "      <td>SNV</td>\n",
       "      <td>Pregnancy loss, recurrent</td>\n",
       "      <td>NaN</td>\n",
       "      <td>Mus musculus</td>\n",
       "      <td>mRNA</td>\n",
       "    </tr>\n",
       "    <tr>\n",
       "      <th>11496</th>\n",
       "      <td>AURKB</td>\n",
       "      <td>Ascorbic Acid</td>\n",
       "      <td>affects^cotreatment</td>\n",
       "      <td>Maternal</td>\n",
       "      <td>SNV</td>\n",
       "      <td>Pregnancy loss, recurrent</td>\n",
       "      <td>NaN</td>\n",
       "      <td>Homo sapiens</td>\n",
       "      <td>mRNA</td>\n",
       "    </tr>\n",
       "    <tr>\n",
       "      <th>11497</th>\n",
       "      <td>AURKB</td>\n",
       "      <td>Ascorbic Acid</td>\n",
       "      <td>increases^expression</td>\n",
       "      <td>Maternal</td>\n",
       "      <td>SNV</td>\n",
       "      <td>Pregnancy loss, recurrent</td>\n",
       "      <td>NaN</td>\n",
       "      <td>Homo sapiens</td>\n",
       "      <td>mRNA</td>\n",
       "    </tr>\n",
       "    <tr>\n",
       "      <th>11498</th>\n",
       "      <td>AURKB</td>\n",
       "      <td>Atrazine</td>\n",
       "      <td>affects^expression</td>\n",
       "      <td>Maternal</td>\n",
       "      <td>SNV</td>\n",
       "      <td>Pregnancy loss, recurrent</td>\n",
       "      <td>NaN</td>\n",
       "      <td>Danio rerio</td>\n",
       "      <td>mRNA</td>\n",
       "    </tr>\n",
       "    <tr>\n",
       "      <th>11499</th>\n",
       "      <td>AURKB</td>\n",
       "      <td>Azathioprine</td>\n",
       "      <td>decreases^expression</td>\n",
       "      <td>Maternal</td>\n",
       "      <td>SNV</td>\n",
       "      <td>Pregnancy loss, recurrent</td>\n",
       "      <td>NaN</td>\n",
       "      <td>Homo sapiens</td>\n",
       "      <td>mRNA</td>\n",
       "    </tr>\n",
       "    <tr>\n",
       "      <th>11500</th>\n",
       "      <td>AURKB</td>\n",
       "      <td>AZD 1152-HQPA</td>\n",
       "      <td>decreases^reaction</td>\n",
       "      <td>Maternal</td>\n",
       "      <td>SNV</td>\n",
       "      <td>Pregnancy loss, recurrent</td>\n",
       "      <td>NaN</td>\n",
       "      <td>Homo sapiens</td>\n",
       "      <td>protein</td>\n",
       "    </tr>\n",
       "    <tr>\n",
       "      <th>11501</th>\n",
       "      <td>AURKB</td>\n",
       "      <td>AZD 1152-HQPA</td>\n",
       "      <td>increases^phosphorylation</td>\n",
       "      <td>Maternal</td>\n",
       "      <td>SNV</td>\n",
       "      <td>Pregnancy loss, recurrent</td>\n",
       "      <td>NaN</td>\n",
       "      <td>Homo sapiens</td>\n",
       "      <td>protein</td>\n",
       "    </tr>\n",
       "    <tr>\n",
       "      <th>11502</th>\n",
       "      <td>AURKB</td>\n",
       "      <td>AZD 1152-HQPA</td>\n",
       "      <td>decreases^activity</td>\n",
       "      <td>Maternal</td>\n",
       "      <td>SNV</td>\n",
       "      <td>Pregnancy loss, recurrent</td>\n",
       "      <td>NaN</td>\n",
       "      <td>Homo sapiens</td>\n",
       "      <td>protein</td>\n",
       "    </tr>\n",
       "    <tr>\n",
       "      <th>11503</th>\n",
       "      <td>AURKB</td>\n",
       "      <td>bardoxolone methyl</td>\n",
       "      <td>decreases^activity</td>\n",
       "      <td>Maternal</td>\n",
       "      <td>SNV</td>\n",
       "      <td>Pregnancy loss, recurrent</td>\n",
       "      <td>NaN</td>\n",
       "      <td>Homo sapiens</td>\n",
       "      <td>protein</td>\n",
       "    </tr>\n",
       "    <tr>\n",
       "      <th>11504</th>\n",
       "      <td>AURKB</td>\n",
       "      <td>belinostat</td>\n",
       "      <td>decreases^activity</td>\n",
       "      <td>Maternal</td>\n",
       "      <td>SNV</td>\n",
       "      <td>Pregnancy loss, recurrent</td>\n",
       "      <td>NaN</td>\n",
       "      <td>Homo sapiens</td>\n",
       "      <td>protein</td>\n",
       "    </tr>\n",
       "    <tr>\n",
       "      <th>11505</th>\n",
       "      <td>AURKB</td>\n",
       "      <td>belinostat</td>\n",
       "      <td>decreases^expression</td>\n",
       "      <td>Maternal</td>\n",
       "      <td>SNV</td>\n",
       "      <td>Pregnancy loss, recurrent</td>\n",
       "      <td>NaN</td>\n",
       "      <td>Homo sapiens</td>\n",
       "      <td>mRNA</td>\n",
       "    </tr>\n",
       "    <tr>\n",
       "      <th>11506</th>\n",
       "      <td>AURKB</td>\n",
       "      <td>belinostat</td>\n",
       "      <td>decreases^expression</td>\n",
       "      <td>Maternal</td>\n",
       "      <td>SNV</td>\n",
       "      <td>Pregnancy loss, recurrent</td>\n",
       "      <td>NaN</td>\n",
       "      <td>Homo sapiens</td>\n",
       "      <td>protein</td>\n",
       "    </tr>\n",
       "    <tr>\n",
       "      <th>11507</th>\n",
       "      <td>AURKB</td>\n",
       "      <td>Benzo(a)pyrene</td>\n",
       "      <td>affects^methylation</td>\n",
       "      <td>Maternal</td>\n",
       "      <td>SNV</td>\n",
       "      <td>Pregnancy loss, recurrent</td>\n",
       "      <td>NaN</td>\n",
       "      <td>Homo sapiens</td>\n",
       "      <td>promoter</td>\n",
       "    </tr>\n",
       "    <tr>\n",
       "      <th>11508</th>\n",
       "      <td>AURKB</td>\n",
       "      <td>Benzo(a)pyrene</td>\n",
       "      <td>decreases^expression</td>\n",
       "      <td>Maternal</td>\n",
       "      <td>SNV</td>\n",
       "      <td>Pregnancy loss, recurrent</td>\n",
       "      <td>NaN</td>\n",
       "      <td>Homo sapiens</td>\n",
       "      <td>mRNA</td>\n",
       "    </tr>\n",
       "    <tr>\n",
       "      <th>11509</th>\n",
       "      <td>AURKB</td>\n",
       "      <td>Benzo(a)pyrene</td>\n",
       "      <td>decreases^expression</td>\n",
       "      <td>Maternal</td>\n",
       "      <td>SNV</td>\n",
       "      <td>Pregnancy loss, recurrent</td>\n",
       "      <td>NaN</td>\n",
       "      <td>Homo sapiens</td>\n",
       "      <td>protein</td>\n",
       "    </tr>\n",
       "    <tr>\n",
       "      <th>11510</th>\n",
       "      <td>AURKB</td>\n",
       "      <td>Benzo(a)pyrene</td>\n",
       "      <td>increases^expression</td>\n",
       "      <td>Maternal</td>\n",
       "      <td>SNV</td>\n",
       "      <td>Pregnancy loss, recurrent</td>\n",
       "      <td>NaN</td>\n",
       "      <td>Mus musculus</td>\n",
       "      <td>mRNA</td>\n",
       "    </tr>\n",
       "    <tr>\n",
       "      <th>11511</th>\n",
       "      <td>AURKB</td>\n",
       "      <td>benzyloxycarbonylleucyl-leucyl-leucine aldehyde</td>\n",
       "      <td>affects^cotreatment</td>\n",
       "      <td>Maternal</td>\n",
       "      <td>SNV</td>\n",
       "      <td>Pregnancy loss, recurrent</td>\n",
       "      <td>NaN</td>\n",
       "      <td>Homo sapiens</td>\n",
       "      <td>protein</td>\n",
       "    </tr>\n",
       "    <tr>\n",
       "      <th>11512</th>\n",
       "      <td>AURKB</td>\n",
       "      <td>benzyloxycarbonylleucyl-leucyl-leucine aldehyde</td>\n",
       "      <td>decreases^reaction</td>\n",
       "      <td>Maternal</td>\n",
       "      <td>SNV</td>\n",
       "      <td>Pregnancy loss, recurrent</td>\n",
       "      <td>NaN</td>\n",
       "      <td>Homo sapiens</td>\n",
       "      <td>protein</td>\n",
       "    </tr>\n",
       "    <tr>\n",
       "      <th>11513</th>\n",
       "      <td>AURKB</td>\n",
       "      <td>benzyloxycarbonylleucyl-leucyl-leucine aldehyde</td>\n",
       "      <td>increases^phosphorylation</td>\n",
       "      <td>Maternal</td>\n",
       "      <td>SNV</td>\n",
       "      <td>Pregnancy loss, recurrent</td>\n",
       "      <td>NaN</td>\n",
       "      <td>Homo sapiens</td>\n",
       "      <td>protein</td>\n",
       "    </tr>\n",
       "    <tr>\n",
       "      <th>11514</th>\n",
       "      <td>AURKB</td>\n",
       "      <td>benzyloxycarbonylleucyl-leucyl-leucine aldehyde</td>\n",
       "      <td>affects^cotreatment</td>\n",
       "      <td>Maternal</td>\n",
       "      <td>SNV</td>\n",
       "      <td>Pregnancy loss, recurrent</td>\n",
       "      <td>NaN</td>\n",
       "      <td>Homo sapiens</td>\n",
       "      <td>protein</td>\n",
       "    </tr>\n",
       "    <tr>\n",
       "      <th>11515</th>\n",
       "      <td>AURKB</td>\n",
       "      <td>benzyloxycarbonylleucyl-leucyl-leucine aldehyde</td>\n",
       "      <td>increases^phosphorylation</td>\n",
       "      <td>Maternal</td>\n",
       "      <td>SNV</td>\n",
       "      <td>Pregnancy loss, recurrent</td>\n",
       "      <td>NaN</td>\n",
       "      <td>Homo sapiens</td>\n",
       "      <td>protein</td>\n",
       "    </tr>\n",
       "    <tr>\n",
       "      <th>11516</th>\n",
       "      <td>AURKB</td>\n",
       "      <td>Berberine</td>\n",
       "      <td>decreases^expression</td>\n",
       "      <td>Maternal</td>\n",
       "      <td>SNV</td>\n",
       "      <td>Pregnancy loss, recurrent</td>\n",
       "      <td>NaN</td>\n",
       "      <td>Homo sapiens</td>\n",
       "      <td>mRNA</td>\n",
       "    </tr>\n",
       "    <tr>\n",
       "      <th>11517</th>\n",
       "      <td>AURKB</td>\n",
       "      <td>Biphenyl Compounds</td>\n",
       "      <td>increases^expression</td>\n",
       "      <td>Maternal</td>\n",
       "      <td>SNV</td>\n",
       "      <td>Pregnancy loss, recurrent</td>\n",
       "      <td>NaN</td>\n",
       "      <td>Homo sapiens</td>\n",
       "      <td>mRNA</td>\n",
       "    </tr>\n",
       "    <tr>\n",
       "      <th>11518</th>\n",
       "      <td>AURKB</td>\n",
       "      <td>bisphenol A</td>\n",
       "      <td>affects^expression</td>\n",
       "      <td>Maternal</td>\n",
       "      <td>SNV</td>\n",
       "      <td>Pregnancy loss, recurrent</td>\n",
       "      <td>NaN</td>\n",
       "      <td>Homo sapiens</td>\n",
       "      <td>mRNA</td>\n",
       "    </tr>\n",
       "    <tr>\n",
       "      <th>11519</th>\n",
       "      <td>AURKB</td>\n",
       "      <td>bisphenol A</td>\n",
       "      <td>decreases^expression</td>\n",
       "      <td>Maternal</td>\n",
       "      <td>SNV</td>\n",
       "      <td>Pregnancy loss, recurrent</td>\n",
       "      <td>NaN</td>\n",
       "      <td>Homo sapiens</td>\n",
       "      <td>mRNA</td>\n",
       "    </tr>\n",
       "    <tr>\n",
       "      <th>11520</th>\n",
       "      <td>AURKB</td>\n",
       "      <td>bisphenol A</td>\n",
       "      <td>increases^expression</td>\n",
       "      <td>Maternal</td>\n",
       "      <td>SNV</td>\n",
       "      <td>Pregnancy loss, recurrent</td>\n",
       "      <td>NaN</td>\n",
       "      <td>Homo sapiens</td>\n",
       "      <td>mRNA</td>\n",
       "    </tr>\n",
       "    <tr>\n",
       "      <th>11521</th>\n",
       "      <td>AURKB</td>\n",
       "      <td>bisphenol A</td>\n",
       "      <td>increases^expression</td>\n",
       "      <td>Maternal</td>\n",
       "      <td>SNV</td>\n",
       "      <td>Pregnancy loss, recurrent</td>\n",
       "      <td>NaN</td>\n",
       "      <td>Homo sapiens</td>\n",
       "      <td>protein</td>\n",
       "    </tr>\n",
       "    <tr>\n",
       "      <th>11522</th>\n",
       "      <td>AURKB</td>\n",
       "      <td>bisphenol A</td>\n",
       "      <td>increases^expression</td>\n",
       "      <td>Maternal</td>\n",
       "      <td>SNV</td>\n",
       "      <td>Pregnancy loss, recurrent</td>\n",
       "      <td>NaN</td>\n",
       "      <td>Mus musculus</td>\n",
       "      <td>mRNA</td>\n",
       "    </tr>\n",
       "    <tr>\n",
       "      <th>11523</th>\n",
       "      <td>AURKB</td>\n",
       "      <td>bisphenol A</td>\n",
       "      <td>affects^expression</td>\n",
       "      <td>Maternal</td>\n",
       "      <td>SNV</td>\n",
       "      <td>Pregnancy loss, recurrent</td>\n",
       "      <td>NaN</td>\n",
       "      <td>Rattus norvegicus</td>\n",
       "      <td>mRNA</td>\n",
       "    </tr>\n",
       "    <tr>\n",
       "      <th>11524</th>\n",
       "      <td>AURKB</td>\n",
       "      <td>bisphenol A</td>\n",
       "      <td>decreases^expression</td>\n",
       "      <td>Maternal</td>\n",
       "      <td>SNV</td>\n",
       "      <td>Pregnancy loss, recurrent</td>\n",
       "      <td>NaN</td>\n",
       "      <td>Rattus norvegicus</td>\n",
       "      <td>mRNA</td>\n",
       "    </tr>\n",
       "    <tr>\n",
       "      <th>11525</th>\n",
       "      <td>AURKB</td>\n",
       "      <td>Blood Glucose</td>\n",
       "      <td>affects^cotreatment</td>\n",
       "      <td>Maternal</td>\n",
       "      <td>SNV</td>\n",
       "      <td>Pregnancy loss, recurrent</td>\n",
       "      <td>NaN</td>\n",
       "      <td>Rattus norvegicus</td>\n",
       "      <td>mRNA</td>\n",
       "    </tr>\n",
       "    <tr>\n",
       "      <th>11526</th>\n",
       "      <td>AURKB</td>\n",
       "      <td>Blood Glucose</td>\n",
       "      <td>decreases^expression</td>\n",
       "      <td>Maternal</td>\n",
       "      <td>SNV</td>\n",
       "      <td>Pregnancy loss, recurrent</td>\n",
       "      <td>NaN</td>\n",
       "      <td>Rattus norvegicus</td>\n",
       "      <td>mRNA</td>\n",
       "    </tr>\n",
       "    <tr>\n",
       "      <th>11527</th>\n",
       "      <td>AURKB</td>\n",
       "      <td>Blood Glucose</td>\n",
       "      <td>decreases^reaction</td>\n",
       "      <td>Maternal</td>\n",
       "      <td>SNV</td>\n",
       "      <td>Pregnancy loss, recurrent</td>\n",
       "      <td>NaN</td>\n",
       "      <td>Rattus norvegicus</td>\n",
       "      <td>mRNA</td>\n",
       "    </tr>\n",
       "    <tr>\n",
       "      <th>11528</th>\n",
       "      <td>AURKB</td>\n",
       "      <td>Blood Glucose</td>\n",
       "      <td>affects^cotreatment</td>\n",
       "      <td>Maternal</td>\n",
       "      <td>SNV</td>\n",
       "      <td>Pregnancy loss, recurrent</td>\n",
       "      <td>NaN</td>\n",
       "      <td>Rattus norvegicus</td>\n",
       "      <td>mRNA</td>\n",
       "    </tr>\n",
       "    <tr>\n",
       "      <th>11529</th>\n",
       "      <td>AURKB</td>\n",
       "      <td>Blood Glucose</td>\n",
       "      <td>decreases^expression</td>\n",
       "      <td>Maternal</td>\n",
       "      <td>SNV</td>\n",
       "      <td>Pregnancy loss, recurrent</td>\n",
       "      <td>NaN</td>\n",
       "      <td>Rattus norvegicus</td>\n",
       "      <td>mRNA</td>\n",
       "    </tr>\n",
       "    <tr>\n",
       "      <th>11530</th>\n",
       "      <td>AURKB</td>\n",
       "      <td>Butylated Hydroxyanisole</td>\n",
       "      <td>increases^expression</td>\n",
       "      <td>Maternal</td>\n",
       "      <td>SNV</td>\n",
       "      <td>Pregnancy loss, recurrent</td>\n",
       "      <td>NaN</td>\n",
       "      <td>Rattus norvegicus</td>\n",
       "      <td>protein</td>\n",
       "    </tr>\n",
       "    <tr>\n",
       "      <th>11531</th>\n",
       "      <td>AURKB</td>\n",
       "      <td>Cadmium</td>\n",
       "      <td>decreases^reaction</td>\n",
       "      <td>Maternal</td>\n",
       "      <td>SNV</td>\n",
       "      <td>Pregnancy loss, recurrent</td>\n",
       "      <td>NaN</td>\n",
       "      <td>Homo sapiens</td>\n",
       "      <td>protein</td>\n",
       "    </tr>\n",
       "    <tr>\n",
       "      <th>11532</th>\n",
       "      <td>AURKB</td>\n",
       "      <td>Cadmium</td>\n",
       "      <td>increases^abundance</td>\n",
       "      <td>Maternal</td>\n",
       "      <td>SNV</td>\n",
       "      <td>Pregnancy loss, recurrent</td>\n",
       "      <td>NaN</td>\n",
       "      <td>Homo sapiens</td>\n",
       "      <td>protein</td>\n",
       "    </tr>\n",
       "    <tr>\n",
       "      <th>11533</th>\n",
       "      <td>AURKB</td>\n",
       "      <td>Cadmium</td>\n",
       "      <td>increases^phosphorylation</td>\n",
       "      <td>Maternal</td>\n",
       "      <td>SNV</td>\n",
       "      <td>Pregnancy loss, recurrent</td>\n",
       "      <td>NaN</td>\n",
       "      <td>Homo sapiens</td>\n",
       "      <td>protein</td>\n",
       "    </tr>\n",
       "    <tr>\n",
       "      <th>11534</th>\n",
       "      <td>AURKB</td>\n",
       "      <td>Cadmium</td>\n",
       "      <td>increases^abundance</td>\n",
       "      <td>Maternal</td>\n",
       "      <td>SNV</td>\n",
       "      <td>Pregnancy loss, recurrent</td>\n",
       "      <td>NaN</td>\n",
       "      <td>Homo sapiens</td>\n",
       "      <td>protein</td>\n",
       "    </tr>\n",
       "    <tr>\n",
       "      <th>11535</th>\n",
       "      <td>AURKB</td>\n",
       "      <td>Cadmium</td>\n",
       "      <td>increases^phosphorylation</td>\n",
       "      <td>Maternal</td>\n",
       "      <td>SNV</td>\n",
       "      <td>Pregnancy loss, recurrent</td>\n",
       "      <td>NaN</td>\n",
       "      <td>Homo sapiens</td>\n",
       "      <td>protein</td>\n",
       "    </tr>\n",
       "    <tr>\n",
       "      <th>11536</th>\n",
       "      <td>AURKB</td>\n",
       "      <td>Cadmium</td>\n",
       "      <td>increases^expression</td>\n",
       "      <td>Maternal</td>\n",
       "      <td>SNV</td>\n",
       "      <td>Pregnancy loss, recurrent</td>\n",
       "      <td>NaN</td>\n",
       "      <td>Homo sapiens</td>\n",
       "      <td>mRNA</td>\n",
       "    </tr>\n",
       "    <tr>\n",
       "      <th>11537</th>\n",
       "      <td>AURKB</td>\n",
       "      <td>Cadmium</td>\n",
       "      <td>decreases^reaction</td>\n",
       "      <td>Maternal</td>\n",
       "      <td>SNV</td>\n",
       "      <td>Pregnancy loss, recurrent</td>\n",
       "      <td>NaN</td>\n",
       "      <td>Homo sapiens</td>\n",
       "      <td>mRNA</td>\n",
       "    </tr>\n",
       "    <tr>\n",
       "      <th>11538</th>\n",
       "      <td>AURKB</td>\n",
       "      <td>Cadmium</td>\n",
       "      <td>increases^expression</td>\n",
       "      <td>Maternal</td>\n",
       "      <td>SNV</td>\n",
       "      <td>Pregnancy loss, recurrent</td>\n",
       "      <td>NaN</td>\n",
       "      <td>Homo sapiens</td>\n",
       "      <td>mRNA</td>\n",
       "    </tr>\n",
       "    <tr>\n",
       "      <th>11539</th>\n",
       "      <td>AURKB</td>\n",
       "      <td>Cadmium Chloride</td>\n",
       "      <td>decreases^reaction</td>\n",
       "      <td>Maternal</td>\n",
       "      <td>SNV</td>\n",
       "      <td>Pregnancy loss, recurrent</td>\n",
       "      <td>NaN</td>\n",
       "      <td>Homo sapiens</td>\n",
       "      <td>protein</td>\n",
       "    </tr>\n",
       "    <tr>\n",
       "      <th>11540</th>\n",
       "      <td>AURKB</td>\n",
       "      <td>Cadmium Chloride</td>\n",
       "      <td>increases^abundance</td>\n",
       "      <td>Maternal</td>\n",
       "      <td>SNV</td>\n",
       "      <td>Pregnancy loss, recurrent</td>\n",
       "      <td>NaN</td>\n",
       "      <td>Homo sapiens</td>\n",
       "      <td>protein</td>\n",
       "    </tr>\n",
       "    <tr>\n",
       "      <th>11541</th>\n",
       "      <td>AURKB</td>\n",
       "      <td>Cadmium Chloride</td>\n",
       "      <td>increases^phosphorylation</td>\n",
       "      <td>Maternal</td>\n",
       "      <td>SNV</td>\n",
       "      <td>Pregnancy loss, recurrent</td>\n",
       "      <td>NaN</td>\n",
       "      <td>Homo sapiens</td>\n",
       "      <td>protein</td>\n",
       "    </tr>\n",
       "    <tr>\n",
       "      <th>11542</th>\n",
       "      <td>AURKB</td>\n",
       "      <td>Cadmium Chloride</td>\n",
       "      <td>affects^expression</td>\n",
       "      <td>Maternal</td>\n",
       "      <td>SNV</td>\n",
       "      <td>Pregnancy loss, recurrent</td>\n",
       "      <td>NaN</td>\n",
       "      <td>Homo sapiens</td>\n",
       "      <td>mRNA</td>\n",
       "    </tr>\n",
       "    <tr>\n",
       "      <th>11543</th>\n",
       "      <td>AURKB</td>\n",
       "      <td>Cadmium Chloride</td>\n",
       "      <td>increases^abundance</td>\n",
       "      <td>Maternal</td>\n",
       "      <td>SNV</td>\n",
       "      <td>Pregnancy loss, recurrent</td>\n",
       "      <td>NaN</td>\n",
       "      <td>Homo sapiens</td>\n",
       "      <td>protein</td>\n",
       "    </tr>\n",
       "    <tr>\n",
       "      <th>11544</th>\n",
       "      <td>AURKB</td>\n",
       "      <td>Cadmium Chloride</td>\n",
       "      <td>increases^phosphorylation</td>\n",
       "      <td>Maternal</td>\n",
       "      <td>SNV</td>\n",
       "      <td>Pregnancy loss, recurrent</td>\n",
       "      <td>NaN</td>\n",
       "      <td>Homo sapiens</td>\n",
       "      <td>protein</td>\n",
       "    </tr>\n",
       "    <tr>\n",
       "      <th>11545</th>\n",
       "      <td>AURKB</td>\n",
       "      <td>Cadmium Chloride</td>\n",
       "      <td>decreases^expression</td>\n",
       "      <td>Maternal</td>\n",
       "      <td>SNV</td>\n",
       "      <td>Pregnancy loss, recurrent</td>\n",
       "      <td>NaN</td>\n",
       "      <td>Rattus norvegicus</td>\n",
       "      <td>mRNA</td>\n",
       "    </tr>\n",
       "    <tr>\n",
       "      <th>11546</th>\n",
       "      <td>AURKB</td>\n",
       "      <td>Calcitriol</td>\n",
       "      <td>decreases^expression</td>\n",
       "      <td>Maternal</td>\n",
       "      <td>SNV</td>\n",
       "      <td>Pregnancy loss, recurrent</td>\n",
       "      <td>NaN</td>\n",
       "      <td>Homo sapiens</td>\n",
       "      <td>mRNA</td>\n",
       "    </tr>\n",
       "    <tr>\n",
       "      <th>11547</th>\n",
       "      <td>AURKB</td>\n",
       "      <td>Calcitriol</td>\n",
       "      <td>affects^cotreatment</td>\n",
       "      <td>Maternal</td>\n",
       "      <td>SNV</td>\n",
       "      <td>Pregnancy loss, recurrent</td>\n",
       "      <td>NaN</td>\n",
       "      <td>Homo sapiens</td>\n",
       "      <td>mRNA</td>\n",
       "    </tr>\n",
       "    <tr>\n",
       "      <th>11548</th>\n",
       "      <td>AURKB</td>\n",
       "      <td>Calcitriol</td>\n",
       "      <td>decreases^expression</td>\n",
       "      <td>Maternal</td>\n",
       "      <td>SNV</td>\n",
       "      <td>Pregnancy loss, recurrent</td>\n",
       "      <td>NaN</td>\n",
       "      <td>Homo sapiens</td>\n",
       "      <td>mRNA</td>\n",
       "    </tr>\n",
       "    <tr>\n",
       "      <th>11549</th>\n",
       "      <td>AURKB</td>\n",
       "      <td>Cannabidiol</td>\n",
       "      <td>affects^expression</td>\n",
       "      <td>Maternal</td>\n",
       "      <td>SNV</td>\n",
       "      <td>Pregnancy loss, recurrent</td>\n",
       "      <td>NaN</td>\n",
       "      <td>Danio rerio</td>\n",
       "      <td>mRNA</td>\n",
       "    </tr>\n",
       "    <tr>\n",
       "      <th>11550</th>\n",
       "      <td>AURKB</td>\n",
       "      <td>Cannabidiol</td>\n",
       "      <td>increases^expression</td>\n",
       "      <td>Maternal</td>\n",
       "      <td>SNV</td>\n",
       "      <td>Pregnancy loss, recurrent</td>\n",
       "      <td>NaN</td>\n",
       "      <td>Homo sapiens</td>\n",
       "      <td>mRNA</td>\n",
       "    </tr>\n",
       "    <tr>\n",
       "      <th>11551</th>\n",
       "      <td>AURKB</td>\n",
       "      <td>Carbamates</td>\n",
       "      <td>affects^expression</td>\n",
       "      <td>Maternal</td>\n",
       "      <td>SNV</td>\n",
       "      <td>Pregnancy loss, recurrent</td>\n",
       "      <td>NaN</td>\n",
       "      <td>Mus musculus</td>\n",
       "      <td>protein</td>\n",
       "    </tr>\n",
       "    <tr>\n",
       "      <th>11552</th>\n",
       "      <td>AURKB</td>\n",
       "      <td>Carbon Tetrachloride</td>\n",
       "      <td>increases^expression</td>\n",
       "      <td>Maternal</td>\n",
       "      <td>SNV</td>\n",
       "      <td>Pregnancy loss, recurrent</td>\n",
       "      <td>NaN</td>\n",
       "      <td>Mus musculus</td>\n",
       "      <td>mRNA</td>\n",
       "    </tr>\n",
       "    <tr>\n",
       "      <th>11553</th>\n",
       "      <td>AURKB</td>\n",
       "      <td>catechol</td>\n",
       "      <td>increases^expression</td>\n",
       "      <td>Maternal</td>\n",
       "      <td>SNV</td>\n",
       "      <td>Pregnancy loss, recurrent</td>\n",
       "      <td>NaN</td>\n",
       "      <td>Rattus norvegicus</td>\n",
       "      <td>protein</td>\n",
       "    </tr>\n",
       "    <tr>\n",
       "      <th>11554</th>\n",
       "      <td>AURKB</td>\n",
       "      <td>Cellulose</td>\n",
       "      <td>affects^cotreatment</td>\n",
       "      <td>Maternal</td>\n",
       "      <td>SNV</td>\n",
       "      <td>Pregnancy loss, recurrent</td>\n",
       "      <td>NaN</td>\n",
       "      <td>Mus musculus</td>\n",
       "      <td>mRNA</td>\n",
       "    </tr>\n",
       "    <tr>\n",
       "      <th>11555</th>\n",
       "      <td>AURKB</td>\n",
       "      <td>Cellulose</td>\n",
       "      <td>increases^expression</td>\n",
       "      <td>Maternal</td>\n",
       "      <td>SNV</td>\n",
       "      <td>Pregnancy loss, recurrent</td>\n",
       "      <td>NaN</td>\n",
       "      <td>Mus musculus</td>\n",
       "      <td>mRNA</td>\n",
       "    </tr>\n",
       "    <tr>\n",
       "      <th>11556</th>\n",
       "      <td>AURKB</td>\n",
       "      <td>Cephaloridine</td>\n",
       "      <td>decreases^expression</td>\n",
       "      <td>Maternal</td>\n",
       "      <td>SNV</td>\n",
       "      <td>Pregnancy loss, recurrent</td>\n",
       "      <td>NaN</td>\n",
       "      <td>Rattus norvegicus</td>\n",
       "      <td>mRNA</td>\n",
       "    </tr>\n",
       "    <tr>\n",
       "      <th>11557</th>\n",
       "      <td>AURKB</td>\n",
       "      <td>Chlorambucil</td>\n",
       "      <td>decreases^expression</td>\n",
       "      <td>Maternal</td>\n",
       "      <td>SNV</td>\n",
       "      <td>Pregnancy loss, recurrent</td>\n",
       "      <td>NaN</td>\n",
       "      <td>Mus musculus</td>\n",
       "      <td>protein</td>\n",
       "    </tr>\n",
       "    <tr>\n",
       "      <th>11558</th>\n",
       "      <td>AURKB</td>\n",
       "      <td>chloroacetaldehyde</td>\n",
       "      <td>affects^expression</td>\n",
       "      <td>Maternal</td>\n",
       "      <td>SNV</td>\n",
       "      <td>Pregnancy loss, recurrent</td>\n",
       "      <td>NaN</td>\n",
       "      <td>Homo sapiens</td>\n",
       "      <td>mRNA</td>\n",
       "    </tr>\n",
       "    <tr>\n",
       "      <th>11559</th>\n",
       "      <td>AURKB</td>\n",
       "      <td>Choline</td>\n",
       "      <td>affects^cotreatment</td>\n",
       "      <td>Maternal</td>\n",
       "      <td>SNV</td>\n",
       "      <td>Pregnancy loss, recurrent</td>\n",
       "      <td>NaN</td>\n",
       "      <td>Mus musculus</td>\n",
       "      <td>NaN</td>\n",
       "    </tr>\n",
       "    <tr>\n",
       "      <th>11560</th>\n",
       "      <td>AURKB</td>\n",
       "      <td>Choline</td>\n",
       "      <td>decreases^methylation</td>\n",
       "      <td>Maternal</td>\n",
       "      <td>SNV</td>\n",
       "      <td>Pregnancy loss, recurrent</td>\n",
       "      <td>NaN</td>\n",
       "      <td>Mus musculus</td>\n",
       "      <td>NaN</td>\n",
       "    </tr>\n",
       "    <tr>\n",
       "      <th>11561</th>\n",
       "      <td>AURKB</td>\n",
       "      <td>Choline</td>\n",
       "      <td>increases^expression</td>\n",
       "      <td>Maternal</td>\n",
       "      <td>SNV</td>\n",
       "      <td>Pregnancy loss, recurrent</td>\n",
       "      <td>NaN</td>\n",
       "      <td>Mus musculus</td>\n",
       "      <td>NaN</td>\n",
       "    </tr>\n",
       "    <tr>\n",
       "      <th>11562</th>\n",
       "      <td>AURKB</td>\n",
       "      <td>Choline</td>\n",
       "      <td>affects^cotreatment</td>\n",
       "      <td>Maternal</td>\n",
       "      <td>SNV</td>\n",
       "      <td>Pregnancy loss, recurrent</td>\n",
       "      <td>NaN</td>\n",
       "      <td>Mus musculus</td>\n",
       "      <td>gene</td>\n",
       "    </tr>\n",
       "    <tr>\n",
       "      <th>11563</th>\n",
       "      <td>AURKB</td>\n",
       "      <td>Choline</td>\n",
       "      <td>decreases^methylation</td>\n",
       "      <td>Maternal</td>\n",
       "      <td>SNV</td>\n",
       "      <td>Pregnancy loss, recurrent</td>\n",
       "      <td>NaN</td>\n",
       "      <td>Mus musculus</td>\n",
       "      <td>gene</td>\n",
       "    </tr>\n",
       "    <tr>\n",
       "      <th>11564</th>\n",
       "      <td>AURKB</td>\n",
       "      <td>Choline</td>\n",
       "      <td>affects^cotreatment</td>\n",
       "      <td>Maternal</td>\n",
       "      <td>SNV</td>\n",
       "      <td>Pregnancy loss, recurrent</td>\n",
       "      <td>NaN</td>\n",
       "      <td>Mus musculus</td>\n",
       "      <td>mRNA</td>\n",
       "    </tr>\n",
       "    <tr>\n",
       "      <th>11565</th>\n",
       "      <td>AURKB</td>\n",
       "      <td>Choline</td>\n",
       "      <td>increases^expression</td>\n",
       "      <td>Maternal</td>\n",
       "      <td>SNV</td>\n",
       "      <td>Pregnancy loss, recurrent</td>\n",
       "      <td>NaN</td>\n",
       "      <td>Mus musculus</td>\n",
       "      <td>mRNA</td>\n",
       "    </tr>\n",
       "    <tr>\n",
       "      <th>11566</th>\n",
       "      <td>AURKB</td>\n",
       "      <td>Cidofovir</td>\n",
       "      <td>increases^expression</td>\n",
       "      <td>Maternal</td>\n",
       "      <td>SNV</td>\n",
       "      <td>Pregnancy loss, recurrent</td>\n",
       "      <td>NaN</td>\n",
       "      <td>Homo sapiens</td>\n",
       "      <td>mRNA</td>\n",
       "    </tr>\n",
       "    <tr>\n",
       "      <th>11567</th>\n",
       "      <td>AURKB</td>\n",
       "      <td>Cisplatin</td>\n",
       "      <td>decreases^response to substance</td>\n",
       "      <td>Maternal</td>\n",
       "      <td>SNV</td>\n",
       "      <td>Pregnancy loss, recurrent</td>\n",
       "      <td>NaN</td>\n",
       "      <td>Homo sapiens</td>\n",
       "      <td>mRNA</td>\n",
       "    </tr>\n",
       "    <tr>\n",
       "      <th>11568</th>\n",
       "      <td>AURKB</td>\n",
       "      <td>Cisplatin</td>\n",
       "      <td>increases^expression</td>\n",
       "      <td>Maternal</td>\n",
       "      <td>SNV</td>\n",
       "      <td>Pregnancy loss, recurrent</td>\n",
       "      <td>NaN</td>\n",
       "      <td>Homo sapiens</td>\n",
       "      <td>mRNA</td>\n",
       "    </tr>\n",
       "    <tr>\n",
       "      <th>11569</th>\n",
       "      <td>AURKB</td>\n",
       "      <td>Cisplatin</td>\n",
       "      <td>increases^expression</td>\n",
       "      <td>Maternal</td>\n",
       "      <td>SNV</td>\n",
       "      <td>Pregnancy loss, recurrent</td>\n",
       "      <td>NaN</td>\n",
       "      <td>Homo sapiens</td>\n",
       "      <td>mRNA</td>\n",
       "    </tr>\n",
       "    <tr>\n",
       "      <th>11570</th>\n",
       "      <td>AURKB</td>\n",
       "      <td>Clobetasol</td>\n",
       "      <td>increases^expression</td>\n",
       "      <td>Maternal</td>\n",
       "      <td>SNV</td>\n",
       "      <td>Pregnancy loss, recurrent</td>\n",
       "      <td>NaN</td>\n",
       "      <td>Mus musculus</td>\n",
       "      <td>mRNA</td>\n",
       "    </tr>\n",
       "    <tr>\n",
       "      <th>11571</th>\n",
       "      <td>AURKB</td>\n",
       "      <td>Clodronic Acid</td>\n",
       "      <td>increases^expression</td>\n",
       "      <td>Maternal</td>\n",
       "      <td>SNV</td>\n",
       "      <td>Pregnancy loss, recurrent</td>\n",
       "      <td>NaN</td>\n",
       "      <td>Homo sapiens</td>\n",
       "      <td>mRNA</td>\n",
       "    </tr>\n",
       "    <tr>\n",
       "      <th>11572</th>\n",
       "      <td>AURKB</td>\n",
       "      <td>cobaltous chloride</td>\n",
       "      <td>decreases^expression</td>\n",
       "      <td>Maternal</td>\n",
       "      <td>SNV</td>\n",
       "      <td>Pregnancy loss, recurrent</td>\n",
       "      <td>NaN</td>\n",
       "      <td>Homo sapiens</td>\n",
       "      <td>mRNA</td>\n",
       "    </tr>\n",
       "    <tr>\n",
       "      <th>11573</th>\n",
       "      <td>AURKB</td>\n",
       "      <td>Colchicine</td>\n",
       "      <td>increases^expression</td>\n",
       "      <td>Maternal</td>\n",
       "      <td>SNV</td>\n",
       "      <td>Pregnancy loss, recurrent</td>\n",
       "      <td>NaN</td>\n",
       "      <td>Homo sapiens</td>\n",
       "      <td>mRNA</td>\n",
       "    </tr>\n",
       "    <tr>\n",
       "      <th>11574</th>\n",
       "      <td>AURKB</td>\n",
       "      <td>Copper</td>\n",
       "      <td>affects^binding</td>\n",
       "      <td>Maternal</td>\n",
       "      <td>SNV</td>\n",
       "      <td>Pregnancy loss, recurrent</td>\n",
       "      <td>NaN</td>\n",
       "      <td>Homo sapiens</td>\n",
       "      <td>mRNA</td>\n",
       "    </tr>\n",
       "    <tr>\n",
       "      <th>11575</th>\n",
       "      <td>AURKB</td>\n",
       "      <td>Copper</td>\n",
       "      <td>decreases^expression</td>\n",
       "      <td>Maternal</td>\n",
       "      <td>SNV</td>\n",
       "      <td>Pregnancy loss, recurrent</td>\n",
       "      <td>NaN</td>\n",
       "      <td>Homo sapiens</td>\n",
       "      <td>mRNA</td>\n",
       "    </tr>\n",
       "    <tr>\n",
       "      <th>11576</th>\n",
       "      <td>AURKB</td>\n",
       "      <td>Copper</td>\n",
       "      <td>increases^expression</td>\n",
       "      <td>Maternal</td>\n",
       "      <td>SNV</td>\n",
       "      <td>Pregnancy loss, recurrent</td>\n",
       "      <td>NaN</td>\n",
       "      <td>Rattus norvegicus</td>\n",
       "      <td>mRNA</td>\n",
       "    </tr>\n",
       "    <tr>\n",
       "      <th>11577</th>\n",
       "      <td>AURKB</td>\n",
       "      <td>copper-1,10-phenanthroline</td>\n",
       "      <td>increases^expression</td>\n",
       "      <td>Maternal</td>\n",
       "      <td>SNV</td>\n",
       "      <td>Pregnancy loss, recurrent</td>\n",
       "      <td>NaN</td>\n",
       "      <td>Homo sapiens</td>\n",
       "      <td>protein</td>\n",
       "    </tr>\n",
       "    <tr>\n",
       "      <th>11578</th>\n",
       "      <td>AURKB</td>\n",
       "      <td>Copper Sulfate</td>\n",
       "      <td>decreases^expression</td>\n",
       "      <td>Maternal</td>\n",
       "      <td>SNV</td>\n",
       "      <td>Pregnancy loss, recurrent</td>\n",
       "      <td>NaN</td>\n",
       "      <td>Homo sapiens</td>\n",
       "      <td>mRNA</td>\n",
       "    </tr>\n",
       "    <tr>\n",
       "      <th>11579</th>\n",
       "      <td>AURKB</td>\n",
       "      <td>Corticosterone</td>\n",
       "      <td>decreases^expression</td>\n",
       "      <td>Maternal</td>\n",
       "      <td>SNV</td>\n",
       "      <td>Pregnancy loss, recurrent</td>\n",
       "      <td>NaN</td>\n",
       "      <td>Rattus norvegicus</td>\n",
       "      <td>mRNA</td>\n",
       "    </tr>\n",
       "    <tr>\n",
       "      <th>11580</th>\n",
       "      <td>AURKB</td>\n",
       "      <td>Coumestrol</td>\n",
       "      <td>affects^cotreatment</td>\n",
       "      <td>Maternal</td>\n",
       "      <td>SNV</td>\n",
       "      <td>Pregnancy loss, recurrent</td>\n",
       "      <td>NaN</td>\n",
       "      <td>Homo sapiens</td>\n",
       "      <td>mRNA</td>\n",
       "    </tr>\n",
       "    <tr>\n",
       "      <th>11581</th>\n",
       "      <td>AURKB</td>\n",
       "      <td>Coumestrol</td>\n",
       "      <td>increases^expression</td>\n",
       "      <td>Maternal</td>\n",
       "      <td>SNV</td>\n",
       "      <td>Pregnancy loss, recurrent</td>\n",
       "      <td>NaN</td>\n",
       "      <td>Homo sapiens</td>\n",
       "      <td>mRNA</td>\n",
       "    </tr>\n",
       "    <tr>\n",
       "      <th>11582</th>\n",
       "      <td>AURKB</td>\n",
       "      <td>Coumestrol</td>\n",
       "      <td>affects^cotreatment</td>\n",
       "      <td>Maternal</td>\n",
       "      <td>SNV</td>\n",
       "      <td>Pregnancy loss, recurrent</td>\n",
       "      <td>NaN</td>\n",
       "      <td>Homo sapiens</td>\n",
       "      <td>mRNA</td>\n",
       "    </tr>\n",
       "    <tr>\n",
       "      <th>11583</th>\n",
       "      <td>AURKB</td>\n",
       "      <td>Coumestrol</td>\n",
       "      <td>increases^expression</td>\n",
       "      <td>Maternal</td>\n",
       "      <td>SNV</td>\n",
       "      <td>Pregnancy loss, recurrent</td>\n",
       "      <td>NaN</td>\n",
       "      <td>Homo sapiens</td>\n",
       "      <td>mRNA</td>\n",
       "    </tr>\n",
       "    <tr>\n",
       "      <th>11584</th>\n",
       "      <td>AURKB</td>\n",
       "      <td>Coumestrol</td>\n",
       "      <td>increases^expression</td>\n",
       "      <td>Maternal</td>\n",
       "      <td>SNV</td>\n",
       "      <td>Pregnancy loss, recurrent</td>\n",
       "      <td>NaN</td>\n",
       "      <td>Homo sapiens</td>\n",
       "      <td>mRNA</td>\n",
       "    </tr>\n",
       "    <tr>\n",
       "      <th>11585</th>\n",
       "      <td>AURKB</td>\n",
       "      <td>cupric oxide</td>\n",
       "      <td>decreases^expression</td>\n",
       "      <td>Maternal</td>\n",
       "      <td>SNV</td>\n",
       "      <td>Pregnancy loss, recurrent</td>\n",
       "      <td>NaN</td>\n",
       "      <td>Homo sapiens</td>\n",
       "      <td>mRNA</td>\n",
       "    </tr>\n",
       "    <tr>\n",
       "      <th>11586</th>\n",
       "      <td>AURKB</td>\n",
       "      <td>Cuprizone</td>\n",
       "      <td>increases^expression</td>\n",
       "      <td>Maternal</td>\n",
       "      <td>SNV</td>\n",
       "      <td>Pregnancy loss, recurrent</td>\n",
       "      <td>NaN</td>\n",
       "      <td>Rattus norvegicus</td>\n",
       "      <td>mRNA</td>\n",
       "    </tr>\n",
       "    <tr>\n",
       "      <th>11587</th>\n",
       "      <td>AURKB</td>\n",
       "      <td>Curcumin</td>\n",
       "      <td>decreases^expression</td>\n",
       "      <td>Maternal</td>\n",
       "      <td>SNV</td>\n",
       "      <td>Pregnancy loss, recurrent</td>\n",
       "      <td>NaN</td>\n",
       "      <td>Homo sapiens</td>\n",
       "      <td>mRNA</td>\n",
       "    </tr>\n",
       "    <tr>\n",
       "      <th>11588</th>\n",
       "      <td>AURKB</td>\n",
       "      <td>Cyclophosphamide</td>\n",
       "      <td>increases^expression</td>\n",
       "      <td>Maternal</td>\n",
       "      <td>SNV</td>\n",
       "      <td>Pregnancy loss, recurrent</td>\n",
       "      <td>NaN</td>\n",
       "      <td>Rattus norvegicus</td>\n",
       "      <td>mRNA</td>\n",
       "    </tr>\n",
       "    <tr>\n",
       "      <th>11589</th>\n",
       "      <td>AURKB</td>\n",
       "      <td>Cyclosporine</td>\n",
       "      <td>decreases^expression</td>\n",
       "      <td>Maternal</td>\n",
       "      <td>SNV</td>\n",
       "      <td>Pregnancy loss, recurrent</td>\n",
       "      <td>NaN</td>\n",
       "      <td>Homo sapiens</td>\n",
       "      <td>mRNA</td>\n",
       "    </tr>\n",
       "    <tr>\n",
       "      <th>11590</th>\n",
       "      <td>AURKB</td>\n",
       "      <td>dan-shen root extract</td>\n",
       "      <td>affects^cotreatment</td>\n",
       "      <td>Maternal</td>\n",
       "      <td>SNV</td>\n",
       "      <td>Pregnancy loss, recurrent</td>\n",
       "      <td>NaN</td>\n",
       "      <td>Rattus norvegicus</td>\n",
       "      <td>mRNA</td>\n",
       "    </tr>\n",
       "    <tr>\n",
       "      <th>11591</th>\n",
       "      <td>AURKB</td>\n",
       "      <td>dan-shen root extract</td>\n",
       "      <td>decreases^expression</td>\n",
       "      <td>Maternal</td>\n",
       "      <td>SNV</td>\n",
       "      <td>Pregnancy loss, recurrent</td>\n",
       "      <td>NaN</td>\n",
       "      <td>Rattus norvegicus</td>\n",
       "      <td>mRNA</td>\n",
       "    </tr>\n",
       "    <tr>\n",
       "      <th>11592</th>\n",
       "      <td>AURKB</td>\n",
       "      <td>dan-shen root extract</td>\n",
       "      <td>decreases^reaction</td>\n",
       "      <td>Maternal</td>\n",
       "      <td>SNV</td>\n",
       "      <td>Pregnancy loss, recurrent</td>\n",
       "      <td>NaN</td>\n",
       "      <td>Rattus norvegicus</td>\n",
       "      <td>mRNA</td>\n",
       "    </tr>\n",
       "    <tr>\n",
       "      <th>11593</th>\n",
       "      <td>AURKB</td>\n",
       "      <td>Dasatinib</td>\n",
       "      <td>decreases^expression</td>\n",
       "      <td>Maternal</td>\n",
       "      <td>SNV</td>\n",
       "      <td>Pregnancy loss, recurrent</td>\n",
       "      <td>NaN</td>\n",
       "      <td>Homo sapiens</td>\n",
       "      <td>mRNA</td>\n",
       "    </tr>\n",
       "    <tr>\n",
       "      <th>11594</th>\n",
       "      <td>AURKB</td>\n",
       "      <td>D-Aspartic Acid</td>\n",
       "      <td>increases^expression</td>\n",
       "      <td>Maternal</td>\n",
       "      <td>SNV</td>\n",
       "      <td>Pregnancy loss, recurrent</td>\n",
       "      <td>NaN</td>\n",
       "      <td>Mus musculus</td>\n",
       "      <td>protein</td>\n",
       "    </tr>\n",
       "    <tr>\n",
       "      <th>11595</th>\n",
       "      <td>AURKB</td>\n",
       "      <td>decamethrin</td>\n",
       "      <td>decreases^expression</td>\n",
       "      <td>Maternal</td>\n",
       "      <td>SNV</td>\n",
       "      <td>Pregnancy loss, recurrent</td>\n",
       "      <td>NaN</td>\n",
       "      <td>Mus musculus</td>\n",
       "      <td>mRNA</td>\n",
       "    </tr>\n",
       "    <tr>\n",
       "      <th>11596</th>\n",
       "      <td>AURKB</td>\n",
       "      <td>Demecolcine</td>\n",
       "      <td>decreases^expression</td>\n",
       "      <td>Maternal</td>\n",
       "      <td>SNV</td>\n",
       "      <td>Pregnancy loss, recurrent</td>\n",
       "      <td>NaN</td>\n",
       "      <td>Homo sapiens</td>\n",
       "      <td>mRNA</td>\n",
       "    </tr>\n",
       "    <tr>\n",
       "      <th>32564</th>\n",
       "      <td>F2</td>\n",
       "      <td>1,1-dimethylbutyl-1-deoxy-Delta(9)-THC</td>\n",
       "      <td>affects^cotreatment</td>\n",
       "      <td>Maternal</td>\n",
       "      <td>CNV,SNV</td>\n",
       "      <td>Dysprothrombinemia; Hypoprothrombinemia; Throm...</td>\n",
       "      <td>614390,601367,613679,613679,188050</td>\n",
       "      <td>Rattus norvegicus</td>\n",
       "      <td>protein</td>\n",
       "    </tr>\n",
       "    <tr>\n",
       "      <th>32565</th>\n",
       "      <td>F2</td>\n",
       "      <td>1,1-dimethylbutyl-1-deoxy-Delta(9)-THC</td>\n",
       "      <td>increases^expression</td>\n",
       "      <td>Maternal</td>\n",
       "      <td>CNV,SNV</td>\n",
       "      <td>Dysprothrombinemia; Hypoprothrombinemia; Throm...</td>\n",
       "      <td>614390,601367,613679,613679,188050</td>\n",
       "      <td>Rattus norvegicus</td>\n",
       "      <td>protein</td>\n",
       "    </tr>\n",
       "    <tr>\n",
       "      <th>32566</th>\n",
       "      <td>F2</td>\n",
       "      <td>1,1-dimethylbutyl-1-deoxy-Delta(9)-THC</td>\n",
       "      <td>affects^cotreatment</td>\n",
       "      <td>Maternal</td>\n",
       "      <td>CNV,SNV</td>\n",
       "      <td>Dysprothrombinemia; Hypoprothrombinemia; Throm...</td>\n",
       "      <td>614390,601367,613679,613679,188050</td>\n",
       "      <td>Rattus norvegicus</td>\n",
       "      <td>protein</td>\n",
       "    </tr>\n",
       "    <tr>\n",
       "      <th>32567</th>\n",
       "      <td>F2</td>\n",
       "      <td>1,1-dimethylbutyl-1-deoxy-Delta(9)-THC</td>\n",
       "      <td>increases^expression</td>\n",
       "      <td>Maternal</td>\n",
       "      <td>CNV,SNV</td>\n",
       "      <td>Dysprothrombinemia; Hypoprothrombinemia; Throm...</td>\n",
       "      <td>614390,601367,613679,613679,188050</td>\n",
       "      <td>Rattus norvegicus</td>\n",
       "      <td>protein</td>\n",
       "    </tr>\n",
       "    <tr>\n",
       "      <th>32568</th>\n",
       "      <td>F2</td>\n",
       "      <td>1,1-dimethylbutyl-1-deoxy-Delta(9)-THC</td>\n",
       "      <td>affects^cotreatment</td>\n",
       "      <td>Maternal</td>\n",
       "      <td>CNV,SNV</td>\n",
       "      <td>Dysprothrombinemia; Hypoprothrombinemia; Throm...</td>\n",
       "      <td>614390,601367,613679,613679,188050</td>\n",
       "      <td>Rattus norvegicus</td>\n",
       "      <td>protein</td>\n",
       "    </tr>\n",
       "    <tr>\n",
       "      <th>32569</th>\n",
       "      <td>F2</td>\n",
       "      <td>1,1-dimethylbutyl-1-deoxy-Delta(9)-THC</td>\n",
       "      <td>increases^expression</td>\n",
       "      <td>Maternal</td>\n",
       "      <td>CNV,SNV</td>\n",
       "      <td>Dysprothrombinemia; Hypoprothrombinemia; Throm...</td>\n",
       "      <td>614390,601367,613679,613679,188050</td>\n",
       "      <td>Rattus norvegicus</td>\n",
       "      <td>protein</td>\n",
       "    </tr>\n",
       "    <tr>\n",
       "      <th>32570</th>\n",
       "      <td>F2</td>\n",
       "      <td>1,1-dimethylbutyl-1-deoxy-Delta(9)-THC</td>\n",
       "      <td>affects^cotreatment</td>\n",
       "      <td>Maternal</td>\n",
       "      <td>CNV,SNV</td>\n",
       "      <td>Dysprothrombinemia; Hypoprothrombinemia; Throm...</td>\n",
       "      <td>614390,601367,613679,613679,188050</td>\n",
       "      <td>Rattus norvegicus</td>\n",
       "      <td>protein</td>\n",
       "    </tr>\n",
       "    <tr>\n",
       "      <th>32571</th>\n",
       "      <td>F2</td>\n",
       "      <td>1,1-dimethylbutyl-1-deoxy-Delta(9)-THC</td>\n",
       "      <td>increases^expression</td>\n",
       "      <td>Maternal</td>\n",
       "      <td>CNV,SNV</td>\n",
       "      <td>Dysprothrombinemia; Hypoprothrombinemia; Throm...</td>\n",
       "      <td>614390,601367,613679,613679,188050</td>\n",
       "      <td>Rattus norvegicus</td>\n",
       "      <td>protein</td>\n",
       "    </tr>\n",
       "    <tr>\n",
       "      <th>32572</th>\n",
       "      <td>F2</td>\n",
       "      <td>1,1-dimethylbutyl-1-deoxy-Delta(9)-THC</td>\n",
       "      <td>affects^cotreatment</td>\n",
       "      <td>Maternal</td>\n",
       "      <td>CNV,SNV</td>\n",
       "      <td>Dysprothrombinemia; Hypoprothrombinemia; Throm...</td>\n",
       "      <td>614390,601367,613679,613679,188050</td>\n",
       "      <td>Rattus norvegicus</td>\n",
       "      <td>protein</td>\n",
       "    </tr>\n",
       "    <tr>\n",
       "      <th>32573</th>\n",
       "      <td>F2</td>\n",
       "      <td>1,1-dimethylbutyl-1-deoxy-Delta(9)-THC</td>\n",
       "      <td>increases^expression</td>\n",
       "      <td>Maternal</td>\n",
       "      <td>CNV,SNV</td>\n",
       "      <td>Dysprothrombinemia; Hypoprothrombinemia; Throm...</td>\n",
       "      <td>614390,601367,613679,613679,188050</td>\n",
       "      <td>Rattus norvegicus</td>\n",
       "      <td>protein</td>\n",
       "    </tr>\n",
       "    <tr>\n",
       "      <th>32574</th>\n",
       "      <td>F2</td>\n",
       "      <td>1,1-dimethylbutyl-1-deoxy-Delta(9)-THC</td>\n",
       "      <td>affects^cotreatment</td>\n",
       "      <td>Maternal</td>\n",
       "      <td>CNV,SNV</td>\n",
       "      <td>Dysprothrombinemia; Hypoprothrombinemia; Throm...</td>\n",
       "      <td>614390,601367,613679,613679,188050</td>\n",
       "      <td>Rattus norvegicus</td>\n",
       "      <td>protein</td>\n",
       "    </tr>\n",
       "    <tr>\n",
       "      <th>32575</th>\n",
       "      <td>F2</td>\n",
       "      <td>1,1-dimethylbutyl-1-deoxy-Delta(9)-THC</td>\n",
       "      <td>increases^expression</td>\n",
       "      <td>Maternal</td>\n",
       "      <td>CNV,SNV</td>\n",
       "      <td>Dysprothrombinemia; Hypoprothrombinemia; Throm...</td>\n",
       "      <td>614390,601367,613679,613679,188050</td>\n",
       "      <td>Rattus norvegicus</td>\n",
       "      <td>protein</td>\n",
       "    </tr>\n",
       "    <tr>\n",
       "      <th>32576</th>\n",
       "      <td>F2</td>\n",
       "      <td>1,1-dimethylbutyl-1-deoxy-Delta(9)-THC</td>\n",
       "      <td>affects^cotreatment</td>\n",
       "      <td>Maternal</td>\n",
       "      <td>CNV,SNV</td>\n",
       "      <td>Dysprothrombinemia; Hypoprothrombinemia; Throm...</td>\n",
       "      <td>614390,601367,613679,613679,188050</td>\n",
       "      <td>Rattus norvegicus</td>\n",
       "      <td>protein</td>\n",
       "    </tr>\n",
       "    <tr>\n",
       "      <th>32577</th>\n",
       "      <td>F2</td>\n",
       "      <td>1,1-dimethylbutyl-1-deoxy-Delta(9)-THC</td>\n",
       "      <td>increases^expression</td>\n",
       "      <td>Maternal</td>\n",
       "      <td>CNV,SNV</td>\n",
       "      <td>Dysprothrombinemia; Hypoprothrombinemia; Throm...</td>\n",
       "      <td>614390,601367,613679,613679,188050</td>\n",
       "      <td>Rattus norvegicus</td>\n",
       "      <td>protein</td>\n",
       "    </tr>\n",
       "    <tr>\n",
       "      <th>32578</th>\n",
       "      <td>F2</td>\n",
       "      <td>1,1-dimethylbutyl-1-deoxy-Delta(9)-THC</td>\n",
       "      <td>decreases^phosphorylation</td>\n",
       "      <td>Maternal</td>\n",
       "      <td>CNV,SNV</td>\n",
       "      <td>Dysprothrombinemia; Hypoprothrombinemia; Throm...</td>\n",
       "      <td>614390,601367,613679,613679,188050</td>\n",
       "      <td>Rattus norvegicus</td>\n",
       "      <td>protein</td>\n",
       "    </tr>\n",
       "    <tr>\n",
       "      <th>32579</th>\n",
       "      <td>F2</td>\n",
       "      <td>1,1-dimethylbutyl-1-deoxy-Delta(9)-THC</td>\n",
       "      <td>decreases^reaction</td>\n",
       "      <td>Maternal</td>\n",
       "      <td>CNV,SNV</td>\n",
       "      <td>Dysprothrombinemia; Hypoprothrombinemia; Throm...</td>\n",
       "      <td>614390,601367,613679,613679,188050</td>\n",
       "      <td>Rattus norvegicus</td>\n",
       "      <td>protein</td>\n",
       "    </tr>\n",
       "    <tr>\n",
       "      <th>32580</th>\n",
       "      <td>F2</td>\n",
       "      <td>1,1-dimethylbutyl-1-deoxy-Delta(9)-THC</td>\n",
       "      <td>decreases^reaction</td>\n",
       "      <td>Maternal</td>\n",
       "      <td>CNV,SNV</td>\n",
       "      <td>Dysprothrombinemia; Hypoprothrombinemia; Throm...</td>\n",
       "      <td>614390,601367,613679,613679,188050</td>\n",
       "      <td>Rattus norvegicus</td>\n",
       "      <td>protein</td>\n",
       "    </tr>\n",
       "    <tr>\n",
       "      <th>32581</th>\n",
       "      <td>F2</td>\n",
       "      <td>1,1-dimethylbutyl-1-deoxy-Delta(9)-THC</td>\n",
       "      <td>increases^expression</td>\n",
       "      <td>Maternal</td>\n",
       "      <td>CNV,SNV</td>\n",
       "      <td>Dysprothrombinemia; Hypoprothrombinemia; Throm...</td>\n",
       "      <td>614390,601367,613679,613679,188050</td>\n",
       "      <td>Rattus norvegicus</td>\n",
       "      <td>protein</td>\n",
       "    </tr>\n",
       "    <tr>\n",
       "      <th>32582</th>\n",
       "      <td>F2</td>\n",
       "      <td>1,1-dimethylbutyl-1-deoxy-Delta(9)-THC</td>\n",
       "      <td>decreases^reaction</td>\n",
       "      <td>Maternal</td>\n",
       "      <td>CNV,SNV</td>\n",
       "      <td>Dysprothrombinemia; Hypoprothrombinemia; Throm...</td>\n",
       "      <td>614390,601367,613679,613679,188050</td>\n",
       "      <td>Rattus norvegicus</td>\n",
       "      <td>protein</td>\n",
       "    </tr>\n",
       "    <tr>\n",
       "      <th>32583</th>\n",
       "      <td>F2</td>\n",
       "      <td>1,1-dimethylbutyl-1-deoxy-Delta(9)-THC</td>\n",
       "      <td>increases^expression</td>\n",
       "      <td>Maternal</td>\n",
       "      <td>CNV,SNV</td>\n",
       "      <td>Dysprothrombinemia; Hypoprothrombinemia; Throm...</td>\n",
       "      <td>614390,601367,613679,613679,188050</td>\n",
       "      <td>Rattus norvegicus</td>\n",
       "      <td>protein</td>\n",
       "    </tr>\n",
       "    <tr>\n",
       "      <th>32584</th>\n",
       "      <td>F2</td>\n",
       "      <td>1,1-dimethylbutyl-1-deoxy-Delta(9)-THC</td>\n",
       "      <td>decreases^reaction</td>\n",
       "      <td>Maternal</td>\n",
       "      <td>CNV,SNV</td>\n",
       "      <td>Dysprothrombinemia; Hypoprothrombinemia; Throm...</td>\n",
       "      <td>614390,601367,613679,613679,188050</td>\n",
       "      <td>Rattus norvegicus</td>\n",
       "      <td>protein</td>\n",
       "    </tr>\n",
       "    <tr>\n",
       "      <th>32585</th>\n",
       "      <td>F2</td>\n",
       "      <td>1,1-dimethylbutyl-1-deoxy-Delta(9)-THC</td>\n",
       "      <td>increases^expression</td>\n",
       "      <td>Maternal</td>\n",
       "      <td>CNV,SNV</td>\n",
       "      <td>Dysprothrombinemia; Hypoprothrombinemia; Throm...</td>\n",
       "      <td>614390,601367,613679,613679,188050</td>\n",
       "      <td>Rattus norvegicus</td>\n",
       "      <td>protein</td>\n",
       "    </tr>\n",
       "    <tr>\n",
       "      <th>32586</th>\n",
       "      <td>F2</td>\n",
       "      <td>1,1-dimethylbutyl-1-deoxy-Delta(9)-THC</td>\n",
       "      <td>decreases^reaction</td>\n",
       "      <td>Maternal</td>\n",
       "      <td>CNV,SNV</td>\n",
       "      <td>Dysprothrombinemia; Hypoprothrombinemia; Throm...</td>\n",
       "      <td>614390,601367,613679,613679,188050</td>\n",
       "      <td>Rattus norvegicus</td>\n",
       "      <td>protein</td>\n",
       "    </tr>\n",
       "    <tr>\n",
       "      <th>32587</th>\n",
       "      <td>F2</td>\n",
       "      <td>1,1-dimethylbutyl-1-deoxy-Delta(9)-THC</td>\n",
       "      <td>increases^expression</td>\n",
       "      <td>Maternal</td>\n",
       "      <td>CNV,SNV</td>\n",
       "      <td>Dysprothrombinemia; Hypoprothrombinemia; Throm...</td>\n",
       "      <td>614390,601367,613679,613679,188050</td>\n",
       "      <td>Rattus norvegicus</td>\n",
       "      <td>protein</td>\n",
       "    </tr>\n",
       "    <tr>\n",
       "      <th>32588</th>\n",
       "      <td>F2</td>\n",
       "      <td>1,1-dimethylbutyl-1-deoxy-Delta(9)-THC</td>\n",
       "      <td>decreases^reaction</td>\n",
       "      <td>Maternal</td>\n",
       "      <td>CNV,SNV</td>\n",
       "      <td>Dysprothrombinemia; Hypoprothrombinemia; Throm...</td>\n",
       "      <td>614390,601367,613679,613679,188050</td>\n",
       "      <td>Rattus norvegicus</td>\n",
       "      <td>protein</td>\n",
       "    </tr>\n",
       "    <tr>\n",
       "      <th>32589</th>\n",
       "      <td>F2</td>\n",
       "      <td>1,1-dimethylbutyl-1-deoxy-Delta(9)-THC</td>\n",
       "      <td>increases^expression</td>\n",
       "      <td>Maternal</td>\n",
       "      <td>CNV,SNV</td>\n",
       "      <td>Dysprothrombinemia; Hypoprothrombinemia; Throm...</td>\n",
       "      <td>614390,601367,613679,613679,188050</td>\n",
       "      <td>Rattus norvegicus</td>\n",
       "      <td>protein</td>\n",
       "    </tr>\n",
       "    <tr>\n",
       "      <th>32590</th>\n",
       "      <td>F2</td>\n",
       "      <td>1,1-dimethylbutyl-1-deoxy-Delta(9)-THC</td>\n",
       "      <td>decreases^reaction</td>\n",
       "      <td>Maternal</td>\n",
       "      <td>CNV,SNV</td>\n",
       "      <td>Dysprothrombinemia; Hypoprothrombinemia; Throm...</td>\n",
       "      <td>614390,601367,613679,613679,188050</td>\n",
       "      <td>Rattus norvegicus</td>\n",
       "      <td>protein</td>\n",
       "    </tr>\n",
       "    <tr>\n",
       "      <th>32591</th>\n",
       "      <td>F2</td>\n",
       "      <td>1,1-dimethylbutyl-1-deoxy-Delta(9)-THC</td>\n",
       "      <td>increases^expression</td>\n",
       "      <td>Maternal</td>\n",
       "      <td>CNV,SNV</td>\n",
       "      <td>Dysprothrombinemia; Hypoprothrombinemia; Throm...</td>\n",
       "      <td>614390,601367,613679,613679,188050</td>\n",
       "      <td>Rattus norvegicus</td>\n",
       "      <td>protein</td>\n",
       "    </tr>\n",
       "    <tr>\n",
       "      <th>32592</th>\n",
       "      <td>F2</td>\n",
       "      <td>1,1-dimethylbutyl-1-deoxy-Delta(9)-THC</td>\n",
       "      <td>affects^cotreatment</td>\n",
       "      <td>Maternal</td>\n",
       "      <td>CNV,SNV</td>\n",
       "      <td>Dysprothrombinemia; Hypoprothrombinemia; Throm...</td>\n",
       "      <td>614390,601367,613679,613679,188050</td>\n",
       "      <td>Rattus norvegicus</td>\n",
       "      <td>protein</td>\n",
       "    </tr>\n",
       "    <tr>\n",
       "      <th>32593</th>\n",
       "      <td>F2</td>\n",
       "      <td>1,1-dimethylbutyl-1-deoxy-Delta(9)-THC</td>\n",
       "      <td>decreases^reaction</td>\n",
       "      <td>Maternal</td>\n",
       "      <td>CNV,SNV</td>\n",
       "      <td>Dysprothrombinemia; Hypoprothrombinemia; Throm...</td>\n",
       "      <td>614390,601367,613679,613679,188050</td>\n",
       "      <td>Rattus norvegicus</td>\n",
       "      <td>protein</td>\n",
       "    </tr>\n",
       "    <tr>\n",
       "      <th>32594</th>\n",
       "      <td>F2</td>\n",
       "      <td>1,1-dimethylbutyl-1-deoxy-Delta(9)-THC</td>\n",
       "      <td>increases^expression</td>\n",
       "      <td>Maternal</td>\n",
       "      <td>CNV,SNV</td>\n",
       "      <td>Dysprothrombinemia; Hypoprothrombinemia; Throm...</td>\n",
       "      <td>614390,601367,613679,613679,188050</td>\n",
       "      <td>Rattus norvegicus</td>\n",
       "      <td>protein</td>\n",
       "    </tr>\n",
       "    <tr>\n",
       "      <th>32595</th>\n",
       "      <td>F2</td>\n",
       "      <td>1,1-dimethylbutyl-1-deoxy-Delta(9)-THC</td>\n",
       "      <td>affects^cotreatment</td>\n",
       "      <td>Maternal</td>\n",
       "      <td>CNV,SNV</td>\n",
       "      <td>Dysprothrombinemia; Hypoprothrombinemia; Throm...</td>\n",
       "      <td>614390,601367,613679,613679,188050</td>\n",
       "      <td>Rattus norvegicus</td>\n",
       "      <td>protein</td>\n",
       "    </tr>\n",
       "    <tr>\n",
       "      <th>32596</th>\n",
       "      <td>F2</td>\n",
       "      <td>1,1-dimethylbutyl-1-deoxy-Delta(9)-THC</td>\n",
       "      <td>decreases^reaction</td>\n",
       "      <td>Maternal</td>\n",
       "      <td>CNV,SNV</td>\n",
       "      <td>Dysprothrombinemia; Hypoprothrombinemia; Throm...</td>\n",
       "      <td>614390,601367,613679,613679,188050</td>\n",
       "      <td>Rattus norvegicus</td>\n",
       "      <td>protein</td>\n",
       "    </tr>\n",
       "    <tr>\n",
       "      <th>32597</th>\n",
       "      <td>F2</td>\n",
       "      <td>1,1-dimethylbutyl-1-deoxy-Delta(9)-THC</td>\n",
       "      <td>increases^expression</td>\n",
       "      <td>Maternal</td>\n",
       "      <td>CNV,SNV</td>\n",
       "      <td>Dysprothrombinemia; Hypoprothrombinemia; Throm...</td>\n",
       "      <td>614390,601367,613679,613679,188050</td>\n",
       "      <td>Rattus norvegicus</td>\n",
       "      <td>protein</td>\n",
       "    </tr>\n",
       "    <tr>\n",
       "      <th>32598</th>\n",
       "      <td>F2</td>\n",
       "      <td>1,1-dimethylbutyl-1-deoxy-Delta(9)-THC</td>\n",
       "      <td>affects^cotreatment</td>\n",
       "      <td>Maternal</td>\n",
       "      <td>CNV,SNV</td>\n",
       "      <td>Dysprothrombinemia; Hypoprothrombinemia; Throm...</td>\n",
       "      <td>614390,601367,613679,613679,188050</td>\n",
       "      <td>Rattus norvegicus</td>\n",
       "      <td>protein</td>\n",
       "    </tr>\n",
       "    <tr>\n",
       "      <th>32599</th>\n",
       "      <td>F2</td>\n",
       "      <td>1,1-dimethylbutyl-1-deoxy-Delta(9)-THC</td>\n",
       "      <td>decreases^reaction</td>\n",
       "      <td>Maternal</td>\n",
       "      <td>CNV,SNV</td>\n",
       "      <td>Dysprothrombinemia; Hypoprothrombinemia; Throm...</td>\n",
       "      <td>614390,601367,613679,613679,188050</td>\n",
       "      <td>Rattus norvegicus</td>\n",
       "      <td>protein</td>\n",
       "    </tr>\n",
       "    <tr>\n",
       "      <th>32600</th>\n",
       "      <td>F2</td>\n",
       "      <td>1,1-dimethylbutyl-1-deoxy-Delta(9)-THC</td>\n",
       "      <td>increases^expression</td>\n",
       "      <td>Maternal</td>\n",
       "      <td>CNV,SNV</td>\n",
       "      <td>Dysprothrombinemia; Hypoprothrombinemia; Throm...</td>\n",
       "      <td>614390,601367,613679,613679,188050</td>\n",
       "      <td>Rattus norvegicus</td>\n",
       "      <td>protein</td>\n",
       "    </tr>\n",
       "    <tr>\n",
       "      <th>32601</th>\n",
       "      <td>F2</td>\n",
       "      <td>1,1-dimethylbutyl-1-deoxy-Delta(9)-THC</td>\n",
       "      <td>affects^cotreatment</td>\n",
       "      <td>Maternal</td>\n",
       "      <td>CNV,SNV</td>\n",
       "      <td>Dysprothrombinemia; Hypoprothrombinemia; Throm...</td>\n",
       "      <td>614390,601367,613679,613679,188050</td>\n",
       "      <td>Rattus norvegicus</td>\n",
       "      <td>protein</td>\n",
       "    </tr>\n",
       "    <tr>\n",
       "      <th>32602</th>\n",
       "      <td>F2</td>\n",
       "      <td>1,1-dimethylbutyl-1-deoxy-Delta(9)-THC</td>\n",
       "      <td>decreases^reaction</td>\n",
       "      <td>Maternal</td>\n",
       "      <td>CNV,SNV</td>\n",
       "      <td>Dysprothrombinemia; Hypoprothrombinemia; Throm...</td>\n",
       "      <td>614390,601367,613679,613679,188050</td>\n",
       "      <td>Rattus norvegicus</td>\n",
       "      <td>protein</td>\n",
       "    </tr>\n",
       "    <tr>\n",
       "      <th>32603</th>\n",
       "      <td>F2</td>\n",
       "      <td>1,1-dimethylbutyl-1-deoxy-Delta(9)-THC</td>\n",
       "      <td>increases^expression</td>\n",
       "      <td>Maternal</td>\n",
       "      <td>CNV,SNV</td>\n",
       "      <td>Dysprothrombinemia; Hypoprothrombinemia; Throm...</td>\n",
       "      <td>614390,601367,613679,613679,188050</td>\n",
       "      <td>Rattus norvegicus</td>\n",
       "      <td>protein</td>\n",
       "    </tr>\n",
       "    <tr>\n",
       "      <th>32604</th>\n",
       "      <td>F2</td>\n",
       "      <td>1,1-dimethylbutyl-1-deoxy-Delta(9)-THC</td>\n",
       "      <td>affects^cotreatment</td>\n",
       "      <td>Maternal</td>\n",
       "      <td>CNV,SNV</td>\n",
       "      <td>Dysprothrombinemia; Hypoprothrombinemia; Throm...</td>\n",
       "      <td>614390,601367,613679,613679,188050</td>\n",
       "      <td>Rattus norvegicus</td>\n",
       "      <td>protein</td>\n",
       "    </tr>\n",
       "    <tr>\n",
       "      <th>32605</th>\n",
       "      <td>F2</td>\n",
       "      <td>1,1-dimethylbutyl-1-deoxy-Delta(9)-THC</td>\n",
       "      <td>decreases^reaction</td>\n",
       "      <td>Maternal</td>\n",
       "      <td>CNV,SNV</td>\n",
       "      <td>Dysprothrombinemia; Hypoprothrombinemia; Throm...</td>\n",
       "      <td>614390,601367,613679,613679,188050</td>\n",
       "      <td>Rattus norvegicus</td>\n",
       "      <td>protein</td>\n",
       "    </tr>\n",
       "    <tr>\n",
       "      <th>32606</th>\n",
       "      <td>F2</td>\n",
       "      <td>1,1-dimethylbutyl-1-deoxy-Delta(9)-THC</td>\n",
       "      <td>increases^expression</td>\n",
       "      <td>Maternal</td>\n",
       "      <td>CNV,SNV</td>\n",
       "      <td>Dysprothrombinemia; Hypoprothrombinemia; Throm...</td>\n",
       "      <td>614390,601367,613679,613679,188050</td>\n",
       "      <td>Rattus norvegicus</td>\n",
       "      <td>protein</td>\n",
       "    </tr>\n",
       "    <tr>\n",
       "      <th>32607</th>\n",
       "      <td>F2</td>\n",
       "      <td>1,1-dimethylbutyl-1-deoxy-Delta(9)-THC</td>\n",
       "      <td>affects^cotreatment</td>\n",
       "      <td>Maternal</td>\n",
       "      <td>CNV,SNV</td>\n",
       "      <td>Dysprothrombinemia; Hypoprothrombinemia; Throm...</td>\n",
       "      <td>614390,601367,613679,613679,188050</td>\n",
       "      <td>Rattus norvegicus</td>\n",
       "      <td>protein</td>\n",
       "    </tr>\n",
       "    <tr>\n",
       "      <th>32608</th>\n",
       "      <td>F2</td>\n",
       "      <td>1,1-dimethylbutyl-1-deoxy-Delta(9)-THC</td>\n",
       "      <td>decreases^reaction</td>\n",
       "      <td>Maternal</td>\n",
       "      <td>CNV,SNV</td>\n",
       "      <td>Dysprothrombinemia; Hypoprothrombinemia; Throm...</td>\n",
       "      <td>614390,601367,613679,613679,188050</td>\n",
       "      <td>Rattus norvegicus</td>\n",
       "      <td>protein</td>\n",
       "    </tr>\n",
       "    <tr>\n",
       "      <th>32609</th>\n",
       "      <td>F2</td>\n",
       "      <td>1,1-dimethylbutyl-1-deoxy-Delta(9)-THC</td>\n",
       "      <td>increases^expression</td>\n",
       "      <td>Maternal</td>\n",
       "      <td>CNV,SNV</td>\n",
       "      <td>Dysprothrombinemia; Hypoprothrombinemia; Throm...</td>\n",
       "      <td>614390,601367,613679,613679,188050</td>\n",
       "      <td>Rattus norvegicus</td>\n",
       "      <td>protein</td>\n",
       "    </tr>\n",
       "    <tr>\n",
       "      <th>32610</th>\n",
       "      <td>F2</td>\n",
       "      <td>1,1-dimethylbutyl-1-deoxy-Delta(9)-THC</td>\n",
       "      <td>affects^cotreatment</td>\n",
       "      <td>Maternal</td>\n",
       "      <td>CNV,SNV</td>\n",
       "      <td>Dysprothrombinemia; Hypoprothrombinemia; Throm...</td>\n",
       "      <td>614390,601367,613679,613679,188050</td>\n",
       "      <td>Rattus norvegicus</td>\n",
       "      <td>protein</td>\n",
       "    </tr>\n",
       "    <tr>\n",
       "      <th>32611</th>\n",
       "      <td>F2</td>\n",
       "      <td>1,1-dimethylbutyl-1-deoxy-Delta(9)-THC</td>\n",
       "      <td>decreases^reaction</td>\n",
       "      <td>Maternal</td>\n",
       "      <td>CNV,SNV</td>\n",
       "      <td>Dysprothrombinemia; Hypoprothrombinemia; Throm...</td>\n",
       "      <td>614390,601367,613679,613679,188050</td>\n",
       "      <td>Rattus norvegicus</td>\n",
       "      <td>protein</td>\n",
       "    </tr>\n",
       "    <tr>\n",
       "      <th>32612</th>\n",
       "      <td>F2</td>\n",
       "      <td>1,1-dimethylbutyl-1-deoxy-Delta(9)-THC</td>\n",
       "      <td>increases^expression</td>\n",
       "      <td>Maternal</td>\n",
       "      <td>CNV,SNV</td>\n",
       "      <td>Dysprothrombinemia; Hypoprothrombinemia; Throm...</td>\n",
       "      <td>614390,601367,613679,613679,188050</td>\n",
       "      <td>Rattus norvegicus</td>\n",
       "      <td>protein</td>\n",
       "    </tr>\n",
       "    <tr>\n",
       "      <th>32613</th>\n",
       "      <td>F2</td>\n",
       "      <td>1,1-dimethylbutyl-1-deoxy-Delta(9)-THC</td>\n",
       "      <td>decreases^phosphorylation</td>\n",
       "      <td>Maternal</td>\n",
       "      <td>CNV,SNV</td>\n",
       "      <td>Dysprothrombinemia; Hypoprothrombinemia; Throm...</td>\n",
       "      <td>614390,601367,613679,613679,188050</td>\n",
       "      <td>Rattus norvegicus</td>\n",
       "      <td>protein</td>\n",
       "    </tr>\n",
       "    <tr>\n",
       "      <th>32614</th>\n",
       "      <td>F2</td>\n",
       "      <td>1,1-dimethylbutyl-1-deoxy-Delta(9)-THC</td>\n",
       "      <td>decreases^reaction</td>\n",
       "      <td>Maternal</td>\n",
       "      <td>CNV,SNV</td>\n",
       "      <td>Dysprothrombinemia; Hypoprothrombinemia; Throm...</td>\n",
       "      <td>614390,601367,613679,613679,188050</td>\n",
       "      <td>Rattus norvegicus</td>\n",
       "      <td>protein</td>\n",
       "    </tr>\n",
       "    <tr>\n",
       "      <th>32615</th>\n",
       "      <td>F2</td>\n",
       "      <td>1,1-dimethylbutyl-1-deoxy-Delta(9)-THC</td>\n",
       "      <td>decreases^reaction</td>\n",
       "      <td>Maternal</td>\n",
       "      <td>CNV,SNV</td>\n",
       "      <td>Dysprothrombinemia; Hypoprothrombinemia; Throm...</td>\n",
       "      <td>614390,601367,613679,613679,188050</td>\n",
       "      <td>Rattus norvegicus</td>\n",
       "      <td>protein</td>\n",
       "    </tr>\n",
       "    <tr>\n",
       "      <th>32616</th>\n",
       "      <td>F2</td>\n",
       "      <td>1,1-dimethylbutyl-1-deoxy-Delta(9)-THC</td>\n",
       "      <td>increases^expression</td>\n",
       "      <td>Maternal</td>\n",
       "      <td>CNV,SNV</td>\n",
       "      <td>Dysprothrombinemia; Hypoprothrombinemia; Throm...</td>\n",
       "      <td>614390,601367,613679,613679,188050</td>\n",
       "      <td>Rattus norvegicus</td>\n",
       "      <td>protein</td>\n",
       "    </tr>\n",
       "    <tr>\n",
       "      <th>32617</th>\n",
       "      <td>F2</td>\n",
       "      <td>1,1-dimethylbutyl-1-deoxy-Delta(9)-THC</td>\n",
       "      <td>decreases^reaction</td>\n",
       "      <td>Maternal</td>\n",
       "      <td>CNV,SNV</td>\n",
       "      <td>Dysprothrombinemia; Hypoprothrombinemia; Throm...</td>\n",
       "      <td>614390,601367,613679,613679,188050</td>\n",
       "      <td>Rattus norvegicus</td>\n",
       "      <td>protein</td>\n",
       "    </tr>\n",
       "    <tr>\n",
       "      <th>32618</th>\n",
       "      <td>F2</td>\n",
       "      <td>1,1-dimethylbutyl-1-deoxy-Delta(9)-THC</td>\n",
       "      <td>increases^expression</td>\n",
       "      <td>Maternal</td>\n",
       "      <td>CNV,SNV</td>\n",
       "      <td>Dysprothrombinemia; Hypoprothrombinemia; Throm...</td>\n",
       "      <td>614390,601367,613679,613679,188050</td>\n",
       "      <td>Rattus norvegicus</td>\n",
       "      <td>protein</td>\n",
       "    </tr>\n",
       "    <tr>\n",
       "      <th>32619</th>\n",
       "      <td>F2</td>\n",
       "      <td>1,1-dimethylbutyl-1-deoxy-Delta(9)-THC</td>\n",
       "      <td>decreases^reaction</td>\n",
       "      <td>Maternal</td>\n",
       "      <td>CNV,SNV</td>\n",
       "      <td>Dysprothrombinemia; Hypoprothrombinemia; Throm...</td>\n",
       "      <td>614390,601367,613679,613679,188050</td>\n",
       "      <td>Rattus norvegicus</td>\n",
       "      <td>protein</td>\n",
       "    </tr>\n",
       "    <tr>\n",
       "      <th>32620</th>\n",
       "      <td>F2</td>\n",
       "      <td>1,1-dimethylbutyl-1-deoxy-Delta(9)-THC</td>\n",
       "      <td>increases^expression</td>\n",
       "      <td>Maternal</td>\n",
       "      <td>CNV,SNV</td>\n",
       "      <td>Dysprothrombinemia; Hypoprothrombinemia; Throm...</td>\n",
       "      <td>614390,601367,613679,613679,188050</td>\n",
       "      <td>Rattus norvegicus</td>\n",
       "      <td>protein</td>\n",
       "    </tr>\n",
       "    <tr>\n",
       "      <th>32621</th>\n",
       "      <td>F2</td>\n",
       "      <td>1,1-dimethylbutyl-1-deoxy-Delta(9)-THC</td>\n",
       "      <td>decreases^reaction</td>\n",
       "      <td>Maternal</td>\n",
       "      <td>CNV,SNV</td>\n",
       "      <td>Dysprothrombinemia; Hypoprothrombinemia; Throm...</td>\n",
       "      <td>614390,601367,613679,613679,188050</td>\n",
       "      <td>Rattus norvegicus</td>\n",
       "      <td>protein</td>\n",
       "    </tr>\n",
       "    <tr>\n",
       "      <th>32622</th>\n",
       "      <td>F2</td>\n",
       "      <td>1,1-dimethylbutyl-1-deoxy-Delta(9)-THC</td>\n",
       "      <td>increases^expression</td>\n",
       "      <td>Maternal</td>\n",
       "      <td>CNV,SNV</td>\n",
       "      <td>Dysprothrombinemia; Hypoprothrombinemia; Throm...</td>\n",
       "      <td>614390,601367,613679,613679,188050</td>\n",
       "      <td>Rattus norvegicus</td>\n",
       "      <td>protein</td>\n",
       "    </tr>\n",
       "    <tr>\n",
       "      <th>32623</th>\n",
       "      <td>F2</td>\n",
       "      <td>1,1-dimethylbutyl-1-deoxy-Delta(9)-THC</td>\n",
       "      <td>decreases^reaction</td>\n",
       "      <td>Maternal</td>\n",
       "      <td>CNV,SNV</td>\n",
       "      <td>Dysprothrombinemia; Hypoprothrombinemia; Throm...</td>\n",
       "      <td>614390,601367,613679,613679,188050</td>\n",
       "      <td>Rattus norvegicus</td>\n",
       "      <td>protein</td>\n",
       "    </tr>\n",
       "    <tr>\n",
       "      <th>32624</th>\n",
       "      <td>F2</td>\n",
       "      <td>1,1-dimethylbutyl-1-deoxy-Delta(9)-THC</td>\n",
       "      <td>increases^expression</td>\n",
       "      <td>Maternal</td>\n",
       "      <td>CNV,SNV</td>\n",
       "      <td>Dysprothrombinemia; Hypoprothrombinemia; Throm...</td>\n",
       "      <td>614390,601367,613679,613679,188050</td>\n",
       "      <td>Rattus norvegicus</td>\n",
       "      <td>protein</td>\n",
       "    </tr>\n",
       "    <tr>\n",
       "      <th>32625</th>\n",
       "      <td>F2</td>\n",
       "      <td>1,1-dimethylbutyl-1-deoxy-Delta(9)-THC</td>\n",
       "      <td>decreases^reaction</td>\n",
       "      <td>Maternal</td>\n",
       "      <td>CNV,SNV</td>\n",
       "      <td>Dysprothrombinemia; Hypoprothrombinemia; Throm...</td>\n",
       "      <td>614390,601367,613679,613679,188050</td>\n",
       "      <td>Rattus norvegicus</td>\n",
       "      <td>protein</td>\n",
       "    </tr>\n",
       "    <tr>\n",
       "      <th>32626</th>\n",
       "      <td>F2</td>\n",
       "      <td>1,1-dimethylbutyl-1-deoxy-Delta(9)-THC</td>\n",
       "      <td>increases^expression</td>\n",
       "      <td>Maternal</td>\n",
       "      <td>CNV,SNV</td>\n",
       "      <td>Dysprothrombinemia; Hypoprothrombinemia; Throm...</td>\n",
       "      <td>614390,601367,613679,613679,188050</td>\n",
       "      <td>Rattus norvegicus</td>\n",
       "      <td>protein</td>\n",
       "    </tr>\n",
       "    <tr>\n",
       "      <th>32627</th>\n",
       "      <td>F2</td>\n",
       "      <td>1,1-dimethylbutyl-1-deoxy-Delta(9)-THC</td>\n",
       "      <td>affects^cotreatment</td>\n",
       "      <td>Maternal</td>\n",
       "      <td>CNV,SNV</td>\n",
       "      <td>Dysprothrombinemia; Hypoprothrombinemia; Throm...</td>\n",
       "      <td>614390,601367,613679,613679,188050</td>\n",
       "      <td>Rattus norvegicus</td>\n",
       "      <td>protein</td>\n",
       "    </tr>\n",
       "    <tr>\n",
       "      <th>32628</th>\n",
       "      <td>F2</td>\n",
       "      <td>1,1-dimethylbutyl-1-deoxy-Delta(9)-THC</td>\n",
       "      <td>decreases^reaction</td>\n",
       "      <td>Maternal</td>\n",
       "      <td>CNV,SNV</td>\n",
       "      <td>Dysprothrombinemia; Hypoprothrombinemia; Throm...</td>\n",
       "      <td>614390,601367,613679,613679,188050</td>\n",
       "      <td>Rattus norvegicus</td>\n",
       "      <td>protein</td>\n",
       "    </tr>\n",
       "    <tr>\n",
       "      <th>32629</th>\n",
       "      <td>F2</td>\n",
       "      <td>1,1-dimethylbutyl-1-deoxy-Delta(9)-THC</td>\n",
       "      <td>increases^expression</td>\n",
       "      <td>Maternal</td>\n",
       "      <td>CNV,SNV</td>\n",
       "      <td>Dysprothrombinemia; Hypoprothrombinemia; Throm...</td>\n",
       "      <td>614390,601367,613679,613679,188050</td>\n",
       "      <td>Rattus norvegicus</td>\n",
       "      <td>protein</td>\n",
       "    </tr>\n",
       "    <tr>\n",
       "      <th>32630</th>\n",
       "      <td>F2</td>\n",
       "      <td>1,1-dimethylbutyl-1-deoxy-Delta(9)-THC</td>\n",
       "      <td>affects^cotreatment</td>\n",
       "      <td>Maternal</td>\n",
       "      <td>CNV,SNV</td>\n",
       "      <td>Dysprothrombinemia; Hypoprothrombinemia; Throm...</td>\n",
       "      <td>614390,601367,613679,613679,188050</td>\n",
       "      <td>Rattus norvegicus</td>\n",
       "      <td>protein</td>\n",
       "    </tr>\n",
       "    <tr>\n",
       "      <th>32631</th>\n",
       "      <td>F2</td>\n",
       "      <td>1,1-dimethylbutyl-1-deoxy-Delta(9)-THC</td>\n",
       "      <td>decreases^reaction</td>\n",
       "      <td>Maternal</td>\n",
       "      <td>CNV,SNV</td>\n",
       "      <td>Dysprothrombinemia; Hypoprothrombinemia; Throm...</td>\n",
       "      <td>614390,601367,613679,613679,188050</td>\n",
       "      <td>Rattus norvegicus</td>\n",
       "      <td>protein</td>\n",
       "    </tr>\n",
       "    <tr>\n",
       "      <th>32632</th>\n",
       "      <td>F2</td>\n",
       "      <td>1,1-dimethylbutyl-1-deoxy-Delta(9)-THC</td>\n",
       "      <td>increases^expression</td>\n",
       "      <td>Maternal</td>\n",
       "      <td>CNV,SNV</td>\n",
       "      <td>Dysprothrombinemia; Hypoprothrombinemia; Throm...</td>\n",
       "      <td>614390,601367,613679,613679,188050</td>\n",
       "      <td>Rattus norvegicus</td>\n",
       "      <td>protein</td>\n",
       "    </tr>\n",
       "    <tr>\n",
       "      <th>32633</th>\n",
       "      <td>F2</td>\n",
       "      <td>1,1-dimethylbutyl-1-deoxy-Delta(9)-THC</td>\n",
       "      <td>affects^cotreatment</td>\n",
       "      <td>Maternal</td>\n",
       "      <td>CNV,SNV</td>\n",
       "      <td>Dysprothrombinemia; Hypoprothrombinemia; Throm...</td>\n",
       "      <td>614390,601367,613679,613679,188050</td>\n",
       "      <td>Rattus norvegicus</td>\n",
       "      <td>protein</td>\n",
       "    </tr>\n",
       "    <tr>\n",
       "      <th>32634</th>\n",
       "      <td>F2</td>\n",
       "      <td>1,1-dimethylbutyl-1-deoxy-Delta(9)-THC</td>\n",
       "      <td>decreases^reaction</td>\n",
       "      <td>Maternal</td>\n",
       "      <td>CNV,SNV</td>\n",
       "      <td>Dysprothrombinemia; Hypoprothrombinemia; Throm...</td>\n",
       "      <td>614390,601367,613679,613679,188050</td>\n",
       "      <td>Rattus norvegicus</td>\n",
       "      <td>protein</td>\n",
       "    </tr>\n",
       "    <tr>\n",
       "      <th>32635</th>\n",
       "      <td>F2</td>\n",
       "      <td>1,1-dimethylbutyl-1-deoxy-Delta(9)-THC</td>\n",
       "      <td>increases^expression</td>\n",
       "      <td>Maternal</td>\n",
       "      <td>CNV,SNV</td>\n",
       "      <td>Dysprothrombinemia; Hypoprothrombinemia; Throm...</td>\n",
       "      <td>614390,601367,613679,613679,188050</td>\n",
       "      <td>Rattus norvegicus</td>\n",
       "      <td>protein</td>\n",
       "    </tr>\n",
       "    <tr>\n",
       "      <th>32636</th>\n",
       "      <td>F2</td>\n",
       "      <td>1,1-dimethylbutyl-1-deoxy-Delta(9)-THC</td>\n",
       "      <td>decreases^reaction</td>\n",
       "      <td>Maternal</td>\n",
       "      <td>CNV,SNV</td>\n",
       "      <td>Dysprothrombinemia; Hypoprothrombinemia; Throm...</td>\n",
       "      <td>614390,601367,613679,613679,188050</td>\n",
       "      <td>Rattus norvegicus</td>\n",
       "      <td>protein</td>\n",
       "    </tr>\n",
       "    <tr>\n",
       "      <th>32637</th>\n",
       "      <td>F2</td>\n",
       "      <td>1,1-dimethylbutyl-1-deoxy-Delta(9)-THC</td>\n",
       "      <td>increases^expression</td>\n",
       "      <td>Maternal</td>\n",
       "      <td>CNV,SNV</td>\n",
       "      <td>Dysprothrombinemia; Hypoprothrombinemia; Throm...</td>\n",
       "      <td>614390,601367,613679,613679,188050</td>\n",
       "      <td>Rattus norvegicus</td>\n",
       "      <td>protein</td>\n",
       "    </tr>\n",
       "    <tr>\n",
       "      <th>32638</th>\n",
       "      <td>F2</td>\n",
       "      <td>1,1-dimethylbutyl-1-deoxy-Delta(9)-THC</td>\n",
       "      <td>decreases^reaction</td>\n",
       "      <td>Maternal</td>\n",
       "      <td>CNV,SNV</td>\n",
       "      <td>Dysprothrombinemia; Hypoprothrombinemia; Throm...</td>\n",
       "      <td>614390,601367,613679,613679,188050</td>\n",
       "      <td>Rattus norvegicus</td>\n",
       "      <td>protein</td>\n",
       "    </tr>\n",
       "    <tr>\n",
       "      <th>32639</th>\n",
       "      <td>F2</td>\n",
       "      <td>1,1-dimethylbutyl-1-deoxy-Delta(9)-THC</td>\n",
       "      <td>increases^expression</td>\n",
       "      <td>Maternal</td>\n",
       "      <td>CNV,SNV</td>\n",
       "      <td>Dysprothrombinemia; Hypoprothrombinemia; Throm...</td>\n",
       "      <td>614390,601367,613679,613679,188050</td>\n",
       "      <td>Rattus norvegicus</td>\n",
       "      <td>protein</td>\n",
       "    </tr>\n",
       "    <tr>\n",
       "      <th>32640</th>\n",
       "      <td>F2</td>\n",
       "      <td>1,1-dimethylbutyl-1-deoxy-Delta(9)-THC</td>\n",
       "      <td>decreases^reaction</td>\n",
       "      <td>Maternal</td>\n",
       "      <td>CNV,SNV</td>\n",
       "      <td>Dysprothrombinemia; Hypoprothrombinemia; Throm...</td>\n",
       "      <td>614390,601367,613679,613679,188050</td>\n",
       "      <td>Rattus norvegicus</td>\n",
       "      <td>protein</td>\n",
       "    </tr>\n",
       "    <tr>\n",
       "      <th>32641</th>\n",
       "      <td>F2</td>\n",
       "      <td>1,1-dimethylbutyl-1-deoxy-Delta(9)-THC</td>\n",
       "      <td>increases^expression</td>\n",
       "      <td>Maternal</td>\n",
       "      <td>CNV,SNV</td>\n",
       "      <td>Dysprothrombinemia; Hypoprothrombinemia; Throm...</td>\n",
       "      <td>614390,601367,613679,613679,188050</td>\n",
       "      <td>Rattus norvegicus</td>\n",
       "      <td>protein</td>\n",
       "    </tr>\n",
       "    <tr>\n",
       "      <th>32642</th>\n",
       "      <td>F2</td>\n",
       "      <td>1,3-butadiene</td>\n",
       "      <td>decreases^expression</td>\n",
       "      <td>Maternal</td>\n",
       "      <td>CNV,SNV</td>\n",
       "      <td>Dysprothrombinemia; Hypoprothrombinemia; Throm...</td>\n",
       "      <td>614390,601367,613679,613679,188050</td>\n",
       "      <td>Mus musculus</td>\n",
       "      <td>mRNA</td>\n",
       "    </tr>\n",
       "    <tr>\n",
       "      <th>32643</th>\n",
       "      <td>F2</td>\n",
       "      <td>1-(6-((3-methoxyestra-1,3,5(10)-trien-17-yl)am...</td>\n",
       "      <td>decreases^reaction</td>\n",
       "      <td>Maternal</td>\n",
       "      <td>CNV,SNV</td>\n",
       "      <td>Dysprothrombinemia; Hypoprothrombinemia; Throm...</td>\n",
       "      <td>614390,601367,613679,613679,188050</td>\n",
       "      <td>Homo sapiens</td>\n",
       "      <td>protein</td>\n",
       "    </tr>\n",
       "    <tr>\n",
       "      <th>32644</th>\n",
       "      <td>F2</td>\n",
       "      <td>1-(6-((3-methoxyestra-1,3,5(10)-trien-17-yl)am...</td>\n",
       "      <td>increases^localization</td>\n",
       "      <td>Maternal</td>\n",
       "      <td>CNV,SNV</td>\n",
       "      <td>Dysprothrombinemia; Hypoprothrombinemia; Throm...</td>\n",
       "      <td>614390,601367,613679,613679,188050</td>\n",
       "      <td>Homo sapiens</td>\n",
       "      <td>protein</td>\n",
       "    </tr>\n",
       "    <tr>\n",
       "      <th>32645</th>\n",
       "      <td>F2</td>\n",
       "      <td>1-aminomethylphosphonic acid</td>\n",
       "      <td>affects^cotreatment</td>\n",
       "      <td>Maternal</td>\n",
       "      <td>CNV,SNV</td>\n",
       "      <td>Dysprothrombinemia; Hypoprothrombinemia; Throm...</td>\n",
       "      <td>614390,601367,613679,613679,188050</td>\n",
       "      <td>Platichthys flesus</td>\n",
       "      <td>mRNA</td>\n",
       "    </tr>\n",
       "    <tr>\n",
       "      <th>32646</th>\n",
       "      <td>F2</td>\n",
       "      <td>1-aminomethylphosphonic acid</td>\n",
       "      <td>decreases^expression</td>\n",
       "      <td>Maternal</td>\n",
       "      <td>CNV,SNV</td>\n",
       "      <td>Dysprothrombinemia; Hypoprothrombinemia; Throm...</td>\n",
       "      <td>614390,601367,613679,613679,188050</td>\n",
       "      <td>Platichthys flesus</td>\n",
       "      <td>mRNA</td>\n",
       "    </tr>\n",
       "    <tr>\n",
       "      <th>32647</th>\n",
       "      <td>F2</td>\n",
       "      <td>1-Methyl-3-isobutylxanthine</td>\n",
       "      <td>decreases^reaction</td>\n",
       "      <td>Maternal</td>\n",
       "      <td>CNV,SNV</td>\n",
       "      <td>Dysprothrombinemia; Hypoprothrombinemia; Throm...</td>\n",
       "      <td>614390,601367,613679,613679,188050</td>\n",
       "      <td>Homo sapiens</td>\n",
       "      <td>protein</td>\n",
       "    </tr>\n",
       "    <tr>\n",
       "      <th>32648</th>\n",
       "      <td>F2</td>\n",
       "      <td>1-Methyl-3-isobutylxanthine</td>\n",
       "      <td>increases^uptake</td>\n",
       "      <td>Maternal</td>\n",
       "      <td>CNV,SNV</td>\n",
       "      <td>Dysprothrombinemia; Hypoprothrombinemia; Throm...</td>\n",
       "      <td>614390,601367,613679,613679,188050</td>\n",
       "      <td>Homo sapiens</td>\n",
       "      <td>protein</td>\n",
       "    </tr>\n",
       "    <tr>\n",
       "      <th>32649</th>\n",
       "      <td>F2</td>\n",
       "      <td>1-Naphthylisothiocyanate</td>\n",
       "      <td>increases^activity</td>\n",
       "      <td>Maternal</td>\n",
       "      <td>CNV,SNV</td>\n",
       "      <td>Dysprothrombinemia; Hypoprothrombinemia; Throm...</td>\n",
       "      <td>614390,601367,613679,613679,188050</td>\n",
       "      <td>Mus musculus</td>\n",
       "      <td>protein</td>\n",
       "    </tr>\n",
       "    <tr>\n",
       "      <th>32650</th>\n",
       "      <td>F2</td>\n",
       "      <td>1-Naphthylisothiocyanate</td>\n",
       "      <td>increases^expression</td>\n",
       "      <td>Maternal</td>\n",
       "      <td>CNV,SNV</td>\n",
       "      <td>Dysprothrombinemia; Hypoprothrombinemia; Throm...</td>\n",
       "      <td>614390,601367,613679,613679,188050</td>\n",
       "      <td>Mus musculus</td>\n",
       "      <td>protein</td>\n",
       "    </tr>\n",
       "    <tr>\n",
       "      <th>32651</th>\n",
       "      <td>F2</td>\n",
       "      <td>1-Naphthylisothiocyanate</td>\n",
       "      <td>increases^expression</td>\n",
       "      <td>Maternal</td>\n",
       "      <td>CNV,SNV</td>\n",
       "      <td>Dysprothrombinemia; Hypoprothrombinemia; Throm...</td>\n",
       "      <td>614390,601367,613679,613679,188050</td>\n",
       "      <td>Mus musculus</td>\n",
       "      <td>protein</td>\n",
       "    </tr>\n",
       "    <tr>\n",
       "      <th>32652</th>\n",
       "      <td>F2</td>\n",
       "      <td>1-Naphthylisothiocyanate</td>\n",
       "      <td>decreases^reaction</td>\n",
       "      <td>Maternal</td>\n",
       "      <td>CNV,SNV</td>\n",
       "      <td>Dysprothrombinemia; Hypoprothrombinemia; Throm...</td>\n",
       "      <td>614390,601367,613679,613679,188050</td>\n",
       "      <td>Mus musculus</td>\n",
       "      <td>protein</td>\n",
       "    </tr>\n",
       "    <tr>\n",
       "      <th>32653</th>\n",
       "      <td>F2</td>\n",
       "      <td>1-Naphthylisothiocyanate</td>\n",
       "      <td>increases^expression</td>\n",
       "      <td>Maternal</td>\n",
       "      <td>CNV,SNV</td>\n",
       "      <td>Dysprothrombinemia; Hypoprothrombinemia; Throm...</td>\n",
       "      <td>614390,601367,613679,613679,188050</td>\n",
       "      <td>Mus musculus</td>\n",
       "      <td>protein</td>\n",
       "    </tr>\n",
       "    <tr>\n",
       "      <th>32654</th>\n",
       "      <td>F2</td>\n",
       "      <td>1-Naphthylisothiocyanate</td>\n",
       "      <td>affects^reaction</td>\n",
       "      <td>Maternal</td>\n",
       "      <td>CNV,SNV</td>\n",
       "      <td>Dysprothrombinemia; Hypoprothrombinemia; Throm...</td>\n",
       "      <td>614390,601367,613679,613679,188050</td>\n",
       "      <td>Mus musculus</td>\n",
       "      <td>protein</td>\n",
       "    </tr>\n",
       "    <tr>\n",
       "      <th>32655</th>\n",
       "      <td>F2</td>\n",
       "      <td>1-Naphthylisothiocyanate</td>\n",
       "      <td>increases^expression</td>\n",
       "      <td>Maternal</td>\n",
       "      <td>CNV,SNV</td>\n",
       "      <td>Dysprothrombinemia; Hypoprothrombinemia; Throm...</td>\n",
       "      <td>614390,601367,613679,613679,188050</td>\n",
       "      <td>Mus musculus</td>\n",
       "      <td>protein</td>\n",
       "    </tr>\n",
       "    <tr>\n",
       "      <th>32656</th>\n",
       "      <td>F2</td>\n",
       "      <td>2,2',3',4,4',5-hexachlorobiphenyl</td>\n",
       "      <td>affects^expression</td>\n",
       "      <td>Maternal</td>\n",
       "      <td>CNV,SNV</td>\n",
       "      <td>Dysprothrombinemia; Hypoprothrombinemia; Throm...</td>\n",
       "      <td>614390,601367,613679,613679,188050</td>\n",
       "      <td>Homo sapiens</td>\n",
       "      <td>mRNA</td>\n",
       "    </tr>\n",
       "    <tr>\n",
       "      <th>32657</th>\n",
       "      <td>F2</td>\n",
       "      <td>2,4,3',5'-tetramethoxystilbene</td>\n",
       "      <td>decreases^reaction</td>\n",
       "      <td>Maternal</td>\n",
       "      <td>CNV,SNV</td>\n",
       "      <td>Dysprothrombinemia; Hypoprothrombinemia; Throm...</td>\n",
       "      <td>614390,601367,613679,613679,188050</td>\n",
       "      <td>Homo sapiens</td>\n",
       "      <td>protein</td>\n",
       "    </tr>\n",
       "    <tr>\n",
       "      <th>32658</th>\n",
       "      <td>F2</td>\n",
       "      <td>2,4,3',5'-tetramethoxystilbene</td>\n",
       "      <td>increases^secretion</td>\n",
       "      <td>Maternal</td>\n",
       "      <td>CNV,SNV</td>\n",
       "      <td>Dysprothrombinemia; Hypoprothrombinemia; Throm...</td>\n",
       "      <td>614390,601367,613679,613679,188050</td>\n",
       "      <td>Homo sapiens</td>\n",
       "      <td>protein</td>\n",
       "    </tr>\n",
       "    <tr>\n",
       "      <th>32659</th>\n",
       "      <td>F2</td>\n",
       "      <td>2,4,3',5'-tetramethoxystilbene</td>\n",
       "      <td>affects^cotreatment</td>\n",
       "      <td>Maternal</td>\n",
       "      <td>CNV,SNV</td>\n",
       "      <td>Dysprothrombinemia; Hypoprothrombinemia; Throm...</td>\n",
       "      <td>614390,601367,613679,613679,188050</td>\n",
       "      <td>Homo sapiens</td>\n",
       "      <td>protein</td>\n",
       "    </tr>\n",
       "    <tr>\n",
       "      <th>32660</th>\n",
       "      <td>F2</td>\n",
       "      <td>2,4,3',5'-tetramethoxystilbene</td>\n",
       "      <td>decreases^reaction</td>\n",
       "      <td>Maternal</td>\n",
       "      <td>CNV,SNV</td>\n",
       "      <td>Dysprothrombinemia; Hypoprothrombinemia; Throm...</td>\n",
       "      <td>614390,601367,613679,613679,188050</td>\n",
       "      <td>Homo sapiens</td>\n",
       "      <td>protein</td>\n",
       "    </tr>\n",
       "    <tr>\n",
       "      <th>32661</th>\n",
       "      <td>F2</td>\n",
       "      <td>2,4,3',5'-tetramethoxystilbene</td>\n",
       "      <td>increases^secretion</td>\n",
       "      <td>Maternal</td>\n",
       "      <td>CNV,SNV</td>\n",
       "      <td>Dysprothrombinemia; Hypoprothrombinemia; Throm...</td>\n",
       "      <td>614390,601367,613679,613679,188050</td>\n",
       "      <td>Homo sapiens</td>\n",
       "      <td>protein</td>\n",
       "    </tr>\n",
       "    <tr>\n",
       "      <th>32662</th>\n",
       "      <td>F2</td>\n",
       "      <td>2,4-Dichlorophenoxyacetic Acid</td>\n",
       "      <td>affects^cotreatment</td>\n",
       "      <td>Maternal</td>\n",
       "      <td>CNV,SNV</td>\n",
       "      <td>Dysprothrombinemia; Hypoprothrombinemia; Throm...</td>\n",
       "      <td>614390,601367,613679,613679,188050</td>\n",
       "      <td>Platichthys flesus</td>\n",
       "      <td>mRNA</td>\n",
       "    </tr>\n",
       "    <tr>\n",
       "      <th>32663</th>\n",
       "      <td>F2</td>\n",
       "      <td>2,4-Dichlorophenoxyacetic Acid</td>\n",
       "      <td>decreases^expression</td>\n",
       "      <td>Maternal</td>\n",
       "      <td>CNV,SNV</td>\n",
       "      <td>Dysprothrombinemia; Hypoprothrombinemia; Throm...</td>\n",
       "      <td>614390,601367,613679,613679,188050</td>\n",
       "      <td>Platichthys flesus</td>\n",
       "      <td>mRNA</td>\n",
       "    </tr>\n",
       "    <tr>\n",
       "      <th>32664</th>\n",
       "      <td>F2</td>\n",
       "      <td>2-(4-morpholinyl)-8-phenyl-4H-1-benzopyran-4-one</td>\n",
       "      <td>decreases^reaction</td>\n",
       "      <td>Maternal</td>\n",
       "      <td>CNV,SNV</td>\n",
       "      <td>Dysprothrombinemia; Hypoprothrombinemia; Throm...</td>\n",
       "      <td>614390,601367,613679,613679,188050</td>\n",
       "      <td>Homo sapiens</td>\n",
       "      <td>protein</td>\n",
       "    </tr>\n",
       "    <tr>\n",
       "      <th>32665</th>\n",
       "      <td>F2</td>\n",
       "      <td>2-(4-morpholinyl)-8-phenyl-4H-1-benzopyran-4-one</td>\n",
       "      <td>increases^localization</td>\n",
       "      <td>Maternal</td>\n",
       "      <td>CNV,SNV</td>\n",
       "      <td>Dysprothrombinemia; Hypoprothrombinemia; Throm...</td>\n",
       "      <td>614390,601367,613679,613679,188050</td>\n",
       "      <td>Homo sapiens</td>\n",
       "      <td>protein</td>\n",
       "    </tr>\n",
       "    <tr>\n",
       "      <th>32666</th>\n",
       "      <td>F2</td>\n",
       "      <td>2,5,2',5'-tetrachlorobiphenyl</td>\n",
       "      <td>affects^expression</td>\n",
       "      <td>Maternal</td>\n",
       "      <td>CNV,SNV</td>\n",
       "      <td>Dysprothrombinemia; Hypoprothrombinemia; Throm...</td>\n",
       "      <td>614390,601367,613679,613679,188050</td>\n",
       "      <td>Homo sapiens</td>\n",
       "      <td>mRNA</td>\n",
       "    </tr>\n",
       "    <tr>\n",
       "      <th>32667</th>\n",
       "      <td>F2</td>\n",
       "      <td>2,6-dinitrotoluene</td>\n",
       "      <td>affects^expression</td>\n",
       "      <td>Maternal</td>\n",
       "      <td>CNV,SNV</td>\n",
       "      <td>Dysprothrombinemia; Hypoprothrombinemia; Throm...</td>\n",
       "      <td>614390,601367,613679,613679,188050</td>\n",
       "      <td>Rattus norvegicus</td>\n",
       "      <td>mRNA</td>\n",
       "    </tr>\n",
       "    <tr>\n",
       "      <th>32668</th>\n",
       "      <td>F2</td>\n",
       "      <td>3-dinitrobenzene</td>\n",
       "      <td>affects^expression</td>\n",
       "      <td>Maternal</td>\n",
       "      <td>CNV,SNV</td>\n",
       "      <td>Dysprothrombinemia; Hypoprothrombinemia; Throm...</td>\n",
       "      <td>614390,601367,613679,613679,188050</td>\n",
       "      <td>Rattus norvegicus</td>\n",
       "      <td>mRNA</td>\n",
       "    </tr>\n",
       "    <tr>\n",
       "      <th>32669</th>\n",
       "      <td>F2</td>\n",
       "      <td>4,4'-hexafluorisopropylidene diphenol</td>\n",
       "      <td>increases^expression</td>\n",
       "      <td>Maternal</td>\n",
       "      <td>CNV,SNV</td>\n",
       "      <td>Dysprothrombinemia; Hypoprothrombinemia; Throm...</td>\n",
       "      <td>614390,601367,613679,613679,188050</td>\n",
       "      <td>Danio rerio</td>\n",
       "      <td>mRNA</td>\n",
       "    </tr>\n",
       "    <tr>\n",
       "      <th>32670</th>\n",
       "      <td>F2</td>\n",
       "      <td>4-(5-benzo(1,3)dioxol-5-yl-4-pyridin-2-yl-1H-i...</td>\n",
       "      <td>affects^cotreatment</td>\n",
       "      <td>Maternal</td>\n",
       "      <td>CNV,SNV</td>\n",
       "      <td>Dysprothrombinemia; Hypoprothrombinemia; Throm...</td>\n",
       "      <td>614390,601367,613679,613679,188050</td>\n",
       "      <td>Homo sapiens</td>\n",
       "      <td>mRNA</td>\n",
       "    </tr>\n",
       "    <tr>\n",
       "      <th>32671</th>\n",
       "      <td>F2</td>\n",
       "      <td>4-(5-benzo(1,3)dioxol-5-yl-4-pyridin-2-yl-1H-i...</td>\n",
       "      <td>increases^expression</td>\n",
       "      <td>Maternal</td>\n",
       "      <td>CNV,SNV</td>\n",
       "      <td>Dysprothrombinemia; Hypoprothrombinemia; Throm...</td>\n",
       "      <td>614390,601367,613679,613679,188050</td>\n",
       "      <td>Homo sapiens</td>\n",
       "      <td>mRNA</td>\n",
       "    </tr>\n",
       "    <tr>\n",
       "      <th>32672</th>\n",
       "      <td>F2</td>\n",
       "      <td>8-Bromo Cyclic Adenosine Monophosphate</td>\n",
       "      <td>decreases^reaction</td>\n",
       "      <td>Maternal</td>\n",
       "      <td>CNV,SNV</td>\n",
       "      <td>Dysprothrombinemia; Hypoprothrombinemia; Throm...</td>\n",
       "      <td>614390,601367,613679,613679,188050</td>\n",
       "      <td>Papio</td>\n",
       "      <td>protein</td>\n",
       "    </tr>\n",
       "    <tr>\n",
       "      <th>32673</th>\n",
       "      <td>F2</td>\n",
       "      <td>8-Bromo Cyclic Adenosine Monophosphate</td>\n",
       "      <td>increases^expression</td>\n",
       "      <td>Maternal</td>\n",
       "      <td>CNV,SNV</td>\n",
       "      <td>Dysprothrombinemia; Hypoprothrombinemia; Throm...</td>\n",
       "      <td>614390,601367,613679,613679,188050</td>\n",
       "      <td>Papio</td>\n",
       "      <td>protein</td>\n",
       "    </tr>\n",
       "    <tr>\n",
       "      <th>32674</th>\n",
       "      <td>F2</td>\n",
       "      <td>Acenocoumarol</td>\n",
       "      <td>decreases^activity</td>\n",
       "      <td>Maternal</td>\n",
       "      <td>CNV,SNV</td>\n",
       "      <td>Dysprothrombinemia; Hypoprothrombinemia; Throm...</td>\n",
       "      <td>614390,601367,613679,613679,188050</td>\n",
       "      <td>Rattus norvegicus</td>\n",
       "      <td>protein</td>\n",
       "    </tr>\n",
       "    <tr>\n",
       "      <th>32675</th>\n",
       "      <td>F2</td>\n",
       "      <td>acetamide</td>\n",
       "      <td>decreases^expression</td>\n",
       "      <td>Maternal</td>\n",
       "      <td>CNV,SNV</td>\n",
       "      <td>Dysprothrombinemia; Hypoprothrombinemia; Throm...</td>\n",
       "      <td>614390,601367,613679,613679,188050</td>\n",
       "      <td>Rattus norvegicus</td>\n",
       "      <td>mRNA</td>\n",
       "    </tr>\n",
       "    <tr>\n",
       "      <th>32676</th>\n",
       "      <td>F2</td>\n",
       "      <td>Acetaminophen</td>\n",
       "      <td>decreases^expression</td>\n",
       "      <td>Maternal</td>\n",
       "      <td>CNV,SNV</td>\n",
       "      <td>Dysprothrombinemia; Hypoprothrombinemia; Throm...</td>\n",
       "      <td>614390,601367,613679,613679,188050</td>\n",
       "      <td>Homo sapiens</td>\n",
       "      <td>mRNA</td>\n",
       "    </tr>\n",
       "    <tr>\n",
       "      <th>32677</th>\n",
       "      <td>F2</td>\n",
       "      <td>Acetaminophen</td>\n",
       "      <td>increases^expression</td>\n",
       "      <td>Maternal</td>\n",
       "      <td>CNV,SNV</td>\n",
       "      <td>Dysprothrombinemia; Hypoprothrombinemia; Throm...</td>\n",
       "      <td>614390,601367,613679,613679,188050</td>\n",
       "      <td>Mus musculus</td>\n",
       "      <td>NaN</td>\n",
       "    </tr>\n",
       "    <tr>\n",
       "      <th>32678</th>\n",
       "      <td>F2</td>\n",
       "      <td>Acetaminophen</td>\n",
       "      <td>affects^localization</td>\n",
       "      <td>Maternal</td>\n",
       "      <td>CNV,SNV</td>\n",
       "      <td>Dysprothrombinemia; Hypoprothrombinemia; Throm...</td>\n",
       "      <td>614390,601367,613679,613679,188050</td>\n",
       "      <td>Rattus norvegicus</td>\n",
       "      <td>protein</td>\n",
       "    </tr>\n",
       "    <tr>\n",
       "      <th>32679</th>\n",
       "      <td>F2</td>\n",
       "      <td>Acetaminophen</td>\n",
       "      <td>decreases^reaction</td>\n",
       "      <td>Maternal</td>\n",
       "      <td>CNV,SNV</td>\n",
       "      <td>Dysprothrombinemia; Hypoprothrombinemia; Throm...</td>\n",
       "      <td>614390,601367,613679,613679,188050</td>\n",
       "      <td>Rattus norvegicus</td>\n",
       "      <td>protein</td>\n",
       "    </tr>\n",
       "    <tr>\n",
       "      <th>32680</th>\n",
       "      <td>F2</td>\n",
       "      <td>Acetaminophen</td>\n",
       "      <td>affects^cotreatment</td>\n",
       "      <td>Maternal</td>\n",
       "      <td>CNV,SNV</td>\n",
       "      <td>Dysprothrombinemia; Hypoprothrombinemia; Throm...</td>\n",
       "      <td>614390,601367,613679,613679,188050</td>\n",
       "      <td>Rattus norvegicus</td>\n",
       "      <td>protein</td>\n",
       "    </tr>\n",
       "    <tr>\n",
       "      <th>32681</th>\n",
       "      <td>F2</td>\n",
       "      <td>Acetaminophen</td>\n",
       "      <td>decreases^reaction</td>\n",
       "      <td>Maternal</td>\n",
       "      <td>CNV,SNV</td>\n",
       "      <td>Dysprothrombinemia; Hypoprothrombinemia; Throm...</td>\n",
       "      <td>614390,601367,613679,613679,188050</td>\n",
       "      <td>Rattus norvegicus</td>\n",
       "      <td>protein</td>\n",
       "    </tr>\n",
       "    <tr>\n",
       "      <th>32682</th>\n",
       "      <td>F2</td>\n",
       "      <td>Acetaminophen</td>\n",
       "      <td>increases^expression</td>\n",
       "      <td>Maternal</td>\n",
       "      <td>CNV,SNV</td>\n",
       "      <td>Dysprothrombinemia; Hypoprothrombinemia; Throm...</td>\n",
       "      <td>614390,601367,613679,613679,188050</td>\n",
       "      <td>Rattus norvegicus</td>\n",
       "      <td>protein</td>\n",
       "    </tr>\n",
       "    <tr>\n",
       "      <th>32683</th>\n",
       "      <td>F2</td>\n",
       "      <td>Acetaminophen</td>\n",
       "      <td>affects^cotreatment</td>\n",
       "      <td>Maternal</td>\n",
       "      <td>CNV,SNV</td>\n",
       "      <td>Dysprothrombinemia; Hypoprothrombinemia; Throm...</td>\n",
       "      <td>614390,601367,613679,613679,188050</td>\n",
       "      <td>Rattus norvegicus</td>\n",
       "      <td>protein</td>\n",
       "    </tr>\n",
       "    <tr>\n",
       "      <th>32684</th>\n",
       "      <td>F2</td>\n",
       "      <td>Acetaminophen</td>\n",
       "      <td>decreases^reaction</td>\n",
       "      <td>Maternal</td>\n",
       "      <td>CNV,SNV</td>\n",
       "      <td>Dysprothrombinemia; Hypoprothrombinemia; Throm...</td>\n",
       "      <td>614390,601367,613679,613679,188050</td>\n",
       "      <td>Rattus norvegicus</td>\n",
       "      <td>protein</td>\n",
       "    </tr>\n",
       "    <tr>\n",
       "      <th>32685</th>\n",
       "      <td>F2</td>\n",
       "      <td>Acetaminophen</td>\n",
       "      <td>increases^secretion</td>\n",
       "      <td>Maternal</td>\n",
       "      <td>CNV,SNV</td>\n",
       "      <td>Dysprothrombinemia; Hypoprothrombinemia; Throm...</td>\n",
       "      <td>614390,601367,613679,613679,188050</td>\n",
       "      <td>Rattus norvegicus</td>\n",
       "      <td>protein</td>\n",
       "    </tr>\n",
       "    <tr>\n",
       "      <th>32686</th>\n",
       "      <td>F2</td>\n",
       "      <td>acetochlor</td>\n",
       "      <td>affects^cotreatment</td>\n",
       "      <td>Maternal</td>\n",
       "      <td>CNV,SNV</td>\n",
       "      <td>Dysprothrombinemia; Hypoprothrombinemia; Throm...</td>\n",
       "      <td>614390,601367,613679,613679,188050</td>\n",
       "      <td>Platichthys flesus</td>\n",
       "      <td>mRNA</td>\n",
       "    </tr>\n",
       "    <tr>\n",
       "      <th>32687</th>\n",
       "      <td>F2</td>\n",
       "      <td>acetochlor</td>\n",
       "      <td>decreases^expression</td>\n",
       "      <td>Maternal</td>\n",
       "      <td>CNV,SNV</td>\n",
       "      <td>Dysprothrombinemia; Hypoprothrombinemia; Throm...</td>\n",
       "      <td>614390,601367,613679,613679,188050</td>\n",
       "      <td>Platichthys flesus</td>\n",
       "      <td>mRNA</td>\n",
       "    </tr>\n",
       "    <tr>\n",
       "      <th>32688</th>\n",
       "      <td>F2</td>\n",
       "      <td>Adenosine Diphosphate</td>\n",
       "      <td>increases^abundance</td>\n",
       "      <td>Maternal</td>\n",
       "      <td>CNV,SNV</td>\n",
       "      <td>Dysprothrombinemia; Hypoprothrombinemia; Throm...</td>\n",
       "      <td>614390,601367,613679,613679,188050</td>\n",
       "      <td>Homo sapiens</td>\n",
       "      <td>protein</td>\n",
       "    </tr>\n",
       "    <tr>\n",
       "      <th>32689</th>\n",
       "      <td>F2</td>\n",
       "      <td>Adenosine Diphosphate</td>\n",
       "      <td>decreases^reaction</td>\n",
       "      <td>Maternal</td>\n",
       "      <td>CNV,SNV</td>\n",
       "      <td>Dysprothrombinemia; Hypoprothrombinemia; Throm...</td>\n",
       "      <td>614390,601367,613679,613679,188050</td>\n",
       "      <td>Homo sapiens</td>\n",
       "      <td>protein</td>\n",
       "    </tr>\n",
       "    <tr>\n",
       "      <th>32690</th>\n",
       "      <td>F2</td>\n",
       "      <td>Adenosine Diphosphate</td>\n",
       "      <td>increases^abundance</td>\n",
       "      <td>Maternal</td>\n",
       "      <td>CNV,SNV</td>\n",
       "      <td>Dysprothrombinemia; Hypoprothrombinemia; Throm...</td>\n",
       "      <td>614390,601367,613679,613679,188050</td>\n",
       "      <td>Homo sapiens</td>\n",
       "      <td>protein</td>\n",
       "    </tr>\n",
       "    <tr>\n",
       "      <th>32691</th>\n",
       "      <td>F2</td>\n",
       "      <td>Adenosine Diphosphate</td>\n",
       "      <td>decreases^reaction</td>\n",
       "      <td>Maternal</td>\n",
       "      <td>CNV,SNV</td>\n",
       "      <td>Dysprothrombinemia; Hypoprothrombinemia; Throm...</td>\n",
       "      <td>614390,601367,613679,613679,188050</td>\n",
       "      <td>Homo sapiens</td>\n",
       "      <td>protein</td>\n",
       "    </tr>\n",
       "    <tr>\n",
       "      <th>32692</th>\n",
       "      <td>F2</td>\n",
       "      <td>Adenosine Diphosphate</td>\n",
       "      <td>increases^abundance</td>\n",
       "      <td>Maternal</td>\n",
       "      <td>CNV,SNV</td>\n",
       "      <td>Dysprothrombinemia; Hypoprothrombinemia; Throm...</td>\n",
       "      <td>614390,601367,613679,613679,188050</td>\n",
       "      <td>Homo sapiens</td>\n",
       "      <td>protein</td>\n",
       "    </tr>\n",
       "    <tr>\n",
       "      <th>32693</th>\n",
       "      <td>F2</td>\n",
       "      <td>Adenosine Triphosphate</td>\n",
       "      <td>decreases^reaction</td>\n",
       "      <td>Maternal</td>\n",
       "      <td>CNV,SNV</td>\n",
       "      <td>Dysprothrombinemia; Hypoprothrombinemia; Throm...</td>\n",
       "      <td>614390,601367,613679,613679,188050</td>\n",
       "      <td>Homo sapiens</td>\n",
       "      <td>protein</td>\n",
       "    </tr>\n",
       "    <tr>\n",
       "      <th>32694</th>\n",
       "      <td>F2</td>\n",
       "      <td>Adenosine Triphosphate</td>\n",
       "      <td>increases^secretion</td>\n",
       "      <td>Maternal</td>\n",
       "      <td>CNV,SNV</td>\n",
       "      <td>Dysprothrombinemia; Hypoprothrombinemia; Throm...</td>\n",
       "      <td>614390,601367,613679,613679,188050</td>\n",
       "      <td>Homo sapiens</td>\n",
       "      <td>protein</td>\n",
       "    </tr>\n",
       "    <tr>\n",
       "      <th>32695</th>\n",
       "      <td>F2</td>\n",
       "      <td>Adenosine Triphosphate</td>\n",
       "      <td>affects^reaction</td>\n",
       "      <td>Maternal</td>\n",
       "      <td>CNV,SNV</td>\n",
       "      <td>Dysprothrombinemia; Hypoprothrombinemia; Throm...</td>\n",
       "      <td>614390,601367,613679,613679,188050</td>\n",
       "      <td>Homo sapiens</td>\n",
       "      <td>protein</td>\n",
       "    </tr>\n",
       "    <tr>\n",
       "      <th>32696</th>\n",
       "      <td>F2</td>\n",
       "      <td>Adenosine Triphosphate</td>\n",
       "      <td>increases^secretion</td>\n",
       "      <td>Maternal</td>\n",
       "      <td>CNV,SNV</td>\n",
       "      <td>Dysprothrombinemia; Hypoprothrombinemia; Throm...</td>\n",
       "      <td>614390,601367,613679,613679,188050</td>\n",
       "      <td>Homo sapiens</td>\n",
       "      <td>protein</td>\n",
       "    </tr>\n",
       "    <tr>\n",
       "      <th>32697</th>\n",
       "      <td>F2</td>\n",
       "      <td>Adenosine Triphosphate</td>\n",
       "      <td>increases^abundance</td>\n",
       "      <td>Maternal</td>\n",
       "      <td>CNV,SNV</td>\n",
       "      <td>Dysprothrombinemia; Hypoprothrombinemia; Throm...</td>\n",
       "      <td>614390,601367,613679,613679,188050</td>\n",
       "      <td>Homo sapiens</td>\n",
       "      <td>protein</td>\n",
       "    </tr>\n",
       "    <tr>\n",
       "      <th>32698</th>\n",
       "      <td>F2</td>\n",
       "      <td>Adenosine Triphosphate</td>\n",
       "      <td>increases^secretion</td>\n",
       "      <td>Maternal</td>\n",
       "      <td>CNV,SNV</td>\n",
       "      <td>Dysprothrombinemia; Hypoprothrombinemia; Throm...</td>\n",
       "      <td>614390,601367,613679,613679,188050</td>\n",
       "      <td>Homo sapiens</td>\n",
       "      <td>protein</td>\n",
       "    </tr>\n",
       "    <tr>\n",
       "      <th>32699</th>\n",
       "      <td>F2</td>\n",
       "      <td>Adenosine Triphosphate</td>\n",
       "      <td>affects^reaction</td>\n",
       "      <td>Maternal</td>\n",
       "      <td>CNV,SNV</td>\n",
       "      <td>Dysprothrombinemia; Hypoprothrombinemia; Throm...</td>\n",
       "      <td>614390,601367,613679,613679,188050</td>\n",
       "      <td>Homo sapiens</td>\n",
       "      <td>protein</td>\n",
       "    </tr>\n",
       "    <tr>\n",
       "      <th>32700</th>\n",
       "      <td>F2</td>\n",
       "      <td>Adenosine Triphosphate</td>\n",
       "      <td>increases^secretion</td>\n",
       "      <td>Maternal</td>\n",
       "      <td>CNV,SNV</td>\n",
       "      <td>Dysprothrombinemia; Hypoprothrombinemia; Throm...</td>\n",
       "      <td>614390,601367,613679,613679,188050</td>\n",
       "      <td>Homo sapiens</td>\n",
       "      <td>protein</td>\n",
       "    </tr>\n",
       "    <tr>\n",
       "      <th>32701</th>\n",
       "      <td>F2</td>\n",
       "      <td>Adenosine Triphosphate</td>\n",
       "      <td>decreases^reaction</td>\n",
       "      <td>Maternal</td>\n",
       "      <td>CNV,SNV</td>\n",
       "      <td>Dysprothrombinemia; Hypoprothrombinemia; Throm...</td>\n",
       "      <td>614390,601367,613679,613679,188050</td>\n",
       "      <td>Homo sapiens</td>\n",
       "      <td>protein</td>\n",
       "    </tr>\n",
       "    <tr>\n",
       "      <th>32702</th>\n",
       "      <td>F2</td>\n",
       "      <td>Adenosine Triphosphate</td>\n",
       "      <td>increases^abundance</td>\n",
       "      <td>Maternal</td>\n",
       "      <td>CNV,SNV</td>\n",
       "      <td>Dysprothrombinemia; Hypoprothrombinemia; Throm...</td>\n",
       "      <td>614390,601367,613679,613679,188050</td>\n",
       "      <td>Homo sapiens</td>\n",
       "      <td>protein</td>\n",
       "    </tr>\n",
       "    <tr>\n",
       "      <th>32703</th>\n",
       "      <td>F2</td>\n",
       "      <td>Adenosine Triphosphate</td>\n",
       "      <td>decreases^reaction</td>\n",
       "      <td>Maternal</td>\n",
       "      <td>CNV,SNV</td>\n",
       "      <td>Dysprothrombinemia; Hypoprothrombinemia; Throm...</td>\n",
       "      <td>614390,601367,613679,613679,188050</td>\n",
       "      <td>Homo sapiens</td>\n",
       "      <td>protein</td>\n",
       "    </tr>\n",
       "    <tr>\n",
       "      <th>32704</th>\n",
       "      <td>F2</td>\n",
       "      <td>Adenosine Triphosphate</td>\n",
       "      <td>increases^abundance</td>\n",
       "      <td>Maternal</td>\n",
       "      <td>CNV,SNV</td>\n",
       "      <td>Dysprothrombinemia; Hypoprothrombinemia; Throm...</td>\n",
       "      <td>614390,601367,613679,613679,188050</td>\n",
       "      <td>Homo sapiens</td>\n",
       "      <td>protein</td>\n",
       "    </tr>\n",
       "    <tr>\n",
       "      <th>32705</th>\n",
       "      <td>F2</td>\n",
       "      <td>Adenosine Triphosphate</td>\n",
       "      <td>affects^cotreatment</td>\n",
       "      <td>Maternal</td>\n",
       "      <td>CNV,SNV</td>\n",
       "      <td>Dysprothrombinemia; Hypoprothrombinemia; Throm...</td>\n",
       "      <td>614390,601367,613679,613679,188050</td>\n",
       "      <td>Homo sapiens</td>\n",
       "      <td>protein</td>\n",
       "    </tr>\n",
       "    <tr>\n",
       "      <th>32706</th>\n",
       "      <td>F2</td>\n",
       "      <td>Adenosine Triphosphate</td>\n",
       "      <td>decreases^reaction</td>\n",
       "      <td>Maternal</td>\n",
       "      <td>CNV,SNV</td>\n",
       "      <td>Dysprothrombinemia; Hypoprothrombinemia; Throm...</td>\n",
       "      <td>614390,601367,613679,613679,188050</td>\n",
       "      <td>Homo sapiens</td>\n",
       "      <td>protein</td>\n",
       "    </tr>\n",
       "    <tr>\n",
       "      <th>32707</th>\n",
       "      <td>F2</td>\n",
       "      <td>Adenosine Triphosphate</td>\n",
       "      <td>increases^secretion</td>\n",
       "      <td>Maternal</td>\n",
       "      <td>CNV,SNV</td>\n",
       "      <td>Dysprothrombinemia; Hypoprothrombinemia; Throm...</td>\n",
       "      <td>614390,601367,613679,613679,188050</td>\n",
       "      <td>Homo sapiens</td>\n",
       "      <td>protein</td>\n",
       "    </tr>\n",
       "    <tr>\n",
       "      <th>32708</th>\n",
       "      <td>F2</td>\n",
       "      <td>Adenosine Triphosphate</td>\n",
       "      <td>increases^transport</td>\n",
       "      <td>Maternal</td>\n",
       "      <td>CNV,SNV</td>\n",
       "      <td>Dysprothrombinemia; Hypoprothrombinemia; Throm...</td>\n",
       "      <td>614390,601367,613679,613679,188050</td>\n",
       "      <td>Mus musculus</td>\n",
       "      <td>protein</td>\n",
       "    </tr>\n",
       "    <tr>\n",
       "      <th>32709</th>\n",
       "      <td>F2</td>\n",
       "      <td>Adenosine Triphosphate</td>\n",
       "      <td>affects^reaction</td>\n",
       "      <td>Maternal</td>\n",
       "      <td>CNV,SNV</td>\n",
       "      <td>Dysprothrombinemia; Hypoprothrombinemia; Throm...</td>\n",
       "      <td>614390,601367,613679,613679,188050</td>\n",
       "      <td>Mus musculus</td>\n",
       "      <td>protein</td>\n",
       "    </tr>\n",
       "    <tr>\n",
       "      <th>32710</th>\n",
       "      <td>F2</td>\n",
       "      <td>Adenosine Triphosphate</td>\n",
       "      <td>increases^transport</td>\n",
       "      <td>Maternal</td>\n",
       "      <td>CNV,SNV</td>\n",
       "      <td>Dysprothrombinemia; Hypoprothrombinemia; Throm...</td>\n",
       "      <td>614390,601367,613679,613679,188050</td>\n",
       "      <td>Mus musculus</td>\n",
       "      <td>protein</td>\n",
       "    </tr>\n",
       "    <tr>\n",
       "      <th>32711</th>\n",
       "      <td>F2</td>\n",
       "      <td>Aflatoxin B1</td>\n",
       "      <td>affects^expression</td>\n",
       "      <td>Maternal</td>\n",
       "      <td>CNV,SNV</td>\n",
       "      <td>Dysprothrombinemia; Hypoprothrombinemia; Throm...</td>\n",
       "      <td>614390,601367,613679,613679,188050</td>\n",
       "      <td>Homo sapiens</td>\n",
       "      <td>protein</td>\n",
       "    </tr>\n",
       "    <tr>\n",
       "      <th>32712</th>\n",
       "      <td>F2</td>\n",
       "      <td>Aldehydes</td>\n",
       "      <td>decreases^expression</td>\n",
       "      <td>Maternal</td>\n",
       "      <td>CNV,SNV</td>\n",
       "      <td>Dysprothrombinemia; Hypoprothrombinemia; Throm...</td>\n",
       "      <td>614390,601367,613679,613679,188050</td>\n",
       "      <td>Homo sapiens</td>\n",
       "      <td>mRNA</td>\n",
       "    </tr>\n",
       "    <tr>\n",
       "      <th>32713</th>\n",
       "      <td>F2</td>\n",
       "      <td>Aluminum</td>\n",
       "      <td>affects^binding</td>\n",
       "      <td>Maternal</td>\n",
       "      <td>CNV,SNV</td>\n",
       "      <td>Dysprothrombinemia; Hypoprothrombinemia; Throm...</td>\n",
       "      <td>614390,601367,613679,613679,188050</td>\n",
       "      <td>NaN</td>\n",
       "      <td>mRNA</td>\n",
       "    </tr>\n",
       "    <tr>\n",
       "      <th>32714</th>\n",
       "      <td>F2</td>\n",
       "      <td>Aluminum</td>\n",
       "      <td>decreases^expression</td>\n",
       "      <td>Maternal</td>\n",
       "      <td>CNV,SNV</td>\n",
       "      <td>Dysprothrombinemia; Hypoprothrombinemia; Throm...</td>\n",
       "      <td>614390,601367,613679,613679,188050</td>\n",
       "      <td>NaN</td>\n",
       "      <td>mRNA</td>\n",
       "    </tr>\n",
       "    <tr>\n",
       "      <th>32715</th>\n",
       "      <td>F2</td>\n",
       "      <td>Amiodarone</td>\n",
       "      <td>decreases^reaction</td>\n",
       "      <td>Maternal</td>\n",
       "      <td>CNV,SNV</td>\n",
       "      <td>Dysprothrombinemia; Hypoprothrombinemia; Throm...</td>\n",
       "      <td>614390,601367,613679,613679,188050</td>\n",
       "      <td>Homo sapiens</td>\n",
       "      <td>protein</td>\n",
       "    </tr>\n",
       "    <tr>\n",
       "      <th>32716</th>\n",
       "      <td>F2</td>\n",
       "      <td>Amiodarone</td>\n",
       "      <td>increases^activity</td>\n",
       "      <td>Maternal</td>\n",
       "      <td>CNV,SNV</td>\n",
       "      <td>Dysprothrombinemia; Hypoprothrombinemia; Throm...</td>\n",
       "      <td>614390,601367,613679,613679,188050</td>\n",
       "      <td>Homo sapiens</td>\n",
       "      <td>protein</td>\n",
       "    </tr>\n",
       "    <tr>\n",
       "      <th>32717</th>\n",
       "      <td>F2</td>\n",
       "      <td>Amiodarone</td>\n",
       "      <td>increases^expression</td>\n",
       "      <td>Maternal</td>\n",
       "      <td>CNV,SNV</td>\n",
       "      <td>Dysprothrombinemia; Hypoprothrombinemia; Throm...</td>\n",
       "      <td>614390,601367,613679,613679,188050</td>\n",
       "      <td>Homo sapiens</td>\n",
       "      <td>protein</td>\n",
       "    </tr>\n",
       "    <tr>\n",
       "      <th>32718</th>\n",
       "      <td>F2</td>\n",
       "      <td>Ammonium Chloride</td>\n",
       "      <td>affects^expression</td>\n",
       "      <td>Maternal</td>\n",
       "      <td>CNV,SNV</td>\n",
       "      <td>Dysprothrombinemia; Hypoprothrombinemia; Throm...</td>\n",
       "      <td>614390,601367,613679,613679,188050</td>\n",
       "      <td>Rattus norvegicus</td>\n",
       "      <td>mRNA</td>\n",
       "    </tr>\n",
       "    <tr>\n",
       "      <th>32719</th>\n",
       "      <td>F2</td>\n",
       "      <td>Amphetamine</td>\n",
       "      <td>increases^expression</td>\n",
       "      <td>Maternal</td>\n",
       "      <td>CNV,SNV</td>\n",
       "      <td>Dysprothrombinemia; Hypoprothrombinemia; Throm...</td>\n",
       "      <td>614390,601367,613679,613679,188050</td>\n",
       "      <td>Homo sapiens</td>\n",
       "      <td>protein</td>\n",
       "    </tr>\n",
       "    <tr>\n",
       "      <th>32720</th>\n",
       "      <td>F2</td>\n",
       "      <td>Amphetamine</td>\n",
       "      <td>increases^reaction</td>\n",
       "      <td>Maternal</td>\n",
       "      <td>CNV,SNV</td>\n",
       "      <td>Dysprothrombinemia; Hypoprothrombinemia; Throm...</td>\n",
       "      <td>614390,601367,613679,613679,188050</td>\n",
       "      <td>Homo sapiens</td>\n",
       "      <td>protein</td>\n",
       "    </tr>\n",
       "    <tr>\n",
       "      <th>32721</th>\n",
       "      <td>F2</td>\n",
       "      <td>Antithrombins</td>\n",
       "      <td>decreases^activity</td>\n",
       "      <td>Maternal</td>\n",
       "      <td>CNV,SNV</td>\n",
       "      <td>Dysprothrombinemia; Hypoprothrombinemia; Throm...</td>\n",
       "      <td>614390,601367,613679,613679,188050</td>\n",
       "      <td>NaN</td>\n",
       "      <td>protein</td>\n",
       "    </tr>\n",
       "    <tr>\n",
       "      <th>32722</th>\n",
       "      <td>F2</td>\n",
       "      <td>Antivenins</td>\n",
       "      <td>decreases^reaction</td>\n",
       "      <td>Maternal</td>\n",
       "      <td>CNV,SNV</td>\n",
       "      <td>Dysprothrombinemia; Hypoprothrombinemia; Throm...</td>\n",
       "      <td>614390,601367,613679,613679,188050</td>\n",
       "      <td>Bothrops neuwiedi</td>\n",
       "      <td>protein</td>\n",
       "    </tr>\n",
       "    <tr>\n",
       "      <th>32723</th>\n",
       "      <td>F2</td>\n",
       "      <td>Antivenins</td>\n",
       "      <td>increases^activity</td>\n",
       "      <td>Maternal</td>\n",
       "      <td>CNV,SNV</td>\n",
       "      <td>Dysprothrombinemia; Hypoprothrombinemia; Throm...</td>\n",
       "      <td>614390,601367,613679,613679,188050</td>\n",
       "      <td>Bothrops neuwiedi</td>\n",
       "      <td>protein</td>\n",
       "    </tr>\n",
       "    <tr>\n",
       "      <th>32724</th>\n",
       "      <td>F2</td>\n",
       "      <td>Antivenins</td>\n",
       "      <td>increases^cleavage</td>\n",
       "      <td>Maternal</td>\n",
       "      <td>CNV,SNV</td>\n",
       "      <td>Dysprothrombinemia; Hypoprothrombinemia; Throm...</td>\n",
       "      <td>614390,601367,613679,613679,188050</td>\n",
       "      <td>Bothrops neuwiedi</td>\n",
       "      <td>protein</td>\n",
       "    </tr>\n",
       "    <tr>\n",
       "      <th>32725</th>\n",
       "      <td>F2</td>\n",
       "      <td>Apigenin</td>\n",
       "      <td>decreases^reaction</td>\n",
       "      <td>Maternal</td>\n",
       "      <td>CNV,SNV</td>\n",
       "      <td>Dysprothrombinemia; Hypoprothrombinemia; Throm...</td>\n",
       "      <td>614390,601367,613679,613679,188050</td>\n",
       "      <td>Homo sapiens</td>\n",
       "      <td>protein</td>\n",
       "    </tr>\n",
       "    <tr>\n",
       "      <th>32726</th>\n",
       "      <td>F2</td>\n",
       "      <td>Apigenin</td>\n",
       "      <td>increases^localization</td>\n",
       "      <td>Maternal</td>\n",
       "      <td>CNV,SNV</td>\n",
       "      <td>Dysprothrombinemia; Hypoprothrombinemia; Throm...</td>\n",
       "      <td>614390,601367,613679,613679,188050</td>\n",
       "      <td>Homo sapiens</td>\n",
       "      <td>protein</td>\n",
       "    </tr>\n",
       "    <tr>\n",
       "      <th>32727</th>\n",
       "      <td>F2</td>\n",
       "      <td>apigenin-6,8-di-C-glycopyranoside</td>\n",
       "      <td>decreases^reaction</td>\n",
       "      <td>Maternal</td>\n",
       "      <td>CNV,SNV</td>\n",
       "      <td>Dysprothrombinemia; Hypoprothrombinemia; Throm...</td>\n",
       "      <td>614390,601367,613679,613679,188050</td>\n",
       "      <td>Homo sapiens</td>\n",
       "      <td>protein</td>\n",
       "    </tr>\n",
       "    <tr>\n",
       "      <th>32728</th>\n",
       "      <td>F2</td>\n",
       "      <td>apigenin-6,8-di-C-glycopyranoside</td>\n",
       "      <td>increases^expression</td>\n",
       "      <td>Maternal</td>\n",
       "      <td>CNV,SNV</td>\n",
       "      <td>Dysprothrombinemia; Hypoprothrombinemia; Throm...</td>\n",
       "      <td>614390,601367,613679,613679,188050</td>\n",
       "      <td>Homo sapiens</td>\n",
       "      <td>protein</td>\n",
       "    </tr>\n",
       "    <tr>\n",
       "      <th>32729</th>\n",
       "      <td>F2</td>\n",
       "      <td>argatroban</td>\n",
       "      <td>affects^binding</td>\n",
       "      <td>Maternal</td>\n",
       "      <td>CNV,SNV</td>\n",
       "      <td>Dysprothrombinemia; Hypoprothrombinemia; Throm...</td>\n",
       "      <td>614390,601367,613679,613679,188050</td>\n",
       "      <td>Homo sapiens</td>\n",
       "      <td>protein</td>\n",
       "    </tr>\n",
       "    <tr>\n",
       "      <th>32730</th>\n",
       "      <td>F2</td>\n",
       "      <td>argatroban</td>\n",
       "      <td>decreases^activity</td>\n",
       "      <td>Maternal</td>\n",
       "      <td>CNV,SNV</td>\n",
       "      <td>Dysprothrombinemia; Hypoprothrombinemia; Throm...</td>\n",
       "      <td>614390,601367,613679,613679,188050</td>\n",
       "      <td>Homo sapiens</td>\n",
       "      <td>protein</td>\n",
       "    </tr>\n",
       "    <tr>\n",
       "      <th>32731</th>\n",
       "      <td>F2</td>\n",
       "      <td>argatroban</td>\n",
       "      <td>decreases^reaction</td>\n",
       "      <td>Maternal</td>\n",
       "      <td>CNV,SNV</td>\n",
       "      <td>Dysprothrombinemia; Hypoprothrombinemia; Throm...</td>\n",
       "      <td>614390,601367,613679,613679,188050</td>\n",
       "      <td>Mus musculus</td>\n",
       "      <td>protein</td>\n",
       "    </tr>\n",
       "    <tr>\n",
       "      <th>32732</th>\n",
       "      <td>F2</td>\n",
       "      <td>argatroban</td>\n",
       "      <td>increases^expression</td>\n",
       "      <td>Maternal</td>\n",
       "      <td>CNV,SNV</td>\n",
       "      <td>Dysprothrombinemia; Hypoprothrombinemia; Throm...</td>\n",
       "      <td>614390,601367,613679,613679,188050</td>\n",
       "      <td>Mus musculus</td>\n",
       "      <td>protein</td>\n",
       "    </tr>\n",
       "    <tr>\n",
       "      <th>32733</th>\n",
       "      <td>F2</td>\n",
       "      <td>argatroban</td>\n",
       "      <td>decreases^activity</td>\n",
       "      <td>Maternal</td>\n",
       "      <td>CNV,SNV</td>\n",
       "      <td>Dysprothrombinemia; Hypoprothrombinemia; Throm...</td>\n",
       "      <td>614390,601367,613679,613679,188050</td>\n",
       "      <td>NaN</td>\n",
       "      <td>protein</td>\n",
       "    </tr>\n",
       "    <tr>\n",
       "      <th>32734</th>\n",
       "      <td>F2</td>\n",
       "      <td>aristolochic acid I</td>\n",
       "      <td>increases^expression</td>\n",
       "      <td>Maternal</td>\n",
       "      <td>CNV,SNV</td>\n",
       "      <td>Dysprothrombinemia; Hypoprothrombinemia; Throm...</td>\n",
       "      <td>614390,601367,613679,613679,188050</td>\n",
       "      <td>Homo sapiens</td>\n",
       "      <td>mRNA</td>\n",
       "    </tr>\n",
       "    <tr>\n",
       "      <th>32735</th>\n",
       "      <td>F2</td>\n",
       "      <td>arsenite</td>\n",
       "      <td>decreases^reaction</td>\n",
       "      <td>Maternal</td>\n",
       "      <td>CNV,SNV</td>\n",
       "      <td>Dysprothrombinemia; Hypoprothrombinemia; Throm...</td>\n",
       "      <td>614390,601367,613679,613679,188050</td>\n",
       "      <td>Homo sapiens</td>\n",
       "      <td>protein</td>\n",
       "    </tr>\n",
       "    <tr>\n",
       "      <th>32736</th>\n",
       "      <td>F2</td>\n",
       "      <td>arsenite</td>\n",
       "      <td>increases^abundance</td>\n",
       "      <td>Maternal</td>\n",
       "      <td>CNV,SNV</td>\n",
       "      <td>Dysprothrombinemia; Hypoprothrombinemia; Throm...</td>\n",
       "      <td>614390,601367,613679,613679,188050</td>\n",
       "      <td>Homo sapiens</td>\n",
       "      <td>protein</td>\n",
       "    </tr>\n",
       "    <tr>\n",
       "      <th>32737</th>\n",
       "      <td>F2</td>\n",
       "      <td>arsenite</td>\n",
       "      <td>decreases^reaction</td>\n",
       "      <td>Maternal</td>\n",
       "      <td>CNV,SNV</td>\n",
       "      <td>Dysprothrombinemia; Hypoprothrombinemia; Throm...</td>\n",
       "      <td>614390,601367,613679,613679,188050</td>\n",
       "      <td>Homo sapiens</td>\n",
       "      <td>protein</td>\n",
       "    </tr>\n",
       "    <tr>\n",
       "      <th>32738</th>\n",
       "      <td>F2</td>\n",
       "      <td>arsenite</td>\n",
       "      <td>increases^abundance</td>\n",
       "      <td>Maternal</td>\n",
       "      <td>CNV,SNV</td>\n",
       "      <td>Dysprothrombinemia; Hypoprothrombinemia; Throm...</td>\n",
       "      <td>614390,601367,613679,613679,188050</td>\n",
       "      <td>Homo sapiens</td>\n",
       "      <td>protein</td>\n",
       "    </tr>\n",
       "    <tr>\n",
       "      <th>32739</th>\n",
       "      <td>F2</td>\n",
       "      <td>arsenite</td>\n",
       "      <td>decreases^reaction</td>\n",
       "      <td>Maternal</td>\n",
       "      <td>CNV,SNV</td>\n",
       "      <td>Dysprothrombinemia; Hypoprothrombinemia; Throm...</td>\n",
       "      <td>614390,601367,613679,613679,188050</td>\n",
       "      <td>Homo sapiens</td>\n",
       "      <td>protein</td>\n",
       "    </tr>\n",
       "    <tr>\n",
       "      <th>32740</th>\n",
       "      <td>F2</td>\n",
       "      <td>arsenite</td>\n",
       "      <td>increases^phosphorylation</td>\n",
       "      <td>Maternal</td>\n",
       "      <td>CNV,SNV</td>\n",
       "      <td>Dysprothrombinemia; Hypoprothrombinemia; Throm...</td>\n",
       "      <td>614390,601367,613679,613679,188050</td>\n",
       "      <td>Homo sapiens</td>\n",
       "      <td>protein</td>\n",
       "    </tr>\n",
       "    <tr>\n",
       "      <th>32741</th>\n",
       "      <td>F2</td>\n",
       "      <td>aspalathin</td>\n",
       "      <td>affects^cotreatment</td>\n",
       "      <td>Maternal</td>\n",
       "      <td>CNV,SNV</td>\n",
       "      <td>Dysprothrombinemia; Hypoprothrombinemia; Throm...</td>\n",
       "      <td>614390,601367,613679,613679,188050</td>\n",
       "      <td>Homo sapiens</td>\n",
       "      <td>protein</td>\n",
       "    </tr>\n",
       "    <tr>\n",
       "      <th>32742</th>\n",
       "      <td>F2</td>\n",
       "      <td>aspalathin</td>\n",
       "      <td>decreases^reaction</td>\n",
       "      <td>Maternal</td>\n",
       "      <td>CNV,SNV</td>\n",
       "      <td>Dysprothrombinemia; Hypoprothrombinemia; Throm...</td>\n",
       "      <td>614390,601367,613679,613679,188050</td>\n",
       "      <td>Homo sapiens</td>\n",
       "      <td>protein</td>\n",
       "    </tr>\n",
       "    <tr>\n",
       "      <th>32743</th>\n",
       "      <td>F2</td>\n",
       "      <td>aspalathin</td>\n",
       "      <td>increases^metabolic processing</td>\n",
       "      <td>Maternal</td>\n",
       "      <td>CNV,SNV</td>\n",
       "      <td>Dysprothrombinemia; Hypoprothrombinemia; Throm...</td>\n",
       "      <td>614390,601367,613679,613679,188050</td>\n",
       "      <td>Homo sapiens</td>\n",
       "      <td>protein</td>\n",
       "    </tr>\n",
       "    <tr>\n",
       "      <th>32744</th>\n",
       "      <td>F2</td>\n",
       "      <td>aspalathin</td>\n",
       "      <td>decreases^activity</td>\n",
       "      <td>Maternal</td>\n",
       "      <td>CNV,SNV</td>\n",
       "      <td>Dysprothrombinemia; Hypoprothrombinemia; Throm...</td>\n",
       "      <td>614390,601367,613679,613679,188050</td>\n",
       "      <td>NaN</td>\n",
       "      <td>protein</td>\n",
       "    </tr>\n",
       "    <tr>\n",
       "      <th>32745</th>\n",
       "      <td>F2</td>\n",
       "      <td>Aspartame</td>\n",
       "      <td>decreases^activity</td>\n",
       "      <td>Maternal</td>\n",
       "      <td>CNV,SNV</td>\n",
       "      <td>Dysprothrombinemia; Hypoprothrombinemia; Throm...</td>\n",
       "      <td>614390,601367,613679,613679,188050</td>\n",
       "      <td>Homo sapiens</td>\n",
       "      <td>protein</td>\n",
       "    </tr>\n",
       "    <tr>\n",
       "      <th>32746</th>\n",
       "      <td>F2</td>\n",
       "      <td>Aspartame</td>\n",
       "      <td>decreases^activity</td>\n",
       "      <td>Maternal</td>\n",
       "      <td>CNV,SNV</td>\n",
       "      <td>Dysprothrombinemia; Hypoprothrombinemia; Throm...</td>\n",
       "      <td>614390,601367,613679,613679,188050</td>\n",
       "      <td>Homo sapiens</td>\n",
       "      <td>protein</td>\n",
       "    </tr>\n",
       "    <tr>\n",
       "      <th>32747</th>\n",
       "      <td>F2</td>\n",
       "      <td>Aspirin</td>\n",
       "      <td>affects^cleavage</td>\n",
       "      <td>Maternal</td>\n",
       "      <td>CNV,SNV</td>\n",
       "      <td>Dysprothrombinemia; Hypoprothrombinemia; Throm...</td>\n",
       "      <td>614390,601367,613679,613679,188050</td>\n",
       "      <td>Homo sapiens</td>\n",
       "      <td>protein</td>\n",
       "    </tr>\n",
       "    <tr>\n",
       "      <th>32748</th>\n",
       "      <td>F2</td>\n",
       "      <td>Aspirin</td>\n",
       "      <td>affects^cleavage</td>\n",
       "      <td>Maternal</td>\n",
       "      <td>CNV,SNV</td>\n",
       "      <td>Dysprothrombinemia; Hypoprothrombinemia; Throm...</td>\n",
       "      <td>614390,601367,613679,613679,188050</td>\n",
       "      <td>Homo sapiens</td>\n",
       "      <td>protein</td>\n",
       "    </tr>\n",
       "    <tr>\n",
       "      <th>32749</th>\n",
       "      <td>F2</td>\n",
       "      <td>Aspirin</td>\n",
       "      <td>affects^reaction</td>\n",
       "      <td>Maternal</td>\n",
       "      <td>CNV,SNV</td>\n",
       "      <td>Dysprothrombinemia; Hypoprothrombinemia; Throm...</td>\n",
       "      <td>614390,601367,613679,613679,188050</td>\n",
       "      <td>Homo sapiens</td>\n",
       "      <td>protein</td>\n",
       "    </tr>\n",
       "    <tr>\n",
       "      <th>32750</th>\n",
       "      <td>F2</td>\n",
       "      <td>Atorvastatin</td>\n",
       "      <td>decreases^activity</td>\n",
       "      <td>Maternal</td>\n",
       "      <td>CNV,SNV</td>\n",
       "      <td>Dysprothrombinemia; Hypoprothrombinemia; Throm...</td>\n",
       "      <td>614390,601367,613679,613679,188050</td>\n",
       "      <td>Homo sapiens</td>\n",
       "      <td>protein</td>\n",
       "    </tr>\n",
       "    <tr>\n",
       "      <th>32751</th>\n",
       "      <td>F2</td>\n",
       "      <td>Atropine</td>\n",
       "      <td>affects^cotreatment</td>\n",
       "      <td>Maternal</td>\n",
       "      <td>CNV,SNV</td>\n",
       "      <td>Dysprothrombinemia; Hypoprothrombinemia; Throm...</td>\n",
       "      <td>614390,601367,613679,613679,188050</td>\n",
       "      <td>Mus musculus</td>\n",
       "      <td>mRNA</td>\n",
       "    </tr>\n",
       "    <tr>\n",
       "      <th>32752</th>\n",
       "      <td>F2</td>\n",
       "      <td>Atropine</td>\n",
       "      <td>decreases^expression</td>\n",
       "      <td>Maternal</td>\n",
       "      <td>CNV,SNV</td>\n",
       "      <td>Dysprothrombinemia; Hypoprothrombinemia; Throm...</td>\n",
       "      <td>614390,601367,613679,613679,188050</td>\n",
       "      <td>Mus musculus</td>\n",
       "      <td>mRNA</td>\n",
       "    </tr>\n",
       "    <tr>\n",
       "      <th>32753</th>\n",
       "      <td>F2</td>\n",
       "      <td>Atropine</td>\n",
       "      <td>affects^cotreatment</td>\n",
       "      <td>Maternal</td>\n",
       "      <td>CNV,SNV</td>\n",
       "      <td>Dysprothrombinemia; Hypoprothrombinemia; Throm...</td>\n",
       "      <td>614390,601367,613679,613679,188050</td>\n",
       "      <td>Mus musculus</td>\n",
       "      <td>protein</td>\n",
       "    </tr>\n",
       "    <tr>\n",
       "      <th>32754</th>\n",
       "      <td>F2</td>\n",
       "      <td>Atropine</td>\n",
       "      <td>increases^activity</td>\n",
       "      <td>Maternal</td>\n",
       "      <td>CNV,SNV</td>\n",
       "      <td>Dysprothrombinemia; Hypoprothrombinemia; Throm...</td>\n",
       "      <td>614390,601367,613679,613679,188050</td>\n",
       "      <td>Mus musculus</td>\n",
       "      <td>protein</td>\n",
       "    </tr>\n",
       "    <tr>\n",
       "      <th>32755</th>\n",
       "      <td>F2</td>\n",
       "      <td>Barium</td>\n",
       "      <td>increases^uptake</td>\n",
       "      <td>Maternal</td>\n",
       "      <td>CNV,SNV</td>\n",
       "      <td>Dysprothrombinemia; Hypoprothrombinemia; Throm...</td>\n",
       "      <td>614390,601367,613679,613679,188050</td>\n",
       "      <td>Homo sapiens</td>\n",
       "      <td>protein</td>\n",
       "    </tr>\n",
       "    <tr>\n",
       "      <th>32756</th>\n",
       "      <td>F2</td>\n",
       "      <td>Barium</td>\n",
       "      <td>decreases^reaction</td>\n",
       "      <td>Maternal</td>\n",
       "      <td>CNV,SNV</td>\n",
       "      <td>Dysprothrombinemia; Hypoprothrombinemia; Throm...</td>\n",
       "      <td>614390,601367,613679,613679,188050</td>\n",
       "      <td>Homo sapiens</td>\n",
       "      <td>protein</td>\n",
       "    </tr>\n",
       "    <tr>\n",
       "      <th>32757</th>\n",
       "      <td>F2</td>\n",
       "      <td>Barium</td>\n",
       "      <td>increases^uptake</td>\n",
       "      <td>Maternal</td>\n",
       "      <td>CNV,SNV</td>\n",
       "      <td>Dysprothrombinemia; Hypoprothrombinemia; Throm...</td>\n",
       "      <td>614390,601367,613679,613679,188050</td>\n",
       "      <td>Homo sapiens</td>\n",
       "      <td>protein</td>\n",
       "    </tr>\n",
       "    <tr>\n",
       "      <th>32758</th>\n",
       "      <td>F2</td>\n",
       "      <td>BCH 2763</td>\n",
       "      <td>decreases^activity</td>\n",
       "      <td>Maternal</td>\n",
       "      <td>CNV,SNV</td>\n",
       "      <td>Dysprothrombinemia; Hypoprothrombinemia; Throm...</td>\n",
       "      <td>614390,601367,613679,613679,188050</td>\n",
       "      <td>Rattus norvegicus</td>\n",
       "      <td>protein</td>\n",
       "    </tr>\n",
       "    <tr>\n",
       "      <th>32759</th>\n",
       "      <td>F2</td>\n",
       "      <td>Benzo(a)pyrene</td>\n",
       "      <td>decreases^expression</td>\n",
       "      <td>Maternal</td>\n",
       "      <td>CNV,SNV</td>\n",
       "      <td>Dysprothrombinemia; Hypoprothrombinemia; Throm...</td>\n",
       "      <td>614390,601367,613679,613679,188050</td>\n",
       "      <td>Homo sapiens</td>\n",
       "      <td>mRNA</td>\n",
       "    </tr>\n",
       "    <tr>\n",
       "      <th>32760</th>\n",
       "      <td>F2</td>\n",
       "      <td>Benzo(a)pyrene</td>\n",
       "      <td>increases^methylation</td>\n",
       "      <td>Maternal</td>\n",
       "      <td>CNV,SNV</td>\n",
       "      <td>Dysprothrombinemia; Hypoprothrombinemia; Throm...</td>\n",
       "      <td>614390,601367,613679,613679,188050</td>\n",
       "      <td>Homo sapiens</td>\n",
       "      <td>promoter</td>\n",
       "    </tr>\n",
       "    <tr>\n",
       "      <th>32761</th>\n",
       "      <td>F2</td>\n",
       "      <td>Benzo(a)pyrene</td>\n",
       "      <td>increases^expression</td>\n",
       "      <td>Maternal</td>\n",
       "      <td>CNV,SNV</td>\n",
       "      <td>Dysprothrombinemia; Hypoprothrombinemia; Throm...</td>\n",
       "      <td>614390,601367,613679,613679,188050</td>\n",
       "      <td>Mus musculus</td>\n",
       "      <td>mRNA</td>\n",
       "    </tr>\n",
       "    <tr>\n",
       "      <th>32762</th>\n",
       "      <td>F2</td>\n",
       "      <td>Benzo(a)pyrene</td>\n",
       "      <td>increases^expression</td>\n",
       "      <td>Maternal</td>\n",
       "      <td>CNV,SNV</td>\n",
       "      <td>Dysprothrombinemia; Hypoprothrombinemia; Throm...</td>\n",
       "      <td>614390,601367,613679,613679,188050</td>\n",
       "      <td>Oryzias latipes</td>\n",
       "      <td>mRNA</td>\n",
       "    </tr>\n",
       "    <tr>\n",
       "      <th>32763</th>\n",
       "      <td>F2</td>\n",
       "      <td>Benzophenanthridines</td>\n",
       "      <td>decreases^expression</td>\n",
       "      <td>Maternal</td>\n",
       "      <td>CNV,SNV</td>\n",
       "      <td>Dysprothrombinemia; Hypoprothrombinemia; Throm...</td>\n",
       "      <td>614390,601367,613679,613679,188050</td>\n",
       "      <td>Danio rerio</td>\n",
       "      <td>mRNA</td>\n",
       "    </tr>\n",
       "    <tr>\n",
       "      <th>32764</th>\n",
       "      <td>F2</td>\n",
       "      <td>Bexarotene</td>\n",
       "      <td>decreases^expression</td>\n",
       "      <td>Maternal</td>\n",
       "      <td>CNV,SNV</td>\n",
       "      <td>Dysprothrombinemia; Hypoprothrombinemia; Throm...</td>\n",
       "      <td>614390,601367,613679,613679,188050</td>\n",
       "      <td>Rattus norvegicus</td>\n",
       "      <td>mRNA</td>\n",
       "    </tr>\n",
       "    <tr>\n",
       "      <th>32765</th>\n",
       "      <td>F2</td>\n",
       "      <td>bis(4-hydroxyphenyl)sulfone</td>\n",
       "      <td>increases^expression</td>\n",
       "      <td>Maternal</td>\n",
       "      <td>CNV,SNV</td>\n",
       "      <td>Dysprothrombinemia; Hypoprothrombinemia; Throm...</td>\n",
       "      <td>614390,601367,613679,613679,188050</td>\n",
       "      <td>Mus musculus</td>\n",
       "      <td>mRNA</td>\n",
       "    </tr>\n",
       "    <tr>\n",
       "      <th>32766</th>\n",
       "      <td>F2</td>\n",
       "      <td>bis(4-hydroxyphenyl)sulfone</td>\n",
       "      <td>increases^methylation</td>\n",
       "      <td>Maternal</td>\n",
       "      <td>CNV,SNV</td>\n",
       "      <td>Dysprothrombinemia; Hypoprothrombinemia; Throm...</td>\n",
       "      <td>614390,601367,613679,613679,188050</td>\n",
       "      <td>Mus musculus</td>\n",
       "      <td>exon</td>\n",
       "    </tr>\n",
       "    <tr>\n",
       "      <th>32767</th>\n",
       "      <td>F2</td>\n",
       "      <td>bisphenol A</td>\n",
       "      <td>decreases^methylation</td>\n",
       "      <td>Maternal</td>\n",
       "      <td>CNV,SNV</td>\n",
       "      <td>Dysprothrombinemia; Hypoprothrombinemia; Throm...</td>\n",
       "      <td>614390,601367,613679,613679,188050</td>\n",
       "      <td>Danio rerio</td>\n",
       "      <td>intron</td>\n",
       "    </tr>\n",
       "    <tr>\n",
       "      <th>32768</th>\n",
       "      <td>F2</td>\n",
       "      <td>bisphenol A</td>\n",
       "      <td>increases^expression</td>\n",
       "      <td>Maternal</td>\n",
       "      <td>CNV,SNV</td>\n",
       "      <td>Dysprothrombinemia; Hypoprothrombinemia; Throm...</td>\n",
       "      <td>614390,601367,613679,613679,188050</td>\n",
       "      <td>Danio rerio</td>\n",
       "      <td>mRNA</td>\n",
       "    </tr>\n",
       "    <tr>\n",
       "      <th>32769</th>\n",
       "      <td>F2</td>\n",
       "      <td>bisphenol A</td>\n",
       "      <td>affects^expression</td>\n",
       "      <td>Maternal</td>\n",
       "      <td>CNV,SNV</td>\n",
       "      <td>Dysprothrombinemia; Hypoprothrombinemia; Throm...</td>\n",
       "      <td>614390,601367,613679,613679,188050</td>\n",
       "      <td>Homo sapiens</td>\n",
       "      <td>mRNA</td>\n",
       "    </tr>\n",
       "    <tr>\n",
       "      <th>32770</th>\n",
       "      <td>F2</td>\n",
       "      <td>bisphenol A</td>\n",
       "      <td>affects^cotreatment</td>\n",
       "      <td>Maternal</td>\n",
       "      <td>CNV,SNV</td>\n",
       "      <td>Dysprothrombinemia; Hypoprothrombinemia; Throm...</td>\n",
       "      <td>614390,601367,613679,613679,188050</td>\n",
       "      <td>Homo sapiens</td>\n",
       "      <td>gene</td>\n",
       "    </tr>\n",
       "    <tr>\n",
       "      <th>32771</th>\n",
       "      <td>F2</td>\n",
       "      <td>bisphenol A</td>\n",
       "      <td>decreases^methylation</td>\n",
       "      <td>Maternal</td>\n",
       "      <td>CNV,SNV</td>\n",
       "      <td>Dysprothrombinemia; Hypoprothrombinemia; Throm...</td>\n",
       "      <td>614390,601367,613679,613679,188050</td>\n",
       "      <td>Homo sapiens</td>\n",
       "      <td>gene</td>\n",
       "    </tr>\n",
       "    <tr>\n",
       "      <th>32772</th>\n",
       "      <td>F2</td>\n",
       "      <td>bisphenol A</td>\n",
       "      <td>increases^expression</td>\n",
       "      <td>Maternal</td>\n",
       "      <td>CNV,SNV</td>\n",
       "      <td>Dysprothrombinemia; Hypoprothrombinemia; Throm...</td>\n",
       "      <td>614390,601367,613679,613679,188050</td>\n",
       "      <td>Mus musculus</td>\n",
       "      <td>mRNA</td>\n",
       "    </tr>\n",
       "    <tr>\n",
       "      <th>32773</th>\n",
       "      <td>F2</td>\n",
       "      <td>bisphenol A</td>\n",
       "      <td>affects^expression</td>\n",
       "      <td>Maternal</td>\n",
       "      <td>CNV,SNV</td>\n",
       "      <td>Dysprothrombinemia; Hypoprothrombinemia; Throm...</td>\n",
       "      <td>614390,601367,613679,613679,188050</td>\n",
       "      <td>Rattus norvegicus</td>\n",
       "      <td>mRNA</td>\n",
       "    </tr>\n",
       "    <tr>\n",
       "      <th>32774</th>\n",
       "      <td>F2</td>\n",
       "      <td>bisphenol A</td>\n",
       "      <td>decreases^expression</td>\n",
       "      <td>Maternal</td>\n",
       "      <td>CNV,SNV</td>\n",
       "      <td>Dysprothrombinemia; Hypoprothrombinemia; Throm...</td>\n",
       "      <td>614390,601367,613679,613679,188050</td>\n",
       "      <td>Rattus norvegicus</td>\n",
       "      <td>mRNA</td>\n",
       "    </tr>\n",
       "    <tr>\n",
       "      <th>32775</th>\n",
       "      <td>F2</td>\n",
       "      <td>bisphenol A</td>\n",
       "      <td>decreases^expression</td>\n",
       "      <td>Maternal</td>\n",
       "      <td>CNV,SNV</td>\n",
       "      <td>Dysprothrombinemia; Hypoprothrombinemia; Throm...</td>\n",
       "      <td>614390,601367,613679,613679,188050</td>\n",
       "      <td>Rattus norvegicus</td>\n",
       "      <td>protein</td>\n",
       "    </tr>\n",
       "    <tr>\n",
       "      <th>32776</th>\n",
       "      <td>F2</td>\n",
       "      <td>bisphenol F</td>\n",
       "      <td>increases^expression</td>\n",
       "      <td>Maternal</td>\n",
       "      <td>CNV,SNV</td>\n",
       "      <td>Dysprothrombinemia; Hypoprothrombinemia; Throm...</td>\n",
       "      <td>614390,601367,613679,613679,188050</td>\n",
       "      <td>Danio rerio</td>\n",
       "      <td>mRNA</td>\n",
       "    </tr>\n",
       "    <tr>\n",
       "      <th>32777</th>\n",
       "      <td>F2</td>\n",
       "      <td>bivalirudin</td>\n",
       "      <td>affects^binding</td>\n",
       "      <td>Maternal</td>\n",
       "      <td>CNV,SNV</td>\n",
       "      <td>Dysprothrombinemia; Hypoprothrombinemia; Throm...</td>\n",
       "      <td>614390,601367,613679,613679,188050</td>\n",
       "      <td>Homo sapiens</td>\n",
       "      <td>protein</td>\n",
       "    </tr>\n",
       "    <tr>\n",
       "      <th>32778</th>\n",
       "      <td>F2</td>\n",
       "      <td>bivalirudin</td>\n",
       "      <td>decreases^activity</td>\n",
       "      <td>Maternal</td>\n",
       "      <td>CNV,SNV</td>\n",
       "      <td>Dysprothrombinemia; Hypoprothrombinemia; Throm...</td>\n",
       "      <td>614390,601367,613679,613679,188050</td>\n",
       "      <td>Homo sapiens</td>\n",
       "      <td>protein</td>\n",
       "    </tr>\n",
       "    <tr>\n",
       "      <th>32779</th>\n",
       "      <td>F2</td>\n",
       "      <td>bivalirudin</td>\n",
       "      <td>decreases^reaction</td>\n",
       "      <td>Maternal</td>\n",
       "      <td>CNV,SNV</td>\n",
       "      <td>Dysprothrombinemia; Hypoprothrombinemia; Throm...</td>\n",
       "      <td>614390,601367,613679,613679,188050</td>\n",
       "      <td>Homo sapiens</td>\n",
       "      <td>protein</td>\n",
       "    </tr>\n",
       "    <tr>\n",
       "      <th>32780</th>\n",
       "      <td>F2</td>\n",
       "      <td>bivalirudin</td>\n",
       "      <td>increases^expression</td>\n",
       "      <td>Maternal</td>\n",
       "      <td>CNV,SNV</td>\n",
       "      <td>Dysprothrombinemia; Hypoprothrombinemia; Throm...</td>\n",
       "      <td>614390,601367,613679,613679,188050</td>\n",
       "      <td>Homo sapiens</td>\n",
       "      <td>protein</td>\n",
       "    </tr>\n",
       "    <tr>\n",
       "      <th>32781</th>\n",
       "      <td>F2</td>\n",
       "      <td>bivalirudin</td>\n",
       "      <td>decreases^activity</td>\n",
       "      <td>Maternal</td>\n",
       "      <td>CNV,SNV</td>\n",
       "      <td>Dysprothrombinemia; Hypoprothrombinemia; Throm...</td>\n",
       "      <td>614390,601367,613679,613679,188050</td>\n",
       "      <td>Homo sapiens</td>\n",
       "      <td>protein</td>\n",
       "    </tr>\n",
       "    <tr>\n",
       "      <th>32782</th>\n",
       "      <td>F2</td>\n",
       "      <td>bivalirudin</td>\n",
       "      <td>increases^cleavage</td>\n",
       "      <td>Maternal</td>\n",
       "      <td>CNV,SNV</td>\n",
       "      <td>Dysprothrombinemia; Hypoprothrombinemia; Throm...</td>\n",
       "      <td>614390,601367,613679,613679,188050</td>\n",
       "      <td>Homo sapiens</td>\n",
       "      <td>protein</td>\n",
       "    </tr>\n",
       "    <tr>\n",
       "      <th>32783</th>\n",
       "      <td>F2</td>\n",
       "      <td>bivalirudin</td>\n",
       "      <td>decreases^reaction</td>\n",
       "      <td>Maternal</td>\n",
       "      <td>CNV,SNV</td>\n",
       "      <td>Dysprothrombinemia; Hypoprothrombinemia; Throm...</td>\n",
       "      <td>614390,601367,613679,613679,188050</td>\n",
       "      <td>Papio</td>\n",
       "      <td>protein</td>\n",
       "    </tr>\n",
       "    <tr>\n",
       "      <th>32784</th>\n",
       "      <td>F2</td>\n",
       "      <td>bivalirudin</td>\n",
       "      <td>increases^expression</td>\n",
       "      <td>Maternal</td>\n",
       "      <td>CNV,SNV</td>\n",
       "      <td>Dysprothrombinemia; Hypoprothrombinemia; Throm...</td>\n",
       "      <td>614390,601367,613679,613679,188050</td>\n",
       "      <td>Papio</td>\n",
       "      <td>protein</td>\n",
       "    </tr>\n",
       "    <tr>\n",
       "      <th>32785</th>\n",
       "      <td>F2</td>\n",
       "      <td>bivalirudin</td>\n",
       "      <td>decreases^reaction</td>\n",
       "      <td>Maternal</td>\n",
       "      <td>CNV,SNV</td>\n",
       "      <td>Dysprothrombinemia; Hypoprothrombinemia; Throm...</td>\n",
       "      <td>614390,601367,613679,613679,188050</td>\n",
       "      <td>Papio</td>\n",
       "      <td>protein</td>\n",
       "    </tr>\n",
       "    <tr>\n",
       "      <th>32786</th>\n",
       "      <td>F2</td>\n",
       "      <td>bivalirudin</td>\n",
       "      <td>increases^expression</td>\n",
       "      <td>Maternal</td>\n",
       "      <td>CNV,SNV</td>\n",
       "      <td>Dysprothrombinemia; Hypoprothrombinemia; Throm...</td>\n",
       "      <td>614390,601367,613679,613679,188050</td>\n",
       "      <td>Papio</td>\n",
       "      <td>protein</td>\n",
       "    </tr>\n",
       "    <tr>\n",
       "      <th>32787</th>\n",
       "      <td>F2</td>\n",
       "      <td>bivalirudin</td>\n",
       "      <td>decreases^reaction</td>\n",
       "      <td>Maternal</td>\n",
       "      <td>CNV,SNV</td>\n",
       "      <td>Dysprothrombinemia; Hypoprothrombinemia; Throm...</td>\n",
       "      <td>614390,601367,613679,613679,188050</td>\n",
       "      <td>Papio</td>\n",
       "      <td>protein</td>\n",
       "    </tr>\n",
       "    <tr>\n",
       "      <th>32788</th>\n",
       "      <td>F2</td>\n",
       "      <td>bivalirudin</td>\n",
       "      <td>increases^secretion</td>\n",
       "      <td>Maternal</td>\n",
       "      <td>CNV,SNV</td>\n",
       "      <td>Dysprothrombinemia; Hypoprothrombinemia; Throm...</td>\n",
       "      <td>614390,601367,613679,613679,188050</td>\n",
       "      <td>Papio</td>\n",
       "      <td>protein</td>\n",
       "    </tr>\n",
       "    <tr>\n",
       "      <th>32789</th>\n",
       "      <td>F2</td>\n",
       "      <td>bivalirudin</td>\n",
       "      <td>decreases^activity</td>\n",
       "      <td>Maternal</td>\n",
       "      <td>CNV,SNV</td>\n",
       "      <td>Dysprothrombinemia; Hypoprothrombinemia; Throm...</td>\n",
       "      <td>614390,601367,613679,613679,188050</td>\n",
       "      <td>NaN</td>\n",
       "      <td>protein</td>\n",
       "    </tr>\n",
       "    <tr>\n",
       "      <th>32790</th>\n",
       "      <td>F2</td>\n",
       "      <td>bothrojaracin</td>\n",
       "      <td>affects^binding</td>\n",
       "      <td>Maternal</td>\n",
       "      <td>CNV,SNV</td>\n",
       "      <td>Dysprothrombinemia; Hypoprothrombinemia; Throm...</td>\n",
       "      <td>614390,601367,613679,613679,188050</td>\n",
       "      <td>NaN</td>\n",
       "      <td>protein</td>\n",
       "    </tr>\n",
       "    <tr>\n",
       "      <th>32791</th>\n",
       "      <td>F2</td>\n",
       "      <td>bothrojaracin</td>\n",
       "      <td>decreases^activity</td>\n",
       "      <td>Maternal</td>\n",
       "      <td>CNV,SNV</td>\n",
       "      <td>Dysprothrombinemia; Hypoprothrombinemia; Throm...</td>\n",
       "      <td>614390,601367,613679,613679,188050</td>\n",
       "      <td>NaN</td>\n",
       "      <td>protein</td>\n",
       "    </tr>\n",
       "    <tr>\n",
       "      <th>32792</th>\n",
       "      <td>F2</td>\n",
       "      <td>butylparaben</td>\n",
       "      <td>affects^expression</td>\n",
       "      <td>Maternal</td>\n",
       "      <td>CNV,SNV</td>\n",
       "      <td>Dysprothrombinemia; Hypoprothrombinemia; Throm...</td>\n",
       "      <td>614390,601367,613679,613679,188050</td>\n",
       "      <td>Danio rerio</td>\n",
       "      <td>mRNA</td>\n",
       "    </tr>\n",
       "    <tr>\n",
       "      <th>32793</th>\n",
       "      <td>F2</td>\n",
       "      <td>butyraldehyde</td>\n",
       "      <td>decreases^expression</td>\n",
       "      <td>Maternal</td>\n",
       "      <td>CNV,SNV</td>\n",
       "      <td>Dysprothrombinemia; Hypoprothrombinemia; Throm...</td>\n",
       "      <td>614390,601367,613679,613679,188050</td>\n",
       "      <td>Homo sapiens</td>\n",
       "      <td>mRNA</td>\n",
       "    </tr>\n",
       "    <tr>\n",
       "      <th>32794</th>\n",
       "      <td>F2</td>\n",
       "      <td>Cadmium</td>\n",
       "      <td>affects^binding</td>\n",
       "      <td>Maternal</td>\n",
       "      <td>CNV,SNV</td>\n",
       "      <td>Dysprothrombinemia; Hypoprothrombinemia; Throm...</td>\n",
       "      <td>614390,601367,613679,613679,188050</td>\n",
       "      <td>Homo sapiens</td>\n",
       "      <td>protein</td>\n",
       "    </tr>\n",
       "    <tr>\n",
       "      <th>32795</th>\n",
       "      <td>F2</td>\n",
       "      <td>Cadmium</td>\n",
       "      <td>increases^expression</td>\n",
       "      <td>Maternal</td>\n",
       "      <td>CNV,SNV</td>\n",
       "      <td>Dysprothrombinemia; Hypoprothrombinemia; Throm...</td>\n",
       "      <td>614390,601367,613679,613679,188050</td>\n",
       "      <td>Perca flavescens</td>\n",
       "      <td>mRNA</td>\n",
       "    </tr>\n",
       "    <tr>\n",
       "      <th>32796</th>\n",
       "      <td>F2</td>\n",
       "      <td>Cadmium Chloride</td>\n",
       "      <td>affects^expression</td>\n",
       "      <td>Maternal</td>\n",
       "      <td>CNV,SNV</td>\n",
       "      <td>Dysprothrombinemia; Hypoprothrombinemia; Throm...</td>\n",
       "      <td>614390,601367,613679,613679,188050</td>\n",
       "      <td>Platichthys flesus</td>\n",
       "      <td>mRNA</td>\n",
       "    </tr>\n",
       "    <tr>\n",
       "      <th>32797</th>\n",
       "      <td>F2</td>\n",
       "      <td>Calcium</td>\n",
       "      <td>decreases^reaction</td>\n",
       "      <td>Maternal</td>\n",
       "      <td>CNV,SNV</td>\n",
       "      <td>Dysprothrombinemia; Hypoprothrombinemia; Throm...</td>\n",
       "      <td>614390,601367,613679,613679,188050</td>\n",
       "      <td>Homo sapiens</td>\n",
       "      <td>protein</td>\n",
       "    </tr>\n",
       "    <tr>\n",
       "      <th>32798</th>\n",
       "      <td>F2</td>\n",
       "      <td>Calcium</td>\n",
       "      <td>increases^localization</td>\n",
       "      <td>Maternal</td>\n",
       "      <td>CNV,SNV</td>\n",
       "      <td>Dysprothrombinemia; Hypoprothrombinemia; Throm...</td>\n",
       "      <td>614390,601367,613679,613679,188050</td>\n",
       "      <td>Homo sapiens</td>\n",
       "      <td>protein</td>\n",
       "    </tr>\n",
       "    <tr>\n",
       "      <th>32799</th>\n",
       "      <td>F2</td>\n",
       "      <td>Calcium</td>\n",
       "      <td>decreases^reaction</td>\n",
       "      <td>Maternal</td>\n",
       "      <td>CNV,SNV</td>\n",
       "      <td>Dysprothrombinemia; Hypoprothrombinemia; Throm...</td>\n",
       "      <td>614390,601367,613679,613679,188050</td>\n",
       "      <td>Homo sapiens</td>\n",
       "      <td>protein</td>\n",
       "    </tr>\n",
       "    <tr>\n",
       "      <th>32800</th>\n",
       "      <td>F2</td>\n",
       "      <td>Calcium</td>\n",
       "      <td>increases^localization</td>\n",
       "      <td>Maternal</td>\n",
       "      <td>CNV,SNV</td>\n",
       "      <td>Dysprothrombinemia; Hypoprothrombinemia; Throm...</td>\n",
       "      <td>614390,601367,613679,613679,188050</td>\n",
       "      <td>Homo sapiens</td>\n",
       "      <td>protein</td>\n",
       "    </tr>\n",
       "    <tr>\n",
       "      <th>32801</th>\n",
       "      <td>F2</td>\n",
       "      <td>Calcium</td>\n",
       "      <td>decreases^reaction</td>\n",
       "      <td>Maternal</td>\n",
       "      <td>CNV,SNV</td>\n",
       "      <td>Dysprothrombinemia; Hypoprothrombinemia; Throm...</td>\n",
       "      <td>614390,601367,613679,613679,188050</td>\n",
       "      <td>Homo sapiens</td>\n",
       "      <td>protein</td>\n",
       "    </tr>\n",
       "    <tr>\n",
       "      <th>32802</th>\n",
       "      <td>F2</td>\n",
       "      <td>Calcium</td>\n",
       "      <td>increases^localization</td>\n",
       "      <td>Maternal</td>\n",
       "      <td>CNV,SNV</td>\n",
       "      <td>Dysprothrombinemia; Hypoprothrombinemia; Throm...</td>\n",
       "      <td>614390,601367,613679,613679,188050</td>\n",
       "      <td>Homo sapiens</td>\n",
       "      <td>protein</td>\n",
       "    </tr>\n",
       "    <tr>\n",
       "      <th>32803</th>\n",
       "      <td>F2</td>\n",
       "      <td>Calcium</td>\n",
       "      <td>decreases^reaction</td>\n",
       "      <td>Maternal</td>\n",
       "      <td>CNV,SNV</td>\n",
       "      <td>Dysprothrombinemia; Hypoprothrombinemia; Throm...</td>\n",
       "      <td>614390,601367,613679,613679,188050</td>\n",
       "      <td>Homo sapiens</td>\n",
       "      <td>protein</td>\n",
       "    </tr>\n",
       "    <tr>\n",
       "      <th>32804</th>\n",
       "      <td>F2</td>\n",
       "      <td>Calcium</td>\n",
       "      <td>increases^abundance</td>\n",
       "      <td>Maternal</td>\n",
       "      <td>CNV,SNV</td>\n",
       "      <td>Dysprothrombinemia; Hypoprothrombinemia; Throm...</td>\n",
       "      <td>614390,601367,613679,613679,188050</td>\n",
       "      <td>Homo sapiens</td>\n",
       "      <td>protein</td>\n",
       "    </tr>\n",
       "    <tr>\n",
       "      <th>32805</th>\n",
       "      <td>F2</td>\n",
       "      <td>Calcium</td>\n",
       "      <td>increases^abundance</td>\n",
       "      <td>Maternal</td>\n",
       "      <td>CNV,SNV</td>\n",
       "      <td>Dysprothrombinemia; Hypoprothrombinemia; Throm...</td>\n",
       "      <td>614390,601367,613679,613679,188050</td>\n",
       "      <td>Homo sapiens</td>\n",
       "      <td>protein</td>\n",
       "    </tr>\n",
       "    <tr>\n",
       "      <th>32806</th>\n",
       "      <td>F2</td>\n",
       "      <td>Calcium</td>\n",
       "      <td>increases^localization</td>\n",
       "      <td>Maternal</td>\n",
       "      <td>CNV,SNV</td>\n",
       "      <td>Dysprothrombinemia; Hypoprothrombinemia; Throm...</td>\n",
       "      <td>614390,601367,613679,613679,188050</td>\n",
       "      <td>Homo sapiens</td>\n",
       "      <td>protein</td>\n",
       "    </tr>\n",
       "    <tr>\n",
       "      <th>32807</th>\n",
       "      <td>F2</td>\n",
       "      <td>Calcium</td>\n",
       "      <td>increases^uptake</td>\n",
       "      <td>Maternal</td>\n",
       "      <td>CNV,SNV</td>\n",
       "      <td>Dysprothrombinemia; Hypoprothrombinemia; Throm...</td>\n",
       "      <td>614390,601367,613679,613679,188050</td>\n",
       "      <td>Homo sapiens</td>\n",
       "      <td>protein</td>\n",
       "    </tr>\n",
       "    <tr>\n",
       "      <th>32808</th>\n",
       "      <td>F2</td>\n",
       "      <td>Calcium</td>\n",
       "      <td>decreases^reaction</td>\n",
       "      <td>Maternal</td>\n",
       "      <td>CNV,SNV</td>\n",
       "      <td>Dysprothrombinemia; Hypoprothrombinemia; Throm...</td>\n",
       "      <td>614390,601367,613679,613679,188050</td>\n",
       "      <td>Homo sapiens</td>\n",
       "      <td>protein</td>\n",
       "    </tr>\n",
       "    <tr>\n",
       "      <th>32809</th>\n",
       "      <td>F2</td>\n",
       "      <td>Calcium</td>\n",
       "      <td>increases^localization</td>\n",
       "      <td>Maternal</td>\n",
       "      <td>CNV,SNV</td>\n",
       "      <td>Dysprothrombinemia; Hypoprothrombinemia; Throm...</td>\n",
       "      <td>614390,601367,613679,613679,188050</td>\n",
       "      <td>Homo sapiens</td>\n",
       "      <td>protein</td>\n",
       "    </tr>\n",
       "    <tr>\n",
       "      <th>32810</th>\n",
       "      <td>F2</td>\n",
       "      <td>Calcium</td>\n",
       "      <td>decreases^reaction</td>\n",
       "      <td>Maternal</td>\n",
       "      <td>CNV,SNV</td>\n",
       "      <td>Dysprothrombinemia; Hypoprothrombinemia; Throm...</td>\n",
       "      <td>614390,601367,613679,613679,188050</td>\n",
       "      <td>Homo sapiens</td>\n",
       "      <td>protein</td>\n",
       "    </tr>\n",
       "    <tr>\n",
       "      <th>32811</th>\n",
       "      <td>F2</td>\n",
       "      <td>Calcium</td>\n",
       "      <td>increases^uptake</td>\n",
       "      <td>Maternal</td>\n",
       "      <td>CNV,SNV</td>\n",
       "      <td>Dysprothrombinemia; Hypoprothrombinemia; Throm...</td>\n",
       "      <td>614390,601367,613679,613679,188050</td>\n",
       "      <td>Homo sapiens</td>\n",
       "      <td>protein</td>\n",
       "    </tr>\n",
       "    <tr>\n",
       "      <th>32812</th>\n",
       "      <td>F2</td>\n",
       "      <td>Calcium</td>\n",
       "      <td>decreases^reaction</td>\n",
       "      <td>Maternal</td>\n",
       "      <td>CNV,SNV</td>\n",
       "      <td>Dysprothrombinemia; Hypoprothrombinemia; Throm...</td>\n",
       "      <td>614390,601367,613679,613679,188050</td>\n",
       "      <td>Homo sapiens</td>\n",
       "      <td>protein</td>\n",
       "    </tr>\n",
       "    <tr>\n",
       "      <th>32813</th>\n",
       "      <td>F2</td>\n",
       "      <td>Calcium</td>\n",
       "      <td>increases^localization</td>\n",
       "      <td>Maternal</td>\n",
       "      <td>CNV,SNV</td>\n",
       "      <td>Dysprothrombinemia; Hypoprothrombinemia; Throm...</td>\n",
       "      <td>614390,601367,613679,613679,188050</td>\n",
       "      <td>Homo sapiens</td>\n",
       "      <td>protein</td>\n",
       "    </tr>\n",
       "    <tr>\n",
       "      <th>32814</th>\n",
       "      <td>F2</td>\n",
       "      <td>Calcium Chloride</td>\n",
       "      <td>affects^cotreatment</td>\n",
       "      <td>Maternal</td>\n",
       "      <td>CNV,SNV</td>\n",
       "      <td>Dysprothrombinemia; Hypoprothrombinemia; Throm...</td>\n",
       "      <td>614390,601367,613679,613679,188050</td>\n",
       "      <td>Homo sapiens</td>\n",
       "      <td>protein</td>\n",
       "    </tr>\n",
       "    <tr>\n",
       "      <th>32815</th>\n",
       "      <td>F2</td>\n",
       "      <td>Calcium Chloride</td>\n",
       "      <td>decreases^reaction</td>\n",
       "      <td>Maternal</td>\n",
       "      <td>CNV,SNV</td>\n",
       "      <td>Dysprothrombinemia; Hypoprothrombinemia; Throm...</td>\n",
       "      <td>614390,601367,613679,613679,188050</td>\n",
       "      <td>Homo sapiens</td>\n",
       "      <td>protein</td>\n",
       "    </tr>\n",
       "    <tr>\n",
       "      <th>32816</th>\n",
       "      <td>F2</td>\n",
       "      <td>Calcium Chloride</td>\n",
       "      <td>increases^metabolic processing</td>\n",
       "      <td>Maternal</td>\n",
       "      <td>CNV,SNV</td>\n",
       "      <td>Dysprothrombinemia; Hypoprothrombinemia; Throm...</td>\n",
       "      <td>614390,601367,613679,613679,188050</td>\n",
       "      <td>Homo sapiens</td>\n",
       "      <td>protein</td>\n",
       "    </tr>\n",
       "    <tr>\n",
       "      <th>32817</th>\n",
       "      <td>F2</td>\n",
       "      <td>Calcium Chloride</td>\n",
       "      <td>affects^cotreatment</td>\n",
       "      <td>Maternal</td>\n",
       "      <td>CNV,SNV</td>\n",
       "      <td>Dysprothrombinemia; Hypoprothrombinemia; Throm...</td>\n",
       "      <td>614390,601367,613679,613679,188050</td>\n",
       "      <td>Homo sapiens</td>\n",
       "      <td>protein</td>\n",
       "    </tr>\n",
       "    <tr>\n",
       "      <th>32818</th>\n",
       "      <td>F2</td>\n",
       "      <td>Calcium Chloride</td>\n",
       "      <td>increases^metabolic processing</td>\n",
       "      <td>Maternal</td>\n",
       "      <td>CNV,SNV</td>\n",
       "      <td>Dysprothrombinemia; Hypoprothrombinemia; Throm...</td>\n",
       "      <td>614390,601367,613679,613679,188050</td>\n",
       "      <td>Homo sapiens</td>\n",
       "      <td>protein</td>\n",
       "    </tr>\n",
       "    <tr>\n",
       "      <th>32819</th>\n",
       "      <td>F2</td>\n",
       "      <td>Calcium Chloride</td>\n",
       "      <td>affects^cotreatment</td>\n",
       "      <td>Maternal</td>\n",
       "      <td>CNV,SNV</td>\n",
       "      <td>Dysprothrombinemia; Hypoprothrombinemia; Throm...</td>\n",
       "      <td>614390,601367,613679,613679,188050</td>\n",
       "      <td>Homo sapiens</td>\n",
       "      <td>protein</td>\n",
       "    </tr>\n",
       "    <tr>\n",
       "      <th>32820</th>\n",
       "      <td>F2</td>\n",
       "      <td>Calcium Chloride</td>\n",
       "      <td>decreases^reaction</td>\n",
       "      <td>Maternal</td>\n",
       "      <td>CNV,SNV</td>\n",
       "      <td>Dysprothrombinemia; Hypoprothrombinemia; Throm...</td>\n",
       "      <td>614390,601367,613679,613679,188050</td>\n",
       "      <td>Homo sapiens</td>\n",
       "      <td>protein</td>\n",
       "    </tr>\n",
       "    <tr>\n",
       "      <th>32821</th>\n",
       "      <td>F2</td>\n",
       "      <td>Calcium Chloride</td>\n",
       "      <td>increases^metabolic processing</td>\n",
       "      <td>Maternal</td>\n",
       "      <td>CNV,SNV</td>\n",
       "      <td>Dysprothrombinemia; Hypoprothrombinemia; Throm...</td>\n",
       "      <td>614390,601367,613679,613679,188050</td>\n",
       "      <td>Homo sapiens</td>\n",
       "      <td>protein</td>\n",
       "    </tr>\n",
       "    <tr>\n",
       "      <th>32822</th>\n",
       "      <td>F2</td>\n",
       "      <td>calmidazolium</td>\n",
       "      <td>affects^reaction</td>\n",
       "      <td>Maternal</td>\n",
       "      <td>CNV,SNV</td>\n",
       "      <td>Dysprothrombinemia; Hypoprothrombinemia; Throm...</td>\n",
       "      <td>614390,601367,613679,613679,188050</td>\n",
       "      <td>Homo sapiens</td>\n",
       "      <td>protein</td>\n",
       "    </tr>\n",
       "    <tr>\n",
       "      <th>32823</th>\n",
       "      <td>F2</td>\n",
       "      <td>calmidazolium</td>\n",
       "      <td>increases^secretion</td>\n",
       "      <td>Maternal</td>\n",
       "      <td>CNV,SNV</td>\n",
       "      <td>Dysprothrombinemia; Hypoprothrombinemia; Throm...</td>\n",
       "      <td>614390,601367,613679,613679,188050</td>\n",
       "      <td>Homo sapiens</td>\n",
       "      <td>protein</td>\n",
       "    </tr>\n",
       "    <tr>\n",
       "      <th>32824</th>\n",
       "      <td>F2</td>\n",
       "      <td>Capsaicin</td>\n",
       "      <td>affects^expression</td>\n",
       "      <td>Maternal</td>\n",
       "      <td>CNV,SNV</td>\n",
       "      <td>Dysprothrombinemia; Hypoprothrombinemia; Throm...</td>\n",
       "      <td>614390,601367,613679,613679,188050</td>\n",
       "      <td>Rattus norvegicus</td>\n",
       "      <td>protein</td>\n",
       "    </tr>\n",
       "    <tr>\n",
       "      <th>32825</th>\n",
       "      <td>F2</td>\n",
       "      <td>Carbon Tetrachloride</td>\n",
       "      <td>increases^activity</td>\n",
       "      <td>Maternal</td>\n",
       "      <td>CNV,SNV</td>\n",
       "      <td>Dysprothrombinemia; Hypoprothrombinemia; Throm...</td>\n",
       "      <td>614390,601367,613679,613679,188050</td>\n",
       "      <td>Mus musculus</td>\n",
       "      <td>protein</td>\n",
       "    </tr>\n",
       "    <tr>\n",
       "      <th>32826</th>\n",
       "      <td>F2</td>\n",
       "      <td>Carbon Tetrachloride</td>\n",
       "      <td>decreases^expression</td>\n",
       "      <td>Maternal</td>\n",
       "      <td>CNV,SNV</td>\n",
       "      <td>Dysprothrombinemia; Hypoprothrombinemia; Throm...</td>\n",
       "      <td>614390,601367,613679,613679,188050</td>\n",
       "      <td>Rattus norvegicus</td>\n",
       "      <td>mRNA</td>\n",
       "    </tr>\n",
       "    <tr>\n",
       "      <th>32827</th>\n",
       "      <td>F2</td>\n",
       "      <td>Carbon Tetrachloride</td>\n",
       "      <td>decreases^expression</td>\n",
       "      <td>Maternal</td>\n",
       "      <td>CNV,SNV</td>\n",
       "      <td>Dysprothrombinemia; Hypoprothrombinemia; Throm...</td>\n",
       "      <td>614390,601367,613679,613679,188050</td>\n",
       "      <td>Rattus norvegicus</td>\n",
       "      <td>mRNA</td>\n",
       "    </tr>\n",
       "    <tr>\n",
       "      <th>32828</th>\n",
       "      <td>F2</td>\n",
       "      <td>Carbon Tetrachloride</td>\n",
       "      <td>decreases^reaction</td>\n",
       "      <td>Maternal</td>\n",
       "      <td>CNV,SNV</td>\n",
       "      <td>Dysprothrombinemia; Hypoprothrombinemia; Throm...</td>\n",
       "      <td>614390,601367,613679,613679,188050</td>\n",
       "      <td>Rattus norvegicus</td>\n",
       "      <td>mRNA</td>\n",
       "    </tr>\n",
       "    <tr>\n",
       "      <th>32829</th>\n",
       "      <td>F2</td>\n",
       "      <td>Cellulose</td>\n",
       "      <td>affects^cotreatment</td>\n",
       "      <td>Maternal</td>\n",
       "      <td>CNV,SNV</td>\n",
       "      <td>Dysprothrombinemia; Hypoprothrombinemia; Throm...</td>\n",
       "      <td>614390,601367,613679,613679,188050</td>\n",
       "      <td>Mus musculus</td>\n",
       "      <td>mRNA</td>\n",
       "    </tr>\n",
       "    <tr>\n",
       "      <th>32830</th>\n",
       "      <td>F2</td>\n",
       "      <td>Cellulose</td>\n",
       "      <td>decreases^expression</td>\n",
       "      <td>Maternal</td>\n",
       "      <td>CNV,SNV</td>\n",
       "      <td>Dysprothrombinemia; Hypoprothrombinemia; Throm...</td>\n",
       "      <td>614390,601367,613679,613679,188050</td>\n",
       "      <td>Mus musculus</td>\n",
       "      <td>mRNA</td>\n",
       "    </tr>\n",
       "    <tr>\n",
       "      <th>32831</th>\n",
       "      <td>F2</td>\n",
       "      <td>cerivastatin</td>\n",
       "      <td>decreases^expression</td>\n",
       "      <td>Maternal</td>\n",
       "      <td>CNV,SNV</td>\n",
       "      <td>Dysprothrombinemia; Hypoprothrombinemia; Throm...</td>\n",
       "      <td>614390,601367,613679,613679,188050</td>\n",
       "      <td>Homo sapiens</td>\n",
       "      <td>protein</td>\n",
       "    </tr>\n",
       "    <tr>\n",
       "      <th>32832</th>\n",
       "      <td>F2</td>\n",
       "      <td>cerivastatin</td>\n",
       "      <td>decreases^reaction</td>\n",
       "      <td>Maternal</td>\n",
       "      <td>CNV,SNV</td>\n",
       "      <td>Dysprothrombinemia; Hypoprothrombinemia; Throm...</td>\n",
       "      <td>614390,601367,613679,613679,188050</td>\n",
       "      <td>Homo sapiens</td>\n",
       "      <td>protein</td>\n",
       "    </tr>\n",
       "    <tr>\n",
       "      <th>32833</th>\n",
       "      <td>F2</td>\n",
       "      <td>Chlorine</td>\n",
       "      <td>decreases^expression</td>\n",
       "      <td>Maternal</td>\n",
       "      <td>CNV,SNV</td>\n",
       "      <td>Dysprothrombinemia; Hypoprothrombinemia; Throm...</td>\n",
       "      <td>614390,601367,613679,613679,188050</td>\n",
       "      <td>Rattus norvegicus</td>\n",
       "      <td>mRNA</td>\n",
       "    </tr>\n",
       "    <tr>\n",
       "      <th>32834</th>\n",
       "      <td>F2</td>\n",
       "      <td>Chlorine</td>\n",
       "      <td>affects^cotreatment</td>\n",
       "      <td>Maternal</td>\n",
       "      <td>CNV,SNV</td>\n",
       "      <td>Dysprothrombinemia; Hypoprothrombinemia; Throm...</td>\n",
       "      <td>614390,601367,613679,613679,188050</td>\n",
       "      <td>Rattus norvegicus</td>\n",
       "      <td>mRNA</td>\n",
       "    </tr>\n",
       "    <tr>\n",
       "      <th>32835</th>\n",
       "      <td>F2</td>\n",
       "      <td>Chlorine</td>\n",
       "      <td>affects^expression</td>\n",
       "      <td>Maternal</td>\n",
       "      <td>CNV,SNV</td>\n",
       "      <td>Dysprothrombinemia; Hypoprothrombinemia; Throm...</td>\n",
       "      <td>614390,601367,613679,613679,188050</td>\n",
       "      <td>Rattus norvegicus</td>\n",
       "      <td>mRNA</td>\n",
       "    </tr>\n",
       "    <tr>\n",
       "      <th>32836</th>\n",
       "      <td>F2</td>\n",
       "      <td>Chlorodiphenyl (54% Chlorine)</td>\n",
       "      <td>increases^expression</td>\n",
       "      <td>Maternal</td>\n",
       "      <td>CNV,SNV</td>\n",
       "      <td>Dysprothrombinemia; Hypoprothrombinemia; Throm...</td>\n",
       "      <td>614390,601367,613679,613679,188050</td>\n",
       "      <td>Platichthys flesus</td>\n",
       "      <td>mRNA</td>\n",
       "    </tr>\n",
       "    <tr>\n",
       "      <th>32837</th>\n",
       "      <td>F2</td>\n",
       "      <td>Chlorogenic Acid</td>\n",
       "      <td>decreases^activity</td>\n",
       "      <td>Maternal</td>\n",
       "      <td>CNV,SNV</td>\n",
       "      <td>Dysprothrombinemia; Hypoprothrombinemia; Throm...</td>\n",
       "      <td>614390,601367,613679,613679,188050</td>\n",
       "      <td>Homo sapiens</td>\n",
       "      <td>protein</td>\n",
       "    </tr>\n",
       "    <tr>\n",
       "      <th>32838</th>\n",
       "      <td>F2</td>\n",
       "      <td>Chlorpromazine</td>\n",
       "      <td>decreases^expression</td>\n",
       "      <td>Maternal</td>\n",
       "      <td>CNV,SNV</td>\n",
       "      <td>Dysprothrombinemia; Hypoprothrombinemia; Throm...</td>\n",
       "      <td>614390,601367,613679,613679,188050</td>\n",
       "      <td>Homo sapiens</td>\n",
       "      <td>mRNA</td>\n",
       "    </tr>\n",
       "    <tr>\n",
       "      <th>32839</th>\n",
       "      <td>F2</td>\n",
       "      <td>Chlorpyrifos</td>\n",
       "      <td>increases^expression</td>\n",
       "      <td>Maternal</td>\n",
       "      <td>CNV,SNV</td>\n",
       "      <td>Dysprothrombinemia; Hypoprothrombinemia; Throm...</td>\n",
       "      <td>614390,601367,613679,613679,188050</td>\n",
       "      <td>Cyprinus carpio</td>\n",
       "      <td>mRNA</td>\n",
       "    </tr>\n",
       "    <tr>\n",
       "      <th>32840</th>\n",
       "      <td>F2</td>\n",
       "      <td>Chlorpyrifos</td>\n",
       "      <td>increases^expression</td>\n",
       "      <td>Maternal</td>\n",
       "      <td>CNV,SNV</td>\n",
       "      <td>Dysprothrombinemia; Hypoprothrombinemia; Throm...</td>\n",
       "      <td>614390,601367,613679,613679,188050</td>\n",
       "      <td>Mus musculus</td>\n",
       "      <td>mRNA</td>\n",
       "    </tr>\n",
       "    <tr>\n",
       "      <th>32841</th>\n",
       "      <td>F2</td>\n",
       "      <td>Cholesterol, Dietary</td>\n",
       "      <td>affects^binding</td>\n",
       "      <td>Maternal</td>\n",
       "      <td>CNV,SNV</td>\n",
       "      <td>Dysprothrombinemia; Hypoprothrombinemia; Throm...</td>\n",
       "      <td>614390,601367,613679,613679,188050</td>\n",
       "      <td>Mus musculus</td>\n",
       "      <td>protein</td>\n",
       "    </tr>\n",
       "    <tr>\n",
       "      <th>32842</th>\n",
       "      <td>F2</td>\n",
       "      <td>Cholesterol, Dietary</td>\n",
       "      <td>increases^expression</td>\n",
       "      <td>Maternal</td>\n",
       "      <td>CNV,SNV</td>\n",
       "      <td>Dysprothrombinemia; Hypoprothrombinemia; Throm...</td>\n",
       "      <td>614390,601367,613679,613679,188050</td>\n",
       "      <td>Mus musculus</td>\n",
       "      <td>protein</td>\n",
       "    </tr>\n",
       "    <tr>\n",
       "      <th>32843</th>\n",
       "      <td>F2</td>\n",
       "      <td>Clobazam</td>\n",
       "      <td>affects^binding</td>\n",
       "      <td>Maternal</td>\n",
       "      <td>CNV,SNV</td>\n",
       "      <td>Dysprothrombinemia; Hypoprothrombinemia; Throm...</td>\n",
       "      <td>614390,601367,613679,613679,188050</td>\n",
       "      <td>Homo sapiens</td>\n",
       "      <td>protein</td>\n",
       "    </tr>\n",
       "    <tr>\n",
       "      <th>32844</th>\n",
       "      <td>F2</td>\n",
       "      <td>Clobazam</td>\n",
       "      <td>affects^cotreatment</td>\n",
       "      <td>Maternal</td>\n",
       "      <td>CNV,SNV</td>\n",
       "      <td>Dysprothrombinemia; Hypoprothrombinemia; Throm...</td>\n",
       "      <td>614390,601367,613679,613679,188050</td>\n",
       "      <td>Homo sapiens</td>\n",
       "      <td>protein</td>\n",
       "    </tr>\n",
       "    <tr>\n",
       "      <th>32845</th>\n",
       "      <td>F2</td>\n",
       "      <td>Clobazam</td>\n",
       "      <td>increases^expression</td>\n",
       "      <td>Maternal</td>\n",
       "      <td>CNV,SNV</td>\n",
       "      <td>Dysprothrombinemia; Hypoprothrombinemia; Throm...</td>\n",
       "      <td>614390,601367,613679,613679,188050</td>\n",
       "      <td>Homo sapiens</td>\n",
       "      <td>protein</td>\n",
       "    </tr>\n",
       "    <tr>\n",
       "      <th>32846</th>\n",
       "      <td>F2</td>\n",
       "      <td>Clofibrate</td>\n",
       "      <td>decreases^expression</td>\n",
       "      <td>Maternal</td>\n",
       "      <td>CNV,SNV</td>\n",
       "      <td>Dysprothrombinemia; Hypoprothrombinemia; Throm...</td>\n",
       "      <td>614390,601367,613679,613679,188050</td>\n",
       "      <td>Macaca fascicularis</td>\n",
       "      <td>mRNA</td>\n",
       "    </tr>\n",
       "    <tr>\n",
       "      <th>32847</th>\n",
       "      <td>F2</td>\n",
       "      <td>Clopidogrel</td>\n",
       "      <td>decreases^reaction</td>\n",
       "      <td>Maternal</td>\n",
       "      <td>CNV,SNV</td>\n",
       "      <td>Dysprothrombinemia; Hypoprothrombinemia; Throm...</td>\n",
       "      <td>614390,601367,613679,613679,188050</td>\n",
       "      <td>Mus musculus</td>\n",
       "      <td>protein</td>\n",
       "    </tr>\n",
       "    <tr>\n",
       "      <th>32848</th>\n",
       "      <td>F2</td>\n",
       "      <td>Clopidogrel</td>\n",
       "      <td>increases^expression</td>\n",
       "      <td>Maternal</td>\n",
       "      <td>CNV,SNV</td>\n",
       "      <td>Dysprothrombinemia; Hypoprothrombinemia; Throm...</td>\n",
       "      <td>614390,601367,613679,613679,188050</td>\n",
       "      <td>Mus musculus</td>\n",
       "      <td>protein</td>\n",
       "    </tr>\n",
       "    <tr>\n",
       "      <th>32849</th>\n",
       "      <td>F2</td>\n",
       "      <td>clothianidin</td>\n",
       "      <td>decreases^expression</td>\n",
       "      <td>Maternal</td>\n",
       "      <td>CNV,SNV</td>\n",
       "      <td>Dysprothrombinemia; Hypoprothrombinemia; Throm...</td>\n",
       "      <td>614390,601367,613679,613679,188050</td>\n",
       "      <td>Homo sapiens</td>\n",
       "      <td>mRNA</td>\n",
       "    </tr>\n",
       "    <tr>\n",
       "      <th>32850</th>\n",
       "      <td>F2</td>\n",
       "      <td>Cobalt</td>\n",
       "      <td>increases^uptake</td>\n",
       "      <td>Maternal</td>\n",
       "      <td>CNV,SNV</td>\n",
       "      <td>Dysprothrombinemia; Hypoprothrombinemia; Throm...</td>\n",
       "      <td>614390,601367,613679,613679,188050</td>\n",
       "      <td>Homo sapiens</td>\n",
       "      <td>protein</td>\n",
       "    </tr>\n",
       "    <tr>\n",
       "      <th>32851</th>\n",
       "      <td>F2</td>\n",
       "      <td>Cobalt</td>\n",
       "      <td>decreases^reaction</td>\n",
       "      <td>Maternal</td>\n",
       "      <td>CNV,SNV</td>\n",
       "      <td>Dysprothrombinemia; Hypoprothrombinemia; Throm...</td>\n",
       "      <td>614390,601367,613679,613679,188050</td>\n",
       "      <td>Homo sapiens</td>\n",
       "      <td>protein</td>\n",
       "    </tr>\n",
       "    <tr>\n",
       "      <th>32852</th>\n",
       "      <td>F2</td>\n",
       "      <td>Cobalt</td>\n",
       "      <td>increases^uptake</td>\n",
       "      <td>Maternal</td>\n",
       "      <td>CNV,SNV</td>\n",
       "      <td>Dysprothrombinemia; Hypoprothrombinemia; Throm...</td>\n",
       "      <td>614390,601367,613679,613679,188050</td>\n",
       "      <td>Homo sapiens</td>\n",
       "      <td>protein</td>\n",
       "    </tr>\n",
       "    <tr>\n",
       "      <th>32853</th>\n",
       "      <td>F2</td>\n",
       "      <td>Colchicine</td>\n",
       "      <td>affects^activity</td>\n",
       "      <td>Maternal</td>\n",
       "      <td>CNV,SNV</td>\n",
       "      <td>Dysprothrombinemia; Hypoprothrombinemia; Throm...</td>\n",
       "      <td>614390,601367,613679,613679,188050</td>\n",
       "      <td>Homo sapiens</td>\n",
       "      <td>protein</td>\n",
       "    </tr>\n",
       "    <tr>\n",
       "      <th>32854</th>\n",
       "      <td>F2</td>\n",
       "      <td>Colforsin</td>\n",
       "      <td>decreases^reaction</td>\n",
       "      <td>Maternal</td>\n",
       "      <td>CNV,SNV</td>\n",
       "      <td>Dysprothrombinemia; Hypoprothrombinemia; Throm...</td>\n",
       "      <td>614390,601367,613679,613679,188050</td>\n",
       "      <td>Homo sapiens</td>\n",
       "      <td>protein</td>\n",
       "    </tr>\n",
       "    <tr>\n",
       "      <th>32855</th>\n",
       "      <td>F2</td>\n",
       "      <td>Colforsin</td>\n",
       "      <td>increases^uptake</td>\n",
       "      <td>Maternal</td>\n",
       "      <td>CNV,SNV</td>\n",
       "      <td>Dysprothrombinemia; Hypoprothrombinemia; Throm...</td>\n",
       "      <td>614390,601367,613679,613679,188050</td>\n",
       "      <td>Homo sapiens</td>\n",
       "      <td>protein</td>\n",
       "    </tr>\n",
       "    <tr>\n",
       "      <th>32856</th>\n",
       "      <td>F2</td>\n",
       "      <td>Colforsin</td>\n",
       "      <td>decreases^reaction</td>\n",
       "      <td>Maternal</td>\n",
       "      <td>CNV,SNV</td>\n",
       "      <td>Dysprothrombinemia; Hypoprothrombinemia; Throm...</td>\n",
       "      <td>614390,601367,613679,613679,188050</td>\n",
       "      <td>Papio</td>\n",
       "      <td>protein</td>\n",
       "    </tr>\n",
       "    <tr>\n",
       "      <th>32857</th>\n",
       "      <td>F2</td>\n",
       "      <td>Colforsin</td>\n",
       "      <td>increases^expression</td>\n",
       "      <td>Maternal</td>\n",
       "      <td>CNV,SNV</td>\n",
       "      <td>Dysprothrombinemia; Hypoprothrombinemia; Throm...</td>\n",
       "      <td>614390,601367,613679,613679,188050</td>\n",
       "      <td>Papio</td>\n",
       "      <td>protein</td>\n",
       "    </tr>\n",
       "    <tr>\n",
       "      <th>32858</th>\n",
       "      <td>F2</td>\n",
       "      <td>Colforsin</td>\n",
       "      <td>decreases^reaction</td>\n",
       "      <td>Maternal</td>\n",
       "      <td>CNV,SNV</td>\n",
       "      <td>Dysprothrombinemia; Hypoprothrombinemia; Throm...</td>\n",
       "      <td>614390,601367,613679,613679,188050</td>\n",
       "      <td>NaN</td>\n",
       "      <td>protein</td>\n",
       "    </tr>\n",
       "    <tr>\n",
       "      <th>32859</th>\n",
       "      <td>F2</td>\n",
       "      <td>Colforsin</td>\n",
       "      <td>increases^chemical synthesis</td>\n",
       "      <td>Maternal</td>\n",
       "      <td>CNV,SNV</td>\n",
       "      <td>Dysprothrombinemia; Hypoprothrombinemia; Throm...</td>\n",
       "      <td>614390,601367,613679,613679,188050</td>\n",
       "      <td>NaN</td>\n",
       "      <td>protein</td>\n",
       "    </tr>\n",
       "    <tr>\n",
       "      <th>32860</th>\n",
       "      <td>F2</td>\n",
       "      <td>Contraceptives, Oral</td>\n",
       "      <td>increases^activity</td>\n",
       "      <td>Maternal</td>\n",
       "      <td>CNV,SNV</td>\n",
       "      <td>Dysprothrombinemia; Hypoprothrombinemia; Throm...</td>\n",
       "      <td>614390,601367,613679,613679,188050</td>\n",
       "      <td>Homo sapiens</td>\n",
       "      <td>protein</td>\n",
       "    </tr>\n",
       "    <tr>\n",
       "      <th>32861</th>\n",
       "      <td>F2</td>\n",
       "      <td>Contraceptives, Oral</td>\n",
       "      <td>increases^expression</td>\n",
       "      <td>Maternal</td>\n",
       "      <td>CNV,SNV</td>\n",
       "      <td>Dysprothrombinemia; Hypoprothrombinemia; Throm...</td>\n",
       "      <td>614390,601367,613679,613679,188050</td>\n",
       "      <td>Homo sapiens</td>\n",
       "      <td>protein</td>\n",
       "    </tr>\n",
       "    <tr>\n",
       "      <th>32862</th>\n",
       "      <td>F2</td>\n",
       "      <td>Contraceptives, Oral</td>\n",
       "      <td>increases^expression</td>\n",
       "      <td>Maternal</td>\n",
       "      <td>CNV,SNV</td>\n",
       "      <td>Dysprothrombinemia; Hypoprothrombinemia; Throm...</td>\n",
       "      <td>614390,601367,613679,613679,188050</td>\n",
       "      <td>NaN</td>\n",
       "      <td>protein</td>\n",
       "    </tr>\n",
       "    <tr>\n",
       "      <th>32863</th>\n",
       "      <td>F2</td>\n",
       "      <td>Contraceptives, Oral, Combined</td>\n",
       "      <td>increases^expression</td>\n",
       "      <td>Maternal</td>\n",
       "      <td>CNV,SNV</td>\n",
       "      <td>Dysprothrombinemia; Hypoprothrombinemia; Throm...</td>\n",
       "      <td>614390,601367,613679,613679,188050</td>\n",
       "      <td>Homo sapiens</td>\n",
       "      <td>protein</td>\n",
       "    </tr>\n",
       "    <tr>\n",
       "      <th>32864</th>\n",
       "      <td>F2</td>\n",
       "      <td>Copper</td>\n",
       "      <td>affects^binding</td>\n",
       "      <td>Maternal</td>\n",
       "      <td>CNV,SNV</td>\n",
       "      <td>Dysprothrombinemia; Hypoprothrombinemia; Throm...</td>\n",
       "      <td>614390,601367,613679,613679,188050</td>\n",
       "      <td>Homo sapiens</td>\n",
       "      <td>protein</td>\n",
       "    </tr>\n",
       "    <tr>\n",
       "      <th>32865</th>\n",
       "      <td>F2</td>\n",
       "      <td>Copper</td>\n",
       "      <td>decreases^expression</td>\n",
       "      <td>Maternal</td>\n",
       "      <td>CNV,SNV</td>\n",
       "      <td>Dysprothrombinemia; Hypoprothrombinemia; Throm...</td>\n",
       "      <td>614390,601367,613679,613679,188050</td>\n",
       "      <td>Rattus norvegicus</td>\n",
       "      <td>mRNA</td>\n",
       "    </tr>\n",
       "    <tr>\n",
       "      <th>32866</th>\n",
       "      <td>F2</td>\n",
       "      <td>Copper Sulfate</td>\n",
       "      <td>decreases^expression</td>\n",
       "      <td>Maternal</td>\n",
       "      <td>CNV,SNV</td>\n",
       "      <td>Dysprothrombinemia; Hypoprothrombinemia; Throm...</td>\n",
       "      <td>614390,601367,613679,613679,188050</td>\n",
       "      <td>Homo sapiens</td>\n",
       "      <td>mRNA</td>\n",
       "    </tr>\n",
       "    <tr>\n",
       "      <th>32867</th>\n",
       "      <td>F2</td>\n",
       "      <td>Crotalid Venoms</td>\n",
       "      <td>decreases^reaction</td>\n",
       "      <td>Maternal</td>\n",
       "      <td>CNV,SNV</td>\n",
       "      <td>Dysprothrombinemia; Hypoprothrombinemia; Throm...</td>\n",
       "      <td>614390,601367,613679,613679,188050</td>\n",
       "      <td>Bothrops neuwiedi</td>\n",
       "      <td>protein</td>\n",
       "    </tr>\n",
       "    <tr>\n",
       "      <th>32868</th>\n",
       "      <td>F2</td>\n",
       "      <td>Crotalid Venoms</td>\n",
       "      <td>increases^activity</td>\n",
       "      <td>Maternal</td>\n",
       "      <td>CNV,SNV</td>\n",
       "      <td>Dysprothrombinemia; Hypoprothrombinemia; Throm...</td>\n",
       "      <td>614390,601367,613679,613679,188050</td>\n",
       "      <td>Bothrops neuwiedi</td>\n",
       "      <td>protein</td>\n",
       "    </tr>\n",
       "    <tr>\n",
       "      <th>32869</th>\n",
       "      <td>F2</td>\n",
       "      <td>Crotalid Venoms</td>\n",
       "      <td>increases^cleavage</td>\n",
       "      <td>Maternal</td>\n",
       "      <td>CNV,SNV</td>\n",
       "      <td>Dysprothrombinemia; Hypoprothrombinemia; Throm...</td>\n",
       "      <td>614390,601367,613679,613679,188050</td>\n",
       "      <td>Bothrops neuwiedi</td>\n",
       "      <td>protein</td>\n",
       "    </tr>\n",
       "    <tr>\n",
       "      <th>32870</th>\n",
       "      <td>F2</td>\n",
       "      <td>Crotalid Venoms</td>\n",
       "      <td>increases^activity</td>\n",
       "      <td>Maternal</td>\n",
       "      <td>CNV,SNV</td>\n",
       "      <td>Dysprothrombinemia; Hypoprothrombinemia; Throm...</td>\n",
       "      <td>614390,601367,613679,613679,188050</td>\n",
       "      <td>Gallus gallus</td>\n",
       "      <td>protein</td>\n",
       "    </tr>\n",
       "    <tr>\n",
       "      <th>32871</th>\n",
       "      <td>F2</td>\n",
       "      <td>Crotalid Venoms</td>\n",
       "      <td>increases^cleavage</td>\n",
       "      <td>Maternal</td>\n",
       "      <td>CNV,SNV</td>\n",
       "      <td>Dysprothrombinemia; Hypoprothrombinemia; Throm...</td>\n",
       "      <td>614390,601367,613679,613679,188050</td>\n",
       "      <td>Gallus gallus</td>\n",
       "      <td>protein</td>\n",
       "    </tr>\n",
       "    <tr>\n",
       "      <th>32872</th>\n",
       "      <td>F2</td>\n",
       "      <td>Crotalid Venoms</td>\n",
       "      <td>increases^activity</td>\n",
       "      <td>Maternal</td>\n",
       "      <td>CNV,SNV</td>\n",
       "      <td>Dysprothrombinemia; Hypoprothrombinemia; Throm...</td>\n",
       "      <td>614390,601367,613679,613679,188050</td>\n",
       "      <td>Homo sapiens</td>\n",
       "      <td>protein</td>\n",
       "    </tr>\n",
       "    <tr>\n",
       "      <th>32873</th>\n",
       "      <td>F2</td>\n",
       "      <td>Crotalid Venoms</td>\n",
       "      <td>increases^cleavage</td>\n",
       "      <td>Maternal</td>\n",
       "      <td>CNV,SNV</td>\n",
       "      <td>Dysprothrombinemia; Hypoprothrombinemia; Throm...</td>\n",
       "      <td>614390,601367,613679,613679,188050</td>\n",
       "      <td>Homo sapiens</td>\n",
       "      <td>protein</td>\n",
       "    </tr>\n",
       "    <tr>\n",
       "      <th>32874</th>\n",
       "      <td>F2</td>\n",
       "      <td>cupric chloride</td>\n",
       "      <td>increases^expression</td>\n",
       "      <td>Maternal</td>\n",
       "      <td>CNV,SNV</td>\n",
       "      <td>Dysprothrombinemia; Hypoprothrombinemia; Throm...</td>\n",
       "      <td>614390,601367,613679,613679,188050</td>\n",
       "      <td>Mus musculus</td>\n",
       "      <td>mRNA</td>\n",
       "    </tr>\n",
       "    <tr>\n",
       "      <th>32875</th>\n",
       "      <td>F2</td>\n",
       "      <td>Curcumin</td>\n",
       "      <td>decreases^reaction</td>\n",
       "      <td>Maternal</td>\n",
       "      <td>CNV,SNV</td>\n",
       "      <td>Dysprothrombinemia; Hypoprothrombinemia; Throm...</td>\n",
       "      <td>614390,601367,613679,613679,188050</td>\n",
       "      <td>Rattus norvegicus</td>\n",
       "      <td>protein</td>\n",
       "    </tr>\n",
       "    <tr>\n",
       "      <th>32876</th>\n",
       "      <td>F2</td>\n",
       "      <td>Curcumin</td>\n",
       "      <td>increases^expression</td>\n",
       "      <td>Maternal</td>\n",
       "      <td>CNV,SNV</td>\n",
       "      <td>Dysprothrombinemia; Hypoprothrombinemia; Throm...</td>\n",
       "      <td>614390,601367,613679,613679,188050</td>\n",
       "      <td>Rattus norvegicus</td>\n",
       "      <td>protein</td>\n",
       "    </tr>\n",
       "    <tr>\n",
       "      <th>32877</th>\n",
       "      <td>F2</td>\n",
       "      <td>Curcumin</td>\n",
       "      <td>decreases^reaction</td>\n",
       "      <td>Maternal</td>\n",
       "      <td>CNV,SNV</td>\n",
       "      <td>Dysprothrombinemia; Hypoprothrombinemia; Throm...</td>\n",
       "      <td>614390,601367,613679,613679,188050</td>\n",
       "      <td>Rattus norvegicus</td>\n",
       "      <td>protein</td>\n",
       "    </tr>\n",
       "    <tr>\n",
       "      <th>32878</th>\n",
       "      <td>F2</td>\n",
       "      <td>Curcumin</td>\n",
       "      <td>increases^expression</td>\n",
       "      <td>Maternal</td>\n",
       "      <td>CNV,SNV</td>\n",
       "      <td>Dysprothrombinemia; Hypoprothrombinemia; Throm...</td>\n",
       "      <td>614390,601367,613679,613679,188050</td>\n",
       "      <td>Rattus norvegicus</td>\n",
       "      <td>protein</td>\n",
       "    </tr>\n",
       "    <tr>\n",
       "      <th>32879</th>\n",
       "      <td>F2</td>\n",
       "      <td>Curcumin</td>\n",
       "      <td>decreases^reaction</td>\n",
       "      <td>Maternal</td>\n",
       "      <td>CNV,SNV</td>\n",
       "      <td>Dysprothrombinemia; Hypoprothrombinemia; Throm...</td>\n",
       "      <td>614390,601367,613679,613679,188050</td>\n",
       "      <td>Rattus norvegicus</td>\n",
       "      <td>protein</td>\n",
       "    </tr>\n",
       "    <tr>\n",
       "      <th>32880</th>\n",
       "      <td>F2</td>\n",
       "      <td>Curcumin</td>\n",
       "      <td>increases^expression</td>\n",
       "      <td>Maternal</td>\n",
       "      <td>CNV,SNV</td>\n",
       "      <td>Dysprothrombinemia; Hypoprothrombinemia; Throm...</td>\n",
       "      <td>614390,601367,613679,613679,188050</td>\n",
       "      <td>Rattus norvegicus</td>\n",
       "      <td>protein</td>\n",
       "    </tr>\n",
       "    <tr>\n",
       "      <th>32881</th>\n",
       "      <td>F2</td>\n",
       "      <td>Curcumin</td>\n",
       "      <td>decreases^reaction</td>\n",
       "      <td>Maternal</td>\n",
       "      <td>CNV,SNV</td>\n",
       "      <td>Dysprothrombinemia; Hypoprothrombinemia; Throm...</td>\n",
       "      <td>614390,601367,613679,613679,188050</td>\n",
       "      <td>Rattus norvegicus</td>\n",
       "      <td>protein</td>\n",
       "    </tr>\n",
       "    <tr>\n",
       "      <th>32882</th>\n",
       "      <td>F2</td>\n",
       "      <td>Curcumin</td>\n",
       "      <td>increases^expression</td>\n",
       "      <td>Maternal</td>\n",
       "      <td>CNV,SNV</td>\n",
       "      <td>Dysprothrombinemia; Hypoprothrombinemia; Throm...</td>\n",
       "      <td>614390,601367,613679,613679,188050</td>\n",
       "      <td>Rattus norvegicus</td>\n",
       "      <td>protein</td>\n",
       "    </tr>\n",
       "    <tr>\n",
       "      <th>32883</th>\n",
       "      <td>F2</td>\n",
       "      <td>CVS 1123</td>\n",
       "      <td>decreases^activity</td>\n",
       "      <td>Maternal</td>\n",
       "      <td>CNV,SNV</td>\n",
       "      <td>Dysprothrombinemia; Hypoprothrombinemia; Throm...</td>\n",
       "      <td>614390,601367,613679,613679,188050</td>\n",
       "      <td>Canis lupus familiaris</td>\n",
       "      <td>protein</td>\n",
       "    </tr>\n",
       "    <tr>\n",
       "      <th>32884</th>\n",
       "      <td>F2</td>\n",
       "      <td>Cyclic AMP</td>\n",
       "      <td>decreases^reaction</td>\n",
       "      <td>Maternal</td>\n",
       "      <td>CNV,SNV</td>\n",
       "      <td>Dysprothrombinemia; Hypoprothrombinemia; Throm...</td>\n",
       "      <td>614390,601367,613679,613679,188050</td>\n",
       "      <td>NaN</td>\n",
       "      <td>protein</td>\n",
       "    </tr>\n",
       "    <tr>\n",
       "      <th>32885</th>\n",
       "      <td>F2</td>\n",
       "      <td>Cyclic AMP</td>\n",
       "      <td>increases^chemical synthesis</td>\n",
       "      <td>Maternal</td>\n",
       "      <td>CNV,SNV</td>\n",
       "      <td>Dysprothrombinemia; Hypoprothrombinemia; Throm...</td>\n",
       "      <td>614390,601367,613679,613679,188050</td>\n",
       "      <td>NaN</td>\n",
       "      <td>protein</td>\n",
       "    </tr>\n",
       "    <tr>\n",
       "      <th>32886</th>\n",
       "      <td>F2</td>\n",
       "      <td>Cyclic AMP</td>\n",
       "      <td>decreases^chemical synthesis</td>\n",
       "      <td>Maternal</td>\n",
       "      <td>CNV,SNV</td>\n",
       "      <td>Dysprothrombinemia; Hypoprothrombinemia; Throm...</td>\n",
       "      <td>614390,601367,613679,613679,188050</td>\n",
       "      <td>NaN</td>\n",
       "      <td>protein</td>\n",
       "    </tr>\n",
       "    <tr>\n",
       "      <th>32887</th>\n",
       "      <td>F2</td>\n",
       "      <td>Cycloheximide</td>\n",
       "      <td>decreases^activity</td>\n",
       "      <td>Maternal</td>\n",
       "      <td>CNV,SNV</td>\n",
       "      <td>Dysprothrombinemia; Hypoprothrombinemia; Throm...</td>\n",
       "      <td>614390,601367,613679,613679,188050</td>\n",
       "      <td>Homo sapiens</td>\n",
       "      <td>protein</td>\n",
       "    </tr>\n",
       "    <tr>\n",
       "      <th>32888</th>\n",
       "      <td>F2</td>\n",
       "      <td>Cycloheximide</td>\n",
       "      <td>decreases^reaction</td>\n",
       "      <td>Maternal</td>\n",
       "      <td>CNV,SNV</td>\n",
       "      <td>Dysprothrombinemia; Hypoprothrombinemia; Throm...</td>\n",
       "      <td>614390,601367,613679,613679,188050</td>\n",
       "      <td>Homo sapiens</td>\n",
       "      <td>protein</td>\n",
       "    </tr>\n",
       "    <tr>\n",
       "      <th>32889</th>\n",
       "      <td>F2</td>\n",
       "      <td>Cyclosporine</td>\n",
       "      <td>decreases^expression</td>\n",
       "      <td>Maternal</td>\n",
       "      <td>CNV,SNV</td>\n",
       "      <td>Dysprothrombinemia; Hypoprothrombinemia; Throm...</td>\n",
       "      <td>614390,601367,613679,613679,188050</td>\n",
       "      <td>Homo sapiens</td>\n",
       "      <td>mRNA</td>\n",
       "    </tr>\n",
       "    <tr>\n",
       "      <th>32890</th>\n",
       "      <td>F2</td>\n",
       "      <td>Cyclosporine</td>\n",
       "      <td>decreases^expression</td>\n",
       "      <td>Maternal</td>\n",
       "      <td>CNV,SNV</td>\n",
       "      <td>Dysprothrombinemia; Hypoprothrombinemia; Throm...</td>\n",
       "      <td>614390,601367,613679,613679,188050</td>\n",
       "      <td>Mus musculus</td>\n",
       "      <td>mRNA</td>\n",
       "    </tr>\n",
       "    <tr>\n",
       "      <th>32891</th>\n",
       "      <td>F2</td>\n",
       "      <td>Cyclosporine</td>\n",
       "      <td>increases^expression</td>\n",
       "      <td>Maternal</td>\n",
       "      <td>CNV,SNV</td>\n",
       "      <td>Dysprothrombinemia; Hypoprothrombinemia; Throm...</td>\n",
       "      <td>614390,601367,613679,613679,188050</td>\n",
       "      <td>Rattus norvegicus</td>\n",
       "      <td>mRNA</td>\n",
       "    </tr>\n",
       "    <tr>\n",
       "      <th>32892</th>\n",
       "      <td>F2</td>\n",
       "      <td>Cytarabine</td>\n",
       "      <td>affects^expression</td>\n",
       "      <td>Maternal</td>\n",
       "      <td>CNV,SNV</td>\n",
       "      <td>Dysprothrombinemia; Hypoprothrombinemia; Throm...</td>\n",
       "      <td>614390,601367,613679,613679,188050</td>\n",
       "      <td>Homo sapiens</td>\n",
       "      <td>protein</td>\n",
       "    </tr>\n",
       "    <tr>\n",
       "      <th>32893</th>\n",
       "      <td>F2</td>\n",
       "      <td>Dabigatran</td>\n",
       "      <td>decreases^activity</td>\n",
       "      <td>Maternal</td>\n",
       "      <td>CNV,SNV</td>\n",
       "      <td>Dysprothrombinemia; Hypoprothrombinemia; Throm...</td>\n",
       "      <td>614390,601367,613679,613679,188050</td>\n",
       "      <td>Homo sapiens</td>\n",
       "      <td>protein</td>\n",
       "    </tr>\n",
       "    <tr>\n",
       "      <th>32894</th>\n",
       "      <td>F2</td>\n",
       "      <td>Dabigatran</td>\n",
       "      <td>decreases^activity</td>\n",
       "      <td>Maternal</td>\n",
       "      <td>CNV,SNV</td>\n",
       "      <td>Dysprothrombinemia; Hypoprothrombinemia; Throm...</td>\n",
       "      <td>614390,601367,613679,613679,188050</td>\n",
       "      <td>Mus musculus</td>\n",
       "      <td>protein</td>\n",
       "    </tr>\n",
       "    <tr>\n",
       "      <th>32895</th>\n",
       "      <td>F2</td>\n",
       "      <td>Dalteparin</td>\n",
       "      <td>increases^expression</td>\n",
       "      <td>Maternal</td>\n",
       "      <td>CNV,SNV</td>\n",
       "      <td>Dysprothrombinemia; Hypoprothrombinemia; Throm...</td>\n",
       "      <td>614390,601367,613679,613679,188050</td>\n",
       "      <td>Homo sapiens</td>\n",
       "      <td>protein</td>\n",
       "    </tr>\n",
       "    <tr>\n",
       "      <th>32896</th>\n",
       "      <td>F2</td>\n",
       "      <td>Dalteparin</td>\n",
       "      <td>affects^binding</td>\n",
       "      <td>Maternal</td>\n",
       "      <td>CNV,SNV</td>\n",
       "      <td>Dysprothrombinemia; Hypoprothrombinemia; Throm...</td>\n",
       "      <td>614390,601367,613679,613679,188050</td>\n",
       "      <td>Homo sapiens</td>\n",
       "      <td>protein</td>\n",
       "    </tr>\n",
       "    <tr>\n",
       "      <th>32897</th>\n",
       "      <td>F2</td>\n",
       "      <td>Dalteparin</td>\n",
       "      <td>increases^expression</td>\n",
       "      <td>Maternal</td>\n",
       "      <td>CNV,SNV</td>\n",
       "      <td>Dysprothrombinemia; Hypoprothrombinemia; Throm...</td>\n",
       "      <td>614390,601367,613679,613679,188050</td>\n",
       "      <td>Homo sapiens</td>\n",
       "      <td>protein</td>\n",
       "    </tr>\n",
       "    <tr>\n",
       "      <th>32898</th>\n",
       "      <td>F2</td>\n",
       "      <td>Dalteparin</td>\n",
       "      <td>decreases^expression</td>\n",
       "      <td>Maternal</td>\n",
       "      <td>CNV,SNV</td>\n",
       "      <td>Dysprothrombinemia; Hypoprothrombinemia; Throm...</td>\n",
       "      <td>614390,601367,613679,613679,188050</td>\n",
       "      <td>Homo sapiens</td>\n",
       "      <td>protein</td>\n",
       "    </tr>\n",
       "    <tr>\n",
       "      <th>32899</th>\n",
       "      <td>F2</td>\n",
       "      <td>danaparoid</td>\n",
       "      <td>decreases^activity</td>\n",
       "      <td>Maternal</td>\n",
       "      <td>CNV,SNV</td>\n",
       "      <td>Dysprothrombinemia; Hypoprothrombinemia; Throm...</td>\n",
       "      <td>614390,601367,613679,613679,188050</td>\n",
       "      <td>Rattus norvegicus</td>\n",
       "      <td>protein</td>\n",
       "    </tr>\n",
       "    <tr>\n",
       "      <th>32900</th>\n",
       "      <td>F2</td>\n",
       "      <td>danaparoid</td>\n",
       "      <td>decreases^cleavage</td>\n",
       "      <td>Maternal</td>\n",
       "      <td>CNV,SNV</td>\n",
       "      <td>Dysprothrombinemia; Hypoprothrombinemia; Throm...</td>\n",
       "      <td>614390,601367,613679,613679,188050</td>\n",
       "      <td>Rattus norvegicus</td>\n",
       "      <td>protein</td>\n",
       "    </tr>\n",
       "    <tr>\n",
       "      <th>32901</th>\n",
       "      <td>F2</td>\n",
       "      <td>deoxynivalenol</td>\n",
       "      <td>increases^expression</td>\n",
       "      <td>Maternal</td>\n",
       "      <td>CNV,SNV</td>\n",
       "      <td>Dysprothrombinemia; Hypoprothrombinemia; Throm...</td>\n",
       "      <td>614390,601367,613679,613679,188050</td>\n",
       "      <td>Sus scrofa</td>\n",
       "      <td>mRNA</td>\n",
       "    </tr>\n",
       "    <tr>\n",
       "      <th>32902</th>\n",
       "      <td>F2</td>\n",
       "      <td>Dermatan Sulfate</td>\n",
       "      <td>affects^cotreatment</td>\n",
       "      <td>Maternal</td>\n",
       "      <td>CNV,SNV</td>\n",
       "      <td>Dysprothrombinemia; Hypoprothrombinemia; Throm...</td>\n",
       "      <td>614390,601367,613679,613679,188050</td>\n",
       "      <td>Homo sapiens</td>\n",
       "      <td>protein</td>\n",
       "    </tr>\n",
       "    <tr>\n",
       "      <th>32903</th>\n",
       "      <td>F2</td>\n",
       "      <td>Dermatan Sulfate</td>\n",
       "      <td>decreases^activity</td>\n",
       "      <td>Maternal</td>\n",
       "      <td>CNV,SNV</td>\n",
       "      <td>Dysprothrombinemia; Hypoprothrombinemia; Throm...</td>\n",
       "      <td>614390,601367,613679,613679,188050</td>\n",
       "      <td>Homo sapiens</td>\n",
       "      <td>protein</td>\n",
       "    </tr>\n",
       "    <tr>\n",
       "      <th>32904</th>\n",
       "      <td>F2</td>\n",
       "      <td>Dexamethasone</td>\n",
       "      <td>affects^expression</td>\n",
       "      <td>Maternal</td>\n",
       "      <td>CNV,SNV</td>\n",
       "      <td>Dysprothrombinemia; Hypoprothrombinemia; Throm...</td>\n",
       "      <td>614390,601367,613679,613679,188050</td>\n",
       "      <td>Danio rerio</td>\n",
       "      <td>mRNA</td>\n",
       "    </tr>\n",
       "    <tr>\n",
       "      <th>32905</th>\n",
       "      <td>F2</td>\n",
       "      <td>Dexamethasone</td>\n",
       "      <td>decreases^reaction</td>\n",
       "      <td>Maternal</td>\n",
       "      <td>CNV,SNV</td>\n",
       "      <td>Dysprothrombinemia; Hypoprothrombinemia; Throm...</td>\n",
       "      <td>614390,601367,613679,613679,188050</td>\n",
       "      <td>Danio rerio</td>\n",
       "      <td>mRNA</td>\n",
       "    </tr>\n",
       "    <tr>\n",
       "      <th>32906</th>\n",
       "      <td>F2</td>\n",
       "      <td>Dexamethasone</td>\n",
       "      <td>increases^expression</td>\n",
       "      <td>Maternal</td>\n",
       "      <td>CNV,SNV</td>\n",
       "      <td>Dysprothrombinemia; Hypoprothrombinemia; Throm...</td>\n",
       "      <td>614390,601367,613679,613679,188050</td>\n",
       "      <td>Gallus gallus</td>\n",
       "      <td>mRNA</td>\n",
       "    </tr>\n",
       "    <tr>\n",
       "      <th>32907</th>\n",
       "      <td>F2</td>\n",
       "      <td>Dexamethasone</td>\n",
       "      <td>affects^expression</td>\n",
       "      <td>Maternal</td>\n",
       "      <td>CNV,SNV</td>\n",
       "      <td>Dysprothrombinemia; Hypoprothrombinemia; Throm...</td>\n",
       "      <td>614390,601367,613679,613679,188050</td>\n",
       "      <td>Homo sapiens</td>\n",
       "      <td>mRNA</td>\n",
       "    </tr>\n",
       "    <tr>\n",
       "      <th>32908</th>\n",
       "      <td>F2</td>\n",
       "      <td>Dexamethasone</td>\n",
       "      <td>increases^expression</td>\n",
       "      <td>Maternal</td>\n",
       "      <td>CNV,SNV</td>\n",
       "      <td>Dysprothrombinemia; Hypoprothrombinemia; Throm...</td>\n",
       "      <td>614390,601367,613679,613679,188050</td>\n",
       "      <td>Homo sapiens</td>\n",
       "      <td>protein</td>\n",
       "    </tr>\n",
       "    <tr>\n",
       "      <th>32909</th>\n",
       "      <td>F2</td>\n",
       "      <td>Dexamethasone</td>\n",
       "      <td>increases^reaction</td>\n",
       "      <td>Maternal</td>\n",
       "      <td>CNV,SNV</td>\n",
       "      <td>Dysprothrombinemia; Hypoprothrombinemia; Throm...</td>\n",
       "      <td>614390,601367,613679,613679,188050</td>\n",
       "      <td>Homo sapiens</td>\n",
       "      <td>protein</td>\n",
       "    </tr>\n",
       "    <tr>\n",
       "      <th>32910</th>\n",
       "      <td>F2</td>\n",
       "      <td>Dexamethasone</td>\n",
       "      <td>affects^expression</td>\n",
       "      <td>Maternal</td>\n",
       "      <td>CNV,SNV</td>\n",
       "      <td>Dysprothrombinemia; Hypoprothrombinemia; Throm...</td>\n",
       "      <td>614390,601367,613679,613679,188050</td>\n",
       "      <td>Rattus norvegicus</td>\n",
       "      <td>protein</td>\n",
       "    </tr>\n",
       "    <tr>\n",
       "      <th>32911</th>\n",
       "      <td>F2</td>\n",
       "      <td>Dexamethasone</td>\n",
       "      <td>increases^expression</td>\n",
       "      <td>Maternal</td>\n",
       "      <td>CNV,SNV</td>\n",
       "      <td>Dysprothrombinemia; Hypoprothrombinemia; Throm...</td>\n",
       "      <td>614390,601367,613679,613679,188050</td>\n",
       "      <td>Rattus norvegicus</td>\n",
       "      <td>protein</td>\n",
       "    </tr>\n",
       "    <tr>\n",
       "      <th>32912</th>\n",
       "      <td>F2</td>\n",
       "      <td>Dexamethasone</td>\n",
       "      <td>increases^reaction</td>\n",
       "      <td>Maternal</td>\n",
       "      <td>CNV,SNV</td>\n",
       "      <td>Dysprothrombinemia; Hypoprothrombinemia; Throm...</td>\n",
       "      <td>614390,601367,613679,613679,188050</td>\n",
       "      <td>Rattus norvegicus</td>\n",
       "      <td>protein</td>\n",
       "    </tr>\n",
       "    <tr>\n",
       "      <th>32913</th>\n",
       "      <td>F5</td>\n",
       "      <td>1,3-butadiene</td>\n",
       "      <td>decreases^expression</td>\n",
       "      <td>Maternal</td>\n",
       "      <td>SNV</td>\n",
       "      <td>Pregnancy loss, recurrent, susceptibility</td>\n",
       "      <td>614389</td>\n",
       "      <td>Mus musculus</td>\n",
       "      <td>mRNA</td>\n",
       "    </tr>\n",
       "    <tr>\n",
       "      <th>32914</th>\n",
       "      <td>F5</td>\n",
       "      <td>1-Naphthylisothiocyanate</td>\n",
       "      <td>affects^cotreatment</td>\n",
       "      <td>Maternal</td>\n",
       "      <td>SNV</td>\n",
       "      <td>Pregnancy loss, recurrent, susceptibility</td>\n",
       "      <td>614389</td>\n",
       "      <td>Homo sapiens</td>\n",
       "      <td>mRNA</td>\n",
       "    </tr>\n",
       "    <tr>\n",
       "      <th>32915</th>\n",
       "      <td>F5</td>\n",
       "      <td>1-Naphthylisothiocyanate</td>\n",
       "      <td>affects^expression</td>\n",
       "      <td>Maternal</td>\n",
       "      <td>SNV</td>\n",
       "      <td>Pregnancy loss, recurrent, susceptibility</td>\n",
       "      <td>614389</td>\n",
       "      <td>Homo sapiens</td>\n",
       "      <td>mRNA</td>\n",
       "    </tr>\n",
       "    <tr>\n",
       "      <th>32916</th>\n",
       "      <td>F5</td>\n",
       "      <td>2,2',3',4,4',5-hexachlorobiphenyl</td>\n",
       "      <td>increases^expression</td>\n",
       "      <td>Maternal</td>\n",
       "      <td>SNV</td>\n",
       "      <td>Pregnancy loss, recurrent, susceptibility</td>\n",
       "      <td>614389</td>\n",
       "      <td>Rattus norvegicus</td>\n",
       "      <td>mRNA</td>\n",
       "    </tr>\n",
       "    <tr>\n",
       "      <th>32917</th>\n",
       "      <td>F5</td>\n",
       "      <td>2,3-dimethoxy-1,4-naphthoquinone</td>\n",
       "      <td>decreases^expression</td>\n",
       "      <td>Maternal</td>\n",
       "      <td>SNV</td>\n",
       "      <td>Pregnancy loss, recurrent, susceptibility</td>\n",
       "      <td>614389</td>\n",
       "      <td>Homo sapiens</td>\n",
       "      <td>mRNA</td>\n",
       "    </tr>\n",
       "    <tr>\n",
       "      <th>32918</th>\n",
       "      <td>F5</td>\n",
       "      <td>2,4,6-tribromophenol</td>\n",
       "      <td>increases^expression</td>\n",
       "      <td>Maternal</td>\n",
       "      <td>SNV</td>\n",
       "      <td>Pregnancy loss, recurrent, susceptibility</td>\n",
       "      <td>614389</td>\n",
       "      <td>Homo sapiens</td>\n",
       "      <td>mRNA</td>\n",
       "    </tr>\n",
       "    <tr>\n",
       "      <th>32919</th>\n",
       "      <td>F5</td>\n",
       "      <td>2,4-dinitrotoluene</td>\n",
       "      <td>affects^expression</td>\n",
       "      <td>Maternal</td>\n",
       "      <td>SNV</td>\n",
       "      <td>Pregnancy loss, recurrent, susceptibility</td>\n",
       "      <td>614389</td>\n",
       "      <td>Rattus norvegicus</td>\n",
       "      <td>mRNA</td>\n",
       "    </tr>\n",
       "    <tr>\n",
       "      <th>32920</th>\n",
       "      <td>F5</td>\n",
       "      <td>2,6-dinitrotoluene</td>\n",
       "      <td>decreases^expression</td>\n",
       "      <td>Maternal</td>\n",
       "      <td>SNV</td>\n",
       "      <td>Pregnancy loss, recurrent, susceptibility</td>\n",
       "      <td>614389</td>\n",
       "      <td>Colinus virginianus</td>\n",
       "      <td>mRNA</td>\n",
       "    </tr>\n",
       "    <tr>\n",
       "      <th>32921</th>\n",
       "      <td>F5</td>\n",
       "      <td>2,6-dinitrotoluene</td>\n",
       "      <td>affects^expression</td>\n",
       "      <td>Maternal</td>\n",
       "      <td>SNV</td>\n",
       "      <td>Pregnancy loss, recurrent, susceptibility</td>\n",
       "      <td>614389</td>\n",
       "      <td>Rattus norvegicus</td>\n",
       "      <td>mRNA</td>\n",
       "    </tr>\n",
       "    <tr>\n",
       "      <th>32922</th>\n",
       "      <td>F5</td>\n",
       "      <td>2-amino-2-methyl-1-propanol</td>\n",
       "      <td>decreases^expression</td>\n",
       "      <td>Maternal</td>\n",
       "      <td>SNV</td>\n",
       "      <td>Pregnancy loss, recurrent, susceptibility</td>\n",
       "      <td>614389</td>\n",
       "      <td>Rattus norvegicus</td>\n",
       "      <td>mRNA</td>\n",
       "    </tr>\n",
       "    <tr>\n",
       "      <th>32923</th>\n",
       "      <td>F5</td>\n",
       "      <td>2-palmitoylglycerol</td>\n",
       "      <td>increases^expression</td>\n",
       "      <td>Maternal</td>\n",
       "      <td>SNV</td>\n",
       "      <td>Pregnancy loss, recurrent, susceptibility</td>\n",
       "      <td>614389</td>\n",
       "      <td>Homo sapiens</td>\n",
       "      <td>mRNA</td>\n",
       "    </tr>\n",
       "    <tr>\n",
       "      <th>32924</th>\n",
       "      <td>F5</td>\n",
       "      <td>3,4,3',4'-tetrachlorobiphenyl</td>\n",
       "      <td>decreases^reaction</td>\n",
       "      <td>Maternal</td>\n",
       "      <td>SNV</td>\n",
       "      <td>Pregnancy loss, recurrent, susceptibility</td>\n",
       "      <td>614389</td>\n",
       "      <td>Mus musculus</td>\n",
       "      <td>mRNA</td>\n",
       "    </tr>\n",
       "    <tr>\n",
       "      <th>32925</th>\n",
       "      <td>F5</td>\n",
       "      <td>3,4,3',4'-tetrachlorobiphenyl</td>\n",
       "      <td>increases^expression</td>\n",
       "      <td>Maternal</td>\n",
       "      <td>SNV</td>\n",
       "      <td>Pregnancy loss, recurrent, susceptibility</td>\n",
       "      <td>614389</td>\n",
       "      <td>Mus musculus</td>\n",
       "      <td>mRNA</td>\n",
       "    </tr>\n",
       "    <tr>\n",
       "      <th>32926</th>\n",
       "      <td>F5</td>\n",
       "      <td>4,4'-diaminodiphenylmethane</td>\n",
       "      <td>increases^expression</td>\n",
       "      <td>Maternal</td>\n",
       "      <td>SNV</td>\n",
       "      <td>Pregnancy loss, recurrent, susceptibility</td>\n",
       "      <td>614389</td>\n",
       "      <td>Mus musculus</td>\n",
       "      <td>mRNA</td>\n",
       "    </tr>\n",
       "    <tr>\n",
       "      <th>32927</th>\n",
       "      <td>F5</td>\n",
       "      <td>4-(5-benzo(1,3)dioxol-5-yl-4-pyridin-2-yl-1H-i...</td>\n",
       "      <td>affects^cotreatment</td>\n",
       "      <td>Maternal</td>\n",
       "      <td>SNV</td>\n",
       "      <td>Pregnancy loss, recurrent, susceptibility</td>\n",
       "      <td>614389</td>\n",
       "      <td>Homo sapiens</td>\n",
       "      <td>mRNA</td>\n",
       "    </tr>\n",
       "    <tr>\n",
       "      <th>32928</th>\n",
       "      <td>F5</td>\n",
       "      <td>4-(5-benzo(1,3)dioxol-5-yl-4-pyridin-2-yl-1H-i...</td>\n",
       "      <td>increases^expression</td>\n",
       "      <td>Maternal</td>\n",
       "      <td>SNV</td>\n",
       "      <td>Pregnancy loss, recurrent, susceptibility</td>\n",
       "      <td>614389</td>\n",
       "      <td>Homo sapiens</td>\n",
       "      <td>mRNA</td>\n",
       "    </tr>\n",
       "    <tr>\n",
       "      <th>32929</th>\n",
       "      <td>F5</td>\n",
       "      <td>4-(5-benzo(1,3)dioxol-5-yl-4-pyridin-2-yl-1H-i...</td>\n",
       "      <td>affects^cotreatment</td>\n",
       "      <td>Maternal</td>\n",
       "      <td>SNV</td>\n",
       "      <td>Pregnancy loss, recurrent, susceptibility</td>\n",
       "      <td>614389</td>\n",
       "      <td>Homo sapiens</td>\n",
       "      <td>mRNA</td>\n",
       "    </tr>\n",
       "    <tr>\n",
       "      <th>32930</th>\n",
       "      <td>F5</td>\n",
       "      <td>4-(5-benzo(1,3)dioxol-5-yl-4-pyridin-2-yl-1H-i...</td>\n",
       "      <td>increases^expression</td>\n",
       "      <td>Maternal</td>\n",
       "      <td>SNV</td>\n",
       "      <td>Pregnancy loss, recurrent, susceptibility</td>\n",
       "      <td>614389</td>\n",
       "      <td>Homo sapiens</td>\n",
       "      <td>mRNA</td>\n",
       "    </tr>\n",
       "    <tr>\n",
       "      <th>32931</th>\n",
       "      <td>F5</td>\n",
       "      <td>4-(5-benzo(1,3)dioxol-5-yl-4-pyridin-2-yl-1H-i...</td>\n",
       "      <td>affects^cotreatment</td>\n",
       "      <td>Maternal</td>\n",
       "      <td>SNV</td>\n",
       "      <td>Pregnancy loss, recurrent, susceptibility</td>\n",
       "      <td>614389</td>\n",
       "      <td>Homo sapiens</td>\n",
       "      <td>mRNA</td>\n",
       "    </tr>\n",
       "    <tr>\n",
       "      <th>32932</th>\n",
       "      <td>F5</td>\n",
       "      <td>4-(5-benzo(1,3)dioxol-5-yl-4-pyridin-2-yl-1H-i...</td>\n",
       "      <td>increases^expression</td>\n",
       "      <td>Maternal</td>\n",
       "      <td>SNV</td>\n",
       "      <td>Pregnancy loss, recurrent, susceptibility</td>\n",
       "      <td>614389</td>\n",
       "      <td>Homo sapiens</td>\n",
       "      <td>mRNA</td>\n",
       "    </tr>\n",
       "    <tr>\n",
       "      <th>32933</th>\n",
       "      <td>F5</td>\n",
       "      <td>4-(5-benzo(1,3)dioxol-5-yl-4-pyridin-2-yl-1H-i...</td>\n",
       "      <td>affects^cotreatment</td>\n",
       "      <td>Maternal</td>\n",
       "      <td>SNV</td>\n",
       "      <td>Pregnancy loss, recurrent, susceptibility</td>\n",
       "      <td>614389</td>\n",
       "      <td>Homo sapiens</td>\n",
       "      <td>mRNA</td>\n",
       "    </tr>\n",
       "    <tr>\n",
       "      <th>32934</th>\n",
       "      <td>F5</td>\n",
       "      <td>4-(5-benzo(1,3)dioxol-5-yl-4-pyridin-2-yl-1H-i...</td>\n",
       "      <td>increases^expression</td>\n",
       "      <td>Maternal</td>\n",
       "      <td>SNV</td>\n",
       "      <td>Pregnancy loss, recurrent, susceptibility</td>\n",
       "      <td>614389</td>\n",
       "      <td>Homo sapiens</td>\n",
       "      <td>mRNA</td>\n",
       "    </tr>\n",
       "    <tr>\n",
       "      <th>32935</th>\n",
       "      <td>F5</td>\n",
       "      <td>4-(5-benzo(1,3)dioxol-5-yl-4-pyridin-2-yl-1H-i...</td>\n",
       "      <td>affects^cotreatment</td>\n",
       "      <td>Maternal</td>\n",
       "      <td>SNV</td>\n",
       "      <td>Pregnancy loss, recurrent, susceptibility</td>\n",
       "      <td>614389</td>\n",
       "      <td>Homo sapiens</td>\n",
       "      <td>mRNA</td>\n",
       "    </tr>\n",
       "    <tr>\n",
       "      <th>32936</th>\n",
       "      <td>F5</td>\n",
       "      <td>4-(5-benzo(1,3)dioxol-5-yl-4-pyridin-2-yl-1H-i...</td>\n",
       "      <td>increases^expression</td>\n",
       "      <td>Maternal</td>\n",
       "      <td>SNV</td>\n",
       "      <td>Pregnancy loss, recurrent, susceptibility</td>\n",
       "      <td>614389</td>\n",
       "      <td>Homo sapiens</td>\n",
       "      <td>mRNA</td>\n",
       "    </tr>\n",
       "    <tr>\n",
       "      <th>32937</th>\n",
       "      <td>F5</td>\n",
       "      <td>7,8-Dihydro-7,8-dihydroxybenzo(a)pyrene 9,10-o...</td>\n",
       "      <td>increases^expression</td>\n",
       "      <td>Maternal</td>\n",
       "      <td>SNV</td>\n",
       "      <td>Pregnancy loss, recurrent, susceptibility</td>\n",
       "      <td>614389</td>\n",
       "      <td>Homo sapiens</td>\n",
       "      <td>mRNA</td>\n",
       "    </tr>\n",
       "    <tr>\n",
       "      <th>32938</th>\n",
       "      <td>F5</td>\n",
       "      <td>abrine</td>\n",
       "      <td>decreases^expression</td>\n",
       "      <td>Maternal</td>\n",
       "      <td>SNV</td>\n",
       "      <td>Pregnancy loss, recurrent, susceptibility</td>\n",
       "      <td>614389</td>\n",
       "      <td>Homo sapiens</td>\n",
       "      <td>mRNA</td>\n",
       "    </tr>\n",
       "    <tr>\n",
       "      <th>32939</th>\n",
       "      <td>F5</td>\n",
       "      <td>Acenocoumarol</td>\n",
       "      <td>decreases^activity</td>\n",
       "      <td>Maternal</td>\n",
       "      <td>SNV</td>\n",
       "      <td>Pregnancy loss, recurrent, susceptibility</td>\n",
       "      <td>614389</td>\n",
       "      <td>Rattus norvegicus</td>\n",
       "      <td>protein</td>\n",
       "    </tr>\n",
       "    <tr>\n",
       "      <th>32940</th>\n",
       "      <td>F5</td>\n",
       "      <td>acetamide</td>\n",
       "      <td>decreases^expression</td>\n",
       "      <td>Maternal</td>\n",
       "      <td>SNV</td>\n",
       "      <td>Pregnancy loss, recurrent, susceptibility</td>\n",
       "      <td>614389</td>\n",
       "      <td>Rattus norvegicus</td>\n",
       "      <td>mRNA</td>\n",
       "    </tr>\n",
       "    <tr>\n",
       "      <th>32941</th>\n",
       "      <td>F5</td>\n",
       "      <td>Acetaminophen</td>\n",
       "      <td>decreases^expression</td>\n",
       "      <td>Maternal</td>\n",
       "      <td>SNV</td>\n",
       "      <td>Pregnancy loss, recurrent, susceptibility</td>\n",
       "      <td>614389</td>\n",
       "      <td>Homo sapiens</td>\n",
       "      <td>mRNA</td>\n",
       "    </tr>\n",
       "    <tr>\n",
       "      <th>32942</th>\n",
       "      <td>F5</td>\n",
       "      <td>Acetaminophen</td>\n",
       "      <td>affects^expression</td>\n",
       "      <td>Maternal</td>\n",
       "      <td>SNV</td>\n",
       "      <td>Pregnancy loss, recurrent, susceptibility</td>\n",
       "      <td>614389</td>\n",
       "      <td>Mus musculus</td>\n",
       "      <td>mRNA</td>\n",
       "    </tr>\n",
       "    <tr>\n",
       "      <th>32943</th>\n",
       "      <td>F5</td>\n",
       "      <td>Acetaminophen</td>\n",
       "      <td>affects^cotreatment</td>\n",
       "      <td>Maternal</td>\n",
       "      <td>SNV</td>\n",
       "      <td>Pregnancy loss, recurrent, susceptibility</td>\n",
       "      <td>614389</td>\n",
       "      <td>Mus musculus</td>\n",
       "      <td>mRNA</td>\n",
       "    </tr>\n",
       "    <tr>\n",
       "      <th>32944</th>\n",
       "      <td>F5</td>\n",
       "      <td>Acetaminophen</td>\n",
       "      <td>affects^expression</td>\n",
       "      <td>Maternal</td>\n",
       "      <td>SNV</td>\n",
       "      <td>Pregnancy loss, recurrent, susceptibility</td>\n",
       "      <td>614389</td>\n",
       "      <td>Mus musculus</td>\n",
       "      <td>mRNA</td>\n",
       "    </tr>\n",
       "    <tr>\n",
       "      <th>32945</th>\n",
       "      <td>F5</td>\n",
       "      <td>Acetaminophen</td>\n",
       "      <td>affects^cotreatment</td>\n",
       "      <td>Maternal</td>\n",
       "      <td>SNV</td>\n",
       "      <td>Pregnancy loss, recurrent, susceptibility</td>\n",
       "      <td>614389</td>\n",
       "      <td>Mus musculus</td>\n",
       "      <td>mRNA</td>\n",
       "    </tr>\n",
       "    <tr>\n",
       "      <th>32946</th>\n",
       "      <td>F5</td>\n",
       "      <td>Acetaminophen</td>\n",
       "      <td>affects^expression</td>\n",
       "      <td>Maternal</td>\n",
       "      <td>SNV</td>\n",
       "      <td>Pregnancy loss, recurrent, susceptibility</td>\n",
       "      <td>614389</td>\n",
       "      <td>Mus musculus</td>\n",
       "      <td>mRNA</td>\n",
       "    </tr>\n",
       "    <tr>\n",
       "      <th>32947</th>\n",
       "      <td>F5</td>\n",
       "      <td>Acetaminophen</td>\n",
       "      <td>affects^reaction</td>\n",
       "      <td>Maternal</td>\n",
       "      <td>SNV</td>\n",
       "      <td>Pregnancy loss, recurrent, susceptibility</td>\n",
       "      <td>614389</td>\n",
       "      <td>Mus musculus</td>\n",
       "      <td>mRNA</td>\n",
       "    </tr>\n",
       "    <tr>\n",
       "      <th>32948</th>\n",
       "      <td>F5</td>\n",
       "      <td>Acrylamide</td>\n",
       "      <td>decreases^expression</td>\n",
       "      <td>Maternal</td>\n",
       "      <td>SNV</td>\n",
       "      <td>Pregnancy loss, recurrent, susceptibility</td>\n",
       "      <td>614389</td>\n",
       "      <td>Mus musculus</td>\n",
       "      <td>mRNA</td>\n",
       "    </tr>\n",
       "    <tr>\n",
       "      <th>32949</th>\n",
       "      <td>F5</td>\n",
       "      <td>Acrylamide</td>\n",
       "      <td>affects^expression</td>\n",
       "      <td>Maternal</td>\n",
       "      <td>SNV</td>\n",
       "      <td>Pregnancy loss, recurrent, susceptibility</td>\n",
       "      <td>614389</td>\n",
       "      <td>Rattus norvegicus</td>\n",
       "      <td>mRNA</td>\n",
       "    </tr>\n",
       "    <tr>\n",
       "      <th>32950</th>\n",
       "      <td>F5</td>\n",
       "      <td>Aflatoxin B1</td>\n",
       "      <td>affects^expression</td>\n",
       "      <td>Maternal</td>\n",
       "      <td>SNV</td>\n",
       "      <td>Pregnancy loss, recurrent, susceptibility</td>\n",
       "      <td>614389</td>\n",
       "      <td>Homo sapiens</td>\n",
       "      <td>protein</td>\n",
       "    </tr>\n",
       "    <tr>\n",
       "      <th>32951</th>\n",
       "      <td>F5</td>\n",
       "      <td>Aflatoxin B1</td>\n",
       "      <td>decreases^methylation</td>\n",
       "      <td>Maternal</td>\n",
       "      <td>SNV</td>\n",
       "      <td>Pregnancy loss, recurrent, susceptibility</td>\n",
       "      <td>614389</td>\n",
       "      <td>Homo sapiens</td>\n",
       "      <td>gene</td>\n",
       "    </tr>\n",
       "    <tr>\n",
       "      <th>32952</th>\n",
       "      <td>F5</td>\n",
       "      <td>Aflatoxin B1</td>\n",
       "      <td>decreases^expression</td>\n",
       "      <td>Maternal</td>\n",
       "      <td>SNV</td>\n",
       "      <td>Pregnancy loss, recurrent, susceptibility</td>\n",
       "      <td>614389</td>\n",
       "      <td>Mus musculus</td>\n",
       "      <td>mRNA</td>\n",
       "    </tr>\n",
       "    <tr>\n",
       "      <th>32953</th>\n",
       "      <td>F5</td>\n",
       "      <td>Aflatoxin B1</td>\n",
       "      <td>decreases^expression</td>\n",
       "      <td>Maternal</td>\n",
       "      <td>SNV</td>\n",
       "      <td>Pregnancy loss, recurrent, susceptibility</td>\n",
       "      <td>614389</td>\n",
       "      <td>Rattus norvegicus</td>\n",
       "      <td>mRNA</td>\n",
       "    </tr>\n",
       "    <tr>\n",
       "      <th>32954</th>\n",
       "      <td>F5</td>\n",
       "      <td>Air Pollutants</td>\n",
       "      <td>increases^abundance</td>\n",
       "      <td>Maternal</td>\n",
       "      <td>SNV</td>\n",
       "      <td>Pregnancy loss, recurrent, susceptibility</td>\n",
       "      <td>614389</td>\n",
       "      <td>Mus musculus</td>\n",
       "      <td>mRNA</td>\n",
       "    </tr>\n",
       "    <tr>\n",
       "      <th>32955</th>\n",
       "      <td>F5</td>\n",
       "      <td>Air Pollutants</td>\n",
       "      <td>increases^expression</td>\n",
       "      <td>Maternal</td>\n",
       "      <td>SNV</td>\n",
       "      <td>Pregnancy loss, recurrent, susceptibility</td>\n",
       "      <td>614389</td>\n",
       "      <td>Mus musculus</td>\n",
       "      <td>mRNA</td>\n",
       "    </tr>\n",
       "    <tr>\n",
       "      <th>32956</th>\n",
       "      <td>F5</td>\n",
       "      <td>Aldehydes</td>\n",
       "      <td>decreases^expression</td>\n",
       "      <td>Maternal</td>\n",
       "      <td>SNV</td>\n",
       "      <td>Pregnancy loss, recurrent, susceptibility</td>\n",
       "      <td>614389</td>\n",
       "      <td>Homo sapiens</td>\n",
       "      <td>mRNA</td>\n",
       "    </tr>\n",
       "    <tr>\n",
       "      <th>32957</th>\n",
       "      <td>F5</td>\n",
       "      <td>Antimony</td>\n",
       "      <td>decreases^expression</td>\n",
       "      <td>Maternal</td>\n",
       "      <td>SNV</td>\n",
       "      <td>Pregnancy loss, recurrent, susceptibility</td>\n",
       "      <td>614389</td>\n",
       "      <td>Homo sapiens</td>\n",
       "      <td>mRNA</td>\n",
       "    </tr>\n",
       "    <tr>\n",
       "      <th>32958</th>\n",
       "      <td>F5</td>\n",
       "      <td>Antimony Potassium Tartrate</td>\n",
       "      <td>decreases^expression</td>\n",
       "      <td>Maternal</td>\n",
       "      <td>SNV</td>\n",
       "      <td>Pregnancy loss, recurrent, susceptibility</td>\n",
       "      <td>614389</td>\n",
       "      <td>Homo sapiens</td>\n",
       "      <td>mRNA</td>\n",
       "    </tr>\n",
       "    <tr>\n",
       "      <th>32959</th>\n",
       "      <td>F5</td>\n",
       "      <td>Antirheumatic Agents</td>\n",
       "      <td>decreases^expression</td>\n",
       "      <td>Maternal</td>\n",
       "      <td>SNV</td>\n",
       "      <td>Pregnancy loss, recurrent, susceptibility</td>\n",
       "      <td>614389</td>\n",
       "      <td>Homo sapiens</td>\n",
       "      <td>mRNA</td>\n",
       "    </tr>\n",
       "    <tr>\n",
       "      <th>32960</th>\n",
       "      <td>F5</td>\n",
       "      <td>Arsenic</td>\n",
       "      <td>decreases^expression</td>\n",
       "      <td>Maternal</td>\n",
       "      <td>SNV</td>\n",
       "      <td>Pregnancy loss, recurrent, susceptibility</td>\n",
       "      <td>614389</td>\n",
       "      <td>Mus musculus</td>\n",
       "      <td>mRNA</td>\n",
       "    </tr>\n",
       "    <tr>\n",
       "      <th>32961</th>\n",
       "      <td>F5</td>\n",
       "      <td>Arsenic</td>\n",
       "      <td>increases^abundance</td>\n",
       "      <td>Maternal</td>\n",
       "      <td>SNV</td>\n",
       "      <td>Pregnancy loss, recurrent, susceptibility</td>\n",
       "      <td>614389</td>\n",
       "      <td>Mus musculus</td>\n",
       "      <td>protein</td>\n",
       "    </tr>\n",
       "    <tr>\n",
       "      <th>32962</th>\n",
       "      <td>F5</td>\n",
       "      <td>Arsenic</td>\n",
       "      <td>increases^secretion</td>\n",
       "      <td>Maternal</td>\n",
       "      <td>SNV</td>\n",
       "      <td>Pregnancy loss, recurrent, susceptibility</td>\n",
       "      <td>614389</td>\n",
       "      <td>Mus musculus</td>\n",
       "      <td>protein</td>\n",
       "    </tr>\n",
       "    <tr>\n",
       "      <th>32963</th>\n",
       "      <td>F5</td>\n",
       "      <td>Arsenic Trioxide</td>\n",
       "      <td>increases^expression</td>\n",
       "      <td>Maternal</td>\n",
       "      <td>SNV</td>\n",
       "      <td>Pregnancy loss, recurrent, susceptibility</td>\n",
       "      <td>614389</td>\n",
       "      <td>Homo sapiens</td>\n",
       "      <td>mRNA</td>\n",
       "    </tr>\n",
       "    <tr>\n",
       "      <th>32964</th>\n",
       "      <td>F5</td>\n",
       "      <td>aspalathin</td>\n",
       "      <td>affects^cotreatment</td>\n",
       "      <td>Maternal</td>\n",
       "      <td>SNV</td>\n",
       "      <td>Pregnancy loss, recurrent, susceptibility</td>\n",
       "      <td>614389</td>\n",
       "      <td>Homo sapiens</td>\n",
       "      <td>protein</td>\n",
       "    </tr>\n",
       "    <tr>\n",
       "      <th>32965</th>\n",
       "      <td>F5</td>\n",
       "      <td>aspalathin</td>\n",
       "      <td>decreases^reaction</td>\n",
       "      <td>Maternal</td>\n",
       "      <td>SNV</td>\n",
       "      <td>Pregnancy loss, recurrent, susceptibility</td>\n",
       "      <td>614389</td>\n",
       "      <td>Homo sapiens</td>\n",
       "      <td>protein</td>\n",
       "    </tr>\n",
       "    <tr>\n",
       "      <th>32966</th>\n",
       "      <td>F5</td>\n",
       "      <td>aspalathin</td>\n",
       "      <td>increases^metabolic processing</td>\n",
       "      <td>Maternal</td>\n",
       "      <td>SNV</td>\n",
       "      <td>Pregnancy loss, recurrent, susceptibility</td>\n",
       "      <td>614389</td>\n",
       "      <td>Homo sapiens</td>\n",
       "      <td>protein</td>\n",
       "    </tr>\n",
       "    <tr>\n",
       "      <th>32967</th>\n",
       "      <td>F5</td>\n",
       "      <td>Atorvastatin</td>\n",
       "      <td>decreases^activity</td>\n",
       "      <td>Maternal</td>\n",
       "      <td>SNV</td>\n",
       "      <td>Pregnancy loss, recurrent, susceptibility</td>\n",
       "      <td>614389</td>\n",
       "      <td>Homo sapiens</td>\n",
       "      <td>protein</td>\n",
       "    </tr>\n",
       "    <tr>\n",
       "      <th>32968</th>\n",
       "      <td>F5</td>\n",
       "      <td>Atrazine</td>\n",
       "      <td>decreases^expression</td>\n",
       "      <td>Maternal</td>\n",
       "      <td>SNV</td>\n",
       "      <td>Pregnancy loss, recurrent, susceptibility</td>\n",
       "      <td>614389</td>\n",
       "      <td>Cyprinus carpio</td>\n",
       "      <td>mRNA</td>\n",
       "    </tr>\n",
       "    <tr>\n",
       "      <th>32969</th>\n",
       "      <td>F5</td>\n",
       "      <td>Azoxymethane</td>\n",
       "      <td>affects^cotreatment</td>\n",
       "      <td>Maternal</td>\n",
       "      <td>SNV</td>\n",
       "      <td>Pregnancy loss, recurrent, susceptibility</td>\n",
       "      <td>614389</td>\n",
       "      <td>Mus musculus</td>\n",
       "      <td>mRNA</td>\n",
       "    </tr>\n",
       "    <tr>\n",
       "      <th>32970</th>\n",
       "      <td>F5</td>\n",
       "      <td>Azoxymethane</td>\n",
       "      <td>decreases^expression</td>\n",
       "      <td>Maternal</td>\n",
       "      <td>SNV</td>\n",
       "      <td>Pregnancy loss, recurrent, susceptibility</td>\n",
       "      <td>614389</td>\n",
       "      <td>Mus musculus</td>\n",
       "      <td>mRNA</td>\n",
       "    </tr>\n",
       "    <tr>\n",
       "      <th>32971</th>\n",
       "      <td>F5</td>\n",
       "      <td>Beclomethasone</td>\n",
       "      <td>increases^expression</td>\n",
       "      <td>Maternal</td>\n",
       "      <td>SNV</td>\n",
       "      <td>Pregnancy loss, recurrent, susceptibility</td>\n",
       "      <td>614389</td>\n",
       "      <td>Danio rerio</td>\n",
       "      <td>mRNA</td>\n",
       "    </tr>\n",
       "    <tr>\n",
       "      <th>32972</th>\n",
       "      <td>F5</td>\n",
       "      <td>Benzene</td>\n",
       "      <td>increases^expression</td>\n",
       "      <td>Maternal</td>\n",
       "      <td>SNV</td>\n",
       "      <td>Pregnancy loss, recurrent, susceptibility</td>\n",
       "      <td>614389</td>\n",
       "      <td>Mus musculus</td>\n",
       "      <td>mRNA</td>\n",
       "    </tr>\n",
       "    <tr>\n",
       "      <th>32973</th>\n",
       "      <td>F5</td>\n",
       "      <td>Benzo(a)pyrene</td>\n",
       "      <td>affects^methylation</td>\n",
       "      <td>Maternal</td>\n",
       "      <td>SNV</td>\n",
       "      <td>Pregnancy loss, recurrent, susceptibility</td>\n",
       "      <td>614389</td>\n",
       "      <td>Homo sapiens</td>\n",
       "      <td>promoter</td>\n",
       "    </tr>\n",
       "    <tr>\n",
       "      <th>32974</th>\n",
       "      <td>F5</td>\n",
       "      <td>Benzo(a)pyrene</td>\n",
       "      <td>decreases^expression</td>\n",
       "      <td>Maternal</td>\n",
       "      <td>SNV</td>\n",
       "      <td>Pregnancy loss, recurrent, susceptibility</td>\n",
       "      <td>614389</td>\n",
       "      <td>Mus musculus</td>\n",
       "      <td>mRNA</td>\n",
       "    </tr>\n",
       "    <tr>\n",
       "      <th>32975</th>\n",
       "      <td>F5</td>\n",
       "      <td>Benzo(a)pyrene</td>\n",
       "      <td>increases^expression</td>\n",
       "      <td>Maternal</td>\n",
       "      <td>SNV</td>\n",
       "      <td>Pregnancy loss, recurrent, susceptibility</td>\n",
       "      <td>614389</td>\n",
       "      <td>Mus musculus</td>\n",
       "      <td>mRNA</td>\n",
       "    </tr>\n",
       "    <tr>\n",
       "      <th>32976</th>\n",
       "      <td>F5</td>\n",
       "      <td>beta-Naphthoflavone</td>\n",
       "      <td>decreases^expression</td>\n",
       "      <td>Maternal</td>\n",
       "      <td>SNV</td>\n",
       "      <td>Pregnancy loss, recurrent, susceptibility</td>\n",
       "      <td>614389</td>\n",
       "      <td>Homo sapiens</td>\n",
       "      <td>mRNA</td>\n",
       "    </tr>\n",
       "    <tr>\n",
       "      <th>32977</th>\n",
       "      <td>F5</td>\n",
       "      <td>bis(4-hydroxyphenyl)sulfone</td>\n",
       "      <td>decreases^methylation</td>\n",
       "      <td>Maternal</td>\n",
       "      <td>SNV</td>\n",
       "      <td>Pregnancy loss, recurrent, susceptibility</td>\n",
       "      <td>614389</td>\n",
       "      <td>Homo sapiens</td>\n",
       "      <td>gene</td>\n",
       "    </tr>\n",
       "    <tr>\n",
       "      <th>32978</th>\n",
       "      <td>F5</td>\n",
       "      <td>bis(4-hydroxyphenyl)sulfone</td>\n",
       "      <td>increases^expression</td>\n",
       "      <td>Maternal</td>\n",
       "      <td>SNV</td>\n",
       "      <td>Pregnancy loss, recurrent, susceptibility</td>\n",
       "      <td>614389</td>\n",
       "      <td>Mus musculus</td>\n",
       "      <td>mRNA</td>\n",
       "    </tr>\n",
       "    <tr>\n",
       "      <th>32979</th>\n",
       "      <td>F5</td>\n",
       "      <td>bisphenol A</td>\n",
       "      <td>affects^expression</td>\n",
       "      <td>Maternal</td>\n",
       "      <td>SNV</td>\n",
       "      <td>Pregnancy loss, recurrent, susceptibility</td>\n",
       "      <td>614389</td>\n",
       "      <td>Danio rerio</td>\n",
       "      <td>mRNA</td>\n",
       "    </tr>\n",
       "    <tr>\n",
       "      <th>32980</th>\n",
       "      <td>F5</td>\n",
       "      <td>bisphenol A</td>\n",
       "      <td>increases^expression</td>\n",
       "      <td>Maternal</td>\n",
       "      <td>SNV</td>\n",
       "      <td>Pregnancy loss, recurrent, susceptibility</td>\n",
       "      <td>614389</td>\n",
       "      <td>Homo sapiens</td>\n",
       "      <td>protein</td>\n",
       "    </tr>\n",
       "    <tr>\n",
       "      <th>32981</th>\n",
       "      <td>F5</td>\n",
       "      <td>bisphenol A</td>\n",
       "      <td>decreases^reaction</td>\n",
       "      <td>Maternal</td>\n",
       "      <td>SNV</td>\n",
       "      <td>Pregnancy loss, recurrent, susceptibility</td>\n",
       "      <td>614389</td>\n",
       "      <td>Homo sapiens</td>\n",
       "      <td>protein</td>\n",
       "    </tr>\n",
       "    <tr>\n",
       "      <th>32982</th>\n",
       "      <td>F5</td>\n",
       "      <td>bisphenol A</td>\n",
       "      <td>increases^abundance</td>\n",
       "      <td>Maternal</td>\n",
       "      <td>SNV</td>\n",
       "      <td>Pregnancy loss, recurrent, susceptibility</td>\n",
       "      <td>614389</td>\n",
       "      <td>Homo sapiens</td>\n",
       "      <td>protein</td>\n",
       "    </tr>\n",
       "    <tr>\n",
       "      <th>32983</th>\n",
       "      <td>F5</td>\n",
       "      <td>bisphenol A</td>\n",
       "      <td>increases^expression</td>\n",
       "      <td>Maternal</td>\n",
       "      <td>SNV</td>\n",
       "      <td>Pregnancy loss, recurrent, susceptibility</td>\n",
       "      <td>614389</td>\n",
       "      <td>Homo sapiens</td>\n",
       "      <td>protein</td>\n",
       "    </tr>\n",
       "    <tr>\n",
       "      <th>32984</th>\n",
       "      <td>F5</td>\n",
       "      <td>bisphenol A</td>\n",
       "      <td>decreases^expression</td>\n",
       "      <td>Maternal</td>\n",
       "      <td>SNV</td>\n",
       "      <td>Pregnancy loss, recurrent, susceptibility</td>\n",
       "      <td>614389</td>\n",
       "      <td>Mus musculus</td>\n",
       "      <td>mRNA</td>\n",
       "    </tr>\n",
       "    <tr>\n",
       "      <th>32985</th>\n",
       "      <td>F5</td>\n",
       "      <td>bisphenol A</td>\n",
       "      <td>increases^expression</td>\n",
       "      <td>Maternal</td>\n",
       "      <td>SNV</td>\n",
       "      <td>Pregnancy loss, recurrent, susceptibility</td>\n",
       "      <td>614389</td>\n",
       "      <td>Mus musculus</td>\n",
       "      <td>mRNA</td>\n",
       "    </tr>\n",
       "    <tr>\n",
       "      <th>32986</th>\n",
       "      <td>F5</td>\n",
       "      <td>bisphenol A</td>\n",
       "      <td>increases^expression</td>\n",
       "      <td>Maternal</td>\n",
       "      <td>SNV</td>\n",
       "      <td>Pregnancy loss, recurrent, susceptibility</td>\n",
       "      <td>614389</td>\n",
       "      <td>Oryzias latipes</td>\n",
       "      <td>mRNA</td>\n",
       "    </tr>\n",
       "    <tr>\n",
       "      <th>32987</th>\n",
       "      <td>F5</td>\n",
       "      <td>bisphenol A</td>\n",
       "      <td>affects^expression</td>\n",
       "      <td>Maternal</td>\n",
       "      <td>SNV</td>\n",
       "      <td>Pregnancy loss, recurrent, susceptibility</td>\n",
       "      <td>614389</td>\n",
       "      <td>Rattus norvegicus</td>\n",
       "      <td>mRNA</td>\n",
       "    </tr>\n",
       "    <tr>\n",
       "      <th>32988</th>\n",
       "      <td>F5</td>\n",
       "      <td>bisphenol A</td>\n",
       "      <td>decreases^expression</td>\n",
       "      <td>Maternal</td>\n",
       "      <td>SNV</td>\n",
       "      <td>Pregnancy loss, recurrent, susceptibility</td>\n",
       "      <td>614389</td>\n",
       "      <td>Rattus norvegicus</td>\n",
       "      <td>mRNA</td>\n",
       "    </tr>\n",
       "    <tr>\n",
       "      <th>32989</th>\n",
       "      <td>F5</td>\n",
       "      <td>bisphenol A</td>\n",
       "      <td>increases^methylation</td>\n",
       "      <td>Maternal</td>\n",
       "      <td>SNV</td>\n",
       "      <td>Pregnancy loss, recurrent, susceptibility</td>\n",
       "      <td>614389</td>\n",
       "      <td>Rattus norvegicus</td>\n",
       "      <td>gene</td>\n",
       "    </tr>\n",
       "    <tr>\n",
       "      <th>32990</th>\n",
       "      <td>F5</td>\n",
       "      <td>bisphenol F</td>\n",
       "      <td>increases^expression</td>\n",
       "      <td>Maternal</td>\n",
       "      <td>SNV</td>\n",
       "      <td>Pregnancy loss, recurrent, susceptibility</td>\n",
       "      <td>614389</td>\n",
       "      <td>Mus musculus</td>\n",
       "      <td>mRNA</td>\n",
       "    </tr>\n",
       "    <tr>\n",
       "      <th>32991</th>\n",
       "      <td>F5</td>\n",
       "      <td>butylparaben</td>\n",
       "      <td>decreases^expression</td>\n",
       "      <td>Maternal</td>\n",
       "      <td>SNV</td>\n",
       "      <td>Pregnancy loss, recurrent, susceptibility</td>\n",
       "      <td>614389</td>\n",
       "      <td>Danio rerio</td>\n",
       "      <td>mRNA</td>\n",
       "    </tr>\n",
       "    <tr>\n",
       "      <th>32992</th>\n",
       "      <td>F5</td>\n",
       "      <td>butyraldehyde</td>\n",
       "      <td>decreases^expression</td>\n",
       "      <td>Maternal</td>\n",
       "      <td>SNV</td>\n",
       "      <td>Pregnancy loss, recurrent, susceptibility</td>\n",
       "      <td>614389</td>\n",
       "      <td>Homo sapiens</td>\n",
       "      <td>mRNA</td>\n",
       "    </tr>\n",
       "    <tr>\n",
       "      <th>32993</th>\n",
       "      <td>F5</td>\n",
       "      <td>Cadmium</td>\n",
       "      <td>decreases^expression</td>\n",
       "      <td>Maternal</td>\n",
       "      <td>SNV</td>\n",
       "      <td>Pregnancy loss, recurrent, susceptibility</td>\n",
       "      <td>614389</td>\n",
       "      <td>Homo sapiens</td>\n",
       "      <td>mRNA</td>\n",
       "    </tr>\n",
       "    <tr>\n",
       "      <th>32994</th>\n",
       "      <td>F5</td>\n",
       "      <td>Cadmium</td>\n",
       "      <td>increases^abundance</td>\n",
       "      <td>Maternal</td>\n",
       "      <td>SNV</td>\n",
       "      <td>Pregnancy loss, recurrent, susceptibility</td>\n",
       "      <td>614389</td>\n",
       "      <td>Homo sapiens</td>\n",
       "      <td>mRNA</td>\n",
       "    </tr>\n",
       "    <tr>\n",
       "      <th>32995</th>\n",
       "      <td>F5</td>\n",
       "      <td>Cadmium</td>\n",
       "      <td>affects^binding</td>\n",
       "      <td>Maternal</td>\n",
       "      <td>SNV</td>\n",
       "      <td>Pregnancy loss, recurrent, susceptibility</td>\n",
       "      <td>614389</td>\n",
       "      <td>Homo sapiens</td>\n",
       "      <td>protein</td>\n",
       "    </tr>\n",
       "    <tr>\n",
       "      <th>32996</th>\n",
       "      <td>F5</td>\n",
       "      <td>Cadmium</td>\n",
       "      <td>increases^expression</td>\n",
       "      <td>Maternal</td>\n",
       "      <td>SNV</td>\n",
       "      <td>Pregnancy loss, recurrent, susceptibility</td>\n",
       "      <td>614389</td>\n",
       "      <td>Perca flavescens</td>\n",
       "      <td>mRNA</td>\n",
       "    </tr>\n",
       "    <tr>\n",
       "      <th>32997</th>\n",
       "      <td>F5</td>\n",
       "      <td>Cadmium Chloride</td>\n",
       "      <td>decreases^expression</td>\n",
       "      <td>Maternal</td>\n",
       "      <td>SNV</td>\n",
       "      <td>Pregnancy loss, recurrent, susceptibility</td>\n",
       "      <td>614389</td>\n",
       "      <td>Homo sapiens</td>\n",
       "      <td>mRNA</td>\n",
       "    </tr>\n",
       "    <tr>\n",
       "      <th>32998</th>\n",
       "      <td>F5</td>\n",
       "      <td>Cadmium Chloride</td>\n",
       "      <td>increases^abundance</td>\n",
       "      <td>Maternal</td>\n",
       "      <td>SNV</td>\n",
       "      <td>Pregnancy loss, recurrent, susceptibility</td>\n",
       "      <td>614389</td>\n",
       "      <td>Homo sapiens</td>\n",
       "      <td>mRNA</td>\n",
       "    </tr>\n",
       "    <tr>\n",
       "      <th>32999</th>\n",
       "      <td>F5</td>\n",
       "      <td>Calcitriol</td>\n",
       "      <td>increases^expression</td>\n",
       "      <td>Maternal</td>\n",
       "      <td>SNV</td>\n",
       "      <td>Pregnancy loss, recurrent, susceptibility</td>\n",
       "      <td>614389</td>\n",
       "      <td>Homo sapiens</td>\n",
       "      <td>mRNA</td>\n",
       "    </tr>\n",
       "    <tr>\n",
       "      <th>33000</th>\n",
       "      <td>F5</td>\n",
       "      <td>Calcitriol</td>\n",
       "      <td>affects^cotreatment</td>\n",
       "      <td>Maternal</td>\n",
       "      <td>SNV</td>\n",
       "      <td>Pregnancy loss, recurrent, susceptibility</td>\n",
       "      <td>614389</td>\n",
       "      <td>Homo sapiens</td>\n",
       "      <td>mRNA</td>\n",
       "    </tr>\n",
       "    <tr>\n",
       "      <th>33001</th>\n",
       "      <td>F5</td>\n",
       "      <td>Calcitriol</td>\n",
       "      <td>increases^expression</td>\n",
       "      <td>Maternal</td>\n",
       "      <td>SNV</td>\n",
       "      <td>Pregnancy loss, recurrent, susceptibility</td>\n",
       "      <td>614389</td>\n",
       "      <td>Homo sapiens</td>\n",
       "      <td>mRNA</td>\n",
       "    </tr>\n",
       "    <tr>\n",
       "      <th>33002</th>\n",
       "      <td>F5</td>\n",
       "      <td>Calcium Chloride</td>\n",
       "      <td>affects^cotreatment</td>\n",
       "      <td>Maternal</td>\n",
       "      <td>SNV</td>\n",
       "      <td>Pregnancy loss, recurrent, susceptibility</td>\n",
       "      <td>614389</td>\n",
       "      <td>Homo sapiens</td>\n",
       "      <td>protein</td>\n",
       "    </tr>\n",
       "    <tr>\n",
       "      <th>33003</th>\n",
       "      <td>F5</td>\n",
       "      <td>Calcium Chloride</td>\n",
       "      <td>decreases^reaction</td>\n",
       "      <td>Maternal</td>\n",
       "      <td>SNV</td>\n",
       "      <td>Pregnancy loss, recurrent, susceptibility</td>\n",
       "      <td>614389</td>\n",
       "      <td>Homo sapiens</td>\n",
       "      <td>protein</td>\n",
       "    </tr>\n",
       "    <tr>\n",
       "      <th>33004</th>\n",
       "      <td>F5</td>\n",
       "      <td>Calcium Chloride</td>\n",
       "      <td>increases^metabolic processing</td>\n",
       "      <td>Maternal</td>\n",
       "      <td>SNV</td>\n",
       "      <td>Pregnancy loss, recurrent, susceptibility</td>\n",
       "      <td>614389</td>\n",
       "      <td>Homo sapiens</td>\n",
       "      <td>protein</td>\n",
       "    </tr>\n",
       "    <tr>\n",
       "      <th>33005</th>\n",
       "      <td>F5</td>\n",
       "      <td>Calcium Chloride</td>\n",
       "      <td>affects^cotreatment</td>\n",
       "      <td>Maternal</td>\n",
       "      <td>SNV</td>\n",
       "      <td>Pregnancy loss, recurrent, susceptibility</td>\n",
       "      <td>614389</td>\n",
       "      <td>Homo sapiens</td>\n",
       "      <td>protein</td>\n",
       "    </tr>\n",
       "    <tr>\n",
       "      <th>33006</th>\n",
       "      <td>F5</td>\n",
       "      <td>Calcium Chloride</td>\n",
       "      <td>increases^metabolic processing</td>\n",
       "      <td>Maternal</td>\n",
       "      <td>SNV</td>\n",
       "      <td>Pregnancy loss, recurrent, susceptibility</td>\n",
       "      <td>614389</td>\n",
       "      <td>Homo sapiens</td>\n",
       "      <td>protein</td>\n",
       "    </tr>\n",
       "    <tr>\n",
       "      <th>33007</th>\n",
       "      <td>F5</td>\n",
       "      <td>Calcium Chloride</td>\n",
       "      <td>affects^cotreatment</td>\n",
       "      <td>Maternal</td>\n",
       "      <td>SNV</td>\n",
       "      <td>Pregnancy loss, recurrent, susceptibility</td>\n",
       "      <td>614389</td>\n",
       "      <td>Homo sapiens</td>\n",
       "      <td>protein</td>\n",
       "    </tr>\n",
       "    <tr>\n",
       "      <th>33008</th>\n",
       "      <td>F5</td>\n",
       "      <td>Calcium Chloride</td>\n",
       "      <td>decreases^reaction</td>\n",
       "      <td>Maternal</td>\n",
       "      <td>SNV</td>\n",
       "      <td>Pregnancy loss, recurrent, susceptibility</td>\n",
       "      <td>614389</td>\n",
       "      <td>Homo sapiens</td>\n",
       "      <td>protein</td>\n",
       "    </tr>\n",
       "    <tr>\n",
       "      <th>33009</th>\n",
       "      <td>F5</td>\n",
       "      <td>Calcium Chloride</td>\n",
       "      <td>increases^metabolic processing</td>\n",
       "      <td>Maternal</td>\n",
       "      <td>SNV</td>\n",
       "      <td>Pregnancy loss, recurrent, susceptibility</td>\n",
       "      <td>614389</td>\n",
       "      <td>Homo sapiens</td>\n",
       "      <td>protein</td>\n",
       "    </tr>\n",
       "    <tr>\n",
       "      <th>33010</th>\n",
       "      <td>F5</td>\n",
       "      <td>Cannabidiol</td>\n",
       "      <td>affects^expression</td>\n",
       "      <td>Maternal</td>\n",
       "      <td>SNV</td>\n",
       "      <td>Pregnancy loss, recurrent, susceptibility</td>\n",
       "      <td>614389</td>\n",
       "      <td>Danio rerio</td>\n",
       "      <td>mRNA</td>\n",
       "    </tr>\n",
       "    <tr>\n",
       "      <th>33011</th>\n",
       "      <td>F5</td>\n",
       "      <td>Carbon Tetrachloride</td>\n",
       "      <td>decreases^expression</td>\n",
       "      <td>Maternal</td>\n",
       "      <td>SNV</td>\n",
       "      <td>Pregnancy loss, recurrent, susceptibility</td>\n",
       "      <td>614389</td>\n",
       "      <td>Mus musculus</td>\n",
       "      <td>mRNA</td>\n",
       "    </tr>\n",
       "    <tr>\n",
       "      <th>33012</th>\n",
       "      <td>F5</td>\n",
       "      <td>Carbon Tetrachloride</td>\n",
       "      <td>decreases^expression</td>\n",
       "      <td>Maternal</td>\n",
       "      <td>SNV</td>\n",
       "      <td>Pregnancy loss, recurrent, susceptibility</td>\n",
       "      <td>614389</td>\n",
       "      <td>Rattus norvegicus</td>\n",
       "      <td>mRNA</td>\n",
       "    </tr>\n",
       "    <tr>\n",
       "      <th>33013</th>\n",
       "      <td>F5</td>\n",
       "      <td>Cellulose</td>\n",
       "      <td>affects^cotreatment</td>\n",
       "      <td>Maternal</td>\n",
       "      <td>SNV</td>\n",
       "      <td>Pregnancy loss, recurrent, susceptibility</td>\n",
       "      <td>614389</td>\n",
       "      <td>Mus musculus</td>\n",
       "      <td>mRNA</td>\n",
       "    </tr>\n",
       "    <tr>\n",
       "      <th>33014</th>\n",
       "      <td>F5</td>\n",
       "      <td>Cellulose</td>\n",
       "      <td>decreases^expression</td>\n",
       "      <td>Maternal</td>\n",
       "      <td>SNV</td>\n",
       "      <td>Pregnancy loss, recurrent, susceptibility</td>\n",
       "      <td>614389</td>\n",
       "      <td>Mus musculus</td>\n",
       "      <td>mRNA</td>\n",
       "    </tr>\n",
       "    <tr>\n",
       "      <th>33015</th>\n",
       "      <td>F5</td>\n",
       "      <td>CGP 52608</td>\n",
       "      <td>affects^binding</td>\n",
       "      <td>Maternal</td>\n",
       "      <td>SNV</td>\n",
       "      <td>Pregnancy loss, recurrent, susceptibility</td>\n",
       "      <td>614389</td>\n",
       "      <td>Homo sapiens</td>\n",
       "      <td>gene</td>\n",
       "    </tr>\n",
       "    <tr>\n",
       "      <th>33016</th>\n",
       "      <td>F5</td>\n",
       "      <td>CGP 52608</td>\n",
       "      <td>increases^reaction</td>\n",
       "      <td>Maternal</td>\n",
       "      <td>SNV</td>\n",
       "      <td>Pregnancy loss, recurrent, susceptibility</td>\n",
       "      <td>614389</td>\n",
       "      <td>Homo sapiens</td>\n",
       "      <td>gene</td>\n",
       "    </tr>\n",
       "    <tr>\n",
       "      <th>33017</th>\n",
       "      <td>F5</td>\n",
       "      <td>Chloroprene</td>\n",
       "      <td>increases^expression</td>\n",
       "      <td>Maternal</td>\n",
       "      <td>SNV</td>\n",
       "      <td>Pregnancy loss, recurrent, susceptibility</td>\n",
       "      <td>614389</td>\n",
       "      <td>Rattus norvegicus</td>\n",
       "      <td>mRNA</td>\n",
       "    </tr>\n",
       "    <tr>\n",
       "      <th>33018</th>\n",
       "      <td>F5</td>\n",
       "      <td>Chlorpyrifos</td>\n",
       "      <td>decreases^expression</td>\n",
       "      <td>Maternal</td>\n",
       "      <td>SNV</td>\n",
       "      <td>Pregnancy loss, recurrent, susceptibility</td>\n",
       "      <td>614389</td>\n",
       "      <td>Cyprinus carpio</td>\n",
       "      <td>mRNA</td>\n",
       "    </tr>\n",
       "    <tr>\n",
       "      <th>33019</th>\n",
       "      <td>F5</td>\n",
       "      <td>Chlorpyrifos</td>\n",
       "      <td>increases^expression</td>\n",
       "      <td>Maternal</td>\n",
       "      <td>SNV</td>\n",
       "      <td>Pregnancy loss, recurrent, susceptibility</td>\n",
       "      <td>614389</td>\n",
       "      <td>Cyprinus carpio</td>\n",
       "      <td>mRNA</td>\n",
       "    </tr>\n",
       "    <tr>\n",
       "      <th>33020</th>\n",
       "      <td>F5</td>\n",
       "      <td>Cholic Acids</td>\n",
       "      <td>affects^cotreatment</td>\n",
       "      <td>Maternal</td>\n",
       "      <td>SNV</td>\n",
       "      <td>Pregnancy loss, recurrent, susceptibility</td>\n",
       "      <td>614389</td>\n",
       "      <td>Homo sapiens</td>\n",
       "      <td>mRNA</td>\n",
       "    </tr>\n",
       "    <tr>\n",
       "      <th>33021</th>\n",
       "      <td>F5</td>\n",
       "      <td>Cholic Acids</td>\n",
       "      <td>affects^expression</td>\n",
       "      <td>Maternal</td>\n",
       "      <td>SNV</td>\n",
       "      <td>Pregnancy loss, recurrent, susceptibility</td>\n",
       "      <td>614389</td>\n",
       "      <td>Homo sapiens</td>\n",
       "      <td>mRNA</td>\n",
       "    </tr>\n",
       "    <tr>\n",
       "      <th>33022</th>\n",
       "      <td>F5</td>\n",
       "      <td>Chromium</td>\n",
       "      <td>decreases^expression</td>\n",
       "      <td>Maternal</td>\n",
       "      <td>SNV</td>\n",
       "      <td>Pregnancy loss, recurrent, susceptibility</td>\n",
       "      <td>614389</td>\n",
       "      <td>Homo sapiens</td>\n",
       "      <td>mRNA</td>\n",
       "    </tr>\n",
       "    <tr>\n",
       "      <th>33023</th>\n",
       "      <td>F5</td>\n",
       "      <td>chrysene</td>\n",
       "      <td>increases^expression</td>\n",
       "      <td>Maternal</td>\n",
       "      <td>SNV</td>\n",
       "      <td>Pregnancy loss, recurrent, susceptibility</td>\n",
       "      <td>614389</td>\n",
       "      <td>Mus musculus</td>\n",
       "      <td>mRNA</td>\n",
       "    </tr>\n",
       "    <tr>\n",
       "      <th>33024</th>\n",
       "      <td>F5</td>\n",
       "      <td>Clofibrate</td>\n",
       "      <td>affects^cotreatment</td>\n",
       "      <td>Maternal</td>\n",
       "      <td>SNV</td>\n",
       "      <td>Pregnancy loss, recurrent, susceptibility</td>\n",
       "      <td>614389</td>\n",
       "      <td>Mus musculus</td>\n",
       "      <td>mRNA</td>\n",
       "    </tr>\n",
       "    <tr>\n",
       "      <th>33025</th>\n",
       "      <td>F5</td>\n",
       "      <td>Clofibrate</td>\n",
       "      <td>affects^expression</td>\n",
       "      <td>Maternal</td>\n",
       "      <td>SNV</td>\n",
       "      <td>Pregnancy loss, recurrent, susceptibility</td>\n",
       "      <td>614389</td>\n",
       "      <td>Mus musculus</td>\n",
       "      <td>mRNA</td>\n",
       "    </tr>\n",
       "    <tr>\n",
       "      <th>33026</th>\n",
       "      <td>F5</td>\n",
       "      <td>Clofibrate</td>\n",
       "      <td>decreases^expression</td>\n",
       "      <td>Maternal</td>\n",
       "      <td>SNV</td>\n",
       "      <td>Pregnancy loss, recurrent, susceptibility</td>\n",
       "      <td>614389</td>\n",
       "      <td>Mus musculus</td>\n",
       "      <td>mRNA</td>\n",
       "    </tr>\n",
       "    <tr>\n",
       "      <th>33027</th>\n",
       "      <td>F5</td>\n",
       "      <td>Clofibrate</td>\n",
       "      <td>affects^cotreatment</td>\n",
       "      <td>Maternal</td>\n",
       "      <td>SNV</td>\n",
       "      <td>Pregnancy loss, recurrent, susceptibility</td>\n",
       "      <td>614389</td>\n",
       "      <td>Mus musculus</td>\n",
       "      <td>mRNA</td>\n",
       "    </tr>\n",
       "    <tr>\n",
       "      <th>33028</th>\n",
       "      <td>F5</td>\n",
       "      <td>Clofibrate</td>\n",
       "      <td>affects^expression</td>\n",
       "      <td>Maternal</td>\n",
       "      <td>SNV</td>\n",
       "      <td>Pregnancy loss, recurrent, susceptibility</td>\n",
       "      <td>614389</td>\n",
       "      <td>Mus musculus</td>\n",
       "      <td>mRNA</td>\n",
       "    </tr>\n",
       "    <tr>\n",
       "      <th>33029</th>\n",
       "      <td>F5</td>\n",
       "      <td>Clofibrate</td>\n",
       "      <td>affects^reaction</td>\n",
       "      <td>Maternal</td>\n",
       "      <td>SNV</td>\n",
       "      <td>Pregnancy loss, recurrent, susceptibility</td>\n",
       "      <td>614389</td>\n",
       "      <td>Mus musculus</td>\n",
       "      <td>mRNA</td>\n",
       "    </tr>\n",
       "    <tr>\n",
       "      <th>33030</th>\n",
       "      <td>F5</td>\n",
       "      <td>Clofibrate</td>\n",
       "      <td>decreases^expression</td>\n",
       "      <td>Maternal</td>\n",
       "      <td>SNV</td>\n",
       "      <td>Pregnancy loss, recurrent, susceptibility</td>\n",
       "      <td>614389</td>\n",
       "      <td>Rattus norvegicus</td>\n",
       "      <td>mRNA</td>\n",
       "    </tr>\n",
       "    <tr>\n",
       "      <th>33031</th>\n",
       "      <td>F5</td>\n",
       "      <td>Clofibric Acid</td>\n",
       "      <td>affects^cotreatment</td>\n",
       "      <td>Maternal</td>\n",
       "      <td>SNV</td>\n",
       "      <td>Pregnancy loss, recurrent, susceptibility</td>\n",
       "      <td>614389</td>\n",
       "      <td>Rattus norvegicus</td>\n",
       "      <td>mRNA</td>\n",
       "    </tr>\n",
       "    <tr>\n",
       "      <th>33032</th>\n",
       "      <td>F5</td>\n",
       "      <td>Clofibric Acid</td>\n",
       "      <td>affects^expression</td>\n",
       "      <td>Maternal</td>\n",
       "      <td>SNV</td>\n",
       "      <td>Pregnancy loss, recurrent, susceptibility</td>\n",
       "      <td>614389</td>\n",
       "      <td>Rattus norvegicus</td>\n",
       "      <td>mRNA</td>\n",
       "    </tr>\n",
       "    <tr>\n",
       "      <th>33033</th>\n",
       "      <td>F5</td>\n",
       "      <td>Clomiphene</td>\n",
       "      <td>affects^response to substance</td>\n",
       "      <td>Maternal</td>\n",
       "      <td>SNV</td>\n",
       "      <td>Pregnancy loss, recurrent, susceptibility</td>\n",
       "      <td>614389</td>\n",
       "      <td>Homo sapiens</td>\n",
       "      <td>gene</td>\n",
       "    </tr>\n",
       "    <tr>\n",
       "      <th>33034</th>\n",
       "      <td>F5</td>\n",
       "      <td>cobaltous chloride</td>\n",
       "      <td>decreases^expression</td>\n",
       "      <td>Maternal</td>\n",
       "      <td>SNV</td>\n",
       "      <td>Pregnancy loss, recurrent, susceptibility</td>\n",
       "      <td>614389</td>\n",
       "      <td>Rattus norvegicus</td>\n",
       "      <td>mRNA</td>\n",
       "    </tr>\n",
       "    <tr>\n",
       "      <th>33035</th>\n",
       "      <td>F5</td>\n",
       "      <td>Contraceptives, Oral</td>\n",
       "      <td>increases^response to substance</td>\n",
       "      <td>Maternal</td>\n",
       "      <td>SNV</td>\n",
       "      <td>Pregnancy loss, recurrent, susceptibility</td>\n",
       "      <td>614389</td>\n",
       "      <td>Homo sapiens</td>\n",
       "      <td>mutant form</td>\n",
       "    </tr>\n",
       "    <tr>\n",
       "      <th>33036</th>\n",
       "      <td>F5</td>\n",
       "      <td>Cyclosporine</td>\n",
       "      <td>decreases^expression</td>\n",
       "      <td>Maternal</td>\n",
       "      <td>SNV</td>\n",
       "      <td>Pregnancy loss, recurrent, susceptibility</td>\n",
       "      <td>614389</td>\n",
       "      <td>Homo sapiens</td>\n",
       "      <td>mRNA</td>\n",
       "    </tr>\n",
       "    <tr>\n",
       "      <th>33037</th>\n",
       "      <td>F5</td>\n",
       "      <td>Cyclosporine</td>\n",
       "      <td>decreases^expression</td>\n",
       "      <td>Maternal</td>\n",
       "      <td>SNV</td>\n",
       "      <td>Pregnancy loss, recurrent, susceptibility</td>\n",
       "      <td>614389</td>\n",
       "      <td>Mus musculus</td>\n",
       "      <td>mRNA</td>\n",
       "    </tr>\n",
       "    <tr>\n",
       "      <th>33038</th>\n",
       "      <td>F5</td>\n",
       "      <td>cyproconazole</td>\n",
       "      <td>decreases^expression</td>\n",
       "      <td>Maternal</td>\n",
       "      <td>SNV</td>\n",
       "      <td>Pregnancy loss, recurrent, susceptibility</td>\n",
       "      <td>614389</td>\n",
       "      <td>Mus musculus</td>\n",
       "      <td>mRNA</td>\n",
       "    </tr>\n",
       "    <tr>\n",
       "      <th>33039</th>\n",
       "      <td>F5</td>\n",
       "      <td>decabromobiphenyl ether</td>\n",
       "      <td>increases^expression</td>\n",
       "      <td>Maternal</td>\n",
       "      <td>SNV</td>\n",
       "      <td>Pregnancy loss, recurrent, susceptibility</td>\n",
       "      <td>614389</td>\n",
       "      <td>Homo sapiens</td>\n",
       "      <td>protein</td>\n",
       "    </tr>\n",
       "    <tr>\n",
       "      <th>33040</th>\n",
       "      <td>F5</td>\n",
       "      <td>Demecolcine</td>\n",
       "      <td>increases^expression</td>\n",
       "      <td>Maternal</td>\n",
       "      <td>SNV</td>\n",
       "      <td>Pregnancy loss, recurrent, susceptibility</td>\n",
       "      <td>614389</td>\n",
       "      <td>Homo sapiens</td>\n",
       "      <td>mRNA</td>\n",
       "    </tr>\n",
       "    <tr>\n",
       "      <th>33041</th>\n",
       "      <td>F5</td>\n",
       "      <td>deoxynivalenol</td>\n",
       "      <td>decreases^expression</td>\n",
       "      <td>Maternal</td>\n",
       "      <td>SNV</td>\n",
       "      <td>Pregnancy loss, recurrent, susceptibility</td>\n",
       "      <td>614389</td>\n",
       "      <td>Sus scrofa</td>\n",
       "      <td>mRNA</td>\n",
       "    </tr>\n",
       "    <tr>\n",
       "      <th>33042</th>\n",
       "      <td>F5</td>\n",
       "      <td>Dextran Sulfate</td>\n",
       "      <td>affects^cotreatment</td>\n",
       "      <td>Maternal</td>\n",
       "      <td>SNV</td>\n",
       "      <td>Pregnancy loss, recurrent, susceptibility</td>\n",
       "      <td>614389</td>\n",
       "      <td>Mus musculus</td>\n",
       "      <td>mRNA</td>\n",
       "    </tr>\n",
       "    <tr>\n",
       "      <th>33043</th>\n",
       "      <td>F5</td>\n",
       "      <td>Dextran Sulfate</td>\n",
       "      <td>decreases^expression</td>\n",
       "      <td>Maternal</td>\n",
       "      <td>SNV</td>\n",
       "      <td>Pregnancy loss, recurrent, susceptibility</td>\n",
       "      <td>614389</td>\n",
       "      <td>Mus musculus</td>\n",
       "      <td>mRNA</td>\n",
       "    </tr>\n",
       "    <tr>\n",
       "      <th>35933</th>\n",
       "      <td>FOXD1</td>\n",
       "      <td>4-(4-((5-(4,5-dimethyl-2-nitrophenyl)-2-furany...</td>\n",
       "      <td>increases^expression</td>\n",
       "      <td>Maternal</td>\n",
       "      <td>SNV</td>\n",
       "      <td>recurrent pregnancy loss, preeclampsia, intrau...</td>\n",
       "      <td>NaN</td>\n",
       "      <td>Homo sapiens</td>\n",
       "      <td>mRNA</td>\n",
       "    </tr>\n",
       "    <tr>\n",
       "      <th>35934</th>\n",
       "      <td>FOXD1</td>\n",
       "      <td>7,8-Dihydro-7,8-dihydroxybenzo(a)pyrene 9,10-o...</td>\n",
       "      <td>decreases^expression</td>\n",
       "      <td>Maternal</td>\n",
       "      <td>SNV</td>\n",
       "      <td>recurrent pregnancy loss, preeclampsia, intrau...</td>\n",
       "      <td>NaN</td>\n",
       "      <td>Homo sapiens</td>\n",
       "      <td>mRNA</td>\n",
       "    </tr>\n",
       "    <tr>\n",
       "      <th>35935</th>\n",
       "      <td>FOXD1</td>\n",
       "      <td>abrine</td>\n",
       "      <td>increases^expression</td>\n",
       "      <td>Maternal</td>\n",
       "      <td>SNV</td>\n",
       "      <td>recurrent pregnancy loss, preeclampsia, intrau...</td>\n",
       "      <td>NaN</td>\n",
       "      <td>Homo sapiens</td>\n",
       "      <td>mRNA</td>\n",
       "    </tr>\n",
       "    <tr>\n",
       "      <th>35936</th>\n",
       "      <td>FOXD1</td>\n",
       "      <td>Acetaminophen</td>\n",
       "      <td>affects^expression</td>\n",
       "      <td>Maternal</td>\n",
       "      <td>SNV</td>\n",
       "      <td>recurrent pregnancy loss, preeclampsia, intrau...</td>\n",
       "      <td>NaN</td>\n",
       "      <td>Mus musculus</td>\n",
       "      <td>mRNA</td>\n",
       "    </tr>\n",
       "    <tr>\n",
       "      <th>35937</th>\n",
       "      <td>FOXD1</td>\n",
       "      <td>Acetaminophen</td>\n",
       "      <td>increases^expression</td>\n",
       "      <td>Maternal</td>\n",
       "      <td>SNV</td>\n",
       "      <td>recurrent pregnancy loss, preeclampsia, intrau...</td>\n",
       "      <td>NaN</td>\n",
       "      <td>Rattus norvegicus</td>\n",
       "      <td>mRNA</td>\n",
       "    </tr>\n",
       "    <tr>\n",
       "      <th>35938</th>\n",
       "      <td>FOXD1</td>\n",
       "      <td>Ammonium Chloride</td>\n",
       "      <td>affects^expression</td>\n",
       "      <td>Maternal</td>\n",
       "      <td>SNV</td>\n",
       "      <td>recurrent pregnancy loss, preeclampsia, intrau...</td>\n",
       "      <td>NaN</td>\n",
       "      <td>Rattus norvegicus</td>\n",
       "      <td>mRNA</td>\n",
       "    </tr>\n",
       "    <tr>\n",
       "      <th>35939</th>\n",
       "      <td>FOXD1</td>\n",
       "      <td>Arsenic</td>\n",
       "      <td>increases^abundance</td>\n",
       "      <td>Maternal</td>\n",
       "      <td>SNV</td>\n",
       "      <td>recurrent pregnancy loss, preeclampsia, intrau...</td>\n",
       "      <td>NaN</td>\n",
       "      <td>Homo sapiens</td>\n",
       "      <td>mRNA</td>\n",
       "    </tr>\n",
       "    <tr>\n",
       "      <th>35940</th>\n",
       "      <td>FOXD1</td>\n",
       "      <td>Arsenic</td>\n",
       "      <td>increases^expression</td>\n",
       "      <td>Maternal</td>\n",
       "      <td>SNV</td>\n",
       "      <td>recurrent pregnancy loss, preeclampsia, intrau...</td>\n",
       "      <td>NaN</td>\n",
       "      <td>Homo sapiens</td>\n",
       "      <td>mRNA</td>\n",
       "    </tr>\n",
       "    <tr>\n",
       "      <th>35941</th>\n",
       "      <td>FOXD1</td>\n",
       "      <td>Asbestos, Crocidolite</td>\n",
       "      <td>increases^expression</td>\n",
       "      <td>Maternal</td>\n",
       "      <td>SNV</td>\n",
       "      <td>recurrent pregnancy loss, preeclampsia, intrau...</td>\n",
       "      <td>NaN</td>\n",
       "      <td>Homo sapiens</td>\n",
       "      <td>mRNA</td>\n",
       "    </tr>\n",
       "    <tr>\n",
       "      <th>35942</th>\n",
       "      <td>FOXD1</td>\n",
       "      <td>Beclomethasone</td>\n",
       "      <td>increases^expression</td>\n",
       "      <td>Maternal</td>\n",
       "      <td>SNV</td>\n",
       "      <td>recurrent pregnancy loss, preeclampsia, intrau...</td>\n",
       "      <td>NaN</td>\n",
       "      <td>Danio rerio</td>\n",
       "      <td>mRNA</td>\n",
       "    </tr>\n",
       "    <tr>\n",
       "      <th>35943</th>\n",
       "      <td>FOXD1</td>\n",
       "      <td>Benzo(a)pyrene</td>\n",
       "      <td>decreases^methylation</td>\n",
       "      <td>Maternal</td>\n",
       "      <td>SNV</td>\n",
       "      <td>recurrent pregnancy loss, preeclampsia, intrau...</td>\n",
       "      <td>NaN</td>\n",
       "      <td>Homo sapiens</td>\n",
       "      <td>3' UTR</td>\n",
       "    </tr>\n",
       "    <tr>\n",
       "      <th>35944</th>\n",
       "      <td>FOXD1</td>\n",
       "      <td>Benzo(a)pyrene</td>\n",
       "      <td>increases^methylation</td>\n",
       "      <td>Maternal</td>\n",
       "      <td>SNV</td>\n",
       "      <td>recurrent pregnancy loss, preeclampsia, intrau...</td>\n",
       "      <td>NaN</td>\n",
       "      <td>Homo sapiens</td>\n",
       "      <td>promoter</td>\n",
       "    </tr>\n",
       "    <tr>\n",
       "      <th>35945</th>\n",
       "      <td>FOXD1</td>\n",
       "      <td>bis(4-hydroxyphenyl)sulfone</td>\n",
       "      <td>increases^expression</td>\n",
       "      <td>Maternal</td>\n",
       "      <td>SNV</td>\n",
       "      <td>recurrent pregnancy loss, preeclampsia, intrau...</td>\n",
       "      <td>NaN</td>\n",
       "      <td>Homo sapiens</td>\n",
       "      <td>mRNA</td>\n",
       "    </tr>\n",
       "    <tr>\n",
       "      <th>35946</th>\n",
       "      <td>FOXD1</td>\n",
       "      <td>bis(4-hydroxyphenyl)sulfone</td>\n",
       "      <td>increases^expression</td>\n",
       "      <td>Maternal</td>\n",
       "      <td>SNV</td>\n",
       "      <td>recurrent pregnancy loss, preeclampsia, intrau...</td>\n",
       "      <td>NaN</td>\n",
       "      <td>Mus musculus</td>\n",
       "      <td>mRNA</td>\n",
       "    </tr>\n",
       "    <tr>\n",
       "      <th>35947</th>\n",
       "      <td>FOXD1</td>\n",
       "      <td>bisphenol A</td>\n",
       "      <td>affects^expression</td>\n",
       "      <td>Maternal</td>\n",
       "      <td>SNV</td>\n",
       "      <td>recurrent pregnancy loss, preeclampsia, intrau...</td>\n",
       "      <td>NaN</td>\n",
       "      <td>Danio rerio</td>\n",
       "      <td>mRNA</td>\n",
       "    </tr>\n",
       "    <tr>\n",
       "      <th>35948</th>\n",
       "      <td>FOXD1</td>\n",
       "      <td>bisphenol A</td>\n",
       "      <td>decreases^expression</td>\n",
       "      <td>Maternal</td>\n",
       "      <td>SNV</td>\n",
       "      <td>recurrent pregnancy loss, preeclampsia, intrau...</td>\n",
       "      <td>NaN</td>\n",
       "      <td>Homo sapiens</td>\n",
       "      <td>mRNA</td>\n",
       "    </tr>\n",
       "    <tr>\n",
       "      <th>35949</th>\n",
       "      <td>FOXD1</td>\n",
       "      <td>bisphenol A</td>\n",
       "      <td>increases^expression</td>\n",
       "      <td>Maternal</td>\n",
       "      <td>SNV</td>\n",
       "      <td>recurrent pregnancy loss, preeclampsia, intrau...</td>\n",
       "      <td>NaN</td>\n",
       "      <td>Homo sapiens</td>\n",
       "      <td>mRNA</td>\n",
       "    </tr>\n",
       "    <tr>\n",
       "      <th>35950</th>\n",
       "      <td>FOXD1</td>\n",
       "      <td>bisphenol A</td>\n",
       "      <td>affects^methylation</td>\n",
       "      <td>Maternal</td>\n",
       "      <td>SNV</td>\n",
       "      <td>recurrent pregnancy loss, preeclampsia, intrau...</td>\n",
       "      <td>NaN</td>\n",
       "      <td>Mus musculus</td>\n",
       "      <td>promoter</td>\n",
       "    </tr>\n",
       "    <tr>\n",
       "      <th>35951</th>\n",
       "      <td>FOXD1</td>\n",
       "      <td>bisphenol A</td>\n",
       "      <td>increases^expression</td>\n",
       "      <td>Maternal</td>\n",
       "      <td>SNV</td>\n",
       "      <td>recurrent pregnancy loss, preeclampsia, intrau...</td>\n",
       "      <td>NaN</td>\n",
       "      <td>Mus musculus</td>\n",
       "      <td>mRNA</td>\n",
       "    </tr>\n",
       "    <tr>\n",
       "      <th>35952</th>\n",
       "      <td>FOXD1</td>\n",
       "      <td>bisphenol A</td>\n",
       "      <td>affects^expression</td>\n",
       "      <td>Maternal</td>\n",
       "      <td>SNV</td>\n",
       "      <td>recurrent pregnancy loss, preeclampsia, intrau...</td>\n",
       "      <td>NaN</td>\n",
       "      <td>Pimephales promelas</td>\n",
       "      <td>mRNA</td>\n",
       "    </tr>\n",
       "    <tr>\n",
       "      <th>35953</th>\n",
       "      <td>FOXD1</td>\n",
       "      <td>bisphenol F</td>\n",
       "      <td>increases^expression</td>\n",
       "      <td>Maternal</td>\n",
       "      <td>SNV</td>\n",
       "      <td>recurrent pregnancy loss, preeclampsia, intrau...</td>\n",
       "      <td>NaN</td>\n",
       "      <td>Mus musculus</td>\n",
       "      <td>mRNA</td>\n",
       "    </tr>\n",
       "    <tr>\n",
       "      <th>35954</th>\n",
       "      <td>FOXD1</td>\n",
       "      <td>caffeic acid phenethyl ester</td>\n",
       "      <td>affects^cotreatment</td>\n",
       "      <td>Maternal</td>\n",
       "      <td>SNV</td>\n",
       "      <td>recurrent pregnancy loss, preeclampsia, intrau...</td>\n",
       "      <td>NaN</td>\n",
       "      <td>Rattus norvegicus</td>\n",
       "      <td>mRNA</td>\n",
       "    </tr>\n",
       "    <tr>\n",
       "      <th>35955</th>\n",
       "      <td>FOXD1</td>\n",
       "      <td>caffeic acid phenethyl ester</td>\n",
       "      <td>decreases^expression</td>\n",
       "      <td>Maternal</td>\n",
       "      <td>SNV</td>\n",
       "      <td>recurrent pregnancy loss, preeclampsia, intrau...</td>\n",
       "      <td>NaN</td>\n",
       "      <td>Rattus norvegicus</td>\n",
       "      <td>mRNA</td>\n",
       "    </tr>\n",
       "    <tr>\n",
       "      <th>35956</th>\n",
       "      <td>FOXD1</td>\n",
       "      <td>Cannabidiol</td>\n",
       "      <td>increases^expression</td>\n",
       "      <td>Maternal</td>\n",
       "      <td>SNV</td>\n",
       "      <td>recurrent pregnancy loss, preeclampsia, intrau...</td>\n",
       "      <td>NaN</td>\n",
       "      <td>Homo sapiens</td>\n",
       "      <td>mRNA</td>\n",
       "    </tr>\n",
       "    <tr>\n",
       "      <th>35957</th>\n",
       "      <td>FOXD1</td>\n",
       "      <td>Carbamazepine</td>\n",
       "      <td>affects^expression</td>\n",
       "      <td>Maternal</td>\n",
       "      <td>SNV</td>\n",
       "      <td>recurrent pregnancy loss, preeclampsia, intrau...</td>\n",
       "      <td>NaN</td>\n",
       "      <td>Homo sapiens</td>\n",
       "      <td>mRNA</td>\n",
       "    </tr>\n",
       "    <tr>\n",
       "      <th>35958</th>\n",
       "      <td>FOXD1</td>\n",
       "      <td>Choline</td>\n",
       "      <td>affects^cotreatment</td>\n",
       "      <td>Maternal</td>\n",
       "      <td>SNV</td>\n",
       "      <td>recurrent pregnancy loss, preeclampsia, intrau...</td>\n",
       "      <td>NaN</td>\n",
       "      <td>Mus musculus</td>\n",
       "      <td>gene</td>\n",
       "    </tr>\n",
       "    <tr>\n",
       "      <th>35959</th>\n",
       "      <td>FOXD1</td>\n",
       "      <td>Choline</td>\n",
       "      <td>decreases^methylation</td>\n",
       "      <td>Maternal</td>\n",
       "      <td>SNV</td>\n",
       "      <td>recurrent pregnancy loss, preeclampsia, intrau...</td>\n",
       "      <td>NaN</td>\n",
       "      <td>Mus musculus</td>\n",
       "      <td>gene</td>\n",
       "    </tr>\n",
       "    <tr>\n",
       "      <th>35960</th>\n",
       "      <td>FOXD1</td>\n",
       "      <td>Cisplatin</td>\n",
       "      <td>affects^cotreatment</td>\n",
       "      <td>Maternal</td>\n",
       "      <td>SNV</td>\n",
       "      <td>recurrent pregnancy loss, preeclampsia, intrau...</td>\n",
       "      <td>NaN</td>\n",
       "      <td>Homo sapiens</td>\n",
       "      <td>mRNA</td>\n",
       "    </tr>\n",
       "    <tr>\n",
       "      <th>35961</th>\n",
       "      <td>FOXD1</td>\n",
       "      <td>Cisplatin</td>\n",
       "      <td>decreases^expression</td>\n",
       "      <td>Maternal</td>\n",
       "      <td>SNV</td>\n",
       "      <td>recurrent pregnancy loss, preeclampsia, intrau...</td>\n",
       "      <td>NaN</td>\n",
       "      <td>Homo sapiens</td>\n",
       "      <td>mRNA</td>\n",
       "    </tr>\n",
       "    <tr>\n",
       "      <th>35962</th>\n",
       "      <td>FOXD1</td>\n",
       "      <td>Cisplatin</td>\n",
       "      <td>decreases^expression</td>\n",
       "      <td>Maternal</td>\n",
       "      <td>SNV</td>\n",
       "      <td>recurrent pregnancy loss, preeclampsia, intrau...</td>\n",
       "      <td>NaN</td>\n",
       "      <td>Homo sapiens</td>\n",
       "      <td>mRNA</td>\n",
       "    </tr>\n",
       "    <tr>\n",
       "      <th>35963</th>\n",
       "      <td>FOXD1</td>\n",
       "      <td>cobaltous chloride</td>\n",
       "      <td>increases^expression</td>\n",
       "      <td>Maternal</td>\n",
       "      <td>SNV</td>\n",
       "      <td>recurrent pregnancy loss, preeclampsia, intrau...</td>\n",
       "      <td>NaN</td>\n",
       "      <td>Homo sapiens</td>\n",
       "      <td>mRNA</td>\n",
       "    </tr>\n",
       "    <tr>\n",
       "      <th>35964</th>\n",
       "      <td>FOXD1</td>\n",
       "      <td>Coumestrol</td>\n",
       "      <td>decreases^expression</td>\n",
       "      <td>Maternal</td>\n",
       "      <td>SNV</td>\n",
       "      <td>recurrent pregnancy loss, preeclampsia, intrau...</td>\n",
       "      <td>NaN</td>\n",
       "      <td>Homo sapiens</td>\n",
       "      <td>mRNA</td>\n",
       "    </tr>\n",
       "    <tr>\n",
       "      <th>35965</th>\n",
       "      <td>FOXD1</td>\n",
       "      <td>cyclopamine</td>\n",
       "      <td>decreases^expression</td>\n",
       "      <td>Maternal</td>\n",
       "      <td>SNV</td>\n",
       "      <td>recurrent pregnancy loss, preeclampsia, intrau...</td>\n",
       "      <td>NaN</td>\n",
       "      <td>Danio rerio</td>\n",
       "      <td>mRNA</td>\n",
       "    </tr>\n",
       "    <tr>\n",
       "      <th>35966</th>\n",
       "      <td>FOXD1</td>\n",
       "      <td>Cyclosporine</td>\n",
       "      <td>decreases^methylation</td>\n",
       "      <td>Maternal</td>\n",
       "      <td>SNV</td>\n",
       "      <td>recurrent pregnancy loss, preeclampsia, intrau...</td>\n",
       "      <td>NaN</td>\n",
       "      <td>Homo sapiens</td>\n",
       "      <td>promoter</td>\n",
       "    </tr>\n",
       "    <tr>\n",
       "      <th>35967</th>\n",
       "      <td>FOXD1</td>\n",
       "      <td>decamethrin</td>\n",
       "      <td>affects^expression</td>\n",
       "      <td>Maternal</td>\n",
       "      <td>SNV</td>\n",
       "      <td>recurrent pregnancy loss, preeclampsia, intrau...</td>\n",
       "      <td>NaN</td>\n",
       "      <td>Mus musculus</td>\n",
       "      <td>mRNA</td>\n",
       "    </tr>\n",
       "    <tr>\n",
       "      <th>59451</th>\n",
       "      <td>PADI6</td>\n",
       "      <td>2,2',3',4,4',5-hexachlorobiphenyl</td>\n",
       "      <td>affects^cotreatment</td>\n",
       "      <td>Maternal</td>\n",
       "      <td>SNV</td>\n",
       "      <td>recurrent pregnancy loss</td>\n",
       "      <td>NaN</td>\n",
       "      <td>Mus musculus</td>\n",
       "      <td>mRNA</td>\n",
       "    </tr>\n",
       "    <tr>\n",
       "      <th>59452</th>\n",
       "      <td>PADI6</td>\n",
       "      <td>2,2',3',4,4',5-hexachlorobiphenyl</td>\n",
       "      <td>decreases^expression</td>\n",
       "      <td>Maternal</td>\n",
       "      <td>SNV</td>\n",
       "      <td>recurrent pregnancy loss</td>\n",
       "      <td>NaN</td>\n",
       "      <td>Mus musculus</td>\n",
       "      <td>mRNA</td>\n",
       "    </tr>\n",
       "    <tr>\n",
       "      <th>59453</th>\n",
       "      <td>PADI6</td>\n",
       "      <td>2,4,4'-trichlorobiphenyl</td>\n",
       "      <td>affects^cotreatment</td>\n",
       "      <td>Maternal</td>\n",
       "      <td>SNV</td>\n",
       "      <td>recurrent pregnancy loss</td>\n",
       "      <td>NaN</td>\n",
       "      <td>Mus musculus</td>\n",
       "      <td>mRNA</td>\n",
       "    </tr>\n",
       "    <tr>\n",
       "      <th>59454</th>\n",
       "      <td>PADI6</td>\n",
       "      <td>2,4,4'-trichlorobiphenyl</td>\n",
       "      <td>decreases^expression</td>\n",
       "      <td>Maternal</td>\n",
       "      <td>SNV</td>\n",
       "      <td>recurrent pregnancy loss</td>\n",
       "      <td>NaN</td>\n",
       "      <td>Mus musculus</td>\n",
       "      <td>mRNA</td>\n",
       "    </tr>\n",
       "    <tr>\n",
       "      <th>59455</th>\n",
       "      <td>PADI6</td>\n",
       "      <td>2,4,5,2',4',5'-hexachlorobiphenyl</td>\n",
       "      <td>affects^cotreatment</td>\n",
       "      <td>Maternal</td>\n",
       "      <td>SNV</td>\n",
       "      <td>recurrent pregnancy loss</td>\n",
       "      <td>NaN</td>\n",
       "      <td>Mus musculus</td>\n",
       "      <td>mRNA</td>\n",
       "    </tr>\n",
       "    <tr>\n",
       "      <th>59456</th>\n",
       "      <td>PADI6</td>\n",
       "      <td>2,4,5,2',4',5'-hexachlorobiphenyl</td>\n",
       "      <td>decreases^expression</td>\n",
       "      <td>Maternal</td>\n",
       "      <td>SNV</td>\n",
       "      <td>recurrent pregnancy loss</td>\n",
       "      <td>NaN</td>\n",
       "      <td>Mus musculus</td>\n",
       "      <td>mRNA</td>\n",
       "    </tr>\n",
       "    <tr>\n",
       "      <th>59457</th>\n",
       "      <td>PADI6</td>\n",
       "      <td>2,4,5,2',5'-pentachlorobiphenyl</td>\n",
       "      <td>affects^cotreatment</td>\n",
       "      <td>Maternal</td>\n",
       "      <td>SNV</td>\n",
       "      <td>recurrent pregnancy loss</td>\n",
       "      <td>NaN</td>\n",
       "      <td>Mus musculus</td>\n",
       "      <td>mRNA</td>\n",
       "    </tr>\n",
       "    <tr>\n",
       "      <th>59458</th>\n",
       "      <td>PADI6</td>\n",
       "      <td>2,4,5,2',5'-pentachlorobiphenyl</td>\n",
       "      <td>decreases^expression</td>\n",
       "      <td>Maternal</td>\n",
       "      <td>SNV</td>\n",
       "      <td>recurrent pregnancy loss</td>\n",
       "      <td>NaN</td>\n",
       "      <td>Mus musculus</td>\n",
       "      <td>mRNA</td>\n",
       "    </tr>\n",
       "    <tr>\n",
       "      <th>59459</th>\n",
       "      <td>PADI6</td>\n",
       "      <td>2,5,2',5'-tetrachlorobiphenyl</td>\n",
       "      <td>affects^cotreatment</td>\n",
       "      <td>Maternal</td>\n",
       "      <td>SNV</td>\n",
       "      <td>recurrent pregnancy loss</td>\n",
       "      <td>NaN</td>\n",
       "      <td>Mus musculus</td>\n",
       "      <td>mRNA</td>\n",
       "    </tr>\n",
       "    <tr>\n",
       "      <th>59460</th>\n",
       "      <td>PADI6</td>\n",
       "      <td>2,5,2',5'-tetrachlorobiphenyl</td>\n",
       "      <td>decreases^expression</td>\n",
       "      <td>Maternal</td>\n",
       "      <td>SNV</td>\n",
       "      <td>recurrent pregnancy loss</td>\n",
       "      <td>NaN</td>\n",
       "      <td>Mus musculus</td>\n",
       "      <td>mRNA</td>\n",
       "    </tr>\n",
       "    <tr>\n",
       "      <th>59461</th>\n",
       "      <td>PADI6</td>\n",
       "      <td>Acrylamide</td>\n",
       "      <td>decreases^expression</td>\n",
       "      <td>Maternal</td>\n",
       "      <td>SNV</td>\n",
       "      <td>recurrent pregnancy loss</td>\n",
       "      <td>NaN</td>\n",
       "      <td>Mus musculus</td>\n",
       "      <td>mRNA</td>\n",
       "    </tr>\n",
       "    <tr>\n",
       "      <th>59462</th>\n",
       "      <td>PADI6</td>\n",
       "      <td>Aflatoxin B1</td>\n",
       "      <td>affects^methylation</td>\n",
       "      <td>Maternal</td>\n",
       "      <td>SNV</td>\n",
       "      <td>recurrent pregnancy loss</td>\n",
       "      <td>NaN</td>\n",
       "      <td>Homo sapiens</td>\n",
       "      <td>intron</td>\n",
       "    </tr>\n",
       "    <tr>\n",
       "      <th>59463</th>\n",
       "      <td>PADI6</td>\n",
       "      <td>aflatoxin B2</td>\n",
       "      <td>increases^methylation</td>\n",
       "      <td>Maternal</td>\n",
       "      <td>SNV</td>\n",
       "      <td>recurrent pregnancy loss</td>\n",
       "      <td>NaN</td>\n",
       "      <td>Homo sapiens</td>\n",
       "      <td>exon</td>\n",
       "    </tr>\n",
       "    <tr>\n",
       "      <th>59464</th>\n",
       "      <td>PADI6</td>\n",
       "      <td>aflatoxin B2</td>\n",
       "      <td>increases^methylation</td>\n",
       "      <td>Maternal</td>\n",
       "      <td>SNV</td>\n",
       "      <td>recurrent pregnancy loss</td>\n",
       "      <td>NaN</td>\n",
       "      <td>Homo sapiens</td>\n",
       "      <td>intron</td>\n",
       "    </tr>\n",
       "    <tr>\n",
       "      <th>59465</th>\n",
       "      <td>PADI6</td>\n",
       "      <td>Aluminum</td>\n",
       "      <td>affects^binding</td>\n",
       "      <td>Maternal</td>\n",
       "      <td>SNV</td>\n",
       "      <td>recurrent pregnancy loss</td>\n",
       "      <td>NaN</td>\n",
       "      <td>NaN</td>\n",
       "      <td>mRNA</td>\n",
       "    </tr>\n",
       "    <tr>\n",
       "      <th>59466</th>\n",
       "      <td>PADI6</td>\n",
       "      <td>Aluminum</td>\n",
       "      <td>increases^expression</td>\n",
       "      <td>Maternal</td>\n",
       "      <td>SNV</td>\n",
       "      <td>recurrent pregnancy loss</td>\n",
       "      <td>NaN</td>\n",
       "      <td>NaN</td>\n",
       "      <td>mRNA</td>\n",
       "    </tr>\n",
       "    <tr>\n",
       "      <th>59467</th>\n",
       "      <td>PADI6</td>\n",
       "      <td>aristolochic acid I</td>\n",
       "      <td>increases^expression</td>\n",
       "      <td>Maternal</td>\n",
       "      <td>SNV</td>\n",
       "      <td>recurrent pregnancy loss</td>\n",
       "      <td>NaN</td>\n",
       "      <td>Homo sapiens</td>\n",
       "      <td>mRNA</td>\n",
       "    </tr>\n",
       "    <tr>\n",
       "      <th>59468</th>\n",
       "      <td>PADI6</td>\n",
       "      <td>Benzo(a)pyrene</td>\n",
       "      <td>affects^methylation</td>\n",
       "      <td>Maternal</td>\n",
       "      <td>SNV</td>\n",
       "      <td>recurrent pregnancy loss</td>\n",
       "      <td>NaN</td>\n",
       "      <td>Homo sapiens</td>\n",
       "      <td>intron</td>\n",
       "    </tr>\n",
       "    <tr>\n",
       "      <th>59469</th>\n",
       "      <td>PADI6</td>\n",
       "      <td>Benzo(a)pyrene</td>\n",
       "      <td>affects^methylation</td>\n",
       "      <td>Maternal</td>\n",
       "      <td>SNV</td>\n",
       "      <td>recurrent pregnancy loss</td>\n",
       "      <td>NaN</td>\n",
       "      <td>Homo sapiens</td>\n",
       "      <td>promoter</td>\n",
       "    </tr>\n",
       "    <tr>\n",
       "      <th>59470</th>\n",
       "      <td>PADI6</td>\n",
       "      <td>Benzo(a)pyrene</td>\n",
       "      <td>affects^binding</td>\n",
       "      <td>Maternal</td>\n",
       "      <td>SNV</td>\n",
       "      <td>recurrent pregnancy loss</td>\n",
       "      <td>NaN</td>\n",
       "      <td>Mus musculus</td>\n",
       "      <td>promoter</td>\n",
       "    </tr>\n",
       "    <tr>\n",
       "      <th>59471</th>\n",
       "      <td>PADI6</td>\n",
       "      <td>Benzo(a)pyrene</td>\n",
       "      <td>increases^reaction</td>\n",
       "      <td>Maternal</td>\n",
       "      <td>SNV</td>\n",
       "      <td>recurrent pregnancy loss</td>\n",
       "      <td>NaN</td>\n",
       "      <td>Mus musculus</td>\n",
       "      <td>promoter</td>\n",
       "    </tr>\n",
       "    <tr>\n",
       "      <th>59472</th>\n",
       "      <td>PADI6</td>\n",
       "      <td>bisphenol A</td>\n",
       "      <td>affects^cotreatment</td>\n",
       "      <td>Maternal</td>\n",
       "      <td>SNV</td>\n",
       "      <td>recurrent pregnancy loss</td>\n",
       "      <td>NaN</td>\n",
       "      <td>Homo sapiens</td>\n",
       "      <td>gene</td>\n",
       "    </tr>\n",
       "    <tr>\n",
       "      <th>59473</th>\n",
       "      <td>PADI6</td>\n",
       "      <td>bisphenol A</td>\n",
       "      <td>increases^methylation</td>\n",
       "      <td>Maternal</td>\n",
       "      <td>SNV</td>\n",
       "      <td>recurrent pregnancy loss</td>\n",
       "      <td>NaN</td>\n",
       "      <td>Homo sapiens</td>\n",
       "      <td>gene</td>\n",
       "    </tr>\n",
       "    <tr>\n",
       "      <th>59474</th>\n",
       "      <td>PADI6</td>\n",
       "      <td>bisphenol A</td>\n",
       "      <td>decreases^methylation</td>\n",
       "      <td>Maternal</td>\n",
       "      <td>SNV</td>\n",
       "      <td>recurrent pregnancy loss</td>\n",
       "      <td>NaN</td>\n",
       "      <td>Homo sapiens</td>\n",
       "      <td>gene</td>\n",
       "    </tr>\n",
       "    <tr>\n",
       "      <th>59475</th>\n",
       "      <td>PADI6</td>\n",
       "      <td>bisphenol A</td>\n",
       "      <td>decreases^methylation</td>\n",
       "      <td>Maternal</td>\n",
       "      <td>SNV</td>\n",
       "      <td>recurrent pregnancy loss</td>\n",
       "      <td>NaN</td>\n",
       "      <td>Mus musculus</td>\n",
       "      <td>promoter</td>\n",
       "    </tr>\n",
       "    <tr>\n",
       "      <th>59476</th>\n",
       "      <td>PADI6</td>\n",
       "      <td>bisphenol A</td>\n",
       "      <td>decreases^expression</td>\n",
       "      <td>Maternal</td>\n",
       "      <td>SNV</td>\n",
       "      <td>recurrent pregnancy loss</td>\n",
       "      <td>NaN</td>\n",
       "      <td>Rattus norvegicus</td>\n",
       "      <td>mRNA</td>\n",
       "    </tr>\n",
       "    <tr>\n",
       "      <th>59477</th>\n",
       "      <td>PADI6</td>\n",
       "      <td>Cephaloridine</td>\n",
       "      <td>increases^expression</td>\n",
       "      <td>Maternal</td>\n",
       "      <td>SNV</td>\n",
       "      <td>recurrent pregnancy loss</td>\n",
       "      <td>NaN</td>\n",
       "      <td>Rattus norvegicus</td>\n",
       "      <td>mRNA</td>\n",
       "    </tr>\n",
       "    <tr>\n",
       "      <th>59478</th>\n",
       "      <td>PADI6</td>\n",
       "      <td>CGP 52608</td>\n",
       "      <td>affects^binding</td>\n",
       "      <td>Maternal</td>\n",
       "      <td>SNV</td>\n",
       "      <td>recurrent pregnancy loss</td>\n",
       "      <td>NaN</td>\n",
       "      <td>Homo sapiens</td>\n",
       "      <td>gene</td>\n",
       "    </tr>\n",
       "    <tr>\n",
       "      <th>59479</th>\n",
       "      <td>PADI6</td>\n",
       "      <td>CGP 52608</td>\n",
       "      <td>increases^reaction</td>\n",
       "      <td>Maternal</td>\n",
       "      <td>SNV</td>\n",
       "      <td>recurrent pregnancy loss</td>\n",
       "      <td>NaN</td>\n",
       "      <td>Homo sapiens</td>\n",
       "      <td>gene</td>\n",
       "    </tr>\n",
       "  </tbody>\n",
       "</table>\n",
       "</div>"
      ],
      "text/plain": [
       "      Gene Name                                      Chemical Name  \\\n",
       "11415     AURKB         1,4-bis(2-(3,5-dichloropyridyloxy))benzene   \n",
       "11416     AURKB        16-hydroxycleroda-3,13(14)-dien-15,16-olide   \n",
       "11417     AURKB        16-hydroxycleroda-3,13(14)-dien-15,16-olide   \n",
       "11418     AURKB  1-cyclopropyl-3-(3-(5-morpholin-4-ylmethyl-1H-...   \n",
       "11419     AURKB  1-cyclopropyl-3-(3-(5-morpholin-4-ylmethyl-1H-...   \n",
       "11420     AURKB                        1-Methyl-4-phenylpyridinium   \n",
       "11421     AURKB                        1-Methyl-4-phenylpyridinium   \n",
       "11422     AURKB                           1-Naphthylisothiocyanate   \n",
       "11423     AURKB                           1-Naphthylisothiocyanate   \n",
       "11424     AURKB                  2,2',3',4,4',5-hexachlorobiphenyl   \n",
       "11425     AURKB                  2,2',3',4,4',5-hexachlorobiphenyl   \n",
       "11426     AURKB                 2,2',4,4'-tetrabromodiphenyl ether   \n",
       "11427     AURKB  2-(2-amino-3-methoxyphenyl)-4H-1-benzopyran-4-one   \n",
       "11428     AURKB  2-(2-amino-3-methoxyphenyl)-4H-1-benzopyran-4-one   \n",
       "11429     AURKB  2-(2-amino-3-methoxyphenyl)-4H-1-benzopyran-4-one   \n",
       "11430     AURKB     2,2-bis(4-hydroxyphenyl)-1,1,1-trichloroethane   \n",
       "11431     AURKB         2',3,3',4',5-pentachloro-4-hydroxybiphenyl   \n",
       "11432     AURKB  2-((3-((4-((5-(2-((3-fluorophenyl)amino)-2-oxo...   \n",
       "11433     AURKB  2-((3-((4-((5-(2-((3-fluorophenyl)amino)-2-oxo...   \n",
       "11434     AURKB  2-((3-((4-((5-(2-((3-fluorophenyl)amino)-2-oxo...   \n",
       "11435     AURKB  2-((3-((4-((5-(2-((3-fluorophenyl)amino)-2-oxo...   \n",
       "11436     AURKB  2-((3-((4-((5-(2-((3-fluorophenyl)amino)-2-oxo...   \n",
       "11437     AURKB             2,3-bis(3'-hydroxybenzyl)butyrolactone   \n",
       "11438     AURKB             2,3-bis(3'-hydroxybenzyl)butyrolactone   \n",
       "11439     AURKB                           2,4,4'-trichlorobiphenyl   \n",
       "11440     AURKB                           2,4,4'-trichlorobiphenyl   \n",
       "11441     AURKB                  2,4,5,2',4',5'-hexachlorobiphenyl   \n",
       "11442     AURKB                  2,4,5,2',4',5'-hexachlorobiphenyl   \n",
       "11443     AURKB                    2,4,5,2',5'-pentachlorobiphenyl   \n",
       "11444     AURKB                    2,4,5,2',5'-pentachlorobiphenyl   \n",
       "11445     AURKB   2-(4-morpholinyl)-8-phenyl-4H-1-benzopyran-4-one   \n",
       "11446     AURKB                      2,5,2',5'-tetrachlorobiphenyl   \n",
       "11447     AURKB                      2,5,2',5'-tetrachlorobiphenyl   \n",
       "11448     AURKB  2-methyl-2H-pyrazole-3-carboxylic acid (2-meth...   \n",
       "11449     AURKB  2-methyl-2H-pyrazole-3-carboxylic acid (2-meth...   \n",
       "11450     AURKB  2-methyl-2H-pyrazole-3-carboxylic acid (2-meth...   \n",
       "11451     AURKB  2-methyl-2H-pyrazole-3-carboxylic acid (2-meth...   \n",
       "11452     AURKB                                2-palmitoylglycerol   \n",
       "11453     AURKB  3-(1H-indazol-5-yl)-N-propylimidazo(1,2-b)pyri...   \n",
       "11454     AURKB                    3,4,5,3',4'-pentachlorobiphenyl   \n",
       "11455     AURKB                       4-(2-thiazolylazo)resorcinol   \n",
       "11456     AURKB                       4-(2-thiazolylazo)resorcinol   \n",
       "11457     AURKB  4-(4-(N-benzoylamino)anilino)-6-methoxy-7-(3-(...   \n",
       "11458     AURKB  4-(4-(N-benzoylamino)anilino)-6-methoxy-7-(3-(...   \n",
       "11459     AURKB  4-(4-(N-benzoylamino)anilino)-6-methoxy-7-(3-(...   \n",
       "11460     AURKB  4-(4-(N-benzoylamino)anilino)-6-methoxy-7-(3-(...   \n",
       "11461     AURKB  4-(4-(N-benzoylamino)anilino)-6-methoxy-7-(3-(...   \n",
       "11462     AURKB  4-chloro-N-((4-(1,1-dimethylethyl)phenyl)methy...   \n",
       "11463     AURKB  7,8-Dihydro-7,8-dihydroxybenzo(a)pyrene 9,10-o...   \n",
       "11464     AURKB                                          acetamide   \n",
       "11465     AURKB                                      Acetaminophen   \n",
       "11466     AURKB                                      Acetaminophen   \n",
       "11467     AURKB                                      Acetaminophen   \n",
       "11468     AURKB                                     Acetylcysteine   \n",
       "11469     AURKB                                     Acetylcysteine   \n",
       "11470     AURKB                                         Acrylamide   \n",
       "11471     AURKB                                         Acrylamide   \n",
       "11472     AURKB                                 adefovir dipivoxil   \n",
       "11473     AURKB                                       Aflatoxin B1   \n",
       "11474     AURKB                                       Aflatoxin B1   \n",
       "11475     AURKB                                     Air Pollutants   \n",
       "11476     AURKB                                     Air Pollutants   \n",
       "11477     AURKB                                     Air Pollutants   \n",
       "11478     AURKB                                     Air Pollutants   \n",
       "11479     AURKB                                     Air Pollutants   \n",
       "11480     AURKB                                     Air Pollutants   \n",
       "11481     AURKB                                     Air Pollutants   \n",
       "11482     AURKB                                  Ammonium Chloride   \n",
       "11483     AURKB      amphotericin B, deoxycholate drug combination   \n",
       "11484     AURKB                    Andrographis paniculata extract   \n",
       "11485     AURKB                    Andrographis paniculata extract   \n",
       "11486     AURKB                    Andrographis paniculata extract   \n",
       "11487     AURKB                                     Anthraquinones   \n",
       "11488     AURKB                                        Antimycin A   \n",
       "11489     AURKB                                 Aristolochic Acids   \n",
       "11490     AURKB                                           arsenite   \n",
       "11491     AURKB                                           arsenite   \n",
       "11492     AURKB                                           arsenite   \n",
       "11493     AURKB                                           arsenite   \n",
       "11494     AURKB                                           arsenite   \n",
       "11495     AURKB                                           arsenite   \n",
       "11496     AURKB                                      Ascorbic Acid   \n",
       "11497     AURKB                                      Ascorbic Acid   \n",
       "11498     AURKB                                           Atrazine   \n",
       "11499     AURKB                                       Azathioprine   \n",
       "11500     AURKB                                      AZD 1152-HQPA   \n",
       "11501     AURKB                                      AZD 1152-HQPA   \n",
       "11502     AURKB                                      AZD 1152-HQPA   \n",
       "11503     AURKB                                 bardoxolone methyl   \n",
       "11504     AURKB                                         belinostat   \n",
       "11505     AURKB                                         belinostat   \n",
       "11506     AURKB                                         belinostat   \n",
       "11507     AURKB                                     Benzo(a)pyrene   \n",
       "11508     AURKB                                     Benzo(a)pyrene   \n",
       "11509     AURKB                                     Benzo(a)pyrene   \n",
       "11510     AURKB                                     Benzo(a)pyrene   \n",
       "11511     AURKB    benzyloxycarbonylleucyl-leucyl-leucine aldehyde   \n",
       "11512     AURKB    benzyloxycarbonylleucyl-leucyl-leucine aldehyde   \n",
       "11513     AURKB    benzyloxycarbonylleucyl-leucyl-leucine aldehyde   \n",
       "11514     AURKB    benzyloxycarbonylleucyl-leucyl-leucine aldehyde   \n",
       "11515     AURKB    benzyloxycarbonylleucyl-leucyl-leucine aldehyde   \n",
       "11516     AURKB                                          Berberine   \n",
       "11517     AURKB                                 Biphenyl Compounds   \n",
       "11518     AURKB                                        bisphenol A   \n",
       "11519     AURKB                                        bisphenol A   \n",
       "11520     AURKB                                        bisphenol A   \n",
       "11521     AURKB                                        bisphenol A   \n",
       "11522     AURKB                                        bisphenol A   \n",
       "11523     AURKB                                        bisphenol A   \n",
       "11524     AURKB                                        bisphenol A   \n",
       "11525     AURKB                                      Blood Glucose   \n",
       "11526     AURKB                                      Blood Glucose   \n",
       "11527     AURKB                                      Blood Glucose   \n",
       "11528     AURKB                                      Blood Glucose   \n",
       "11529     AURKB                                      Blood Glucose   \n",
       "11530     AURKB                           Butylated Hydroxyanisole   \n",
       "11531     AURKB                                            Cadmium   \n",
       "11532     AURKB                                            Cadmium   \n",
       "11533     AURKB                                            Cadmium   \n",
       "11534     AURKB                                            Cadmium   \n",
       "11535     AURKB                                            Cadmium   \n",
       "11536     AURKB                                            Cadmium   \n",
       "11537     AURKB                                            Cadmium   \n",
       "11538     AURKB                                            Cadmium   \n",
       "11539     AURKB                                   Cadmium Chloride   \n",
       "11540     AURKB                                   Cadmium Chloride   \n",
       "11541     AURKB                                   Cadmium Chloride   \n",
       "11542     AURKB                                   Cadmium Chloride   \n",
       "11543     AURKB                                   Cadmium Chloride   \n",
       "11544     AURKB                                   Cadmium Chloride   \n",
       "11545     AURKB                                   Cadmium Chloride   \n",
       "11546     AURKB                                         Calcitriol   \n",
       "11547     AURKB                                         Calcitriol   \n",
       "11548     AURKB                                         Calcitriol   \n",
       "11549     AURKB                                        Cannabidiol   \n",
       "11550     AURKB                                        Cannabidiol   \n",
       "11551     AURKB                                         Carbamates   \n",
       "11552     AURKB                               Carbon Tetrachloride   \n",
       "11553     AURKB                                           catechol   \n",
       "11554     AURKB                                          Cellulose   \n",
       "11555     AURKB                                          Cellulose   \n",
       "11556     AURKB                                      Cephaloridine   \n",
       "11557     AURKB                                       Chlorambucil   \n",
       "11558     AURKB                                 chloroacetaldehyde   \n",
       "11559     AURKB                                            Choline   \n",
       "11560     AURKB                                            Choline   \n",
       "11561     AURKB                                            Choline   \n",
       "11562     AURKB                                            Choline   \n",
       "11563     AURKB                                            Choline   \n",
       "11564     AURKB                                            Choline   \n",
       "11565     AURKB                                            Choline   \n",
       "11566     AURKB                                          Cidofovir   \n",
       "11567     AURKB                                          Cisplatin   \n",
       "11568     AURKB                                          Cisplatin   \n",
       "11569     AURKB                                          Cisplatin   \n",
       "11570     AURKB                                         Clobetasol   \n",
       "11571     AURKB                                     Clodronic Acid   \n",
       "11572     AURKB                                 cobaltous chloride   \n",
       "11573     AURKB                                         Colchicine   \n",
       "11574     AURKB                                             Copper   \n",
       "11575     AURKB                                             Copper   \n",
       "11576     AURKB                                             Copper   \n",
       "11577     AURKB                         copper-1,10-phenanthroline   \n",
       "11578     AURKB                                     Copper Sulfate   \n",
       "11579     AURKB                                     Corticosterone   \n",
       "11580     AURKB                                         Coumestrol   \n",
       "11581     AURKB                                         Coumestrol   \n",
       "11582     AURKB                                         Coumestrol   \n",
       "11583     AURKB                                         Coumestrol   \n",
       "11584     AURKB                                         Coumestrol   \n",
       "11585     AURKB                                       cupric oxide   \n",
       "11586     AURKB                                          Cuprizone   \n",
       "11587     AURKB                                           Curcumin   \n",
       "11588     AURKB                                   Cyclophosphamide   \n",
       "11589     AURKB                                       Cyclosporine   \n",
       "11590     AURKB                              dan-shen root extract   \n",
       "11591     AURKB                              dan-shen root extract   \n",
       "11592     AURKB                              dan-shen root extract   \n",
       "11593     AURKB                                          Dasatinib   \n",
       "11594     AURKB                                    D-Aspartic Acid   \n",
       "11595     AURKB                                        decamethrin   \n",
       "11596     AURKB                                        Demecolcine   \n",
       "32564        F2             1,1-dimethylbutyl-1-deoxy-Delta(9)-THC   \n",
       "32565        F2             1,1-dimethylbutyl-1-deoxy-Delta(9)-THC   \n",
       "32566        F2             1,1-dimethylbutyl-1-deoxy-Delta(9)-THC   \n",
       "32567        F2             1,1-dimethylbutyl-1-deoxy-Delta(9)-THC   \n",
       "32568        F2             1,1-dimethylbutyl-1-deoxy-Delta(9)-THC   \n",
       "32569        F2             1,1-dimethylbutyl-1-deoxy-Delta(9)-THC   \n",
       "32570        F2             1,1-dimethylbutyl-1-deoxy-Delta(9)-THC   \n",
       "32571        F2             1,1-dimethylbutyl-1-deoxy-Delta(9)-THC   \n",
       "32572        F2             1,1-dimethylbutyl-1-deoxy-Delta(9)-THC   \n",
       "32573        F2             1,1-dimethylbutyl-1-deoxy-Delta(9)-THC   \n",
       "32574        F2             1,1-dimethylbutyl-1-deoxy-Delta(9)-THC   \n",
       "32575        F2             1,1-dimethylbutyl-1-deoxy-Delta(9)-THC   \n",
       "32576        F2             1,1-dimethylbutyl-1-deoxy-Delta(9)-THC   \n",
       "32577        F2             1,1-dimethylbutyl-1-deoxy-Delta(9)-THC   \n",
       "32578        F2             1,1-dimethylbutyl-1-deoxy-Delta(9)-THC   \n",
       "32579        F2             1,1-dimethylbutyl-1-deoxy-Delta(9)-THC   \n",
       "32580        F2             1,1-dimethylbutyl-1-deoxy-Delta(9)-THC   \n",
       "32581        F2             1,1-dimethylbutyl-1-deoxy-Delta(9)-THC   \n",
       "32582        F2             1,1-dimethylbutyl-1-deoxy-Delta(9)-THC   \n",
       "32583        F2             1,1-dimethylbutyl-1-deoxy-Delta(9)-THC   \n",
       "32584        F2             1,1-dimethylbutyl-1-deoxy-Delta(9)-THC   \n",
       "32585        F2             1,1-dimethylbutyl-1-deoxy-Delta(9)-THC   \n",
       "32586        F2             1,1-dimethylbutyl-1-deoxy-Delta(9)-THC   \n",
       "32587        F2             1,1-dimethylbutyl-1-deoxy-Delta(9)-THC   \n",
       "32588        F2             1,1-dimethylbutyl-1-deoxy-Delta(9)-THC   \n",
       "32589        F2             1,1-dimethylbutyl-1-deoxy-Delta(9)-THC   \n",
       "32590        F2             1,1-dimethylbutyl-1-deoxy-Delta(9)-THC   \n",
       "32591        F2             1,1-dimethylbutyl-1-deoxy-Delta(9)-THC   \n",
       "32592        F2             1,1-dimethylbutyl-1-deoxy-Delta(9)-THC   \n",
       "32593        F2             1,1-dimethylbutyl-1-deoxy-Delta(9)-THC   \n",
       "32594        F2             1,1-dimethylbutyl-1-deoxy-Delta(9)-THC   \n",
       "32595        F2             1,1-dimethylbutyl-1-deoxy-Delta(9)-THC   \n",
       "32596        F2             1,1-dimethylbutyl-1-deoxy-Delta(9)-THC   \n",
       "32597        F2             1,1-dimethylbutyl-1-deoxy-Delta(9)-THC   \n",
       "32598        F2             1,1-dimethylbutyl-1-deoxy-Delta(9)-THC   \n",
       "32599        F2             1,1-dimethylbutyl-1-deoxy-Delta(9)-THC   \n",
       "32600        F2             1,1-dimethylbutyl-1-deoxy-Delta(9)-THC   \n",
       "32601        F2             1,1-dimethylbutyl-1-deoxy-Delta(9)-THC   \n",
       "32602        F2             1,1-dimethylbutyl-1-deoxy-Delta(9)-THC   \n",
       "32603        F2             1,1-dimethylbutyl-1-deoxy-Delta(9)-THC   \n",
       "32604        F2             1,1-dimethylbutyl-1-deoxy-Delta(9)-THC   \n",
       "32605        F2             1,1-dimethylbutyl-1-deoxy-Delta(9)-THC   \n",
       "32606        F2             1,1-dimethylbutyl-1-deoxy-Delta(9)-THC   \n",
       "32607        F2             1,1-dimethylbutyl-1-deoxy-Delta(9)-THC   \n",
       "32608        F2             1,1-dimethylbutyl-1-deoxy-Delta(9)-THC   \n",
       "32609        F2             1,1-dimethylbutyl-1-deoxy-Delta(9)-THC   \n",
       "32610        F2             1,1-dimethylbutyl-1-deoxy-Delta(9)-THC   \n",
       "32611        F2             1,1-dimethylbutyl-1-deoxy-Delta(9)-THC   \n",
       "32612        F2             1,1-dimethylbutyl-1-deoxy-Delta(9)-THC   \n",
       "32613        F2             1,1-dimethylbutyl-1-deoxy-Delta(9)-THC   \n",
       "32614        F2             1,1-dimethylbutyl-1-deoxy-Delta(9)-THC   \n",
       "32615        F2             1,1-dimethylbutyl-1-deoxy-Delta(9)-THC   \n",
       "32616        F2             1,1-dimethylbutyl-1-deoxy-Delta(9)-THC   \n",
       "32617        F2             1,1-dimethylbutyl-1-deoxy-Delta(9)-THC   \n",
       "32618        F2             1,1-dimethylbutyl-1-deoxy-Delta(9)-THC   \n",
       "32619        F2             1,1-dimethylbutyl-1-deoxy-Delta(9)-THC   \n",
       "32620        F2             1,1-dimethylbutyl-1-deoxy-Delta(9)-THC   \n",
       "32621        F2             1,1-dimethylbutyl-1-deoxy-Delta(9)-THC   \n",
       "32622        F2             1,1-dimethylbutyl-1-deoxy-Delta(9)-THC   \n",
       "32623        F2             1,1-dimethylbutyl-1-deoxy-Delta(9)-THC   \n",
       "32624        F2             1,1-dimethylbutyl-1-deoxy-Delta(9)-THC   \n",
       "32625        F2             1,1-dimethylbutyl-1-deoxy-Delta(9)-THC   \n",
       "32626        F2             1,1-dimethylbutyl-1-deoxy-Delta(9)-THC   \n",
       "32627        F2             1,1-dimethylbutyl-1-deoxy-Delta(9)-THC   \n",
       "32628        F2             1,1-dimethylbutyl-1-deoxy-Delta(9)-THC   \n",
       "32629        F2             1,1-dimethylbutyl-1-deoxy-Delta(9)-THC   \n",
       "32630        F2             1,1-dimethylbutyl-1-deoxy-Delta(9)-THC   \n",
       "32631        F2             1,1-dimethylbutyl-1-deoxy-Delta(9)-THC   \n",
       "32632        F2             1,1-dimethylbutyl-1-deoxy-Delta(9)-THC   \n",
       "32633        F2             1,1-dimethylbutyl-1-deoxy-Delta(9)-THC   \n",
       "32634        F2             1,1-dimethylbutyl-1-deoxy-Delta(9)-THC   \n",
       "32635        F2             1,1-dimethylbutyl-1-deoxy-Delta(9)-THC   \n",
       "32636        F2             1,1-dimethylbutyl-1-deoxy-Delta(9)-THC   \n",
       "32637        F2             1,1-dimethylbutyl-1-deoxy-Delta(9)-THC   \n",
       "32638        F2             1,1-dimethylbutyl-1-deoxy-Delta(9)-THC   \n",
       "32639        F2             1,1-dimethylbutyl-1-deoxy-Delta(9)-THC   \n",
       "32640        F2             1,1-dimethylbutyl-1-deoxy-Delta(9)-THC   \n",
       "32641        F2             1,1-dimethylbutyl-1-deoxy-Delta(9)-THC   \n",
       "32642        F2                                      1,3-butadiene   \n",
       "32643        F2  1-(6-((3-methoxyestra-1,3,5(10)-trien-17-yl)am...   \n",
       "32644        F2  1-(6-((3-methoxyestra-1,3,5(10)-trien-17-yl)am...   \n",
       "32645        F2                       1-aminomethylphosphonic acid   \n",
       "32646        F2                       1-aminomethylphosphonic acid   \n",
       "32647        F2                        1-Methyl-3-isobutylxanthine   \n",
       "32648        F2                        1-Methyl-3-isobutylxanthine   \n",
       "32649        F2                           1-Naphthylisothiocyanate   \n",
       "32650        F2                           1-Naphthylisothiocyanate   \n",
       "32651        F2                           1-Naphthylisothiocyanate   \n",
       "32652        F2                           1-Naphthylisothiocyanate   \n",
       "32653        F2                           1-Naphthylisothiocyanate   \n",
       "32654        F2                           1-Naphthylisothiocyanate   \n",
       "32655        F2                           1-Naphthylisothiocyanate   \n",
       "32656        F2                  2,2',3',4,4',5-hexachlorobiphenyl   \n",
       "32657        F2                     2,4,3',5'-tetramethoxystilbene   \n",
       "32658        F2                     2,4,3',5'-tetramethoxystilbene   \n",
       "32659        F2                     2,4,3',5'-tetramethoxystilbene   \n",
       "32660        F2                     2,4,3',5'-tetramethoxystilbene   \n",
       "32661        F2                     2,4,3',5'-tetramethoxystilbene   \n",
       "32662        F2                     2,4-Dichlorophenoxyacetic Acid   \n",
       "32663        F2                     2,4-Dichlorophenoxyacetic Acid   \n",
       "32664        F2   2-(4-morpholinyl)-8-phenyl-4H-1-benzopyran-4-one   \n",
       "32665        F2   2-(4-morpholinyl)-8-phenyl-4H-1-benzopyran-4-one   \n",
       "32666        F2                      2,5,2',5'-tetrachlorobiphenyl   \n",
       "32667        F2                                 2,6-dinitrotoluene   \n",
       "32668        F2                                   3-dinitrobenzene   \n",
       "32669        F2              4,4'-hexafluorisopropylidene diphenol   \n",
       "32670        F2  4-(5-benzo(1,3)dioxol-5-yl-4-pyridin-2-yl-1H-i...   \n",
       "32671        F2  4-(5-benzo(1,3)dioxol-5-yl-4-pyridin-2-yl-1H-i...   \n",
       "32672        F2             8-Bromo Cyclic Adenosine Monophosphate   \n",
       "32673        F2             8-Bromo Cyclic Adenosine Monophosphate   \n",
       "32674        F2                                      Acenocoumarol   \n",
       "32675        F2                                          acetamide   \n",
       "32676        F2                                      Acetaminophen   \n",
       "32677        F2                                      Acetaminophen   \n",
       "32678        F2                                      Acetaminophen   \n",
       "32679        F2                                      Acetaminophen   \n",
       "32680        F2                                      Acetaminophen   \n",
       "32681        F2                                      Acetaminophen   \n",
       "32682        F2                                      Acetaminophen   \n",
       "32683        F2                                      Acetaminophen   \n",
       "32684        F2                                      Acetaminophen   \n",
       "32685        F2                                      Acetaminophen   \n",
       "32686        F2                                         acetochlor   \n",
       "32687        F2                                         acetochlor   \n",
       "32688        F2                              Adenosine Diphosphate   \n",
       "32689        F2                              Adenosine Diphosphate   \n",
       "32690        F2                              Adenosine Diphosphate   \n",
       "32691        F2                              Adenosine Diphosphate   \n",
       "32692        F2                              Adenosine Diphosphate   \n",
       "32693        F2                             Adenosine Triphosphate   \n",
       "32694        F2                             Adenosine Triphosphate   \n",
       "32695        F2                             Adenosine Triphosphate   \n",
       "32696        F2                             Adenosine Triphosphate   \n",
       "32697        F2                             Adenosine Triphosphate   \n",
       "32698        F2                             Adenosine Triphosphate   \n",
       "32699        F2                             Adenosine Triphosphate   \n",
       "32700        F2                             Adenosine Triphosphate   \n",
       "32701        F2                             Adenosine Triphosphate   \n",
       "32702        F2                             Adenosine Triphosphate   \n",
       "32703        F2                             Adenosine Triphosphate   \n",
       "32704        F2                             Adenosine Triphosphate   \n",
       "32705        F2                             Adenosine Triphosphate   \n",
       "32706        F2                             Adenosine Triphosphate   \n",
       "32707        F2                             Adenosine Triphosphate   \n",
       "32708        F2                             Adenosine Triphosphate   \n",
       "32709        F2                             Adenosine Triphosphate   \n",
       "32710        F2                             Adenosine Triphosphate   \n",
       "32711        F2                                       Aflatoxin B1   \n",
       "32712        F2                                          Aldehydes   \n",
       "32713        F2                                           Aluminum   \n",
       "32714        F2                                           Aluminum   \n",
       "32715        F2                                         Amiodarone   \n",
       "32716        F2                                         Amiodarone   \n",
       "32717        F2                                         Amiodarone   \n",
       "32718        F2                                  Ammonium Chloride   \n",
       "32719        F2                                        Amphetamine   \n",
       "32720        F2                                        Amphetamine   \n",
       "32721        F2                                      Antithrombins   \n",
       "32722        F2                                         Antivenins   \n",
       "32723        F2                                         Antivenins   \n",
       "32724        F2                                         Antivenins   \n",
       "32725        F2                                           Apigenin   \n",
       "32726        F2                                           Apigenin   \n",
       "32727        F2                  apigenin-6,8-di-C-glycopyranoside   \n",
       "32728        F2                  apigenin-6,8-di-C-glycopyranoside   \n",
       "32729        F2                                         argatroban   \n",
       "32730        F2                                         argatroban   \n",
       "32731        F2                                         argatroban   \n",
       "32732        F2                                         argatroban   \n",
       "32733        F2                                         argatroban   \n",
       "32734        F2                                aristolochic acid I   \n",
       "32735        F2                                           arsenite   \n",
       "32736        F2                                           arsenite   \n",
       "32737        F2                                           arsenite   \n",
       "32738        F2                                           arsenite   \n",
       "32739        F2                                           arsenite   \n",
       "32740        F2                                           arsenite   \n",
       "32741        F2                                         aspalathin   \n",
       "32742        F2                                         aspalathin   \n",
       "32743        F2                                         aspalathin   \n",
       "32744        F2                                         aspalathin   \n",
       "32745        F2                                          Aspartame   \n",
       "32746        F2                                          Aspartame   \n",
       "32747        F2                                            Aspirin   \n",
       "32748        F2                                            Aspirin   \n",
       "32749        F2                                            Aspirin   \n",
       "32750        F2                                       Atorvastatin   \n",
       "32751        F2                                           Atropine   \n",
       "32752        F2                                           Atropine   \n",
       "32753        F2                                           Atropine   \n",
       "32754        F2                                           Atropine   \n",
       "32755        F2                                             Barium   \n",
       "32756        F2                                             Barium   \n",
       "32757        F2                                             Barium   \n",
       "32758        F2                                           BCH 2763   \n",
       "32759        F2                                     Benzo(a)pyrene   \n",
       "32760        F2                                     Benzo(a)pyrene   \n",
       "32761        F2                                     Benzo(a)pyrene   \n",
       "32762        F2                                     Benzo(a)pyrene   \n",
       "32763        F2                               Benzophenanthridines   \n",
       "32764        F2                                         Bexarotene   \n",
       "32765        F2                        bis(4-hydroxyphenyl)sulfone   \n",
       "32766        F2                        bis(4-hydroxyphenyl)sulfone   \n",
       "32767        F2                                        bisphenol A   \n",
       "32768        F2                                        bisphenol A   \n",
       "32769        F2                                        bisphenol A   \n",
       "32770        F2                                        bisphenol A   \n",
       "32771        F2                                        bisphenol A   \n",
       "32772        F2                                        bisphenol A   \n",
       "32773        F2                                        bisphenol A   \n",
       "32774        F2                                        bisphenol A   \n",
       "32775        F2                                        bisphenol A   \n",
       "32776        F2                                        bisphenol F   \n",
       "32777        F2                                        bivalirudin   \n",
       "32778        F2                                        bivalirudin   \n",
       "32779        F2                                        bivalirudin   \n",
       "32780        F2                                        bivalirudin   \n",
       "32781        F2                                        bivalirudin   \n",
       "32782        F2                                        bivalirudin   \n",
       "32783        F2                                        bivalirudin   \n",
       "32784        F2                                        bivalirudin   \n",
       "32785        F2                                        bivalirudin   \n",
       "32786        F2                                        bivalirudin   \n",
       "32787        F2                                        bivalirudin   \n",
       "32788        F2                                        bivalirudin   \n",
       "32789        F2                                        bivalirudin   \n",
       "32790        F2                                      bothrojaracin   \n",
       "32791        F2                                      bothrojaracin   \n",
       "32792        F2                                       butylparaben   \n",
       "32793        F2                                      butyraldehyde   \n",
       "32794        F2                                            Cadmium   \n",
       "32795        F2                                            Cadmium   \n",
       "32796        F2                                   Cadmium Chloride   \n",
       "32797        F2                                            Calcium   \n",
       "32798        F2                                            Calcium   \n",
       "32799        F2                                            Calcium   \n",
       "32800        F2                                            Calcium   \n",
       "32801        F2                                            Calcium   \n",
       "32802        F2                                            Calcium   \n",
       "32803        F2                                            Calcium   \n",
       "32804        F2                                            Calcium   \n",
       "32805        F2                                            Calcium   \n",
       "32806        F2                                            Calcium   \n",
       "32807        F2                                            Calcium   \n",
       "32808        F2                                            Calcium   \n",
       "32809        F2                                            Calcium   \n",
       "32810        F2                                            Calcium   \n",
       "32811        F2                                            Calcium   \n",
       "32812        F2                                            Calcium   \n",
       "32813        F2                                            Calcium   \n",
       "32814        F2                                   Calcium Chloride   \n",
       "32815        F2                                   Calcium Chloride   \n",
       "32816        F2                                   Calcium Chloride   \n",
       "32817        F2                                   Calcium Chloride   \n",
       "32818        F2                                   Calcium Chloride   \n",
       "32819        F2                                   Calcium Chloride   \n",
       "32820        F2                                   Calcium Chloride   \n",
       "32821        F2                                   Calcium Chloride   \n",
       "32822        F2                                      calmidazolium   \n",
       "32823        F2                                      calmidazolium   \n",
       "32824        F2                                          Capsaicin   \n",
       "32825        F2                               Carbon Tetrachloride   \n",
       "32826        F2                               Carbon Tetrachloride   \n",
       "32827        F2                               Carbon Tetrachloride   \n",
       "32828        F2                               Carbon Tetrachloride   \n",
       "32829        F2                                          Cellulose   \n",
       "32830        F2                                          Cellulose   \n",
       "32831        F2                                       cerivastatin   \n",
       "32832        F2                                       cerivastatin   \n",
       "32833        F2                                           Chlorine   \n",
       "32834        F2                                           Chlorine   \n",
       "32835        F2                                           Chlorine   \n",
       "32836        F2                      Chlorodiphenyl (54% Chlorine)   \n",
       "32837        F2                                   Chlorogenic Acid   \n",
       "32838        F2                                     Chlorpromazine   \n",
       "32839        F2                                       Chlorpyrifos   \n",
       "32840        F2                                       Chlorpyrifos   \n",
       "32841        F2                               Cholesterol, Dietary   \n",
       "32842        F2                               Cholesterol, Dietary   \n",
       "32843        F2                                           Clobazam   \n",
       "32844        F2                                           Clobazam   \n",
       "32845        F2                                           Clobazam   \n",
       "32846        F2                                         Clofibrate   \n",
       "32847        F2                                        Clopidogrel   \n",
       "32848        F2                                        Clopidogrel   \n",
       "32849        F2                                       clothianidin   \n",
       "32850        F2                                             Cobalt   \n",
       "32851        F2                                             Cobalt   \n",
       "32852        F2                                             Cobalt   \n",
       "32853        F2                                         Colchicine   \n",
       "32854        F2                                          Colforsin   \n",
       "32855        F2                                          Colforsin   \n",
       "32856        F2                                          Colforsin   \n",
       "32857        F2                                          Colforsin   \n",
       "32858        F2                                          Colforsin   \n",
       "32859        F2                                          Colforsin   \n",
       "32860        F2                               Contraceptives, Oral   \n",
       "32861        F2                               Contraceptives, Oral   \n",
       "32862        F2                               Contraceptives, Oral   \n",
       "32863        F2                     Contraceptives, Oral, Combined   \n",
       "32864        F2                                             Copper   \n",
       "32865        F2                                             Copper   \n",
       "32866        F2                                     Copper Sulfate   \n",
       "32867        F2                                    Crotalid Venoms   \n",
       "32868        F2                                    Crotalid Venoms   \n",
       "32869        F2                                    Crotalid Venoms   \n",
       "32870        F2                                    Crotalid Venoms   \n",
       "32871        F2                                    Crotalid Venoms   \n",
       "32872        F2                                    Crotalid Venoms   \n",
       "32873        F2                                    Crotalid Venoms   \n",
       "32874        F2                                    cupric chloride   \n",
       "32875        F2                                           Curcumin   \n",
       "32876        F2                                           Curcumin   \n",
       "32877        F2                                           Curcumin   \n",
       "32878        F2                                           Curcumin   \n",
       "32879        F2                                           Curcumin   \n",
       "32880        F2                                           Curcumin   \n",
       "32881        F2                                           Curcumin   \n",
       "32882        F2                                           Curcumin   \n",
       "32883        F2                                           CVS 1123   \n",
       "32884        F2                                         Cyclic AMP   \n",
       "32885        F2                                         Cyclic AMP   \n",
       "32886        F2                                         Cyclic AMP   \n",
       "32887        F2                                      Cycloheximide   \n",
       "32888        F2                                      Cycloheximide   \n",
       "32889        F2                                       Cyclosporine   \n",
       "32890        F2                                       Cyclosporine   \n",
       "32891        F2                                       Cyclosporine   \n",
       "32892        F2                                         Cytarabine   \n",
       "32893        F2                                         Dabigatran   \n",
       "32894        F2                                         Dabigatran   \n",
       "32895        F2                                         Dalteparin   \n",
       "32896        F2                                         Dalteparin   \n",
       "32897        F2                                         Dalteparin   \n",
       "32898        F2                                         Dalteparin   \n",
       "32899        F2                                         danaparoid   \n",
       "32900        F2                                         danaparoid   \n",
       "32901        F2                                     deoxynivalenol   \n",
       "32902        F2                                   Dermatan Sulfate   \n",
       "32903        F2                                   Dermatan Sulfate   \n",
       "32904        F2                                      Dexamethasone   \n",
       "32905        F2                                      Dexamethasone   \n",
       "32906        F2                                      Dexamethasone   \n",
       "32907        F2                                      Dexamethasone   \n",
       "32908        F2                                      Dexamethasone   \n",
       "32909        F2                                      Dexamethasone   \n",
       "32910        F2                                      Dexamethasone   \n",
       "32911        F2                                      Dexamethasone   \n",
       "32912        F2                                      Dexamethasone   \n",
       "32913        F5                                      1,3-butadiene   \n",
       "32914        F5                           1-Naphthylisothiocyanate   \n",
       "32915        F5                           1-Naphthylisothiocyanate   \n",
       "32916        F5                  2,2',3',4,4',5-hexachlorobiphenyl   \n",
       "32917        F5                   2,3-dimethoxy-1,4-naphthoquinone   \n",
       "32918        F5                               2,4,6-tribromophenol   \n",
       "32919        F5                                 2,4-dinitrotoluene   \n",
       "32920        F5                                 2,6-dinitrotoluene   \n",
       "32921        F5                                 2,6-dinitrotoluene   \n",
       "32922        F5                        2-amino-2-methyl-1-propanol   \n",
       "32923        F5                                2-palmitoylglycerol   \n",
       "32924        F5                      3,4,3',4'-tetrachlorobiphenyl   \n",
       "32925        F5                      3,4,3',4'-tetrachlorobiphenyl   \n",
       "32926        F5                        4,4'-diaminodiphenylmethane   \n",
       "32927        F5  4-(5-benzo(1,3)dioxol-5-yl-4-pyridin-2-yl-1H-i...   \n",
       "32928        F5  4-(5-benzo(1,3)dioxol-5-yl-4-pyridin-2-yl-1H-i...   \n",
       "32929        F5  4-(5-benzo(1,3)dioxol-5-yl-4-pyridin-2-yl-1H-i...   \n",
       "32930        F5  4-(5-benzo(1,3)dioxol-5-yl-4-pyridin-2-yl-1H-i...   \n",
       "32931        F5  4-(5-benzo(1,3)dioxol-5-yl-4-pyridin-2-yl-1H-i...   \n",
       "32932        F5  4-(5-benzo(1,3)dioxol-5-yl-4-pyridin-2-yl-1H-i...   \n",
       "32933        F5  4-(5-benzo(1,3)dioxol-5-yl-4-pyridin-2-yl-1H-i...   \n",
       "32934        F5  4-(5-benzo(1,3)dioxol-5-yl-4-pyridin-2-yl-1H-i...   \n",
       "32935        F5  4-(5-benzo(1,3)dioxol-5-yl-4-pyridin-2-yl-1H-i...   \n",
       "32936        F5  4-(5-benzo(1,3)dioxol-5-yl-4-pyridin-2-yl-1H-i...   \n",
       "32937        F5  7,8-Dihydro-7,8-dihydroxybenzo(a)pyrene 9,10-o...   \n",
       "32938        F5                                             abrine   \n",
       "32939        F5                                      Acenocoumarol   \n",
       "32940        F5                                          acetamide   \n",
       "32941        F5                                      Acetaminophen   \n",
       "32942        F5                                      Acetaminophen   \n",
       "32943        F5                                      Acetaminophen   \n",
       "32944        F5                                      Acetaminophen   \n",
       "32945        F5                                      Acetaminophen   \n",
       "32946        F5                                      Acetaminophen   \n",
       "32947        F5                                      Acetaminophen   \n",
       "32948        F5                                         Acrylamide   \n",
       "32949        F5                                         Acrylamide   \n",
       "32950        F5                                       Aflatoxin B1   \n",
       "32951        F5                                       Aflatoxin B1   \n",
       "32952        F5                                       Aflatoxin B1   \n",
       "32953        F5                                       Aflatoxin B1   \n",
       "32954        F5                                     Air Pollutants   \n",
       "32955        F5                                     Air Pollutants   \n",
       "32956        F5                                          Aldehydes   \n",
       "32957        F5                                           Antimony   \n",
       "32958        F5                        Antimony Potassium Tartrate   \n",
       "32959        F5                               Antirheumatic Agents   \n",
       "32960        F5                                            Arsenic   \n",
       "32961        F5                                            Arsenic   \n",
       "32962        F5                                            Arsenic   \n",
       "32963        F5                                   Arsenic Trioxide   \n",
       "32964        F5                                         aspalathin   \n",
       "32965        F5                                         aspalathin   \n",
       "32966        F5                                         aspalathin   \n",
       "32967        F5                                       Atorvastatin   \n",
       "32968        F5                                           Atrazine   \n",
       "32969        F5                                       Azoxymethane   \n",
       "32970        F5                                       Azoxymethane   \n",
       "32971        F5                                     Beclomethasone   \n",
       "32972        F5                                            Benzene   \n",
       "32973        F5                                     Benzo(a)pyrene   \n",
       "32974        F5                                     Benzo(a)pyrene   \n",
       "32975        F5                                     Benzo(a)pyrene   \n",
       "32976        F5                                beta-Naphthoflavone   \n",
       "32977        F5                        bis(4-hydroxyphenyl)sulfone   \n",
       "32978        F5                        bis(4-hydroxyphenyl)sulfone   \n",
       "32979        F5                                        bisphenol A   \n",
       "32980        F5                                        bisphenol A   \n",
       "32981        F5                                        bisphenol A   \n",
       "32982        F5                                        bisphenol A   \n",
       "32983        F5                                        bisphenol A   \n",
       "32984        F5                                        bisphenol A   \n",
       "32985        F5                                        bisphenol A   \n",
       "32986        F5                                        bisphenol A   \n",
       "32987        F5                                        bisphenol A   \n",
       "32988        F5                                        bisphenol A   \n",
       "32989        F5                                        bisphenol A   \n",
       "32990        F5                                        bisphenol F   \n",
       "32991        F5                                       butylparaben   \n",
       "32992        F5                                      butyraldehyde   \n",
       "32993        F5                                            Cadmium   \n",
       "32994        F5                                            Cadmium   \n",
       "32995        F5                                            Cadmium   \n",
       "32996        F5                                            Cadmium   \n",
       "32997        F5                                   Cadmium Chloride   \n",
       "32998        F5                                   Cadmium Chloride   \n",
       "32999        F5                                         Calcitriol   \n",
       "33000        F5                                         Calcitriol   \n",
       "33001        F5                                         Calcitriol   \n",
       "33002        F5                                   Calcium Chloride   \n",
       "33003        F5                                   Calcium Chloride   \n",
       "33004        F5                                   Calcium Chloride   \n",
       "33005        F5                                   Calcium Chloride   \n",
       "33006        F5                                   Calcium Chloride   \n",
       "33007        F5                                   Calcium Chloride   \n",
       "33008        F5                                   Calcium Chloride   \n",
       "33009        F5                                   Calcium Chloride   \n",
       "33010        F5                                        Cannabidiol   \n",
       "33011        F5                               Carbon Tetrachloride   \n",
       "33012        F5                               Carbon Tetrachloride   \n",
       "33013        F5                                          Cellulose   \n",
       "33014        F5                                          Cellulose   \n",
       "33015        F5                                          CGP 52608   \n",
       "33016        F5                                          CGP 52608   \n",
       "33017        F5                                        Chloroprene   \n",
       "33018        F5                                       Chlorpyrifos   \n",
       "33019        F5                                       Chlorpyrifos   \n",
       "33020        F5                                       Cholic Acids   \n",
       "33021        F5                                       Cholic Acids   \n",
       "33022        F5                                           Chromium   \n",
       "33023        F5                                           chrysene   \n",
       "33024        F5                                         Clofibrate   \n",
       "33025        F5                                         Clofibrate   \n",
       "33026        F5                                         Clofibrate   \n",
       "33027        F5                                         Clofibrate   \n",
       "33028        F5                                         Clofibrate   \n",
       "33029        F5                                         Clofibrate   \n",
       "33030        F5                                         Clofibrate   \n",
       "33031        F5                                     Clofibric Acid   \n",
       "33032        F5                                     Clofibric Acid   \n",
       "33033        F5                                         Clomiphene   \n",
       "33034        F5                                 cobaltous chloride   \n",
       "33035        F5                               Contraceptives, Oral   \n",
       "33036        F5                                       Cyclosporine   \n",
       "33037        F5                                       Cyclosporine   \n",
       "33038        F5                                      cyproconazole   \n",
       "33039        F5                            decabromobiphenyl ether   \n",
       "33040        F5                                        Demecolcine   \n",
       "33041        F5                                     deoxynivalenol   \n",
       "33042        F5                                    Dextran Sulfate   \n",
       "33043        F5                                    Dextran Sulfate   \n",
       "35933     FOXD1  4-(4-((5-(4,5-dimethyl-2-nitrophenyl)-2-furany...   \n",
       "35934     FOXD1  7,8-Dihydro-7,8-dihydroxybenzo(a)pyrene 9,10-o...   \n",
       "35935     FOXD1                                             abrine   \n",
       "35936     FOXD1                                      Acetaminophen   \n",
       "35937     FOXD1                                      Acetaminophen   \n",
       "35938     FOXD1                                  Ammonium Chloride   \n",
       "35939     FOXD1                                            Arsenic   \n",
       "35940     FOXD1                                            Arsenic   \n",
       "35941     FOXD1                              Asbestos, Crocidolite   \n",
       "35942     FOXD1                                     Beclomethasone   \n",
       "35943     FOXD1                                     Benzo(a)pyrene   \n",
       "35944     FOXD1                                     Benzo(a)pyrene   \n",
       "35945     FOXD1                        bis(4-hydroxyphenyl)sulfone   \n",
       "35946     FOXD1                        bis(4-hydroxyphenyl)sulfone   \n",
       "35947     FOXD1                                        bisphenol A   \n",
       "35948     FOXD1                                        bisphenol A   \n",
       "35949     FOXD1                                        bisphenol A   \n",
       "35950     FOXD1                                        bisphenol A   \n",
       "35951     FOXD1                                        bisphenol A   \n",
       "35952     FOXD1                                        bisphenol A   \n",
       "35953     FOXD1                                        bisphenol F   \n",
       "35954     FOXD1                       caffeic acid phenethyl ester   \n",
       "35955     FOXD1                       caffeic acid phenethyl ester   \n",
       "35956     FOXD1                                        Cannabidiol   \n",
       "35957     FOXD1                                      Carbamazepine   \n",
       "35958     FOXD1                                            Choline   \n",
       "35959     FOXD1                                            Choline   \n",
       "35960     FOXD1                                          Cisplatin   \n",
       "35961     FOXD1                                          Cisplatin   \n",
       "35962     FOXD1                                          Cisplatin   \n",
       "35963     FOXD1                                 cobaltous chloride   \n",
       "35964     FOXD1                                         Coumestrol   \n",
       "35965     FOXD1                                        cyclopamine   \n",
       "35966     FOXD1                                       Cyclosporine   \n",
       "35967     FOXD1                                        decamethrin   \n",
       "59451     PADI6                  2,2',3',4,4',5-hexachlorobiphenyl   \n",
       "59452     PADI6                  2,2',3',4,4',5-hexachlorobiphenyl   \n",
       "59453     PADI6                           2,4,4'-trichlorobiphenyl   \n",
       "59454     PADI6                           2,4,4'-trichlorobiphenyl   \n",
       "59455     PADI6                  2,4,5,2',4',5'-hexachlorobiphenyl   \n",
       "59456     PADI6                  2,4,5,2',4',5'-hexachlorobiphenyl   \n",
       "59457     PADI6                    2,4,5,2',5'-pentachlorobiphenyl   \n",
       "59458     PADI6                    2,4,5,2',5'-pentachlorobiphenyl   \n",
       "59459     PADI6                      2,5,2',5'-tetrachlorobiphenyl   \n",
       "59460     PADI6                      2,5,2',5'-tetrachlorobiphenyl   \n",
       "59461     PADI6                                         Acrylamide   \n",
       "59462     PADI6                                       Aflatoxin B1   \n",
       "59463     PADI6                                       aflatoxin B2   \n",
       "59464     PADI6                                       aflatoxin B2   \n",
       "59465     PADI6                                           Aluminum   \n",
       "59466     PADI6                                           Aluminum   \n",
       "59467     PADI6                                aristolochic acid I   \n",
       "59468     PADI6                                     Benzo(a)pyrene   \n",
       "59469     PADI6                                     Benzo(a)pyrene   \n",
       "59470     PADI6                                     Benzo(a)pyrene   \n",
       "59471     PADI6                                     Benzo(a)pyrene   \n",
       "59472     PADI6                                        bisphenol A   \n",
       "59473     PADI6                                        bisphenol A   \n",
       "59474     PADI6                                        bisphenol A   \n",
       "59475     PADI6                                        bisphenol A   \n",
       "59476     PADI6                                        bisphenol A   \n",
       "59477     PADI6                                      Cephaloridine   \n",
       "59478     PADI6                                          CGP 52608   \n",
       "59479     PADI6                                          CGP 52608   \n",
       "\n",
       "                           Interaction Gene Effect Variant(s)  \\\n",
       "11415             increases^expression    Maternal        SNV   \n",
       "11416             decreases^expression    Maternal        SNV   \n",
       "11417             decreases^expression    Maternal        SNV   \n",
       "11418        decreases^phosphorylation    Maternal        SNV   \n",
       "11419        decreases^phosphorylation    Maternal        SNV   \n",
       "11420             decreases^expression    Maternal        SNV   \n",
       "11421             increases^expression    Maternal        SNV   \n",
       "11422             increases^expression    Maternal        SNV   \n",
       "11423             increases^expression    Maternal        SNV   \n",
       "11424              affects^cotreatment    Maternal        SNV   \n",
       "11425             increases^expression    Maternal        SNV   \n",
       "11426             decreases^expression    Maternal        SNV   \n",
       "11427               decreases^reaction    Maternal        SNV   \n",
       "11428              increases^abundance    Maternal        SNV   \n",
       "11429        increases^phosphorylation    Maternal        SNV   \n",
       "11430             increases^expression    Maternal        SNV   \n",
       "11431             decreases^expression    Maternal        SNV   \n",
       "11432               decreases^reaction    Maternal        SNV   \n",
       "11433        increases^phosphorylation    Maternal        SNV   \n",
       "11434        decreases^phosphorylation    Maternal        SNV   \n",
       "11435        decreases^phosphorylation    Maternal        SNV   \n",
       "11436               decreases^activity    Maternal        SNV   \n",
       "11437              affects^cotreatment    Maternal        SNV   \n",
       "11438             increases^expression    Maternal        SNV   \n",
       "11439              affects^cotreatment    Maternal        SNV   \n",
       "11440             increases^expression    Maternal        SNV   \n",
       "11441              affects^cotreatment    Maternal        SNV   \n",
       "11442             increases^expression    Maternal        SNV   \n",
       "11443              affects^cotreatment    Maternal        SNV   \n",
       "11444             increases^expression    Maternal        SNV   \n",
       "11445             decreases^expression    Maternal        SNV   \n",
       "11446              affects^cotreatment    Maternal        SNV   \n",
       "11447             increases^expression    Maternal        SNV   \n",
       "11448             decreases^expression    Maternal        SNV   \n",
       "11449               decreases^reaction    Maternal        SNV   \n",
       "11450             decreases^expression    Maternal        SNV   \n",
       "11451               decreases^reaction    Maternal        SNV   \n",
       "11452             increases^expression    Maternal        SNV   \n",
       "11453             affects^localization    Maternal        SNV   \n",
       "11454             increases^expression    Maternal        SNV   \n",
       "11455                  affects^binding    Maternal        SNV   \n",
       "11456               decreases^activity    Maternal        SNV   \n",
       "11457             affects^localization    Maternal        SNV   \n",
       "11458              affects^cotreatment    Maternal        SNV   \n",
       "11459               decreases^reaction    Maternal        SNV   \n",
       "11460        increases^phosphorylation    Maternal        SNV   \n",
       "11461               decreases^activity    Maternal        SNV   \n",
       "11462             increases^expression    Maternal        SNV   \n",
       "11463             decreases^expression    Maternal        SNV   \n",
       "11464             increases^expression    Maternal        SNV   \n",
       "11465             decreases^expression    Maternal        SNV   \n",
       "11466             increases^expression    Maternal        SNV   \n",
       "11467             increases^expression    Maternal        SNV   \n",
       "11468             affects^localization    Maternal        SNV   \n",
       "11469               decreases^reaction    Maternal        SNV   \n",
       "11470             decreases^expression    Maternal        SNV   \n",
       "11471             increases^expression    Maternal        SNV   \n",
       "11472             increases^expression    Maternal        SNV   \n",
       "11473               affects^expression    Maternal        SNV   \n",
       "11474             increases^expression    Maternal        SNV   \n",
       "11475              affects^cotreatment    Maternal        SNV   \n",
       "11476              increases^abundance    Maternal        SNV   \n",
       "11477             increases^expression    Maternal        SNV   \n",
       "11478              increases^abundance    Maternal        SNV   \n",
       "11479             increases^expression    Maternal        SNV   \n",
       "11480              increases^abundance    Maternal        SNV   \n",
       "11481             increases^expression    Maternal        SNV   \n",
       "11482               affects^expression    Maternal        SNV   \n",
       "11483             increases^expression    Maternal        SNV   \n",
       "11484              affects^cotreatment    Maternal        SNV   \n",
       "11485             decreases^expression    Maternal        SNV   \n",
       "11486               decreases^reaction    Maternal        SNV   \n",
       "11487               decreases^activity    Maternal        SNV   \n",
       "11488             increases^expression    Maternal        SNV   \n",
       "11489             increases^expression    Maternal        SNV   \n",
       "11490                  affects^binding    Maternal        SNV   \n",
       "11491               increases^reaction    Maternal        SNV   \n",
       "11492             increases^expression    Maternal        SNV   \n",
       "11493               decreases^reaction    Maternal        SNV   \n",
       "11494             increases^expression    Maternal        SNV   \n",
       "11495             decreases^expression    Maternal        SNV   \n",
       "11496              affects^cotreatment    Maternal        SNV   \n",
       "11497             increases^expression    Maternal        SNV   \n",
       "11498               affects^expression    Maternal        SNV   \n",
       "11499             decreases^expression    Maternal        SNV   \n",
       "11500               decreases^reaction    Maternal        SNV   \n",
       "11501        increases^phosphorylation    Maternal        SNV   \n",
       "11502               decreases^activity    Maternal        SNV   \n",
       "11503               decreases^activity    Maternal        SNV   \n",
       "11504               decreases^activity    Maternal        SNV   \n",
       "11505             decreases^expression    Maternal        SNV   \n",
       "11506             decreases^expression    Maternal        SNV   \n",
       "11507              affects^methylation    Maternal        SNV   \n",
       "11508             decreases^expression    Maternal        SNV   \n",
       "11509             decreases^expression    Maternal        SNV   \n",
       "11510             increases^expression    Maternal        SNV   \n",
       "11511              affects^cotreatment    Maternal        SNV   \n",
       "11512               decreases^reaction    Maternal        SNV   \n",
       "11513        increases^phosphorylation    Maternal        SNV   \n",
       "11514              affects^cotreatment    Maternal        SNV   \n",
       "11515        increases^phosphorylation    Maternal        SNV   \n",
       "11516             decreases^expression    Maternal        SNV   \n",
       "11517             increases^expression    Maternal        SNV   \n",
       "11518               affects^expression    Maternal        SNV   \n",
       "11519             decreases^expression    Maternal        SNV   \n",
       "11520             increases^expression    Maternal        SNV   \n",
       "11521             increases^expression    Maternal        SNV   \n",
       "11522             increases^expression    Maternal        SNV   \n",
       "11523               affects^expression    Maternal        SNV   \n",
       "11524             decreases^expression    Maternal        SNV   \n",
       "11525              affects^cotreatment    Maternal        SNV   \n",
       "11526             decreases^expression    Maternal        SNV   \n",
       "11527               decreases^reaction    Maternal        SNV   \n",
       "11528              affects^cotreatment    Maternal        SNV   \n",
       "11529             decreases^expression    Maternal        SNV   \n",
       "11530             increases^expression    Maternal        SNV   \n",
       "11531               decreases^reaction    Maternal        SNV   \n",
       "11532              increases^abundance    Maternal        SNV   \n",
       "11533        increases^phosphorylation    Maternal        SNV   \n",
       "11534              increases^abundance    Maternal        SNV   \n",
       "11535        increases^phosphorylation    Maternal        SNV   \n",
       "11536             increases^expression    Maternal        SNV   \n",
       "11537               decreases^reaction    Maternal        SNV   \n",
       "11538             increases^expression    Maternal        SNV   \n",
       "11539               decreases^reaction    Maternal        SNV   \n",
       "11540              increases^abundance    Maternal        SNV   \n",
       "11541        increases^phosphorylation    Maternal        SNV   \n",
       "11542               affects^expression    Maternal        SNV   \n",
       "11543              increases^abundance    Maternal        SNV   \n",
       "11544        increases^phosphorylation    Maternal        SNV   \n",
       "11545             decreases^expression    Maternal        SNV   \n",
       "11546             decreases^expression    Maternal        SNV   \n",
       "11547              affects^cotreatment    Maternal        SNV   \n",
       "11548             decreases^expression    Maternal        SNV   \n",
       "11549               affects^expression    Maternal        SNV   \n",
       "11550             increases^expression    Maternal        SNV   \n",
       "11551               affects^expression    Maternal        SNV   \n",
       "11552             increases^expression    Maternal        SNV   \n",
       "11553             increases^expression    Maternal        SNV   \n",
       "11554              affects^cotreatment    Maternal        SNV   \n",
       "11555             increases^expression    Maternal        SNV   \n",
       "11556             decreases^expression    Maternal        SNV   \n",
       "11557             decreases^expression    Maternal        SNV   \n",
       "11558               affects^expression    Maternal        SNV   \n",
       "11559              affects^cotreatment    Maternal        SNV   \n",
       "11560            decreases^methylation    Maternal        SNV   \n",
       "11561             increases^expression    Maternal        SNV   \n",
       "11562              affects^cotreatment    Maternal        SNV   \n",
       "11563            decreases^methylation    Maternal        SNV   \n",
       "11564              affects^cotreatment    Maternal        SNV   \n",
       "11565             increases^expression    Maternal        SNV   \n",
       "11566             increases^expression    Maternal        SNV   \n",
       "11567  decreases^response to substance    Maternal        SNV   \n",
       "11568             increases^expression    Maternal        SNV   \n",
       "11569             increases^expression    Maternal        SNV   \n",
       "11570             increases^expression    Maternal        SNV   \n",
       "11571             increases^expression    Maternal        SNV   \n",
       "11572             decreases^expression    Maternal        SNV   \n",
       "11573             increases^expression    Maternal        SNV   \n",
       "11574                  affects^binding    Maternal        SNV   \n",
       "11575             decreases^expression    Maternal        SNV   \n",
       "11576             increases^expression    Maternal        SNV   \n",
       "11577             increases^expression    Maternal        SNV   \n",
       "11578             decreases^expression    Maternal        SNV   \n",
       "11579             decreases^expression    Maternal        SNV   \n",
       "11580              affects^cotreatment    Maternal        SNV   \n",
       "11581             increases^expression    Maternal        SNV   \n",
       "11582              affects^cotreatment    Maternal        SNV   \n",
       "11583             increases^expression    Maternal        SNV   \n",
       "11584             increases^expression    Maternal        SNV   \n",
       "11585             decreases^expression    Maternal        SNV   \n",
       "11586             increases^expression    Maternal        SNV   \n",
       "11587             decreases^expression    Maternal        SNV   \n",
       "11588             increases^expression    Maternal        SNV   \n",
       "11589             decreases^expression    Maternal        SNV   \n",
       "11590              affects^cotreatment    Maternal        SNV   \n",
       "11591             decreases^expression    Maternal        SNV   \n",
       "11592               decreases^reaction    Maternal        SNV   \n",
       "11593             decreases^expression    Maternal        SNV   \n",
       "11594             increases^expression    Maternal        SNV   \n",
       "11595             decreases^expression    Maternal        SNV   \n",
       "11596             decreases^expression    Maternal        SNV   \n",
       "32564              affects^cotreatment    Maternal    CNV,SNV   \n",
       "32565             increases^expression    Maternal    CNV,SNV   \n",
       "32566              affects^cotreatment    Maternal    CNV,SNV   \n",
       "32567             increases^expression    Maternal    CNV,SNV   \n",
       "32568              affects^cotreatment    Maternal    CNV,SNV   \n",
       "32569             increases^expression    Maternal    CNV,SNV   \n",
       "32570              affects^cotreatment    Maternal    CNV,SNV   \n",
       "32571             increases^expression    Maternal    CNV,SNV   \n",
       "32572              affects^cotreatment    Maternal    CNV,SNV   \n",
       "32573             increases^expression    Maternal    CNV,SNV   \n",
       "32574              affects^cotreatment    Maternal    CNV,SNV   \n",
       "32575             increases^expression    Maternal    CNV,SNV   \n",
       "32576              affects^cotreatment    Maternal    CNV,SNV   \n",
       "32577             increases^expression    Maternal    CNV,SNV   \n",
       "32578        decreases^phosphorylation    Maternal    CNV,SNV   \n",
       "32579               decreases^reaction    Maternal    CNV,SNV   \n",
       "32580               decreases^reaction    Maternal    CNV,SNV   \n",
       "32581             increases^expression    Maternal    CNV,SNV   \n",
       "32582               decreases^reaction    Maternal    CNV,SNV   \n",
       "32583             increases^expression    Maternal    CNV,SNV   \n",
       "32584               decreases^reaction    Maternal    CNV,SNV   \n",
       "32585             increases^expression    Maternal    CNV,SNV   \n",
       "32586               decreases^reaction    Maternal    CNV,SNV   \n",
       "32587             increases^expression    Maternal    CNV,SNV   \n",
       "32588               decreases^reaction    Maternal    CNV,SNV   \n",
       "32589             increases^expression    Maternal    CNV,SNV   \n",
       "32590               decreases^reaction    Maternal    CNV,SNV   \n",
       "32591             increases^expression    Maternal    CNV,SNV   \n",
       "32592              affects^cotreatment    Maternal    CNV,SNV   \n",
       "32593               decreases^reaction    Maternal    CNV,SNV   \n",
       "32594             increases^expression    Maternal    CNV,SNV   \n",
       "32595              affects^cotreatment    Maternal    CNV,SNV   \n",
       "32596               decreases^reaction    Maternal    CNV,SNV   \n",
       "32597             increases^expression    Maternal    CNV,SNV   \n",
       "32598              affects^cotreatment    Maternal    CNV,SNV   \n",
       "32599               decreases^reaction    Maternal    CNV,SNV   \n",
       "32600             increases^expression    Maternal    CNV,SNV   \n",
       "32601              affects^cotreatment    Maternal    CNV,SNV   \n",
       "32602               decreases^reaction    Maternal    CNV,SNV   \n",
       "32603             increases^expression    Maternal    CNV,SNV   \n",
       "32604              affects^cotreatment    Maternal    CNV,SNV   \n",
       "32605               decreases^reaction    Maternal    CNV,SNV   \n",
       "32606             increases^expression    Maternal    CNV,SNV   \n",
       "32607              affects^cotreatment    Maternal    CNV,SNV   \n",
       "32608               decreases^reaction    Maternal    CNV,SNV   \n",
       "32609             increases^expression    Maternal    CNV,SNV   \n",
       "32610              affects^cotreatment    Maternal    CNV,SNV   \n",
       "32611               decreases^reaction    Maternal    CNV,SNV   \n",
       "32612             increases^expression    Maternal    CNV,SNV   \n",
       "32613        decreases^phosphorylation    Maternal    CNV,SNV   \n",
       "32614               decreases^reaction    Maternal    CNV,SNV   \n",
       "32615               decreases^reaction    Maternal    CNV,SNV   \n",
       "32616             increases^expression    Maternal    CNV,SNV   \n",
       "32617               decreases^reaction    Maternal    CNV,SNV   \n",
       "32618             increases^expression    Maternal    CNV,SNV   \n",
       "32619               decreases^reaction    Maternal    CNV,SNV   \n",
       "32620             increases^expression    Maternal    CNV,SNV   \n",
       "32621               decreases^reaction    Maternal    CNV,SNV   \n",
       "32622             increases^expression    Maternal    CNV,SNV   \n",
       "32623               decreases^reaction    Maternal    CNV,SNV   \n",
       "32624             increases^expression    Maternal    CNV,SNV   \n",
       "32625               decreases^reaction    Maternal    CNV,SNV   \n",
       "32626             increases^expression    Maternal    CNV,SNV   \n",
       "32627              affects^cotreatment    Maternal    CNV,SNV   \n",
       "32628               decreases^reaction    Maternal    CNV,SNV   \n",
       "32629             increases^expression    Maternal    CNV,SNV   \n",
       "32630              affects^cotreatment    Maternal    CNV,SNV   \n",
       "32631               decreases^reaction    Maternal    CNV,SNV   \n",
       "32632             increases^expression    Maternal    CNV,SNV   \n",
       "32633              affects^cotreatment    Maternal    CNV,SNV   \n",
       "32634               decreases^reaction    Maternal    CNV,SNV   \n",
       "32635             increases^expression    Maternal    CNV,SNV   \n",
       "32636               decreases^reaction    Maternal    CNV,SNV   \n",
       "32637             increases^expression    Maternal    CNV,SNV   \n",
       "32638               decreases^reaction    Maternal    CNV,SNV   \n",
       "32639             increases^expression    Maternal    CNV,SNV   \n",
       "32640               decreases^reaction    Maternal    CNV,SNV   \n",
       "32641             increases^expression    Maternal    CNV,SNV   \n",
       "32642             decreases^expression    Maternal    CNV,SNV   \n",
       "32643               decreases^reaction    Maternal    CNV,SNV   \n",
       "32644           increases^localization    Maternal    CNV,SNV   \n",
       "32645              affects^cotreatment    Maternal    CNV,SNV   \n",
       "32646             decreases^expression    Maternal    CNV,SNV   \n",
       "32647               decreases^reaction    Maternal    CNV,SNV   \n",
       "32648                 increases^uptake    Maternal    CNV,SNV   \n",
       "32649               increases^activity    Maternal    CNV,SNV   \n",
       "32650             increases^expression    Maternal    CNV,SNV   \n",
       "32651             increases^expression    Maternal    CNV,SNV   \n",
       "32652               decreases^reaction    Maternal    CNV,SNV   \n",
       "32653             increases^expression    Maternal    CNV,SNV   \n",
       "32654                 affects^reaction    Maternal    CNV,SNV   \n",
       "32655             increases^expression    Maternal    CNV,SNV   \n",
       "32656               affects^expression    Maternal    CNV,SNV   \n",
       "32657               decreases^reaction    Maternal    CNV,SNV   \n",
       "32658              increases^secretion    Maternal    CNV,SNV   \n",
       "32659              affects^cotreatment    Maternal    CNV,SNV   \n",
       "32660               decreases^reaction    Maternal    CNV,SNV   \n",
       "32661              increases^secretion    Maternal    CNV,SNV   \n",
       "32662              affects^cotreatment    Maternal    CNV,SNV   \n",
       "32663             decreases^expression    Maternal    CNV,SNV   \n",
       "32664               decreases^reaction    Maternal    CNV,SNV   \n",
       "32665           increases^localization    Maternal    CNV,SNV   \n",
       "32666               affects^expression    Maternal    CNV,SNV   \n",
       "32667               affects^expression    Maternal    CNV,SNV   \n",
       "32668               affects^expression    Maternal    CNV,SNV   \n",
       "32669             increases^expression    Maternal    CNV,SNV   \n",
       "32670              affects^cotreatment    Maternal    CNV,SNV   \n",
       "32671             increases^expression    Maternal    CNV,SNV   \n",
       "32672               decreases^reaction    Maternal    CNV,SNV   \n",
       "32673             increases^expression    Maternal    CNV,SNV   \n",
       "32674               decreases^activity    Maternal    CNV,SNV   \n",
       "32675             decreases^expression    Maternal    CNV,SNV   \n",
       "32676             decreases^expression    Maternal    CNV,SNV   \n",
       "32677             increases^expression    Maternal    CNV,SNV   \n",
       "32678             affects^localization    Maternal    CNV,SNV   \n",
       "32679               decreases^reaction    Maternal    CNV,SNV   \n",
       "32680              affects^cotreatment    Maternal    CNV,SNV   \n",
       "32681               decreases^reaction    Maternal    CNV,SNV   \n",
       "32682             increases^expression    Maternal    CNV,SNV   \n",
       "32683              affects^cotreatment    Maternal    CNV,SNV   \n",
       "32684               decreases^reaction    Maternal    CNV,SNV   \n",
       "32685              increases^secretion    Maternal    CNV,SNV   \n",
       "32686              affects^cotreatment    Maternal    CNV,SNV   \n",
       "32687             decreases^expression    Maternal    CNV,SNV   \n",
       "32688              increases^abundance    Maternal    CNV,SNV   \n",
       "32689               decreases^reaction    Maternal    CNV,SNV   \n",
       "32690              increases^abundance    Maternal    CNV,SNV   \n",
       "32691               decreases^reaction    Maternal    CNV,SNV   \n",
       "32692              increases^abundance    Maternal    CNV,SNV   \n",
       "32693               decreases^reaction    Maternal    CNV,SNV   \n",
       "32694              increases^secretion    Maternal    CNV,SNV   \n",
       "32695                 affects^reaction    Maternal    CNV,SNV   \n",
       "32696              increases^secretion    Maternal    CNV,SNV   \n",
       "32697              increases^abundance    Maternal    CNV,SNV   \n",
       "32698              increases^secretion    Maternal    CNV,SNV   \n",
       "32699                 affects^reaction    Maternal    CNV,SNV   \n",
       "32700              increases^secretion    Maternal    CNV,SNV   \n",
       "32701               decreases^reaction    Maternal    CNV,SNV   \n",
       "32702              increases^abundance    Maternal    CNV,SNV   \n",
       "32703               decreases^reaction    Maternal    CNV,SNV   \n",
       "32704              increases^abundance    Maternal    CNV,SNV   \n",
       "32705              affects^cotreatment    Maternal    CNV,SNV   \n",
       "32706               decreases^reaction    Maternal    CNV,SNV   \n",
       "32707              increases^secretion    Maternal    CNV,SNV   \n",
       "32708              increases^transport    Maternal    CNV,SNV   \n",
       "32709                 affects^reaction    Maternal    CNV,SNV   \n",
       "32710              increases^transport    Maternal    CNV,SNV   \n",
       "32711               affects^expression    Maternal    CNV,SNV   \n",
       "32712             decreases^expression    Maternal    CNV,SNV   \n",
       "32713                  affects^binding    Maternal    CNV,SNV   \n",
       "32714             decreases^expression    Maternal    CNV,SNV   \n",
       "32715               decreases^reaction    Maternal    CNV,SNV   \n",
       "32716               increases^activity    Maternal    CNV,SNV   \n",
       "32717             increases^expression    Maternal    CNV,SNV   \n",
       "32718               affects^expression    Maternal    CNV,SNV   \n",
       "32719             increases^expression    Maternal    CNV,SNV   \n",
       "32720               increases^reaction    Maternal    CNV,SNV   \n",
       "32721               decreases^activity    Maternal    CNV,SNV   \n",
       "32722               decreases^reaction    Maternal    CNV,SNV   \n",
       "32723               increases^activity    Maternal    CNV,SNV   \n",
       "32724               increases^cleavage    Maternal    CNV,SNV   \n",
       "32725               decreases^reaction    Maternal    CNV,SNV   \n",
       "32726           increases^localization    Maternal    CNV,SNV   \n",
       "32727               decreases^reaction    Maternal    CNV,SNV   \n",
       "32728             increases^expression    Maternal    CNV,SNV   \n",
       "32729                  affects^binding    Maternal    CNV,SNV   \n",
       "32730               decreases^activity    Maternal    CNV,SNV   \n",
       "32731               decreases^reaction    Maternal    CNV,SNV   \n",
       "32732             increases^expression    Maternal    CNV,SNV   \n",
       "32733               decreases^activity    Maternal    CNV,SNV   \n",
       "32734             increases^expression    Maternal    CNV,SNV   \n",
       "32735               decreases^reaction    Maternal    CNV,SNV   \n",
       "32736              increases^abundance    Maternal    CNV,SNV   \n",
       "32737               decreases^reaction    Maternal    CNV,SNV   \n",
       "32738              increases^abundance    Maternal    CNV,SNV   \n",
       "32739               decreases^reaction    Maternal    CNV,SNV   \n",
       "32740        increases^phosphorylation    Maternal    CNV,SNV   \n",
       "32741              affects^cotreatment    Maternal    CNV,SNV   \n",
       "32742               decreases^reaction    Maternal    CNV,SNV   \n",
       "32743   increases^metabolic processing    Maternal    CNV,SNV   \n",
       "32744               decreases^activity    Maternal    CNV,SNV   \n",
       "32745               decreases^activity    Maternal    CNV,SNV   \n",
       "32746               decreases^activity    Maternal    CNV,SNV   \n",
       "32747                 affects^cleavage    Maternal    CNV,SNV   \n",
       "32748                 affects^cleavage    Maternal    CNV,SNV   \n",
       "32749                 affects^reaction    Maternal    CNV,SNV   \n",
       "32750               decreases^activity    Maternal    CNV,SNV   \n",
       "32751              affects^cotreatment    Maternal    CNV,SNV   \n",
       "32752             decreases^expression    Maternal    CNV,SNV   \n",
       "32753              affects^cotreatment    Maternal    CNV,SNV   \n",
       "32754               increases^activity    Maternal    CNV,SNV   \n",
       "32755                 increases^uptake    Maternal    CNV,SNV   \n",
       "32756               decreases^reaction    Maternal    CNV,SNV   \n",
       "32757                 increases^uptake    Maternal    CNV,SNV   \n",
       "32758               decreases^activity    Maternal    CNV,SNV   \n",
       "32759             decreases^expression    Maternal    CNV,SNV   \n",
       "32760            increases^methylation    Maternal    CNV,SNV   \n",
       "32761             increases^expression    Maternal    CNV,SNV   \n",
       "32762             increases^expression    Maternal    CNV,SNV   \n",
       "32763             decreases^expression    Maternal    CNV,SNV   \n",
       "32764             decreases^expression    Maternal    CNV,SNV   \n",
       "32765             increases^expression    Maternal    CNV,SNV   \n",
       "32766            increases^methylation    Maternal    CNV,SNV   \n",
       "32767            decreases^methylation    Maternal    CNV,SNV   \n",
       "32768             increases^expression    Maternal    CNV,SNV   \n",
       "32769               affects^expression    Maternal    CNV,SNV   \n",
       "32770              affects^cotreatment    Maternal    CNV,SNV   \n",
       "32771            decreases^methylation    Maternal    CNV,SNV   \n",
       "32772             increases^expression    Maternal    CNV,SNV   \n",
       "32773               affects^expression    Maternal    CNV,SNV   \n",
       "32774             decreases^expression    Maternal    CNV,SNV   \n",
       "32775             decreases^expression    Maternal    CNV,SNV   \n",
       "32776             increases^expression    Maternal    CNV,SNV   \n",
       "32777                  affects^binding    Maternal    CNV,SNV   \n",
       "32778               decreases^activity    Maternal    CNV,SNV   \n",
       "32779               decreases^reaction    Maternal    CNV,SNV   \n",
       "32780             increases^expression    Maternal    CNV,SNV   \n",
       "32781               decreases^activity    Maternal    CNV,SNV   \n",
       "32782               increases^cleavage    Maternal    CNV,SNV   \n",
       "32783               decreases^reaction    Maternal    CNV,SNV   \n",
       "32784             increases^expression    Maternal    CNV,SNV   \n",
       "32785               decreases^reaction    Maternal    CNV,SNV   \n",
       "32786             increases^expression    Maternal    CNV,SNV   \n",
       "32787               decreases^reaction    Maternal    CNV,SNV   \n",
       "32788              increases^secretion    Maternal    CNV,SNV   \n",
       "32789               decreases^activity    Maternal    CNV,SNV   \n",
       "32790                  affects^binding    Maternal    CNV,SNV   \n",
       "32791               decreases^activity    Maternal    CNV,SNV   \n",
       "32792               affects^expression    Maternal    CNV,SNV   \n",
       "32793             decreases^expression    Maternal    CNV,SNV   \n",
       "32794                  affects^binding    Maternal    CNV,SNV   \n",
       "32795             increases^expression    Maternal    CNV,SNV   \n",
       "32796               affects^expression    Maternal    CNV,SNV   \n",
       "32797               decreases^reaction    Maternal    CNV,SNV   \n",
       "32798           increases^localization    Maternal    CNV,SNV   \n",
       "32799               decreases^reaction    Maternal    CNV,SNV   \n",
       "32800           increases^localization    Maternal    CNV,SNV   \n",
       "32801               decreases^reaction    Maternal    CNV,SNV   \n",
       "32802           increases^localization    Maternal    CNV,SNV   \n",
       "32803               decreases^reaction    Maternal    CNV,SNV   \n",
       "32804              increases^abundance    Maternal    CNV,SNV   \n",
       "32805              increases^abundance    Maternal    CNV,SNV   \n",
       "32806           increases^localization    Maternal    CNV,SNV   \n",
       "32807                 increases^uptake    Maternal    CNV,SNV   \n",
       "32808               decreases^reaction    Maternal    CNV,SNV   \n",
       "32809           increases^localization    Maternal    CNV,SNV   \n",
       "32810               decreases^reaction    Maternal    CNV,SNV   \n",
       "32811                 increases^uptake    Maternal    CNV,SNV   \n",
       "32812               decreases^reaction    Maternal    CNV,SNV   \n",
       "32813           increases^localization    Maternal    CNV,SNV   \n",
       "32814              affects^cotreatment    Maternal    CNV,SNV   \n",
       "32815               decreases^reaction    Maternal    CNV,SNV   \n",
       "32816   increases^metabolic processing    Maternal    CNV,SNV   \n",
       "32817              affects^cotreatment    Maternal    CNV,SNV   \n",
       "32818   increases^metabolic processing    Maternal    CNV,SNV   \n",
       "32819              affects^cotreatment    Maternal    CNV,SNV   \n",
       "32820               decreases^reaction    Maternal    CNV,SNV   \n",
       "32821   increases^metabolic processing    Maternal    CNV,SNV   \n",
       "32822                 affects^reaction    Maternal    CNV,SNV   \n",
       "32823              increases^secretion    Maternal    CNV,SNV   \n",
       "32824               affects^expression    Maternal    CNV,SNV   \n",
       "32825               increases^activity    Maternal    CNV,SNV   \n",
       "32826             decreases^expression    Maternal    CNV,SNV   \n",
       "32827             decreases^expression    Maternal    CNV,SNV   \n",
       "32828               decreases^reaction    Maternal    CNV,SNV   \n",
       "32829              affects^cotreatment    Maternal    CNV,SNV   \n",
       "32830             decreases^expression    Maternal    CNV,SNV   \n",
       "32831             decreases^expression    Maternal    CNV,SNV   \n",
       "32832               decreases^reaction    Maternal    CNV,SNV   \n",
       "32833             decreases^expression    Maternal    CNV,SNV   \n",
       "32834              affects^cotreatment    Maternal    CNV,SNV   \n",
       "32835               affects^expression    Maternal    CNV,SNV   \n",
       "32836             increases^expression    Maternal    CNV,SNV   \n",
       "32837               decreases^activity    Maternal    CNV,SNV   \n",
       "32838             decreases^expression    Maternal    CNV,SNV   \n",
       "32839             increases^expression    Maternal    CNV,SNV   \n",
       "32840             increases^expression    Maternal    CNV,SNV   \n",
       "32841                  affects^binding    Maternal    CNV,SNV   \n",
       "32842             increases^expression    Maternal    CNV,SNV   \n",
       "32843                  affects^binding    Maternal    CNV,SNV   \n",
       "32844              affects^cotreatment    Maternal    CNV,SNV   \n",
       "32845             increases^expression    Maternal    CNV,SNV   \n",
       "32846             decreases^expression    Maternal    CNV,SNV   \n",
       "32847               decreases^reaction    Maternal    CNV,SNV   \n",
       "32848             increases^expression    Maternal    CNV,SNV   \n",
       "32849             decreases^expression    Maternal    CNV,SNV   \n",
       "32850                 increases^uptake    Maternal    CNV,SNV   \n",
       "32851               decreases^reaction    Maternal    CNV,SNV   \n",
       "32852                 increases^uptake    Maternal    CNV,SNV   \n",
       "32853                 affects^activity    Maternal    CNV,SNV   \n",
       "32854               decreases^reaction    Maternal    CNV,SNV   \n",
       "32855                 increases^uptake    Maternal    CNV,SNV   \n",
       "32856               decreases^reaction    Maternal    CNV,SNV   \n",
       "32857             increases^expression    Maternal    CNV,SNV   \n",
       "32858               decreases^reaction    Maternal    CNV,SNV   \n",
       "32859     increases^chemical synthesis    Maternal    CNV,SNV   \n",
       "32860               increases^activity    Maternal    CNV,SNV   \n",
       "32861             increases^expression    Maternal    CNV,SNV   \n",
       "32862             increases^expression    Maternal    CNV,SNV   \n",
       "32863             increases^expression    Maternal    CNV,SNV   \n",
       "32864                  affects^binding    Maternal    CNV,SNV   \n",
       "32865             decreases^expression    Maternal    CNV,SNV   \n",
       "32866             decreases^expression    Maternal    CNV,SNV   \n",
       "32867               decreases^reaction    Maternal    CNV,SNV   \n",
       "32868               increases^activity    Maternal    CNV,SNV   \n",
       "32869               increases^cleavage    Maternal    CNV,SNV   \n",
       "32870               increases^activity    Maternal    CNV,SNV   \n",
       "32871               increases^cleavage    Maternal    CNV,SNV   \n",
       "32872               increases^activity    Maternal    CNV,SNV   \n",
       "32873               increases^cleavage    Maternal    CNV,SNV   \n",
       "32874             increases^expression    Maternal    CNV,SNV   \n",
       "32875               decreases^reaction    Maternal    CNV,SNV   \n",
       "32876             increases^expression    Maternal    CNV,SNV   \n",
       "32877               decreases^reaction    Maternal    CNV,SNV   \n",
       "32878             increases^expression    Maternal    CNV,SNV   \n",
       "32879               decreases^reaction    Maternal    CNV,SNV   \n",
       "32880             increases^expression    Maternal    CNV,SNV   \n",
       "32881               decreases^reaction    Maternal    CNV,SNV   \n",
       "32882             increases^expression    Maternal    CNV,SNV   \n",
       "32883               decreases^activity    Maternal    CNV,SNV   \n",
       "32884               decreases^reaction    Maternal    CNV,SNV   \n",
       "32885     increases^chemical synthesis    Maternal    CNV,SNV   \n",
       "32886     decreases^chemical synthesis    Maternal    CNV,SNV   \n",
       "32887               decreases^activity    Maternal    CNV,SNV   \n",
       "32888               decreases^reaction    Maternal    CNV,SNV   \n",
       "32889             decreases^expression    Maternal    CNV,SNV   \n",
       "32890             decreases^expression    Maternal    CNV,SNV   \n",
       "32891             increases^expression    Maternal    CNV,SNV   \n",
       "32892               affects^expression    Maternal    CNV,SNV   \n",
       "32893               decreases^activity    Maternal    CNV,SNV   \n",
       "32894               decreases^activity    Maternal    CNV,SNV   \n",
       "32895             increases^expression    Maternal    CNV,SNV   \n",
       "32896                  affects^binding    Maternal    CNV,SNV   \n",
       "32897             increases^expression    Maternal    CNV,SNV   \n",
       "32898             decreases^expression    Maternal    CNV,SNV   \n",
       "32899               decreases^activity    Maternal    CNV,SNV   \n",
       "32900               decreases^cleavage    Maternal    CNV,SNV   \n",
       "32901             increases^expression    Maternal    CNV,SNV   \n",
       "32902              affects^cotreatment    Maternal    CNV,SNV   \n",
       "32903               decreases^activity    Maternal    CNV,SNV   \n",
       "32904               affects^expression    Maternal    CNV,SNV   \n",
       "32905               decreases^reaction    Maternal    CNV,SNV   \n",
       "32906             increases^expression    Maternal    CNV,SNV   \n",
       "32907               affects^expression    Maternal    CNV,SNV   \n",
       "32908             increases^expression    Maternal    CNV,SNV   \n",
       "32909               increases^reaction    Maternal    CNV,SNV   \n",
       "32910               affects^expression    Maternal    CNV,SNV   \n",
       "32911             increases^expression    Maternal    CNV,SNV   \n",
       "32912               increases^reaction    Maternal    CNV,SNV   \n",
       "32913             decreases^expression    Maternal        SNV   \n",
       "32914              affects^cotreatment    Maternal        SNV   \n",
       "32915               affects^expression    Maternal        SNV   \n",
       "32916             increases^expression    Maternal        SNV   \n",
       "32917             decreases^expression    Maternal        SNV   \n",
       "32918             increases^expression    Maternal        SNV   \n",
       "32919               affects^expression    Maternal        SNV   \n",
       "32920             decreases^expression    Maternal        SNV   \n",
       "32921               affects^expression    Maternal        SNV   \n",
       "32922             decreases^expression    Maternal        SNV   \n",
       "32923             increases^expression    Maternal        SNV   \n",
       "32924               decreases^reaction    Maternal        SNV   \n",
       "32925             increases^expression    Maternal        SNV   \n",
       "32926             increases^expression    Maternal        SNV   \n",
       "32927              affects^cotreatment    Maternal        SNV   \n",
       "32928             increases^expression    Maternal        SNV   \n",
       "32929              affects^cotreatment    Maternal        SNV   \n",
       "32930             increases^expression    Maternal        SNV   \n",
       "32931              affects^cotreatment    Maternal        SNV   \n",
       "32932             increases^expression    Maternal        SNV   \n",
       "32933              affects^cotreatment    Maternal        SNV   \n",
       "32934             increases^expression    Maternal        SNV   \n",
       "32935              affects^cotreatment    Maternal        SNV   \n",
       "32936             increases^expression    Maternal        SNV   \n",
       "32937             increases^expression    Maternal        SNV   \n",
       "32938             decreases^expression    Maternal        SNV   \n",
       "32939               decreases^activity    Maternal        SNV   \n",
       "32940             decreases^expression    Maternal        SNV   \n",
       "32941             decreases^expression    Maternal        SNV   \n",
       "32942               affects^expression    Maternal        SNV   \n",
       "32943              affects^cotreatment    Maternal        SNV   \n",
       "32944               affects^expression    Maternal        SNV   \n",
       "32945              affects^cotreatment    Maternal        SNV   \n",
       "32946               affects^expression    Maternal        SNV   \n",
       "32947                 affects^reaction    Maternal        SNV   \n",
       "32948             decreases^expression    Maternal        SNV   \n",
       "32949               affects^expression    Maternal        SNV   \n",
       "32950               affects^expression    Maternal        SNV   \n",
       "32951            decreases^methylation    Maternal        SNV   \n",
       "32952             decreases^expression    Maternal        SNV   \n",
       "32953             decreases^expression    Maternal        SNV   \n",
       "32954              increases^abundance    Maternal        SNV   \n",
       "32955             increases^expression    Maternal        SNV   \n",
       "32956             decreases^expression    Maternal        SNV   \n",
       "32957             decreases^expression    Maternal        SNV   \n",
       "32958             decreases^expression    Maternal        SNV   \n",
       "32959             decreases^expression    Maternal        SNV   \n",
       "32960             decreases^expression    Maternal        SNV   \n",
       "32961              increases^abundance    Maternal        SNV   \n",
       "32962              increases^secretion    Maternal        SNV   \n",
       "32963             increases^expression    Maternal        SNV   \n",
       "32964              affects^cotreatment    Maternal        SNV   \n",
       "32965               decreases^reaction    Maternal        SNV   \n",
       "32966   increases^metabolic processing    Maternal        SNV   \n",
       "32967               decreases^activity    Maternal        SNV   \n",
       "32968             decreases^expression    Maternal        SNV   \n",
       "32969              affects^cotreatment    Maternal        SNV   \n",
       "32970             decreases^expression    Maternal        SNV   \n",
       "32971             increases^expression    Maternal        SNV   \n",
       "32972             increases^expression    Maternal        SNV   \n",
       "32973              affects^methylation    Maternal        SNV   \n",
       "32974             decreases^expression    Maternal        SNV   \n",
       "32975             increases^expression    Maternal        SNV   \n",
       "32976             decreases^expression    Maternal        SNV   \n",
       "32977            decreases^methylation    Maternal        SNV   \n",
       "32978             increases^expression    Maternal        SNV   \n",
       "32979               affects^expression    Maternal        SNV   \n",
       "32980             increases^expression    Maternal        SNV   \n",
       "32981               decreases^reaction    Maternal        SNV   \n",
       "32982              increases^abundance    Maternal        SNV   \n",
       "32983             increases^expression    Maternal        SNV   \n",
       "32984             decreases^expression    Maternal        SNV   \n",
       "32985             increases^expression    Maternal        SNV   \n",
       "32986             increases^expression    Maternal        SNV   \n",
       "32987               affects^expression    Maternal        SNV   \n",
       "32988             decreases^expression    Maternal        SNV   \n",
       "32989            increases^methylation    Maternal        SNV   \n",
       "32990             increases^expression    Maternal        SNV   \n",
       "32991             decreases^expression    Maternal        SNV   \n",
       "32992             decreases^expression    Maternal        SNV   \n",
       "32993             decreases^expression    Maternal        SNV   \n",
       "32994              increases^abundance    Maternal        SNV   \n",
       "32995                  affects^binding    Maternal        SNV   \n",
       "32996             increases^expression    Maternal        SNV   \n",
       "32997             decreases^expression    Maternal        SNV   \n",
       "32998              increases^abundance    Maternal        SNV   \n",
       "32999             increases^expression    Maternal        SNV   \n",
       "33000              affects^cotreatment    Maternal        SNV   \n",
       "33001             increases^expression    Maternal        SNV   \n",
       "33002              affects^cotreatment    Maternal        SNV   \n",
       "33003               decreases^reaction    Maternal        SNV   \n",
       "33004   increases^metabolic processing    Maternal        SNV   \n",
       "33005              affects^cotreatment    Maternal        SNV   \n",
       "33006   increases^metabolic processing    Maternal        SNV   \n",
       "33007              affects^cotreatment    Maternal        SNV   \n",
       "33008               decreases^reaction    Maternal        SNV   \n",
       "33009   increases^metabolic processing    Maternal        SNV   \n",
       "33010               affects^expression    Maternal        SNV   \n",
       "33011             decreases^expression    Maternal        SNV   \n",
       "33012             decreases^expression    Maternal        SNV   \n",
       "33013              affects^cotreatment    Maternal        SNV   \n",
       "33014             decreases^expression    Maternal        SNV   \n",
       "33015                  affects^binding    Maternal        SNV   \n",
       "33016               increases^reaction    Maternal        SNV   \n",
       "33017             increases^expression    Maternal        SNV   \n",
       "33018             decreases^expression    Maternal        SNV   \n",
       "33019             increases^expression    Maternal        SNV   \n",
       "33020              affects^cotreatment    Maternal        SNV   \n",
       "33021               affects^expression    Maternal        SNV   \n",
       "33022             decreases^expression    Maternal        SNV   \n",
       "33023             increases^expression    Maternal        SNV   \n",
       "33024              affects^cotreatment    Maternal        SNV   \n",
       "33025               affects^expression    Maternal        SNV   \n",
       "33026             decreases^expression    Maternal        SNV   \n",
       "33027              affects^cotreatment    Maternal        SNV   \n",
       "33028               affects^expression    Maternal        SNV   \n",
       "33029                 affects^reaction    Maternal        SNV   \n",
       "33030             decreases^expression    Maternal        SNV   \n",
       "33031              affects^cotreatment    Maternal        SNV   \n",
       "33032               affects^expression    Maternal        SNV   \n",
       "33033    affects^response to substance    Maternal        SNV   \n",
       "33034             decreases^expression    Maternal        SNV   \n",
       "33035  increases^response to substance    Maternal        SNV   \n",
       "33036             decreases^expression    Maternal        SNV   \n",
       "33037             decreases^expression    Maternal        SNV   \n",
       "33038             decreases^expression    Maternal        SNV   \n",
       "33039             increases^expression    Maternal        SNV   \n",
       "33040             increases^expression    Maternal        SNV   \n",
       "33041             decreases^expression    Maternal        SNV   \n",
       "33042              affects^cotreatment    Maternal        SNV   \n",
       "33043             decreases^expression    Maternal        SNV   \n",
       "35933             increases^expression    Maternal        SNV   \n",
       "35934             decreases^expression    Maternal        SNV   \n",
       "35935             increases^expression    Maternal        SNV   \n",
       "35936               affects^expression    Maternal        SNV   \n",
       "35937             increases^expression    Maternal        SNV   \n",
       "35938               affects^expression    Maternal        SNV   \n",
       "35939              increases^abundance    Maternal        SNV   \n",
       "35940             increases^expression    Maternal        SNV   \n",
       "35941             increases^expression    Maternal        SNV   \n",
       "35942             increases^expression    Maternal        SNV   \n",
       "35943            decreases^methylation    Maternal        SNV   \n",
       "35944            increases^methylation    Maternal        SNV   \n",
       "35945             increases^expression    Maternal        SNV   \n",
       "35946             increases^expression    Maternal        SNV   \n",
       "35947               affects^expression    Maternal        SNV   \n",
       "35948             decreases^expression    Maternal        SNV   \n",
       "35949             increases^expression    Maternal        SNV   \n",
       "35950              affects^methylation    Maternal        SNV   \n",
       "35951             increases^expression    Maternal        SNV   \n",
       "35952               affects^expression    Maternal        SNV   \n",
       "35953             increases^expression    Maternal        SNV   \n",
       "35954              affects^cotreatment    Maternal        SNV   \n",
       "35955             decreases^expression    Maternal        SNV   \n",
       "35956             increases^expression    Maternal        SNV   \n",
       "35957               affects^expression    Maternal        SNV   \n",
       "35958              affects^cotreatment    Maternal        SNV   \n",
       "35959            decreases^methylation    Maternal        SNV   \n",
       "35960              affects^cotreatment    Maternal        SNV   \n",
       "35961             decreases^expression    Maternal        SNV   \n",
       "35962             decreases^expression    Maternal        SNV   \n",
       "35963             increases^expression    Maternal        SNV   \n",
       "35964             decreases^expression    Maternal        SNV   \n",
       "35965             decreases^expression    Maternal        SNV   \n",
       "35966            decreases^methylation    Maternal        SNV   \n",
       "35967               affects^expression    Maternal        SNV   \n",
       "59451              affects^cotreatment    Maternal        SNV   \n",
       "59452             decreases^expression    Maternal        SNV   \n",
       "59453              affects^cotreatment    Maternal        SNV   \n",
       "59454             decreases^expression    Maternal        SNV   \n",
       "59455              affects^cotreatment    Maternal        SNV   \n",
       "59456             decreases^expression    Maternal        SNV   \n",
       "59457              affects^cotreatment    Maternal        SNV   \n",
       "59458             decreases^expression    Maternal        SNV   \n",
       "59459              affects^cotreatment    Maternal        SNV   \n",
       "59460             decreases^expression    Maternal        SNV   \n",
       "59461             decreases^expression    Maternal        SNV   \n",
       "59462              affects^methylation    Maternal        SNV   \n",
       "59463            increases^methylation    Maternal        SNV   \n",
       "59464            increases^methylation    Maternal        SNV   \n",
       "59465                  affects^binding    Maternal        SNV   \n",
       "59466             increases^expression    Maternal        SNV   \n",
       "59467             increases^expression    Maternal        SNV   \n",
       "59468              affects^methylation    Maternal        SNV   \n",
       "59469              affects^methylation    Maternal        SNV   \n",
       "59470                  affects^binding    Maternal        SNV   \n",
       "59471               increases^reaction    Maternal        SNV   \n",
       "59472              affects^cotreatment    Maternal        SNV   \n",
       "59473            increases^methylation    Maternal        SNV   \n",
       "59474            decreases^methylation    Maternal        SNV   \n",
       "59475            decreases^methylation    Maternal        SNV   \n",
       "59476             decreases^expression    Maternal        SNV   \n",
       "59477             increases^expression    Maternal        SNV   \n",
       "59478                  affects^binding    Maternal        SNV   \n",
       "59479               increases^reaction    Maternal        SNV   \n",
       "\n",
       "                                                 Disease  \\\n",
       "11415                          Pregnancy loss, recurrent   \n",
       "11416                          Pregnancy loss, recurrent   \n",
       "11417                          Pregnancy loss, recurrent   \n",
       "11418                          Pregnancy loss, recurrent   \n",
       "11419                          Pregnancy loss, recurrent   \n",
       "11420                          Pregnancy loss, recurrent   \n",
       "11421                          Pregnancy loss, recurrent   \n",
       "11422                          Pregnancy loss, recurrent   \n",
       "11423                          Pregnancy loss, recurrent   \n",
       "11424                          Pregnancy loss, recurrent   \n",
       "11425                          Pregnancy loss, recurrent   \n",
       "11426                          Pregnancy loss, recurrent   \n",
       "11427                          Pregnancy loss, recurrent   \n",
       "11428                          Pregnancy loss, recurrent   \n",
       "11429                          Pregnancy loss, recurrent   \n",
       "11430                          Pregnancy loss, recurrent   \n",
       "11431                          Pregnancy loss, recurrent   \n",
       "11432                          Pregnancy loss, recurrent   \n",
       "11433                          Pregnancy loss, recurrent   \n",
       "11434                          Pregnancy loss, recurrent   \n",
       "11435                          Pregnancy loss, recurrent   \n",
       "11436                          Pregnancy loss, recurrent   \n",
       "11437                          Pregnancy loss, recurrent   \n",
       "11438                          Pregnancy loss, recurrent   \n",
       "11439                          Pregnancy loss, recurrent   \n",
       "11440                          Pregnancy loss, recurrent   \n",
       "11441                          Pregnancy loss, recurrent   \n",
       "11442                          Pregnancy loss, recurrent   \n",
       "11443                          Pregnancy loss, recurrent   \n",
       "11444                          Pregnancy loss, recurrent   \n",
       "11445                          Pregnancy loss, recurrent   \n",
       "11446                          Pregnancy loss, recurrent   \n",
       "11447                          Pregnancy loss, recurrent   \n",
       "11448                          Pregnancy loss, recurrent   \n",
       "11449                          Pregnancy loss, recurrent   \n",
       "11450                          Pregnancy loss, recurrent   \n",
       "11451                          Pregnancy loss, recurrent   \n",
       "11452                          Pregnancy loss, recurrent   \n",
       "11453                          Pregnancy loss, recurrent   \n",
       "11454                          Pregnancy loss, recurrent   \n",
       "11455                          Pregnancy loss, recurrent   \n",
       "11456                          Pregnancy loss, recurrent   \n",
       "11457                          Pregnancy loss, recurrent   \n",
       "11458                          Pregnancy loss, recurrent   \n",
       "11459                          Pregnancy loss, recurrent   \n",
       "11460                          Pregnancy loss, recurrent   \n",
       "11461                          Pregnancy loss, recurrent   \n",
       "11462                          Pregnancy loss, recurrent   \n",
       "11463                          Pregnancy loss, recurrent   \n",
       "11464                          Pregnancy loss, recurrent   \n",
       "11465                          Pregnancy loss, recurrent   \n",
       "11466                          Pregnancy loss, recurrent   \n",
       "11467                          Pregnancy loss, recurrent   \n",
       "11468                          Pregnancy loss, recurrent   \n",
       "11469                          Pregnancy loss, recurrent   \n",
       "11470                          Pregnancy loss, recurrent   \n",
       "11471                          Pregnancy loss, recurrent   \n",
       "11472                          Pregnancy loss, recurrent   \n",
       "11473                          Pregnancy loss, recurrent   \n",
       "11474                          Pregnancy loss, recurrent   \n",
       "11475                          Pregnancy loss, recurrent   \n",
       "11476                          Pregnancy loss, recurrent   \n",
       "11477                          Pregnancy loss, recurrent   \n",
       "11478                          Pregnancy loss, recurrent   \n",
       "11479                          Pregnancy loss, recurrent   \n",
       "11480                          Pregnancy loss, recurrent   \n",
       "11481                          Pregnancy loss, recurrent   \n",
       "11482                          Pregnancy loss, recurrent   \n",
       "11483                          Pregnancy loss, recurrent   \n",
       "11484                          Pregnancy loss, recurrent   \n",
       "11485                          Pregnancy loss, recurrent   \n",
       "11486                          Pregnancy loss, recurrent   \n",
       "11487                          Pregnancy loss, recurrent   \n",
       "11488                          Pregnancy loss, recurrent   \n",
       "11489                          Pregnancy loss, recurrent   \n",
       "11490                          Pregnancy loss, recurrent   \n",
       "11491                          Pregnancy loss, recurrent   \n",
       "11492                          Pregnancy loss, recurrent   \n",
       "11493                          Pregnancy loss, recurrent   \n",
       "11494                          Pregnancy loss, recurrent   \n",
       "11495                          Pregnancy loss, recurrent   \n",
       "11496                          Pregnancy loss, recurrent   \n",
       "11497                          Pregnancy loss, recurrent   \n",
       "11498                          Pregnancy loss, recurrent   \n",
       "11499                          Pregnancy loss, recurrent   \n",
       "11500                          Pregnancy loss, recurrent   \n",
       "11501                          Pregnancy loss, recurrent   \n",
       "11502                          Pregnancy loss, recurrent   \n",
       "11503                          Pregnancy loss, recurrent   \n",
       "11504                          Pregnancy loss, recurrent   \n",
       "11505                          Pregnancy loss, recurrent   \n",
       "11506                          Pregnancy loss, recurrent   \n",
       "11507                          Pregnancy loss, recurrent   \n",
       "11508                          Pregnancy loss, recurrent   \n",
       "11509                          Pregnancy loss, recurrent   \n",
       "11510                          Pregnancy loss, recurrent   \n",
       "11511                          Pregnancy loss, recurrent   \n",
       "11512                          Pregnancy loss, recurrent   \n",
       "11513                          Pregnancy loss, recurrent   \n",
       "11514                          Pregnancy loss, recurrent   \n",
       "11515                          Pregnancy loss, recurrent   \n",
       "11516                          Pregnancy loss, recurrent   \n",
       "11517                          Pregnancy loss, recurrent   \n",
       "11518                          Pregnancy loss, recurrent   \n",
       "11519                          Pregnancy loss, recurrent   \n",
       "11520                          Pregnancy loss, recurrent   \n",
       "11521                          Pregnancy loss, recurrent   \n",
       "11522                          Pregnancy loss, recurrent   \n",
       "11523                          Pregnancy loss, recurrent   \n",
       "11524                          Pregnancy loss, recurrent   \n",
       "11525                          Pregnancy loss, recurrent   \n",
       "11526                          Pregnancy loss, recurrent   \n",
       "11527                          Pregnancy loss, recurrent   \n",
       "11528                          Pregnancy loss, recurrent   \n",
       "11529                          Pregnancy loss, recurrent   \n",
       "11530                          Pregnancy loss, recurrent   \n",
       "11531                          Pregnancy loss, recurrent   \n",
       "11532                          Pregnancy loss, recurrent   \n",
       "11533                          Pregnancy loss, recurrent   \n",
       "11534                          Pregnancy loss, recurrent   \n",
       "11535                          Pregnancy loss, recurrent   \n",
       "11536                          Pregnancy loss, recurrent   \n",
       "11537                          Pregnancy loss, recurrent   \n",
       "11538                          Pregnancy loss, recurrent   \n",
       "11539                          Pregnancy loss, recurrent   \n",
       "11540                          Pregnancy loss, recurrent   \n",
       "11541                          Pregnancy loss, recurrent   \n",
       "11542                          Pregnancy loss, recurrent   \n",
       "11543                          Pregnancy loss, recurrent   \n",
       "11544                          Pregnancy loss, recurrent   \n",
       "11545                          Pregnancy loss, recurrent   \n",
       "11546                          Pregnancy loss, recurrent   \n",
       "11547                          Pregnancy loss, recurrent   \n",
       "11548                          Pregnancy loss, recurrent   \n",
       "11549                          Pregnancy loss, recurrent   \n",
       "11550                          Pregnancy loss, recurrent   \n",
       "11551                          Pregnancy loss, recurrent   \n",
       "11552                          Pregnancy loss, recurrent   \n",
       "11553                          Pregnancy loss, recurrent   \n",
       "11554                          Pregnancy loss, recurrent   \n",
       "11555                          Pregnancy loss, recurrent   \n",
       "11556                          Pregnancy loss, recurrent   \n",
       "11557                          Pregnancy loss, recurrent   \n",
       "11558                          Pregnancy loss, recurrent   \n",
       "11559                          Pregnancy loss, recurrent   \n",
       "11560                          Pregnancy loss, recurrent   \n",
       "11561                          Pregnancy loss, recurrent   \n",
       "11562                          Pregnancy loss, recurrent   \n",
       "11563                          Pregnancy loss, recurrent   \n",
       "11564                          Pregnancy loss, recurrent   \n",
       "11565                          Pregnancy loss, recurrent   \n",
       "11566                          Pregnancy loss, recurrent   \n",
       "11567                          Pregnancy loss, recurrent   \n",
       "11568                          Pregnancy loss, recurrent   \n",
       "11569                          Pregnancy loss, recurrent   \n",
       "11570                          Pregnancy loss, recurrent   \n",
       "11571                          Pregnancy loss, recurrent   \n",
       "11572                          Pregnancy loss, recurrent   \n",
       "11573                          Pregnancy loss, recurrent   \n",
       "11574                          Pregnancy loss, recurrent   \n",
       "11575                          Pregnancy loss, recurrent   \n",
       "11576                          Pregnancy loss, recurrent   \n",
       "11577                          Pregnancy loss, recurrent   \n",
       "11578                          Pregnancy loss, recurrent   \n",
       "11579                          Pregnancy loss, recurrent   \n",
       "11580                          Pregnancy loss, recurrent   \n",
       "11581                          Pregnancy loss, recurrent   \n",
       "11582                          Pregnancy loss, recurrent   \n",
       "11583                          Pregnancy loss, recurrent   \n",
       "11584                          Pregnancy loss, recurrent   \n",
       "11585                          Pregnancy loss, recurrent   \n",
       "11586                          Pregnancy loss, recurrent   \n",
       "11587                          Pregnancy loss, recurrent   \n",
       "11588                          Pregnancy loss, recurrent   \n",
       "11589                          Pregnancy loss, recurrent   \n",
       "11590                          Pregnancy loss, recurrent   \n",
       "11591                          Pregnancy loss, recurrent   \n",
       "11592                          Pregnancy loss, recurrent   \n",
       "11593                          Pregnancy loss, recurrent   \n",
       "11594                          Pregnancy loss, recurrent   \n",
       "11595                          Pregnancy loss, recurrent   \n",
       "11596                          Pregnancy loss, recurrent   \n",
       "32564  Dysprothrombinemia; Hypoprothrombinemia; Throm...   \n",
       "32565  Dysprothrombinemia; Hypoprothrombinemia; Throm...   \n",
       "32566  Dysprothrombinemia; Hypoprothrombinemia; Throm...   \n",
       "32567  Dysprothrombinemia; Hypoprothrombinemia; Throm...   \n",
       "32568  Dysprothrombinemia; Hypoprothrombinemia; Throm...   \n",
       "32569  Dysprothrombinemia; Hypoprothrombinemia; Throm...   \n",
       "32570  Dysprothrombinemia; Hypoprothrombinemia; Throm...   \n",
       "32571  Dysprothrombinemia; Hypoprothrombinemia; Throm...   \n",
       "32572  Dysprothrombinemia; Hypoprothrombinemia; Throm...   \n",
       "32573  Dysprothrombinemia; Hypoprothrombinemia; Throm...   \n",
       "32574  Dysprothrombinemia; Hypoprothrombinemia; Throm...   \n",
       "32575  Dysprothrombinemia; Hypoprothrombinemia; Throm...   \n",
       "32576  Dysprothrombinemia; Hypoprothrombinemia; Throm...   \n",
       "32577  Dysprothrombinemia; Hypoprothrombinemia; Throm...   \n",
       "32578  Dysprothrombinemia; Hypoprothrombinemia; Throm...   \n",
       "32579  Dysprothrombinemia; Hypoprothrombinemia; Throm...   \n",
       "32580  Dysprothrombinemia; Hypoprothrombinemia; Throm...   \n",
       "32581  Dysprothrombinemia; Hypoprothrombinemia; Throm...   \n",
       "32582  Dysprothrombinemia; Hypoprothrombinemia; Throm...   \n",
       "32583  Dysprothrombinemia; Hypoprothrombinemia; Throm...   \n",
       "32584  Dysprothrombinemia; Hypoprothrombinemia; Throm...   \n",
       "32585  Dysprothrombinemia; Hypoprothrombinemia; Throm...   \n",
       "32586  Dysprothrombinemia; Hypoprothrombinemia; Throm...   \n",
       "32587  Dysprothrombinemia; Hypoprothrombinemia; Throm...   \n",
       "32588  Dysprothrombinemia; Hypoprothrombinemia; Throm...   \n",
       "32589  Dysprothrombinemia; Hypoprothrombinemia; Throm...   \n",
       "32590  Dysprothrombinemia; Hypoprothrombinemia; Throm...   \n",
       "32591  Dysprothrombinemia; Hypoprothrombinemia; Throm...   \n",
       "32592  Dysprothrombinemia; Hypoprothrombinemia; Throm...   \n",
       "32593  Dysprothrombinemia; Hypoprothrombinemia; Throm...   \n",
       "32594  Dysprothrombinemia; Hypoprothrombinemia; Throm...   \n",
       "32595  Dysprothrombinemia; Hypoprothrombinemia; Throm...   \n",
       "32596  Dysprothrombinemia; Hypoprothrombinemia; Throm...   \n",
       "32597  Dysprothrombinemia; Hypoprothrombinemia; Throm...   \n",
       "32598  Dysprothrombinemia; Hypoprothrombinemia; Throm...   \n",
       "32599  Dysprothrombinemia; Hypoprothrombinemia; Throm...   \n",
       "32600  Dysprothrombinemia; Hypoprothrombinemia; Throm...   \n",
       "32601  Dysprothrombinemia; Hypoprothrombinemia; Throm...   \n",
       "32602  Dysprothrombinemia; Hypoprothrombinemia; Throm...   \n",
       "32603  Dysprothrombinemia; Hypoprothrombinemia; Throm...   \n",
       "32604  Dysprothrombinemia; Hypoprothrombinemia; Throm...   \n",
       "32605  Dysprothrombinemia; Hypoprothrombinemia; Throm...   \n",
       "32606  Dysprothrombinemia; Hypoprothrombinemia; Throm...   \n",
       "32607  Dysprothrombinemia; Hypoprothrombinemia; Throm...   \n",
       "32608  Dysprothrombinemia; Hypoprothrombinemia; Throm...   \n",
       "32609  Dysprothrombinemia; Hypoprothrombinemia; Throm...   \n",
       "32610  Dysprothrombinemia; Hypoprothrombinemia; Throm...   \n",
       "32611  Dysprothrombinemia; Hypoprothrombinemia; Throm...   \n",
       "32612  Dysprothrombinemia; Hypoprothrombinemia; Throm...   \n",
       "32613  Dysprothrombinemia; Hypoprothrombinemia; Throm...   \n",
       "32614  Dysprothrombinemia; Hypoprothrombinemia; Throm...   \n",
       "32615  Dysprothrombinemia; Hypoprothrombinemia; Throm...   \n",
       "32616  Dysprothrombinemia; Hypoprothrombinemia; Throm...   \n",
       "32617  Dysprothrombinemia; Hypoprothrombinemia; Throm...   \n",
       "32618  Dysprothrombinemia; Hypoprothrombinemia; Throm...   \n",
       "32619  Dysprothrombinemia; Hypoprothrombinemia; Throm...   \n",
       "32620  Dysprothrombinemia; Hypoprothrombinemia; Throm...   \n",
       "32621  Dysprothrombinemia; Hypoprothrombinemia; Throm...   \n",
       "32622  Dysprothrombinemia; Hypoprothrombinemia; Throm...   \n",
       "32623  Dysprothrombinemia; Hypoprothrombinemia; Throm...   \n",
       "32624  Dysprothrombinemia; Hypoprothrombinemia; Throm...   \n",
       "32625  Dysprothrombinemia; Hypoprothrombinemia; Throm...   \n",
       "32626  Dysprothrombinemia; Hypoprothrombinemia; Throm...   \n",
       "32627  Dysprothrombinemia; Hypoprothrombinemia; Throm...   \n",
       "32628  Dysprothrombinemia; Hypoprothrombinemia; Throm...   \n",
       "32629  Dysprothrombinemia; Hypoprothrombinemia; Throm...   \n",
       "32630  Dysprothrombinemia; Hypoprothrombinemia; Throm...   \n",
       "32631  Dysprothrombinemia; Hypoprothrombinemia; Throm...   \n",
       "32632  Dysprothrombinemia; Hypoprothrombinemia; Throm...   \n",
       "32633  Dysprothrombinemia; Hypoprothrombinemia; Throm...   \n",
       "32634  Dysprothrombinemia; Hypoprothrombinemia; Throm...   \n",
       "32635  Dysprothrombinemia; Hypoprothrombinemia; Throm...   \n",
       "32636  Dysprothrombinemia; Hypoprothrombinemia; Throm...   \n",
       "32637  Dysprothrombinemia; Hypoprothrombinemia; Throm...   \n",
       "32638  Dysprothrombinemia; Hypoprothrombinemia; Throm...   \n",
       "32639  Dysprothrombinemia; Hypoprothrombinemia; Throm...   \n",
       "32640  Dysprothrombinemia; Hypoprothrombinemia; Throm...   \n",
       "32641  Dysprothrombinemia; Hypoprothrombinemia; Throm...   \n",
       "32642  Dysprothrombinemia; Hypoprothrombinemia; Throm...   \n",
       "32643  Dysprothrombinemia; Hypoprothrombinemia; Throm...   \n",
       "32644  Dysprothrombinemia; Hypoprothrombinemia; Throm...   \n",
       "32645  Dysprothrombinemia; Hypoprothrombinemia; Throm...   \n",
       "32646  Dysprothrombinemia; Hypoprothrombinemia; Throm...   \n",
       "32647  Dysprothrombinemia; Hypoprothrombinemia; Throm...   \n",
       "32648  Dysprothrombinemia; Hypoprothrombinemia; Throm...   \n",
       "32649  Dysprothrombinemia; Hypoprothrombinemia; Throm...   \n",
       "32650  Dysprothrombinemia; Hypoprothrombinemia; Throm...   \n",
       "32651  Dysprothrombinemia; Hypoprothrombinemia; Throm...   \n",
       "32652  Dysprothrombinemia; Hypoprothrombinemia; Throm...   \n",
       "32653  Dysprothrombinemia; Hypoprothrombinemia; Throm...   \n",
       "32654  Dysprothrombinemia; Hypoprothrombinemia; Throm...   \n",
       "32655  Dysprothrombinemia; Hypoprothrombinemia; Throm...   \n",
       "32656  Dysprothrombinemia; Hypoprothrombinemia; Throm...   \n",
       "32657  Dysprothrombinemia; Hypoprothrombinemia; Throm...   \n",
       "32658  Dysprothrombinemia; Hypoprothrombinemia; Throm...   \n",
       "32659  Dysprothrombinemia; Hypoprothrombinemia; Throm...   \n",
       "32660  Dysprothrombinemia; Hypoprothrombinemia; Throm...   \n",
       "32661  Dysprothrombinemia; Hypoprothrombinemia; Throm...   \n",
       "32662  Dysprothrombinemia; Hypoprothrombinemia; Throm...   \n",
       "32663  Dysprothrombinemia; Hypoprothrombinemia; Throm...   \n",
       "32664  Dysprothrombinemia; Hypoprothrombinemia; Throm...   \n",
       "32665  Dysprothrombinemia; Hypoprothrombinemia; Throm...   \n",
       "32666  Dysprothrombinemia; Hypoprothrombinemia; Throm...   \n",
       "32667  Dysprothrombinemia; Hypoprothrombinemia; Throm...   \n",
       "32668  Dysprothrombinemia; Hypoprothrombinemia; Throm...   \n",
       "32669  Dysprothrombinemia; Hypoprothrombinemia; Throm...   \n",
       "32670  Dysprothrombinemia; Hypoprothrombinemia; Throm...   \n",
       "32671  Dysprothrombinemia; Hypoprothrombinemia; Throm...   \n",
       "32672  Dysprothrombinemia; Hypoprothrombinemia; Throm...   \n",
       "32673  Dysprothrombinemia; Hypoprothrombinemia; Throm...   \n",
       "32674  Dysprothrombinemia; Hypoprothrombinemia; Throm...   \n",
       "32675  Dysprothrombinemia; Hypoprothrombinemia; Throm...   \n",
       "32676  Dysprothrombinemia; Hypoprothrombinemia; Throm...   \n",
       "32677  Dysprothrombinemia; Hypoprothrombinemia; Throm...   \n",
       "32678  Dysprothrombinemia; Hypoprothrombinemia; Throm...   \n",
       "32679  Dysprothrombinemia; Hypoprothrombinemia; Throm...   \n",
       "32680  Dysprothrombinemia; Hypoprothrombinemia; Throm...   \n",
       "32681  Dysprothrombinemia; Hypoprothrombinemia; Throm...   \n",
       "32682  Dysprothrombinemia; Hypoprothrombinemia; Throm...   \n",
       "32683  Dysprothrombinemia; Hypoprothrombinemia; Throm...   \n",
       "32684  Dysprothrombinemia; Hypoprothrombinemia; Throm...   \n",
       "32685  Dysprothrombinemia; Hypoprothrombinemia; Throm...   \n",
       "32686  Dysprothrombinemia; Hypoprothrombinemia; Throm...   \n",
       "32687  Dysprothrombinemia; Hypoprothrombinemia; Throm...   \n",
       "32688  Dysprothrombinemia; Hypoprothrombinemia; Throm...   \n",
       "32689  Dysprothrombinemia; Hypoprothrombinemia; Throm...   \n",
       "32690  Dysprothrombinemia; Hypoprothrombinemia; Throm...   \n",
       "32691  Dysprothrombinemia; Hypoprothrombinemia; Throm...   \n",
       "32692  Dysprothrombinemia; Hypoprothrombinemia; Throm...   \n",
       "32693  Dysprothrombinemia; Hypoprothrombinemia; Throm...   \n",
       "32694  Dysprothrombinemia; Hypoprothrombinemia; Throm...   \n",
       "32695  Dysprothrombinemia; Hypoprothrombinemia; Throm...   \n",
       "32696  Dysprothrombinemia; Hypoprothrombinemia; Throm...   \n",
       "32697  Dysprothrombinemia; Hypoprothrombinemia; Throm...   \n",
       "32698  Dysprothrombinemia; Hypoprothrombinemia; Throm...   \n",
       "32699  Dysprothrombinemia; Hypoprothrombinemia; Throm...   \n",
       "32700  Dysprothrombinemia; Hypoprothrombinemia; Throm...   \n",
       "32701  Dysprothrombinemia; Hypoprothrombinemia; Throm...   \n",
       "32702  Dysprothrombinemia; Hypoprothrombinemia; Throm...   \n",
       "32703  Dysprothrombinemia; Hypoprothrombinemia; Throm...   \n",
       "32704  Dysprothrombinemia; Hypoprothrombinemia; Throm...   \n",
       "32705  Dysprothrombinemia; Hypoprothrombinemia; Throm...   \n",
       "32706  Dysprothrombinemia; Hypoprothrombinemia; Throm...   \n",
       "32707  Dysprothrombinemia; Hypoprothrombinemia; Throm...   \n",
       "32708  Dysprothrombinemia; Hypoprothrombinemia; Throm...   \n",
       "32709  Dysprothrombinemia; Hypoprothrombinemia; Throm...   \n",
       "32710  Dysprothrombinemia; Hypoprothrombinemia; Throm...   \n",
       "32711  Dysprothrombinemia; Hypoprothrombinemia; Throm...   \n",
       "32712  Dysprothrombinemia; Hypoprothrombinemia; Throm...   \n",
       "32713  Dysprothrombinemia; Hypoprothrombinemia; Throm...   \n",
       "32714  Dysprothrombinemia; Hypoprothrombinemia; Throm...   \n",
       "32715  Dysprothrombinemia; Hypoprothrombinemia; Throm...   \n",
       "32716  Dysprothrombinemia; Hypoprothrombinemia; Throm...   \n",
       "32717  Dysprothrombinemia; Hypoprothrombinemia; Throm...   \n",
       "32718  Dysprothrombinemia; Hypoprothrombinemia; Throm...   \n",
       "32719  Dysprothrombinemia; Hypoprothrombinemia; Throm...   \n",
       "32720  Dysprothrombinemia; Hypoprothrombinemia; Throm...   \n",
       "32721  Dysprothrombinemia; Hypoprothrombinemia; Throm...   \n",
       "32722  Dysprothrombinemia; Hypoprothrombinemia; Throm...   \n",
       "32723  Dysprothrombinemia; Hypoprothrombinemia; Throm...   \n",
       "32724  Dysprothrombinemia; Hypoprothrombinemia; Throm...   \n",
       "32725  Dysprothrombinemia; Hypoprothrombinemia; Throm...   \n",
       "32726  Dysprothrombinemia; Hypoprothrombinemia; Throm...   \n",
       "32727  Dysprothrombinemia; Hypoprothrombinemia; Throm...   \n",
       "32728  Dysprothrombinemia; Hypoprothrombinemia; Throm...   \n",
       "32729  Dysprothrombinemia; Hypoprothrombinemia; Throm...   \n",
       "32730  Dysprothrombinemia; Hypoprothrombinemia; Throm...   \n",
       "32731  Dysprothrombinemia; Hypoprothrombinemia; Throm...   \n",
       "32732  Dysprothrombinemia; Hypoprothrombinemia; Throm...   \n",
       "32733  Dysprothrombinemia; Hypoprothrombinemia; Throm...   \n",
       "32734  Dysprothrombinemia; Hypoprothrombinemia; Throm...   \n",
       "32735  Dysprothrombinemia; Hypoprothrombinemia; Throm...   \n",
       "32736  Dysprothrombinemia; Hypoprothrombinemia; Throm...   \n",
       "32737  Dysprothrombinemia; Hypoprothrombinemia; Throm...   \n",
       "32738  Dysprothrombinemia; Hypoprothrombinemia; Throm...   \n",
       "32739  Dysprothrombinemia; Hypoprothrombinemia; Throm...   \n",
       "32740  Dysprothrombinemia; Hypoprothrombinemia; Throm...   \n",
       "32741  Dysprothrombinemia; Hypoprothrombinemia; Throm...   \n",
       "32742  Dysprothrombinemia; Hypoprothrombinemia; Throm...   \n",
       "32743  Dysprothrombinemia; Hypoprothrombinemia; Throm...   \n",
       "32744  Dysprothrombinemia; Hypoprothrombinemia; Throm...   \n",
       "32745  Dysprothrombinemia; Hypoprothrombinemia; Throm...   \n",
       "32746  Dysprothrombinemia; Hypoprothrombinemia; Throm...   \n",
       "32747  Dysprothrombinemia; Hypoprothrombinemia; Throm...   \n",
       "32748  Dysprothrombinemia; Hypoprothrombinemia; Throm...   \n",
       "32749  Dysprothrombinemia; Hypoprothrombinemia; Throm...   \n",
       "32750  Dysprothrombinemia; Hypoprothrombinemia; Throm...   \n",
       "32751  Dysprothrombinemia; Hypoprothrombinemia; Throm...   \n",
       "32752  Dysprothrombinemia; Hypoprothrombinemia; Throm...   \n",
       "32753  Dysprothrombinemia; Hypoprothrombinemia; Throm...   \n",
       "32754  Dysprothrombinemia; Hypoprothrombinemia; Throm...   \n",
       "32755  Dysprothrombinemia; Hypoprothrombinemia; Throm...   \n",
       "32756  Dysprothrombinemia; Hypoprothrombinemia; Throm...   \n",
       "32757  Dysprothrombinemia; Hypoprothrombinemia; Throm...   \n",
       "32758  Dysprothrombinemia; Hypoprothrombinemia; Throm...   \n",
       "32759  Dysprothrombinemia; Hypoprothrombinemia; Throm...   \n",
       "32760  Dysprothrombinemia; Hypoprothrombinemia; Throm...   \n",
       "32761  Dysprothrombinemia; Hypoprothrombinemia; Throm...   \n",
       "32762  Dysprothrombinemia; Hypoprothrombinemia; Throm...   \n",
       "32763  Dysprothrombinemia; Hypoprothrombinemia; Throm...   \n",
       "32764  Dysprothrombinemia; Hypoprothrombinemia; Throm...   \n",
       "32765  Dysprothrombinemia; Hypoprothrombinemia; Throm...   \n",
       "32766  Dysprothrombinemia; Hypoprothrombinemia; Throm...   \n",
       "32767  Dysprothrombinemia; Hypoprothrombinemia; Throm...   \n",
       "32768  Dysprothrombinemia; Hypoprothrombinemia; Throm...   \n",
       "32769  Dysprothrombinemia; Hypoprothrombinemia; Throm...   \n",
       "32770  Dysprothrombinemia; Hypoprothrombinemia; Throm...   \n",
       "32771  Dysprothrombinemia; Hypoprothrombinemia; Throm...   \n",
       "32772  Dysprothrombinemia; Hypoprothrombinemia; Throm...   \n",
       "32773  Dysprothrombinemia; Hypoprothrombinemia; Throm...   \n",
       "32774  Dysprothrombinemia; Hypoprothrombinemia; Throm...   \n",
       "32775  Dysprothrombinemia; Hypoprothrombinemia; Throm...   \n",
       "32776  Dysprothrombinemia; Hypoprothrombinemia; Throm...   \n",
       "32777  Dysprothrombinemia; Hypoprothrombinemia; Throm...   \n",
       "32778  Dysprothrombinemia; Hypoprothrombinemia; Throm...   \n",
       "32779  Dysprothrombinemia; Hypoprothrombinemia; Throm...   \n",
       "32780  Dysprothrombinemia; Hypoprothrombinemia; Throm...   \n",
       "32781  Dysprothrombinemia; Hypoprothrombinemia; Throm...   \n",
       "32782  Dysprothrombinemia; Hypoprothrombinemia; Throm...   \n",
       "32783  Dysprothrombinemia; Hypoprothrombinemia; Throm...   \n",
       "32784  Dysprothrombinemia; Hypoprothrombinemia; Throm...   \n",
       "32785  Dysprothrombinemia; Hypoprothrombinemia; Throm...   \n",
       "32786  Dysprothrombinemia; Hypoprothrombinemia; Throm...   \n",
       "32787  Dysprothrombinemia; Hypoprothrombinemia; Throm...   \n",
       "32788  Dysprothrombinemia; Hypoprothrombinemia; Throm...   \n",
       "32789  Dysprothrombinemia; Hypoprothrombinemia; Throm...   \n",
       "32790  Dysprothrombinemia; Hypoprothrombinemia; Throm...   \n",
       "32791  Dysprothrombinemia; Hypoprothrombinemia; Throm...   \n",
       "32792  Dysprothrombinemia; Hypoprothrombinemia; Throm...   \n",
       "32793  Dysprothrombinemia; Hypoprothrombinemia; Throm...   \n",
       "32794  Dysprothrombinemia; Hypoprothrombinemia; Throm...   \n",
       "32795  Dysprothrombinemia; Hypoprothrombinemia; Throm...   \n",
       "32796  Dysprothrombinemia; Hypoprothrombinemia; Throm...   \n",
       "32797  Dysprothrombinemia; Hypoprothrombinemia; Throm...   \n",
       "32798  Dysprothrombinemia; Hypoprothrombinemia; Throm...   \n",
       "32799  Dysprothrombinemia; Hypoprothrombinemia; Throm...   \n",
       "32800  Dysprothrombinemia; Hypoprothrombinemia; Throm...   \n",
       "32801  Dysprothrombinemia; Hypoprothrombinemia; Throm...   \n",
       "32802  Dysprothrombinemia; Hypoprothrombinemia; Throm...   \n",
       "32803  Dysprothrombinemia; Hypoprothrombinemia; Throm...   \n",
       "32804  Dysprothrombinemia; Hypoprothrombinemia; Throm...   \n",
       "32805  Dysprothrombinemia; Hypoprothrombinemia; Throm...   \n",
       "32806  Dysprothrombinemia; Hypoprothrombinemia; Throm...   \n",
       "32807  Dysprothrombinemia; Hypoprothrombinemia; Throm...   \n",
       "32808  Dysprothrombinemia; Hypoprothrombinemia; Throm...   \n",
       "32809  Dysprothrombinemia; Hypoprothrombinemia; Throm...   \n",
       "32810  Dysprothrombinemia; Hypoprothrombinemia; Throm...   \n",
       "32811  Dysprothrombinemia; Hypoprothrombinemia; Throm...   \n",
       "32812  Dysprothrombinemia; Hypoprothrombinemia; Throm...   \n",
       "32813  Dysprothrombinemia; Hypoprothrombinemia; Throm...   \n",
       "32814  Dysprothrombinemia; Hypoprothrombinemia; Throm...   \n",
       "32815  Dysprothrombinemia; Hypoprothrombinemia; Throm...   \n",
       "32816  Dysprothrombinemia; Hypoprothrombinemia; Throm...   \n",
       "32817  Dysprothrombinemia; Hypoprothrombinemia; Throm...   \n",
       "32818  Dysprothrombinemia; Hypoprothrombinemia; Throm...   \n",
       "32819  Dysprothrombinemia; Hypoprothrombinemia; Throm...   \n",
       "32820  Dysprothrombinemia; Hypoprothrombinemia; Throm...   \n",
       "32821  Dysprothrombinemia; Hypoprothrombinemia; Throm...   \n",
       "32822  Dysprothrombinemia; Hypoprothrombinemia; Throm...   \n",
       "32823  Dysprothrombinemia; Hypoprothrombinemia; Throm...   \n",
       "32824  Dysprothrombinemia; Hypoprothrombinemia; Throm...   \n",
       "32825  Dysprothrombinemia; Hypoprothrombinemia; Throm...   \n",
       "32826  Dysprothrombinemia; Hypoprothrombinemia; Throm...   \n",
       "32827  Dysprothrombinemia; Hypoprothrombinemia; Throm...   \n",
       "32828  Dysprothrombinemia; Hypoprothrombinemia; Throm...   \n",
       "32829  Dysprothrombinemia; Hypoprothrombinemia; Throm...   \n",
       "32830  Dysprothrombinemia; Hypoprothrombinemia; Throm...   \n",
       "32831  Dysprothrombinemia; Hypoprothrombinemia; Throm...   \n",
       "32832  Dysprothrombinemia; Hypoprothrombinemia; Throm...   \n",
       "32833  Dysprothrombinemia; Hypoprothrombinemia; Throm...   \n",
       "32834  Dysprothrombinemia; Hypoprothrombinemia; Throm...   \n",
       "32835  Dysprothrombinemia; Hypoprothrombinemia; Throm...   \n",
       "32836  Dysprothrombinemia; Hypoprothrombinemia; Throm...   \n",
       "32837  Dysprothrombinemia; Hypoprothrombinemia; Throm...   \n",
       "32838  Dysprothrombinemia; Hypoprothrombinemia; Throm...   \n",
       "32839  Dysprothrombinemia; Hypoprothrombinemia; Throm...   \n",
       "32840  Dysprothrombinemia; Hypoprothrombinemia; Throm...   \n",
       "32841  Dysprothrombinemia; Hypoprothrombinemia; Throm...   \n",
       "32842  Dysprothrombinemia; Hypoprothrombinemia; Throm...   \n",
       "32843  Dysprothrombinemia; Hypoprothrombinemia; Throm...   \n",
       "32844  Dysprothrombinemia; Hypoprothrombinemia; Throm...   \n",
       "32845  Dysprothrombinemia; Hypoprothrombinemia; Throm...   \n",
       "32846  Dysprothrombinemia; Hypoprothrombinemia; Throm...   \n",
       "32847  Dysprothrombinemia; Hypoprothrombinemia; Throm...   \n",
       "32848  Dysprothrombinemia; Hypoprothrombinemia; Throm...   \n",
       "32849  Dysprothrombinemia; Hypoprothrombinemia; Throm...   \n",
       "32850  Dysprothrombinemia; Hypoprothrombinemia; Throm...   \n",
       "32851  Dysprothrombinemia; Hypoprothrombinemia; Throm...   \n",
       "32852  Dysprothrombinemia; Hypoprothrombinemia; Throm...   \n",
       "32853  Dysprothrombinemia; Hypoprothrombinemia; Throm...   \n",
       "32854  Dysprothrombinemia; Hypoprothrombinemia; Throm...   \n",
       "32855  Dysprothrombinemia; Hypoprothrombinemia; Throm...   \n",
       "32856  Dysprothrombinemia; Hypoprothrombinemia; Throm...   \n",
       "32857  Dysprothrombinemia; Hypoprothrombinemia; Throm...   \n",
       "32858  Dysprothrombinemia; Hypoprothrombinemia; Throm...   \n",
       "32859  Dysprothrombinemia; Hypoprothrombinemia; Throm...   \n",
       "32860  Dysprothrombinemia; Hypoprothrombinemia; Throm...   \n",
       "32861  Dysprothrombinemia; Hypoprothrombinemia; Throm...   \n",
       "32862  Dysprothrombinemia; Hypoprothrombinemia; Throm...   \n",
       "32863  Dysprothrombinemia; Hypoprothrombinemia; Throm...   \n",
       "32864  Dysprothrombinemia; Hypoprothrombinemia; Throm...   \n",
       "32865  Dysprothrombinemia; Hypoprothrombinemia; Throm...   \n",
       "32866  Dysprothrombinemia; Hypoprothrombinemia; Throm...   \n",
       "32867  Dysprothrombinemia; Hypoprothrombinemia; Throm...   \n",
       "32868  Dysprothrombinemia; Hypoprothrombinemia; Throm...   \n",
       "32869  Dysprothrombinemia; Hypoprothrombinemia; Throm...   \n",
       "32870  Dysprothrombinemia; Hypoprothrombinemia; Throm...   \n",
       "32871  Dysprothrombinemia; Hypoprothrombinemia; Throm...   \n",
       "32872  Dysprothrombinemia; Hypoprothrombinemia; Throm...   \n",
       "32873  Dysprothrombinemia; Hypoprothrombinemia; Throm...   \n",
       "32874  Dysprothrombinemia; Hypoprothrombinemia; Throm...   \n",
       "32875  Dysprothrombinemia; Hypoprothrombinemia; Throm...   \n",
       "32876  Dysprothrombinemia; Hypoprothrombinemia; Throm...   \n",
       "32877  Dysprothrombinemia; Hypoprothrombinemia; Throm...   \n",
       "32878  Dysprothrombinemia; Hypoprothrombinemia; Throm...   \n",
       "32879  Dysprothrombinemia; Hypoprothrombinemia; Throm...   \n",
       "32880  Dysprothrombinemia; Hypoprothrombinemia; Throm...   \n",
       "32881  Dysprothrombinemia; Hypoprothrombinemia; Throm...   \n",
       "32882  Dysprothrombinemia; Hypoprothrombinemia; Throm...   \n",
       "32883  Dysprothrombinemia; Hypoprothrombinemia; Throm...   \n",
       "32884  Dysprothrombinemia; Hypoprothrombinemia; Throm...   \n",
       "32885  Dysprothrombinemia; Hypoprothrombinemia; Throm...   \n",
       "32886  Dysprothrombinemia; Hypoprothrombinemia; Throm...   \n",
       "32887  Dysprothrombinemia; Hypoprothrombinemia; Throm...   \n",
       "32888  Dysprothrombinemia; Hypoprothrombinemia; Throm...   \n",
       "32889  Dysprothrombinemia; Hypoprothrombinemia; Throm...   \n",
       "32890  Dysprothrombinemia; Hypoprothrombinemia; Throm...   \n",
       "32891  Dysprothrombinemia; Hypoprothrombinemia; Throm...   \n",
       "32892  Dysprothrombinemia; Hypoprothrombinemia; Throm...   \n",
       "32893  Dysprothrombinemia; Hypoprothrombinemia; Throm...   \n",
       "32894  Dysprothrombinemia; Hypoprothrombinemia; Throm...   \n",
       "32895  Dysprothrombinemia; Hypoprothrombinemia; Throm...   \n",
       "32896  Dysprothrombinemia; Hypoprothrombinemia; Throm...   \n",
       "32897  Dysprothrombinemia; Hypoprothrombinemia; Throm...   \n",
       "32898  Dysprothrombinemia; Hypoprothrombinemia; Throm...   \n",
       "32899  Dysprothrombinemia; Hypoprothrombinemia; Throm...   \n",
       "32900  Dysprothrombinemia; Hypoprothrombinemia; Throm...   \n",
       "32901  Dysprothrombinemia; Hypoprothrombinemia; Throm...   \n",
       "32902  Dysprothrombinemia; Hypoprothrombinemia; Throm...   \n",
       "32903  Dysprothrombinemia; Hypoprothrombinemia; Throm...   \n",
       "32904  Dysprothrombinemia; Hypoprothrombinemia; Throm...   \n",
       "32905  Dysprothrombinemia; Hypoprothrombinemia; Throm...   \n",
       "32906  Dysprothrombinemia; Hypoprothrombinemia; Throm...   \n",
       "32907  Dysprothrombinemia; Hypoprothrombinemia; Throm...   \n",
       "32908  Dysprothrombinemia; Hypoprothrombinemia; Throm...   \n",
       "32909  Dysprothrombinemia; Hypoprothrombinemia; Throm...   \n",
       "32910  Dysprothrombinemia; Hypoprothrombinemia; Throm...   \n",
       "32911  Dysprothrombinemia; Hypoprothrombinemia; Throm...   \n",
       "32912  Dysprothrombinemia; Hypoprothrombinemia; Throm...   \n",
       "32913         Pregnancy loss, recurrent, susceptibility    \n",
       "32914         Pregnancy loss, recurrent, susceptibility    \n",
       "32915         Pregnancy loss, recurrent, susceptibility    \n",
       "32916         Pregnancy loss, recurrent, susceptibility    \n",
       "32917         Pregnancy loss, recurrent, susceptibility    \n",
       "32918         Pregnancy loss, recurrent, susceptibility    \n",
       "32919         Pregnancy loss, recurrent, susceptibility    \n",
       "32920         Pregnancy loss, recurrent, susceptibility    \n",
       "32921         Pregnancy loss, recurrent, susceptibility    \n",
       "32922         Pregnancy loss, recurrent, susceptibility    \n",
       "32923         Pregnancy loss, recurrent, susceptibility    \n",
       "32924         Pregnancy loss, recurrent, susceptibility    \n",
       "32925         Pregnancy loss, recurrent, susceptibility    \n",
       "32926         Pregnancy loss, recurrent, susceptibility    \n",
       "32927         Pregnancy loss, recurrent, susceptibility    \n",
       "32928         Pregnancy loss, recurrent, susceptibility    \n",
       "32929         Pregnancy loss, recurrent, susceptibility    \n",
       "32930         Pregnancy loss, recurrent, susceptibility    \n",
       "32931         Pregnancy loss, recurrent, susceptibility    \n",
       "32932         Pregnancy loss, recurrent, susceptibility    \n",
       "32933         Pregnancy loss, recurrent, susceptibility    \n",
       "32934         Pregnancy loss, recurrent, susceptibility    \n",
       "32935         Pregnancy loss, recurrent, susceptibility    \n",
       "32936         Pregnancy loss, recurrent, susceptibility    \n",
       "32937         Pregnancy loss, recurrent, susceptibility    \n",
       "32938         Pregnancy loss, recurrent, susceptibility    \n",
       "32939         Pregnancy loss, recurrent, susceptibility    \n",
       "32940         Pregnancy loss, recurrent, susceptibility    \n",
       "32941         Pregnancy loss, recurrent, susceptibility    \n",
       "32942         Pregnancy loss, recurrent, susceptibility    \n",
       "32943         Pregnancy loss, recurrent, susceptibility    \n",
       "32944         Pregnancy loss, recurrent, susceptibility    \n",
       "32945         Pregnancy loss, recurrent, susceptibility    \n",
       "32946         Pregnancy loss, recurrent, susceptibility    \n",
       "32947         Pregnancy loss, recurrent, susceptibility    \n",
       "32948         Pregnancy loss, recurrent, susceptibility    \n",
       "32949         Pregnancy loss, recurrent, susceptibility    \n",
       "32950         Pregnancy loss, recurrent, susceptibility    \n",
       "32951         Pregnancy loss, recurrent, susceptibility    \n",
       "32952         Pregnancy loss, recurrent, susceptibility    \n",
       "32953         Pregnancy loss, recurrent, susceptibility    \n",
       "32954         Pregnancy loss, recurrent, susceptibility    \n",
       "32955         Pregnancy loss, recurrent, susceptibility    \n",
       "32956         Pregnancy loss, recurrent, susceptibility    \n",
       "32957         Pregnancy loss, recurrent, susceptibility    \n",
       "32958         Pregnancy loss, recurrent, susceptibility    \n",
       "32959         Pregnancy loss, recurrent, susceptibility    \n",
       "32960         Pregnancy loss, recurrent, susceptibility    \n",
       "32961         Pregnancy loss, recurrent, susceptibility    \n",
       "32962         Pregnancy loss, recurrent, susceptibility    \n",
       "32963         Pregnancy loss, recurrent, susceptibility    \n",
       "32964         Pregnancy loss, recurrent, susceptibility    \n",
       "32965         Pregnancy loss, recurrent, susceptibility    \n",
       "32966         Pregnancy loss, recurrent, susceptibility    \n",
       "32967         Pregnancy loss, recurrent, susceptibility    \n",
       "32968         Pregnancy loss, recurrent, susceptibility    \n",
       "32969         Pregnancy loss, recurrent, susceptibility    \n",
       "32970         Pregnancy loss, recurrent, susceptibility    \n",
       "32971         Pregnancy loss, recurrent, susceptibility    \n",
       "32972         Pregnancy loss, recurrent, susceptibility    \n",
       "32973         Pregnancy loss, recurrent, susceptibility    \n",
       "32974         Pregnancy loss, recurrent, susceptibility    \n",
       "32975         Pregnancy loss, recurrent, susceptibility    \n",
       "32976         Pregnancy loss, recurrent, susceptibility    \n",
       "32977         Pregnancy loss, recurrent, susceptibility    \n",
       "32978         Pregnancy loss, recurrent, susceptibility    \n",
       "32979         Pregnancy loss, recurrent, susceptibility    \n",
       "32980         Pregnancy loss, recurrent, susceptibility    \n",
       "32981         Pregnancy loss, recurrent, susceptibility    \n",
       "32982         Pregnancy loss, recurrent, susceptibility    \n",
       "32983         Pregnancy loss, recurrent, susceptibility    \n",
       "32984         Pregnancy loss, recurrent, susceptibility    \n",
       "32985         Pregnancy loss, recurrent, susceptibility    \n",
       "32986         Pregnancy loss, recurrent, susceptibility    \n",
       "32987         Pregnancy loss, recurrent, susceptibility    \n",
       "32988         Pregnancy loss, recurrent, susceptibility    \n",
       "32989         Pregnancy loss, recurrent, susceptibility    \n",
       "32990         Pregnancy loss, recurrent, susceptibility    \n",
       "32991         Pregnancy loss, recurrent, susceptibility    \n",
       "32992         Pregnancy loss, recurrent, susceptibility    \n",
       "32993         Pregnancy loss, recurrent, susceptibility    \n",
       "32994         Pregnancy loss, recurrent, susceptibility    \n",
       "32995         Pregnancy loss, recurrent, susceptibility    \n",
       "32996         Pregnancy loss, recurrent, susceptibility    \n",
       "32997         Pregnancy loss, recurrent, susceptibility    \n",
       "32998         Pregnancy loss, recurrent, susceptibility    \n",
       "32999         Pregnancy loss, recurrent, susceptibility    \n",
       "33000         Pregnancy loss, recurrent, susceptibility    \n",
       "33001         Pregnancy loss, recurrent, susceptibility    \n",
       "33002         Pregnancy loss, recurrent, susceptibility    \n",
       "33003         Pregnancy loss, recurrent, susceptibility    \n",
       "33004         Pregnancy loss, recurrent, susceptibility    \n",
       "33005         Pregnancy loss, recurrent, susceptibility    \n",
       "33006         Pregnancy loss, recurrent, susceptibility    \n",
       "33007         Pregnancy loss, recurrent, susceptibility    \n",
       "33008         Pregnancy loss, recurrent, susceptibility    \n",
       "33009         Pregnancy loss, recurrent, susceptibility    \n",
       "33010         Pregnancy loss, recurrent, susceptibility    \n",
       "33011         Pregnancy loss, recurrent, susceptibility    \n",
       "33012         Pregnancy loss, recurrent, susceptibility    \n",
       "33013         Pregnancy loss, recurrent, susceptibility    \n",
       "33014         Pregnancy loss, recurrent, susceptibility    \n",
       "33015         Pregnancy loss, recurrent, susceptibility    \n",
       "33016         Pregnancy loss, recurrent, susceptibility    \n",
       "33017         Pregnancy loss, recurrent, susceptibility    \n",
       "33018         Pregnancy loss, recurrent, susceptibility    \n",
       "33019         Pregnancy loss, recurrent, susceptibility    \n",
       "33020         Pregnancy loss, recurrent, susceptibility    \n",
       "33021         Pregnancy loss, recurrent, susceptibility    \n",
       "33022         Pregnancy loss, recurrent, susceptibility    \n",
       "33023         Pregnancy loss, recurrent, susceptibility    \n",
       "33024         Pregnancy loss, recurrent, susceptibility    \n",
       "33025         Pregnancy loss, recurrent, susceptibility    \n",
       "33026         Pregnancy loss, recurrent, susceptibility    \n",
       "33027         Pregnancy loss, recurrent, susceptibility    \n",
       "33028         Pregnancy loss, recurrent, susceptibility    \n",
       "33029         Pregnancy loss, recurrent, susceptibility    \n",
       "33030         Pregnancy loss, recurrent, susceptibility    \n",
       "33031         Pregnancy loss, recurrent, susceptibility    \n",
       "33032         Pregnancy loss, recurrent, susceptibility    \n",
       "33033         Pregnancy loss, recurrent, susceptibility    \n",
       "33034         Pregnancy loss, recurrent, susceptibility    \n",
       "33035         Pregnancy loss, recurrent, susceptibility    \n",
       "33036         Pregnancy loss, recurrent, susceptibility    \n",
       "33037         Pregnancy loss, recurrent, susceptibility    \n",
       "33038         Pregnancy loss, recurrent, susceptibility    \n",
       "33039         Pregnancy loss, recurrent, susceptibility    \n",
       "33040         Pregnancy loss, recurrent, susceptibility    \n",
       "33041         Pregnancy loss, recurrent, susceptibility    \n",
       "33042         Pregnancy loss, recurrent, susceptibility    \n",
       "33043         Pregnancy loss, recurrent, susceptibility    \n",
       "35933  recurrent pregnancy loss, preeclampsia, intrau...   \n",
       "35934  recurrent pregnancy loss, preeclampsia, intrau...   \n",
       "35935  recurrent pregnancy loss, preeclampsia, intrau...   \n",
       "35936  recurrent pregnancy loss, preeclampsia, intrau...   \n",
       "35937  recurrent pregnancy loss, preeclampsia, intrau...   \n",
       "35938  recurrent pregnancy loss, preeclampsia, intrau...   \n",
       "35939  recurrent pregnancy loss, preeclampsia, intrau...   \n",
       "35940  recurrent pregnancy loss, preeclampsia, intrau...   \n",
       "35941  recurrent pregnancy loss, preeclampsia, intrau...   \n",
       "35942  recurrent pregnancy loss, preeclampsia, intrau...   \n",
       "35943  recurrent pregnancy loss, preeclampsia, intrau...   \n",
       "35944  recurrent pregnancy loss, preeclampsia, intrau...   \n",
       "35945  recurrent pregnancy loss, preeclampsia, intrau...   \n",
       "35946  recurrent pregnancy loss, preeclampsia, intrau...   \n",
       "35947  recurrent pregnancy loss, preeclampsia, intrau...   \n",
       "35948  recurrent pregnancy loss, preeclampsia, intrau...   \n",
       "35949  recurrent pregnancy loss, preeclampsia, intrau...   \n",
       "35950  recurrent pregnancy loss, preeclampsia, intrau...   \n",
       "35951  recurrent pregnancy loss, preeclampsia, intrau...   \n",
       "35952  recurrent pregnancy loss, preeclampsia, intrau...   \n",
       "35953  recurrent pregnancy loss, preeclampsia, intrau...   \n",
       "35954  recurrent pregnancy loss, preeclampsia, intrau...   \n",
       "35955  recurrent pregnancy loss, preeclampsia, intrau...   \n",
       "35956  recurrent pregnancy loss, preeclampsia, intrau...   \n",
       "35957  recurrent pregnancy loss, preeclampsia, intrau...   \n",
       "35958  recurrent pregnancy loss, preeclampsia, intrau...   \n",
       "35959  recurrent pregnancy loss, preeclampsia, intrau...   \n",
       "35960  recurrent pregnancy loss, preeclampsia, intrau...   \n",
       "35961  recurrent pregnancy loss, preeclampsia, intrau...   \n",
       "35962  recurrent pregnancy loss, preeclampsia, intrau...   \n",
       "35963  recurrent pregnancy loss, preeclampsia, intrau...   \n",
       "35964  recurrent pregnancy loss, preeclampsia, intrau...   \n",
       "35965  recurrent pregnancy loss, preeclampsia, intrau...   \n",
       "35966  recurrent pregnancy loss, preeclampsia, intrau...   \n",
       "35967  recurrent pregnancy loss, preeclampsia, intrau...   \n",
       "59451                          recurrent pregnancy loss    \n",
       "59452                          recurrent pregnancy loss    \n",
       "59453                          recurrent pregnancy loss    \n",
       "59454                          recurrent pregnancy loss    \n",
       "59455                          recurrent pregnancy loss    \n",
       "59456                          recurrent pregnancy loss    \n",
       "59457                          recurrent pregnancy loss    \n",
       "59458                          recurrent pregnancy loss    \n",
       "59459                          recurrent pregnancy loss    \n",
       "59460                          recurrent pregnancy loss    \n",
       "59461                          recurrent pregnancy loss    \n",
       "59462                          recurrent pregnancy loss    \n",
       "59463                          recurrent pregnancy loss    \n",
       "59464                          recurrent pregnancy loss    \n",
       "59465                          recurrent pregnancy loss    \n",
       "59466                          recurrent pregnancy loss    \n",
       "59467                          recurrent pregnancy loss    \n",
       "59468                          recurrent pregnancy loss    \n",
       "59469                          recurrent pregnancy loss    \n",
       "59470                          recurrent pregnancy loss    \n",
       "59471                          recurrent pregnancy loss    \n",
       "59472                          recurrent pregnancy loss    \n",
       "59473                          recurrent pregnancy loss    \n",
       "59474                          recurrent pregnancy loss    \n",
       "59475                          recurrent pregnancy loss    \n",
       "59476                          recurrent pregnancy loss    \n",
       "59477                          recurrent pregnancy loss    \n",
       "59478                          recurrent pregnancy loss    \n",
       "59479                          recurrent pregnancy loss    \n",
       "\n",
       "                                Phenotype                Organism    Gene Form  \n",
       "11415                                 NaN            Mus musculus         mRNA  \n",
       "11416                                 NaN            Homo sapiens         mRNA  \n",
       "11417                                 NaN            Homo sapiens      protein  \n",
       "11418                                 NaN            Homo sapiens      protein  \n",
       "11419                                 NaN            Mus musculus      protein  \n",
       "11420                                 NaN            Homo sapiens         mRNA  \n",
       "11421                                 NaN            Mus musculus      protein  \n",
       "11422                                 NaN       Rattus norvegicus         mRNA  \n",
       "11423                                 NaN       Rattus norvegicus      protein  \n",
       "11424                                 NaN            Mus musculus         mRNA  \n",
       "11425                                 NaN            Mus musculus         mRNA  \n",
       "11426                                 NaN       Rattus norvegicus         mRNA  \n",
       "11427                                 NaN            Homo sapiens      protein  \n",
       "11428                                 NaN            Homo sapiens      protein  \n",
       "11429                                 NaN            Homo sapiens      protein  \n",
       "11430                                 NaN            Mus musculus         mRNA  \n",
       "11431                                 NaN       Rattus norvegicus         mRNA  \n",
       "11432                                 NaN            Homo sapiens      protein  \n",
       "11433                                 NaN            Homo sapiens      protein  \n",
       "11434                                 NaN            Homo sapiens      protein  \n",
       "11435                                 NaN            Mus musculus      protein  \n",
       "11436                                 NaN                     NaN      protein  \n",
       "11437                                 NaN            Homo sapiens         mRNA  \n",
       "11438                                 NaN            Homo sapiens         mRNA  \n",
       "11439                                 NaN            Mus musculus         mRNA  \n",
       "11440                                 NaN            Mus musculus         mRNA  \n",
       "11441                                 NaN            Mus musculus         mRNA  \n",
       "11442                                 NaN            Mus musculus         mRNA  \n",
       "11443                                 NaN            Mus musculus         mRNA  \n",
       "11444                                 NaN            Mus musculus         mRNA  \n",
       "11445                                 NaN            Homo sapiens      protein  \n",
       "11446                                 NaN            Mus musculus         mRNA  \n",
       "11447                                 NaN            Mus musculus         mRNA  \n",
       "11448                                 NaN            Homo sapiens         mRNA  \n",
       "11449                                 NaN            Homo sapiens         mRNA  \n",
       "11450                                 NaN            Homo sapiens         mRNA  \n",
       "11451                                 NaN            Homo sapiens         mRNA  \n",
       "11452                                 NaN            Homo sapiens         mRNA  \n",
       "11453                                 NaN            Homo sapiens      protein  \n",
       "11454                                 NaN       Rattus norvegicus         mRNA  \n",
       "11455                                 NaN            Homo sapiens      protein  \n",
       "11456                                 NaN            Homo sapiens      protein  \n",
       "11457                                 NaN            Homo sapiens      protein  \n",
       "11458                                 NaN            Homo sapiens      protein  \n",
       "11459                                 NaN            Homo sapiens      protein  \n",
       "11460                                 NaN            Homo sapiens      protein  \n",
       "11461                                 NaN                     NaN      protein  \n",
       "11462                                 NaN            Homo sapiens         mRNA  \n",
       "11463                                 NaN            Homo sapiens         mRNA  \n",
       "11464                                 NaN       Rattus norvegicus         mRNA  \n",
       "11465                                 NaN            Homo sapiens         mRNA  \n",
       "11466                                 NaN       Rattus norvegicus         mRNA  \n",
       "11467                                 NaN       Rattus norvegicus      protein  \n",
       "11468                                 NaN            Homo sapiens      protein  \n",
       "11469                                 NaN            Homo sapiens      protein  \n",
       "11470                                 NaN            Homo sapiens         mRNA  \n",
       "11471                                 NaN       Rattus norvegicus         mRNA  \n",
       "11472                                 NaN            Homo sapiens         mRNA  \n",
       "11473                                 NaN            Homo sapiens      protein  \n",
       "11474                                 NaN       Rattus norvegicus         mRNA  \n",
       "11475                                 NaN            Mus musculus         mRNA  \n",
       "11476                                 NaN            Mus musculus         mRNA  \n",
       "11477                                 NaN            Mus musculus         mRNA  \n",
       "11478                                 NaN            Mus musculus         mRNA  \n",
       "11479                                 NaN            Mus musculus         mRNA  \n",
       "11480                                 NaN       Rattus norvegicus         mRNA  \n",
       "11481                                 NaN       Rattus norvegicus         mRNA  \n",
       "11482                                 NaN       Rattus norvegicus         mRNA  \n",
       "11483                                 NaN            Mus musculus         mRNA  \n",
       "11484                                 NaN       Rattus norvegicus         mRNA  \n",
       "11485                                 NaN       Rattus norvegicus         mRNA  \n",
       "11486                                 NaN       Rattus norvegicus         mRNA  \n",
       "11487                                 NaN                     NaN      protein  \n",
       "11488                                 NaN            Homo sapiens         mRNA  \n",
       "11489                                 NaN       Rattus norvegicus         mRNA  \n",
       "11490                                 NaN            Homo sapiens         mRNA  \n",
       "11491                                 NaN            Homo sapiens         mRNA  \n",
       "11492                                 NaN            Homo sapiens         mRNA  \n",
       "11493                                 NaN            Homo sapiens         mRNA  \n",
       "11494                                 NaN            Homo sapiens         mRNA  \n",
       "11495                                 NaN            Mus musculus         mRNA  \n",
       "11496                                 NaN            Homo sapiens         mRNA  \n",
       "11497                                 NaN            Homo sapiens         mRNA  \n",
       "11498                                 NaN             Danio rerio         mRNA  \n",
       "11499                                 NaN            Homo sapiens         mRNA  \n",
       "11500                                 NaN            Homo sapiens      protein  \n",
       "11501                                 NaN            Homo sapiens      protein  \n",
       "11502                                 NaN            Homo sapiens      protein  \n",
       "11503                                 NaN            Homo sapiens      protein  \n",
       "11504                                 NaN            Homo sapiens      protein  \n",
       "11505                                 NaN            Homo sapiens         mRNA  \n",
       "11506                                 NaN            Homo sapiens      protein  \n",
       "11507                                 NaN            Homo sapiens     promoter  \n",
       "11508                                 NaN            Homo sapiens         mRNA  \n",
       "11509                                 NaN            Homo sapiens      protein  \n",
       "11510                                 NaN            Mus musculus         mRNA  \n",
       "11511                                 NaN            Homo sapiens      protein  \n",
       "11512                                 NaN            Homo sapiens      protein  \n",
       "11513                                 NaN            Homo sapiens      protein  \n",
       "11514                                 NaN            Homo sapiens      protein  \n",
       "11515                                 NaN            Homo sapiens      protein  \n",
       "11516                                 NaN            Homo sapiens         mRNA  \n",
       "11517                                 NaN            Homo sapiens         mRNA  \n",
       "11518                                 NaN            Homo sapiens         mRNA  \n",
       "11519                                 NaN            Homo sapiens         mRNA  \n",
       "11520                                 NaN            Homo sapiens         mRNA  \n",
       "11521                                 NaN            Homo sapiens      protein  \n",
       "11522                                 NaN            Mus musculus         mRNA  \n",
       "11523                                 NaN       Rattus norvegicus         mRNA  \n",
       "11524                                 NaN       Rattus norvegicus         mRNA  \n",
       "11525                                 NaN       Rattus norvegicus         mRNA  \n",
       "11526                                 NaN       Rattus norvegicus         mRNA  \n",
       "11527                                 NaN       Rattus norvegicus         mRNA  \n",
       "11528                                 NaN       Rattus norvegicus         mRNA  \n",
       "11529                                 NaN       Rattus norvegicus         mRNA  \n",
       "11530                                 NaN       Rattus norvegicus      protein  \n",
       "11531                                 NaN            Homo sapiens      protein  \n",
       "11532                                 NaN            Homo sapiens      protein  \n",
       "11533                                 NaN            Homo sapiens      protein  \n",
       "11534                                 NaN            Homo sapiens      protein  \n",
       "11535                                 NaN            Homo sapiens      protein  \n",
       "11536                                 NaN            Homo sapiens         mRNA  \n",
       "11537                                 NaN            Homo sapiens         mRNA  \n",
       "11538                                 NaN            Homo sapiens         mRNA  \n",
       "11539                                 NaN            Homo sapiens      protein  \n",
       "11540                                 NaN            Homo sapiens      protein  \n",
       "11541                                 NaN            Homo sapiens      protein  \n",
       "11542                                 NaN            Homo sapiens         mRNA  \n",
       "11543                                 NaN            Homo sapiens      protein  \n",
       "11544                                 NaN            Homo sapiens      protein  \n",
       "11545                                 NaN       Rattus norvegicus         mRNA  \n",
       "11546                                 NaN            Homo sapiens         mRNA  \n",
       "11547                                 NaN            Homo sapiens         mRNA  \n",
       "11548                                 NaN            Homo sapiens         mRNA  \n",
       "11549                                 NaN             Danio rerio         mRNA  \n",
       "11550                                 NaN            Homo sapiens         mRNA  \n",
       "11551                                 NaN            Mus musculus      protein  \n",
       "11552                                 NaN            Mus musculus         mRNA  \n",
       "11553                                 NaN       Rattus norvegicus      protein  \n",
       "11554                                 NaN            Mus musculus         mRNA  \n",
       "11555                                 NaN            Mus musculus         mRNA  \n",
       "11556                                 NaN       Rattus norvegicus         mRNA  \n",
       "11557                                 NaN            Mus musculus      protein  \n",
       "11558                                 NaN            Homo sapiens         mRNA  \n",
       "11559                                 NaN            Mus musculus          NaN  \n",
       "11560                                 NaN            Mus musculus          NaN  \n",
       "11561                                 NaN            Mus musculus          NaN  \n",
       "11562                                 NaN            Mus musculus         gene  \n",
       "11563                                 NaN            Mus musculus         gene  \n",
       "11564                                 NaN            Mus musculus         mRNA  \n",
       "11565                                 NaN            Mus musculus         mRNA  \n",
       "11566                                 NaN            Homo sapiens         mRNA  \n",
       "11567                                 NaN            Homo sapiens         mRNA  \n",
       "11568                                 NaN            Homo sapiens         mRNA  \n",
       "11569                                 NaN            Homo sapiens         mRNA  \n",
       "11570                                 NaN            Mus musculus         mRNA  \n",
       "11571                                 NaN            Homo sapiens         mRNA  \n",
       "11572                                 NaN            Homo sapiens         mRNA  \n",
       "11573                                 NaN            Homo sapiens         mRNA  \n",
       "11574                                 NaN            Homo sapiens         mRNA  \n",
       "11575                                 NaN            Homo sapiens         mRNA  \n",
       "11576                                 NaN       Rattus norvegicus         mRNA  \n",
       "11577                                 NaN            Homo sapiens      protein  \n",
       "11578                                 NaN            Homo sapiens         mRNA  \n",
       "11579                                 NaN       Rattus norvegicus         mRNA  \n",
       "11580                                 NaN            Homo sapiens         mRNA  \n",
       "11581                                 NaN            Homo sapiens         mRNA  \n",
       "11582                                 NaN            Homo sapiens         mRNA  \n",
       "11583                                 NaN            Homo sapiens         mRNA  \n",
       "11584                                 NaN            Homo sapiens         mRNA  \n",
       "11585                                 NaN            Homo sapiens         mRNA  \n",
       "11586                                 NaN       Rattus norvegicus         mRNA  \n",
       "11587                                 NaN            Homo sapiens         mRNA  \n",
       "11588                                 NaN       Rattus norvegicus         mRNA  \n",
       "11589                                 NaN            Homo sapiens         mRNA  \n",
       "11590                                 NaN       Rattus norvegicus         mRNA  \n",
       "11591                                 NaN       Rattus norvegicus         mRNA  \n",
       "11592                                 NaN       Rattus norvegicus         mRNA  \n",
       "11593                                 NaN            Homo sapiens         mRNA  \n",
       "11594                                 NaN            Mus musculus      protein  \n",
       "11595                                 NaN            Mus musculus         mRNA  \n",
       "11596                                 NaN            Homo sapiens         mRNA  \n",
       "32564  614390,601367,613679,613679,188050       Rattus norvegicus      protein  \n",
       "32565  614390,601367,613679,613679,188050       Rattus norvegicus      protein  \n",
       "32566  614390,601367,613679,613679,188050       Rattus norvegicus      protein  \n",
       "32567  614390,601367,613679,613679,188050       Rattus norvegicus      protein  \n",
       "32568  614390,601367,613679,613679,188050       Rattus norvegicus      protein  \n",
       "32569  614390,601367,613679,613679,188050       Rattus norvegicus      protein  \n",
       "32570  614390,601367,613679,613679,188050       Rattus norvegicus      protein  \n",
       "32571  614390,601367,613679,613679,188050       Rattus norvegicus      protein  \n",
       "32572  614390,601367,613679,613679,188050       Rattus norvegicus      protein  \n",
       "32573  614390,601367,613679,613679,188050       Rattus norvegicus      protein  \n",
       "32574  614390,601367,613679,613679,188050       Rattus norvegicus      protein  \n",
       "32575  614390,601367,613679,613679,188050       Rattus norvegicus      protein  \n",
       "32576  614390,601367,613679,613679,188050       Rattus norvegicus      protein  \n",
       "32577  614390,601367,613679,613679,188050       Rattus norvegicus      protein  \n",
       "32578  614390,601367,613679,613679,188050       Rattus norvegicus      protein  \n",
       "32579  614390,601367,613679,613679,188050       Rattus norvegicus      protein  \n",
       "32580  614390,601367,613679,613679,188050       Rattus norvegicus      protein  \n",
       "32581  614390,601367,613679,613679,188050       Rattus norvegicus      protein  \n",
       "32582  614390,601367,613679,613679,188050       Rattus norvegicus      protein  \n",
       "32583  614390,601367,613679,613679,188050       Rattus norvegicus      protein  \n",
       "32584  614390,601367,613679,613679,188050       Rattus norvegicus      protein  \n",
       "32585  614390,601367,613679,613679,188050       Rattus norvegicus      protein  \n",
       "32586  614390,601367,613679,613679,188050       Rattus norvegicus      protein  \n",
       "32587  614390,601367,613679,613679,188050       Rattus norvegicus      protein  \n",
       "32588  614390,601367,613679,613679,188050       Rattus norvegicus      protein  \n",
       "32589  614390,601367,613679,613679,188050       Rattus norvegicus      protein  \n",
       "32590  614390,601367,613679,613679,188050       Rattus norvegicus      protein  \n",
       "32591  614390,601367,613679,613679,188050       Rattus norvegicus      protein  \n",
       "32592  614390,601367,613679,613679,188050       Rattus norvegicus      protein  \n",
       "32593  614390,601367,613679,613679,188050       Rattus norvegicus      protein  \n",
       "32594  614390,601367,613679,613679,188050       Rattus norvegicus      protein  \n",
       "32595  614390,601367,613679,613679,188050       Rattus norvegicus      protein  \n",
       "32596  614390,601367,613679,613679,188050       Rattus norvegicus      protein  \n",
       "32597  614390,601367,613679,613679,188050       Rattus norvegicus      protein  \n",
       "32598  614390,601367,613679,613679,188050       Rattus norvegicus      protein  \n",
       "32599  614390,601367,613679,613679,188050       Rattus norvegicus      protein  \n",
       "32600  614390,601367,613679,613679,188050       Rattus norvegicus      protein  \n",
       "32601  614390,601367,613679,613679,188050       Rattus norvegicus      protein  \n",
       "32602  614390,601367,613679,613679,188050       Rattus norvegicus      protein  \n",
       "32603  614390,601367,613679,613679,188050       Rattus norvegicus      protein  \n",
       "32604  614390,601367,613679,613679,188050       Rattus norvegicus      protein  \n",
       "32605  614390,601367,613679,613679,188050       Rattus norvegicus      protein  \n",
       "32606  614390,601367,613679,613679,188050       Rattus norvegicus      protein  \n",
       "32607  614390,601367,613679,613679,188050       Rattus norvegicus      protein  \n",
       "32608  614390,601367,613679,613679,188050       Rattus norvegicus      protein  \n",
       "32609  614390,601367,613679,613679,188050       Rattus norvegicus      protein  \n",
       "32610  614390,601367,613679,613679,188050       Rattus norvegicus      protein  \n",
       "32611  614390,601367,613679,613679,188050       Rattus norvegicus      protein  \n",
       "32612  614390,601367,613679,613679,188050       Rattus norvegicus      protein  \n",
       "32613  614390,601367,613679,613679,188050       Rattus norvegicus      protein  \n",
       "32614  614390,601367,613679,613679,188050       Rattus norvegicus      protein  \n",
       "32615  614390,601367,613679,613679,188050       Rattus norvegicus      protein  \n",
       "32616  614390,601367,613679,613679,188050       Rattus norvegicus      protein  \n",
       "32617  614390,601367,613679,613679,188050       Rattus norvegicus      protein  \n",
       "32618  614390,601367,613679,613679,188050       Rattus norvegicus      protein  \n",
       "32619  614390,601367,613679,613679,188050       Rattus norvegicus      protein  \n",
       "32620  614390,601367,613679,613679,188050       Rattus norvegicus      protein  \n",
       "32621  614390,601367,613679,613679,188050       Rattus norvegicus      protein  \n",
       "32622  614390,601367,613679,613679,188050       Rattus norvegicus      protein  \n",
       "32623  614390,601367,613679,613679,188050       Rattus norvegicus      protein  \n",
       "32624  614390,601367,613679,613679,188050       Rattus norvegicus      protein  \n",
       "32625  614390,601367,613679,613679,188050       Rattus norvegicus      protein  \n",
       "32626  614390,601367,613679,613679,188050       Rattus norvegicus      protein  \n",
       "32627  614390,601367,613679,613679,188050       Rattus norvegicus      protein  \n",
       "32628  614390,601367,613679,613679,188050       Rattus norvegicus      protein  \n",
       "32629  614390,601367,613679,613679,188050       Rattus norvegicus      protein  \n",
       "32630  614390,601367,613679,613679,188050       Rattus norvegicus      protein  \n",
       "32631  614390,601367,613679,613679,188050       Rattus norvegicus      protein  \n",
       "32632  614390,601367,613679,613679,188050       Rattus norvegicus      protein  \n",
       "32633  614390,601367,613679,613679,188050       Rattus norvegicus      protein  \n",
       "32634  614390,601367,613679,613679,188050       Rattus norvegicus      protein  \n",
       "32635  614390,601367,613679,613679,188050       Rattus norvegicus      protein  \n",
       "32636  614390,601367,613679,613679,188050       Rattus norvegicus      protein  \n",
       "32637  614390,601367,613679,613679,188050       Rattus norvegicus      protein  \n",
       "32638  614390,601367,613679,613679,188050       Rattus norvegicus      protein  \n",
       "32639  614390,601367,613679,613679,188050       Rattus norvegicus      protein  \n",
       "32640  614390,601367,613679,613679,188050       Rattus norvegicus      protein  \n",
       "32641  614390,601367,613679,613679,188050       Rattus norvegicus      protein  \n",
       "32642  614390,601367,613679,613679,188050            Mus musculus         mRNA  \n",
       "32643  614390,601367,613679,613679,188050            Homo sapiens      protein  \n",
       "32644  614390,601367,613679,613679,188050            Homo sapiens      protein  \n",
       "32645  614390,601367,613679,613679,188050      Platichthys flesus         mRNA  \n",
       "32646  614390,601367,613679,613679,188050      Platichthys flesus         mRNA  \n",
       "32647  614390,601367,613679,613679,188050            Homo sapiens      protein  \n",
       "32648  614390,601367,613679,613679,188050            Homo sapiens      protein  \n",
       "32649  614390,601367,613679,613679,188050            Mus musculus      protein  \n",
       "32650  614390,601367,613679,613679,188050            Mus musculus      protein  \n",
       "32651  614390,601367,613679,613679,188050            Mus musculus      protein  \n",
       "32652  614390,601367,613679,613679,188050            Mus musculus      protein  \n",
       "32653  614390,601367,613679,613679,188050            Mus musculus      protein  \n",
       "32654  614390,601367,613679,613679,188050            Mus musculus      protein  \n",
       "32655  614390,601367,613679,613679,188050            Mus musculus      protein  \n",
       "32656  614390,601367,613679,613679,188050            Homo sapiens         mRNA  \n",
       "32657  614390,601367,613679,613679,188050            Homo sapiens      protein  \n",
       "32658  614390,601367,613679,613679,188050            Homo sapiens      protein  \n",
       "32659  614390,601367,613679,613679,188050            Homo sapiens      protein  \n",
       "32660  614390,601367,613679,613679,188050            Homo sapiens      protein  \n",
       "32661  614390,601367,613679,613679,188050            Homo sapiens      protein  \n",
       "32662  614390,601367,613679,613679,188050      Platichthys flesus         mRNA  \n",
       "32663  614390,601367,613679,613679,188050      Platichthys flesus         mRNA  \n",
       "32664  614390,601367,613679,613679,188050            Homo sapiens      protein  \n",
       "32665  614390,601367,613679,613679,188050            Homo sapiens      protein  \n",
       "32666  614390,601367,613679,613679,188050            Homo sapiens         mRNA  \n",
       "32667  614390,601367,613679,613679,188050       Rattus norvegicus         mRNA  \n",
       "32668  614390,601367,613679,613679,188050       Rattus norvegicus         mRNA  \n",
       "32669  614390,601367,613679,613679,188050             Danio rerio         mRNA  \n",
       "32670  614390,601367,613679,613679,188050            Homo sapiens         mRNA  \n",
       "32671  614390,601367,613679,613679,188050            Homo sapiens         mRNA  \n",
       "32672  614390,601367,613679,613679,188050                   Papio      protein  \n",
       "32673  614390,601367,613679,613679,188050                   Papio      protein  \n",
       "32674  614390,601367,613679,613679,188050       Rattus norvegicus      protein  \n",
       "32675  614390,601367,613679,613679,188050       Rattus norvegicus         mRNA  \n",
       "32676  614390,601367,613679,613679,188050            Homo sapiens         mRNA  \n",
       "32677  614390,601367,613679,613679,188050            Mus musculus          NaN  \n",
       "32678  614390,601367,613679,613679,188050       Rattus norvegicus      protein  \n",
       "32679  614390,601367,613679,613679,188050       Rattus norvegicus      protein  \n",
       "32680  614390,601367,613679,613679,188050       Rattus norvegicus      protein  \n",
       "32681  614390,601367,613679,613679,188050       Rattus norvegicus      protein  \n",
       "32682  614390,601367,613679,613679,188050       Rattus norvegicus      protein  \n",
       "32683  614390,601367,613679,613679,188050       Rattus norvegicus      protein  \n",
       "32684  614390,601367,613679,613679,188050       Rattus norvegicus      protein  \n",
       "32685  614390,601367,613679,613679,188050       Rattus norvegicus      protein  \n",
       "32686  614390,601367,613679,613679,188050      Platichthys flesus         mRNA  \n",
       "32687  614390,601367,613679,613679,188050      Platichthys flesus         mRNA  \n",
       "32688  614390,601367,613679,613679,188050            Homo sapiens      protein  \n",
       "32689  614390,601367,613679,613679,188050            Homo sapiens      protein  \n",
       "32690  614390,601367,613679,613679,188050            Homo sapiens      protein  \n",
       "32691  614390,601367,613679,613679,188050            Homo sapiens      protein  \n",
       "32692  614390,601367,613679,613679,188050            Homo sapiens      protein  \n",
       "32693  614390,601367,613679,613679,188050            Homo sapiens      protein  \n",
       "32694  614390,601367,613679,613679,188050            Homo sapiens      protein  \n",
       "32695  614390,601367,613679,613679,188050            Homo sapiens      protein  \n",
       "32696  614390,601367,613679,613679,188050            Homo sapiens      protein  \n",
       "32697  614390,601367,613679,613679,188050            Homo sapiens      protein  \n",
       "32698  614390,601367,613679,613679,188050            Homo sapiens      protein  \n",
       "32699  614390,601367,613679,613679,188050            Homo sapiens      protein  \n",
       "32700  614390,601367,613679,613679,188050            Homo sapiens      protein  \n",
       "32701  614390,601367,613679,613679,188050            Homo sapiens      protein  \n",
       "32702  614390,601367,613679,613679,188050            Homo sapiens      protein  \n",
       "32703  614390,601367,613679,613679,188050            Homo sapiens      protein  \n",
       "32704  614390,601367,613679,613679,188050            Homo sapiens      protein  \n",
       "32705  614390,601367,613679,613679,188050            Homo sapiens      protein  \n",
       "32706  614390,601367,613679,613679,188050            Homo sapiens      protein  \n",
       "32707  614390,601367,613679,613679,188050            Homo sapiens      protein  \n",
       "32708  614390,601367,613679,613679,188050            Mus musculus      protein  \n",
       "32709  614390,601367,613679,613679,188050            Mus musculus      protein  \n",
       "32710  614390,601367,613679,613679,188050            Mus musculus      protein  \n",
       "32711  614390,601367,613679,613679,188050            Homo sapiens      protein  \n",
       "32712  614390,601367,613679,613679,188050            Homo sapiens         mRNA  \n",
       "32713  614390,601367,613679,613679,188050                     NaN         mRNA  \n",
       "32714  614390,601367,613679,613679,188050                     NaN         mRNA  \n",
       "32715  614390,601367,613679,613679,188050            Homo sapiens      protein  \n",
       "32716  614390,601367,613679,613679,188050            Homo sapiens      protein  \n",
       "32717  614390,601367,613679,613679,188050            Homo sapiens      protein  \n",
       "32718  614390,601367,613679,613679,188050       Rattus norvegicus         mRNA  \n",
       "32719  614390,601367,613679,613679,188050            Homo sapiens      protein  \n",
       "32720  614390,601367,613679,613679,188050            Homo sapiens      protein  \n",
       "32721  614390,601367,613679,613679,188050                     NaN      protein  \n",
       "32722  614390,601367,613679,613679,188050       Bothrops neuwiedi      protein  \n",
       "32723  614390,601367,613679,613679,188050       Bothrops neuwiedi      protein  \n",
       "32724  614390,601367,613679,613679,188050       Bothrops neuwiedi      protein  \n",
       "32725  614390,601367,613679,613679,188050            Homo sapiens      protein  \n",
       "32726  614390,601367,613679,613679,188050            Homo sapiens      protein  \n",
       "32727  614390,601367,613679,613679,188050            Homo sapiens      protein  \n",
       "32728  614390,601367,613679,613679,188050            Homo sapiens      protein  \n",
       "32729  614390,601367,613679,613679,188050            Homo sapiens      protein  \n",
       "32730  614390,601367,613679,613679,188050            Homo sapiens      protein  \n",
       "32731  614390,601367,613679,613679,188050            Mus musculus      protein  \n",
       "32732  614390,601367,613679,613679,188050            Mus musculus      protein  \n",
       "32733  614390,601367,613679,613679,188050                     NaN      protein  \n",
       "32734  614390,601367,613679,613679,188050            Homo sapiens         mRNA  \n",
       "32735  614390,601367,613679,613679,188050            Homo sapiens      protein  \n",
       "32736  614390,601367,613679,613679,188050            Homo sapiens      protein  \n",
       "32737  614390,601367,613679,613679,188050            Homo sapiens      protein  \n",
       "32738  614390,601367,613679,613679,188050            Homo sapiens      protein  \n",
       "32739  614390,601367,613679,613679,188050            Homo sapiens      protein  \n",
       "32740  614390,601367,613679,613679,188050            Homo sapiens      protein  \n",
       "32741  614390,601367,613679,613679,188050            Homo sapiens      protein  \n",
       "32742  614390,601367,613679,613679,188050            Homo sapiens      protein  \n",
       "32743  614390,601367,613679,613679,188050            Homo sapiens      protein  \n",
       "32744  614390,601367,613679,613679,188050                     NaN      protein  \n",
       "32745  614390,601367,613679,613679,188050            Homo sapiens      protein  \n",
       "32746  614390,601367,613679,613679,188050            Homo sapiens      protein  \n",
       "32747  614390,601367,613679,613679,188050            Homo sapiens      protein  \n",
       "32748  614390,601367,613679,613679,188050            Homo sapiens      protein  \n",
       "32749  614390,601367,613679,613679,188050            Homo sapiens      protein  \n",
       "32750  614390,601367,613679,613679,188050            Homo sapiens      protein  \n",
       "32751  614390,601367,613679,613679,188050            Mus musculus         mRNA  \n",
       "32752  614390,601367,613679,613679,188050            Mus musculus         mRNA  \n",
       "32753  614390,601367,613679,613679,188050            Mus musculus      protein  \n",
       "32754  614390,601367,613679,613679,188050            Mus musculus      protein  \n",
       "32755  614390,601367,613679,613679,188050            Homo sapiens      protein  \n",
       "32756  614390,601367,613679,613679,188050            Homo sapiens      protein  \n",
       "32757  614390,601367,613679,613679,188050            Homo sapiens      protein  \n",
       "32758  614390,601367,613679,613679,188050       Rattus norvegicus      protein  \n",
       "32759  614390,601367,613679,613679,188050            Homo sapiens         mRNA  \n",
       "32760  614390,601367,613679,613679,188050            Homo sapiens     promoter  \n",
       "32761  614390,601367,613679,613679,188050            Mus musculus         mRNA  \n",
       "32762  614390,601367,613679,613679,188050         Oryzias latipes         mRNA  \n",
       "32763  614390,601367,613679,613679,188050             Danio rerio         mRNA  \n",
       "32764  614390,601367,613679,613679,188050       Rattus norvegicus         mRNA  \n",
       "32765  614390,601367,613679,613679,188050            Mus musculus         mRNA  \n",
       "32766  614390,601367,613679,613679,188050            Mus musculus         exon  \n",
       "32767  614390,601367,613679,613679,188050             Danio rerio       intron  \n",
       "32768  614390,601367,613679,613679,188050             Danio rerio         mRNA  \n",
       "32769  614390,601367,613679,613679,188050            Homo sapiens         mRNA  \n",
       "32770  614390,601367,613679,613679,188050            Homo sapiens         gene  \n",
       "32771  614390,601367,613679,613679,188050            Homo sapiens         gene  \n",
       "32772  614390,601367,613679,613679,188050            Mus musculus         mRNA  \n",
       "32773  614390,601367,613679,613679,188050       Rattus norvegicus         mRNA  \n",
       "32774  614390,601367,613679,613679,188050       Rattus norvegicus         mRNA  \n",
       "32775  614390,601367,613679,613679,188050       Rattus norvegicus      protein  \n",
       "32776  614390,601367,613679,613679,188050             Danio rerio         mRNA  \n",
       "32777  614390,601367,613679,613679,188050            Homo sapiens      protein  \n",
       "32778  614390,601367,613679,613679,188050            Homo sapiens      protein  \n",
       "32779  614390,601367,613679,613679,188050            Homo sapiens      protein  \n",
       "32780  614390,601367,613679,613679,188050            Homo sapiens      protein  \n",
       "32781  614390,601367,613679,613679,188050            Homo sapiens      protein  \n",
       "32782  614390,601367,613679,613679,188050            Homo sapiens      protein  \n",
       "32783  614390,601367,613679,613679,188050                   Papio      protein  \n",
       "32784  614390,601367,613679,613679,188050                   Papio      protein  \n",
       "32785  614390,601367,613679,613679,188050                   Papio      protein  \n",
       "32786  614390,601367,613679,613679,188050                   Papio      protein  \n",
       "32787  614390,601367,613679,613679,188050                   Papio      protein  \n",
       "32788  614390,601367,613679,613679,188050                   Papio      protein  \n",
       "32789  614390,601367,613679,613679,188050                     NaN      protein  \n",
       "32790  614390,601367,613679,613679,188050                     NaN      protein  \n",
       "32791  614390,601367,613679,613679,188050                     NaN      protein  \n",
       "32792  614390,601367,613679,613679,188050             Danio rerio         mRNA  \n",
       "32793  614390,601367,613679,613679,188050            Homo sapiens         mRNA  \n",
       "32794  614390,601367,613679,613679,188050            Homo sapiens      protein  \n",
       "32795  614390,601367,613679,613679,188050        Perca flavescens         mRNA  \n",
       "32796  614390,601367,613679,613679,188050      Platichthys flesus         mRNA  \n",
       "32797  614390,601367,613679,613679,188050            Homo sapiens      protein  \n",
       "32798  614390,601367,613679,613679,188050            Homo sapiens      protein  \n",
       "32799  614390,601367,613679,613679,188050            Homo sapiens      protein  \n",
       "32800  614390,601367,613679,613679,188050            Homo sapiens      protein  \n",
       "32801  614390,601367,613679,613679,188050            Homo sapiens      protein  \n",
       "32802  614390,601367,613679,613679,188050            Homo sapiens      protein  \n",
       "32803  614390,601367,613679,613679,188050            Homo sapiens      protein  \n",
       "32804  614390,601367,613679,613679,188050            Homo sapiens      protein  \n",
       "32805  614390,601367,613679,613679,188050            Homo sapiens      protein  \n",
       "32806  614390,601367,613679,613679,188050            Homo sapiens      protein  \n",
       "32807  614390,601367,613679,613679,188050            Homo sapiens      protein  \n",
       "32808  614390,601367,613679,613679,188050            Homo sapiens      protein  \n",
       "32809  614390,601367,613679,613679,188050            Homo sapiens      protein  \n",
       "32810  614390,601367,613679,613679,188050            Homo sapiens      protein  \n",
       "32811  614390,601367,613679,613679,188050            Homo sapiens      protein  \n",
       "32812  614390,601367,613679,613679,188050            Homo sapiens      protein  \n",
       "32813  614390,601367,613679,613679,188050            Homo sapiens      protein  \n",
       "32814  614390,601367,613679,613679,188050            Homo sapiens      protein  \n",
       "32815  614390,601367,613679,613679,188050            Homo sapiens      protein  \n",
       "32816  614390,601367,613679,613679,188050            Homo sapiens      protein  \n",
       "32817  614390,601367,613679,613679,188050            Homo sapiens      protein  \n",
       "32818  614390,601367,613679,613679,188050            Homo sapiens      protein  \n",
       "32819  614390,601367,613679,613679,188050            Homo sapiens      protein  \n",
       "32820  614390,601367,613679,613679,188050            Homo sapiens      protein  \n",
       "32821  614390,601367,613679,613679,188050            Homo sapiens      protein  \n",
       "32822  614390,601367,613679,613679,188050            Homo sapiens      protein  \n",
       "32823  614390,601367,613679,613679,188050            Homo sapiens      protein  \n",
       "32824  614390,601367,613679,613679,188050       Rattus norvegicus      protein  \n",
       "32825  614390,601367,613679,613679,188050            Mus musculus      protein  \n",
       "32826  614390,601367,613679,613679,188050       Rattus norvegicus         mRNA  \n",
       "32827  614390,601367,613679,613679,188050       Rattus norvegicus         mRNA  \n",
       "32828  614390,601367,613679,613679,188050       Rattus norvegicus         mRNA  \n",
       "32829  614390,601367,613679,613679,188050            Mus musculus         mRNA  \n",
       "32830  614390,601367,613679,613679,188050            Mus musculus         mRNA  \n",
       "32831  614390,601367,613679,613679,188050            Homo sapiens      protein  \n",
       "32832  614390,601367,613679,613679,188050            Homo sapiens      protein  \n",
       "32833  614390,601367,613679,613679,188050       Rattus norvegicus         mRNA  \n",
       "32834  614390,601367,613679,613679,188050       Rattus norvegicus         mRNA  \n",
       "32835  614390,601367,613679,613679,188050       Rattus norvegicus         mRNA  \n",
       "32836  614390,601367,613679,613679,188050      Platichthys flesus         mRNA  \n",
       "32837  614390,601367,613679,613679,188050            Homo sapiens      protein  \n",
       "32838  614390,601367,613679,613679,188050            Homo sapiens         mRNA  \n",
       "32839  614390,601367,613679,613679,188050         Cyprinus carpio         mRNA  \n",
       "32840  614390,601367,613679,613679,188050            Mus musculus         mRNA  \n",
       "32841  614390,601367,613679,613679,188050            Mus musculus      protein  \n",
       "32842  614390,601367,613679,613679,188050            Mus musculus      protein  \n",
       "32843  614390,601367,613679,613679,188050            Homo sapiens      protein  \n",
       "32844  614390,601367,613679,613679,188050            Homo sapiens      protein  \n",
       "32845  614390,601367,613679,613679,188050            Homo sapiens      protein  \n",
       "32846  614390,601367,613679,613679,188050     Macaca fascicularis         mRNA  \n",
       "32847  614390,601367,613679,613679,188050            Mus musculus      protein  \n",
       "32848  614390,601367,613679,613679,188050            Mus musculus      protein  \n",
       "32849  614390,601367,613679,613679,188050            Homo sapiens         mRNA  \n",
       "32850  614390,601367,613679,613679,188050            Homo sapiens      protein  \n",
       "32851  614390,601367,613679,613679,188050            Homo sapiens      protein  \n",
       "32852  614390,601367,613679,613679,188050            Homo sapiens      protein  \n",
       "32853  614390,601367,613679,613679,188050            Homo sapiens      protein  \n",
       "32854  614390,601367,613679,613679,188050            Homo sapiens      protein  \n",
       "32855  614390,601367,613679,613679,188050            Homo sapiens      protein  \n",
       "32856  614390,601367,613679,613679,188050                   Papio      protein  \n",
       "32857  614390,601367,613679,613679,188050                   Papio      protein  \n",
       "32858  614390,601367,613679,613679,188050                     NaN      protein  \n",
       "32859  614390,601367,613679,613679,188050                     NaN      protein  \n",
       "32860  614390,601367,613679,613679,188050            Homo sapiens      protein  \n",
       "32861  614390,601367,613679,613679,188050            Homo sapiens      protein  \n",
       "32862  614390,601367,613679,613679,188050                     NaN      protein  \n",
       "32863  614390,601367,613679,613679,188050            Homo sapiens      protein  \n",
       "32864  614390,601367,613679,613679,188050            Homo sapiens      protein  \n",
       "32865  614390,601367,613679,613679,188050       Rattus norvegicus         mRNA  \n",
       "32866  614390,601367,613679,613679,188050            Homo sapiens         mRNA  \n",
       "32867  614390,601367,613679,613679,188050       Bothrops neuwiedi      protein  \n",
       "32868  614390,601367,613679,613679,188050       Bothrops neuwiedi      protein  \n",
       "32869  614390,601367,613679,613679,188050       Bothrops neuwiedi      protein  \n",
       "32870  614390,601367,613679,613679,188050           Gallus gallus      protein  \n",
       "32871  614390,601367,613679,613679,188050           Gallus gallus      protein  \n",
       "32872  614390,601367,613679,613679,188050            Homo sapiens      protein  \n",
       "32873  614390,601367,613679,613679,188050            Homo sapiens      protein  \n",
       "32874  614390,601367,613679,613679,188050            Mus musculus         mRNA  \n",
       "32875  614390,601367,613679,613679,188050       Rattus norvegicus      protein  \n",
       "32876  614390,601367,613679,613679,188050       Rattus norvegicus      protein  \n",
       "32877  614390,601367,613679,613679,188050       Rattus norvegicus      protein  \n",
       "32878  614390,601367,613679,613679,188050       Rattus norvegicus      protein  \n",
       "32879  614390,601367,613679,613679,188050       Rattus norvegicus      protein  \n",
       "32880  614390,601367,613679,613679,188050       Rattus norvegicus      protein  \n",
       "32881  614390,601367,613679,613679,188050       Rattus norvegicus      protein  \n",
       "32882  614390,601367,613679,613679,188050       Rattus norvegicus      protein  \n",
       "32883  614390,601367,613679,613679,188050  Canis lupus familiaris      protein  \n",
       "32884  614390,601367,613679,613679,188050                     NaN      protein  \n",
       "32885  614390,601367,613679,613679,188050                     NaN      protein  \n",
       "32886  614390,601367,613679,613679,188050                     NaN      protein  \n",
       "32887  614390,601367,613679,613679,188050            Homo sapiens      protein  \n",
       "32888  614390,601367,613679,613679,188050            Homo sapiens      protein  \n",
       "32889  614390,601367,613679,613679,188050            Homo sapiens         mRNA  \n",
       "32890  614390,601367,613679,613679,188050            Mus musculus         mRNA  \n",
       "32891  614390,601367,613679,613679,188050       Rattus norvegicus         mRNA  \n",
       "32892  614390,601367,613679,613679,188050            Homo sapiens      protein  \n",
       "32893  614390,601367,613679,613679,188050            Homo sapiens      protein  \n",
       "32894  614390,601367,613679,613679,188050            Mus musculus      protein  \n",
       "32895  614390,601367,613679,613679,188050            Homo sapiens      protein  \n",
       "32896  614390,601367,613679,613679,188050            Homo sapiens      protein  \n",
       "32897  614390,601367,613679,613679,188050            Homo sapiens      protein  \n",
       "32898  614390,601367,613679,613679,188050            Homo sapiens      protein  \n",
       "32899  614390,601367,613679,613679,188050       Rattus norvegicus      protein  \n",
       "32900  614390,601367,613679,613679,188050       Rattus norvegicus      protein  \n",
       "32901  614390,601367,613679,613679,188050              Sus scrofa         mRNA  \n",
       "32902  614390,601367,613679,613679,188050            Homo sapiens      protein  \n",
       "32903  614390,601367,613679,613679,188050            Homo sapiens      protein  \n",
       "32904  614390,601367,613679,613679,188050             Danio rerio         mRNA  \n",
       "32905  614390,601367,613679,613679,188050             Danio rerio         mRNA  \n",
       "32906  614390,601367,613679,613679,188050           Gallus gallus         mRNA  \n",
       "32907  614390,601367,613679,613679,188050            Homo sapiens         mRNA  \n",
       "32908  614390,601367,613679,613679,188050            Homo sapiens      protein  \n",
       "32909  614390,601367,613679,613679,188050            Homo sapiens      protein  \n",
       "32910  614390,601367,613679,613679,188050       Rattus norvegicus      protein  \n",
       "32911  614390,601367,613679,613679,188050       Rattus norvegicus      protein  \n",
       "32912  614390,601367,613679,613679,188050       Rattus norvegicus      protein  \n",
       "32913                              614389            Mus musculus         mRNA  \n",
       "32914                              614389            Homo sapiens         mRNA  \n",
       "32915                              614389            Homo sapiens         mRNA  \n",
       "32916                              614389       Rattus norvegicus         mRNA  \n",
       "32917                              614389            Homo sapiens         mRNA  \n",
       "32918                              614389            Homo sapiens         mRNA  \n",
       "32919                              614389       Rattus norvegicus         mRNA  \n",
       "32920                              614389     Colinus virginianus         mRNA  \n",
       "32921                              614389       Rattus norvegicus         mRNA  \n",
       "32922                              614389       Rattus norvegicus         mRNA  \n",
       "32923                              614389            Homo sapiens         mRNA  \n",
       "32924                              614389            Mus musculus         mRNA  \n",
       "32925                              614389            Mus musculus         mRNA  \n",
       "32926                              614389            Mus musculus         mRNA  \n",
       "32927                              614389            Homo sapiens         mRNA  \n",
       "32928                              614389            Homo sapiens         mRNA  \n",
       "32929                              614389            Homo sapiens         mRNA  \n",
       "32930                              614389            Homo sapiens         mRNA  \n",
       "32931                              614389            Homo sapiens         mRNA  \n",
       "32932                              614389            Homo sapiens         mRNA  \n",
       "32933                              614389            Homo sapiens         mRNA  \n",
       "32934                              614389            Homo sapiens         mRNA  \n",
       "32935                              614389            Homo sapiens         mRNA  \n",
       "32936                              614389            Homo sapiens         mRNA  \n",
       "32937                              614389            Homo sapiens         mRNA  \n",
       "32938                              614389            Homo sapiens         mRNA  \n",
       "32939                              614389       Rattus norvegicus      protein  \n",
       "32940                              614389       Rattus norvegicus         mRNA  \n",
       "32941                              614389            Homo sapiens         mRNA  \n",
       "32942                              614389            Mus musculus         mRNA  \n",
       "32943                              614389            Mus musculus         mRNA  \n",
       "32944                              614389            Mus musculus         mRNA  \n",
       "32945                              614389            Mus musculus         mRNA  \n",
       "32946                              614389            Mus musculus         mRNA  \n",
       "32947                              614389            Mus musculus         mRNA  \n",
       "32948                              614389            Mus musculus         mRNA  \n",
       "32949                              614389       Rattus norvegicus         mRNA  \n",
       "32950                              614389            Homo sapiens      protein  \n",
       "32951                              614389            Homo sapiens         gene  \n",
       "32952                              614389            Mus musculus         mRNA  \n",
       "32953                              614389       Rattus norvegicus         mRNA  \n",
       "32954                              614389            Mus musculus         mRNA  \n",
       "32955                              614389            Mus musculus         mRNA  \n",
       "32956                              614389            Homo sapiens         mRNA  \n",
       "32957                              614389            Homo sapiens         mRNA  \n",
       "32958                              614389            Homo sapiens         mRNA  \n",
       "32959                              614389            Homo sapiens         mRNA  \n",
       "32960                              614389            Mus musculus         mRNA  \n",
       "32961                              614389            Mus musculus      protein  \n",
       "32962                              614389            Mus musculus      protein  \n",
       "32963                              614389            Homo sapiens         mRNA  \n",
       "32964                              614389            Homo sapiens      protein  \n",
       "32965                              614389            Homo sapiens      protein  \n",
       "32966                              614389            Homo sapiens      protein  \n",
       "32967                              614389            Homo sapiens      protein  \n",
       "32968                              614389         Cyprinus carpio         mRNA  \n",
       "32969                              614389            Mus musculus         mRNA  \n",
       "32970                              614389            Mus musculus         mRNA  \n",
       "32971                              614389             Danio rerio         mRNA  \n",
       "32972                              614389            Mus musculus         mRNA  \n",
       "32973                              614389            Homo sapiens     promoter  \n",
       "32974                              614389            Mus musculus         mRNA  \n",
       "32975                              614389            Mus musculus         mRNA  \n",
       "32976                              614389            Homo sapiens         mRNA  \n",
       "32977                              614389            Homo sapiens         gene  \n",
       "32978                              614389            Mus musculus         mRNA  \n",
       "32979                              614389             Danio rerio         mRNA  \n",
       "32980                              614389            Homo sapiens      protein  \n",
       "32981                              614389            Homo sapiens      protein  \n",
       "32982                              614389            Homo sapiens      protein  \n",
       "32983                              614389            Homo sapiens      protein  \n",
       "32984                              614389            Mus musculus         mRNA  \n",
       "32985                              614389            Mus musculus         mRNA  \n",
       "32986                              614389         Oryzias latipes         mRNA  \n",
       "32987                              614389       Rattus norvegicus         mRNA  \n",
       "32988                              614389       Rattus norvegicus         mRNA  \n",
       "32989                              614389       Rattus norvegicus         gene  \n",
       "32990                              614389            Mus musculus         mRNA  \n",
       "32991                              614389             Danio rerio         mRNA  \n",
       "32992                              614389            Homo sapiens         mRNA  \n",
       "32993                              614389            Homo sapiens         mRNA  \n",
       "32994                              614389            Homo sapiens         mRNA  \n",
       "32995                              614389            Homo sapiens      protein  \n",
       "32996                              614389        Perca flavescens         mRNA  \n",
       "32997                              614389            Homo sapiens         mRNA  \n",
       "32998                              614389            Homo sapiens         mRNA  \n",
       "32999                              614389            Homo sapiens         mRNA  \n",
       "33000                              614389            Homo sapiens         mRNA  \n",
       "33001                              614389            Homo sapiens         mRNA  \n",
       "33002                              614389            Homo sapiens      protein  \n",
       "33003                              614389            Homo sapiens      protein  \n",
       "33004                              614389            Homo sapiens      protein  \n",
       "33005                              614389            Homo sapiens      protein  \n",
       "33006                              614389            Homo sapiens      protein  \n",
       "33007                              614389            Homo sapiens      protein  \n",
       "33008                              614389            Homo sapiens      protein  \n",
       "33009                              614389            Homo sapiens      protein  \n",
       "33010                              614389             Danio rerio         mRNA  \n",
       "33011                              614389            Mus musculus         mRNA  \n",
       "33012                              614389       Rattus norvegicus         mRNA  \n",
       "33013                              614389            Mus musculus         mRNA  \n",
       "33014                              614389            Mus musculus         mRNA  \n",
       "33015                              614389            Homo sapiens         gene  \n",
       "33016                              614389            Homo sapiens         gene  \n",
       "33017                              614389       Rattus norvegicus         mRNA  \n",
       "33018                              614389         Cyprinus carpio         mRNA  \n",
       "33019                              614389         Cyprinus carpio         mRNA  \n",
       "33020                              614389            Homo sapiens         mRNA  \n",
       "33021                              614389            Homo sapiens         mRNA  \n",
       "33022                              614389            Homo sapiens         mRNA  \n",
       "33023                              614389            Mus musculus         mRNA  \n",
       "33024                              614389            Mus musculus         mRNA  \n",
       "33025                              614389            Mus musculus         mRNA  \n",
       "33026                              614389            Mus musculus         mRNA  \n",
       "33027                              614389            Mus musculus         mRNA  \n",
       "33028                              614389            Mus musculus         mRNA  \n",
       "33029                              614389            Mus musculus         mRNA  \n",
       "33030                              614389       Rattus norvegicus         mRNA  \n",
       "33031                              614389       Rattus norvegicus         mRNA  \n",
       "33032                              614389       Rattus norvegicus         mRNA  \n",
       "33033                              614389            Homo sapiens         gene  \n",
       "33034                              614389       Rattus norvegicus         mRNA  \n",
       "33035                              614389            Homo sapiens  mutant form  \n",
       "33036                              614389            Homo sapiens         mRNA  \n",
       "33037                              614389            Mus musculus         mRNA  \n",
       "33038                              614389            Mus musculus         mRNA  \n",
       "33039                              614389            Homo sapiens      protein  \n",
       "33040                              614389            Homo sapiens         mRNA  \n",
       "33041                              614389              Sus scrofa         mRNA  \n",
       "33042                              614389            Mus musculus         mRNA  \n",
       "33043                              614389            Mus musculus         mRNA  \n",
       "35933                                 NaN            Homo sapiens         mRNA  \n",
       "35934                                 NaN            Homo sapiens         mRNA  \n",
       "35935                                 NaN            Homo sapiens         mRNA  \n",
       "35936                                 NaN            Mus musculus         mRNA  \n",
       "35937                                 NaN       Rattus norvegicus         mRNA  \n",
       "35938                                 NaN       Rattus norvegicus         mRNA  \n",
       "35939                                 NaN            Homo sapiens         mRNA  \n",
       "35940                                 NaN            Homo sapiens         mRNA  \n",
       "35941                                 NaN            Homo sapiens         mRNA  \n",
       "35942                                 NaN             Danio rerio         mRNA  \n",
       "35943                                 NaN            Homo sapiens       3' UTR  \n",
       "35944                                 NaN            Homo sapiens     promoter  \n",
       "35945                                 NaN            Homo sapiens         mRNA  \n",
       "35946                                 NaN            Mus musculus         mRNA  \n",
       "35947                                 NaN             Danio rerio         mRNA  \n",
       "35948                                 NaN            Homo sapiens         mRNA  \n",
       "35949                                 NaN            Homo sapiens         mRNA  \n",
       "35950                                 NaN            Mus musculus     promoter  \n",
       "35951                                 NaN            Mus musculus         mRNA  \n",
       "35952                                 NaN     Pimephales promelas         mRNA  \n",
       "35953                                 NaN            Mus musculus         mRNA  \n",
       "35954                                 NaN       Rattus norvegicus         mRNA  \n",
       "35955                                 NaN       Rattus norvegicus         mRNA  \n",
       "35956                                 NaN            Homo sapiens         mRNA  \n",
       "35957                                 NaN            Homo sapiens         mRNA  \n",
       "35958                                 NaN            Mus musculus         gene  \n",
       "35959                                 NaN            Mus musculus         gene  \n",
       "35960                                 NaN            Homo sapiens         mRNA  \n",
       "35961                                 NaN            Homo sapiens         mRNA  \n",
       "35962                                 NaN            Homo sapiens         mRNA  \n",
       "35963                                 NaN            Homo sapiens         mRNA  \n",
       "35964                                 NaN            Homo sapiens         mRNA  \n",
       "35965                                 NaN             Danio rerio         mRNA  \n",
       "35966                                 NaN            Homo sapiens     promoter  \n",
       "35967                                 NaN            Mus musculus         mRNA  \n",
       "59451                                 NaN            Mus musculus         mRNA  \n",
       "59452                                 NaN            Mus musculus         mRNA  \n",
       "59453                                 NaN            Mus musculus         mRNA  \n",
       "59454                                 NaN            Mus musculus         mRNA  \n",
       "59455                                 NaN            Mus musculus         mRNA  \n",
       "59456                                 NaN            Mus musculus         mRNA  \n",
       "59457                                 NaN            Mus musculus         mRNA  \n",
       "59458                                 NaN            Mus musculus         mRNA  \n",
       "59459                                 NaN            Mus musculus         mRNA  \n",
       "59460                                 NaN            Mus musculus         mRNA  \n",
       "59461                                 NaN            Mus musculus         mRNA  \n",
       "59462                                 NaN            Homo sapiens       intron  \n",
       "59463                                 NaN            Homo sapiens         exon  \n",
       "59464                                 NaN            Homo sapiens       intron  \n",
       "59465                                 NaN                     NaN         mRNA  \n",
       "59466                                 NaN                     NaN         mRNA  \n",
       "59467                                 NaN            Homo sapiens         mRNA  \n",
       "59468                                 NaN            Homo sapiens       intron  \n",
       "59469                                 NaN            Homo sapiens     promoter  \n",
       "59470                                 NaN            Mus musculus     promoter  \n",
       "59471                                 NaN            Mus musculus     promoter  \n",
       "59472                                 NaN            Homo sapiens         gene  \n",
       "59473                                 NaN            Homo sapiens         gene  \n",
       "59474                                 NaN            Homo sapiens         gene  \n",
       "59475                                 NaN            Mus musculus     promoter  \n",
       "59476                                 NaN       Rattus norvegicus         mRNA  \n",
       "59477                                 NaN       Rattus norvegicus         mRNA  \n",
       "59478                                 NaN            Homo sapiens         gene  \n",
       "59479                                 NaN            Homo sapiens         gene  "
      ]
     },
     "metadata": {},
     "output_type": "display_data"
    }
   ],
   "source": [
    "#@title Plot Network (double click to hide/show code)\n",
    "#@markdown Run the code. Then, select the genes and interactions you're interested in exploring and click the \"UPDATE\" button to see the visualization. Use the \"CNTRL\" button to make more than one selection.\n",
    "filtered = pd.DataFrame()\n",
    "output = widgets.Output()\n",
    "\n",
    "dropdown_gene = widgets.SelectMultiple(description = \"Select Gene:\",\n",
    "                                 options = sorted(rpl_df.Gene_Name.unique()))\n",
    "dropdown_chemical = widgets.SelectMultiple(description = \"Select Chemical:\",\n",
    "                                options = sorted(rpl_df.chemical_name.unique()))\n",
    "dropdown_disease = widgets.Combobox(description = \"Select Disease:\",\n",
    "                                options = sorted(set(filter_RPL_diseases)))\n",
    "\n",
    "\n",
    "update_button = widgets.Button(description = \"UPDATE\")\n",
    "update_button.style.button_color = \"#51ABAC\"\n",
    "\n",
    "def sigmagraph():\n",
    "  if (len(dropdown_gene.value)==0) and (len(dropdown_chemical.value)== 0) and (len(dropdown_disease.value)== 0):\n",
    "    filtered = rpl_df\n",
    "  elif len(dropdown_gene.value)== 0 and (len(dropdown_disease.value)== 0):\n",
    "    filtered = rpl_df[rpl_df.chemical_name.isin(dropdown_chemical.value)]\n",
    "  elif len(dropdown_chemical.value) == 0 and (len(dropdown_disease.value)== 0):\n",
    "    filtered = rpl_df[rpl_df.Gene_Name.isin(dropdown_gene.value)]\n",
    "  elif len(dropdown_gene.value) == 0 and (len(dropdown_chemical.value)== 0):\n",
    "    filtered = rpl_df[(rpl_df.Disease.str.contains(dropdown_disease.value, na=False,regex=False))]\n",
    "  elif len(dropdown_gene.value) == 0:\n",
    "    filtered = rpl_df[(rpl_df.Disease.str.contains(dropdown_disease.value, na=False,regex=False)) & (rpl_df.chemical_name.isin(dropdown_chemical.value))]\n",
    "  elif len(dropdown_chemical.value) == 0:\n",
    "    filtered = rpl_df[(rpl_df.Gene_Name.isin(dropdown_gene.value)) & (rpl_df.Disease.str.contains(dropdown_disease.value, na=False,regex=False))]\n",
    "  elif len(dropdown_disease.value) == 0:\n",
    "    filtered = rpl_df[(rpl_df.Gene_Name.isin(dropdown_gene.value)) & (rpl_df.chemical_name.isin(dropdown_chemical.value))]\n",
    "  else:\n",
    "    filtered = rpl_df[(rpl_df.Gene_Name.isin(dropdown_gene.value)) & (rpl_df.chemical_name.isin(dropdown_chemical.value)) & (rpl_df.Disease.str.contains(dropdown_disease.value, na=False,regex=False))]\n",
    "\n",
    "\n",
    "  filtered_ = filtered[[\"Gene Effect\", \"Variant(s)\", \"Disease\", \"OMIM Phenotype\", \"Gene_Name\", \"chemical_name\", \"InteractionActions\"]]\n",
    "  df_filtered = pd.DataFrame({\n",
    "    \"Gene\": filtered[\"Gene_Name\"],\n",
    "    \"Chemical\": filtered[\"chemical_name\"],\n",
    "    \"Degree\": filtered[\"Degree\"],\n",
    "    \"Type\": filtered[\"Type\"],\n",
    "    \"Disease\": filtered[\"Disease\"],\n",
    "    \"Edges\": filtered[\"edges\"]\n",
    "  })\n",
    "\n",
    "  g = nx.MultiGraph()\n",
    "  relations = list(filtered[\"edges\"])\n",
    "  for i in relations:\n",
    "      g.add_edge(i[0], i[1], relation = i[2])\n",
    "\n",
    "  def nsize(node):\n",
    "    if node in filtered[\"Gene_Name\"].values:\n",
    "      count_size = filtered[\"Gene_Name\"].value_counts()[node]\n",
    "    elif node in filtered[\"chemical_name\"].values:\n",
    "      count_size = filtered[\"chemical_name\"].value_counts()[node]\n",
    "    else:\n",
    "      count_size = 0\n",
    "    return count_size\n",
    "  def ncolor(node):\n",
    "    node_color_dict = {\"darkslategray\": \"Gene\", \"mediumturquoise\": \"Chemical\"}\n",
    "    if node in filtered[\"Gene_Name\"].unique():\n",
    "      color = \"darkslategray\"\n",
    "    else:\n",
    "      color = \"mediumturquoise\"\n",
    "    return node_color_dict[color]\n",
    "  def edgecolor(edge):\n",
    "    color_dict = {\"#f542ce\": \"increases\", \"#4287f5\": \"decreases\", \"#808080\": \"affects\"}\n",
    "    color_dict_inv = {\"increases\":\"#f542ce\", \"decreases\":\"#4287f5\",\"affects\": \"#808080\"}\n",
    "    if edge[\"relation\"] == \"increases\":\n",
    "      colore = color_dict_inv[\"increases\"]\n",
    "    elif edge[\"relation\"] == \"decreases\":\n",
    "      colore = color_dict_inv[\"decreases\"]\n",
    "    else:\n",
    "      colore = color_dict_inv[\"affects\"]\n",
    "    return color_dict[colore]\n",
    "\n",
    "  sigma = Sigma(g,\n",
    "        show_all_labels=True,\n",
    "        node_size= [nsize(node)*100 for node in list(g.nodes())],\n",
    "        node_color = [ncolor(node) for node in list(g.nodes())],\n",
    "        edge_color = [edgecolor(edge) for edge in list(dict(g.edges).values())],\n",
    "        height = 500\n",
    "  )\n",
    "\n",
    "  return sigma\n",
    "\n",
    "def summarygraph():\n",
    "  if (len(dropdown_gene.value)==0) and (len(dropdown_chemical.value)== 0) and (len(dropdown_disease.value)== 0):\n",
    "    filtered = rpl_df\n",
    "    sizes = tuple(rpl_genes)\n",
    "  elif len(dropdown_gene.value)== 0 and (len(dropdown_disease.value)== 0):\n",
    "    filtered = rpl_df[rpl_df.chemical_name.isin(dropdown_chemical.value)]\n",
    "    sizes = tuple(list(filtered[\"Gene_Name\"].unique()))\n",
    "  elif len(dropdown_chemical.value) == 0 and (len(dropdown_disease.value)== 0):\n",
    "    filtered = rpl_df[rpl_df.Gene_Name.isin(dropdown_gene.value)]\n",
    "    sizes = tuple(list(filtered[\"Gene_Name\"].unique()))\n",
    "  elif len(dropdown_gene.value) == 0 and (len(dropdown_chemical.value)== 0):\n",
    "    filtered = rpl_df[(rpl_df.Disease.str.contains(dropdown_disease.value, na=False,regex=False))]\n",
    "    sizes = tuple(list(filtered[\"Gene_Name\"].unique()))\n",
    "  elif len(dropdown_gene.value) == 0:\n",
    "    filtered = rpl_df[(rpl_df.Disease.str.contains(dropdown_disease.value, na=False,regex=False)) & (rpl_df.chemical_name.isin(dropdown_chemical.value))]\n",
    "    sizes = tuple(list(filtered[\"Gene_Name\"].unique()))\n",
    "  elif len(dropdown_chemical.value) == 0:\n",
    "    filtered = rpl_df[(rpl_df.Gene_Name.isin(dropdown_gene.value)) & (rpl_df.Disease.str.contains(dropdown_disease.value, na=False,regex=False))]\n",
    "    sizes = tuple(list(filtered[\"Gene_Name\"].unique()))\n",
    "  elif len(dropdown_disease.value) == 0:\n",
    "    filtered = rpl_df[(rpl_df.Gene_Name.isin(dropdown_gene.value)) & (rpl_df.chemical_name.isin(dropdown_chemical.value))]\n",
    "    sizes = tuple(list(filtered[\"Gene_Name\"].unique()))\n",
    "  else:\n",
    "    filtered = rpl_df[(rpl_df.Gene_Name.isin(dropdown_gene.value)) & (rpl_df.chemical_name.isin(dropdown_chemical.value)) & (rpl_df.Disease.str.contains(dropdown_disease.value, na=False,regex=False))]\n",
    "    sizes = tuple(list(filtered[\"Gene_Name\"].unique()))\n",
    "\n",
    "  filtered_ = filtered[[\"Gene Effect\", \"Variant(s)\", \"Disease\", \"OMIM Phenotype\", \"Gene_Name\", \"chemical_name\", \"InteractionActions\"]]\n",
    "  groups_chemical = pd.DataFrame(rpl_df.groupby(\"chemical_name\")[\"Gene_Name\"].agg(\"count\")).reset_index()\n",
    "  crosstab = pd.crosstab(rpl_df['Gene_Name'],rpl_df['Degree']).reset_index()\n",
    "\n",
    "  donut = plt.figure(figsize=(15, 12))\n",
    "  donut.subplots_adjust(hspace=0.25)\n",
    "  # Adding Title of chart\n",
    "  donut.suptitle('Number of Chemical Interactions by Type')\n",
    "\n",
    "  my_color =['#808080', '#f542ce','#4287f5']\n",
    "  labels = [\"affects\", \"increases\", \"decreases\"]\n",
    "  # Setting size in Chart based on\n",
    "  # given values\n",
    "\n",
    "  values = crosstab[crosstab[\"Gene_Name\"].isin(sizes)]\n",
    "\n",
    "  # explosion\n",
    "  explode = (0.05, 0.05, 0.05)\n",
    "\n",
    "  def func(pct, allvals): #adjust label to show % and #\n",
    "      absolute = int(np.round(pct/100.*np.sum(allvals)))\n",
    "      return f\"{pct:.1f}%\\n({absolute:d})\"\n",
    "\n",
    "  for fig, axes in enumerate(sizes+tuple(\"\")):\n",
    "      # add a new subplot iteratively\n",
    "          if axes != \"\":\n",
    "            ax = plt.subplot(3, 3, fig + 1)\n",
    "\n",
    "            # filter df and plot ticker on the new subplot axis\n",
    "            ax.pie(crosstab.loc[crosstab[\"Gene_Name\"]==axes,[\"affects\",\"increases\",\"decreases\"]].values.flatten().tolist(),\n",
    "                  wedgeprops={'width':.5, 'edgecolor':'white'}, startangle=30, colors=my_color,\n",
    "                    autopct=lambda pct: func(pct, crosstab.loc[crosstab[\"Gene_Name\"]==axes,[\"affects\",\"increases\",\"decreases\"]].values.flatten().tolist()), pctdistance=0.85, textprops={\"fontsize\":8})\n",
    "            ax.set(ylabel='', title=axes, aspect='equal')\n",
    "          else:\n",
    "            ax.set_visible(False)\n",
    "\n",
    "  # draw circle\n",
    "  centre_circle = plt.Circle((0, 0), 0.7, fc='white')\n",
    "  fig = plt.gcf()\n",
    "\n",
    "  # Adding Circle in Pie chart\n",
    "  fig.gca().add_artist(centre_circle)\n",
    "\n",
    "  # Add Legend\n",
    "  donut.legend(labels=labels,\n",
    "      loc=\"upper center\",title=\"Breakdown by Type\", bbox_to_anchor=(0., 1))\n",
    "\n",
    "  # Displaying Chart\n",
    "  plt.show()\n",
    "\n",
    "\n",
    "def filteredtable():\n",
    "  if (len(dropdown_gene.value)==0) and (len(dropdown_chemical.value)== 0) and (len(dropdown_disease.value)== 0):\n",
    "    filtered = rpl_df\n",
    "  elif len(dropdown_gene.value)== 0 and (len(dropdown_disease.value)== 0):\n",
    "    filtered = rpl_df[rpl_df.chemical_name.isin(dropdown_chemical.value)]\n",
    "  elif len(dropdown_chemical.value) == 0 and (len(dropdown_disease.value)== 0):\n",
    "    filtered = rpl_df[rpl_df.Gene_Name.isin(dropdown_gene.value)]\n",
    "  elif len(dropdown_gene.value) == 0 and (len(dropdown_chemical.value)== 0):\n",
    "    filtered = rpl_df[(rpl_df.Disease.str.contains(dropdown_disease.value, na=False,regex=False))]\n",
    "  elif len(dropdown_gene.value) == 0:\n",
    "    filtered = rpl_df[(rpl_df.Disease.str.contains(dropdown_disease.value, na=False,regex=False)) & (rpl_df.chemical_name.isin(dropdown_chemical.value))]\n",
    "  elif len(dropdown_chemical.value) == 0:\n",
    "    filtered = rpl_df[(rpl_df.Gene_Name.isin(dropdown_gene.value)) & (rpl_df.Disease.str.contains(dropdown_disease.value, na=False,regex=False))]\n",
    "  elif len(dropdown_disease.value) == 0:\n",
    "    filtered = rpl_df[(rpl_df.Gene_Name.isin(dropdown_gene.value)) & (rpl_df.chemical_name.isin(dropdown_chemical.value))]\n",
    "  else:\n",
    "    filtered = rpl_df[(rpl_df.Gene_Name.isin(dropdown_gene.value)) & (rpl_df.chemical_name.isin(dropdown_chemical.value)) & (rpl_df.Disease.str.contains(dropdown_disease.value, na=False,regex=False))]\n",
    "\n",
    "\n",
    "  filtered_ = filtered[[\"Gene_Name\", \"chemical_name\", \"InteractionActions_list\", \"Gene Effect\", \"Variant(s)\", \"Disease\", \"OMIM Phenotype\", \"Organism\", \"GeneForms\"]]\n",
    "  filtered_.columns = [\"Gene Name\", \"Chemical Name\", \"Interaction\", \"Gene Effect\", \"Variant(s)\", \"Disease\", \"Phenotype\", \"Organism\", \"Gene Form\"]\n",
    "#      data_table.DataTable(filtered_(), include_index=False, num_rows_per_page=10)\n",
    "  return filtered_\n",
    "\n",
    "def HBox(*pargs, **kwargs):\n",
    "    box = Box(*pargs, **kwargs)\n",
    "    box.layout.display = 'flex'\n",
    "    box.layout.align_items = 'stretch'\n",
    "    box.layout.flex_flow = 'columns'\n",
    "    box.layout.width ='70%'\n",
    "    return box\n",
    "\n",
    "state_out = widgets.Output()\n",
    "with state_out:\n",
    "  print('Select values to view chart')\n",
    "\n",
    "controls = VBox([\n",
    "    HBox([dropdown_gene, dropdown_chemical, dropdown_disease, update_button])])\n",
    "\n",
    "def on_button_clicked(b):\n",
    "    clear_output()\n",
    "    state_out.clear_output()\n",
    "    with state_out:\n",
    "        print(\"Filtered to '%s' and '%s'\" % (dropdown_gene.value, dropdown_chemical.value))\n",
    "    display(sigmagraph(), state_out, controls)\n",
    "    display(summarygraph())\n",
    "    display(filteredtable())\n",
    "\n",
    "update_button.on_click(on_button_clicked)\n",
    "\n",
    "display(sigmagraph(), state_out, controls)\n",
    "display(summarygraph())\n",
    "display(filteredtable())"
   ]
  },
  {
   "cell_type": "code",
   "execution_count": null,
   "metadata": {},
   "outputs": [],
   "source": []
  }
 ],
 "metadata": {
  "colab": {
   "collapsed_sections": [
    "4tC_GM1gVNL2",
    "xiFaL7_P5ie4",
    "DUVOB4wV2u2Z"
   ],
   "provenance": []
  },
  "kernelspec": {
   "display_name": "Python 3 (ipykernel)",
   "language": "python",
   "name": "python3"
  },
  "language_info": {
   "codemirror_mode": {
    "name": "ipython",
    "version": 3
   },
   "file_extension": ".py",
   "mimetype": "text/x-python",
   "name": "python",
   "nbconvert_exporter": "python",
   "pygments_lexer": "ipython3",
   "version": "3.11.4"
  },
  "widgets": {
   "application/vnd.jupyter.widget-state+json": {
    "0a391aee4f784b6090317c65666e238e": {
     "model_module": "@jupyter-widgets/controls",
     "model_module_version": "1.5.0",
     "model_name": "DescriptionStyleModel",
     "state": {
      "_model_module": "@jupyter-widgets/controls",
      "_model_module_version": "1.5.0",
      "_model_name": "DescriptionStyleModel",
      "_view_count": null,
      "_view_module": "@jupyter-widgets/base",
      "_view_module_version": "1.2.0",
      "_view_name": "StyleView",
      "description_width": ""
     }
    },
    "0d54257bd92944cfb79080a7db3eb473": {
     "model_module": "@jupyter-widgets/controls",
     "model_module_version": "1.5.0",
     "model_name": "VBoxModel",
     "state": {
      "_dom_classes": [],
      "_model_module": "@jupyter-widgets/controls",
      "_model_module_version": "1.5.0",
      "_model_name": "VBoxModel",
      "_view_count": null,
      "_view_module": "@jupyter-widgets/controls",
      "_view_module_version": "1.5.0",
      "_view_name": "VBoxView",
      "box_style": "",
      "children": [
       "IPY_MODEL_150accd4332e456e82b704ee389710c9"
      ],
      "layout": "IPY_MODEL_9057c89e5a2243e8b919c8110de063d8"
     }
    },
    "106d355ee3f748efbfc8e438abfe3791": {
     "model_module": "@jupyter-widgets/controls",
     "model_module_version": "1.5.0",
     "model_name": "DescriptionStyleModel",
     "state": {
      "_model_module": "@jupyter-widgets/controls",
      "_model_module_version": "1.5.0",
      "_model_name": "DescriptionStyleModel",
      "_view_count": null,
      "_view_module": "@jupyter-widgets/base",
      "_view_module_version": "1.2.0",
      "_view_name": "StyleView",
      "description_width": ""
     }
    },
    "150accd4332e456e82b704ee389710c9": {
     "model_module": "@jupyter-widgets/controls",
     "model_module_version": "1.5.0",
     "model_name": "BoxModel",
     "state": {
      "_dom_classes": [],
      "_model_module": "@jupyter-widgets/controls",
      "_model_module_version": "1.5.0",
      "_model_name": "BoxModel",
      "_view_count": null,
      "_view_module": "@jupyter-widgets/controls",
      "_view_module_version": "1.5.0",
      "_view_name": "BoxView",
      "box_style": "",
      "children": [
       "IPY_MODEL_b11ac7d153cf4072b90f4fd7b78245a2",
       "IPY_MODEL_5cfc2a783e8049be9c4ac318a9805f9e",
       "IPY_MODEL_f05026b8a20f4102b267fe3e49e07895",
       "IPY_MODEL_8bc77b5a4d324c6b8dff605c3b0cce77"
      ],
      "layout": "IPY_MODEL_d89f26e6fc594319b00bb67ab6516d8d"
     }
    },
    "2bb1d004e3aa47b18f1dc7f988a191b4": {
     "model_module": "@jupyter-widgets/base",
     "model_module_version": "1.2.0",
     "model_name": "LayoutModel",
     "state": {
      "_model_module": "@jupyter-widgets/base",
      "_model_module_version": "1.2.0",
      "_model_name": "LayoutModel",
      "_view_count": null,
      "_view_module": "@jupyter-widgets/base",
      "_view_module_version": "1.2.0",
      "_view_name": "LayoutView",
      "align_content": null,
      "align_items": null,
      "align_self": null,
      "border": null,
      "bottom": null,
      "display": null,
      "flex": null,
      "flex_flow": null,
      "grid_area": null,
      "grid_auto_columns": null,
      "grid_auto_flow": null,
      "grid_auto_rows": null,
      "grid_column": null,
      "grid_gap": null,
      "grid_row": null,
      "grid_template_areas": null,
      "grid_template_columns": null,
      "grid_template_rows": null,
      "height": null,
      "justify_content": null,
      "justify_items": null,
      "left": null,
      "margin": null,
      "max_height": null,
      "max_width": null,
      "min_height": null,
      "min_width": null,
      "object_fit": null,
      "object_position": null,
      "order": null,
      "overflow": null,
      "overflow_x": null,
      "overflow_y": null,
      "padding": null,
      "right": null,
      "top": null,
      "visibility": null,
      "width": null
     }
    },
    "5074401a6ea149ca8aa3b51c79d53234": {
     "model_module": "@jupyter-widgets/base",
     "model_module_version": "1.2.0",
     "model_name": "LayoutModel",
     "state": {
      "_model_module": "@jupyter-widgets/base",
      "_model_module_version": "1.2.0",
      "_model_name": "LayoutModel",
      "_view_count": null,
      "_view_module": "@jupyter-widgets/base",
      "_view_module_version": "1.2.0",
      "_view_name": "LayoutView",
      "align_content": null,
      "align_items": null,
      "align_self": null,
      "border": null,
      "bottom": null,
      "display": null,
      "flex": null,
      "flex_flow": null,
      "grid_area": null,
      "grid_auto_columns": null,
      "grid_auto_flow": null,
      "grid_auto_rows": null,
      "grid_column": null,
      "grid_gap": null,
      "grid_row": null,
      "grid_template_areas": null,
      "grid_template_columns": null,
      "grid_template_rows": null,
      "height": null,
      "justify_content": null,
      "justify_items": null,
      "left": null,
      "margin": null,
      "max_height": null,
      "max_width": null,
      "min_height": null,
      "min_width": null,
      "object_fit": null,
      "object_position": null,
      "order": null,
      "overflow": null,
      "overflow_x": null,
      "overflow_y": null,
      "padding": null,
      "right": null,
      "top": null,
      "visibility": null,
      "width": null
     }
    },
    "5cfc2a783e8049be9c4ac318a9805f9e": {
     "model_module": "@jupyter-widgets/controls",
     "model_module_version": "1.5.0",
     "model_name": "SelectMultipleModel",
     "state": {
      "_dom_classes": [],
      "_model_module": "@jupyter-widgets/controls",
      "_model_module_version": "1.5.0",
      "_model_name": "SelectMultipleModel",
      "_options_labels": [
       "1,1-dimethylbutyl-1-deoxy-Delta(9)-THC",
       "1,3-butadiene",
       "1,4-bis(2-(3,5-dichloropyridyloxy))benzene",
       "1-(6-((3-methoxyestra-1,3,5(10)-trien-17-yl)amino)hexyl)-1H-pyrrole-2,5-dione",
       "1-Methyl-3-isobutylxanthine",
       "1-Methyl-4-phenylpyridinium",
       "1-Naphthylisothiocyanate",
       "1-aminomethylphosphonic acid",
       "1-cyclopropyl-3-(3-(5-morpholin-4-ylmethyl-1H-benzoimidazol-2-yl)-1H-pyrazol-4-yl)urea",
       "16-hydroxycleroda-3,13(14)-dien-15,16-olide",
       "2',3,3',4',5-pentachloro-4-hydroxybiphenyl",
       "2,2',3',4,4',5-hexachlorobiphenyl",
       "2,2',4,4'-tetrabromodiphenyl ether",
       "2,2-bis(4-hydroxyphenyl)-1,1,1-trichloroethane",
       "2,3-bis(3'-hydroxybenzyl)butyrolactone",
       "2,3-dimethoxy-1,4-naphthoquinone",
       "2,4,3',5'-tetramethoxystilbene",
       "2,4,4'-trichlorobiphenyl",
       "2,4,5,2',4',5'-hexachlorobiphenyl",
       "2,4,5,2',5'-pentachlorobiphenyl",
       "2,4,6-tribromophenol",
       "2,4-Dichlorophenoxyacetic Acid",
       "2,4-dinitrotoluene",
       "2,5,2',5'-tetrachlorobiphenyl",
       "2,6-dinitrotoluene",
       "2-((3-((4-((5-(2-((3-fluorophenyl)amino)-2-oxoethyl)-1H-pyrazol-3-yl)amino)quinazolin-7-yl)oxy)propyl)(ethyl)amino)ethyl dihydrogen phosphate",
       "2-(2-amino-3-methoxyphenyl)-4H-1-benzopyran-4-one",
       "2-(4-morpholinyl)-8-phenyl-4H-1-benzopyran-4-one",
       "2-amino-2-methyl-1-propanol",
       "2-methyl-2H-pyrazole-3-carboxylic acid (2-methyl-4-o-tolylazophenyl)amide",
       "2-palmitoylglycerol",
       "3,4,3',4'-tetrachlorobiphenyl",
       "3,4,5,3',4'-pentachlorobiphenyl",
       "3-(1H-indazol-5-yl)-N-propylimidazo(1,2-b)pyridazin-6-amine",
       "3-dinitrobenzene",
       "4,4'-diaminodiphenylmethane",
       "4,4'-hexafluorisopropylidene diphenol",
       "4-(2-thiazolylazo)resorcinol",
       "4-(4-((5-(4,5-dimethyl-2-nitrophenyl)-2-furanyl)methylene)-4,5-dihydro-3-methyl-5-oxo-1H-pyrazol-1-yl)benzoic acid",
       "4-(4-(N-benzoylamino)anilino)-6-methoxy-7-(3-(1-morpholino)propoxy)quinazoline",
       "4-(5-benzo(1,3)dioxol-5-yl-4-pyridin-2-yl-1H-imidazol-2-yl)benzamide",
       "4-chloro-N-((4-(1,1-dimethylethyl)phenyl)methyl)-3-ethyl-1-methyl-1H-pyrazole-5-carboxamide",
       "7,8-Dihydro-7,8-dihydroxybenzo(a)pyrene 9,10-oxide",
       "8-Bromo Cyclic Adenosine Monophosphate",
       "AZD 1152-HQPA",
       "Acenocoumarol",
       "Acetaminophen",
       "Acetylcysteine",
       "Acrylamide",
       "Adenosine Diphosphate",
       "Adenosine Triphosphate",
       "Aflatoxin B1",
       "Air Pollutants",
       "Aldehydes",
       "Aluminum",
       "Amiodarone",
       "Ammonium Chloride",
       "Amphetamine",
       "Andrographis paniculata extract",
       "Anthraquinones",
       "Antimony",
       "Antimony Potassium Tartrate",
       "Antimycin A",
       "Antirheumatic Agents",
       "Antithrombins",
       "Antivenins",
       "Apigenin",
       "Aristolochic Acids",
       "Arsenic",
       "Arsenic Trioxide",
       "Asbestos, Crocidolite",
       "Ascorbic Acid",
       "Aspartame",
       "Aspirin",
       "Atorvastatin",
       "Atrazine",
       "Atropine",
       "Azathioprine",
       "Azoxymethane",
       "BCH 2763",
       "Barium",
       "Beclomethasone",
       "Benzene",
       "Benzo(a)pyrene",
       "Benzophenanthridines",
       "Berberine",
       "Bexarotene",
       "Biphenyl Compounds",
       "Blood Glucose",
       "Butylated Hydroxyanisole",
       "CGP 52608",
       "CVS 1123",
       "Cadmium",
       "Cadmium Chloride",
       "Calcitriol",
       "Calcium",
       "Calcium Chloride",
       "Cannabidiol",
       "Capsaicin",
       "Carbamates",
       "Carbamazepine",
       "Carbon Tetrachloride",
       "Cellulose",
       "Cephaloridine",
       "Chlorambucil",
       "Chlorine",
       "Chlorodiphenyl (54% Chlorine)",
       "Chlorogenic Acid",
       "Chloroprene",
       "Chlorpromazine",
       "Chlorpyrifos",
       "Cholesterol, Dietary",
       "Cholic Acids",
       "Choline",
       "Chromium",
       "Cidofovir",
       "Cisplatin",
       "Clobazam",
       "Clobetasol",
       "Clodronic Acid",
       "Clofibrate",
       "Clofibric Acid",
       "Clomiphene",
       "Clopidogrel",
       "Cobalt",
       "Colchicine",
       "Colforsin",
       "Contraceptives, Oral",
       "Contraceptives, Oral, Combined",
       "Copper",
       "Copper Sulfate",
       "Corticosterone",
       "Coumestrol",
       "Crotalid Venoms",
       "Cuprizone",
       "Curcumin",
       "Cyclic AMP",
       "Cycloheximide",
       "Cyclophosphamide",
       "Cyclosporine",
       "Cytarabine",
       "D-Aspartic Acid",
       "Dabigatran",
       "Dalteparin",
       "Dasatinib",
       "Demecolcine",
       "Dermatan Sulfate",
       "Dexamethasone",
       "Dextran Sulfate",
       "abrine",
       "acetamide",
       "acetochlor",
       "adefovir dipivoxil",
       "aflatoxin B2",
       "amphotericin B, deoxycholate drug combination",
       "apigenin-6,8-di-C-glycopyranoside",
       "argatroban",
       "aristolochic acid I",
       "arsenite",
       "aspalathin",
       "bardoxolone methyl",
       "belinostat",
       "benzyloxycarbonylleucyl-leucyl-leucine aldehyde",
       "beta-Naphthoflavone",
       "bis(4-hydroxyphenyl)sulfone",
       "bisphenol A",
       "bisphenol F",
       "bivalirudin",
       "bothrojaracin",
       "butylparaben",
       "butyraldehyde",
       "caffeic acid phenethyl ester",
       "calmidazolium",
       "catechol",
       "cerivastatin",
       "chloroacetaldehyde",
       "chrysene",
       "clothianidin",
       "cobaltous chloride",
       "copper-1,10-phenanthroline",
       "cupric chloride",
       "cupric oxide",
       "cyclopamine",
       "cyproconazole",
       "dan-shen root extract",
       "danaparoid",
       "decabromobiphenyl ether",
       "decamethrin",
       "deoxynivalenol"
      ],
      "_view_count": null,
      "_view_module": "@jupyter-widgets/controls",
      "_view_module_version": "1.5.0",
      "_view_name": "SelectMultipleView",
      "description": "Select Chemical:",
      "description_tooltip": null,
      "disabled": false,
      "index": [],
      "layout": "IPY_MODEL_c3e6ac9c59714eb1b4e70f25ff9fd79e",
      "rows": 5,
      "style": "IPY_MODEL_0a391aee4f784b6090317c65666e238e"
     }
    },
    "8bc77b5a4d324c6b8dff605c3b0cce77": {
     "model_module": "@jupyter-widgets/controls",
     "model_module_version": "1.5.0",
     "model_name": "ButtonModel",
     "state": {
      "_dom_classes": [],
      "_model_module": "@jupyter-widgets/controls",
      "_model_module_version": "1.5.0",
      "_model_name": "ButtonModel",
      "_view_count": null,
      "_view_module": "@jupyter-widgets/controls",
      "_view_module_version": "1.5.0",
      "_view_name": "ButtonView",
      "button_style": "",
      "description": "UPDATE",
      "disabled": false,
      "icon": "",
      "layout": "IPY_MODEL_2bb1d004e3aa47b18f1dc7f988a191b4",
      "style": "IPY_MODEL_f1f88283ef4446a899779ef062ccb496",
      "tooltip": ""
     }
    },
    "9057c89e5a2243e8b919c8110de063d8": {
     "model_module": "@jupyter-widgets/base",
     "model_module_version": "1.2.0",
     "model_name": "LayoutModel",
     "state": {
      "_model_module": "@jupyter-widgets/base",
      "_model_module_version": "1.2.0",
      "_model_name": "LayoutModel",
      "_view_count": null,
      "_view_module": "@jupyter-widgets/base",
      "_view_module_version": "1.2.0",
      "_view_name": "LayoutView",
      "align_content": null,
      "align_items": null,
      "align_self": null,
      "border": null,
      "bottom": null,
      "display": null,
      "flex": null,
      "flex_flow": null,
      "grid_area": null,
      "grid_auto_columns": null,
      "grid_auto_flow": null,
      "grid_auto_rows": null,
      "grid_column": null,
      "grid_gap": null,
      "grid_row": null,
      "grid_template_areas": null,
      "grid_template_columns": null,
      "grid_template_rows": null,
      "height": null,
      "justify_content": null,
      "justify_items": null,
      "left": null,
      "margin": null,
      "max_height": null,
      "max_width": null,
      "min_height": null,
      "min_width": null,
      "object_fit": null,
      "object_position": null,
      "order": null,
      "overflow": null,
      "overflow_x": null,
      "overflow_y": null,
      "padding": null,
      "right": null,
      "top": null,
      "visibility": null,
      "width": null
     }
    },
    "93df28123f814efba18cdb714aaf55d6": {
     "model_module": "@jupyter-widgets/base",
     "model_module_version": "1.2.0",
     "model_name": "LayoutModel",
     "state": {
      "_model_module": "@jupyter-widgets/base",
      "_model_module_version": "1.2.0",
      "_model_name": "LayoutModel",
      "_view_count": null,
      "_view_module": "@jupyter-widgets/base",
      "_view_module_version": "1.2.0",
      "_view_name": "LayoutView",
      "align_content": null,
      "align_items": null,
      "align_self": null,
      "border": null,
      "bottom": null,
      "display": null,
      "flex": null,
      "flex_flow": null,
      "grid_area": null,
      "grid_auto_columns": null,
      "grid_auto_flow": null,
      "grid_auto_rows": null,
      "grid_column": null,
      "grid_gap": null,
      "grid_row": null,
      "grid_template_areas": null,
      "grid_template_columns": null,
      "grid_template_rows": null,
      "height": null,
      "justify_content": null,
      "justify_items": null,
      "left": null,
      "margin": null,
      "max_height": null,
      "max_width": null,
      "min_height": null,
      "min_width": null,
      "object_fit": null,
      "object_position": null,
      "order": null,
      "overflow": null,
      "overflow_x": null,
      "overflow_y": null,
      "padding": null,
      "right": null,
      "top": null,
      "visibility": null,
      "width": null
     }
    },
    "9c021cd754f9474386c817fdc5efcb0a": {
     "model_module": "@jupyter-widgets/controls",
     "model_module_version": "1.5.0",
     "model_name": "DescriptionStyleModel",
     "state": {
      "_model_module": "@jupyter-widgets/controls",
      "_model_module_version": "1.5.0",
      "_model_name": "DescriptionStyleModel",
      "_view_count": null,
      "_view_module": "@jupyter-widgets/base",
      "_view_module_version": "1.2.0",
      "_view_name": "StyleView",
      "description_width": ""
     }
    },
    "b11ac7d153cf4072b90f4fd7b78245a2": {
     "model_module": "@jupyter-widgets/controls",
     "model_module_version": "1.5.0",
     "model_name": "SelectMultipleModel",
     "state": {
      "_dom_classes": [],
      "_model_module": "@jupyter-widgets/controls",
      "_model_module_version": "1.5.0",
      "_model_name": "SelectMultipleModel",
      "_options_labels": [
       "AURKB",
       "F2",
       "F5",
       "FOXD1",
       "PADI6"
      ],
      "_view_count": null,
      "_view_module": "@jupyter-widgets/controls",
      "_view_module_version": "1.5.0",
      "_view_name": "SelectMultipleView",
      "description": "Select Gene:",
      "description_tooltip": null,
      "disabled": false,
      "index": [],
      "layout": "IPY_MODEL_93df28123f814efba18cdb714aaf55d6",
      "rows": 5,
      "style": "IPY_MODEL_106d355ee3f748efbfc8e438abfe3791"
     }
    },
    "c3e6ac9c59714eb1b4e70f25ff9fd79e": {
     "model_module": "@jupyter-widgets/base",
     "model_module_version": "1.2.0",
     "model_name": "LayoutModel",
     "state": {
      "_model_module": "@jupyter-widgets/base",
      "_model_module_version": "1.2.0",
      "_model_name": "LayoutModel",
      "_view_count": null,
      "_view_module": "@jupyter-widgets/base",
      "_view_module_version": "1.2.0",
      "_view_name": "LayoutView",
      "align_content": null,
      "align_items": null,
      "align_self": null,
      "border": null,
      "bottom": null,
      "display": null,
      "flex": null,
      "flex_flow": null,
      "grid_area": null,
      "grid_auto_columns": null,
      "grid_auto_flow": null,
      "grid_auto_rows": null,
      "grid_column": null,
      "grid_gap": null,
      "grid_row": null,
      "grid_template_areas": null,
      "grid_template_columns": null,
      "grid_template_rows": null,
      "height": null,
      "justify_content": null,
      "justify_items": null,
      "left": null,
      "margin": null,
      "max_height": null,
      "max_width": null,
      "min_height": null,
      "min_width": null,
      "object_fit": null,
      "object_position": null,
      "order": null,
      "overflow": null,
      "overflow_x": null,
      "overflow_y": null,
      "padding": null,
      "right": null,
      "top": null,
      "visibility": null,
      "width": null
     }
    },
    "d89f26e6fc594319b00bb67ab6516d8d": {
     "model_module": "@jupyter-widgets/base",
     "model_module_version": "1.2.0",
     "model_name": "LayoutModel",
     "state": {
      "_model_module": "@jupyter-widgets/base",
      "_model_module_version": "1.2.0",
      "_model_name": "LayoutModel",
      "_view_count": null,
      "_view_module": "@jupyter-widgets/base",
      "_view_module_version": "1.2.0",
      "_view_name": "LayoutView",
      "align_content": null,
      "align_items": "stretch",
      "align_self": null,
      "border": null,
      "bottom": null,
      "display": "flex",
      "flex": null,
      "flex_flow": "columns",
      "grid_area": null,
      "grid_auto_columns": null,
      "grid_auto_flow": null,
      "grid_auto_rows": null,
      "grid_column": null,
      "grid_gap": null,
      "grid_row": null,
      "grid_template_areas": null,
      "grid_template_columns": null,
      "grid_template_rows": null,
      "height": null,
      "justify_content": null,
      "justify_items": null,
      "left": null,
      "margin": null,
      "max_height": null,
      "max_width": null,
      "min_height": null,
      "min_width": null,
      "object_fit": null,
      "object_position": null,
      "order": null,
      "overflow": null,
      "overflow_x": null,
      "overflow_y": null,
      "padding": null,
      "right": null,
      "top": null,
      "visibility": null,
      "width": "70%"
     }
    },
    "de73ae82e4574a2097fb0f1b3f38f6e1": {
     "model_module": "@jupyter-widgets/base",
     "model_module_version": "1.2.0",
     "model_name": "LayoutModel",
     "state": {
      "_model_module": "@jupyter-widgets/base",
      "_model_module_version": "1.2.0",
      "_model_name": "LayoutModel",
      "_view_count": null,
      "_view_module": "@jupyter-widgets/base",
      "_view_module_version": "1.2.0",
      "_view_name": "LayoutView",
      "align_content": null,
      "align_items": null,
      "align_self": null,
      "border": null,
      "bottom": null,
      "display": null,
      "flex": null,
      "flex_flow": null,
      "grid_area": null,
      "grid_auto_columns": null,
      "grid_auto_flow": null,
      "grid_auto_rows": null,
      "grid_column": null,
      "grid_gap": null,
      "grid_row": null,
      "grid_template_areas": null,
      "grid_template_columns": null,
      "grid_template_rows": null,
      "height": null,
      "justify_content": null,
      "justify_items": null,
      "left": null,
      "margin": null,
      "max_height": null,
      "max_width": null,
      "min_height": null,
      "min_width": null,
      "object_fit": null,
      "object_position": null,
      "order": null,
      "overflow": null,
      "overflow_x": null,
      "overflow_y": null,
      "padding": null,
      "right": null,
      "top": null,
      "visibility": null,
      "width": null
     }
    },
    "eb0aa90e817248ea9f267518eb987c88": {
     "model_module": "@jupyter-widgets/output",
     "model_module_version": "1.0.0",
     "model_name": "OutputModel",
     "state": {
      "_dom_classes": [],
      "_model_module": "@jupyter-widgets/output",
      "_model_module_version": "1.0.0",
      "_model_name": "OutputModel",
      "_view_count": null,
      "_view_module": "@jupyter-widgets/output",
      "_view_module_version": "1.0.0",
      "_view_name": "OutputView",
      "layout": "IPY_MODEL_de73ae82e4574a2097fb0f1b3f38f6e1",
      "msg_id": "",
      "outputs": [
       {
        "name": "stdout",
        "output_type": "stream",
        "text": [
         "Select values to view chart\n"
        ]
       }
      ]
     }
    },
    "ed001c8eef1e42cd94207bdfed122562": {
     "model_module": "ipysigma",
     "model_module_version": "^0.24.2",
     "model_name": "SigmaModel",
     "state": {
      "_dom_classes": [],
      "_model_module": "ipysigma",
      "_model_module_version": "^0.24.2",
      "_model_name": "SigmaModel",
      "_view_count": null,
      "_view_module": "ipysigma",
      "_view_module_version": "^0.24.2",
      "_view_name": "SigmaView",
      "background_color": "white",
      "camera_state": {
       "angle": 0,
       "ratio": 1,
       "x": 0.5,
       "y": 0.5
      },
      "clickable_edges": false,
      "data": {
       "edges": [
        {
         "attributes": {
          "ipysigma_kwarg_edge_color": "increases",
          "relation": "increases"
         },
         "source": "AURKB",
         "target": "1,4-bis(2-(3,5-dichloropyridyloxy))benzene"
        },
        {
         "attributes": {
          "ipysigma_kwarg_edge_color": "decreases",
          "relation": "decreases"
         },
         "source": "AURKB",
         "target": "16-hydroxycleroda-3,13(14)-dien-15,16-olide"
        },
        {
         "attributes": {
          "ipysigma_kwarg_edge_color": "decreases",
          "relation": "decreases"
         },
         "source": "AURKB",
         "target": "16-hydroxycleroda-3,13(14)-dien-15,16-olide"
        },
        {
         "attributes": {
          "ipysigma_kwarg_edge_color": "decreases",
          "relation": "decreases"
         },
         "source": "AURKB",
         "target": "1-cyclopropyl-3-(3-(5-morpholin-4-ylmethyl-1H-benzoimidazol-2-yl)-1H-pyrazol-4-yl)urea"
        },
        {
         "attributes": {
          "ipysigma_kwarg_edge_color": "decreases",
          "relation": "decreases"
         },
         "source": "AURKB",
         "target": "1-cyclopropyl-3-(3-(5-morpholin-4-ylmethyl-1H-benzoimidazol-2-yl)-1H-pyrazol-4-yl)urea"
        },
        {
         "attributes": {
          "ipysigma_kwarg_edge_color": "decreases",
          "relation": "decreases"
         },
         "source": "AURKB",
         "target": "1-Methyl-4-phenylpyridinium"
        },
        {
         "attributes": {
          "ipysigma_kwarg_edge_color": "increases",
          "relation": "increases"
         },
         "source": "AURKB",
         "target": "1-Methyl-4-phenylpyridinium"
        },
        {
         "attributes": {
          "ipysigma_kwarg_edge_color": "increases",
          "relation": "increases"
         },
         "source": "AURKB",
         "target": "1-Naphthylisothiocyanate"
        },
        {
         "attributes": {
          "ipysigma_kwarg_edge_color": "increases",
          "relation": "increases"
         },
         "source": "AURKB",
         "target": "1-Naphthylisothiocyanate"
        },
        {
         "attributes": {
          "ipysigma_kwarg_edge_color": "affects",
          "relation": "affects"
         },
         "source": "AURKB",
         "target": "2,2',3',4,4',5-hexachlorobiphenyl"
        },
        {
         "attributes": {
          "ipysigma_kwarg_edge_color": "increases",
          "relation": "increases"
         },
         "source": "AURKB",
         "target": "2,2',3',4,4',5-hexachlorobiphenyl"
        },
        {
         "attributes": {
          "ipysigma_kwarg_edge_color": "decreases",
          "relation": "decreases"
         },
         "source": "AURKB",
         "target": "2,2',4,4'-tetrabromodiphenyl ether"
        },
        {
         "attributes": {
          "ipysigma_kwarg_edge_color": "decreases",
          "relation": "decreases"
         },
         "source": "AURKB",
         "target": "2-(2-amino-3-methoxyphenyl)-4H-1-benzopyran-4-one"
        },
        {
         "attributes": {
          "ipysigma_kwarg_edge_color": "increases",
          "relation": "increases"
         },
         "source": "AURKB",
         "target": "2-(2-amino-3-methoxyphenyl)-4H-1-benzopyran-4-one"
        },
        {
         "attributes": {
          "ipysigma_kwarg_edge_color": "increases",
          "relation": "increases"
         },
         "source": "AURKB",
         "target": "2-(2-amino-3-methoxyphenyl)-4H-1-benzopyran-4-one"
        },
        {
         "attributes": {
          "ipysigma_kwarg_edge_color": "increases",
          "relation": "increases"
         },
         "source": "AURKB",
         "target": "2,2-bis(4-hydroxyphenyl)-1,1,1-trichloroethane"
        },
        {
         "attributes": {
          "ipysigma_kwarg_edge_color": "decreases",
          "relation": "decreases"
         },
         "source": "AURKB",
         "target": "2',3,3',4',5-pentachloro-4-hydroxybiphenyl"
        },
        {
         "attributes": {
          "ipysigma_kwarg_edge_color": "decreases",
          "relation": "decreases"
         },
         "source": "AURKB",
         "target": "2-((3-((4-((5-(2-((3-fluorophenyl)amino)-2-oxoethyl)-1H-pyrazol-3-yl)amino)quinazolin-7-yl)oxy)propyl)(ethyl)amino)ethyl dihydrogen phosphate"
        },
        {
         "attributes": {
          "ipysigma_kwarg_edge_color": "increases",
          "relation": "increases"
         },
         "source": "AURKB",
         "target": "2-((3-((4-((5-(2-((3-fluorophenyl)amino)-2-oxoethyl)-1H-pyrazol-3-yl)amino)quinazolin-7-yl)oxy)propyl)(ethyl)amino)ethyl dihydrogen phosphate"
        },
        {
         "attributes": {
          "ipysigma_kwarg_edge_color": "decreases",
          "relation": "decreases"
         },
         "source": "AURKB",
         "target": "2-((3-((4-((5-(2-((3-fluorophenyl)amino)-2-oxoethyl)-1H-pyrazol-3-yl)amino)quinazolin-7-yl)oxy)propyl)(ethyl)amino)ethyl dihydrogen phosphate"
        },
        {
         "attributes": {
          "ipysigma_kwarg_edge_color": "decreases",
          "relation": "decreases"
         },
         "source": "AURKB",
         "target": "2-((3-((4-((5-(2-((3-fluorophenyl)amino)-2-oxoethyl)-1H-pyrazol-3-yl)amino)quinazolin-7-yl)oxy)propyl)(ethyl)amino)ethyl dihydrogen phosphate"
        },
        {
         "attributes": {
          "ipysigma_kwarg_edge_color": "decreases",
          "relation": "decreases"
         },
         "source": "AURKB",
         "target": "2-((3-((4-((5-(2-((3-fluorophenyl)amino)-2-oxoethyl)-1H-pyrazol-3-yl)amino)quinazolin-7-yl)oxy)propyl)(ethyl)amino)ethyl dihydrogen phosphate"
        },
        {
         "attributes": {
          "ipysigma_kwarg_edge_color": "affects",
          "relation": "affects"
         },
         "source": "AURKB",
         "target": "2,3-bis(3'-hydroxybenzyl)butyrolactone"
        },
        {
         "attributes": {
          "ipysigma_kwarg_edge_color": "increases",
          "relation": "increases"
         },
         "source": "AURKB",
         "target": "2,3-bis(3'-hydroxybenzyl)butyrolactone"
        },
        {
         "attributes": {
          "ipysigma_kwarg_edge_color": "affects",
          "relation": "affects"
         },
         "source": "AURKB",
         "target": "2,4,4'-trichlorobiphenyl"
        },
        {
         "attributes": {
          "ipysigma_kwarg_edge_color": "increases",
          "relation": "increases"
         },
         "source": "AURKB",
         "target": "2,4,4'-trichlorobiphenyl"
        },
        {
         "attributes": {
          "ipysigma_kwarg_edge_color": "affects",
          "relation": "affects"
         },
         "source": "AURKB",
         "target": "2,4,5,2',4',5'-hexachlorobiphenyl"
        },
        {
         "attributes": {
          "ipysigma_kwarg_edge_color": "increases",
          "relation": "increases"
         },
         "source": "AURKB",
         "target": "2,4,5,2',4',5'-hexachlorobiphenyl"
        },
        {
         "attributes": {
          "ipysigma_kwarg_edge_color": "affects",
          "relation": "affects"
         },
         "source": "AURKB",
         "target": "2,4,5,2',5'-pentachlorobiphenyl"
        },
        {
         "attributes": {
          "ipysigma_kwarg_edge_color": "increases",
          "relation": "increases"
         },
         "source": "AURKB",
         "target": "2,4,5,2',5'-pentachlorobiphenyl"
        },
        {
         "attributes": {
          "ipysigma_kwarg_edge_color": "decreases",
          "relation": "decreases"
         },
         "source": "AURKB",
         "target": "2-(4-morpholinyl)-8-phenyl-4H-1-benzopyran-4-one"
        },
        {
         "attributes": {
          "ipysigma_kwarg_edge_color": "affects",
          "relation": "affects"
         },
         "source": "AURKB",
         "target": "2,5,2',5'-tetrachlorobiphenyl"
        },
        {
         "attributes": {
          "ipysigma_kwarg_edge_color": "increases",
          "relation": "increases"
         },
         "source": "AURKB",
         "target": "2,5,2',5'-tetrachlorobiphenyl"
        },
        {
         "attributes": {
          "ipysigma_kwarg_edge_color": "decreases",
          "relation": "decreases"
         },
         "source": "AURKB",
         "target": "2-methyl-2H-pyrazole-3-carboxylic acid (2-methyl-4-o-tolylazophenyl)amide"
        },
        {
         "attributes": {
          "ipysigma_kwarg_edge_color": "decreases",
          "relation": "decreases"
         },
         "source": "AURKB",
         "target": "2-methyl-2H-pyrazole-3-carboxylic acid (2-methyl-4-o-tolylazophenyl)amide"
        },
        {
         "attributes": {
          "ipysigma_kwarg_edge_color": "decreases",
          "relation": "decreases"
         },
         "source": "AURKB",
         "target": "2-methyl-2H-pyrazole-3-carboxylic acid (2-methyl-4-o-tolylazophenyl)amide"
        },
        {
         "attributes": {
          "ipysigma_kwarg_edge_color": "decreases",
          "relation": "decreases"
         },
         "source": "AURKB",
         "target": "2-methyl-2H-pyrazole-3-carboxylic acid (2-methyl-4-o-tolylazophenyl)amide"
        },
        {
         "attributes": {
          "ipysigma_kwarg_edge_color": "increases",
          "relation": "increases"
         },
         "source": "AURKB",
         "target": "2-palmitoylglycerol"
        },
        {
         "attributes": {
          "ipysigma_kwarg_edge_color": "affects",
          "relation": "affects"
         },
         "source": "AURKB",
         "target": "3-(1H-indazol-5-yl)-N-propylimidazo(1,2-b)pyridazin-6-amine"
        },
        {
         "attributes": {
          "ipysigma_kwarg_edge_color": "increases",
          "relation": "increases"
         },
         "source": "AURKB",
         "target": "3,4,5,3',4'-pentachlorobiphenyl"
        },
        {
         "attributes": {
          "ipysigma_kwarg_edge_color": "affects",
          "relation": "affects"
         },
         "source": "AURKB",
         "target": "4-(2-thiazolylazo)resorcinol"
        },
        {
         "attributes": {
          "ipysigma_kwarg_edge_color": "decreases",
          "relation": "decreases"
         },
         "source": "AURKB",
         "target": "4-(2-thiazolylazo)resorcinol"
        },
        {
         "attributes": {
          "ipysigma_kwarg_edge_color": "affects",
          "relation": "affects"
         },
         "source": "AURKB",
         "target": "4-(4-(N-benzoylamino)anilino)-6-methoxy-7-(3-(1-morpholino)propoxy)quinazoline"
        },
        {
         "attributes": {
          "ipysigma_kwarg_edge_color": "affects",
          "relation": "affects"
         },
         "source": "AURKB",
         "target": "4-(4-(N-benzoylamino)anilino)-6-methoxy-7-(3-(1-morpholino)propoxy)quinazoline"
        },
        {
         "attributes": {
          "ipysigma_kwarg_edge_color": "decreases",
          "relation": "decreases"
         },
         "source": "AURKB",
         "target": "4-(4-(N-benzoylamino)anilino)-6-methoxy-7-(3-(1-morpholino)propoxy)quinazoline"
        },
        {
         "attributes": {
          "ipysigma_kwarg_edge_color": "increases",
          "relation": "increases"
         },
         "source": "AURKB",
         "target": "4-(4-(N-benzoylamino)anilino)-6-methoxy-7-(3-(1-morpholino)propoxy)quinazoline"
        },
        {
         "attributes": {
          "ipysigma_kwarg_edge_color": "decreases",
          "relation": "decreases"
         },
         "source": "AURKB",
         "target": "4-(4-(N-benzoylamino)anilino)-6-methoxy-7-(3-(1-morpholino)propoxy)quinazoline"
        },
        {
         "attributes": {
          "ipysigma_kwarg_edge_color": "increases",
          "relation": "increases"
         },
         "source": "AURKB",
         "target": "4-chloro-N-((4-(1,1-dimethylethyl)phenyl)methyl)-3-ethyl-1-methyl-1H-pyrazole-5-carboxamide"
        },
        {
         "attributes": {
          "ipysigma_kwarg_edge_color": "decreases",
          "relation": "decreases"
         },
         "source": "AURKB",
         "target": "7,8-Dihydro-7,8-dihydroxybenzo(a)pyrene 9,10-oxide"
        },
        {
         "attributes": {
          "ipysigma_kwarg_edge_color": "increases",
          "relation": "increases"
         },
         "source": "AURKB",
         "target": "acetamide"
        },
        {
         "attributes": {
          "ipysigma_kwarg_edge_color": "decreases",
          "relation": "decreases"
         },
         "source": "AURKB",
         "target": "Acetaminophen"
        },
        {
         "attributes": {
          "ipysigma_kwarg_edge_color": "increases",
          "relation": "increases"
         },
         "source": "AURKB",
         "target": "Acetaminophen"
        },
        {
         "attributes": {
          "ipysigma_kwarg_edge_color": "increases",
          "relation": "increases"
         },
         "source": "AURKB",
         "target": "Acetaminophen"
        },
        {
         "attributes": {
          "ipysigma_kwarg_edge_color": "affects",
          "relation": "affects"
         },
         "source": "AURKB",
         "target": "Acetylcysteine"
        },
        {
         "attributes": {
          "ipysigma_kwarg_edge_color": "decreases",
          "relation": "decreases"
         },
         "source": "AURKB",
         "target": "Acetylcysteine"
        },
        {
         "attributes": {
          "ipysigma_kwarg_edge_color": "decreases",
          "relation": "decreases"
         },
         "source": "AURKB",
         "target": "Acrylamide"
        },
        {
         "attributes": {
          "ipysigma_kwarg_edge_color": "increases",
          "relation": "increases"
         },
         "source": "AURKB",
         "target": "Acrylamide"
        },
        {
         "attributes": {
          "ipysigma_kwarg_edge_color": "increases",
          "relation": "increases"
         },
         "source": "AURKB",
         "target": "adefovir dipivoxil"
        },
        {
         "attributes": {
          "ipysigma_kwarg_edge_color": "affects",
          "relation": "affects"
         },
         "source": "AURKB",
         "target": "Aflatoxin B1"
        },
        {
         "attributes": {
          "ipysigma_kwarg_edge_color": "increases",
          "relation": "increases"
         },
         "source": "AURKB",
         "target": "Aflatoxin B1"
        },
        {
         "attributes": {
          "ipysigma_kwarg_edge_color": "affects",
          "relation": "affects"
         },
         "source": "AURKB",
         "target": "Air Pollutants"
        },
        {
         "attributes": {
          "ipysigma_kwarg_edge_color": "increases",
          "relation": "increases"
         },
         "source": "AURKB",
         "target": "Air Pollutants"
        },
        {
         "attributes": {
          "ipysigma_kwarg_edge_color": "increases",
          "relation": "increases"
         },
         "source": "AURKB",
         "target": "Air Pollutants"
        },
        {
         "attributes": {
          "ipysigma_kwarg_edge_color": "increases",
          "relation": "increases"
         },
         "source": "AURKB",
         "target": "Air Pollutants"
        },
        {
         "attributes": {
          "ipysigma_kwarg_edge_color": "increases",
          "relation": "increases"
         },
         "source": "AURKB",
         "target": "Air Pollutants"
        },
        {
         "attributes": {
          "ipysigma_kwarg_edge_color": "increases",
          "relation": "increases"
         },
         "source": "AURKB",
         "target": "Air Pollutants"
        },
        {
         "attributes": {
          "ipysigma_kwarg_edge_color": "increases",
          "relation": "increases"
         },
         "source": "AURKB",
         "target": "Air Pollutants"
        },
        {
         "attributes": {
          "ipysigma_kwarg_edge_color": "affects",
          "relation": "affects"
         },
         "source": "AURKB",
         "target": "Ammonium Chloride"
        },
        {
         "attributes": {
          "ipysigma_kwarg_edge_color": "increases",
          "relation": "increases"
         },
         "source": "AURKB",
         "target": "amphotericin B, deoxycholate drug combination"
        },
        {
         "attributes": {
          "ipysigma_kwarg_edge_color": "affects",
          "relation": "affects"
         },
         "source": "AURKB",
         "target": "Andrographis paniculata extract"
        },
        {
         "attributes": {
          "ipysigma_kwarg_edge_color": "decreases",
          "relation": "decreases"
         },
         "source": "AURKB",
         "target": "Andrographis paniculata extract"
        },
        {
         "attributes": {
          "ipysigma_kwarg_edge_color": "decreases",
          "relation": "decreases"
         },
         "source": "AURKB",
         "target": "Andrographis paniculata extract"
        },
        {
         "attributes": {
          "ipysigma_kwarg_edge_color": "decreases",
          "relation": "decreases"
         },
         "source": "AURKB",
         "target": "Anthraquinones"
        },
        {
         "attributes": {
          "ipysigma_kwarg_edge_color": "increases",
          "relation": "increases"
         },
         "source": "AURKB",
         "target": "Antimycin A"
        },
        {
         "attributes": {
          "ipysigma_kwarg_edge_color": "increases",
          "relation": "increases"
         },
         "source": "AURKB",
         "target": "Aristolochic Acids"
        },
        {
         "attributes": {
          "ipysigma_kwarg_edge_color": "affects",
          "relation": "affects"
         },
         "source": "AURKB",
         "target": "arsenite"
        },
        {
         "attributes": {
          "ipysigma_kwarg_edge_color": "increases",
          "relation": "increases"
         },
         "source": "AURKB",
         "target": "arsenite"
        },
        {
         "attributes": {
          "ipysigma_kwarg_edge_color": "increases",
          "relation": "increases"
         },
         "source": "AURKB",
         "target": "arsenite"
        },
        {
         "attributes": {
          "ipysigma_kwarg_edge_color": "decreases",
          "relation": "decreases"
         },
         "source": "AURKB",
         "target": "arsenite"
        },
        {
         "attributes": {
          "ipysigma_kwarg_edge_color": "increases",
          "relation": "increases"
         },
         "source": "AURKB",
         "target": "arsenite"
        },
        {
         "attributes": {
          "ipysigma_kwarg_edge_color": "decreases",
          "relation": "decreases"
         },
         "source": "AURKB",
         "target": "arsenite"
        },
        {
         "attributes": {
          "ipysigma_kwarg_edge_color": "affects",
          "relation": "affects"
         },
         "source": "AURKB",
         "target": "Ascorbic Acid"
        },
        {
         "attributes": {
          "ipysigma_kwarg_edge_color": "increases",
          "relation": "increases"
         },
         "source": "AURKB",
         "target": "Ascorbic Acid"
        },
        {
         "attributes": {
          "ipysigma_kwarg_edge_color": "affects",
          "relation": "affects"
         },
         "source": "AURKB",
         "target": "Atrazine"
        },
        {
         "attributes": {
          "ipysigma_kwarg_edge_color": "decreases",
          "relation": "decreases"
         },
         "source": "AURKB",
         "target": "Azathioprine"
        },
        {
         "attributes": {
          "ipysigma_kwarg_edge_color": "decreases",
          "relation": "decreases"
         },
         "source": "AURKB",
         "target": "AZD 1152-HQPA"
        },
        {
         "attributes": {
          "ipysigma_kwarg_edge_color": "increases",
          "relation": "increases"
         },
         "source": "AURKB",
         "target": "AZD 1152-HQPA"
        },
        {
         "attributes": {
          "ipysigma_kwarg_edge_color": "decreases",
          "relation": "decreases"
         },
         "source": "AURKB",
         "target": "AZD 1152-HQPA"
        },
        {
         "attributes": {
          "ipysigma_kwarg_edge_color": "decreases",
          "relation": "decreases"
         },
         "source": "AURKB",
         "target": "bardoxolone methyl"
        },
        {
         "attributes": {
          "ipysigma_kwarg_edge_color": "decreases",
          "relation": "decreases"
         },
         "source": "AURKB",
         "target": "belinostat"
        },
        {
         "attributes": {
          "ipysigma_kwarg_edge_color": "decreases",
          "relation": "decreases"
         },
         "source": "AURKB",
         "target": "belinostat"
        },
        {
         "attributes": {
          "ipysigma_kwarg_edge_color": "decreases",
          "relation": "decreases"
         },
         "source": "AURKB",
         "target": "belinostat"
        },
        {
         "attributes": {
          "ipysigma_kwarg_edge_color": "affects",
          "relation": "affects"
         },
         "source": "AURKB",
         "target": "Benzo(a)pyrene"
        },
        {
         "attributes": {
          "ipysigma_kwarg_edge_color": "decreases",
          "relation": "decreases"
         },
         "source": "AURKB",
         "target": "Benzo(a)pyrene"
        },
        {
         "attributes": {
          "ipysigma_kwarg_edge_color": "decreases",
          "relation": "decreases"
         },
         "source": "AURKB",
         "target": "Benzo(a)pyrene"
        },
        {
         "attributes": {
          "ipysigma_kwarg_edge_color": "increases",
          "relation": "increases"
         },
         "source": "AURKB",
         "target": "Benzo(a)pyrene"
        },
        {
         "attributes": {
          "ipysigma_kwarg_edge_color": "affects",
          "relation": "affects"
         },
         "source": "AURKB",
         "target": "benzyloxycarbonylleucyl-leucyl-leucine aldehyde"
        },
        {
         "attributes": {
          "ipysigma_kwarg_edge_color": "decreases",
          "relation": "decreases"
         },
         "source": "AURKB",
         "target": "benzyloxycarbonylleucyl-leucyl-leucine aldehyde"
        },
        {
         "attributes": {
          "ipysigma_kwarg_edge_color": "increases",
          "relation": "increases"
         },
         "source": "AURKB",
         "target": "benzyloxycarbonylleucyl-leucyl-leucine aldehyde"
        },
        {
         "attributes": {
          "ipysigma_kwarg_edge_color": "affects",
          "relation": "affects"
         },
         "source": "AURKB",
         "target": "benzyloxycarbonylleucyl-leucyl-leucine aldehyde"
        },
        {
         "attributes": {
          "ipysigma_kwarg_edge_color": "increases",
          "relation": "increases"
         },
         "source": "AURKB",
         "target": "benzyloxycarbonylleucyl-leucyl-leucine aldehyde"
        },
        {
         "attributes": {
          "ipysigma_kwarg_edge_color": "decreases",
          "relation": "decreases"
         },
         "source": "AURKB",
         "target": "Berberine"
        },
        {
         "attributes": {
          "ipysigma_kwarg_edge_color": "increases",
          "relation": "increases"
         },
         "source": "AURKB",
         "target": "Biphenyl Compounds"
        },
        {
         "attributes": {
          "ipysigma_kwarg_edge_color": "affects",
          "relation": "affects"
         },
         "source": "AURKB",
         "target": "bisphenol A"
        },
        {
         "attributes": {
          "ipysigma_kwarg_edge_color": "decreases",
          "relation": "decreases"
         },
         "source": "AURKB",
         "target": "bisphenol A"
        },
        {
         "attributes": {
          "ipysigma_kwarg_edge_color": "increases",
          "relation": "increases"
         },
         "source": "AURKB",
         "target": "bisphenol A"
        },
        {
         "attributes": {
          "ipysigma_kwarg_edge_color": "increases",
          "relation": "increases"
         },
         "source": "AURKB",
         "target": "bisphenol A"
        },
        {
         "attributes": {
          "ipysigma_kwarg_edge_color": "increases",
          "relation": "increases"
         },
         "source": "AURKB",
         "target": "bisphenol A"
        },
        {
         "attributes": {
          "ipysigma_kwarg_edge_color": "affects",
          "relation": "affects"
         },
         "source": "AURKB",
         "target": "bisphenol A"
        },
        {
         "attributes": {
          "ipysigma_kwarg_edge_color": "decreases",
          "relation": "decreases"
         },
         "source": "AURKB",
         "target": "bisphenol A"
        },
        {
         "attributes": {
          "ipysigma_kwarg_edge_color": "affects",
          "relation": "affects"
         },
         "source": "AURKB",
         "target": "Blood Glucose"
        },
        {
         "attributes": {
          "ipysigma_kwarg_edge_color": "decreases",
          "relation": "decreases"
         },
         "source": "AURKB",
         "target": "Blood Glucose"
        },
        {
         "attributes": {
          "ipysigma_kwarg_edge_color": "decreases",
          "relation": "decreases"
         },
         "source": "AURKB",
         "target": "Blood Glucose"
        },
        {
         "attributes": {
          "ipysigma_kwarg_edge_color": "affects",
          "relation": "affects"
         },
         "source": "AURKB",
         "target": "Blood Glucose"
        },
        {
         "attributes": {
          "ipysigma_kwarg_edge_color": "decreases",
          "relation": "decreases"
         },
         "source": "AURKB",
         "target": "Blood Glucose"
        },
        {
         "attributes": {
          "ipysigma_kwarg_edge_color": "increases",
          "relation": "increases"
         },
         "source": "AURKB",
         "target": "Butylated Hydroxyanisole"
        },
        {
         "attributes": {
          "ipysigma_kwarg_edge_color": "decreases",
          "relation": "decreases"
         },
         "source": "AURKB",
         "target": "Cadmium"
        },
        {
         "attributes": {
          "ipysigma_kwarg_edge_color": "increases",
          "relation": "increases"
         },
         "source": "AURKB",
         "target": "Cadmium"
        },
        {
         "attributes": {
          "ipysigma_kwarg_edge_color": "increases",
          "relation": "increases"
         },
         "source": "AURKB",
         "target": "Cadmium"
        },
        {
         "attributes": {
          "ipysigma_kwarg_edge_color": "increases",
          "relation": "increases"
         },
         "source": "AURKB",
         "target": "Cadmium"
        },
        {
         "attributes": {
          "ipysigma_kwarg_edge_color": "increases",
          "relation": "increases"
         },
         "source": "AURKB",
         "target": "Cadmium"
        },
        {
         "attributes": {
          "ipysigma_kwarg_edge_color": "increases",
          "relation": "increases"
         },
         "source": "AURKB",
         "target": "Cadmium"
        },
        {
         "attributes": {
          "ipysigma_kwarg_edge_color": "decreases",
          "relation": "decreases"
         },
         "source": "AURKB",
         "target": "Cadmium"
        },
        {
         "attributes": {
          "ipysigma_kwarg_edge_color": "increases",
          "relation": "increases"
         },
         "source": "AURKB",
         "target": "Cadmium"
        },
        {
         "attributes": {
          "ipysigma_kwarg_edge_color": "decreases",
          "relation": "decreases"
         },
         "source": "AURKB",
         "target": "Cadmium Chloride"
        },
        {
         "attributes": {
          "ipysigma_kwarg_edge_color": "increases",
          "relation": "increases"
         },
         "source": "AURKB",
         "target": "Cadmium Chloride"
        },
        {
         "attributes": {
          "ipysigma_kwarg_edge_color": "increases",
          "relation": "increases"
         },
         "source": "AURKB",
         "target": "Cadmium Chloride"
        },
        {
         "attributes": {
          "ipysigma_kwarg_edge_color": "affects",
          "relation": "affects"
         },
         "source": "AURKB",
         "target": "Cadmium Chloride"
        },
        {
         "attributes": {
          "ipysigma_kwarg_edge_color": "increases",
          "relation": "increases"
         },
         "source": "AURKB",
         "target": "Cadmium Chloride"
        },
        {
         "attributes": {
          "ipysigma_kwarg_edge_color": "increases",
          "relation": "increases"
         },
         "source": "AURKB",
         "target": "Cadmium Chloride"
        },
        {
         "attributes": {
          "ipysigma_kwarg_edge_color": "decreases",
          "relation": "decreases"
         },
         "source": "AURKB",
         "target": "Cadmium Chloride"
        },
        {
         "attributes": {
          "ipysigma_kwarg_edge_color": "decreases",
          "relation": "decreases"
         },
         "source": "AURKB",
         "target": "Calcitriol"
        },
        {
         "attributes": {
          "ipysigma_kwarg_edge_color": "affects",
          "relation": "affects"
         },
         "source": "AURKB",
         "target": "Calcitriol"
        },
        {
         "attributes": {
          "ipysigma_kwarg_edge_color": "decreases",
          "relation": "decreases"
         },
         "source": "AURKB",
         "target": "Calcitriol"
        },
        {
         "attributes": {
          "ipysigma_kwarg_edge_color": "affects",
          "relation": "affects"
         },
         "source": "AURKB",
         "target": "Cannabidiol"
        },
        {
         "attributes": {
          "ipysigma_kwarg_edge_color": "increases",
          "relation": "increases"
         },
         "source": "AURKB",
         "target": "Cannabidiol"
        },
        {
         "attributes": {
          "ipysigma_kwarg_edge_color": "affects",
          "relation": "affects"
         },
         "source": "AURKB",
         "target": "Carbamates"
        },
        {
         "attributes": {
          "ipysigma_kwarg_edge_color": "increases",
          "relation": "increases"
         },
         "source": "AURKB",
         "target": "Carbon Tetrachloride"
        },
        {
         "attributes": {
          "ipysigma_kwarg_edge_color": "increases",
          "relation": "increases"
         },
         "source": "AURKB",
         "target": "catechol"
        },
        {
         "attributes": {
          "ipysigma_kwarg_edge_color": "affects",
          "relation": "affects"
         },
         "source": "AURKB",
         "target": "Cellulose"
        },
        {
         "attributes": {
          "ipysigma_kwarg_edge_color": "increases",
          "relation": "increases"
         },
         "source": "AURKB",
         "target": "Cellulose"
        },
        {
         "attributes": {
          "ipysigma_kwarg_edge_color": "decreases",
          "relation": "decreases"
         },
         "source": "AURKB",
         "target": "Cephaloridine"
        },
        {
         "attributes": {
          "ipysigma_kwarg_edge_color": "decreases",
          "relation": "decreases"
         },
         "source": "AURKB",
         "target": "Chlorambucil"
        },
        {
         "attributes": {
          "ipysigma_kwarg_edge_color": "affects",
          "relation": "affects"
         },
         "source": "AURKB",
         "target": "chloroacetaldehyde"
        },
        {
         "attributes": {
          "ipysigma_kwarg_edge_color": "affects",
          "relation": "affects"
         },
         "source": "AURKB",
         "target": "Choline"
        },
        {
         "attributes": {
          "ipysigma_kwarg_edge_color": "decreases",
          "relation": "decreases"
         },
         "source": "AURKB",
         "target": "Choline"
        },
        {
         "attributes": {
          "ipysigma_kwarg_edge_color": "increases",
          "relation": "increases"
         },
         "source": "AURKB",
         "target": "Choline"
        },
        {
         "attributes": {
          "ipysigma_kwarg_edge_color": "affects",
          "relation": "affects"
         },
         "source": "AURKB",
         "target": "Choline"
        },
        {
         "attributes": {
          "ipysigma_kwarg_edge_color": "decreases",
          "relation": "decreases"
         },
         "source": "AURKB",
         "target": "Choline"
        },
        {
         "attributes": {
          "ipysigma_kwarg_edge_color": "affects",
          "relation": "affects"
         },
         "source": "AURKB",
         "target": "Choline"
        },
        {
         "attributes": {
          "ipysigma_kwarg_edge_color": "increases",
          "relation": "increases"
         },
         "source": "AURKB",
         "target": "Choline"
        },
        {
         "attributes": {
          "ipysigma_kwarg_edge_color": "increases",
          "relation": "increases"
         },
         "source": "AURKB",
         "target": "Cidofovir"
        },
        {
         "attributes": {
          "ipysigma_kwarg_edge_color": "decreases",
          "relation": "decreases"
         },
         "source": "AURKB",
         "target": "Cisplatin"
        },
        {
         "attributes": {
          "ipysigma_kwarg_edge_color": "increases",
          "relation": "increases"
         },
         "source": "AURKB",
         "target": "Cisplatin"
        },
        {
         "attributes": {
          "ipysigma_kwarg_edge_color": "increases",
          "relation": "increases"
         },
         "source": "AURKB",
         "target": "Cisplatin"
        },
        {
         "attributes": {
          "ipysigma_kwarg_edge_color": "increases",
          "relation": "increases"
         },
         "source": "AURKB",
         "target": "Clobetasol"
        },
        {
         "attributes": {
          "ipysigma_kwarg_edge_color": "increases",
          "relation": "increases"
         },
         "source": "AURKB",
         "target": "Clodronic Acid"
        },
        {
         "attributes": {
          "ipysigma_kwarg_edge_color": "decreases",
          "relation": "decreases"
         },
         "source": "AURKB",
         "target": "cobaltous chloride"
        },
        {
         "attributes": {
          "ipysigma_kwarg_edge_color": "increases",
          "relation": "increases"
         },
         "source": "AURKB",
         "target": "Colchicine"
        },
        {
         "attributes": {
          "ipysigma_kwarg_edge_color": "affects",
          "relation": "affects"
         },
         "source": "AURKB",
         "target": "Copper"
        },
        {
         "attributes": {
          "ipysigma_kwarg_edge_color": "decreases",
          "relation": "decreases"
         },
         "source": "AURKB",
         "target": "Copper"
        },
        {
         "attributes": {
          "ipysigma_kwarg_edge_color": "increases",
          "relation": "increases"
         },
         "source": "AURKB",
         "target": "Copper"
        },
        {
         "attributes": {
          "ipysigma_kwarg_edge_color": "increases",
          "relation": "increases"
         },
         "source": "AURKB",
         "target": "copper-1,10-phenanthroline"
        },
        {
         "attributes": {
          "ipysigma_kwarg_edge_color": "decreases",
          "relation": "decreases"
         },
         "source": "AURKB",
         "target": "Copper Sulfate"
        },
        {
         "attributes": {
          "ipysigma_kwarg_edge_color": "decreases",
          "relation": "decreases"
         },
         "source": "AURKB",
         "target": "Corticosterone"
        },
        {
         "attributes": {
          "ipysigma_kwarg_edge_color": "affects",
          "relation": "affects"
         },
         "source": "AURKB",
         "target": "Coumestrol"
        },
        {
         "attributes": {
          "ipysigma_kwarg_edge_color": "increases",
          "relation": "increases"
         },
         "source": "AURKB",
         "target": "Coumestrol"
        },
        {
         "attributes": {
          "ipysigma_kwarg_edge_color": "affects",
          "relation": "affects"
         },
         "source": "AURKB",
         "target": "Coumestrol"
        },
        {
         "attributes": {
          "ipysigma_kwarg_edge_color": "increases",
          "relation": "increases"
         },
         "source": "AURKB",
         "target": "Coumestrol"
        },
        {
         "attributes": {
          "ipysigma_kwarg_edge_color": "increases",
          "relation": "increases"
         },
         "source": "AURKB",
         "target": "Coumestrol"
        },
        {
         "attributes": {
          "ipysigma_kwarg_edge_color": "decreases",
          "relation": "decreases"
         },
         "source": "AURKB",
         "target": "cupric oxide"
        },
        {
         "attributes": {
          "ipysigma_kwarg_edge_color": "increases",
          "relation": "increases"
         },
         "source": "AURKB",
         "target": "Cuprizone"
        },
        {
         "attributes": {
          "ipysigma_kwarg_edge_color": "decreases",
          "relation": "decreases"
         },
         "source": "AURKB",
         "target": "Curcumin"
        },
        {
         "attributes": {
          "ipysigma_kwarg_edge_color": "increases",
          "relation": "increases"
         },
         "source": "AURKB",
         "target": "Cyclophosphamide"
        },
        {
         "attributes": {
          "ipysigma_kwarg_edge_color": "decreases",
          "relation": "decreases"
         },
         "source": "AURKB",
         "target": "Cyclosporine"
        },
        {
         "attributes": {
          "ipysigma_kwarg_edge_color": "affects",
          "relation": "affects"
         },
         "source": "AURKB",
         "target": "dan-shen root extract"
        },
        {
         "attributes": {
          "ipysigma_kwarg_edge_color": "decreases",
          "relation": "decreases"
         },
         "source": "AURKB",
         "target": "dan-shen root extract"
        },
        {
         "attributes": {
          "ipysigma_kwarg_edge_color": "decreases",
          "relation": "decreases"
         },
         "source": "AURKB",
         "target": "dan-shen root extract"
        },
        {
         "attributes": {
          "ipysigma_kwarg_edge_color": "decreases",
          "relation": "decreases"
         },
         "source": "AURKB",
         "target": "Dasatinib"
        },
        {
         "attributes": {
          "ipysigma_kwarg_edge_color": "increases",
          "relation": "increases"
         },
         "source": "AURKB",
         "target": "D-Aspartic Acid"
        },
        {
         "attributes": {
          "ipysigma_kwarg_edge_color": "decreases",
          "relation": "decreases"
         },
         "source": "AURKB",
         "target": "decamethrin"
        },
        {
         "attributes": {
          "ipysigma_kwarg_edge_color": "decreases",
          "relation": "decreases"
         },
         "source": "AURKB",
         "target": "Demecolcine"
        },
        {
         "attributes": {
          "ipysigma_kwarg_edge_color": "increases",
          "relation": "increases"
         },
         "source": "1-Naphthylisothiocyanate",
         "target": "F2"
        },
        {
         "attributes": {
          "ipysigma_kwarg_edge_color": "increases",
          "relation": "increases"
         },
         "source": "1-Naphthylisothiocyanate",
         "target": "F2"
        },
        {
         "attributes": {
          "ipysigma_kwarg_edge_color": "increases",
          "relation": "increases"
         },
         "source": "1-Naphthylisothiocyanate",
         "target": "F2"
        },
        {
         "attributes": {
          "ipysigma_kwarg_edge_color": "decreases",
          "relation": "decreases"
         },
         "source": "1-Naphthylisothiocyanate",
         "target": "F2"
        },
        {
         "attributes": {
          "ipysigma_kwarg_edge_color": "increases",
          "relation": "increases"
         },
         "source": "1-Naphthylisothiocyanate",
         "target": "F2"
        },
        {
         "attributes": {
          "ipysigma_kwarg_edge_color": "affects",
          "relation": "affects"
         },
         "source": "1-Naphthylisothiocyanate",
         "target": "F2"
        },
        {
         "attributes": {
          "ipysigma_kwarg_edge_color": "increases",
          "relation": "increases"
         },
         "source": "1-Naphthylisothiocyanate",
         "target": "F2"
        },
        {
         "attributes": {
          "ipysigma_kwarg_edge_color": "affects",
          "relation": "affects"
         },
         "source": "1-Naphthylisothiocyanate",
         "target": "F5"
        },
        {
         "attributes": {
          "ipysigma_kwarg_edge_color": "affects",
          "relation": "affects"
         },
         "source": "1-Naphthylisothiocyanate",
         "target": "F5"
        },
        {
         "attributes": {
          "ipysigma_kwarg_edge_color": "affects",
          "relation": "affects"
         },
         "source": "2,2',3',4,4',5-hexachlorobiphenyl",
         "target": "F2"
        },
        {
         "attributes": {
          "ipysigma_kwarg_edge_color": "increases",
          "relation": "increases"
         },
         "source": "2,2',3',4,4',5-hexachlorobiphenyl",
         "target": "F5"
        },
        {
         "attributes": {
          "ipysigma_kwarg_edge_color": "affects",
          "relation": "affects"
         },
         "source": "2,2',3',4,4',5-hexachlorobiphenyl",
         "target": "PADI6"
        },
        {
         "attributes": {
          "ipysigma_kwarg_edge_color": "decreases",
          "relation": "decreases"
         },
         "source": "2,2',3',4,4',5-hexachlorobiphenyl",
         "target": "PADI6"
        },
        {
         "attributes": {
          "ipysigma_kwarg_edge_color": "affects",
          "relation": "affects"
         },
         "source": "2,4,4'-trichlorobiphenyl",
         "target": "PADI6"
        },
        {
         "attributes": {
          "ipysigma_kwarg_edge_color": "decreases",
          "relation": "decreases"
         },
         "source": "2,4,4'-trichlorobiphenyl",
         "target": "PADI6"
        },
        {
         "attributes": {
          "ipysigma_kwarg_edge_color": "affects",
          "relation": "affects"
         },
         "source": "2,4,5,2',4',5'-hexachlorobiphenyl",
         "target": "PADI6"
        },
        {
         "attributes": {
          "ipysigma_kwarg_edge_color": "decreases",
          "relation": "decreases"
         },
         "source": "2,4,5,2',4',5'-hexachlorobiphenyl",
         "target": "PADI6"
        },
        {
         "attributes": {
          "ipysigma_kwarg_edge_color": "affects",
          "relation": "affects"
         },
         "source": "2,4,5,2',5'-pentachlorobiphenyl",
         "target": "PADI6"
        },
        {
         "attributes": {
          "ipysigma_kwarg_edge_color": "decreases",
          "relation": "decreases"
         },
         "source": "2,4,5,2',5'-pentachlorobiphenyl",
         "target": "PADI6"
        },
        {
         "attributes": {
          "ipysigma_kwarg_edge_color": "decreases",
          "relation": "decreases"
         },
         "source": "2-(4-morpholinyl)-8-phenyl-4H-1-benzopyran-4-one",
         "target": "F2"
        },
        {
         "attributes": {
          "ipysigma_kwarg_edge_color": "increases",
          "relation": "increases"
         },
         "source": "2-(4-morpholinyl)-8-phenyl-4H-1-benzopyran-4-one",
         "target": "F2"
        },
        {
         "attributes": {
          "ipysigma_kwarg_edge_color": "affects",
          "relation": "affects"
         },
         "source": "2,5,2',5'-tetrachlorobiphenyl",
         "target": "F2"
        },
        {
         "attributes": {
          "ipysigma_kwarg_edge_color": "affects",
          "relation": "affects"
         },
         "source": "2,5,2',5'-tetrachlorobiphenyl",
         "target": "PADI6"
        },
        {
         "attributes": {
          "ipysigma_kwarg_edge_color": "decreases",
          "relation": "decreases"
         },
         "source": "2,5,2',5'-tetrachlorobiphenyl",
         "target": "PADI6"
        },
        {
         "attributes": {
          "ipysigma_kwarg_edge_color": "increases",
          "relation": "increases"
         },
         "source": "2-palmitoylglycerol",
         "target": "F5"
        },
        {
         "attributes": {
          "ipysigma_kwarg_edge_color": "increases",
          "relation": "increases"
         },
         "source": "7,8-Dihydro-7,8-dihydroxybenzo(a)pyrene 9,10-oxide",
         "target": "F5"
        },
        {
         "attributes": {
          "ipysigma_kwarg_edge_color": "decreases",
          "relation": "decreases"
         },
         "source": "7,8-Dihydro-7,8-dihydroxybenzo(a)pyrene 9,10-oxide",
         "target": "FOXD1"
        },
        {
         "attributes": {
          "ipysigma_kwarg_edge_color": "decreases",
          "relation": "decreases"
         },
         "source": "acetamide",
         "target": "F2"
        },
        {
         "attributes": {
          "ipysigma_kwarg_edge_color": "decreases",
          "relation": "decreases"
         },
         "source": "acetamide",
         "target": "F5"
        },
        {
         "attributes": {
          "ipysigma_kwarg_edge_color": "decreases",
          "relation": "decreases"
         },
         "source": "Acetaminophen",
         "target": "F2"
        },
        {
         "attributes": {
          "ipysigma_kwarg_edge_color": "increases",
          "relation": "increases"
         },
         "source": "Acetaminophen",
         "target": "F2"
        },
        {
         "attributes": {
          "ipysigma_kwarg_edge_color": "affects",
          "relation": "affects"
         },
         "source": "Acetaminophen",
         "target": "F2"
        },
        {
         "attributes": {
          "ipysigma_kwarg_edge_color": "decreases",
          "relation": "decreases"
         },
         "source": "Acetaminophen",
         "target": "F2"
        },
        {
         "attributes": {
          "ipysigma_kwarg_edge_color": "affects",
          "relation": "affects"
         },
         "source": "Acetaminophen",
         "target": "F2"
        },
        {
         "attributes": {
          "ipysigma_kwarg_edge_color": "decreases",
          "relation": "decreases"
         },
         "source": "Acetaminophen",
         "target": "F2"
        },
        {
         "attributes": {
          "ipysigma_kwarg_edge_color": "increases",
          "relation": "increases"
         },
         "source": "Acetaminophen",
         "target": "F2"
        },
        {
         "attributes": {
          "ipysigma_kwarg_edge_color": "affects",
          "relation": "affects"
         },
         "source": "Acetaminophen",
         "target": "F2"
        },
        {
         "attributes": {
          "ipysigma_kwarg_edge_color": "decreases",
          "relation": "decreases"
         },
         "source": "Acetaminophen",
         "target": "F2"
        },
        {
         "attributes": {
          "ipysigma_kwarg_edge_color": "increases",
          "relation": "increases"
         },
         "source": "Acetaminophen",
         "target": "F2"
        },
        {
         "attributes": {
          "ipysigma_kwarg_edge_color": "decreases",
          "relation": "decreases"
         },
         "source": "Acetaminophen",
         "target": "F5"
        },
        {
         "attributes": {
          "ipysigma_kwarg_edge_color": "affects",
          "relation": "affects"
         },
         "source": "Acetaminophen",
         "target": "F5"
        },
        {
         "attributes": {
          "ipysigma_kwarg_edge_color": "affects",
          "relation": "affects"
         },
         "source": "Acetaminophen",
         "target": "F5"
        },
        {
         "attributes": {
          "ipysigma_kwarg_edge_color": "affects",
          "relation": "affects"
         },
         "source": "Acetaminophen",
         "target": "F5"
        },
        {
         "attributes": {
          "ipysigma_kwarg_edge_color": "affects",
          "relation": "affects"
         },
         "source": "Acetaminophen",
         "target": "F5"
        },
        {
         "attributes": {
          "ipysigma_kwarg_edge_color": "affects",
          "relation": "affects"
         },
         "source": "Acetaminophen",
         "target": "F5"
        },
        {
         "attributes": {
          "ipysigma_kwarg_edge_color": "affects",
          "relation": "affects"
         },
         "source": "Acetaminophen",
         "target": "F5"
        },
        {
         "attributes": {
          "ipysigma_kwarg_edge_color": "affects",
          "relation": "affects"
         },
         "source": "Acetaminophen",
         "target": "FOXD1"
        },
        {
         "attributes": {
          "ipysigma_kwarg_edge_color": "increases",
          "relation": "increases"
         },
         "source": "Acetaminophen",
         "target": "FOXD1"
        },
        {
         "attributes": {
          "ipysigma_kwarg_edge_color": "decreases",
          "relation": "decreases"
         },
         "source": "Acrylamide",
         "target": "F5"
        },
        {
         "attributes": {
          "ipysigma_kwarg_edge_color": "affects",
          "relation": "affects"
         },
         "source": "Acrylamide",
         "target": "F5"
        },
        {
         "attributes": {
          "ipysigma_kwarg_edge_color": "decreases",
          "relation": "decreases"
         },
         "source": "Acrylamide",
         "target": "PADI6"
        },
        {
         "attributes": {
          "ipysigma_kwarg_edge_color": "affects",
          "relation": "affects"
         },
         "source": "Aflatoxin B1",
         "target": "F2"
        },
        {
         "attributes": {
          "ipysigma_kwarg_edge_color": "affects",
          "relation": "affects"
         },
         "source": "Aflatoxin B1",
         "target": "F5"
        },
        {
         "attributes": {
          "ipysigma_kwarg_edge_color": "decreases",
          "relation": "decreases"
         },
         "source": "Aflatoxin B1",
         "target": "F5"
        },
        {
         "attributes": {
          "ipysigma_kwarg_edge_color": "decreases",
          "relation": "decreases"
         },
         "source": "Aflatoxin B1",
         "target": "F5"
        },
        {
         "attributes": {
          "ipysigma_kwarg_edge_color": "decreases",
          "relation": "decreases"
         },
         "source": "Aflatoxin B1",
         "target": "F5"
        },
        {
         "attributes": {
          "ipysigma_kwarg_edge_color": "affects",
          "relation": "affects"
         },
         "source": "Aflatoxin B1",
         "target": "PADI6"
        },
        {
         "attributes": {
          "ipysigma_kwarg_edge_color": "increases",
          "relation": "increases"
         },
         "source": "Air Pollutants",
         "target": "F5"
        },
        {
         "attributes": {
          "ipysigma_kwarg_edge_color": "increases",
          "relation": "increases"
         },
         "source": "Air Pollutants",
         "target": "F5"
        },
        {
         "attributes": {
          "ipysigma_kwarg_edge_color": "affects",
          "relation": "affects"
         },
         "source": "Ammonium Chloride",
         "target": "F2"
        },
        {
         "attributes": {
          "ipysigma_kwarg_edge_color": "affects",
          "relation": "affects"
         },
         "source": "Ammonium Chloride",
         "target": "FOXD1"
        },
        {
         "attributes": {
          "ipysigma_kwarg_edge_color": "decreases",
          "relation": "decreases"
         },
         "source": "arsenite",
         "target": "F2"
        },
        {
         "attributes": {
          "ipysigma_kwarg_edge_color": "increases",
          "relation": "increases"
         },
         "source": "arsenite",
         "target": "F2"
        },
        {
         "attributes": {
          "ipysigma_kwarg_edge_color": "decreases",
          "relation": "decreases"
         },
         "source": "arsenite",
         "target": "F2"
        },
        {
         "attributes": {
          "ipysigma_kwarg_edge_color": "increases",
          "relation": "increases"
         },
         "source": "arsenite",
         "target": "F2"
        },
        {
         "attributes": {
          "ipysigma_kwarg_edge_color": "decreases",
          "relation": "decreases"
         },
         "source": "arsenite",
         "target": "F2"
        },
        {
         "attributes": {
          "ipysigma_kwarg_edge_color": "increases",
          "relation": "increases"
         },
         "source": "arsenite",
         "target": "F2"
        },
        {
         "attributes": {
          "ipysigma_kwarg_edge_color": "decreases",
          "relation": "decreases"
         },
         "source": "Atrazine",
         "target": "F5"
        },
        {
         "attributes": {
          "ipysigma_kwarg_edge_color": "decreases",
          "relation": "decreases"
         },
         "source": "Benzo(a)pyrene",
         "target": "F2"
        },
        {
         "attributes": {
          "ipysigma_kwarg_edge_color": "increases",
          "relation": "increases"
         },
         "source": "Benzo(a)pyrene",
         "target": "F2"
        },
        {
         "attributes": {
          "ipysigma_kwarg_edge_color": "increases",
          "relation": "increases"
         },
         "source": "Benzo(a)pyrene",
         "target": "F2"
        },
        {
         "attributes": {
          "ipysigma_kwarg_edge_color": "increases",
          "relation": "increases"
         },
         "source": "Benzo(a)pyrene",
         "target": "F2"
        },
        {
         "attributes": {
          "ipysigma_kwarg_edge_color": "affects",
          "relation": "affects"
         },
         "source": "Benzo(a)pyrene",
         "target": "F5"
        },
        {
         "attributes": {
          "ipysigma_kwarg_edge_color": "decreases",
          "relation": "decreases"
         },
         "source": "Benzo(a)pyrene",
         "target": "F5"
        },
        {
         "attributes": {
          "ipysigma_kwarg_edge_color": "increases",
          "relation": "increases"
         },
         "source": "Benzo(a)pyrene",
         "target": "F5"
        },
        {
         "attributes": {
          "ipysigma_kwarg_edge_color": "decreases",
          "relation": "decreases"
         },
         "source": "Benzo(a)pyrene",
         "target": "FOXD1"
        },
        {
         "attributes": {
          "ipysigma_kwarg_edge_color": "increases",
          "relation": "increases"
         },
         "source": "Benzo(a)pyrene",
         "target": "FOXD1"
        },
        {
         "attributes": {
          "ipysigma_kwarg_edge_color": "affects",
          "relation": "affects"
         },
         "source": "Benzo(a)pyrene",
         "target": "PADI6"
        },
        {
         "attributes": {
          "ipysigma_kwarg_edge_color": "affects",
          "relation": "affects"
         },
         "source": "Benzo(a)pyrene",
         "target": "PADI6"
        },
        {
         "attributes": {
          "ipysigma_kwarg_edge_color": "affects",
          "relation": "affects"
         },
         "source": "Benzo(a)pyrene",
         "target": "PADI6"
        },
        {
         "attributes": {
          "ipysigma_kwarg_edge_color": "increases",
          "relation": "increases"
         },
         "source": "Benzo(a)pyrene",
         "target": "PADI6"
        },
        {
         "attributes": {
          "ipysigma_kwarg_edge_color": "decreases",
          "relation": "decreases"
         },
         "source": "bisphenol A",
         "target": "F2"
        },
        {
         "attributes": {
          "ipysigma_kwarg_edge_color": "increases",
          "relation": "increases"
         },
         "source": "bisphenol A",
         "target": "F2"
        },
        {
         "attributes": {
          "ipysigma_kwarg_edge_color": "affects",
          "relation": "affects"
         },
         "source": "bisphenol A",
         "target": "F2"
        },
        {
         "attributes": {
          "ipysigma_kwarg_edge_color": "affects",
          "relation": "affects"
         },
         "source": "bisphenol A",
         "target": "F2"
        },
        {
         "attributes": {
          "ipysigma_kwarg_edge_color": "decreases",
          "relation": "decreases"
         },
         "source": "bisphenol A",
         "target": "F2"
        },
        {
         "attributes": {
          "ipysigma_kwarg_edge_color": "increases",
          "relation": "increases"
         },
         "source": "bisphenol A",
         "target": "F2"
        },
        {
         "attributes": {
          "ipysigma_kwarg_edge_color": "affects",
          "relation": "affects"
         },
         "source": "bisphenol A",
         "target": "F2"
        },
        {
         "attributes": {
          "ipysigma_kwarg_edge_color": "decreases",
          "relation": "decreases"
         },
         "source": "bisphenol A",
         "target": "F2"
        },
        {
         "attributes": {
          "ipysigma_kwarg_edge_color": "decreases",
          "relation": "decreases"
         },
         "source": "bisphenol A",
         "target": "F2"
        },
        {
         "attributes": {
          "ipysigma_kwarg_edge_color": "affects",
          "relation": "affects"
         },
         "source": "bisphenol A",
         "target": "F5"
        },
        {
         "attributes": {
          "ipysigma_kwarg_edge_color": "increases",
          "relation": "increases"
         },
         "source": "bisphenol A",
         "target": "F5"
        },
        {
         "attributes": {
          "ipysigma_kwarg_edge_color": "decreases",
          "relation": "decreases"
         },
         "source": "bisphenol A",
         "target": "F5"
        },
        {
         "attributes": {
          "ipysigma_kwarg_edge_color": "increases",
          "relation": "increases"
         },
         "source": "bisphenol A",
         "target": "F5"
        },
        {
         "attributes": {
          "ipysigma_kwarg_edge_color": "increases",
          "relation": "increases"
         },
         "source": "bisphenol A",
         "target": "F5"
        },
        {
         "attributes": {
          "ipysigma_kwarg_edge_color": "decreases",
          "relation": "decreases"
         },
         "source": "bisphenol A",
         "target": "F5"
        },
        {
         "attributes": {
          "ipysigma_kwarg_edge_color": "increases",
          "relation": "increases"
         },
         "source": "bisphenol A",
         "target": "F5"
        },
        {
         "attributes": {
          "ipysigma_kwarg_edge_color": "increases",
          "relation": "increases"
         },
         "source": "bisphenol A",
         "target": "F5"
        },
        {
         "attributes": {
          "ipysigma_kwarg_edge_color": "affects",
          "relation": "affects"
         },
         "source": "bisphenol A",
         "target": "F5"
        },
        {
         "attributes": {
          "ipysigma_kwarg_edge_color": "decreases",
          "relation": "decreases"
         },
         "source": "bisphenol A",
         "target": "F5"
        },
        {
         "attributes": {
          "ipysigma_kwarg_edge_color": "increases",
          "relation": "increases"
         },
         "source": "bisphenol A",
         "target": "F5"
        },
        {
         "attributes": {
          "ipysigma_kwarg_edge_color": "affects",
          "relation": "affects"
         },
         "source": "bisphenol A",
         "target": "FOXD1"
        },
        {
         "attributes": {
          "ipysigma_kwarg_edge_color": "decreases",
          "relation": "decreases"
         },
         "source": "bisphenol A",
         "target": "FOXD1"
        },
        {
         "attributes": {
          "ipysigma_kwarg_edge_color": "increases",
          "relation": "increases"
         },
         "source": "bisphenol A",
         "target": "FOXD1"
        },
        {
         "attributes": {
          "ipysigma_kwarg_edge_color": "affects",
          "relation": "affects"
         },
         "source": "bisphenol A",
         "target": "FOXD1"
        },
        {
         "attributes": {
          "ipysigma_kwarg_edge_color": "increases",
          "relation": "increases"
         },
         "source": "bisphenol A",
         "target": "FOXD1"
        },
        {
         "attributes": {
          "ipysigma_kwarg_edge_color": "affects",
          "relation": "affects"
         },
         "source": "bisphenol A",
         "target": "FOXD1"
        },
        {
         "attributes": {
          "ipysigma_kwarg_edge_color": "affects",
          "relation": "affects"
         },
         "source": "bisphenol A",
         "target": "PADI6"
        },
        {
         "attributes": {
          "ipysigma_kwarg_edge_color": "increases",
          "relation": "increases"
         },
         "source": "bisphenol A",
         "target": "PADI6"
        },
        {
         "attributes": {
          "ipysigma_kwarg_edge_color": "decreases",
          "relation": "decreases"
         },
         "source": "bisphenol A",
         "target": "PADI6"
        },
        {
         "attributes": {
          "ipysigma_kwarg_edge_color": "decreases",
          "relation": "decreases"
         },
         "source": "bisphenol A",
         "target": "PADI6"
        },
        {
         "attributes": {
          "ipysigma_kwarg_edge_color": "decreases",
          "relation": "decreases"
         },
         "source": "bisphenol A",
         "target": "PADI6"
        },
        {
         "attributes": {
          "ipysigma_kwarg_edge_color": "affects",
          "relation": "affects"
         },
         "source": "Cadmium",
         "target": "F2"
        },
        {
         "attributes": {
          "ipysigma_kwarg_edge_color": "increases",
          "relation": "increases"
         },
         "source": "Cadmium",
         "target": "F2"
        },
        {
         "attributes": {
          "ipysigma_kwarg_edge_color": "decreases",
          "relation": "decreases"
         },
         "source": "Cadmium",
         "target": "F5"
        },
        {
         "attributes": {
          "ipysigma_kwarg_edge_color": "increases",
          "relation": "increases"
         },
         "source": "Cadmium",
         "target": "F5"
        },
        {
         "attributes": {
          "ipysigma_kwarg_edge_color": "affects",
          "relation": "affects"
         },
         "source": "Cadmium",
         "target": "F5"
        },
        {
         "attributes": {
          "ipysigma_kwarg_edge_color": "increases",
          "relation": "increases"
         },
         "source": "Cadmium",
         "target": "F5"
        },
        {
         "attributes": {
          "ipysigma_kwarg_edge_color": "affects",
          "relation": "affects"
         },
         "source": "Cadmium Chloride",
         "target": "F2"
        },
        {
         "attributes": {
          "ipysigma_kwarg_edge_color": "decreases",
          "relation": "decreases"
         },
         "source": "Cadmium Chloride",
         "target": "F5"
        },
        {
         "attributes": {
          "ipysigma_kwarg_edge_color": "increases",
          "relation": "increases"
         },
         "source": "Cadmium Chloride",
         "target": "F5"
        },
        {
         "attributes": {
          "ipysigma_kwarg_edge_color": "increases",
          "relation": "increases"
         },
         "source": "Calcitriol",
         "target": "F5"
        },
        {
         "attributes": {
          "ipysigma_kwarg_edge_color": "affects",
          "relation": "affects"
         },
         "source": "Calcitriol",
         "target": "F5"
        },
        {
         "attributes": {
          "ipysigma_kwarg_edge_color": "increases",
          "relation": "increases"
         },
         "source": "Calcitriol",
         "target": "F5"
        },
        {
         "attributes": {
          "ipysigma_kwarg_edge_color": "affects",
          "relation": "affects"
         },
         "source": "Cannabidiol",
         "target": "F5"
        },
        {
         "attributes": {
          "ipysigma_kwarg_edge_color": "increases",
          "relation": "increases"
         },
         "source": "Cannabidiol",
         "target": "FOXD1"
        },
        {
         "attributes": {
          "ipysigma_kwarg_edge_color": "increases",
          "relation": "increases"
         },
         "source": "Carbon Tetrachloride",
         "target": "F2"
        },
        {
         "attributes": {
          "ipysigma_kwarg_edge_color": "decreases",
          "relation": "decreases"
         },
         "source": "Carbon Tetrachloride",
         "target": "F2"
        },
        {
         "attributes": {
          "ipysigma_kwarg_edge_color": "decreases",
          "relation": "decreases"
         },
         "source": "Carbon Tetrachloride",
         "target": "F2"
        },
        {
         "attributes": {
          "ipysigma_kwarg_edge_color": "decreases",
          "relation": "decreases"
         },
         "source": "Carbon Tetrachloride",
         "target": "F2"
        },
        {
         "attributes": {
          "ipysigma_kwarg_edge_color": "decreases",
          "relation": "decreases"
         },
         "source": "Carbon Tetrachloride",
         "target": "F5"
        },
        {
         "attributes": {
          "ipysigma_kwarg_edge_color": "decreases",
          "relation": "decreases"
         },
         "source": "Carbon Tetrachloride",
         "target": "F5"
        },
        {
         "attributes": {
          "ipysigma_kwarg_edge_color": "affects",
          "relation": "affects"
         },
         "source": "Cellulose",
         "target": "F2"
        },
        {
         "attributes": {
          "ipysigma_kwarg_edge_color": "decreases",
          "relation": "decreases"
         },
         "source": "Cellulose",
         "target": "F2"
        },
        {
         "attributes": {
          "ipysigma_kwarg_edge_color": "affects",
          "relation": "affects"
         },
         "source": "Cellulose",
         "target": "F5"
        },
        {
         "attributes": {
          "ipysigma_kwarg_edge_color": "decreases",
          "relation": "decreases"
         },
         "source": "Cellulose",
         "target": "F5"
        },
        {
         "attributes": {
          "ipysigma_kwarg_edge_color": "increases",
          "relation": "increases"
         },
         "source": "Cephaloridine",
         "target": "PADI6"
        },
        {
         "attributes": {
          "ipysigma_kwarg_edge_color": "affects",
          "relation": "affects"
         },
         "source": "Choline",
         "target": "FOXD1"
        },
        {
         "attributes": {
          "ipysigma_kwarg_edge_color": "decreases",
          "relation": "decreases"
         },
         "source": "Choline",
         "target": "FOXD1"
        },
        {
         "attributes": {
          "ipysigma_kwarg_edge_color": "affects",
          "relation": "affects"
         },
         "source": "Cisplatin",
         "target": "FOXD1"
        },
        {
         "attributes": {
          "ipysigma_kwarg_edge_color": "decreases",
          "relation": "decreases"
         },
         "source": "Cisplatin",
         "target": "FOXD1"
        },
        {
         "attributes": {
          "ipysigma_kwarg_edge_color": "decreases",
          "relation": "decreases"
         },
         "source": "Cisplatin",
         "target": "FOXD1"
        },
        {
         "attributes": {
          "ipysigma_kwarg_edge_color": "decreases",
          "relation": "decreases"
         },
         "source": "cobaltous chloride",
         "target": "F5"
        },
        {
         "attributes": {
          "ipysigma_kwarg_edge_color": "increases",
          "relation": "increases"
         },
         "source": "cobaltous chloride",
         "target": "FOXD1"
        },
        {
         "attributes": {
          "ipysigma_kwarg_edge_color": "affects",
          "relation": "affects"
         },
         "source": "Colchicine",
         "target": "F2"
        },
        {
         "attributes": {
          "ipysigma_kwarg_edge_color": "affects",
          "relation": "affects"
         },
         "source": "Copper",
         "target": "F2"
        },
        {
         "attributes": {
          "ipysigma_kwarg_edge_color": "decreases",
          "relation": "decreases"
         },
         "source": "Copper",
         "target": "F2"
        },
        {
         "attributes": {
          "ipysigma_kwarg_edge_color": "decreases",
          "relation": "decreases"
         },
         "source": "Copper Sulfate",
         "target": "F2"
        },
        {
         "attributes": {
          "ipysigma_kwarg_edge_color": "decreases",
          "relation": "decreases"
         },
         "source": "Coumestrol",
         "target": "FOXD1"
        },
        {
         "attributes": {
          "ipysigma_kwarg_edge_color": "decreases",
          "relation": "decreases"
         },
         "source": "Curcumin",
         "target": "F2"
        },
        {
         "attributes": {
          "ipysigma_kwarg_edge_color": "increases",
          "relation": "increases"
         },
         "source": "Curcumin",
         "target": "F2"
        },
        {
         "attributes": {
          "ipysigma_kwarg_edge_color": "decreases",
          "relation": "decreases"
         },
         "source": "Curcumin",
         "target": "F2"
        },
        {
         "attributes": {
          "ipysigma_kwarg_edge_color": "increases",
          "relation": "increases"
         },
         "source": "Curcumin",
         "target": "F2"
        },
        {
         "attributes": {
          "ipysigma_kwarg_edge_color": "decreases",
          "relation": "decreases"
         },
         "source": "Curcumin",
         "target": "F2"
        },
        {
         "attributes": {
          "ipysigma_kwarg_edge_color": "increases",
          "relation": "increases"
         },
         "source": "Curcumin",
         "target": "F2"
        },
        {
         "attributes": {
          "ipysigma_kwarg_edge_color": "decreases",
          "relation": "decreases"
         },
         "source": "Curcumin",
         "target": "F2"
        },
        {
         "attributes": {
          "ipysigma_kwarg_edge_color": "increases",
          "relation": "increases"
         },
         "source": "Curcumin",
         "target": "F2"
        },
        {
         "attributes": {
          "ipysigma_kwarg_edge_color": "decreases",
          "relation": "decreases"
         },
         "source": "Cyclosporine",
         "target": "F2"
        },
        {
         "attributes": {
          "ipysigma_kwarg_edge_color": "decreases",
          "relation": "decreases"
         },
         "source": "Cyclosporine",
         "target": "F2"
        },
        {
         "attributes": {
          "ipysigma_kwarg_edge_color": "increases",
          "relation": "increases"
         },
         "source": "Cyclosporine",
         "target": "F2"
        },
        {
         "attributes": {
          "ipysigma_kwarg_edge_color": "decreases",
          "relation": "decreases"
         },
         "source": "Cyclosporine",
         "target": "F5"
        },
        {
         "attributes": {
          "ipysigma_kwarg_edge_color": "decreases",
          "relation": "decreases"
         },
         "source": "Cyclosporine",
         "target": "F5"
        },
        {
         "attributes": {
          "ipysigma_kwarg_edge_color": "decreases",
          "relation": "decreases"
         },
         "source": "Cyclosporine",
         "target": "FOXD1"
        },
        {
         "attributes": {
          "ipysigma_kwarg_edge_color": "affects",
          "relation": "affects"
         },
         "source": "decamethrin",
         "target": "FOXD1"
        },
        {
         "attributes": {
          "ipysigma_kwarg_edge_color": "increases",
          "relation": "increases"
         },
         "source": "Demecolcine",
         "target": "F5"
        },
        {
         "attributes": {
          "ipysigma_kwarg_edge_color": "affects",
          "relation": "affects"
         },
         "source": "F2",
         "target": "1,1-dimethylbutyl-1-deoxy-Delta(9)-THC"
        },
        {
         "attributes": {
          "ipysigma_kwarg_edge_color": "increases",
          "relation": "increases"
         },
         "source": "F2",
         "target": "1,1-dimethylbutyl-1-deoxy-Delta(9)-THC"
        },
        {
         "attributes": {
          "ipysigma_kwarg_edge_color": "affects",
          "relation": "affects"
         },
         "source": "F2",
         "target": "1,1-dimethylbutyl-1-deoxy-Delta(9)-THC"
        },
        {
         "attributes": {
          "ipysigma_kwarg_edge_color": "increases",
          "relation": "increases"
         },
         "source": "F2",
         "target": "1,1-dimethylbutyl-1-deoxy-Delta(9)-THC"
        },
        {
         "attributes": {
          "ipysigma_kwarg_edge_color": "affects",
          "relation": "affects"
         },
         "source": "F2",
         "target": "1,1-dimethylbutyl-1-deoxy-Delta(9)-THC"
        },
        {
         "attributes": {
          "ipysigma_kwarg_edge_color": "increases",
          "relation": "increases"
         },
         "source": "F2",
         "target": "1,1-dimethylbutyl-1-deoxy-Delta(9)-THC"
        },
        {
         "attributes": {
          "ipysigma_kwarg_edge_color": "affects",
          "relation": "affects"
         },
         "source": "F2",
         "target": "1,1-dimethylbutyl-1-deoxy-Delta(9)-THC"
        },
        {
         "attributes": {
          "ipysigma_kwarg_edge_color": "increases",
          "relation": "increases"
         },
         "source": "F2",
         "target": "1,1-dimethylbutyl-1-deoxy-Delta(9)-THC"
        },
        {
         "attributes": {
          "ipysigma_kwarg_edge_color": "affects",
          "relation": "affects"
         },
         "source": "F2",
         "target": "1,1-dimethylbutyl-1-deoxy-Delta(9)-THC"
        },
        {
         "attributes": {
          "ipysigma_kwarg_edge_color": "increases",
          "relation": "increases"
         },
         "source": "F2",
         "target": "1,1-dimethylbutyl-1-deoxy-Delta(9)-THC"
        },
        {
         "attributes": {
          "ipysigma_kwarg_edge_color": "affects",
          "relation": "affects"
         },
         "source": "F2",
         "target": "1,1-dimethylbutyl-1-deoxy-Delta(9)-THC"
        },
        {
         "attributes": {
          "ipysigma_kwarg_edge_color": "increases",
          "relation": "increases"
         },
         "source": "F2",
         "target": "1,1-dimethylbutyl-1-deoxy-Delta(9)-THC"
        },
        {
         "attributes": {
          "ipysigma_kwarg_edge_color": "affects",
          "relation": "affects"
         },
         "source": "F2",
         "target": "1,1-dimethylbutyl-1-deoxy-Delta(9)-THC"
        },
        {
         "attributes": {
          "ipysigma_kwarg_edge_color": "increases",
          "relation": "increases"
         },
         "source": "F2",
         "target": "1,1-dimethylbutyl-1-deoxy-Delta(9)-THC"
        },
        {
         "attributes": {
          "ipysigma_kwarg_edge_color": "decreases",
          "relation": "decreases"
         },
         "source": "F2",
         "target": "1,1-dimethylbutyl-1-deoxy-Delta(9)-THC"
        },
        {
         "attributes": {
          "ipysigma_kwarg_edge_color": "decreases",
          "relation": "decreases"
         },
         "source": "F2",
         "target": "1,1-dimethylbutyl-1-deoxy-Delta(9)-THC"
        },
        {
         "attributes": {
          "ipysigma_kwarg_edge_color": "decreases",
          "relation": "decreases"
         },
         "source": "F2",
         "target": "1,1-dimethylbutyl-1-deoxy-Delta(9)-THC"
        },
        {
         "attributes": {
          "ipysigma_kwarg_edge_color": "increases",
          "relation": "increases"
         },
         "source": "F2",
         "target": "1,1-dimethylbutyl-1-deoxy-Delta(9)-THC"
        },
        {
         "attributes": {
          "ipysigma_kwarg_edge_color": "decreases",
          "relation": "decreases"
         },
         "source": "F2",
         "target": "1,1-dimethylbutyl-1-deoxy-Delta(9)-THC"
        },
        {
         "attributes": {
          "ipysigma_kwarg_edge_color": "increases",
          "relation": "increases"
         },
         "source": "F2",
         "target": "1,1-dimethylbutyl-1-deoxy-Delta(9)-THC"
        },
        {
         "attributes": {
          "ipysigma_kwarg_edge_color": "decreases",
          "relation": "decreases"
         },
         "source": "F2",
         "target": "1,1-dimethylbutyl-1-deoxy-Delta(9)-THC"
        },
        {
         "attributes": {
          "ipysigma_kwarg_edge_color": "increases",
          "relation": "increases"
         },
         "source": "F2",
         "target": "1,1-dimethylbutyl-1-deoxy-Delta(9)-THC"
        },
        {
         "attributes": {
          "ipysigma_kwarg_edge_color": "decreases",
          "relation": "decreases"
         },
         "source": "F2",
         "target": "1,1-dimethylbutyl-1-deoxy-Delta(9)-THC"
        },
        {
         "attributes": {
          "ipysigma_kwarg_edge_color": "increases",
          "relation": "increases"
         },
         "source": "F2",
         "target": "1,1-dimethylbutyl-1-deoxy-Delta(9)-THC"
        },
        {
         "attributes": {
          "ipysigma_kwarg_edge_color": "decreases",
          "relation": "decreases"
         },
         "source": "F2",
         "target": "1,1-dimethylbutyl-1-deoxy-Delta(9)-THC"
        },
        {
         "attributes": {
          "ipysigma_kwarg_edge_color": "increases",
          "relation": "increases"
         },
         "source": "F2",
         "target": "1,1-dimethylbutyl-1-deoxy-Delta(9)-THC"
        },
        {
         "attributes": {
          "ipysigma_kwarg_edge_color": "decreases",
          "relation": "decreases"
         },
         "source": "F2",
         "target": "1,1-dimethylbutyl-1-deoxy-Delta(9)-THC"
        },
        {
         "attributes": {
          "ipysigma_kwarg_edge_color": "increases",
          "relation": "increases"
         },
         "source": "F2",
         "target": "1,1-dimethylbutyl-1-deoxy-Delta(9)-THC"
        },
        {
         "attributes": {
          "ipysigma_kwarg_edge_color": "affects",
          "relation": "affects"
         },
         "source": "F2",
         "target": "1,1-dimethylbutyl-1-deoxy-Delta(9)-THC"
        },
        {
         "attributes": {
          "ipysigma_kwarg_edge_color": "decreases",
          "relation": "decreases"
         },
         "source": "F2",
         "target": "1,1-dimethylbutyl-1-deoxy-Delta(9)-THC"
        },
        {
         "attributes": {
          "ipysigma_kwarg_edge_color": "increases",
          "relation": "increases"
         },
         "source": "F2",
         "target": "1,1-dimethylbutyl-1-deoxy-Delta(9)-THC"
        },
        {
         "attributes": {
          "ipysigma_kwarg_edge_color": "affects",
          "relation": "affects"
         },
         "source": "F2",
         "target": "1,1-dimethylbutyl-1-deoxy-Delta(9)-THC"
        },
        {
         "attributes": {
          "ipysigma_kwarg_edge_color": "decreases",
          "relation": "decreases"
         },
         "source": "F2",
         "target": "1,1-dimethylbutyl-1-deoxy-Delta(9)-THC"
        },
        {
         "attributes": {
          "ipysigma_kwarg_edge_color": "increases",
          "relation": "increases"
         },
         "source": "F2",
         "target": "1,1-dimethylbutyl-1-deoxy-Delta(9)-THC"
        },
        {
         "attributes": {
          "ipysigma_kwarg_edge_color": "affects",
          "relation": "affects"
         },
         "source": "F2",
         "target": "1,1-dimethylbutyl-1-deoxy-Delta(9)-THC"
        },
        {
         "attributes": {
          "ipysigma_kwarg_edge_color": "decreases",
          "relation": "decreases"
         },
         "source": "F2",
         "target": "1,1-dimethylbutyl-1-deoxy-Delta(9)-THC"
        },
        {
         "attributes": {
          "ipysigma_kwarg_edge_color": "increases",
          "relation": "increases"
         },
         "source": "F2",
         "target": "1,1-dimethylbutyl-1-deoxy-Delta(9)-THC"
        },
        {
         "attributes": {
          "ipysigma_kwarg_edge_color": "affects",
          "relation": "affects"
         },
         "source": "F2",
         "target": "1,1-dimethylbutyl-1-deoxy-Delta(9)-THC"
        },
        {
         "attributes": {
          "ipysigma_kwarg_edge_color": "decreases",
          "relation": "decreases"
         },
         "source": "F2",
         "target": "1,1-dimethylbutyl-1-deoxy-Delta(9)-THC"
        },
        {
         "attributes": {
          "ipysigma_kwarg_edge_color": "increases",
          "relation": "increases"
         },
         "source": "F2",
         "target": "1,1-dimethylbutyl-1-deoxy-Delta(9)-THC"
        },
        {
         "attributes": {
          "ipysigma_kwarg_edge_color": "affects",
          "relation": "affects"
         },
         "source": "F2",
         "target": "1,1-dimethylbutyl-1-deoxy-Delta(9)-THC"
        },
        {
         "attributes": {
          "ipysigma_kwarg_edge_color": "decreases",
          "relation": "decreases"
         },
         "source": "F2",
         "target": "1,1-dimethylbutyl-1-deoxy-Delta(9)-THC"
        },
        {
         "attributes": {
          "ipysigma_kwarg_edge_color": "increases",
          "relation": "increases"
         },
         "source": "F2",
         "target": "1,1-dimethylbutyl-1-deoxy-Delta(9)-THC"
        },
        {
         "attributes": {
          "ipysigma_kwarg_edge_color": "affects",
          "relation": "affects"
         },
         "source": "F2",
         "target": "1,1-dimethylbutyl-1-deoxy-Delta(9)-THC"
        },
        {
         "attributes": {
          "ipysigma_kwarg_edge_color": "decreases",
          "relation": "decreases"
         },
         "source": "F2",
         "target": "1,1-dimethylbutyl-1-deoxy-Delta(9)-THC"
        },
        {
         "attributes": {
          "ipysigma_kwarg_edge_color": "increases",
          "relation": "increases"
         },
         "source": "F2",
         "target": "1,1-dimethylbutyl-1-deoxy-Delta(9)-THC"
        },
        {
         "attributes": {
          "ipysigma_kwarg_edge_color": "affects",
          "relation": "affects"
         },
         "source": "F2",
         "target": "1,1-dimethylbutyl-1-deoxy-Delta(9)-THC"
        },
        {
         "attributes": {
          "ipysigma_kwarg_edge_color": "decreases",
          "relation": "decreases"
         },
         "source": "F2",
         "target": "1,1-dimethylbutyl-1-deoxy-Delta(9)-THC"
        },
        {
         "attributes": {
          "ipysigma_kwarg_edge_color": "increases",
          "relation": "increases"
         },
         "source": "F2",
         "target": "1,1-dimethylbutyl-1-deoxy-Delta(9)-THC"
        },
        {
         "attributes": {
          "ipysigma_kwarg_edge_color": "decreases",
          "relation": "decreases"
         },
         "source": "F2",
         "target": "1,1-dimethylbutyl-1-deoxy-Delta(9)-THC"
        },
        {
         "attributes": {
          "ipysigma_kwarg_edge_color": "decreases",
          "relation": "decreases"
         },
         "source": "F2",
         "target": "1,1-dimethylbutyl-1-deoxy-Delta(9)-THC"
        },
        {
         "attributes": {
          "ipysigma_kwarg_edge_color": "decreases",
          "relation": "decreases"
         },
         "source": "F2",
         "target": "1,1-dimethylbutyl-1-deoxy-Delta(9)-THC"
        },
        {
         "attributes": {
          "ipysigma_kwarg_edge_color": "increases",
          "relation": "increases"
         },
         "source": "F2",
         "target": "1,1-dimethylbutyl-1-deoxy-Delta(9)-THC"
        },
        {
         "attributes": {
          "ipysigma_kwarg_edge_color": "decreases",
          "relation": "decreases"
         },
         "source": "F2",
         "target": "1,1-dimethylbutyl-1-deoxy-Delta(9)-THC"
        },
        {
         "attributes": {
          "ipysigma_kwarg_edge_color": "increases",
          "relation": "increases"
         },
         "source": "F2",
         "target": "1,1-dimethylbutyl-1-deoxy-Delta(9)-THC"
        },
        {
         "attributes": {
          "ipysigma_kwarg_edge_color": "decreases",
          "relation": "decreases"
         },
         "source": "F2",
         "target": "1,1-dimethylbutyl-1-deoxy-Delta(9)-THC"
        },
        {
         "attributes": {
          "ipysigma_kwarg_edge_color": "increases",
          "relation": "increases"
         },
         "source": "F2",
         "target": "1,1-dimethylbutyl-1-deoxy-Delta(9)-THC"
        },
        {
         "attributes": {
          "ipysigma_kwarg_edge_color": "decreases",
          "relation": "decreases"
         },
         "source": "F2",
         "target": "1,1-dimethylbutyl-1-deoxy-Delta(9)-THC"
        },
        {
         "attributes": {
          "ipysigma_kwarg_edge_color": "increases",
          "relation": "increases"
         },
         "source": "F2",
         "target": "1,1-dimethylbutyl-1-deoxy-Delta(9)-THC"
        },
        {
         "attributes": {
          "ipysigma_kwarg_edge_color": "decreases",
          "relation": "decreases"
         },
         "source": "F2",
         "target": "1,1-dimethylbutyl-1-deoxy-Delta(9)-THC"
        },
        {
         "attributes": {
          "ipysigma_kwarg_edge_color": "increases",
          "relation": "increases"
         },
         "source": "F2",
         "target": "1,1-dimethylbutyl-1-deoxy-Delta(9)-THC"
        },
        {
         "attributes": {
          "ipysigma_kwarg_edge_color": "decreases",
          "relation": "decreases"
         },
         "source": "F2",
         "target": "1,1-dimethylbutyl-1-deoxy-Delta(9)-THC"
        },
        {
         "attributes": {
          "ipysigma_kwarg_edge_color": "increases",
          "relation": "increases"
         },
         "source": "F2",
         "target": "1,1-dimethylbutyl-1-deoxy-Delta(9)-THC"
        },
        {
         "attributes": {
          "ipysigma_kwarg_edge_color": "affects",
          "relation": "affects"
         },
         "source": "F2",
         "target": "1,1-dimethylbutyl-1-deoxy-Delta(9)-THC"
        },
        {
         "attributes": {
          "ipysigma_kwarg_edge_color": "decreases",
          "relation": "decreases"
         },
         "source": "F2",
         "target": "1,1-dimethylbutyl-1-deoxy-Delta(9)-THC"
        },
        {
         "attributes": {
          "ipysigma_kwarg_edge_color": "increases",
          "relation": "increases"
         },
         "source": "F2",
         "target": "1,1-dimethylbutyl-1-deoxy-Delta(9)-THC"
        },
        {
         "attributes": {
          "ipysigma_kwarg_edge_color": "affects",
          "relation": "affects"
         },
         "source": "F2",
         "target": "1,1-dimethylbutyl-1-deoxy-Delta(9)-THC"
        },
        {
         "attributes": {
          "ipysigma_kwarg_edge_color": "decreases",
          "relation": "decreases"
         },
         "source": "F2",
         "target": "1,1-dimethylbutyl-1-deoxy-Delta(9)-THC"
        },
        {
         "attributes": {
          "ipysigma_kwarg_edge_color": "increases",
          "relation": "increases"
         },
         "source": "F2",
         "target": "1,1-dimethylbutyl-1-deoxy-Delta(9)-THC"
        },
        {
         "attributes": {
          "ipysigma_kwarg_edge_color": "affects",
          "relation": "affects"
         },
         "source": "F2",
         "target": "1,1-dimethylbutyl-1-deoxy-Delta(9)-THC"
        },
        {
         "attributes": {
          "ipysigma_kwarg_edge_color": "decreases",
          "relation": "decreases"
         },
         "source": "F2",
         "target": "1,1-dimethylbutyl-1-deoxy-Delta(9)-THC"
        },
        {
         "attributes": {
          "ipysigma_kwarg_edge_color": "increases",
          "relation": "increases"
         },
         "source": "F2",
         "target": "1,1-dimethylbutyl-1-deoxy-Delta(9)-THC"
        },
        {
         "attributes": {
          "ipysigma_kwarg_edge_color": "decreases",
          "relation": "decreases"
         },
         "source": "F2",
         "target": "1,1-dimethylbutyl-1-deoxy-Delta(9)-THC"
        },
        {
         "attributes": {
          "ipysigma_kwarg_edge_color": "increases",
          "relation": "increases"
         },
         "source": "F2",
         "target": "1,1-dimethylbutyl-1-deoxy-Delta(9)-THC"
        },
        {
         "attributes": {
          "ipysigma_kwarg_edge_color": "decreases",
          "relation": "decreases"
         },
         "source": "F2",
         "target": "1,1-dimethylbutyl-1-deoxy-Delta(9)-THC"
        },
        {
         "attributes": {
          "ipysigma_kwarg_edge_color": "increases",
          "relation": "increases"
         },
         "source": "F2",
         "target": "1,1-dimethylbutyl-1-deoxy-Delta(9)-THC"
        },
        {
         "attributes": {
          "ipysigma_kwarg_edge_color": "decreases",
          "relation": "decreases"
         },
         "source": "F2",
         "target": "1,1-dimethylbutyl-1-deoxy-Delta(9)-THC"
        },
        {
         "attributes": {
          "ipysigma_kwarg_edge_color": "increases",
          "relation": "increases"
         },
         "source": "F2",
         "target": "1,1-dimethylbutyl-1-deoxy-Delta(9)-THC"
        },
        {
         "attributes": {
          "ipysigma_kwarg_edge_color": "decreases",
          "relation": "decreases"
         },
         "source": "F2",
         "target": "1,3-butadiene"
        },
        {
         "attributes": {
          "ipysigma_kwarg_edge_color": "decreases",
          "relation": "decreases"
         },
         "source": "F2",
         "target": "1-(6-((3-methoxyestra-1,3,5(10)-trien-17-yl)amino)hexyl)-1H-pyrrole-2,5-dione"
        },
        {
         "attributes": {
          "ipysigma_kwarg_edge_color": "increases",
          "relation": "increases"
         },
         "source": "F2",
         "target": "1-(6-((3-methoxyestra-1,3,5(10)-trien-17-yl)amino)hexyl)-1H-pyrrole-2,5-dione"
        },
        {
         "attributes": {
          "ipysigma_kwarg_edge_color": "affects",
          "relation": "affects"
         },
         "source": "F2",
         "target": "1-aminomethylphosphonic acid"
        },
        {
         "attributes": {
          "ipysigma_kwarg_edge_color": "decreases",
          "relation": "decreases"
         },
         "source": "F2",
         "target": "1-aminomethylphosphonic acid"
        },
        {
         "attributes": {
          "ipysigma_kwarg_edge_color": "decreases",
          "relation": "decreases"
         },
         "source": "F2",
         "target": "1-Methyl-3-isobutylxanthine"
        },
        {
         "attributes": {
          "ipysigma_kwarg_edge_color": "increases",
          "relation": "increases"
         },
         "source": "F2",
         "target": "1-Methyl-3-isobutylxanthine"
        },
        {
         "attributes": {
          "ipysigma_kwarg_edge_color": "decreases",
          "relation": "decreases"
         },
         "source": "F2",
         "target": "2,4,3',5'-tetramethoxystilbene"
        },
        {
         "attributes": {
          "ipysigma_kwarg_edge_color": "increases",
          "relation": "increases"
         },
         "source": "F2",
         "target": "2,4,3',5'-tetramethoxystilbene"
        },
        {
         "attributes": {
          "ipysigma_kwarg_edge_color": "affects",
          "relation": "affects"
         },
         "source": "F2",
         "target": "2,4,3',5'-tetramethoxystilbene"
        },
        {
         "attributes": {
          "ipysigma_kwarg_edge_color": "decreases",
          "relation": "decreases"
         },
         "source": "F2",
         "target": "2,4,3',5'-tetramethoxystilbene"
        },
        {
         "attributes": {
          "ipysigma_kwarg_edge_color": "increases",
          "relation": "increases"
         },
         "source": "F2",
         "target": "2,4,3',5'-tetramethoxystilbene"
        },
        {
         "attributes": {
          "ipysigma_kwarg_edge_color": "affects",
          "relation": "affects"
         },
         "source": "F2",
         "target": "2,4-Dichlorophenoxyacetic Acid"
        },
        {
         "attributes": {
          "ipysigma_kwarg_edge_color": "decreases",
          "relation": "decreases"
         },
         "source": "F2",
         "target": "2,4-Dichlorophenoxyacetic Acid"
        },
        {
         "attributes": {
          "ipysigma_kwarg_edge_color": "affects",
          "relation": "affects"
         },
         "source": "F2",
         "target": "2,6-dinitrotoluene"
        },
        {
         "attributes": {
          "ipysigma_kwarg_edge_color": "affects",
          "relation": "affects"
         },
         "source": "F2",
         "target": "3-dinitrobenzene"
        },
        {
         "attributes": {
          "ipysigma_kwarg_edge_color": "increases",
          "relation": "increases"
         },
         "source": "F2",
         "target": "4,4'-hexafluorisopropylidene diphenol"
        },
        {
         "attributes": {
          "ipysigma_kwarg_edge_color": "affects",
          "relation": "affects"
         },
         "source": "F2",
         "target": "4-(5-benzo(1,3)dioxol-5-yl-4-pyridin-2-yl-1H-imidazol-2-yl)benzamide"
        },
        {
         "attributes": {
          "ipysigma_kwarg_edge_color": "increases",
          "relation": "increases"
         },
         "source": "F2",
         "target": "4-(5-benzo(1,3)dioxol-5-yl-4-pyridin-2-yl-1H-imidazol-2-yl)benzamide"
        },
        {
         "attributes": {
          "ipysigma_kwarg_edge_color": "decreases",
          "relation": "decreases"
         },
         "source": "F2",
         "target": "8-Bromo Cyclic Adenosine Monophosphate"
        },
        {
         "attributes": {
          "ipysigma_kwarg_edge_color": "increases",
          "relation": "increases"
         },
         "source": "F2",
         "target": "8-Bromo Cyclic Adenosine Monophosphate"
        },
        {
         "attributes": {
          "ipysigma_kwarg_edge_color": "decreases",
          "relation": "decreases"
         },
         "source": "F2",
         "target": "Acenocoumarol"
        },
        {
         "attributes": {
          "ipysigma_kwarg_edge_color": "affects",
          "relation": "affects"
         },
         "source": "F2",
         "target": "acetochlor"
        },
        {
         "attributes": {
          "ipysigma_kwarg_edge_color": "decreases",
          "relation": "decreases"
         },
         "source": "F2",
         "target": "acetochlor"
        },
        {
         "attributes": {
          "ipysigma_kwarg_edge_color": "increases",
          "relation": "increases"
         },
         "source": "F2",
         "target": "Adenosine Diphosphate"
        },
        {
         "attributes": {
          "ipysigma_kwarg_edge_color": "decreases",
          "relation": "decreases"
         },
         "source": "F2",
         "target": "Adenosine Diphosphate"
        },
        {
         "attributes": {
          "ipysigma_kwarg_edge_color": "increases",
          "relation": "increases"
         },
         "source": "F2",
         "target": "Adenosine Diphosphate"
        },
        {
         "attributes": {
          "ipysigma_kwarg_edge_color": "decreases",
          "relation": "decreases"
         },
         "source": "F2",
         "target": "Adenosine Diphosphate"
        },
        {
         "attributes": {
          "ipysigma_kwarg_edge_color": "increases",
          "relation": "increases"
         },
         "source": "F2",
         "target": "Adenosine Diphosphate"
        },
        {
         "attributes": {
          "ipysigma_kwarg_edge_color": "decreases",
          "relation": "decreases"
         },
         "source": "F2",
         "target": "Adenosine Triphosphate"
        },
        {
         "attributes": {
          "ipysigma_kwarg_edge_color": "increases",
          "relation": "increases"
         },
         "source": "F2",
         "target": "Adenosine Triphosphate"
        },
        {
         "attributes": {
          "ipysigma_kwarg_edge_color": "affects",
          "relation": "affects"
         },
         "source": "F2",
         "target": "Adenosine Triphosphate"
        },
        {
         "attributes": {
          "ipysigma_kwarg_edge_color": "increases",
          "relation": "increases"
         },
         "source": "F2",
         "target": "Adenosine Triphosphate"
        },
        {
         "attributes": {
          "ipysigma_kwarg_edge_color": "increases",
          "relation": "increases"
         },
         "source": "F2",
         "target": "Adenosine Triphosphate"
        },
        {
         "attributes": {
          "ipysigma_kwarg_edge_color": "increases",
          "relation": "increases"
         },
         "source": "F2",
         "target": "Adenosine Triphosphate"
        },
        {
         "attributes": {
          "ipysigma_kwarg_edge_color": "affects",
          "relation": "affects"
         },
         "source": "F2",
         "target": "Adenosine Triphosphate"
        },
        {
         "attributes": {
          "ipysigma_kwarg_edge_color": "increases",
          "relation": "increases"
         },
         "source": "F2",
         "target": "Adenosine Triphosphate"
        },
        {
         "attributes": {
          "ipysigma_kwarg_edge_color": "decreases",
          "relation": "decreases"
         },
         "source": "F2",
         "target": "Adenosine Triphosphate"
        },
        {
         "attributes": {
          "ipysigma_kwarg_edge_color": "increases",
          "relation": "increases"
         },
         "source": "F2",
         "target": "Adenosine Triphosphate"
        },
        {
         "attributes": {
          "ipysigma_kwarg_edge_color": "decreases",
          "relation": "decreases"
         },
         "source": "F2",
         "target": "Adenosine Triphosphate"
        },
        {
         "attributes": {
          "ipysigma_kwarg_edge_color": "increases",
          "relation": "increases"
         },
         "source": "F2",
         "target": "Adenosine Triphosphate"
        },
        {
         "attributes": {
          "ipysigma_kwarg_edge_color": "affects",
          "relation": "affects"
         },
         "source": "F2",
         "target": "Adenosine Triphosphate"
        },
        {
         "attributes": {
          "ipysigma_kwarg_edge_color": "decreases",
          "relation": "decreases"
         },
         "source": "F2",
         "target": "Adenosine Triphosphate"
        },
        {
         "attributes": {
          "ipysigma_kwarg_edge_color": "increases",
          "relation": "increases"
         },
         "source": "F2",
         "target": "Adenosine Triphosphate"
        },
        {
         "attributes": {
          "ipysigma_kwarg_edge_color": "increases",
          "relation": "increases"
         },
         "source": "F2",
         "target": "Adenosine Triphosphate"
        },
        {
         "attributes": {
          "ipysigma_kwarg_edge_color": "affects",
          "relation": "affects"
         },
         "source": "F2",
         "target": "Adenosine Triphosphate"
        },
        {
         "attributes": {
          "ipysigma_kwarg_edge_color": "increases",
          "relation": "increases"
         },
         "source": "F2",
         "target": "Adenosine Triphosphate"
        },
        {
         "attributes": {
          "ipysigma_kwarg_edge_color": "decreases",
          "relation": "decreases"
         },
         "source": "F2",
         "target": "Aldehydes"
        },
        {
         "attributes": {
          "ipysigma_kwarg_edge_color": "affects",
          "relation": "affects"
         },
         "source": "F2",
         "target": "Aluminum"
        },
        {
         "attributes": {
          "ipysigma_kwarg_edge_color": "decreases",
          "relation": "decreases"
         },
         "source": "F2",
         "target": "Aluminum"
        },
        {
         "attributes": {
          "ipysigma_kwarg_edge_color": "decreases",
          "relation": "decreases"
         },
         "source": "F2",
         "target": "Amiodarone"
        },
        {
         "attributes": {
          "ipysigma_kwarg_edge_color": "increases",
          "relation": "increases"
         },
         "source": "F2",
         "target": "Amiodarone"
        },
        {
         "attributes": {
          "ipysigma_kwarg_edge_color": "increases",
          "relation": "increases"
         },
         "source": "F2",
         "target": "Amiodarone"
        },
        {
         "attributes": {
          "ipysigma_kwarg_edge_color": "increases",
          "relation": "increases"
         },
         "source": "F2",
         "target": "Amphetamine"
        },
        {
         "attributes": {
          "ipysigma_kwarg_edge_color": "increases",
          "relation": "increases"
         },
         "source": "F2",
         "target": "Amphetamine"
        },
        {
         "attributes": {
          "ipysigma_kwarg_edge_color": "decreases",
          "relation": "decreases"
         },
         "source": "F2",
         "target": "Antithrombins"
        },
        {
         "attributes": {
          "ipysigma_kwarg_edge_color": "decreases",
          "relation": "decreases"
         },
         "source": "F2",
         "target": "Antivenins"
        },
        {
         "attributes": {
          "ipysigma_kwarg_edge_color": "increases",
          "relation": "increases"
         },
         "source": "F2",
         "target": "Antivenins"
        },
        {
         "attributes": {
          "ipysigma_kwarg_edge_color": "increases",
          "relation": "increases"
         },
         "source": "F2",
         "target": "Antivenins"
        },
        {
         "attributes": {
          "ipysigma_kwarg_edge_color": "decreases",
          "relation": "decreases"
         },
         "source": "F2",
         "target": "Apigenin"
        },
        {
         "attributes": {
          "ipysigma_kwarg_edge_color": "increases",
          "relation": "increases"
         },
         "source": "F2",
         "target": "Apigenin"
        },
        {
         "attributes": {
          "ipysigma_kwarg_edge_color": "decreases",
          "relation": "decreases"
         },
         "source": "F2",
         "target": "apigenin-6,8-di-C-glycopyranoside"
        },
        {
         "attributes": {
          "ipysigma_kwarg_edge_color": "increases",
          "relation": "increases"
         },
         "source": "F2",
         "target": "apigenin-6,8-di-C-glycopyranoside"
        },
        {
         "attributes": {
          "ipysigma_kwarg_edge_color": "affects",
          "relation": "affects"
         },
         "source": "F2",
         "target": "argatroban"
        },
        {
         "attributes": {
          "ipysigma_kwarg_edge_color": "decreases",
          "relation": "decreases"
         },
         "source": "F2",
         "target": "argatroban"
        },
        {
         "attributes": {
          "ipysigma_kwarg_edge_color": "decreases",
          "relation": "decreases"
         },
         "source": "F2",
         "target": "argatroban"
        },
        {
         "attributes": {
          "ipysigma_kwarg_edge_color": "increases",
          "relation": "increases"
         },
         "source": "F2",
         "target": "argatroban"
        },
        {
         "attributes": {
          "ipysigma_kwarg_edge_color": "decreases",
          "relation": "decreases"
         },
         "source": "F2",
         "target": "argatroban"
        },
        {
         "attributes": {
          "ipysigma_kwarg_edge_color": "increases",
          "relation": "increases"
         },
         "source": "F2",
         "target": "aristolochic acid I"
        },
        {
         "attributes": {
          "ipysigma_kwarg_edge_color": "affects",
          "relation": "affects"
         },
         "source": "F2",
         "target": "aspalathin"
        },
        {
         "attributes": {
          "ipysigma_kwarg_edge_color": "decreases",
          "relation": "decreases"
         },
         "source": "F2",
         "target": "aspalathin"
        },
        {
         "attributes": {
          "ipysigma_kwarg_edge_color": "increases",
          "relation": "increases"
         },
         "source": "F2",
         "target": "aspalathin"
        },
        {
         "attributes": {
          "ipysigma_kwarg_edge_color": "decreases",
          "relation": "decreases"
         },
         "source": "F2",
         "target": "aspalathin"
        },
        {
         "attributes": {
          "ipysigma_kwarg_edge_color": "decreases",
          "relation": "decreases"
         },
         "source": "F2",
         "target": "Aspartame"
        },
        {
         "attributes": {
          "ipysigma_kwarg_edge_color": "decreases",
          "relation": "decreases"
         },
         "source": "F2",
         "target": "Aspartame"
        },
        {
         "attributes": {
          "ipysigma_kwarg_edge_color": "affects",
          "relation": "affects"
         },
         "source": "F2",
         "target": "Aspirin"
        },
        {
         "attributes": {
          "ipysigma_kwarg_edge_color": "affects",
          "relation": "affects"
         },
         "source": "F2",
         "target": "Aspirin"
        },
        {
         "attributes": {
          "ipysigma_kwarg_edge_color": "affects",
          "relation": "affects"
         },
         "source": "F2",
         "target": "Aspirin"
        },
        {
         "attributes": {
          "ipysigma_kwarg_edge_color": "decreases",
          "relation": "decreases"
         },
         "source": "F2",
         "target": "Atorvastatin"
        },
        {
         "attributes": {
          "ipysigma_kwarg_edge_color": "affects",
          "relation": "affects"
         },
         "source": "F2",
         "target": "Atropine"
        },
        {
         "attributes": {
          "ipysigma_kwarg_edge_color": "decreases",
          "relation": "decreases"
         },
         "source": "F2",
         "target": "Atropine"
        },
        {
         "attributes": {
          "ipysigma_kwarg_edge_color": "affects",
          "relation": "affects"
         },
         "source": "F2",
         "target": "Atropine"
        },
        {
         "attributes": {
          "ipysigma_kwarg_edge_color": "increases",
          "relation": "increases"
         },
         "source": "F2",
         "target": "Atropine"
        },
        {
         "attributes": {
          "ipysigma_kwarg_edge_color": "increases",
          "relation": "increases"
         },
         "source": "F2",
         "target": "Barium"
        },
        {
         "attributes": {
          "ipysigma_kwarg_edge_color": "decreases",
          "relation": "decreases"
         },
         "source": "F2",
         "target": "Barium"
        },
        {
         "attributes": {
          "ipysigma_kwarg_edge_color": "increases",
          "relation": "increases"
         },
         "source": "F2",
         "target": "Barium"
        },
        {
         "attributes": {
          "ipysigma_kwarg_edge_color": "decreases",
          "relation": "decreases"
         },
         "source": "F2",
         "target": "BCH 2763"
        },
        {
         "attributes": {
          "ipysigma_kwarg_edge_color": "decreases",
          "relation": "decreases"
         },
         "source": "F2",
         "target": "Benzophenanthridines"
        },
        {
         "attributes": {
          "ipysigma_kwarg_edge_color": "decreases",
          "relation": "decreases"
         },
         "source": "F2",
         "target": "Bexarotene"
        },
        {
         "attributes": {
          "ipysigma_kwarg_edge_color": "increases",
          "relation": "increases"
         },
         "source": "F2",
         "target": "bis(4-hydroxyphenyl)sulfone"
        },
        {
         "attributes": {
          "ipysigma_kwarg_edge_color": "increases",
          "relation": "increases"
         },
         "source": "F2",
         "target": "bis(4-hydroxyphenyl)sulfone"
        },
        {
         "attributes": {
          "ipysigma_kwarg_edge_color": "increases",
          "relation": "increases"
         },
         "source": "F2",
         "target": "bisphenol F"
        },
        {
         "attributes": {
          "ipysigma_kwarg_edge_color": "affects",
          "relation": "affects"
         },
         "source": "F2",
         "target": "bivalirudin"
        },
        {
         "attributes": {
          "ipysigma_kwarg_edge_color": "decreases",
          "relation": "decreases"
         },
         "source": "F2",
         "target": "bivalirudin"
        },
        {
         "attributes": {
          "ipysigma_kwarg_edge_color": "decreases",
          "relation": "decreases"
         },
         "source": "F2",
         "target": "bivalirudin"
        },
        {
         "attributes": {
          "ipysigma_kwarg_edge_color": "increases",
          "relation": "increases"
         },
         "source": "F2",
         "target": "bivalirudin"
        },
        {
         "attributes": {
          "ipysigma_kwarg_edge_color": "decreases",
          "relation": "decreases"
         },
         "source": "F2",
         "target": "bivalirudin"
        },
        {
         "attributes": {
          "ipysigma_kwarg_edge_color": "increases",
          "relation": "increases"
         },
         "source": "F2",
         "target": "bivalirudin"
        },
        {
         "attributes": {
          "ipysigma_kwarg_edge_color": "decreases",
          "relation": "decreases"
         },
         "source": "F2",
         "target": "bivalirudin"
        },
        {
         "attributes": {
          "ipysigma_kwarg_edge_color": "increases",
          "relation": "increases"
         },
         "source": "F2",
         "target": "bivalirudin"
        },
        {
         "attributes": {
          "ipysigma_kwarg_edge_color": "decreases",
          "relation": "decreases"
         },
         "source": "F2",
         "target": "bivalirudin"
        },
        {
         "attributes": {
          "ipysigma_kwarg_edge_color": "increases",
          "relation": "increases"
         },
         "source": "F2",
         "target": "bivalirudin"
        },
        {
         "attributes": {
          "ipysigma_kwarg_edge_color": "decreases",
          "relation": "decreases"
         },
         "source": "F2",
         "target": "bivalirudin"
        },
        {
         "attributes": {
          "ipysigma_kwarg_edge_color": "increases",
          "relation": "increases"
         },
         "source": "F2",
         "target": "bivalirudin"
        },
        {
         "attributes": {
          "ipysigma_kwarg_edge_color": "decreases",
          "relation": "decreases"
         },
         "source": "F2",
         "target": "bivalirudin"
        },
        {
         "attributes": {
          "ipysigma_kwarg_edge_color": "affects",
          "relation": "affects"
         },
         "source": "F2",
         "target": "bothrojaracin"
        },
        {
         "attributes": {
          "ipysigma_kwarg_edge_color": "decreases",
          "relation": "decreases"
         },
         "source": "F2",
         "target": "bothrojaracin"
        },
        {
         "attributes": {
          "ipysigma_kwarg_edge_color": "affects",
          "relation": "affects"
         },
         "source": "F2",
         "target": "butylparaben"
        },
        {
         "attributes": {
          "ipysigma_kwarg_edge_color": "decreases",
          "relation": "decreases"
         },
         "source": "F2",
         "target": "butyraldehyde"
        },
        {
         "attributes": {
          "ipysigma_kwarg_edge_color": "decreases",
          "relation": "decreases"
         },
         "source": "F2",
         "target": "Calcium"
        },
        {
         "attributes": {
          "ipysigma_kwarg_edge_color": "increases",
          "relation": "increases"
         },
         "source": "F2",
         "target": "Calcium"
        },
        {
         "attributes": {
          "ipysigma_kwarg_edge_color": "decreases",
          "relation": "decreases"
         },
         "source": "F2",
         "target": "Calcium"
        },
        {
         "attributes": {
          "ipysigma_kwarg_edge_color": "increases",
          "relation": "increases"
         },
         "source": "F2",
         "target": "Calcium"
        },
        {
         "attributes": {
          "ipysigma_kwarg_edge_color": "decreases",
          "relation": "decreases"
         },
         "source": "F2",
         "target": "Calcium"
        },
        {
         "attributes": {
          "ipysigma_kwarg_edge_color": "increases",
          "relation": "increases"
         },
         "source": "F2",
         "target": "Calcium"
        },
        {
         "attributes": {
          "ipysigma_kwarg_edge_color": "decreases",
          "relation": "decreases"
         },
         "source": "F2",
         "target": "Calcium"
        },
        {
         "attributes": {
          "ipysigma_kwarg_edge_color": "increases",
          "relation": "increases"
         },
         "source": "F2",
         "target": "Calcium"
        },
        {
         "attributes": {
          "ipysigma_kwarg_edge_color": "increases",
          "relation": "increases"
         },
         "source": "F2",
         "target": "Calcium"
        },
        {
         "attributes": {
          "ipysigma_kwarg_edge_color": "increases",
          "relation": "increases"
         },
         "source": "F2",
         "target": "Calcium"
        },
        {
         "attributes": {
          "ipysigma_kwarg_edge_color": "increases",
          "relation": "increases"
         },
         "source": "F2",
         "target": "Calcium"
        },
        {
         "attributes": {
          "ipysigma_kwarg_edge_color": "decreases",
          "relation": "decreases"
         },
         "source": "F2",
         "target": "Calcium"
        },
        {
         "attributes": {
          "ipysigma_kwarg_edge_color": "increases",
          "relation": "increases"
         },
         "source": "F2",
         "target": "Calcium"
        },
        {
         "attributes": {
          "ipysigma_kwarg_edge_color": "decreases",
          "relation": "decreases"
         },
         "source": "F2",
         "target": "Calcium"
        },
        {
         "attributes": {
          "ipysigma_kwarg_edge_color": "increases",
          "relation": "increases"
         },
         "source": "F2",
         "target": "Calcium"
        },
        {
         "attributes": {
          "ipysigma_kwarg_edge_color": "decreases",
          "relation": "decreases"
         },
         "source": "F2",
         "target": "Calcium"
        },
        {
         "attributes": {
          "ipysigma_kwarg_edge_color": "increases",
          "relation": "increases"
         },
         "source": "F2",
         "target": "Calcium"
        },
        {
         "attributes": {
          "ipysigma_kwarg_edge_color": "affects",
          "relation": "affects"
         },
         "source": "F2",
         "target": "Calcium Chloride"
        },
        {
         "attributes": {
          "ipysigma_kwarg_edge_color": "decreases",
          "relation": "decreases"
         },
         "source": "F2",
         "target": "Calcium Chloride"
        },
        {
         "attributes": {
          "ipysigma_kwarg_edge_color": "increases",
          "relation": "increases"
         },
         "source": "F2",
         "target": "Calcium Chloride"
        },
        {
         "attributes": {
          "ipysigma_kwarg_edge_color": "affects",
          "relation": "affects"
         },
         "source": "F2",
         "target": "Calcium Chloride"
        },
        {
         "attributes": {
          "ipysigma_kwarg_edge_color": "increases",
          "relation": "increases"
         },
         "source": "F2",
         "target": "Calcium Chloride"
        },
        {
         "attributes": {
          "ipysigma_kwarg_edge_color": "affects",
          "relation": "affects"
         },
         "source": "F2",
         "target": "Calcium Chloride"
        },
        {
         "attributes": {
          "ipysigma_kwarg_edge_color": "decreases",
          "relation": "decreases"
         },
         "source": "F2",
         "target": "Calcium Chloride"
        },
        {
         "attributes": {
          "ipysigma_kwarg_edge_color": "increases",
          "relation": "increases"
         },
         "source": "F2",
         "target": "Calcium Chloride"
        },
        {
         "attributes": {
          "ipysigma_kwarg_edge_color": "affects",
          "relation": "affects"
         },
         "source": "F2",
         "target": "calmidazolium"
        },
        {
         "attributes": {
          "ipysigma_kwarg_edge_color": "increases",
          "relation": "increases"
         },
         "source": "F2",
         "target": "calmidazolium"
        },
        {
         "attributes": {
          "ipysigma_kwarg_edge_color": "affects",
          "relation": "affects"
         },
         "source": "F2",
         "target": "Capsaicin"
        },
        {
         "attributes": {
          "ipysigma_kwarg_edge_color": "decreases",
          "relation": "decreases"
         },
         "source": "F2",
         "target": "cerivastatin"
        },
        {
         "attributes": {
          "ipysigma_kwarg_edge_color": "decreases",
          "relation": "decreases"
         },
         "source": "F2",
         "target": "cerivastatin"
        },
        {
         "attributes": {
          "ipysigma_kwarg_edge_color": "decreases",
          "relation": "decreases"
         },
         "source": "F2",
         "target": "Chlorine"
        },
        {
         "attributes": {
          "ipysigma_kwarg_edge_color": "affects",
          "relation": "affects"
         },
         "source": "F2",
         "target": "Chlorine"
        },
        {
         "attributes": {
          "ipysigma_kwarg_edge_color": "affects",
          "relation": "affects"
         },
         "source": "F2",
         "target": "Chlorine"
        },
        {
         "attributes": {
          "ipysigma_kwarg_edge_color": "increases",
          "relation": "increases"
         },
         "source": "F2",
         "target": "Chlorodiphenyl (54% Chlorine)"
        },
        {
         "attributes": {
          "ipysigma_kwarg_edge_color": "decreases",
          "relation": "decreases"
         },
         "source": "F2",
         "target": "Chlorogenic Acid"
        },
        {
         "attributes": {
          "ipysigma_kwarg_edge_color": "decreases",
          "relation": "decreases"
         },
         "source": "F2",
         "target": "Chlorpromazine"
        },
        {
         "attributes": {
          "ipysigma_kwarg_edge_color": "increases",
          "relation": "increases"
         },
         "source": "F2",
         "target": "Chlorpyrifos"
        },
        {
         "attributes": {
          "ipysigma_kwarg_edge_color": "increases",
          "relation": "increases"
         },
         "source": "F2",
         "target": "Chlorpyrifos"
        },
        {
         "attributes": {
          "ipysigma_kwarg_edge_color": "affects",
          "relation": "affects"
         },
         "source": "F2",
         "target": "Cholesterol, Dietary"
        },
        {
         "attributes": {
          "ipysigma_kwarg_edge_color": "increases",
          "relation": "increases"
         },
         "source": "F2",
         "target": "Cholesterol, Dietary"
        },
        {
         "attributes": {
          "ipysigma_kwarg_edge_color": "affects",
          "relation": "affects"
         },
         "source": "F2",
         "target": "Clobazam"
        },
        {
         "attributes": {
          "ipysigma_kwarg_edge_color": "affects",
          "relation": "affects"
         },
         "source": "F2",
         "target": "Clobazam"
        },
        {
         "attributes": {
          "ipysigma_kwarg_edge_color": "increases",
          "relation": "increases"
         },
         "source": "F2",
         "target": "Clobazam"
        },
        {
         "attributes": {
          "ipysigma_kwarg_edge_color": "decreases",
          "relation": "decreases"
         },
         "source": "F2",
         "target": "Clofibrate"
        },
        {
         "attributes": {
          "ipysigma_kwarg_edge_color": "decreases",
          "relation": "decreases"
         },
         "source": "F2",
         "target": "Clopidogrel"
        },
        {
         "attributes": {
          "ipysigma_kwarg_edge_color": "increases",
          "relation": "increases"
         },
         "source": "F2",
         "target": "Clopidogrel"
        },
        {
         "attributes": {
          "ipysigma_kwarg_edge_color": "decreases",
          "relation": "decreases"
         },
         "source": "F2",
         "target": "clothianidin"
        },
        {
         "attributes": {
          "ipysigma_kwarg_edge_color": "increases",
          "relation": "increases"
         },
         "source": "F2",
         "target": "Cobalt"
        },
        {
         "attributes": {
          "ipysigma_kwarg_edge_color": "decreases",
          "relation": "decreases"
         },
         "source": "F2",
         "target": "Cobalt"
        },
        {
         "attributes": {
          "ipysigma_kwarg_edge_color": "increases",
          "relation": "increases"
         },
         "source": "F2",
         "target": "Cobalt"
        },
        {
         "attributes": {
          "ipysigma_kwarg_edge_color": "decreases",
          "relation": "decreases"
         },
         "source": "F2",
         "target": "Colforsin"
        },
        {
         "attributes": {
          "ipysigma_kwarg_edge_color": "increases",
          "relation": "increases"
         },
         "source": "F2",
         "target": "Colforsin"
        },
        {
         "attributes": {
          "ipysigma_kwarg_edge_color": "decreases",
          "relation": "decreases"
         },
         "source": "F2",
         "target": "Colforsin"
        },
        {
         "attributes": {
          "ipysigma_kwarg_edge_color": "increases",
          "relation": "increases"
         },
         "source": "F2",
         "target": "Colforsin"
        },
        {
         "attributes": {
          "ipysigma_kwarg_edge_color": "decreases",
          "relation": "decreases"
         },
         "source": "F2",
         "target": "Colforsin"
        },
        {
         "attributes": {
          "ipysigma_kwarg_edge_color": "increases",
          "relation": "increases"
         },
         "source": "F2",
         "target": "Colforsin"
        },
        {
         "attributes": {
          "ipysigma_kwarg_edge_color": "increases",
          "relation": "increases"
         },
         "source": "F2",
         "target": "Contraceptives, Oral"
        },
        {
         "attributes": {
          "ipysigma_kwarg_edge_color": "increases",
          "relation": "increases"
         },
         "source": "F2",
         "target": "Contraceptives, Oral"
        },
        {
         "attributes": {
          "ipysigma_kwarg_edge_color": "increases",
          "relation": "increases"
         },
         "source": "F2",
         "target": "Contraceptives, Oral"
        },
        {
         "attributes": {
          "ipysigma_kwarg_edge_color": "increases",
          "relation": "increases"
         },
         "source": "F2",
         "target": "Contraceptives, Oral, Combined"
        },
        {
         "attributes": {
          "ipysigma_kwarg_edge_color": "decreases",
          "relation": "decreases"
         },
         "source": "F2",
         "target": "Crotalid Venoms"
        },
        {
         "attributes": {
          "ipysigma_kwarg_edge_color": "increases",
          "relation": "increases"
         },
         "source": "F2",
         "target": "Crotalid Venoms"
        },
        {
         "attributes": {
          "ipysigma_kwarg_edge_color": "increases",
          "relation": "increases"
         },
         "source": "F2",
         "target": "Crotalid Venoms"
        },
        {
         "attributes": {
          "ipysigma_kwarg_edge_color": "increases",
          "relation": "increases"
         },
         "source": "F2",
         "target": "Crotalid Venoms"
        },
        {
         "attributes": {
          "ipysigma_kwarg_edge_color": "increases",
          "relation": "increases"
         },
         "source": "F2",
         "target": "Crotalid Venoms"
        },
        {
         "attributes": {
          "ipysigma_kwarg_edge_color": "increases",
          "relation": "increases"
         },
         "source": "F2",
         "target": "Crotalid Venoms"
        },
        {
         "attributes": {
          "ipysigma_kwarg_edge_color": "increases",
          "relation": "increases"
         },
         "source": "F2",
         "target": "Crotalid Venoms"
        },
        {
         "attributes": {
          "ipysigma_kwarg_edge_color": "increases",
          "relation": "increases"
         },
         "source": "F2",
         "target": "cupric chloride"
        },
        {
         "attributes": {
          "ipysigma_kwarg_edge_color": "decreases",
          "relation": "decreases"
         },
         "source": "F2",
         "target": "CVS 1123"
        },
        {
         "attributes": {
          "ipysigma_kwarg_edge_color": "decreases",
          "relation": "decreases"
         },
         "source": "F2",
         "target": "Cyclic AMP"
        },
        {
         "attributes": {
          "ipysigma_kwarg_edge_color": "increases",
          "relation": "increases"
         },
         "source": "F2",
         "target": "Cyclic AMP"
        },
        {
         "attributes": {
          "ipysigma_kwarg_edge_color": "decreases",
          "relation": "decreases"
         },
         "source": "F2",
         "target": "Cyclic AMP"
        },
        {
         "attributes": {
          "ipysigma_kwarg_edge_color": "decreases",
          "relation": "decreases"
         },
         "source": "F2",
         "target": "Cycloheximide"
        },
        {
         "attributes": {
          "ipysigma_kwarg_edge_color": "decreases",
          "relation": "decreases"
         },
         "source": "F2",
         "target": "Cycloheximide"
        },
        {
         "attributes": {
          "ipysigma_kwarg_edge_color": "affects",
          "relation": "affects"
         },
         "source": "F2",
         "target": "Cytarabine"
        },
        {
         "attributes": {
          "ipysigma_kwarg_edge_color": "decreases",
          "relation": "decreases"
         },
         "source": "F2",
         "target": "Dabigatran"
        },
        {
         "attributes": {
          "ipysigma_kwarg_edge_color": "decreases",
          "relation": "decreases"
         },
         "source": "F2",
         "target": "Dabigatran"
        },
        {
         "attributes": {
          "ipysigma_kwarg_edge_color": "increases",
          "relation": "increases"
         },
         "source": "F2",
         "target": "Dalteparin"
        },
        {
         "attributes": {
          "ipysigma_kwarg_edge_color": "affects",
          "relation": "affects"
         },
         "source": "F2",
         "target": "Dalteparin"
        },
        {
         "attributes": {
          "ipysigma_kwarg_edge_color": "increases",
          "relation": "increases"
         },
         "source": "F2",
         "target": "Dalteparin"
        },
        {
         "attributes": {
          "ipysigma_kwarg_edge_color": "decreases",
          "relation": "decreases"
         },
         "source": "F2",
         "target": "Dalteparin"
        },
        {
         "attributes": {
          "ipysigma_kwarg_edge_color": "decreases",
          "relation": "decreases"
         },
         "source": "F2",
         "target": "danaparoid"
        },
        {
         "attributes": {
          "ipysigma_kwarg_edge_color": "decreases",
          "relation": "decreases"
         },
         "source": "F2",
         "target": "danaparoid"
        },
        {
         "attributes": {
          "ipysigma_kwarg_edge_color": "increases",
          "relation": "increases"
         },
         "source": "F2",
         "target": "deoxynivalenol"
        },
        {
         "attributes": {
          "ipysigma_kwarg_edge_color": "affects",
          "relation": "affects"
         },
         "source": "F2",
         "target": "Dermatan Sulfate"
        },
        {
         "attributes": {
          "ipysigma_kwarg_edge_color": "decreases",
          "relation": "decreases"
         },
         "source": "F2",
         "target": "Dermatan Sulfate"
        },
        {
         "attributes": {
          "ipysigma_kwarg_edge_color": "affects",
          "relation": "affects"
         },
         "source": "F2",
         "target": "Dexamethasone"
        },
        {
         "attributes": {
          "ipysigma_kwarg_edge_color": "decreases",
          "relation": "decreases"
         },
         "source": "F2",
         "target": "Dexamethasone"
        },
        {
         "attributes": {
          "ipysigma_kwarg_edge_color": "increases",
          "relation": "increases"
         },
         "source": "F2",
         "target": "Dexamethasone"
        },
        {
         "attributes": {
          "ipysigma_kwarg_edge_color": "affects",
          "relation": "affects"
         },
         "source": "F2",
         "target": "Dexamethasone"
        },
        {
         "attributes": {
          "ipysigma_kwarg_edge_color": "increases",
          "relation": "increases"
         },
         "source": "F2",
         "target": "Dexamethasone"
        },
        {
         "attributes": {
          "ipysigma_kwarg_edge_color": "increases",
          "relation": "increases"
         },
         "source": "F2",
         "target": "Dexamethasone"
        },
        {
         "attributes": {
          "ipysigma_kwarg_edge_color": "affects",
          "relation": "affects"
         },
         "source": "F2",
         "target": "Dexamethasone"
        },
        {
         "attributes": {
          "ipysigma_kwarg_edge_color": "increases",
          "relation": "increases"
         },
         "source": "F2",
         "target": "Dexamethasone"
        },
        {
         "attributes": {
          "ipysigma_kwarg_edge_color": "increases",
          "relation": "increases"
         },
         "source": "F2",
         "target": "Dexamethasone"
        },
        {
         "attributes": {
          "ipysigma_kwarg_edge_color": "decreases",
          "relation": "decreases"
         },
         "source": "1,3-butadiene",
         "target": "F5"
        },
        {
         "attributes": {
          "ipysigma_kwarg_edge_color": "decreases",
          "relation": "decreases"
         },
         "source": "2,6-dinitrotoluene",
         "target": "F5"
        },
        {
         "attributes": {
          "ipysigma_kwarg_edge_color": "affects",
          "relation": "affects"
         },
         "source": "2,6-dinitrotoluene",
         "target": "F5"
        },
        {
         "attributes": {
          "ipysigma_kwarg_edge_color": "affects",
          "relation": "affects"
         },
         "source": "4-(5-benzo(1,3)dioxol-5-yl-4-pyridin-2-yl-1H-imidazol-2-yl)benzamide",
         "target": "F5"
        },
        {
         "attributes": {
          "ipysigma_kwarg_edge_color": "increases",
          "relation": "increases"
         },
         "source": "4-(5-benzo(1,3)dioxol-5-yl-4-pyridin-2-yl-1H-imidazol-2-yl)benzamide",
         "target": "F5"
        },
        {
         "attributes": {
          "ipysigma_kwarg_edge_color": "affects",
          "relation": "affects"
         },
         "source": "4-(5-benzo(1,3)dioxol-5-yl-4-pyridin-2-yl-1H-imidazol-2-yl)benzamide",
         "target": "F5"
        },
        {
         "attributes": {
          "ipysigma_kwarg_edge_color": "increases",
          "relation": "increases"
         },
         "source": "4-(5-benzo(1,3)dioxol-5-yl-4-pyridin-2-yl-1H-imidazol-2-yl)benzamide",
         "target": "F5"
        },
        {
         "attributes": {
          "ipysigma_kwarg_edge_color": "affects",
          "relation": "affects"
         },
         "source": "4-(5-benzo(1,3)dioxol-5-yl-4-pyridin-2-yl-1H-imidazol-2-yl)benzamide",
         "target": "F5"
        },
        {
         "attributes": {
          "ipysigma_kwarg_edge_color": "increases",
          "relation": "increases"
         },
         "source": "4-(5-benzo(1,3)dioxol-5-yl-4-pyridin-2-yl-1H-imidazol-2-yl)benzamide",
         "target": "F5"
        },
        {
         "attributes": {
          "ipysigma_kwarg_edge_color": "affects",
          "relation": "affects"
         },
         "source": "4-(5-benzo(1,3)dioxol-5-yl-4-pyridin-2-yl-1H-imidazol-2-yl)benzamide",
         "target": "F5"
        },
        {
         "attributes": {
          "ipysigma_kwarg_edge_color": "increases",
          "relation": "increases"
         },
         "source": "4-(5-benzo(1,3)dioxol-5-yl-4-pyridin-2-yl-1H-imidazol-2-yl)benzamide",
         "target": "F5"
        },
        {
         "attributes": {
          "ipysigma_kwarg_edge_color": "affects",
          "relation": "affects"
         },
         "source": "4-(5-benzo(1,3)dioxol-5-yl-4-pyridin-2-yl-1H-imidazol-2-yl)benzamide",
         "target": "F5"
        },
        {
         "attributes": {
          "ipysigma_kwarg_edge_color": "increases",
          "relation": "increases"
         },
         "source": "4-(5-benzo(1,3)dioxol-5-yl-4-pyridin-2-yl-1H-imidazol-2-yl)benzamide",
         "target": "F5"
        },
        {
         "attributes": {
          "ipysigma_kwarg_edge_color": "decreases",
          "relation": "decreases"
         },
         "source": "Acenocoumarol",
         "target": "F5"
        },
        {
         "attributes": {
          "ipysigma_kwarg_edge_color": "decreases",
          "relation": "decreases"
         },
         "source": "Aldehydes",
         "target": "F5"
        },
        {
         "attributes": {
          "ipysigma_kwarg_edge_color": "affects",
          "relation": "affects"
         },
         "source": "Aluminum",
         "target": "PADI6"
        },
        {
         "attributes": {
          "ipysigma_kwarg_edge_color": "increases",
          "relation": "increases"
         },
         "source": "Aluminum",
         "target": "PADI6"
        },
        {
         "attributes": {
          "ipysigma_kwarg_edge_color": "increases",
          "relation": "increases"
         },
         "source": "aristolochic acid I",
         "target": "PADI6"
        },
        {
         "attributes": {
          "ipysigma_kwarg_edge_color": "affects",
          "relation": "affects"
         },
         "source": "aspalathin",
         "target": "F5"
        },
        {
         "attributes": {
          "ipysigma_kwarg_edge_color": "decreases",
          "relation": "decreases"
         },
         "source": "aspalathin",
         "target": "F5"
        },
        {
         "attributes": {
          "ipysigma_kwarg_edge_color": "increases",
          "relation": "increases"
         },
         "source": "aspalathin",
         "target": "F5"
        },
        {
         "attributes": {
          "ipysigma_kwarg_edge_color": "decreases",
          "relation": "decreases"
         },
         "source": "Atorvastatin",
         "target": "F5"
        },
        {
         "attributes": {
          "ipysigma_kwarg_edge_color": "decreases",
          "relation": "decreases"
         },
         "source": "bis(4-hydroxyphenyl)sulfone",
         "target": "F5"
        },
        {
         "attributes": {
          "ipysigma_kwarg_edge_color": "increases",
          "relation": "increases"
         },
         "source": "bis(4-hydroxyphenyl)sulfone",
         "target": "F5"
        },
        {
         "attributes": {
          "ipysigma_kwarg_edge_color": "increases",
          "relation": "increases"
         },
         "source": "bis(4-hydroxyphenyl)sulfone",
         "target": "FOXD1"
        },
        {
         "attributes": {
          "ipysigma_kwarg_edge_color": "increases",
          "relation": "increases"
         },
         "source": "bis(4-hydroxyphenyl)sulfone",
         "target": "FOXD1"
        },
        {
         "attributes": {
          "ipysigma_kwarg_edge_color": "increases",
          "relation": "increases"
         },
         "source": "bisphenol F",
         "target": "F5"
        },
        {
         "attributes": {
          "ipysigma_kwarg_edge_color": "increases",
          "relation": "increases"
         },
         "source": "bisphenol F",
         "target": "FOXD1"
        },
        {
         "attributes": {
          "ipysigma_kwarg_edge_color": "decreases",
          "relation": "decreases"
         },
         "source": "butylparaben",
         "target": "F5"
        },
        {
         "attributes": {
          "ipysigma_kwarg_edge_color": "decreases",
          "relation": "decreases"
         },
         "source": "butyraldehyde",
         "target": "F5"
        },
        {
         "attributes": {
          "ipysigma_kwarg_edge_color": "affects",
          "relation": "affects"
         },
         "source": "Calcium Chloride",
         "target": "F5"
        },
        {
         "attributes": {
          "ipysigma_kwarg_edge_color": "decreases",
          "relation": "decreases"
         },
         "source": "Calcium Chloride",
         "target": "F5"
        },
        {
         "attributes": {
          "ipysigma_kwarg_edge_color": "increases",
          "relation": "increases"
         },
         "source": "Calcium Chloride",
         "target": "F5"
        },
        {
         "attributes": {
          "ipysigma_kwarg_edge_color": "affects",
          "relation": "affects"
         },
         "source": "Calcium Chloride",
         "target": "F5"
        },
        {
         "attributes": {
          "ipysigma_kwarg_edge_color": "increases",
          "relation": "increases"
         },
         "source": "Calcium Chloride",
         "target": "F5"
        },
        {
         "attributes": {
          "ipysigma_kwarg_edge_color": "affects",
          "relation": "affects"
         },
         "source": "Calcium Chloride",
         "target": "F5"
        },
        {
         "attributes": {
          "ipysigma_kwarg_edge_color": "decreases",
          "relation": "decreases"
         },
         "source": "Calcium Chloride",
         "target": "F5"
        },
        {
         "attributes": {
          "ipysigma_kwarg_edge_color": "increases",
          "relation": "increases"
         },
         "source": "Calcium Chloride",
         "target": "F5"
        },
        {
         "attributes": {
          "ipysigma_kwarg_edge_color": "decreases",
          "relation": "decreases"
         },
         "source": "Chlorpyrifos",
         "target": "F5"
        },
        {
         "attributes": {
          "ipysigma_kwarg_edge_color": "increases",
          "relation": "increases"
         },
         "source": "Chlorpyrifos",
         "target": "F5"
        },
        {
         "attributes": {
          "ipysigma_kwarg_edge_color": "affects",
          "relation": "affects"
         },
         "source": "Clofibrate",
         "target": "F5"
        },
        {
         "attributes": {
          "ipysigma_kwarg_edge_color": "affects",
          "relation": "affects"
         },
         "source": "Clofibrate",
         "target": "F5"
        },
        {
         "attributes": {
          "ipysigma_kwarg_edge_color": "decreases",
          "relation": "decreases"
         },
         "source": "Clofibrate",
         "target": "F5"
        },
        {
         "attributes": {
          "ipysigma_kwarg_edge_color": "affects",
          "relation": "affects"
         },
         "source": "Clofibrate",
         "target": "F5"
        },
        {
         "attributes": {
          "ipysigma_kwarg_edge_color": "affects",
          "relation": "affects"
         },
         "source": "Clofibrate",
         "target": "F5"
        },
        {
         "attributes": {
          "ipysigma_kwarg_edge_color": "affects",
          "relation": "affects"
         },
         "source": "Clofibrate",
         "target": "F5"
        },
        {
         "attributes": {
          "ipysigma_kwarg_edge_color": "decreases",
          "relation": "decreases"
         },
         "source": "Clofibrate",
         "target": "F5"
        },
        {
         "attributes": {
          "ipysigma_kwarg_edge_color": "increases",
          "relation": "increases"
         },
         "source": "Contraceptives, Oral",
         "target": "F5"
        },
        {
         "attributes": {
          "ipysigma_kwarg_edge_color": "decreases",
          "relation": "decreases"
         },
         "source": "deoxynivalenol",
         "target": "F5"
        },
        {
         "attributes": {
          "ipysigma_kwarg_edge_color": "decreases",
          "relation": "decreases"
         },
         "source": "F5",
         "target": "2,3-dimethoxy-1,4-naphthoquinone"
        },
        {
         "attributes": {
          "ipysigma_kwarg_edge_color": "increases",
          "relation": "increases"
         },
         "source": "F5",
         "target": "2,4,6-tribromophenol"
        },
        {
         "attributes": {
          "ipysigma_kwarg_edge_color": "affects",
          "relation": "affects"
         },
         "source": "F5",
         "target": "2,4-dinitrotoluene"
        },
        {
         "attributes": {
          "ipysigma_kwarg_edge_color": "decreases",
          "relation": "decreases"
         },
         "source": "F5",
         "target": "2-amino-2-methyl-1-propanol"
        },
        {
         "attributes": {
          "ipysigma_kwarg_edge_color": "decreases",
          "relation": "decreases"
         },
         "source": "F5",
         "target": "3,4,3',4'-tetrachlorobiphenyl"
        },
        {
         "attributes": {
          "ipysigma_kwarg_edge_color": "increases",
          "relation": "increases"
         },
         "source": "F5",
         "target": "3,4,3',4'-tetrachlorobiphenyl"
        },
        {
         "attributes": {
          "ipysigma_kwarg_edge_color": "increases",
          "relation": "increases"
         },
         "source": "F5",
         "target": "4,4'-diaminodiphenylmethane"
        },
        {
         "attributes": {
          "ipysigma_kwarg_edge_color": "decreases",
          "relation": "decreases"
         },
         "source": "F5",
         "target": "abrine"
        },
        {
         "attributes": {
          "ipysigma_kwarg_edge_color": "decreases",
          "relation": "decreases"
         },
         "source": "F5",
         "target": "Antimony"
        },
        {
         "attributes": {
          "ipysigma_kwarg_edge_color": "decreases",
          "relation": "decreases"
         },
         "source": "F5",
         "target": "Antimony Potassium Tartrate"
        },
        {
         "attributes": {
          "ipysigma_kwarg_edge_color": "decreases",
          "relation": "decreases"
         },
         "source": "F5",
         "target": "Antirheumatic Agents"
        },
        {
         "attributes": {
          "ipysigma_kwarg_edge_color": "decreases",
          "relation": "decreases"
         },
         "source": "F5",
         "target": "Arsenic"
        },
        {
         "attributes": {
          "ipysigma_kwarg_edge_color": "increases",
          "relation": "increases"
         },
         "source": "F5",
         "target": "Arsenic"
        },
        {
         "attributes": {
          "ipysigma_kwarg_edge_color": "increases",
          "relation": "increases"
         },
         "source": "F5",
         "target": "Arsenic"
        },
        {
         "attributes": {
          "ipysigma_kwarg_edge_color": "increases",
          "relation": "increases"
         },
         "source": "F5",
         "target": "Arsenic Trioxide"
        },
        {
         "attributes": {
          "ipysigma_kwarg_edge_color": "affects",
          "relation": "affects"
         },
         "source": "F5",
         "target": "Azoxymethane"
        },
        {
         "attributes": {
          "ipysigma_kwarg_edge_color": "decreases",
          "relation": "decreases"
         },
         "source": "F5",
         "target": "Azoxymethane"
        },
        {
         "attributes": {
          "ipysigma_kwarg_edge_color": "increases",
          "relation": "increases"
         },
         "source": "F5",
         "target": "Beclomethasone"
        },
        {
         "attributes": {
          "ipysigma_kwarg_edge_color": "increases",
          "relation": "increases"
         },
         "source": "F5",
         "target": "Benzene"
        },
        {
         "attributes": {
          "ipysigma_kwarg_edge_color": "decreases",
          "relation": "decreases"
         },
         "source": "F5",
         "target": "beta-Naphthoflavone"
        },
        {
         "attributes": {
          "ipysigma_kwarg_edge_color": "affects",
          "relation": "affects"
         },
         "source": "F5",
         "target": "CGP 52608"
        },
        {
         "attributes": {
          "ipysigma_kwarg_edge_color": "increases",
          "relation": "increases"
         },
         "source": "F5",
         "target": "CGP 52608"
        },
        {
         "attributes": {
          "ipysigma_kwarg_edge_color": "increases",
          "relation": "increases"
         },
         "source": "F5",
         "target": "Chloroprene"
        },
        {
         "attributes": {
          "ipysigma_kwarg_edge_color": "affects",
          "relation": "affects"
         },
         "source": "F5",
         "target": "Cholic Acids"
        },
        {
         "attributes": {
          "ipysigma_kwarg_edge_color": "affects",
          "relation": "affects"
         },
         "source": "F5",
         "target": "Cholic Acids"
        },
        {
         "attributes": {
          "ipysigma_kwarg_edge_color": "decreases",
          "relation": "decreases"
         },
         "source": "F5",
         "target": "Chromium"
        },
        {
         "attributes": {
          "ipysigma_kwarg_edge_color": "increases",
          "relation": "increases"
         },
         "source": "F5",
         "target": "chrysene"
        },
        {
         "attributes": {
          "ipysigma_kwarg_edge_color": "affects",
          "relation": "affects"
         },
         "source": "F5",
         "target": "Clofibric Acid"
        },
        {
         "attributes": {
          "ipysigma_kwarg_edge_color": "affects",
          "relation": "affects"
         },
         "source": "F5",
         "target": "Clofibric Acid"
        },
        {
         "attributes": {
          "ipysigma_kwarg_edge_color": "affects",
          "relation": "affects"
         },
         "source": "F5",
         "target": "Clomiphene"
        },
        {
         "attributes": {
          "ipysigma_kwarg_edge_color": "decreases",
          "relation": "decreases"
         },
         "source": "F5",
         "target": "cyproconazole"
        },
        {
         "attributes": {
          "ipysigma_kwarg_edge_color": "increases",
          "relation": "increases"
         },
         "source": "F5",
         "target": "decabromobiphenyl ether"
        },
        {
         "attributes": {
          "ipysigma_kwarg_edge_color": "affects",
          "relation": "affects"
         },
         "source": "F5",
         "target": "Dextran Sulfate"
        },
        {
         "attributes": {
          "ipysigma_kwarg_edge_color": "decreases",
          "relation": "decreases"
         },
         "source": "F5",
         "target": "Dextran Sulfate"
        },
        {
         "attributes": {
          "ipysigma_kwarg_edge_color": "increases",
          "relation": "increases"
         },
         "source": "abrine",
         "target": "FOXD1"
        },
        {
         "attributes": {
          "ipysigma_kwarg_edge_color": "increases",
          "relation": "increases"
         },
         "source": "Arsenic",
         "target": "FOXD1"
        },
        {
         "attributes": {
          "ipysigma_kwarg_edge_color": "increases",
          "relation": "increases"
         },
         "source": "Arsenic",
         "target": "FOXD1"
        },
        {
         "attributes": {
          "ipysigma_kwarg_edge_color": "increases",
          "relation": "increases"
         },
         "source": "Beclomethasone",
         "target": "FOXD1"
        },
        {
         "attributes": {
          "ipysigma_kwarg_edge_color": "affects",
          "relation": "affects"
         },
         "source": "CGP 52608",
         "target": "PADI6"
        },
        {
         "attributes": {
          "ipysigma_kwarg_edge_color": "increases",
          "relation": "increases"
         },
         "source": "CGP 52608",
         "target": "PADI6"
        },
        {
         "attributes": {
          "ipysigma_kwarg_edge_color": "increases",
          "relation": "increases"
         },
         "source": "FOXD1",
         "target": "4-(4-((5-(4,5-dimethyl-2-nitrophenyl)-2-furanyl)methylene)-4,5-dihydro-3-methyl-5-oxo-1H-pyrazol-1-yl)benzoic acid"
        },
        {
         "attributes": {
          "ipysigma_kwarg_edge_color": "increases",
          "relation": "increases"
         },
         "source": "FOXD1",
         "target": "Asbestos, Crocidolite"
        },
        {
         "attributes": {
          "ipysigma_kwarg_edge_color": "affects",
          "relation": "affects"
         },
         "source": "FOXD1",
         "target": "caffeic acid phenethyl ester"
        },
        {
         "attributes": {
          "ipysigma_kwarg_edge_color": "decreases",
          "relation": "decreases"
         },
         "source": "FOXD1",
         "target": "caffeic acid phenethyl ester"
        },
        {
         "attributes": {
          "ipysigma_kwarg_edge_color": "affects",
          "relation": "affects"
         },
         "source": "FOXD1",
         "target": "Carbamazepine"
        },
        {
         "attributes": {
          "ipysigma_kwarg_edge_color": "decreases",
          "relation": "decreases"
         },
         "source": "FOXD1",
         "target": "cyclopamine"
        },
        {
         "attributes": {
          "ipysigma_kwarg_edge_color": "increases",
          "relation": "increases"
         },
         "source": "PADI6",
         "target": "aflatoxin B2"
        },
        {
         "attributes": {
          "ipysigma_kwarg_edge_color": "increases",
          "relation": "increases"
         },
         "source": "PADI6",
         "target": "aflatoxin B2"
        }
       ],
       "nodes": [
        {
         "attributes": {
          "ipysigma_kwarg_node_color": "Gene",
          "ipysigma_kwarg_node_size": 18200
         },
         "key": "AURKB"
        },
        {
         "attributes": {
          "ipysigma_kwarg_node_color": "Chemical",
          "ipysigma_kwarg_node_size": 100
         },
         "key": "1,4-bis(2-(3,5-dichloropyridyloxy))benzene"
        },
        {
         "attributes": {
          "ipysigma_kwarg_node_color": "Chemical",
          "ipysigma_kwarg_node_size": 200
         },
         "key": "16-hydroxycleroda-3,13(14)-dien-15,16-olide"
        },
        {
         "attributes": {
          "ipysigma_kwarg_node_color": "Chemical",
          "ipysigma_kwarg_node_size": 200
         },
         "key": "1-cyclopropyl-3-(3-(5-morpholin-4-ylmethyl-1H-benzoimidazol-2-yl)-1H-pyrazol-4-yl)urea"
        },
        {
         "attributes": {
          "ipysigma_kwarg_node_color": "Chemical",
          "ipysigma_kwarg_node_size": 200
         },
         "key": "1-Methyl-4-phenylpyridinium"
        },
        {
         "attributes": {
          "ipysigma_kwarg_node_color": "Chemical",
          "ipysigma_kwarg_node_size": 1100
         },
         "key": "1-Naphthylisothiocyanate"
        },
        {
         "attributes": {
          "ipysigma_kwarg_node_color": "Chemical",
          "ipysigma_kwarg_node_size": 600
         },
         "key": "2,2',3',4,4',5-hexachlorobiphenyl"
        },
        {
         "attributes": {
          "ipysigma_kwarg_node_color": "Chemical",
          "ipysigma_kwarg_node_size": 100
         },
         "key": "2,2',4,4'-tetrabromodiphenyl ether"
        },
        {
         "attributes": {
          "ipysigma_kwarg_node_color": "Chemical",
          "ipysigma_kwarg_node_size": 300
         },
         "key": "2-(2-amino-3-methoxyphenyl)-4H-1-benzopyran-4-one"
        },
        {
         "attributes": {
          "ipysigma_kwarg_node_color": "Chemical",
          "ipysigma_kwarg_node_size": 100
         },
         "key": "2,2-bis(4-hydroxyphenyl)-1,1,1-trichloroethane"
        },
        {
         "attributes": {
          "ipysigma_kwarg_node_color": "Chemical",
          "ipysigma_kwarg_node_size": 100
         },
         "key": "2',3,3',4',5-pentachloro-4-hydroxybiphenyl"
        },
        {
         "attributes": {
          "ipysigma_kwarg_node_color": "Chemical",
          "ipysigma_kwarg_node_size": 500
         },
         "key": "2-((3-((4-((5-(2-((3-fluorophenyl)amino)-2-oxoethyl)-1H-pyrazol-3-yl)amino)quinazolin-7-yl)oxy)propyl)(ethyl)amino)ethyl dihydrogen phosphate"
        },
        {
         "attributes": {
          "ipysigma_kwarg_node_color": "Chemical",
          "ipysigma_kwarg_node_size": 200
         },
         "key": "2,3-bis(3'-hydroxybenzyl)butyrolactone"
        },
        {
         "attributes": {
          "ipysigma_kwarg_node_color": "Chemical",
          "ipysigma_kwarg_node_size": 400
         },
         "key": "2,4,4'-trichlorobiphenyl"
        },
        {
         "attributes": {
          "ipysigma_kwarg_node_color": "Chemical",
          "ipysigma_kwarg_node_size": 400
         },
         "key": "2,4,5,2',4',5'-hexachlorobiphenyl"
        },
        {
         "attributes": {
          "ipysigma_kwarg_node_color": "Chemical",
          "ipysigma_kwarg_node_size": 400
         },
         "key": "2,4,5,2',5'-pentachlorobiphenyl"
        },
        {
         "attributes": {
          "ipysigma_kwarg_node_color": "Chemical",
          "ipysigma_kwarg_node_size": 300
         },
         "key": "2-(4-morpholinyl)-8-phenyl-4H-1-benzopyran-4-one"
        },
        {
         "attributes": {
          "ipysigma_kwarg_node_color": "Chemical",
          "ipysigma_kwarg_node_size": 500
         },
         "key": "2,5,2',5'-tetrachlorobiphenyl"
        },
        {
         "attributes": {
          "ipysigma_kwarg_node_color": "Chemical",
          "ipysigma_kwarg_node_size": 400
         },
         "key": "2-methyl-2H-pyrazole-3-carboxylic acid (2-methyl-4-o-tolylazophenyl)amide"
        },
        {
         "attributes": {
          "ipysigma_kwarg_node_color": "Chemical",
          "ipysigma_kwarg_node_size": 200
         },
         "key": "2-palmitoylglycerol"
        },
        {
         "attributes": {
          "ipysigma_kwarg_node_color": "Chemical",
          "ipysigma_kwarg_node_size": 100
         },
         "key": "3-(1H-indazol-5-yl)-N-propylimidazo(1,2-b)pyridazin-6-amine"
        },
        {
         "attributes": {
          "ipysigma_kwarg_node_color": "Chemical",
          "ipysigma_kwarg_node_size": 100
         },
         "key": "3,4,5,3',4'-pentachlorobiphenyl"
        },
        {
         "attributes": {
          "ipysigma_kwarg_node_color": "Chemical",
          "ipysigma_kwarg_node_size": 200
         },
         "key": "4-(2-thiazolylazo)resorcinol"
        },
        {
         "attributes": {
          "ipysigma_kwarg_node_color": "Chemical",
          "ipysigma_kwarg_node_size": 500
         },
         "key": "4-(4-(N-benzoylamino)anilino)-6-methoxy-7-(3-(1-morpholino)propoxy)quinazoline"
        },
        {
         "attributes": {
          "ipysigma_kwarg_node_color": "Chemical",
          "ipysigma_kwarg_node_size": 100
         },
         "key": "4-chloro-N-((4-(1,1-dimethylethyl)phenyl)methyl)-3-ethyl-1-methyl-1H-pyrazole-5-carboxamide"
        },
        {
         "attributes": {
          "ipysigma_kwarg_node_color": "Chemical",
          "ipysigma_kwarg_node_size": 300
         },
         "key": "7,8-Dihydro-7,8-dihydroxybenzo(a)pyrene 9,10-oxide"
        },
        {
         "attributes": {
          "ipysigma_kwarg_node_color": "Chemical",
          "ipysigma_kwarg_node_size": 300
         },
         "key": "acetamide"
        },
        {
         "attributes": {
          "ipysigma_kwarg_node_color": "Chemical",
          "ipysigma_kwarg_node_size": 2200
         },
         "key": "Acetaminophen"
        },
        {
         "attributes": {
          "ipysigma_kwarg_node_color": "Chemical",
          "ipysigma_kwarg_node_size": 200
         },
         "key": "Acetylcysteine"
        },
        {
         "attributes": {
          "ipysigma_kwarg_node_color": "Chemical",
          "ipysigma_kwarg_node_size": 500
         },
         "key": "Acrylamide"
        },
        {
         "attributes": {
          "ipysigma_kwarg_node_color": "Chemical",
          "ipysigma_kwarg_node_size": 100
         },
         "key": "adefovir dipivoxil"
        },
        {
         "attributes": {
          "ipysigma_kwarg_node_color": "Chemical",
          "ipysigma_kwarg_node_size": 800
         },
         "key": "Aflatoxin B1"
        },
        {
         "attributes": {
          "ipysigma_kwarg_node_color": "Chemical",
          "ipysigma_kwarg_node_size": 900
         },
         "key": "Air Pollutants"
        },
        {
         "attributes": {
          "ipysigma_kwarg_node_color": "Chemical",
          "ipysigma_kwarg_node_size": 300
         },
         "key": "Ammonium Chloride"
        },
        {
         "attributes": {
          "ipysigma_kwarg_node_color": "Chemical",
          "ipysigma_kwarg_node_size": 100
         },
         "key": "amphotericin B, deoxycholate drug combination"
        },
        {
         "attributes": {
          "ipysigma_kwarg_node_color": "Chemical",
          "ipysigma_kwarg_node_size": 300
         },
         "key": "Andrographis paniculata extract"
        },
        {
         "attributes": {
          "ipysigma_kwarg_node_color": "Chemical",
          "ipysigma_kwarg_node_size": 100
         },
         "key": "Anthraquinones"
        },
        {
         "attributes": {
          "ipysigma_kwarg_node_color": "Chemical",
          "ipysigma_kwarg_node_size": 100
         },
         "key": "Antimycin A"
        },
        {
         "attributes": {
          "ipysigma_kwarg_node_color": "Chemical",
          "ipysigma_kwarg_node_size": 100
         },
         "key": "Aristolochic Acids"
        },
        {
         "attributes": {
          "ipysigma_kwarg_node_color": "Chemical",
          "ipysigma_kwarg_node_size": 1200
         },
         "key": "arsenite"
        },
        {
         "attributes": {
          "ipysigma_kwarg_node_color": "Chemical",
          "ipysigma_kwarg_node_size": 200
         },
         "key": "Ascorbic Acid"
        },
        {
         "attributes": {
          "ipysigma_kwarg_node_color": "Chemical",
          "ipysigma_kwarg_node_size": 200
         },
         "key": "Atrazine"
        },
        {
         "attributes": {
          "ipysigma_kwarg_node_color": "Chemical",
          "ipysigma_kwarg_node_size": 100
         },
         "key": "Azathioprine"
        },
        {
         "attributes": {
          "ipysigma_kwarg_node_color": "Chemical",
          "ipysigma_kwarg_node_size": 300
         },
         "key": "AZD 1152-HQPA"
        },
        {
         "attributes": {
          "ipysigma_kwarg_node_color": "Chemical",
          "ipysigma_kwarg_node_size": 100
         },
         "key": "bardoxolone methyl"
        },
        {
         "attributes": {
          "ipysigma_kwarg_node_color": "Chemical",
          "ipysigma_kwarg_node_size": 300
         },
         "key": "belinostat"
        },
        {
         "attributes": {
          "ipysigma_kwarg_node_color": "Chemical",
          "ipysigma_kwarg_node_size": 1700
         },
         "key": "Benzo(a)pyrene"
        },
        {
         "attributes": {
          "ipysigma_kwarg_node_color": "Chemical",
          "ipysigma_kwarg_node_size": 500
         },
         "key": "benzyloxycarbonylleucyl-leucyl-leucine aldehyde"
        },
        {
         "attributes": {
          "ipysigma_kwarg_node_color": "Chemical",
          "ipysigma_kwarg_node_size": 100
         },
         "key": "Berberine"
        },
        {
         "attributes": {
          "ipysigma_kwarg_node_color": "Chemical",
          "ipysigma_kwarg_node_size": 100
         },
         "key": "Biphenyl Compounds"
        },
        {
         "attributes": {
          "ipysigma_kwarg_node_color": "Chemical",
          "ipysigma_kwarg_node_size": 3800
         },
         "key": "bisphenol A"
        },
        {
         "attributes": {
          "ipysigma_kwarg_node_color": "Chemical",
          "ipysigma_kwarg_node_size": 500
         },
         "key": "Blood Glucose"
        },
        {
         "attributes": {
          "ipysigma_kwarg_node_color": "Chemical",
          "ipysigma_kwarg_node_size": 100
         },
         "key": "Butylated Hydroxyanisole"
        },
        {
         "attributes": {
          "ipysigma_kwarg_node_color": "Chemical",
          "ipysigma_kwarg_node_size": 1400
         },
         "key": "Cadmium"
        },
        {
         "attributes": {
          "ipysigma_kwarg_node_color": "Chemical",
          "ipysigma_kwarg_node_size": 1000
         },
         "key": "Cadmium Chloride"
        },
        {
         "attributes": {
          "ipysigma_kwarg_node_color": "Chemical",
          "ipysigma_kwarg_node_size": 600
         },
         "key": "Calcitriol"
        },
        {
         "attributes": {
          "ipysigma_kwarg_node_color": "Chemical",
          "ipysigma_kwarg_node_size": 400
         },
         "key": "Cannabidiol"
        },
        {
         "attributes": {
          "ipysigma_kwarg_node_color": "Chemical",
          "ipysigma_kwarg_node_size": 100
         },
         "key": "Carbamates"
        },
        {
         "attributes": {
          "ipysigma_kwarg_node_color": "Chemical",
          "ipysigma_kwarg_node_size": 700
         },
         "key": "Carbon Tetrachloride"
        },
        {
         "attributes": {
          "ipysigma_kwarg_node_color": "Chemical",
          "ipysigma_kwarg_node_size": 100
         },
         "key": "catechol"
        },
        {
         "attributes": {
          "ipysigma_kwarg_node_color": "Chemical",
          "ipysigma_kwarg_node_size": 600
         },
         "key": "Cellulose"
        },
        {
         "attributes": {
          "ipysigma_kwarg_node_color": "Chemical",
          "ipysigma_kwarg_node_size": 200
         },
         "key": "Cephaloridine"
        },
        {
         "attributes": {
          "ipysigma_kwarg_node_color": "Chemical",
          "ipysigma_kwarg_node_size": 100
         },
         "key": "Chlorambucil"
        },
        {
         "attributes": {
          "ipysigma_kwarg_node_color": "Chemical",
          "ipysigma_kwarg_node_size": 100
         },
         "key": "chloroacetaldehyde"
        },
        {
         "attributes": {
          "ipysigma_kwarg_node_color": "Chemical",
          "ipysigma_kwarg_node_size": 900
         },
         "key": "Choline"
        },
        {
         "attributes": {
          "ipysigma_kwarg_node_color": "Chemical",
          "ipysigma_kwarg_node_size": 100
         },
         "key": "Cidofovir"
        },
        {
         "attributes": {
          "ipysigma_kwarg_node_color": "Chemical",
          "ipysigma_kwarg_node_size": 600
         },
         "key": "Cisplatin"
        },
        {
         "attributes": {
          "ipysigma_kwarg_node_color": "Chemical",
          "ipysigma_kwarg_node_size": 100
         },
         "key": "Clobetasol"
        },
        {
         "attributes": {
          "ipysigma_kwarg_node_color": "Chemical",
          "ipysigma_kwarg_node_size": 100
         },
         "key": "Clodronic Acid"
        },
        {
         "attributes": {
          "ipysigma_kwarg_node_color": "Chemical",
          "ipysigma_kwarg_node_size": 300
         },
         "key": "cobaltous chloride"
        },
        {
         "attributes": {
          "ipysigma_kwarg_node_color": "Chemical",
          "ipysigma_kwarg_node_size": 200
         },
         "key": "Colchicine"
        },
        {
         "attributes": {
          "ipysigma_kwarg_node_color": "Chemical",
          "ipysigma_kwarg_node_size": 500
         },
         "key": "Copper"
        },
        {
         "attributes": {
          "ipysigma_kwarg_node_color": "Chemical",
          "ipysigma_kwarg_node_size": 100
         },
         "key": "copper-1,10-phenanthroline"
        },
        {
         "attributes": {
          "ipysigma_kwarg_node_color": "Chemical",
          "ipysigma_kwarg_node_size": 200
         },
         "key": "Copper Sulfate"
        },
        {
         "attributes": {
          "ipysigma_kwarg_node_color": "Chemical",
          "ipysigma_kwarg_node_size": 100
         },
         "key": "Corticosterone"
        },
        {
         "attributes": {
          "ipysigma_kwarg_node_color": "Chemical",
          "ipysigma_kwarg_node_size": 600
         },
         "key": "Coumestrol"
        },
        {
         "attributes": {
          "ipysigma_kwarg_node_color": "Chemical",
          "ipysigma_kwarg_node_size": 100
         },
         "key": "cupric oxide"
        },
        {
         "attributes": {
          "ipysigma_kwarg_node_color": "Chemical",
          "ipysigma_kwarg_node_size": 100
         },
         "key": "Cuprizone"
        },
        {
         "attributes": {
          "ipysigma_kwarg_node_color": "Chemical",
          "ipysigma_kwarg_node_size": 900
         },
         "key": "Curcumin"
        },
        {
         "attributes": {
          "ipysigma_kwarg_node_color": "Chemical",
          "ipysigma_kwarg_node_size": 100
         },
         "key": "Cyclophosphamide"
        },
        {
         "attributes": {
          "ipysigma_kwarg_node_color": "Chemical",
          "ipysigma_kwarg_node_size": 700
         },
         "key": "Cyclosporine"
        },
        {
         "attributes": {
          "ipysigma_kwarg_node_color": "Chemical",
          "ipysigma_kwarg_node_size": 300
         },
         "key": "dan-shen root extract"
        },
        {
         "attributes": {
          "ipysigma_kwarg_node_color": "Chemical",
          "ipysigma_kwarg_node_size": 100
         },
         "key": "Dasatinib"
        },
        {
         "attributes": {
          "ipysigma_kwarg_node_color": "Chemical",
          "ipysigma_kwarg_node_size": 100
         },
         "key": "D-Aspartic Acid"
        },
        {
         "attributes": {
          "ipysigma_kwarg_node_color": "Chemical",
          "ipysigma_kwarg_node_size": 200
         },
         "key": "decamethrin"
        },
        {
         "attributes": {
          "ipysigma_kwarg_node_color": "Chemical",
          "ipysigma_kwarg_node_size": 200
         },
         "key": "Demecolcine"
        },
        {
         "attributes": {
          "ipysigma_kwarg_node_color": "Gene",
          "ipysigma_kwarg_node_size": 34900
         },
         "key": "F2"
        },
        {
         "attributes": {
          "ipysigma_kwarg_node_color": "Chemical",
          "ipysigma_kwarg_node_size": 7800
         },
         "key": "1,1-dimethylbutyl-1-deoxy-Delta(9)-THC"
        },
        {
         "attributes": {
          "ipysigma_kwarg_node_color": "Chemical",
          "ipysigma_kwarg_node_size": 200
         },
         "key": "1,3-butadiene"
        },
        {
         "attributes": {
          "ipysigma_kwarg_node_color": "Chemical",
          "ipysigma_kwarg_node_size": 200
         },
         "key": "1-(6-((3-methoxyestra-1,3,5(10)-trien-17-yl)amino)hexyl)-1H-pyrrole-2,5-dione"
        },
        {
         "attributes": {
          "ipysigma_kwarg_node_color": "Chemical",
          "ipysigma_kwarg_node_size": 200
         },
         "key": "1-aminomethylphosphonic acid"
        },
        {
         "attributes": {
          "ipysigma_kwarg_node_color": "Chemical",
          "ipysigma_kwarg_node_size": 200
         },
         "key": "1-Methyl-3-isobutylxanthine"
        },
        {
         "attributes": {
          "ipysigma_kwarg_node_color": "Chemical",
          "ipysigma_kwarg_node_size": 500
         },
         "key": "2,4,3',5'-tetramethoxystilbene"
        },
        {
         "attributes": {
          "ipysigma_kwarg_node_color": "Chemical",
          "ipysigma_kwarg_node_size": 200
         },
         "key": "2,4-Dichlorophenoxyacetic Acid"
        },
        {
         "attributes": {
          "ipysigma_kwarg_node_color": "Chemical",
          "ipysigma_kwarg_node_size": 300
         },
         "key": "2,6-dinitrotoluene"
        },
        {
         "attributes": {
          "ipysigma_kwarg_node_color": "Chemical",
          "ipysigma_kwarg_node_size": 100
         },
         "key": "3-dinitrobenzene"
        },
        {
         "attributes": {
          "ipysigma_kwarg_node_color": "Chemical",
          "ipysigma_kwarg_node_size": 100
         },
         "key": "4,4'-hexafluorisopropylidene diphenol"
        },
        {
         "attributes": {
          "ipysigma_kwarg_node_color": "Chemical",
          "ipysigma_kwarg_node_size": 1200
         },
         "key": "4-(5-benzo(1,3)dioxol-5-yl-4-pyridin-2-yl-1H-imidazol-2-yl)benzamide"
        },
        {
         "attributes": {
          "ipysigma_kwarg_node_color": "Chemical",
          "ipysigma_kwarg_node_size": 200
         },
         "key": "8-Bromo Cyclic Adenosine Monophosphate"
        },
        {
         "attributes": {
          "ipysigma_kwarg_node_color": "Chemical",
          "ipysigma_kwarg_node_size": 200
         },
         "key": "Acenocoumarol"
        },
        {
         "attributes": {
          "ipysigma_kwarg_node_color": "Chemical",
          "ipysigma_kwarg_node_size": 200
         },
         "key": "acetochlor"
        },
        {
         "attributes": {
          "ipysigma_kwarg_node_color": "Chemical",
          "ipysigma_kwarg_node_size": 500
         },
         "key": "Adenosine Diphosphate"
        },
        {
         "attributes": {
          "ipysigma_kwarg_node_color": "Chemical",
          "ipysigma_kwarg_node_size": 1800
         },
         "key": "Adenosine Triphosphate"
        },
        {
         "attributes": {
          "ipysigma_kwarg_node_color": "Chemical",
          "ipysigma_kwarg_node_size": 200
         },
         "key": "Aldehydes"
        },
        {
         "attributes": {
          "ipysigma_kwarg_node_color": "Chemical",
          "ipysigma_kwarg_node_size": 400
         },
         "key": "Aluminum"
        },
        {
         "attributes": {
          "ipysigma_kwarg_node_color": "Chemical",
          "ipysigma_kwarg_node_size": 300
         },
         "key": "Amiodarone"
        },
        {
         "attributes": {
          "ipysigma_kwarg_node_color": "Chemical",
          "ipysigma_kwarg_node_size": 200
         },
         "key": "Amphetamine"
        },
        {
         "attributes": {
          "ipysigma_kwarg_node_color": "Chemical",
          "ipysigma_kwarg_node_size": 100
         },
         "key": "Antithrombins"
        },
        {
         "attributes": {
          "ipysigma_kwarg_node_color": "Chemical",
          "ipysigma_kwarg_node_size": 300
         },
         "key": "Antivenins"
        },
        {
         "attributes": {
          "ipysigma_kwarg_node_color": "Chemical",
          "ipysigma_kwarg_node_size": 200
         },
         "key": "Apigenin"
        },
        {
         "attributes": {
          "ipysigma_kwarg_node_color": "Chemical",
          "ipysigma_kwarg_node_size": 200
         },
         "key": "apigenin-6,8-di-C-glycopyranoside"
        },
        {
         "attributes": {
          "ipysigma_kwarg_node_color": "Chemical",
          "ipysigma_kwarg_node_size": 500
         },
         "key": "argatroban"
        },
        {
         "attributes": {
          "ipysigma_kwarg_node_color": "Chemical",
          "ipysigma_kwarg_node_size": 200
         },
         "key": "aristolochic acid I"
        },
        {
         "attributes": {
          "ipysigma_kwarg_node_color": "Chemical",
          "ipysigma_kwarg_node_size": 700
         },
         "key": "aspalathin"
        },
        {
         "attributes": {
          "ipysigma_kwarg_node_color": "Chemical",
          "ipysigma_kwarg_node_size": 200
         },
         "key": "Aspartame"
        },
        {
         "attributes": {
          "ipysigma_kwarg_node_color": "Chemical",
          "ipysigma_kwarg_node_size": 300
         },
         "key": "Aspirin"
        },
        {
         "attributes": {
          "ipysigma_kwarg_node_color": "Chemical",
          "ipysigma_kwarg_node_size": 200
         },
         "key": "Atorvastatin"
        },
        {
         "attributes": {
          "ipysigma_kwarg_node_color": "Chemical",
          "ipysigma_kwarg_node_size": 400
         },
         "key": "Atropine"
        },
        {
         "attributes": {
          "ipysigma_kwarg_node_color": "Chemical",
          "ipysigma_kwarg_node_size": 300
         },
         "key": "Barium"
        },
        {
         "attributes": {
          "ipysigma_kwarg_node_color": "Chemical",
          "ipysigma_kwarg_node_size": 100
         },
         "key": "BCH 2763"
        },
        {
         "attributes": {
          "ipysigma_kwarg_node_color": "Chemical",
          "ipysigma_kwarg_node_size": 100
         },
         "key": "Benzophenanthridines"
        },
        {
         "attributes": {
          "ipysigma_kwarg_node_color": "Chemical",
          "ipysigma_kwarg_node_size": 100
         },
         "key": "Bexarotene"
        },
        {
         "attributes": {
          "ipysigma_kwarg_node_color": "Chemical",
          "ipysigma_kwarg_node_size": 600
         },
         "key": "bis(4-hydroxyphenyl)sulfone"
        },
        {
         "attributes": {
          "ipysigma_kwarg_node_color": "Chemical",
          "ipysigma_kwarg_node_size": 300
         },
         "key": "bisphenol F"
        },
        {
         "attributes": {
          "ipysigma_kwarg_node_color": "Chemical",
          "ipysigma_kwarg_node_size": 1300
         },
         "key": "bivalirudin"
        },
        {
         "attributes": {
          "ipysigma_kwarg_node_color": "Chemical",
          "ipysigma_kwarg_node_size": 200
         },
         "key": "bothrojaracin"
        },
        {
         "attributes": {
          "ipysigma_kwarg_node_color": "Chemical",
          "ipysigma_kwarg_node_size": 200
         },
         "key": "butylparaben"
        },
        {
         "attributes": {
          "ipysigma_kwarg_node_color": "Chemical",
          "ipysigma_kwarg_node_size": 200
         },
         "key": "butyraldehyde"
        },
        {
         "attributes": {
          "ipysigma_kwarg_node_color": "Chemical",
          "ipysigma_kwarg_node_size": 1700
         },
         "key": "Calcium"
        },
        {
         "attributes": {
          "ipysigma_kwarg_node_color": "Chemical",
          "ipysigma_kwarg_node_size": 1600
         },
         "key": "Calcium Chloride"
        },
        {
         "attributes": {
          "ipysigma_kwarg_node_color": "Chemical",
          "ipysigma_kwarg_node_size": 200
         },
         "key": "calmidazolium"
        },
        {
         "attributes": {
          "ipysigma_kwarg_node_color": "Chemical",
          "ipysigma_kwarg_node_size": 100
         },
         "key": "Capsaicin"
        },
        {
         "attributes": {
          "ipysigma_kwarg_node_color": "Chemical",
          "ipysigma_kwarg_node_size": 200
         },
         "key": "cerivastatin"
        },
        {
         "attributes": {
          "ipysigma_kwarg_node_color": "Chemical",
          "ipysigma_kwarg_node_size": 300
         },
         "key": "Chlorine"
        },
        {
         "attributes": {
          "ipysigma_kwarg_node_color": "Chemical",
          "ipysigma_kwarg_node_size": 100
         },
         "key": "Chlorodiphenyl (54% Chlorine)"
        },
        {
         "attributes": {
          "ipysigma_kwarg_node_color": "Chemical",
          "ipysigma_kwarg_node_size": 100
         },
         "key": "Chlorogenic Acid"
        },
        {
         "attributes": {
          "ipysigma_kwarg_node_color": "Chemical",
          "ipysigma_kwarg_node_size": 100
         },
         "key": "Chlorpromazine"
        },
        {
         "attributes": {
          "ipysigma_kwarg_node_color": "Chemical",
          "ipysigma_kwarg_node_size": 400
         },
         "key": "Chlorpyrifos"
        },
        {
         "attributes": {
          "ipysigma_kwarg_node_color": "Chemical",
          "ipysigma_kwarg_node_size": 200
         },
         "key": "Cholesterol, Dietary"
        },
        {
         "attributes": {
          "ipysigma_kwarg_node_color": "Chemical",
          "ipysigma_kwarg_node_size": 300
         },
         "key": "Clobazam"
        },
        {
         "attributes": {
          "ipysigma_kwarg_node_color": "Chemical",
          "ipysigma_kwarg_node_size": 800
         },
         "key": "Clofibrate"
        },
        {
         "attributes": {
          "ipysigma_kwarg_node_color": "Chemical",
          "ipysigma_kwarg_node_size": 200
         },
         "key": "Clopidogrel"
        },
        {
         "attributes": {
          "ipysigma_kwarg_node_color": "Chemical",
          "ipysigma_kwarg_node_size": 100
         },
         "key": "clothianidin"
        },
        {
         "attributes": {
          "ipysigma_kwarg_node_color": "Chemical",
          "ipysigma_kwarg_node_size": 300
         },
         "key": "Cobalt"
        },
        {
         "attributes": {
          "ipysigma_kwarg_node_color": "Chemical",
          "ipysigma_kwarg_node_size": 600
         },
         "key": "Colforsin"
        },
        {
         "attributes": {
          "ipysigma_kwarg_node_color": "Chemical",
          "ipysigma_kwarg_node_size": 400
         },
         "key": "Contraceptives, Oral"
        },
        {
         "attributes": {
          "ipysigma_kwarg_node_color": "Chemical",
          "ipysigma_kwarg_node_size": 100
         },
         "key": "Contraceptives, Oral, Combined"
        },
        {
         "attributes": {
          "ipysigma_kwarg_node_color": "Chemical",
          "ipysigma_kwarg_node_size": 700
         },
         "key": "Crotalid Venoms"
        },
        {
         "attributes": {
          "ipysigma_kwarg_node_color": "Chemical",
          "ipysigma_kwarg_node_size": 100
         },
         "key": "cupric chloride"
        },
        {
         "attributes": {
          "ipysigma_kwarg_node_color": "Chemical",
          "ipysigma_kwarg_node_size": 100
         },
         "key": "CVS 1123"
        },
        {
         "attributes": {
          "ipysigma_kwarg_node_color": "Chemical",
          "ipysigma_kwarg_node_size": 300
         },
         "key": "Cyclic AMP"
        },
        {
         "attributes": {
          "ipysigma_kwarg_node_color": "Chemical",
          "ipysigma_kwarg_node_size": 200
         },
         "key": "Cycloheximide"
        },
        {
         "attributes": {
          "ipysigma_kwarg_node_color": "Chemical",
          "ipysigma_kwarg_node_size": 100
         },
         "key": "Cytarabine"
        },
        {
         "attributes": {
          "ipysigma_kwarg_node_color": "Chemical",
          "ipysigma_kwarg_node_size": 200
         },
         "key": "Dabigatran"
        },
        {
         "attributes": {
          "ipysigma_kwarg_node_color": "Chemical",
          "ipysigma_kwarg_node_size": 400
         },
         "key": "Dalteparin"
        },
        {
         "attributes": {
          "ipysigma_kwarg_node_color": "Chemical",
          "ipysigma_kwarg_node_size": 200
         },
         "key": "danaparoid"
        },
        {
         "attributes": {
          "ipysigma_kwarg_node_color": "Chemical",
          "ipysigma_kwarg_node_size": 200
         },
         "key": "deoxynivalenol"
        },
        {
         "attributes": {
          "ipysigma_kwarg_node_color": "Chemical",
          "ipysigma_kwarg_node_size": 200
         },
         "key": "Dermatan Sulfate"
        },
        {
         "attributes": {
          "ipysigma_kwarg_node_color": "Chemical",
          "ipysigma_kwarg_node_size": 900
         },
         "key": "Dexamethasone"
        },
        {
         "attributes": {
          "ipysigma_kwarg_node_color": "Gene",
          "ipysigma_kwarg_node_size": 13100
         },
         "key": "F5"
        },
        {
         "attributes": {
          "ipysigma_kwarg_node_color": "Chemical",
          "ipysigma_kwarg_node_size": 100
         },
         "key": "2,3-dimethoxy-1,4-naphthoquinone"
        },
        {
         "attributes": {
          "ipysigma_kwarg_node_color": "Chemical",
          "ipysigma_kwarg_node_size": 100
         },
         "key": "2,4,6-tribromophenol"
        },
        {
         "attributes": {
          "ipysigma_kwarg_node_color": "Chemical",
          "ipysigma_kwarg_node_size": 100
         },
         "key": "2,4-dinitrotoluene"
        },
        {
         "attributes": {
          "ipysigma_kwarg_node_color": "Chemical",
          "ipysigma_kwarg_node_size": 100
         },
         "key": "2-amino-2-methyl-1-propanol"
        },
        {
         "attributes": {
          "ipysigma_kwarg_node_color": "Chemical",
          "ipysigma_kwarg_node_size": 200
         },
         "key": "3,4,3',4'-tetrachlorobiphenyl"
        },
        {
         "attributes": {
          "ipysigma_kwarg_node_color": "Chemical",
          "ipysigma_kwarg_node_size": 100
         },
         "key": "4,4'-diaminodiphenylmethane"
        },
        {
         "attributes": {
          "ipysigma_kwarg_node_color": "Chemical",
          "ipysigma_kwarg_node_size": 200
         },
         "key": "abrine"
        },
        {
         "attributes": {
          "ipysigma_kwarg_node_color": "Chemical",
          "ipysigma_kwarg_node_size": 100
         },
         "key": "Antimony"
        },
        {
         "attributes": {
          "ipysigma_kwarg_node_color": "Chemical",
          "ipysigma_kwarg_node_size": 100
         },
         "key": "Antimony Potassium Tartrate"
        },
        {
         "attributes": {
          "ipysigma_kwarg_node_color": "Chemical",
          "ipysigma_kwarg_node_size": 100
         },
         "key": "Antirheumatic Agents"
        },
        {
         "attributes": {
          "ipysigma_kwarg_node_color": "Chemical",
          "ipysigma_kwarg_node_size": 500
         },
         "key": "Arsenic"
        },
        {
         "attributes": {
          "ipysigma_kwarg_node_color": "Chemical",
          "ipysigma_kwarg_node_size": 100
         },
         "key": "Arsenic Trioxide"
        },
        {
         "attributes": {
          "ipysigma_kwarg_node_color": "Chemical",
          "ipysigma_kwarg_node_size": 200
         },
         "key": "Azoxymethane"
        },
        {
         "attributes": {
          "ipysigma_kwarg_node_color": "Chemical",
          "ipysigma_kwarg_node_size": 200
         },
         "key": "Beclomethasone"
        },
        {
         "attributes": {
          "ipysigma_kwarg_node_color": "Chemical",
          "ipysigma_kwarg_node_size": 100
         },
         "key": "Benzene"
        },
        {
         "attributes": {
          "ipysigma_kwarg_node_color": "Chemical",
          "ipysigma_kwarg_node_size": 100
         },
         "key": "beta-Naphthoflavone"
        },
        {
         "attributes": {
          "ipysigma_kwarg_node_color": "Chemical",
          "ipysigma_kwarg_node_size": 400
         },
         "key": "CGP 52608"
        },
        {
         "attributes": {
          "ipysigma_kwarg_node_color": "Chemical",
          "ipysigma_kwarg_node_size": 100
         },
         "key": "Chloroprene"
        },
        {
         "attributes": {
          "ipysigma_kwarg_node_color": "Chemical",
          "ipysigma_kwarg_node_size": 200
         },
         "key": "Cholic Acids"
        },
        {
         "attributes": {
          "ipysigma_kwarg_node_color": "Chemical",
          "ipysigma_kwarg_node_size": 100
         },
         "key": "Chromium"
        },
        {
         "attributes": {
          "ipysigma_kwarg_node_color": "Chemical",
          "ipysigma_kwarg_node_size": 100
         },
         "key": "chrysene"
        },
        {
         "attributes": {
          "ipysigma_kwarg_node_color": "Chemical",
          "ipysigma_kwarg_node_size": 200
         },
         "key": "Clofibric Acid"
        },
        {
         "attributes": {
          "ipysigma_kwarg_node_color": "Chemical",
          "ipysigma_kwarg_node_size": 100
         },
         "key": "Clomiphene"
        },
        {
         "attributes": {
          "ipysigma_kwarg_node_color": "Chemical",
          "ipysigma_kwarg_node_size": 100
         },
         "key": "cyproconazole"
        },
        {
         "attributes": {
          "ipysigma_kwarg_node_color": "Chemical",
          "ipysigma_kwarg_node_size": 100
         },
         "key": "decabromobiphenyl ether"
        },
        {
         "attributes": {
          "ipysigma_kwarg_node_color": "Chemical",
          "ipysigma_kwarg_node_size": 200
         },
         "key": "Dextran Sulfate"
        },
        {
         "attributes": {
          "ipysigma_kwarg_node_color": "Gene",
          "ipysigma_kwarg_node_size": 3500
         },
         "key": "FOXD1"
        },
        {
         "attributes": {
          "ipysigma_kwarg_node_color": "Chemical",
          "ipysigma_kwarg_node_size": 100
         },
         "key": "4-(4-((5-(4,5-dimethyl-2-nitrophenyl)-2-furanyl)methylene)-4,5-dihydro-3-methyl-5-oxo-1H-pyrazol-1-yl)benzoic acid"
        },
        {
         "attributes": {
          "ipysigma_kwarg_node_color": "Chemical",
          "ipysigma_kwarg_node_size": 100
         },
         "key": "Asbestos, Crocidolite"
        },
        {
         "attributes": {
          "ipysigma_kwarg_node_color": "Chemical",
          "ipysigma_kwarg_node_size": 200
         },
         "key": "caffeic acid phenethyl ester"
        },
        {
         "attributes": {
          "ipysigma_kwarg_node_color": "Chemical",
          "ipysigma_kwarg_node_size": 100
         },
         "key": "Carbamazepine"
        },
        {
         "attributes": {
          "ipysigma_kwarg_node_color": "Chemical",
          "ipysigma_kwarg_node_size": 100
         },
         "key": "cyclopamine"
        },
        {
         "attributes": {
          "ipysigma_kwarg_node_color": "Gene",
          "ipysigma_kwarg_node_size": 2900
         },
         "key": "PADI6"
        },
        {
         "attributes": {
          "ipysigma_kwarg_node_color": "Chemical",
          "ipysigma_kwarg_node_size": 200
         },
         "key": "aflatoxin B2"
        }
       ],
       "options": {
        "multi": true,
        "type": "undirected"
       }
      },
      "edge_weight": "weight",
      "height": "500px",
      "layout": {
       "1,1-dimethylbutyl-1-deoxy-Delta(9)-THC": {
        "x": 0.9682816642147358,
        "y": 0.5924228572300914
       },
       "1,3-butadiene": {
        "x": 0.7648170805446797,
        "y": 0.93325409529744
       },
       "1,4-bis(2-(3,5-dichloropyridyloxy))benzene": {
        "x": 0.5762050567157171,
        "y": 0.8675055755423209
       },
       "1-(6-((3-methoxyestra-1,3,5(10)-trien-17-yl)amino)hexyl)-1H-pyrrole-2,5-dione": {
        "x": 0.6123738005831657,
        "y": 0.5110111826940507
       },
       "1-Methyl-3-isobutylxanthine": {
        "x": 0.24933654204787642,
        "y": 0.7908953106874579
       },
       "1-Methyl-4-phenylpyridinium": {
        "x": 0.17898877761019927,
        "y": 0.7423470400617883
       },
       "1-Naphthylisothiocyanate": {
        "x": 0.7654569574501733,
        "y": 0.2409002179776765
       },
       "1-aminomethylphosphonic acid": {
        "x": 0.49037196061553434,
        "y": 0.26763500475175406
       },
       "1-cyclopropyl-3-(3-(5-morpholin-4-ylmethyl-1H-benzoimidazol-2-yl)-1H-pyrazol-4-yl)urea": {
        "x": 0.536310160588477,
        "y": 0.6607164922702594
       },
       "16-hydroxycleroda-3,13(14)-dien-15,16-olide": {
        "x": 0.4923045147706771,
        "y": 0.7549328770522359
       },
       "2',3,3',4',5-pentachloro-4-hydroxybiphenyl": {
        "x": 0.2755987667745767,
        "y": 0.4476774839346224
       },
       "2,2',3',4,4',5-hexachlorobiphenyl": {
        "x": 0.8666364121438902,
        "y": 0.3612731622048909
       },
       "2,2',4,4'-tetrabromodiphenyl ether": {
        "x": 0.3750092524652347,
        "y": 0.43898357292952234
       },
       "2,2-bis(4-hydroxyphenyl)-1,1,1-trichloroethane": {
        "x": 0.40559004582969205,
        "y": 0.8051142792853555
       },
       "2,3-bis(3'-hydroxybenzyl)butyrolactone": {
        "x": 0.6517501069627378,
        "y": 0.3711104926111498
       },
       "2,3-dimethoxy-1,4-naphthoquinone": {
        "x": 0.10445672200321338,
        "y": 0.6987076638186362
       },
       "2,4,3',5'-tetramethoxystilbene": {
        "x": 0.2757712815880313,
        "y": 0.5792012349570547
       },
       "2,4,4'-trichlorobiphenyl": {
        "x": 0.2111467647774474,
        "y": 0.09947058602301147
       },
       "2,4,5,2',4',5'-hexachlorobiphenyl": {
        "x": 0.599929496786351,
        "y": 0.0787483076490472
       },
       "2,4,5,2',5'-pentachlorobiphenyl": {
        "x": 0.5204078971266999,
        "y": 0.5260697341972731
       },
       "2,4,6-tribromophenol": {
        "x": 0.09812998480414216,
        "y": 0.377691975525156
       },
       "2,4-Dichlorophenoxyacetic Acid": {
        "x": 0.0035618562262673785,
        "y": 0.4507044670398784
       },
       "2,4-dinitrotoluene": {
        "x": 0.4970178494422572,
        "y": 0.495828466925925
       },
       "2,5,2',5'-tetrachlorobiphenyl": {
        "x": 0.5090945503764583,
        "y": 0.9307895945490127
       },
       "2,6-dinitrotoluene": {
        "x": 0.9041081809031541,
        "y": 0.042098036065156226
       },
       "2-((3-((4-((5-(2-((3-fluorophenyl)amino)-2-oxoethyl)-1H-pyrazol-3-yl)amino)quinazolin-7-yl)oxy)propyl)(ethyl)amino)ethyl dihydrogen phosphate": {
        "x": 0.692315680725632,
        "y": 0.22264914856719326
       },
       "2-(2-amino-3-methoxyphenyl)-4H-1-benzopyran-4-one": {
        "x": 0.686974614630136,
        "y": 0.44860358368004677
       },
       "2-(4-morpholinyl)-8-phenyl-4H-1-benzopyran-4-one": {
        "x": 0.25573721555965384,
        "y": 0.4088724813190393
       },
       "2-amino-2-methyl-1-propanol": {
        "x": 0.3012258499432598,
        "y": 0.2957295742954144
       },
       "2-methyl-2H-pyrazole-3-carboxylic acid (2-methyl-4-o-tolylazophenyl)amide": {
        "x": 0.8692163042898542,
        "y": 0.057695617745493095
       },
       "2-palmitoylglycerol": {
        "x": 0.6648696591608955,
        "y": 0.2771631331049608
       },
       "3,4,3',4'-tetrachlorobiphenyl": {
        "x": 0.06865465228140445,
        "y": 0.485832237097177
       },
       "3,4,5,3',4'-pentachlorobiphenyl": {
        "x": 0.9903121819953321,
        "y": 0.8396316085367288
       },
       "3-(1H-indazol-5-yl)-N-propylimidazo(1,2-b)pyridazin-6-amine": {
        "x": 0.9388512412625218,
        "y": 0.4202011229550135
       },
       "3-dinitrobenzene": {
        "x": 0.7410964465528985,
        "y": 0.45122856636353814
       },
       "4,4'-diaminodiphenylmethane": {
        "x": 0.8860134512690901,
        "y": 0.32610402687470896
       },
       "4,4'-hexafluorisopropylidene diphenol": {
        "x": 0.46224530640672784,
        "y": 0.8837484797393445
       },
       "4-(2-thiazolylazo)resorcinol": {
        "x": 0.19290933687632567,
        "y": 0.5507513853687954
       },
       "4-(4-((5-(4,5-dimethyl-2-nitrophenyl)-2-furanyl)methylene)-4,5-dihydro-3-methyl-5-oxo-1H-pyrazol-1-yl)benzoic acid": {
        "x": 0.16731638434578375,
        "y": 0.11752271454287974
       },
       "4-(4-(N-benzoylamino)anilino)-6-methoxy-7-(3-(1-morpholino)propoxy)quinazoline": {
        "x": 0.899447997714133,
        "y": 0.9174842837776478
       },
       "4-(5-benzo(1,3)dioxol-5-yl-4-pyridin-2-yl-1H-imidazol-2-yl)benzamide": {
        "x": 0.019805458187992977,
        "y": 0.18056208415013902
       },
       "4-chloro-N-((4-(1,1-dimethylethyl)phenyl)methyl)-3-ethyl-1-methyl-1H-pyrazole-5-carboxamide": {
        "x": 0.6178053192816517,
        "y": 0.6820744741878634
       },
       "7,8-Dihydro-7,8-dihydroxybenzo(a)pyrene 9,10-oxide": {
        "x": 0.9153738228544446,
        "y": 0.8146601187658415
       },
       "8-Bromo Cyclic Adenosine Monophosphate": {
        "x": 0.4121407367902992,
        "y": 0.626088909796962
       },
       "AURKB": {
        "x": 0.15428948876230283,
        "y": 0.25273986629959766
       },
       "AZD 1152-HQPA": {
        "x": 0.20171206606954153,
        "y": 0.8150722807688516
       },
       "Acenocoumarol": {
        "x": 0.2703892041864883,
        "y": 0.6759003873954499
       },
       "Acetaminophen": {
        "x": 0.10060633047656747,
        "y": 0.2743234705841764
       },
       "Acetylcysteine": {
        "x": 0.9420932357578089,
        "y": 0.9492478535538105
       },
       "Acrylamide": {
        "x": 0.09606122757327866,
        "y": 0.9439512536142676
       },
       "Adenosine Diphosphate": {
        "x": 0.3366089801892906,
        "y": 0.5479522552199462
       },
       "Adenosine Triphosphate": {
        "x": 0.6204030890820423,
        "y": 0.7384271259826234
       },
       "Aflatoxin B1": {
        "x": 0.1641172083842761,
        "y": 0.4269046433584336
       },
       "Air Pollutants": {
        "x": 0.4216060655202712,
        "y": 0.21237739429193359
       },
       "Aldehydes": {
        "x": 0.5611797323534832,
        "y": 0.06595448019459503
       },
       "Aluminum": {
        "x": 0.9533496230125323,
        "y": 0.199213340717245
       },
       "Amiodarone": {
        "x": 0.5700675757161157,
        "y": 0.167331121021948
       },
       "Ammonium Chloride": {
        "x": 0.6212257515279458,
        "y": 0.5517787240613129
       },
       "Amphetamine": {
        "x": 0.49501496361898506,
        "y": 0.5083114116140437
       },
       "Andrographis paniculata extract": {
        "x": 0.0006169357586468933,
        "y": 0.6493680609846784
       },
       "Anthraquinones": {
        "x": 0.7578625898470147,
        "y": 0.5424202312778309
       },
       "Antimony": {
        "x": 0.5511828951054211,
        "y": 0.8901352834920004
       },
       "Antimony Potassium Tartrate": {
        "x": 0.0657166821852163,
        "y": 0.10559098875481081
       },
       "Antimycin A": {
        "x": 0.18058146654834936,
        "y": 0.770062816692311
       },
       "Antirheumatic Agents": {
        "x": 0.4451126816408968,
        "y": 0.4543807998877711
       },
       "Antithrombins": {
        "x": 0.3766023534364776,
        "y": 0.9608719454998843
       },
       "Antivenins": {
        "x": 0.19083170964051077,
        "y": 0.8026543600301865
       },
       "Apigenin": {
        "x": 0.34607396945212254,
        "y": 0.40611311793670823
       },
       "Aristolochic Acids": {
        "x": 0.6094470559659438,
        "y": 0.5631239195755232
       },
       "Arsenic": {
        "x": 0.9793765377461262,
        "y": 0.13213833148791007
       },
       "Arsenic Trioxide": {
        "x": 0.879558035304764,
        "y": 0.18108194056846033
       },
       "Asbestos, Crocidolite": {
        "x": 0.9091792135780943,
        "y": 0.8898776543658486
       },
       "Ascorbic Acid": {
        "x": 0.7038043402655391,
        "y": 0.09967838113330135
       },
       "Aspartame": {
        "x": 0.6964219615198503,
        "y": 0.04384279806058657
       },
       "Aspirin": {
        "x": 0.0865991144751445,
        "y": 0.5114111218326581
       },
       "Atorvastatin": {
        "x": 0.3967809161596783,
        "y": 0.4759617508508051
       },
       "Atrazine": {
        "x": 0.47590275347985256,
        "y": 0.29950511065293983
       },
       "Atropine": {
        "x": 0.712876237472109,
        "y": 0.541142065284711
       },
       "Azathioprine": {
        "x": 0.11947044191900856,
        "y": 0.8150828388091269
       },
       "Azoxymethane": {
        "x": 0.5844661122484873,
        "y": 0.651737074841424
       },
       "BCH 2763": {
        "x": 0.5729925766163809,
        "y": 0.22241618949871544
       },
       "Barium": {
        "x": 0.32634280265935833,
        "y": 0.8282355451299722
       },
       "Beclomethasone": {
        "x": 0.5281146658292568,
        "y": 0.7622358512070465
       },
       "Benzene": {
        "x": 0.542181635554214,
        "y": 0.4928892964858458
       },
       "Benzo(a)pyrene": {
        "x": 0.0801704442776575,
        "y": 0.8889623985522224
       },
       "Benzophenanthridines": {
        "x": 0.5234799470283731,
        "y": 0.5886583944019683
       },
       "Berberine": {
        "x": 0.13303922571723575,
        "y": 0.10672651908263761
       },
       "Bexarotene": {
        "x": 0.6524156926159063,
        "y": 0.017940354780440752
       },
       "Biphenyl Compounds": {
        "x": 0.0940819123238585,
        "y": 0.9798003234134626
       },
       "Blood Glucose": {
        "x": 0.8722176041398828,
        "y": 0.9137425090568857
       },
       "Butylated Hydroxyanisole": {
        "x": 0.638069963909722,
        "y": 0.02954554361096929
       },
       "CGP 52608": {
        "x": 0.06642860065790156,
        "y": 0.24844261542711327
       },
       "CVS 1123": {
        "x": 0.20945559184587534,
        "y": 0.1314373141055415
       },
       "Cadmium": {
        "x": 0.4053518597597751,
        "y": 0.9196346204263028
       },
       "Cadmium Chloride": {
        "x": 0.4313501350157177,
        "y": 0.3373279624240453
       },
       "Calcitriol": {
        "x": 0.13350797889140248,
        "y": 0.3716160093544817
       },
       "Calcium": {
        "x": 0.4351144943987806,
        "y": 0.9155284057374695
       },
       "Calcium Chloride": {
        "x": 0.7443937351274232,
        "y": 0.031946307307206254
       },
       "Cannabidiol": {
        "x": 0.8909586562636646,
        "y": 0.7804761440902693
       },
       "Capsaicin": {
        "x": 0.8453369719036112,
        "y": 0.7901200430560398
       },
       "Carbamates": {
        "x": 0.7703454231733452,
        "y": 0.9686263961710759
       },
       "Carbamazepine": {
        "x": 0.48247677484081747,
        "y": 0.6964013766836206
       },
       "Carbon Tetrachloride": {
        "x": 0.4370240828837012,
        "y": 0.931766257114432
       },
       "Cellulose": {
        "x": 0.8779764663382369,
        "y": 0.28667695377511426
       },
       "Cephaloridine": {
        "x": 0.08666782805599128,
        "y": 0.2989886219440247
       },
       "Chlorambucil": {
        "x": 0.3410585072683317,
        "y": 0.6542493876747228
       },
       "Chlorine": {
        "x": 0.9325978964964377,
        "y": 0.869634282498004
       },
       "Chlorodiphenyl (54% Chlorine)": {
        "x": 0.819605024303111,
        "y": 0.22530736497249074
       },
       "Chlorogenic Acid": {
        "x": 0.17252753678379742,
        "y": 0.7668350670660687
       },
       "Chloroprene": {
        "x": 0.38905841103319105,
        "y": 0.19111024330904366
       },
       "Chlorpromazine": {
        "x": 0.11453091118664206,
        "y": 0.5956884367587978
       },
       "Chlorpyrifos": {
        "x": 0.5416611905066354,
        "y": 0.515056021560535
       },
       "Cholesterol, Dietary": {
        "x": 0.34230706498514735,
        "y": 0.9590830322317722
       },
       "Cholic Acids": {
        "x": 0.8092385325174376,
        "y": 0.5939009270601753
       },
       "Choline": {
        "x": 0.5369673799630067,
        "y": 0.05200697601704009
       },
       "Chromium": {
        "x": 0.5336550016626458,
        "y": 0.21493327628421424
       },
       "Cidofovir": {
        "x": 0.33234561936138485,
        "y": 0.21798961047452903
       },
       "Cisplatin": {
        "x": 0.4092041733941663,
        "y": 0.8906094477327494
       },
       "Clobazam": {
        "x": 0.7023505871707253,
        "y": 0.8107077467290897
       },
       "Clobetasol": {
        "x": 0.9098890304369359,
        "y": 0.6390804198803987
       },
       "Clodronic Acid": {
        "x": 0.08694571560555965,
        "y": 0.5327989938263605
       },
       "Clofibrate": {
        "x": 0.2990249488496263,
        "y": 0.961216331141517
       },
       "Clofibric Acid": {
        "x": 0.7876615592009044,
        "y": 0.5389204228639888
       },
       "Clomiphene": {
        "x": 0.9238474058685234,
        "y": 0.5128892682481622
       },
       "Clopidogrel": {
        "x": 0.8098469586159247,
        "y": 0.8072027380607373
       },
       "Cobalt": {
        "x": 0.3430508871659416,
        "y": 0.174196779750582
       },
       "Colchicine": {
        "x": 0.9654880339006194,
        "y": 0.46456103859458114
       },
       "Colforsin": {
        "x": 0.6071941396768561,
        "y": 0.4967555388206644
       },
       "Contraceptives, Oral": {
        "x": 0.8900373670567566,
        "y": 0.22333445327658788
       },
       "Contraceptives, Oral, Combined": {
        "x": 0.9086840950265436,
        "y": 0.8308527960396658
       },
       "Copper": {
        "x": 0.9905457657693613,
        "y": 0.3734914833920755
       },
       "Copper Sulfate": {
        "x": 0.995400247777354,
        "y": 0.8220316600354676
       },
       "Corticosterone": {
        "x": 0.8537345095497052,
        "y": 0.3477818687987646
       },
       "Coumestrol": {
        "x": 0.002520173828169123,
        "y": 0.37155097548884203
       },
       "Crotalid Venoms": {
        "x": 0.09538982308203495,
        "y": 0.5313440992995593
       },
       "Cuprizone": {
        "x": 0.16741275271244022,
        "y": 0.7091321212008789
       },
       "Curcumin": {
        "x": 0.6089704252413558,
        "y": 0.0729123419694472
       },
       "Cyclic AMP": {
        "x": 0.19131297753119456,
        "y": 0.9866479529849417
       },
       "Cycloheximide": {
        "x": 0.6374370711105066,
        "y": 0.7857988671481507
       },
       "Cyclophosphamide": {
        "x": 0.30820623270812464,
        "y": 0.9184414208844136
       },
       "Cyclosporine": {
        "x": 0.9832358566814454,
        "y": 0.954883282313717
       },
       "Cytarabine": {
        "x": 0.981148136354926,
        "y": 0.8565776853751432
       },
       "D-Aspartic Acid": {
        "x": 0.1786763377304173,
        "y": 0.529026521014159
       },
       "Dabigatran": {
        "x": 0.5354190288228017,
        "y": 0.5666485018644499
       },
       "Dalteparin": {
        "x": 0.10029179571236393,
        "y": 0.7648608829378661
       },
       "Dasatinib": {
        "x": 0.7915892851341129,
        "y": 0.8152450105875191
       },
       "Demecolcine": {
        "x": 0.6079758049027818,
        "y": 0.4147243460340405
       },
       "Dermatan Sulfate": {
        "x": 0.6449164335213645,
        "y": 0.7726834515432437
       },
       "Dexamethasone": {
        "x": 0.5895919526526902,
        "y": 0.182366372425864
       },
       "Dextran Sulfate": {
        "x": 0.7336650816563451,
        "y": 0.1474147462341018
       },
       "F2": {
        "x": 0.13822133094998462,
        "y": 0.41886767523198437
       },
       "F5": {
        "x": 0.23343750092403875,
        "y": 0.0793798892622691
       },
       "FOXD1": {
        "x": 0.15718274415116507,
        "y": 0.9331259260092729
       },
       "PADI6": {
        "x": 0.4208253483218622,
        "y": 0.45304634993554443
       },
       "abrine": {
        "x": 0.8967515935578373,
        "y": 0.06486770863797377
       },
       "acetamide": {
        "x": 0.9986165908231301,
        "y": 0.7337777626358047
       },
       "acetochlor": {
        "x": 0.061481996019859354,
        "y": 0.14160521962428996
       },
       "adefovir dipivoxil": {
        "x": 0.769957924239728,
        "y": 0.46211034020112557
       },
       "aflatoxin B2": {
        "x": 0.9735703360731158,
        "y": 0.4464422547746454
       },
       "amphotericin B, deoxycholate drug combination": {
        "x": 0.5115069821068448,
        "y": 0.5906848204878906
       },
       "apigenin-6,8-di-C-glycopyranoside": {
        "x": 0.47259072517227635,
        "y": 0.3202476464642994
       },
       "argatroban": {
        "x": 0.5354535435484442,
        "y": 0.9080594460793776
       },
       "aristolochic acid I": {
        "x": 0.10310744558847995,
        "y": 0.6240892465544007
       },
       "arsenite": {
        "x": 0.26073010035072935,
        "y": 0.5772736573669458
       },
       "aspalathin": {
        "x": 0.6584241468125627,
        "y": 0.6170823669025413
       },
       "bardoxolone methyl": {
        "x": 0.4261402739571129,
        "y": 0.5660478502537173
       },
       "belinostat": {
        "x": 0.48101948371231,
        "y": 0.5822336811257578
       },
       "benzyloxycarbonylleucyl-leucyl-leucine aldehyde": {
        "x": 0.5109301427074232,
        "y": 0.13142735228135569
       },
       "beta-Naphthoflavone": {
        "x": 0.7966384670829816,
        "y": 0.030989978514580165
       },
       "bis(4-hydroxyphenyl)sulfone": {
        "x": 0.22504399193079747,
        "y": 0.17069927527201634
       },
       "bisphenol A": {
        "x": 0.7457129553372983,
        "y": 0.9227777212739288
       },
       "bisphenol F": {
        "x": 0.1725921289717202,
        "y": 0.7725884784871455
       },
       "bivalirudin": {
        "x": 0.3043316596603089,
        "y": 0.01973667646227974
       },
       "bothrojaracin": {
        "x": 0.20749573313703237,
        "y": 0.6358137229206182
       },
       "butylparaben": {
        "x": 0.7292235531180811,
        "y": 0.5155065772133505
       },
       "butyraldehyde": {
        "x": 0.2495581547676905,
        "y": 0.25232152384685436
       },
       "caffeic acid phenethyl ester": {
        "x": 0.9341843285972472,
        "y": 0.6796310764564362
       },
       "calmidazolium": {
        "x": 0.2447752044531727,
        "y": 0.9459655424798371
       },
       "catechol": {
        "x": 0.9526145944822194,
        "y": 0.8502799941548226
       },
       "cerivastatin": {
        "x": 0.7023967767744554,
        "y": 0.2821784114346103
       },
       "chloroacetaldehyde": {
        "x": 0.1955905195104549,
        "y": 0.08803014045009362
       },
       "chrysene": {
        "x": 0.30441073957312076,
        "y": 0.2869445917913932
       },
       "clothianidin": {
        "x": 0.32442552602240915,
        "y": 0.35705896447078206
       },
       "cobaltous chloride": {
        "x": 0.303291879600934,
        "y": 0.30467321437928235
       },
       "copper-1,10-phenanthroline": {
        "x": 0.9846899877176596,
        "y": 0.7087176306000762
       },
       "cupric chloride": {
        "x": 0.26573770511922123,
        "y": 0.26495410237952705
       },
       "cupric oxide": {
        "x": 0.681654775995279,
        "y": 0.22589119062398147
       },
       "cyclopamine": {
        "x": 0.48032518063696344,
        "y": 0.2694907059443936
       },
       "cyproconazole": {
        "x": 0.017951713611385527,
        "y": 0.13580456318051673
       },
       "dan-shen root extract": {
        "x": 0.6670957342420621,
        "y": 0.0012274136212179678
       },
       "danaparoid": {
        "x": 0.6294287229699511,
        "y": 0.05177602700178268
       },
       "decabromobiphenyl ether": {
        "x": 0.3492145680139079,
        "y": 0.4375592493231707
       },
       "decamethrin": {
        "x": 0.7367335326960082,
        "y": 0.4996813379824222
       },
       "deoxynivalenol": {
        "x": 0.11385689758522984,
        "y": 0.8820538905301991
       }
      },
      "layout_settings": null,
      "max_categorical_colors": 10,
      "name": null,
      "node_metrics": {},
      "program_settings": {},
      "renderer_settings": {
       "defaultEdgeType": "rectangle",
       "defaultNodeType": "point",
       "enableEdgeClickEvents": false,
       "enableEdgeHoverEvents": false,
       "hideEdgesOnMove": false,
       "labelDensity": 10000,
       "labelFont": "sans-serif",
       "labelGridCellSize": 250,
       "labelRenderedSizeThreshold": 0,
       "renderEdgeLabels": true,
       "zIndex": true
      },
      "selected_edge": null,
      "selected_edge_category_values": null,
      "selected_node": null,
      "selected_node_category_values": null,
      "snapshot": null,
      "start_layout": false,
      "start_layout_for_seconds": null,
      "sync_key": null,
      "sync_targets": [
       "layout",
       "camera",
       "selection",
       "hover"
      ],
      "ui_settings": {
       "hideInfoPanel": false,
       "hideSearch": false
      },
      "visual_variables": {
       "edgeColor": {
        "attribute": "ipysigma_kwarg_edge_color",
        "default": "#ccc",
        "type": "category"
       },
       "edgeCurveness": {
        "default": 0.25,
        "type": "constant"
       },
       "edgeLabel": {
        "attribute": "label",
        "default": null,
        "type": "raw"
       },
       "edgeSize": {
        "attribute": "size",
        "default": 0.5,
        "range": [
         0.5,
         10
        ],
        "type": "continuous"
       },
       "nodeBorderColor": {
        "default": null,
        "type": "disabled"
       },
       "nodeBorderRatio": {
        "default": null,
        "type": "disabled"
       },
       "nodeBorderSize": {
        "default": 1,
        "type": "constant"
       },
       "nodeColor": {
        "attribute": "ipysigma_kwarg_node_color",
        "default": "#999",
        "type": "category"
       },
       "nodeColorSaturation": {
        "default": null,
        "type": "disabled"
       },
       "nodeHaloColor": {
        "default": "red",
        "type": "constant"
       },
       "nodeHaloSize": {
        "default": null,
        "type": "disabled"
       },
       "nodeLabel": {
        "attribute": "label",
        "default": null,
        "type": "raw"
       },
       "nodeLabelColor": {
        "default": "#000",
        "type": "constant"
       },
       "nodeLabelSize": {
        "default": 12,
        "type": "constant"
       },
       "nodePictogram": {
        "default": null,
        "type": "disabled"
       },
       "nodePictogramColor": {
        "default": "#000",
        "type": "constant"
       },
       "nodeShape": {
        "default": null,
        "type": "disabled"
       },
       "nodeSize": {
        "attribute": "ipysigma_kwarg_node_size",
        "default": 3,
        "range": [
         3,
         15
        ],
        "type": "continuous"
       }
      }
     }
    },
    "f05026b8a20f4102b267fe3e49e07895": {
     "model_module": "@jupyter-widgets/controls",
     "model_module_version": "1.5.0",
     "model_name": "ComboboxModel",
     "state": {
      "_dom_classes": [],
      "_model_module": "@jupyter-widgets/controls",
      "_model_module_version": "1.5.0",
      "_model_name": "ComboboxModel",
      "_view_count": null,
      "_view_module": "@jupyter-widgets/controls",
      "_view_module_version": "1.5.0",
      "_view_name": "ComboboxView",
      "continuous_update": true,
      "description": "Select Disease:",
      "description_tooltip": null,
      "disabled": false,
      "ensure_option": false,
      "layout": "IPY_MODEL_5074401a6ea149ca8aa3b51c79d53234",
      "options": [
       "Dysprothrombinemia",
       "Hypoprothrombinemia",
       "Pregnancy loss",
       "Thrombophilia",
       "recurrent pregnancy loss"
      ],
      "placeholder": "​",
      "style": "IPY_MODEL_9c021cd754f9474386c817fdc5efcb0a",
      "value": ""
     }
    },
    "f1f88283ef4446a899779ef062ccb496": {
     "model_module": "@jupyter-widgets/controls",
     "model_module_version": "1.5.0",
     "model_name": "ButtonStyleModel",
     "state": {
      "_model_module": "@jupyter-widgets/controls",
      "_model_module_version": "1.5.0",
      "_model_name": "ButtonStyleModel",
      "_view_count": null,
      "_view_module": "@jupyter-widgets/base",
      "_view_module_version": "1.2.0",
      "_view_name": "StyleView",
      "button_color": "#51ABAC",
      "font_weight": ""
     }
    }
   }
  }
 },
 "nbformat": 4,
 "nbformat_minor": 4
}
